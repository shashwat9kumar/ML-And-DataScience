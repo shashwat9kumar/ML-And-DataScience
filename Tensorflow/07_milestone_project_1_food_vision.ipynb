{
  "nbformat": 4,
  "nbformat_minor": 0,
  "metadata": {
    "colab": {
      "name": "07_milestone_project_1_food_vision.ipynb",
      "provenance": [],
      "authorship_tag": "ABX9TyMu9oRk1eZlXZrdwiNs8XLC",
      "include_colab_link": true
    },
    "kernelspec": {
      "name": "python3",
      "display_name": "Python 3"
    },
    "language_info": {
      "name": "python"
    },
    "accelerator": "GPU"
  },
  "cells": [
    {
      "cell_type": "markdown",
      "metadata": {
        "id": "view-in-github",
        "colab_type": "text"
      },
      "source": [
        "<a href=\"https://colab.research.google.com/github/shashwat9kumar/ML-And-DataScience/blob/master/Tensorflow/07_milestone_project_1_food_vision.ipynb\" target=\"_parent\"><img src=\"https://colab.research.google.com/assets/colab-badge.svg\" alt=\"Open In Colab\"/></a>"
      ]
    },
    {
      "cell_type": "markdown",
      "metadata": {
        "id": "LEdi5vfnypfg"
      },
      "source": [
        "# Milestone Project: Food 101"
      ]
    },
    {
      "cell_type": "markdown",
      "metadata": {
        "id": "mK3LYpfEyvcJ"
      },
      "source": [
        "## Check GPU\n",
        "\n",
        "* Google collab offers free GPU's but not all of them are compatibel with **mixed precision training**.\n",
        "\n",
        "Google Colab offers:\n",
        "* K80 (not compatible)\n",
        "* P100 (not compatible)\n",
        "* Tesla T4 (compatible)\n",
        "\n",
        "Knowing this, in order to use mixed precision training we need access to a Tesla T4 (from within Google Collab) or if we're working on our own hardware, we need a GPU of score of 7+."
      ]
    },
    {
      "cell_type": "code",
      "metadata": {
        "colab": {
          "base_uri": "https://localhost:8080/"
        },
        "id": "SwAkcIsnxl8u",
        "outputId": "8a89ac5a-0388-40de-a332-8fc97f15b36d"
      },
      "source": [
        "!nvidia-smi -L "
      ],
      "execution_count": null,
      "outputs": [
        {
          "output_type": "stream",
          "text": [
            "GPU 0: Tesla T4 (UUID: GPU-0dd1c9bb-7466-8cc6-8790-8bc840d61401)\n"
          ],
          "name": "stdout"
        }
      ]
    },
    {
      "cell_type": "markdown",
      "metadata": {
        "id": "uUSMG76gxSD8"
      },
      "source": [
        "## Get Helper functions\n",
        "\n",
        "The script is available at: https://raw.githubusercontent.com/mrdbourke/tensorflow-deep-learning/main/extras/helper_functions.py"
      ]
    },
    {
      "cell_type": "code",
      "metadata": {
        "colab": {
          "base_uri": "https://localhost:8080/"
        },
        "id": "7Ag8dP7l0Fps",
        "outputId": "d1d6f67a-1728-4b99-c2a2-191b97489e64"
      },
      "source": [
        "# Download the helper fnctions script\n",
        "!wget https://raw.githubusercontent.com/mrdbourke/tensorflow-deep-learning/main/extras/helper_functions.py"
      ],
      "execution_count": null,
      "outputs": [
        {
          "output_type": "stream",
          "text": [
            "--2021-07-17 04:55:42--  https://raw.githubusercontent.com/mrdbourke/tensorflow-deep-learning/main/extras/helper_functions.py\n",
            "Resolving raw.githubusercontent.com (raw.githubusercontent.com)... 185.199.108.133, 185.199.111.133, 185.199.109.133, ...\n",
            "Connecting to raw.githubusercontent.com (raw.githubusercontent.com)|185.199.108.133|:443... connected.\n",
            "HTTP request sent, awaiting response... 200 OK\n",
            "Length: 10246 (10K) [text/plain]\n",
            "Saving to: ‘helper_functions.py’\n",
            "\n",
            "\rhelper_functions.py   0%[                    ]       0  --.-KB/s               \rhelper_functions.py 100%[===================>]  10.01K  --.-KB/s    in 0s      \n",
            "\n",
            "2021-07-17 04:55:42 (92.2 MB/s) - ‘helper_functions.py’ saved [10246/10246]\n",
            "\n"
          ],
          "name": "stdout"
        }
      ]
    },
    {
      "cell_type": "code",
      "metadata": {
        "id": "O70ba6WE0fUJ"
      },
      "source": [
        "# Import series of helper functions for the notebook\n",
        "from helper_functions import  create_tensorboard_callback, plot_loss_curves, compare_historys"
      ],
      "execution_count": null,
      "outputs": []
    },
    {
      "cell_type": "markdown",
      "metadata": {
        "id": "ziGs4Mfx03-s"
      },
      "source": [
        "## Use tensorflow Datasets to download data"
      ]
    },
    {
      "cell_type": "code",
      "metadata": {
        "id": "Rg26YUEp1EeU"
      },
      "source": [
        "# get Tensorflow Datasets\n",
        "import tensorflow_datasets as tfds"
      ],
      "execution_count": null,
      "outputs": []
    },
    {
      "cell_type": "code",
      "metadata": {
        "colab": {
          "base_uri": "https://localhost:8080/"
        },
        "id": "7JEtrHlP7QaV",
        "outputId": "d8c827d5-e175-4d74-dcd3-e2bd242c3900"
      },
      "source": [
        "# List all available datasets\n",
        "datasets_list = tfds.list_builders() # get all available datasets in TFDS\n",
        "print (\"food101\" in datasets_list)"
      ],
      "execution_count": null,
      "outputs": [
        {
          "output_type": "stream",
          "text": [
            "True\n"
          ],
          "name": "stdout"
        }
      ]
    },
    {
      "cell_type": "code",
      "metadata": {
        "id": "wI6nH10w7dRp"
      },
      "source": [
        "# Load in the data (takes 5-6 minutes)\n",
        "(train_data, test_data), ds_info = tfds.load(name=\"food101\",\n",
        "                                    split=[\"train\", \"validation\"],\n",
        "                                    shuffle_files=True,\n",
        "                                    as_supervised = True, #data gets returned in a tuple format (data, label)\n",
        "                                    with_info = True)"
      ],
      "execution_count": null,
      "outputs": []
    },
    {
      "cell_type": "markdown",
      "metadata": {
        "id": "Rqx8Of0u_0NH"
      },
      "source": [
        "## Exploring the Food 101 data from Tensorflow Datasets\n",
        "\n",
        "To become one with the data, we want to find:\n",
        "* class names\n",
        "* The shape of our input data (image tensors)\n",
        "* The datatype of our input data\n",
        "* What the labels look like (eg: are they one hot encoded or are they label encoded)\n",
        "* Do the labels matchup with the class names\n"
      ]
    },
    {
      "cell_type": "code",
      "metadata": {
        "colab": {
          "base_uri": "https://localhost:8080/"
        },
        "id": "_bqMrpR68hD4",
        "outputId": "6fa41aca-b19c-4fad-d473-857481a357a2"
      },
      "source": [
        "#Features of Food 101 from TFDS\n",
        "ds_info.features"
      ],
      "execution_count": null,
      "outputs": [
        {
          "output_type": "execute_result",
          "data": {
            "text/plain": [
              "FeaturesDict({\n",
              "    'image': Image(shape=(None, None, 3), dtype=tf.uint8),\n",
              "    'label': ClassLabel(shape=(), dtype=tf.int64, num_classes=101),\n",
              "})"
            ]
          },
          "metadata": {
            "tags": []
          },
          "execution_count": 10
        }
      ]
    },
    {
      "cell_type": "code",
      "metadata": {
        "colab": {
          "base_uri": "https://localhost:8080/"
        },
        "id": "as1qvKG1_Vab",
        "outputId": "36d5a885-c6b2-4a73-f348-bde8a867487c"
      },
      "source": [
        "# Get the class names\n",
        "class_names = ds_info.features[\"label\"].names\n",
        "class_names[:10]"
      ],
      "execution_count": null,
      "outputs": [
        {
          "output_type": "execute_result",
          "data": {
            "text/plain": [
              "['apple_pie',\n",
              " 'baby_back_ribs',\n",
              " 'baklava',\n",
              " 'beef_carpaccio',\n",
              " 'beef_tartare',\n",
              " 'beet_salad',\n",
              " 'beignets',\n",
              " 'bibimbap',\n",
              " 'bread_pudding',\n",
              " 'breakfast_burrito']"
            ]
          },
          "metadata": {
            "tags": []
          },
          "execution_count": 11
        }
      ]
    },
    {
      "cell_type": "code",
      "metadata": {
        "id": "tw8msqONAomp"
      },
      "source": [
        "# Take one sample of the train data\n",
        "train_one_sample = train_data.take(1) # samples are in format (image tesnor, label)"
      ],
      "execution_count": null,
      "outputs": []
    },
    {
      "cell_type": "code",
      "metadata": {
        "colab": {
          "base_uri": "https://localhost:8080/"
        },
        "id": "WcNIvW1jAui7",
        "outputId": "f302a8bb-184f-4b88-b546-9607877d6e8e"
      },
      "source": [
        "# What does one sample of our training data look like?\n",
        "train_one_sample"
      ],
      "execution_count": null,
      "outputs": [
        {
          "output_type": "execute_result",
          "data": {
            "text/plain": [
              "<TakeDataset shapes: ((None, None, 3), ()), types: (tf.uint8, tf.int64)>"
            ]
          },
          "metadata": {
            "tags": []
          },
          "execution_count": 15
        }
      ]
    },
    {
      "cell_type": "code",
      "metadata": {
        "id": "q93cNb1BA_GM"
      },
      "source": [
        ""
      ],
      "execution_count": null,
      "outputs": []
    }
  ]
}