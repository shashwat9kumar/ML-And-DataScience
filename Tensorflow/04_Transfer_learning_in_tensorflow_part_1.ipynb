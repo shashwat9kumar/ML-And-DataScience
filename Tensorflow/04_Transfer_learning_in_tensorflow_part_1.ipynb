{
  "nbformat": 4,
  "nbformat_minor": 0,
  "metadata": {
    "colab": {
      "name": "04-Transfer-learning-in-tensorflow-part-1.ipynb",
      "provenance": [],
      "authorship_tag": "ABX9TyPzK7ihxwHd5VIVBazY7fXl",
      "include_colab_link": true
    },
    "kernelspec": {
      "name": "python3",
      "display_name": "Python 3"
    },
    "language_info": {
      "name": "python"
    },
    "accelerator": "GPU"
  },
  "cells": [
    {
      "cell_type": "markdown",
      "metadata": {
        "id": "view-in-github",
        "colab_type": "text"
      },
      "source": [
        "<a href=\"https://colab.research.google.com/github/shashwat9kumar/ML-And-DataScience/blob/master/Tensorflow/04_Transfer_learning_in_tensorflow_part_1.ipynb\" target=\"_parent\"><img src=\"https://colab.research.google.com/assets/colab-badge.svg\" alt=\"Open In Colab\"/></a>"
      ]
    },
    {
      "cell_type": "markdown",
      "metadata": {
        "id": "_4eOrBk9hcG5"
      },
      "source": [
        "# Transer Learning with Tensorflow Part 1: Feature Extraction\n",
        "\n",
        "\n",
        "Transfer Learning is leveraging a working model's existing architecture and learned patterns for our own problems\n",
        "\n",
        "There are 2 main benefits:\n",
        "1. Can leverage an existing neural network architecture proven to work on problems similar to our\n",
        "2. Can leverage a working neural network architecture which is already learned patterns on similar data to our own, then we can adapt those patterns to our own data\n"
      ]
    },
    {
      "cell_type": "code",
      "metadata": {
        "colab": {
          "base_uri": "https://localhost:8080/"
        },
        "id": "orrVSHAwjlvI",
        "outputId": "57b28fe2-d3b3-436c-ca6a-e943d3e54f33"
      },
      "source": [
        "# Are we using a gpu?\n",
        "!nvidia-smi"
      ],
      "execution_count": 1,
      "outputs": [
        {
          "output_type": "stream",
          "text": [
            "Wed Jun  9 16:04:28 2021       \n",
            "+-----------------------------------------------------------------------------+\n",
            "| NVIDIA-SMI 465.27       Driver Version: 460.32.03    CUDA Version: 11.2     |\n",
            "|-------------------------------+----------------------+----------------------+\n",
            "| GPU  Name        Persistence-M| Bus-Id        Disp.A | Volatile Uncorr. ECC |\n",
            "| Fan  Temp  Perf  Pwr:Usage/Cap|         Memory-Usage | GPU-Util  Compute M. |\n",
            "|                               |                      |               MIG M. |\n",
            "|===============================+======================+======================|\n",
            "|   0  Tesla P100-PCIE...  Off  | 00000000:00:04.0 Off |                    0 |\n",
            "| N/A   47C    P0    28W / 250W |      0MiB / 16280MiB |      0%      Default |\n",
            "|                               |                      |                  N/A |\n",
            "+-------------------------------+----------------------+----------------------+\n",
            "                                                                               \n",
            "+-----------------------------------------------------------------------------+\n",
            "| Processes:                                                                  |\n",
            "|  GPU   GI   CI        PID   Type   Process name                  GPU Memory |\n",
            "|        ID   ID                                                   Usage      |\n",
            "|=============================================================================|\n",
            "|  No running processes found                                                 |\n",
            "+-----------------------------------------------------------------------------+\n"
          ],
          "name": "stdout"
        }
      ]
    },
    {
      "cell_type": "markdown",
      "metadata": {
        "id": "rlG87sfuj4WW"
      },
      "source": [
        "## Downloading and becoming one with the data"
      ]
    },
    {
      "cell_type": "code",
      "metadata": {
        "colab": {
          "base_uri": "https://localhost:8080/"
        },
        "id": "LSt7GphckIa2",
        "outputId": "973cf198-d8b2-49c0-d0dc-86fde0430a5e"
      },
      "source": [
        "# Get data (10% of 10 food classes from FOOD101)\n",
        "\n",
        "import zipfile\n",
        "\n",
        "\n",
        "# Download the data\n",
        "!wget https://storage.googleapis.com/ztm_tf_course/food_vision/10_food_classes_10_percent.zip\n",
        "\n",
        "# Unzip the downloaded file\n",
        "zip_ref = zipfile.ZipFile(\"10_food_classes_10_percent.zip\")\n",
        "zip_ref.extractall()\n",
        "zip_ref.close()"
      ],
      "execution_count": 2,
      "outputs": [
        {
          "output_type": "stream",
          "text": [
            "--2021-06-09 16:04:29--  https://storage.googleapis.com/ztm_tf_course/food_vision/10_food_classes_10_percent.zip\n",
            "Resolving storage.googleapis.com (storage.googleapis.com)... 74.125.206.128, 64.233.167.128, 64.233.166.128, ...\n",
            "Connecting to storage.googleapis.com (storage.googleapis.com)|74.125.206.128|:443... connected.\n",
            "HTTP request sent, awaiting response... 200 OK\n",
            "Length: 168546183 (161M) [application/zip]\n",
            "Saving to: ‘10_food_classes_10_percent.zip’\n",
            "\n",
            "10_food_classes_10_ 100%[===================>] 160.74M  42.4MB/s    in 3.8s    \n",
            "\n",
            "2021-06-09 16:04:34 (42.4 MB/s) - ‘10_food_classes_10_percent.zip’ saved [168546183/168546183]\n",
            "\n"
          ],
          "name": "stdout"
        }
      ]
    },
    {
      "cell_type": "code",
      "metadata": {
        "colab": {
          "base_uri": "https://localhost:8080/"
        },
        "id": "_juSH1AtkclO",
        "outputId": "f14e8f35-acf7-4e36-a06e-43eb913fb02e"
      },
      "source": [
        "# How many images in each folder\n",
        "import os\n",
        "\n",
        "# walk through 10 percent data directory and list the files\n",
        "for dirpath, dirnames, filenames in os.walk(\"10_food_classes_10_percent\"):\n",
        "    print(f\"There are {len(dirnames)} directories and {len(filenames)} images in `{dirpath}`\")"
      ],
      "execution_count": 3,
      "outputs": [
        {
          "output_type": "stream",
          "text": [
            "There are 2 directories and 0 images in `10_food_classes_10_percent`\n",
            "There are 10 directories and 0 images in `10_food_classes_10_percent/train`\n",
            "There are 0 directories and 75 images in `10_food_classes_10_percent/train/ice_cream`\n",
            "There are 0 directories and 75 images in `10_food_classes_10_percent/train/hamburger`\n",
            "There are 0 directories and 75 images in `10_food_classes_10_percent/train/fried_rice`\n",
            "There are 0 directories and 75 images in `10_food_classes_10_percent/train/ramen`\n",
            "There are 0 directories and 75 images in `10_food_classes_10_percent/train/sushi`\n",
            "There are 0 directories and 75 images in `10_food_classes_10_percent/train/steak`\n",
            "There are 0 directories and 75 images in `10_food_classes_10_percent/train/chicken_curry`\n",
            "There are 0 directories and 75 images in `10_food_classes_10_percent/train/grilled_salmon`\n",
            "There are 0 directories and 75 images in `10_food_classes_10_percent/train/pizza`\n",
            "There are 0 directories and 75 images in `10_food_classes_10_percent/train/chicken_wings`\n",
            "There are 10 directories and 0 images in `10_food_classes_10_percent/test`\n",
            "There are 0 directories and 250 images in `10_food_classes_10_percent/test/ice_cream`\n",
            "There are 0 directories and 250 images in `10_food_classes_10_percent/test/hamburger`\n",
            "There are 0 directories and 250 images in `10_food_classes_10_percent/test/fried_rice`\n",
            "There are 0 directories and 250 images in `10_food_classes_10_percent/test/ramen`\n",
            "There are 0 directories and 250 images in `10_food_classes_10_percent/test/sushi`\n",
            "There are 0 directories and 250 images in `10_food_classes_10_percent/test/steak`\n",
            "There are 0 directories and 250 images in `10_food_classes_10_percent/test/chicken_curry`\n",
            "There are 0 directories and 250 images in `10_food_classes_10_percent/test/grilled_salmon`\n",
            "There are 0 directories and 250 images in `10_food_classes_10_percent/test/pizza`\n",
            "There are 0 directories and 250 images in `10_food_classes_10_percent/test/chicken_wings`\n"
          ],
          "name": "stdout"
        }
      ]
    },
    {
      "cell_type": "markdown",
      "metadata": {
        "id": "I6ns3bQc0nkf"
      },
      "source": [
        "## Creating data loaders (preparing the data)\n",
        "\n",
        "We'll use the ImageDataGenerator class to load in our images in batches"
      ]
    },
    {
      "cell_type": "code",
      "metadata": {
        "colab": {
          "base_uri": "https://localhost:8080/"
        },
        "id": "GDe0e1S51DZ6",
        "outputId": "add0ca40-5f86-4d74-8f8f-7b878854d0c9"
      },
      "source": [
        "# Set up the data inputs\n",
        "from tensorflow.keras.preprocessing.image import ImageDataGenerator\n",
        "\n",
        "IMAGE_SHAPE = (224,224)\n",
        "BATCH_SIZE=32\n",
        "\n",
        "train_dir = \"10_food_classes_10_percent/train\"\n",
        "test_dir = \"10_food_classes_10_percent/test\"\n",
        "\n",
        "train_datagen = ImageDataGenerator(rescale=1/255.)\n",
        "test_datagen = ImageDataGenerator(rescale=1/255.)\n",
        "\n",
        "print(\"Training Images:\")\n",
        "train_data_10_percent = train_datagen.flow_from_directory(train_dir,\n",
        "                                                          target_size=IMAGE_SHAPE,\n",
        "                                                          batch_size = BATCH_SIZE,\n",
        "                                                          class_mode='categorical')\n",
        "\n",
        "print(\"Testing Images:\")\n",
        "test_data = train_datagen.flow_from_directory(test_dir,\n",
        "                                                          target_size=IMAGE_SHAPE,\n",
        "                                                          batch_size = BATCH_SIZE,\n",
        "                                                          class_mode='categorical')"
      ],
      "execution_count": 4,
      "outputs": [
        {
          "output_type": "stream",
          "text": [
            "Training Images:\n",
            "Found 750 images belonging to 10 classes.\n",
            "Testing Images:\n",
            "Found 2500 images belonging to 10 classes.\n"
          ],
          "name": "stdout"
        }
      ]
    },
    {
      "cell_type": "markdown",
      "metadata": {
        "id": "Vm4uqJJz2wH_"
      },
      "source": [
        "## Setting up callbacks (things to run whilst our model trains)\n",
        "\n",
        "\n",
        "Callbacks are extra functionality you can add to your models to be performed during or after training. Some of the most popular callbacks:\n",
        "\n",
        "* Tracking experiments with the Tensorboard callback\n",
        "* Model checkpoint with ModelCheckpoint callback\n",
        "* Stopping a model from training (before it trains too long and overfits) with EarlyStopping callbacks\n",
        "\n"
      ]
    },
    {
      "cell_type": "code",
      "metadata": {
        "id": "xKZ6hhcb3rr_"
      },
      "source": [
        "# Create a Tensorboard callback ( functionize it because we need to create a new one \n",
        "# each time we create a new model)\n",
        "\n",
        "import datetime\n",
        "\n",
        "def create_tensorboard_callback(dir_name, experiment_name):\n",
        "    log_dir = dir_name + \"/\" + experiment_name + \"/\" + datetime.datetime.now().strftime(\"%Y%m%d-%H%M%S\")\n",
        "    tensorboard_callback = tf.keras.callbacks.TensorBoard(log_dir=log_dir)\n",
        "    print(f\"Saving Tensorboard log files to: {log_dir}\")\n",
        "    return tensorboard_callback\n"
      ],
      "execution_count": 5,
      "outputs": []
    },
    {
      "cell_type": "markdown",
      "metadata": {
        "id": "7uxU1D9E629C"
      },
      "source": [
        "We have customized the directory where our TensorBoard logs (model training metrics) get saved to whereever we like"
      ]
    },
    {
      "cell_type": "markdown",
      "metadata": {
        "id": "8r-iK4aw6y9o"
      },
      "source": [
        "## Creating model using TensorFlow Hub\n",
        "\n",
        "\n",
        "In the past we have used tensorflow to create models layer by layer from scratch.\n",
        "\n",
        "Now were going to do a very similar process, just except the majority of our model's layers are going to  come from Tensorflow Hub\n",
        "\n",
        "We can access the pretrained models on: https://tfhub.dev/\n",
        "\n",
        "Browsing the Tensorflow Hub page and sorting for image classification, we found the following feature vector model link:\n",
        "https://tfhub.dev/tensorflow/efficientnet/b0/feature-vector/1"
      ]
    },
    {
      "cell_type": "code",
      "metadata": {
        "id": "KQrZ-39e7QV0"
      },
      "source": [
        "# Let's compare the following 2 models\n",
        "resnet_url = \"https://tfhub.dev/google/imagenet/resnet_v2_50/feature_vector/5\"\n",
        "\n",
        "efficientnet_url = \"https://tfhub.dev/tensorflow/efficientnet/b0/feature-vector/1\""
      ],
      "execution_count": 6,
      "outputs": []
    },
    {
      "cell_type": "code",
      "metadata": {
        "id": "cV2v339QA6dp"
      },
      "source": [
        "# Import dependencies\n",
        "import tensorflow as tf\n",
        "import tensorflow_hub as hub\n",
        "from tensorflow.keras import layers"
      ],
      "execution_count": 7,
      "outputs": []
    },
    {
      "cell_type": "code",
      "metadata": {
        "id": "rfppDs8MBSyO"
      },
      "source": [
        "# Let's make a create_model() function to create a model from a URL\n",
        "\n",
        "def create_model(model_url, num_classes=10):\n",
        "    \"\"\"\n",
        "    Takes a tensorflow hub url and creates a Keras Sequential model with it\n",
        "\n",
        "    Args:\n",
        "        model_url (str): A tensorlow Hub feature extraction URL.\n",
        "        num_classes (int): Number of output neurons in the output layer, should be\n",
        "                            equal to the number of target classes, default 10.\n",
        "    \n",
        "    Returns:\n",
        "        An uncompiled Keras Sequential model with model url as feature extractor \n",
        "        layer and Dense layer with num_classes output neuron\n",
        "    \"\"\"\n",
        "\n",
        "    # Download the pretrained model and save it as a Keras Layer\n",
        "\n",
        "    feature_extractor_layer = hub.KerasLayer(model_url, \n",
        "                                             trainable=False,  # Freeze the already learned patterns\n",
        "                                             name = \"feature_extraction_layer\",\n",
        "                                             input_shape = IMAGE_SHAPE+(3,)) \n",
        "    \n",
        "    # create our own model\n",
        "    model = tf.keras.Sequential(\n",
        "        [\n",
        "         feature_extractor_layer,\n",
        "         layers.Dense(num_classes, activation=\"softmax\", name=\"output_layer\")\n",
        "        ]\n",
        "    )\n",
        "\n",
        "    return model"
      ],
      "execution_count": 8,
      "outputs": []
    },
    {
      "cell_type": "markdown",
      "metadata": {
        "id": "aUAuz5vNDTtw"
      },
      "source": [
        "### Creating and testing Resnet Tensorflow Hub Feature Extraction model"
      ]
    },
    {
      "cell_type": "code",
      "metadata": {
        "id": "_QhxNtzwCyHY"
      },
      "source": [
        "# Create Resnet model\n",
        "resnet_model = create_model(resnet_url,\n",
        "                            num_classes=train_data_10_percent.num_classes)"
      ],
      "execution_count": 9,
      "outputs": []
    },
    {
      "cell_type": "code",
      "metadata": {
        "id": "ie2Ul25mEni0"
      },
      "source": [
        "# Compile our resnet model\n",
        "resnet_model.compile(loss=\"categorical_crossentropy\",\n",
        "                     optimizer=tf.keras.optimizers.Adam(),\n",
        "                     metrics=[\"accuracy\"])"
      ],
      "execution_count": 10,
      "outputs": []
    },
    {
      "cell_type": "code",
      "metadata": {
        "colab": {
          "base_uri": "https://localhost:8080/"
        },
        "id": "dbjTcnetENdv",
        "outputId": "d213d6ad-1f17-42a3-c424-f7a5b1d43274"
      },
      "source": [
        "resnet_model.summary()"
      ],
      "execution_count": 11,
      "outputs": [
        {
          "output_type": "stream",
          "text": [
            "Model: \"sequential\"\n",
            "_________________________________________________________________\n",
            "Layer (type)                 Output Shape              Param #   \n",
            "=================================================================\n",
            "feature_extraction_layer (Ke (None, 2048)              23564800  \n",
            "_________________________________________________________________\n",
            "output_layer (Dense)         (None, 10)                20490     \n",
            "=================================================================\n",
            "Total params: 23,585,290\n",
            "Trainable params: 20,490\n",
            "Non-trainable params: 23,564,800\n",
            "_________________________________________________________________\n"
          ],
          "name": "stdout"
        }
      ]
    },
    {
      "cell_type": "code",
      "metadata": {
        "colab": {
          "base_uri": "https://localhost:8080/"
        },
        "id": "6XfXjieRDvf8",
        "outputId": "042ae21b-658d-4a7f-e5fa-37cb13e69c24"
      },
      "source": [
        "# Let's fit our resnet model to our data (10 percent of the classes)\n",
        "resnet_history = resnet_model.fit(train_data_10_percent,\n",
        "                                  epochs=5,\n",
        "                                  steps_per_epoch=len(train_data_10_percent),\n",
        "                                  validation_data=test_data,\n",
        "                                  validation_steps=len(test_data),\n",
        "                                  callbacks=[create_tensorboard_callback(dir_name=\"tensorflow_hub\",\n",
        "                                                                         experiment_name=\"resnet50V2\")])"
      ],
      "execution_count": 12,
      "outputs": [
        {
          "output_type": "stream",
          "text": [
            "Saving Tensorboard log files to: tensorflow_hub/resnet50V2/20210609-160450\n",
            "Epoch 1/5\n",
            "24/24 [==============================] - 49s 750ms/step - loss: 1.9858 - accuracy: 0.3360 - val_loss: 1.2420 - val_accuracy: 0.6036\n",
            "Epoch 2/5\n",
            "24/24 [==============================] - 16s 682ms/step - loss: 0.9495 - accuracy: 0.7027 - val_loss: 0.8768 - val_accuracy: 0.7216\n",
            "Epoch 3/5\n",
            "24/24 [==============================] - 16s 682ms/step - loss: 0.6583 - accuracy: 0.8040 - val_loss: 0.7588 - val_accuracy: 0.7608\n",
            "Epoch 4/5\n",
            "24/24 [==============================] - 16s 685ms/step - loss: 0.5002 - accuracy: 0.8467 - val_loss: 0.7075 - val_accuracy: 0.7776\n",
            "Epoch 5/5\n",
            "24/24 [==============================] - 16s 672ms/step - loss: 0.4094 - accuracy: 0.8880 - val_loss: 0.6673 - val_accuracy: 0.7872\n"
          ],
          "name": "stdout"
        }
      ]
    },
    {
      "cell_type": "markdown",
      "metadata": {
        "id": "6vPsl68IHIf3"
      },
      "source": [
        "WOW!!!!!!!!\n",
        "\n",
        "\n",
        "That is incredible. Out transfer learning feature extractor model outperformed all of the previous models we built by hand .. (substantially) and in a quicker training time and only on 10 percent of the training data"
      ]
    },
    {
      "cell_type": "code",
      "metadata": {
        "id": "q9FoChlaF7ap"
      },
      "source": [
        "# Lets create a function to plot our loss curves...\n",
        "# Tidbit: you can put a function like this in a script like \"helper.py\" and import it and when needed\n",
        "\n",
        "import matplotlib.pyplot as plt\n",
        "\n",
        "# plot validation and training curves\n",
        "def plot_loss_curves(history):\n",
        "    \"\"\"\n",
        "    Returns separate loss curves for training and validation metrics\n",
        "\n",
        "    Args:\n",
        "        history: TensorFlow history object\n",
        "\n",
        "    Returns:\n",
        "        Plots of Training/validation loss and accuracy metrics\n",
        "    \"\"\"\n",
        "\n",
        "    loss = history.history[\"loss\"]\n",
        "    val_loss = history.history[\"val_loss\"]\n",
        "\n",
        "    accuracy = history.history[\"accuracy\"]\n",
        "    val_accuracy = history.history[\"val_accuracy\"]\n",
        "\n",
        "    epochs = range(len(history.history[\"loss\"]))\n",
        "\n",
        "    #Plot loss\n",
        "    plt.plot(epochs, loss, label=\"Training_Loss\")\n",
        "    plt.plot(epochs, val_loss, label=\"Validation_Loss\")\n",
        "    plt.title(\"Loss\")\n",
        "    plt.xlabel(\"Epochs\")\n",
        "    plt.legend()\n",
        "\n",
        "    # Plot accuracy\n",
        "    plt.figure()\n",
        "    plt.plot(epochs, accuracy, label=\"Training_Accuracy\")\n",
        "    plt.plot(epochs, val_accuracy, label=\"Validation_Accuracy\")\n",
        "    plt.title(\"Accuracy\")\n",
        "    plt.xlabel(\"Epochs\")\n",
        "    plt.legend()"
      ],
      "execution_count": 17,
      "outputs": []
    },
    {
      "cell_type": "code",
      "metadata": {
        "colab": {
          "base_uri": "https://localhost:8080/",
          "height": 573
        },
        "id": "mXYTJ4bliC3q",
        "outputId": "33e1e5b9-d842-4544-913e-b37fefdf08c2"
      },
      "source": [
        "plot_loss_curves(resnet_history)"
      ],
      "execution_count": 18,
      "outputs": [
        {
          "output_type": "display_data",
          "data": {
            "image/png": "[encoded data removed]",
            "text/plain": [
              "<Figure size 432x288 with 1 Axes>"
            ]
          },
          "metadata": {
            "tags": [],
            "needs_background": "light"
          }
        },
        {
          "output_type": "display_data",
          "data": {
            "image/png": "[encoded data removed]",
            "text/plain": [
              "<Figure size 432x288 with 1 Axes>"
            ]
          },
          "metadata": {
            "tags": [],
            "needs_background": "light"
          }
        }
      ]
    },
    {
      "cell_type": "markdown",
      "metadata": {
        "id": "uZCVIPMyljQw"
      },
      "source": [
        "### Creating and testing EfficientNetB0 Tensorflow Hub Feature Extraction model"
      ]
    },
    {
      "cell_type": "code",
      "metadata": {
        "colab": {
          "base_uri": "https://localhost:8080/"
        },
        "id": "yVcr0r2jlIuZ",
        "outputId": "79cab035-a1c4-4689-b002-179983e379e2"
      },
      "source": [
        "# Create Efficient net feature extractor model\n",
        "efficientnet_model = create_model(efficientnet_url,\n",
        "                                  num_classes=train_data_10_percent.num_classes)\n",
        "\n",
        "efficientnet_model.compile(loss=\"categorical_crossentropy\",\n",
        "                            optimizer = tf.keras.optimizers.Adam(),\n",
        "                            metrics=[\"accuracy\"])\n",
        "\n",
        "efficientnet_histroy = efficientnet_model.fit(train_data_10_percent,\n",
        "                                              epochs=5,\n",
        "                                              steps_per_epoch=len(train_data_10_percent),\n",
        "                                              validation_data=test_data,\n",
        "                                              validation_steps=len(test_data),\n",
        "                                              callbacks=[create_tensorboard_callback(dir_name=\"tensorflow_hub\",\n",
        "                                                                                     experiment_name=\"efficientnetb0\")])"
      ],
      "execution_count": 20,
      "outputs": [
        {
          "output_type": "stream",
          "text": [
            "Saving Tensorboard log files to: tensorflow_hub/efficientnetb0/20210609-163127\n",
            "Epoch 1/5\n",
            "24/24 [==============================] - 30s 915ms/step - loss: 1.8187 - accuracy: 0.4640 - val_loss: 1.2564 - val_accuracy: 0.7376\n",
            "Epoch 2/5\n",
            "24/24 [==============================] - 16s 701ms/step - loss: 1.0403 - accuracy: 0.7693 - val_loss: 0.8535 - val_accuracy: 0.8172\n",
            "Epoch 3/5\n",
            "24/24 [==============================] - 16s 689ms/step - loss: 0.7590 - accuracy: 0.8253 - val_loss: 0.6938 - val_accuracy: 0.8356\n",
            "Epoch 4/5\n",
            "24/24 [==============================] - 16s 694ms/step - loss: 0.6110 - accuracy: 0.8573 - val_loss: 0.6102 - val_accuracy: 0.8500\n",
            "Epoch 5/5\n",
            "24/24 [==============================] - 16s 687ms/step - loss: 0.5172 - accuracy: 0.8840 - val_loss: 0.5598 - val_accuracy: 0.8632\n"
          ],
          "name": "stdout"
        }
      ]
    },
    {
      "cell_type": "code",
      "metadata": {
        "colab": {
          "base_uri": "https://localhost:8080/",
          "height": 573
        },
        "id": "Fe04YPD6nLJx",
        "outputId": "2b5aba6d-86eb-42d4-ee54-b5685add27aa"
      },
      "source": [
        "plot_loss_curves(efficientnet_histroy)"
      ],
      "execution_count": 21,
      "outputs": [
        {
          "output_type": "display_data",
          "data": {
            "image/png": "[encoded data removed]",
            "text/plain": [
              "<Figure size 432x288 with 1 Axes>"
            ]
          },
          "metadata": {
            "tags": [],
            "needs_background": "light"
          }
        },
        {
          "output_type": "display_data",
          "data": {
            "image/png": "[encoded data removed]",
            "text/plain": [
              "<Figure size 432x288 with 1 Axes>"
            ]
          },
          "metadata": {
            "tags": [],
            "needs_background": "light"
          }
        }
      ]
    },
    {
      "cell_type": "code",
      "metadata": {
        "colab": {
          "base_uri": "https://localhost:8080/"
        },
        "id": "mfGd07RUn_fU",
        "outputId": "4f38f354-c037-4423-d2c4-957913b73096"
      },
      "source": [
        "efficientnet_model.summary()"
      ],
      "execution_count": 22,
      "outputs": [
        {
          "output_type": "stream",
          "text": [
            "Model: \"sequential_2\"\n",
            "_________________________________________________________________\n",
            "Layer (type)                 Output Shape              Param #   \n",
            "=================================================================\n",
            "feature_extraction_layer (Ke (None, 1280)              4049564   \n",
            "_________________________________________________________________\n",
            "output_layer (Dense)         (None, 10)                12810     \n",
            "=================================================================\n",
            "Total params: 4,062,374\n",
            "Trainable params: 12,810\n",
            "Non-trainable params: 4,049,564\n",
            "_________________________________________________________________\n"
          ],
          "name": "stdout"
        }
      ]
    },
    {
      "cell_type": "code",
      "metadata": {
        "colab": {
          "base_uri": "https://localhost:8080/"
        },
        "id": "jD9AUdb8oe_c",
        "outputId": "aff75cb6-8809-43b4-e54c-53f68910cf1e"
      },
      "source": [
        "resnet_model.summary()"
      ],
      "execution_count": 23,
      "outputs": [
        {
          "output_type": "stream",
          "text": [
            "Model: \"sequential\"\n",
            "_________________________________________________________________\n",
            "Layer (type)                 Output Shape              Param #   \n",
            "=================================================================\n",
            "feature_extraction_layer (Ke (None, 2048)              23564800  \n",
            "_________________________________________________________________\n",
            "output_layer (Dense)         (None, 10)                20490     \n",
            "=================================================================\n",
            "Total params: 23,585,290\n",
            "Trainable params: 20,490\n",
            "Non-trainable params: 23,564,800\n",
            "_________________________________________________________________\n"
          ],
          "name": "stdout"
        }
      ]
    },
    {
      "cell_type": "code",
      "metadata": {
        "colab": {
          "base_uri": "https://localhost:8080/"
        },
        "id": "jj31aiewqD_8",
        "outputId": "633e8e8c-8806-4b5b-ba0a-60a53b8f0272"
      },
      "source": [
        "# How many layers does our efficientnetb0 feature extractor have?\n",
        "len(efficientnet_model.layers[0].weights)  ## weights = patterns of numbers"
      ],
      "execution_count": 27,
      "outputs": [
        {
          "output_type": "execute_result",
          "data": {
            "text/plain": [
              "309"
            ]
          },
          "metadata": {
            "tags": []
          },
          "execution_count": 27
        }
      ]
    },
    {
      "cell_type": "markdown",
      "metadata": {
        "id": "din9sapRowY1"
      },
      "source": [
        "## Different Types of Transfer Learning\n",
        "\n",
        "* **As is** transfer learning - using an existing with no changes whatsoever (eg. using Imagenet model on 1000 ImageNet classes, none of our own)\n",
        "* **feature extraction** transfer learning - use the patterns of an existing model (eg. EfficentNet trained on Imagenet) and adjust the output layer for your own problem (eg. 1000 classes -> 10 classes of food) {what we have done till now}\n",
        "* **Fine Tuning** Transfer Learning - use the pretrained patterns of an existing model and \"fine-tune\" many or all of the underlying layers (including output layers)"
      ]
    },
    {
      "cell_type": "markdown",
      "metadata": {
        "id": "KCGpxcL8rtSx"
      },
      "source": [
        "## Comparing our models result using TensorBoard\n",
        "\n",
        "> Note: When you upload thinhs to Tensorboard.dev, your experiments are public. So if you're running private experiments (things you dont want others to see) Do not upload them to TensorBoard.dev"
      ]
    },
    {
      "cell_type": "code",
      "metadata": {
        "colab": {
          "base_uri": "https://localhost:8080/"
        },
        "id": "tVpng5U9oni3",
        "outputId": "ea2723d1-4921-46d9-c7a9-8a4924b4291d"
      },
      "source": [
        "# Upload Tensorboard dev records\n",
        "\n",
        "!tensorboard dev upload --logdir ./tensorflow_hub/ \\\n",
        "    --name \"EfficientNetB0 vs ResNet50V2\" \\\n",
        "    --description \" Comparing 2 different TF hub feature extraction model architecture usinh 10% of the training data\" \\\n",
        "    --one_shot"
      ],
      "execution_count": 28,
      "outputs": [
        {
          "output_type": "stream",
          "text": [
            "2021-06-09 16:57:57.542112: I tensorflow/stream_executor/platform/default/dso_loader.cc:53] Successfully opened dynamic library libcudart.so.11.0\n",
            "\n",
            "***** TensorBoard Uploader *****\n",
            "\n",
            "This will upload your TensorBoard logs to https://tensorboard.dev/ from\n",
            "the following directory:\n",
            "\n",
            "./tensorflow_hub/\n",
            "\n",
            "This TensorBoard will be visible to everyone. Do not upload sensitive\n",
            "data.\n",
            "\n",
            "Your use of this service is subject to Google's Terms of Service\n",
            "<https://policies.google.com/terms> and Privacy Policy\n",
            "<https://policies.google.com/privacy>, and TensorBoard.dev's Terms of Service\n",
            "<https://tensorboard.dev/policy/terms/>.\n",
            "\n",
            "This notice will not be shown again while you are logged into the uploader.\n",
            "To log out, run `tensorboard dev auth revoke`.\n",
            "\n",
            "Continue? (yes/NO) yes\n",
            "\n",
            "Please visit this URL to authorize this application: https://accounts.google.com/o/oauth2/auth?response_type=code&client_id=373649185512-8v619h5kft38l4456nm2dj4ubeqsrvh6.apps.googleusercontent.com&redirect_uri=urn%3Aietf%3Awg%3Aoauth%3A2.0%3Aoob&scope=openid+https%3A%2F%2Fwww.googleapis.com%2Fauth%2Fuserinfo.email&state=uoKtAoaUHJiUslWhLZAE97LOHqei1f&prompt=consent&access_type=offline\n",
            "Enter the authorization code: 4/1AY0e-g70dCPxtCtwdZjJqEm_Dr_AdxNtJmMQ15LvR7jmx6jEkBOtl90zdiA\n",
            "\n",
            "Data for the \"text\" plugin is now uploaded to TensorBoard.dev! Note that uploaded data is public. If you do not want to upload data for this plugin, use the \"--plugins\" command line argument.\n",
            "\n",
            "New experiment created. View your TensorBoard at: https://tensorboard.dev/experiment/hK1Y7cXPRpqBOzIA3jpMPw/\n",
            "\n",
            "\u001b[1m[2021-06-09T16:58:43]\u001b[0m Started scanning logdir.\n",
            "\u001b[1m[2021-06-09T16:58:46]\u001b[0m Total uploaded: 60 scalars, 0 tensors, 2 binary objects (5.7 MB)\n",
            "\u001b[1m[2021-06-09T16:58:46]\u001b[0m Done scanning logdir.\n",
            "\n",
            "\n",
            "Done. View your TensorBoard at https://tensorboard.dev/experiment/hK1Y7cXPRpqBOzIA3jpMPw/\n"
          ],
          "name": "stdout"
        }
      ]
    },
    {
      "cell_type": "markdown",
      "metadata": {
        "id": "LtPV2EwQtYO0"
      },
      "source": [
        "Our tensorboard experiments are uploaded publicly here:\n",
        "https://tensorboard.dev/experiment/hK1Y7cXPRpqBOzIA3jpMPw/"
      ]
    },
    {
      "cell_type": "code",
      "metadata": {
        "colab": {
          "base_uri": "https://localhost:8080/"
        },
        "id": "HWsdjGCoulvM",
        "outputId": "12c5b745-4c59-4621-9da5-9396f207bb92"
      },
      "source": [
        "# Checkout what TensorBoard experiments you have\n",
        "!tensorboard dev list"
      ],
      "execution_count": 29,
      "outputs": [
        {
          "output_type": "stream",
          "text": [
            "2021-06-09 17:03:56.852301: I tensorflow/stream_executor/platform/default/dso_loader.cc:53] Successfully opened dynamic library libcudart.so.11.0\n",
            "Data for the \"text\" plugin is now uploaded to TensorBoard.dev! Note that uploaded data is public. If you do not want to upload data for this plugin, use the \"--plugins\" command line argument.\n",
            "https://tensorboard.dev/experiment/hK1Y7cXPRpqBOzIA3jpMPw/\n",
            "\tName                 EfficientNetB0 vs ResNet50V2\n",
            "\tDescription           Comparing 2 different TF hub feature extraction model architecture usinh 10% of the training data\n",
            "\tId                   hK1Y7cXPRpqBOzIA3jpMPw\n",
            "\tCreated              2021-06-09 16:58:43 (5 minutes ago)\n",
            "\tUpdated              2021-06-09 16:58:46 (5 minutes ago)\n",
            "\tRuns                 4\n",
            "\tTags                 5\n",
            "\tScalars              60\n",
            "\tTensor bytes         0\n",
            "\tBinary object bytes  5963064\n",
            "Total: 1 experiment(s)\n"
          ],
          "name": "stdout"
        }
      ]
    },
    {
      "cell_type": "code",
      "metadata": {
        "id": "6WFMyQiluwEq"
      },
      "source": [
        "# Delete an experiment\n",
        "# !tensorboard dev delete --experiment_id hK1Y7cXPRpqBOzIA3jpMPw"
      ],
      "execution_count": 30,
      "outputs": []
    },
    {
      "cell_type": "code",
      "metadata": {
        "colab": {
          "base_uri": "https://localhost:8080/"
        },
        "id": "dCU4eDXovBRq",
        "outputId": "40b682b1-41c0-4342-bcaf-78035eb7fa50"
      },
      "source": [
        "# Confirm the deletion by rechecking what experiments we have\n",
        "!tensorboard dev list"
      ],
      "execution_count": 31,
      "outputs": [
        {
          "output_type": "stream",
          "text": [
            "2021-06-09 17:05:48.783408: I tensorflow/stream_executor/platform/default/dso_loader.cc:53] Successfully opened dynamic library libcudart.so.11.0\n",
            "Data for the \"text\" plugin is now uploaded to TensorBoard.dev! Note that uploaded data is public. If you do not want to upload data for this plugin, use the \"--plugins\" command line argument.\n",
            "https://tensorboard.dev/experiment/hK1Y7cXPRpqBOzIA3jpMPw/\n",
            "\tName                 EfficientNetB0 vs ResNet50V2\n",
            "\tDescription           Comparing 2 different TF hub feature extraction model architecture usinh 10% of the training data\n",
            "\tId                   hK1Y7cXPRpqBOzIA3jpMPw\n",
            "\tCreated              2021-06-09 16:58:43 (7 minutes ago)\n",
            "\tUpdated              2021-06-09 16:58:46 (7 minutes ago)\n",
            "\tRuns                 4\n",
            "\tTags                 5\n",
            "\tScalars              60\n",
            "\tTensor bytes         0\n",
            "\tBinary object bytes  5963064\n",
            "Total: 1 experiment(s)\n"
          ],
          "name": "stdout"
        }
      ]
    },
    {
      "cell_type": "code",
      "metadata": {
        "id": "mg52VBnkvLB8"
      },
      "source": [
        ""
      ],
      "execution_count": null,
      "outputs": []
    }
  ]
}