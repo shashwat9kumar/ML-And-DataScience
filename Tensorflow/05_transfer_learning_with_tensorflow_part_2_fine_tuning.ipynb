{
  "nbformat": 4,
  "nbformat_minor": 0,
  "metadata": {
    "colab": {
      "name": "05_transfer_learning with_tensorflow_part_2_fine_tuning.ipynb",
      "provenance": [],
      "collapsed_sections": [
        "oMkyX8RbjXjt",
        "O7cRYAwE_49B",
        "vMdWjNedA8wN",
        "LYa5KtBjEtAT"
      ],
      "authorship_tag": "ABX9TyOdMgConwaddE983P8tc3ig",
      "include_colab_link": true
    },
    "kernelspec": {
      "name": "python3",
      "display_name": "Python 3"
    },
    "language_info": {
      "name": "python"
    },
    "accelerator": "GPU"
  },
  "cells": [
    {
      "cell_type": "markdown",
      "metadata": {
        "id": "view-in-github",
        "colab_type": "text"
      },
      "source": [
        "<a href=\"https://colab.research.google.com/github/shashwat9kumar/ML-And-DataScience/blob/master/Tensorflow/05_transfer_learning_with_tensorflow_part_2_fine_tuning.ipynb\" target=\"_parent\"><img src=\"https://colab.research.google.com/assets/colab-badge.svg\" alt=\"Open In Colab\"/></a>"
      ]
    },
    {
      "cell_type": "markdown",
      "metadata": {
        "id": "vzllzS4cbuWA"
      },
      "source": [
        "# Transfer Learning with TensorFlow part 2: Fine Tuning"
      ]
    },
    {
      "cell_type": "code",
      "metadata": {
        "colab": {
          "base_uri": "https://localhost:8080/"
        },
        "id": "HTsniEPublQc",
        "outputId": "9eaf5354-c6c9-4133-8013-9c7c691e21e0"
      },
      "source": [
        "# Check if we're using a GUP\n",
        "!nvidia-smi"
      ],
      "execution_count": 1,
      "outputs": [
        {
          "output_type": "stream",
          "text": [
            "Mon Jun 21 13:04:30 2021       \n",
            "+-----------------------------------------------------------------------------+\n",
            "| NVIDIA-SMI 465.27       Driver Version: 460.32.03    CUDA Version: 11.2     |\n",
            "|-------------------------------+----------------------+----------------------+\n",
            "| GPU  Name        Persistence-M| Bus-Id        Disp.A | Volatile Uncorr. ECC |\n",
            "| Fan  Temp  Perf  Pwr:Usage/Cap|         Memory-Usage | GPU-Util  Compute M. |\n",
            "|                               |                      |               MIG M. |\n",
            "|===============================+======================+======================|\n",
            "|   0  Tesla T4            Off  | 00000000:00:04.0 Off |                    0 |\n",
            "| N/A   49C    P8    10W /  70W |      0MiB / 15109MiB |      0%      Default |\n",
            "|                               |                      |                  N/A |\n",
            "+-------------------------------+----------------------+----------------------+\n",
            "                                                                               \n",
            "+-----------------------------------------------------------------------------+\n",
            "| Processes:                                                                  |\n",
            "|  GPU   GI   CI        PID   Type   Process name                  GPU Memory |\n",
            "|        ID   ID                                                   Usage      |\n",
            "|=============================================================================|\n",
            "|  No running processes found                                                 |\n",
            "+-----------------------------------------------------------------------------+\n"
          ],
          "name": "stdout"
        }
      ]
    },
    {
      "cell_type": "markdown",
      "metadata": {
        "id": "122A_pn6b8mX"
      },
      "source": [
        "## Creating Helper functions\n",
        "\n",
        "In th previous notebooks, we've created a bunch of helper functions.\n",
        "\n",
        "We could rewrite them all, but that is tedious\n",
        "\n",
        "\n",
        "So, its a good idea to put functions in a script that you want to use  again in a script.\n",
        "We've done that for some function: https://raw.githubusercontent.com/mrdbourke/tensorflow-deep-learning/main/extras/helper_functions.py"
      ]
    },
    {
      "cell_type": "code",
      "metadata": {
        "colab": {
          "base_uri": "https://localhost:8080/"
        },
        "id": "Ye9G9yhNb3wK",
        "outputId": "6f0d926c-f57f-4608-f034-ee034d192332"
      },
      "source": [
        "!wget https://raw.githubusercontent.com/mrdbourke/tensorflow-deep-learning/main/extras/helper_functions.py"
      ],
      "execution_count": 2,
      "outputs": [
        {
          "output_type": "stream",
          "text": [
            "--2021-06-21 13:04:30--  https://raw.githubusercontent.com/mrdbourke/tensorflow-deep-learning/main/extras/helper_functions.py\n",
            "Resolving raw.githubusercontent.com (raw.githubusercontent.com)... 185.199.108.133, 185.199.109.133, 185.199.110.133, ...\n",
            "Connecting to raw.githubusercontent.com (raw.githubusercontent.com)|185.199.108.133|:443... connected.\n",
            "HTTP request sent, awaiting response... 200 OK\n",
            "Length: 10246 (10K) [text/plain]\n",
            "Saving to: ‘helper_functions.py’\n",
            "\n",
            "helper_functions.py 100%[===================>]  10.01K  --.-KB/s    in 0s      \n",
            "\n",
            "2021-06-21 13:04:30 (113 MB/s) - ‘helper_functions.py’ saved [10246/10246]\n",
            "\n"
          ],
          "name": "stdout"
        }
      ]
    },
    {
      "cell_type": "code",
      "metadata": {
        "id": "6_B15wfBcowO"
      },
      "source": [
        "# Import helper functions we're going to use in this notebook\n",
        "from helper_functions import create_tensorboard_callback, plot_loss_curves, unzip_data, walk_through_dir"
      ],
      "execution_count": 3,
      "outputs": []
    },
    {
      "cell_type": "markdown",
      "metadata": {
        "id": "UAa5RYTGdQz2"
      },
      "source": [
        "Note: If you're running this notebook in googlecollab, if the runtime disconnects, then you'll have to redownload the helper_functions.py by re-sunning the cells *above*"
      ]
    },
    {
      "cell_type": "markdown",
      "metadata": {
        "id": "X8NfgTHvdJJw"
      },
      "source": [
        "## Let's get some data\n",
        "\n",
        "This time we're going to see how to use the pretrained model within the tf.keras.applications and apply them to our own problem (recognizing images of food).\n",
        "\n",
        "Link: https://www.tensorflow.org/api_docs/python/tf/keras/applications"
      ]
    },
    {
      "cell_type": "code",
      "metadata": {
        "colab": {
          "base_uri": "https://localhost:8080/"
        },
        "id": "N3DX6faQeQnN",
        "outputId": "3c2ad03c-0ca0-4e83-943e-59b4ea4cc0a5"
      },
      "source": [
        "# Get 10% of training data of 10 clases of food\n",
        "\n",
        "!wget https://storage.googleapis.com/ztm_tf_course/food_vision/10_food_classes_10_percent.zip\n",
        "\n",
        "unzip_data(\"10_food_classes_10_percent.zip\")"
      ],
      "execution_count": 4,
      "outputs": [
        {
          "output_type": "stream",
          "text": [
            "--2021-06-21 13:04:32--  https://storage.googleapis.com/ztm_tf_course/food_vision/10_food_classes_10_percent.zip\n",
            "Resolving storage.googleapis.com (storage.googleapis.com)... 142.251.2.128, 142.250.141.128, 2607:f8b0:4023:c06::80, ...\n",
            "Connecting to storage.googleapis.com (storage.googleapis.com)|142.251.2.128|:443... connected.\n",
            "HTTP request sent, awaiting response... 200 OK\n",
            "Length: 168546183 (161M) [application/zip]\n",
            "Saving to: ‘10_food_classes_10_percent.zip’\n",
            "\n",
            "10_food_classes_10_ 100%[===================>] 160.74M   175MB/s    in 0.9s    \n",
            "\n",
            "2021-06-21 13:04:33 (175 MB/s) - ‘10_food_classes_10_percent.zip’ saved [168546183/168546183]\n",
            "\n"
          ],
          "name": "stdout"
        }
      ]
    },
    {
      "cell_type": "code",
      "metadata": {
        "colab": {
          "base_uri": "https://localhost:8080/"
        },
        "id": "oswWlptAeoLd",
        "outputId": "678dfa2d-139b-4ee2-ff91-c27876895734"
      },
      "source": [
        "# Checkout how many images and subdirectories are in our dataset\n",
        "\n",
        "walk_through_dir(\"10_food_classes_10_percent\")"
      ],
      "execution_count": 5,
      "outputs": [
        {
          "output_type": "stream",
          "text": [
            "There are 2 directories and 0 images in '10_food_classes_10_percent'.\n",
            "There are 10 directories and 0 images in '10_food_classes_10_percent/train'.\n",
            "There are 0 directories and 75 images in '10_food_classes_10_percent/train/chicken_curry'.\n",
            "There are 0 directories and 75 images in '10_food_classes_10_percent/train/pizza'.\n",
            "There are 0 directories and 75 images in '10_food_classes_10_percent/train/steak'.\n",
            "There are 0 directories and 75 images in '10_food_classes_10_percent/train/sushi'.\n",
            "There are 0 directories and 75 images in '10_food_classes_10_percent/train/fried_rice'.\n",
            "There are 0 directories and 75 images in '10_food_classes_10_percent/train/grilled_salmon'.\n",
            "There are 0 directories and 75 images in '10_food_classes_10_percent/train/chicken_wings'.\n",
            "There are 0 directories and 75 images in '10_food_classes_10_percent/train/ramen'.\n",
            "There are 0 directories and 75 images in '10_food_classes_10_percent/train/ice_cream'.\n",
            "There are 0 directories and 75 images in '10_food_classes_10_percent/train/hamburger'.\n",
            "There are 10 directories and 0 images in '10_food_classes_10_percent/test'.\n",
            "There are 0 directories and 250 images in '10_food_classes_10_percent/test/chicken_curry'.\n",
            "There are 0 directories and 250 images in '10_food_classes_10_percent/test/pizza'.\n",
            "There are 0 directories and 250 images in '10_food_classes_10_percent/test/steak'.\n",
            "There are 0 directories and 250 images in '10_food_classes_10_percent/test/sushi'.\n",
            "There are 0 directories and 250 images in '10_food_classes_10_percent/test/fried_rice'.\n",
            "There are 0 directories and 250 images in '10_food_classes_10_percent/test/grilled_salmon'.\n",
            "There are 0 directories and 250 images in '10_food_classes_10_percent/test/chicken_wings'.\n",
            "There are 0 directories and 250 images in '10_food_classes_10_percent/test/ramen'.\n",
            "There are 0 directories and 250 images in '10_food_classes_10_percent/test/ice_cream'.\n",
            "There are 0 directories and 250 images in '10_food_classes_10_percent/test/hamburger'.\n"
          ],
          "name": "stdout"
        }
      ]
    },
    {
      "cell_type": "code",
      "metadata": {
        "id": "tfvTd-jbewN6"
      },
      "source": [
        "# Creating traininbg and test directory paths\n",
        "train_dir = \"10_food_classes_10_percent/train\"\n",
        "test_dir = \"10_food_classes_10_percent/test\""
      ],
      "execution_count": 6,
      "outputs": []
    },
    {
      "cell_type": "code",
      "metadata": {
        "colab": {
          "base_uri": "https://localhost:8080/"
        },
        "id": "rELF0uqJfFpp",
        "outputId": "c06caa15-567b-4947-d068-a39fa76d1ec6"
      },
      "source": [
        "import tensorflow as tf\n",
        "\n",
        "IMG_SIZE =(224, 224)\n",
        "BATCH_SIZE = 32\n",
        "train_data_10_percent = tf.keras.preprocessing.image_dataset_from_directory(directory=train_dir,\n",
        "                                                                            image_size=IMG_SIZE,\n",
        "                                                                            label_mode=\"categorical\",\n",
        "                                                                            batch_size=BATCH_SIZE)\n",
        "\n",
        "test_data = tf.keras.preprocessing.image_dataset_from_directory(directory=test_dir,\n",
        "                                                                image_size=IMG_SIZE,\n",
        "                                                                batch_size=BATCH_SIZE,\n",
        "                                                                label_mode=\"categorical\")"
      ],
      "execution_count": 7,
      "outputs": [
        {
          "output_type": "stream",
          "text": [
            "Found 750 files belonging to 10 classes.\n",
            "Found 2500 files belonging to 10 classes.\n"
          ],
          "name": "stdout"
        }
      ]
    },
    {
      "cell_type": "code",
      "metadata": {
        "colab": {
          "base_uri": "https://localhost:8080/"
        },
        "id": "PFZ8EPWohO2k",
        "outputId": "988cb58e-4245-4734-88cd-ebef8531a4a8"
      },
      "source": [
        "train_data_10_percent"
      ],
      "execution_count": 8,
      "outputs": [
        {
          "output_type": "execute_result",
          "data": {
            "text/plain": [
              "<BatchDataset shapes: ((None, 224, 224, 3), (None, 10)), types: (tf.float32, tf.float32)>"
            ]
          },
          "metadata": {
            "tags": []
          },
          "execution_count": 8
        }
      ]
    },
    {
      "cell_type": "code",
      "metadata": {
        "colab": {
          "base_uri": "https://localhost:8080/"
        },
        "id": "BqPa6thsiZ0-",
        "outputId": "4b01e1fa-0745-4dac-ff84-7049c0824609"
      },
      "source": [
        "train_data_10_percent.class_names"
      ],
      "execution_count": 9,
      "outputs": [
        {
          "output_type": "execute_result",
          "data": {
            "text/plain": [
              "['chicken_curry',\n",
              " 'chicken_wings',\n",
              " 'fried_rice',\n",
              " 'grilled_salmon',\n",
              " 'hamburger',\n",
              " 'ice_cream',\n",
              " 'pizza',\n",
              " 'ramen',\n",
              " 'steak',\n",
              " 'sushi']"
            ]
          },
          "metadata": {
            "tags": []
          },
          "execution_count": 9
        }
      ]
    },
    {
      "cell_type": "code",
      "metadata": {
        "colab": {
          "base_uri": "https://localhost:8080/"
        },
        "id": "SQMlRs0Ji6wf",
        "outputId": "a270a830-b763-4026-de82-c8e28373882c"
      },
      "source": [
        "# See an example of a batch of data\n",
        "\n",
        "for images, labels in train_data_10_percent.take(1):\n",
        "    print(images, labels)\n"
      ],
      "execution_count": 10,
      "outputs": [
        {
          "output_type": "stream",
          "text": [
            "tf.Tensor(\n",
            "[[[[ 65.7602      55.7602      28.760202  ]\n",
            "   [ 85.28571     78.28571     50.285717  ]\n",
            "   [ 81.91327     74.91327     48.91327   ]\n",
            "   ...\n",
            "   [ 99.90284     90.33137     80.1171    ]\n",
            "   [ 93.760086    83.760086    73.760086  ]\n",
            "   [120.47522    110.47522    100.47522   ]]\n",
            "\n",
            "  [[ 91.301025    81.301025    56.301025  ]\n",
            "   [ 60.056118    52.19387     28.78061   ]\n",
            "   [ 67.92347     59.923466    36.923466  ]\n",
            "   ...\n",
            "   [105.75566     96.18419     85.969925  ]\n",
            "   [119.63737    109.63737     99.63737   ]\n",
            "   [ 70.1075      60.1075      50.1075    ]]\n",
            "\n",
            "  [[ 72.36735     61.36735     39.79592   ]\n",
            "   [ 74.2398      66.2398      45.66837   ]\n",
            "   [ 92.65816     84.65816     64.08673   ]\n",
            "   ...\n",
            "   [ 80.41272     70.84125     58.62698   ]\n",
            "   [109.6483      99.6483      87.6483    ]\n",
            "   [129.87741    119.8774     107.8774    ]]\n",
            "\n",
            "  ...\n",
            "\n",
            "  [[114.50039     80.50039     68.653435  ]\n",
            "   [105.52099     72.505684    56.09237   ]\n",
            "   [117.09771     84.883446    64.31197   ]\n",
            "   ...\n",
            "   [ 32.714417     7.1429443    6.3572083 ]\n",
            "   [ 38.229633    13.443896     9.872424  ]\n",
            "   [ 37.862297    11.285828     8.357178  ]]\n",
            "\n",
            "  [[110.44881     74.44881     60.35696   ]\n",
            "   [108.55602     73.4897      54.62234   ]\n",
            "   [110.95911     76.22953     53.387653  ]\n",
            "   ...\n",
            "   [ 40.50009     13.142883     8.928619  ]\n",
            "   [ 41.785675    12.785675     8.510117  ]\n",
            "   [ 39.739872    10.739873     5.9336686 ]]\n",
            "\n",
            "  [[108.428185    71.428185    54.96896   ]\n",
            "   [104.571075    67.90274     47.97918   ]\n",
            "   [101.81109     65.81109     40.821236  ]\n",
            "   ...\n",
            "   [ 41.285675    12.499939     6.928467  ]\n",
            "   [ 40.096836    11.096837     4.2906327 ]\n",
            "   [ 41.84193     11.841931     3.8419313 ]]]\n",
            "\n",
            "\n",
            " [[[155.54593    108.54592     62.545918  ]\n",
            "   [156.5255     112.311226    67.38265   ]\n",
            "   [159.14796    115.93367     74.29592   ]\n",
            "   ...\n",
            "   [ 66.846886    49.204098   115.990005  ]\n",
            "   [ 58.73458     47.09179    119.61216   ]\n",
            "   [ 55.653286    49.36764    116.65328   ]]\n",
            "\n",
            "  [[157.73468    112.52551     67.92857   ]\n",
            "   [153.27551    110.          67.13776   ]\n",
            "   [156.32652    113.54082     71.96939   ]\n",
            "   ...\n",
            "   [ 71.68879     54.188835   107.76046   ]\n",
            "   [ 60.632614    49.7857     116.061226  ]\n",
            "   [ 53.530483    47.24484    113.88766   ]]\n",
            "\n",
            "  [[154.92857    111.15306     70.07653   ]\n",
            "   [152.23979    110.15306     70.45408   ]\n",
            "   [143.59694    102.02551     64.45409   ]\n",
            "   ...\n",
            "   [ 74.36733     55.724518    89.224754  ]\n",
            "   [ 64.93871     54.55607    106.55616   ]\n",
            "   [ 55.499966    49.78575    110.93879   ]]\n",
            "\n",
            "  ...\n",
            "\n",
            "  [[ 75.30056     64.80041     87.01467   ]\n",
            "   [ 97.92875     89.14301    110.57154   ]\n",
            "   [ 57.224125    48.224125    67.22412   ]\n",
            "   ...\n",
            "   [ 88.6947      53.505848    32.643272  ]\n",
            "   [174.61758    131.37773     90.49997   ]\n",
            "   [177.0306     127.53565     77.8825    ]]\n",
            "\n",
            "  [[ 48.82667     29.49499     43.755177  ]\n",
            "   [ 57.515102    40.433456    56.280365  ]\n",
            "   [ 69.1072      56.250046    74.591866  ]\n",
            "   ...\n",
            "   [155.96559    118.62369     81.10811   ]\n",
            "   [183.38766    137.23457     88.02535   ]\n",
            "   [188.20891    135.80582     85.80581   ]]\n",
            "\n",
            "  [[ 50.80622     24.67866     34.964302  ]\n",
            "   [ 53.122906    30.929026    43.929024  ]\n",
            "   [ 43.499653    27.356796    44.795517  ]\n",
            "   ...\n",
            "   [173.91367    134.98499     87.199     ]\n",
            "   [179.89835    132.65851     78.67892   ]\n",
            "   [180.09196    126.02043     76.37761   ]]]\n",
            "\n",
            "\n",
            " [[[193.12755     87.12755     39.12755   ]\n",
            "   [197.31122     89.311226    42.311226  ]\n",
            "   [199.42857     91.42857     44.428574  ]\n",
            "   ...\n",
            "   [ 43.642857    12.285649     0.        ]\n",
            "   [ 39.954075     7.9540734    0.        ]\n",
            "   [ 39.714287     6.714286     0.        ]]\n",
            "\n",
            "  [[188.38266     81.38265     35.382652  ]\n",
            "   [192.93367     85.93368     39.933674  ]\n",
            "   [196.57143     88.57143     42.57143   ]\n",
            "   ...\n",
            "   [ 43.428528    14.428528     0.39791882]\n",
            "   [ 40.78569      7.8520136    0.        ]\n",
            "   [ 37.928574     4.9285717    0.        ]]\n",
            "\n",
            "  [[181.14285     76.29082     32.714287  ]\n",
            "   [184.64285     80.01531     35.642853  ]\n",
            "   [188.57143     81.78571     38.214287  ]\n",
            "   ...\n",
            "   [ 37.096943     7.3112288    0.        ]\n",
            "   [ 38.841846     7.841847     3.3979928 ]\n",
            "   [ 39.785713     8.785714     6.        ]]\n",
            "\n",
            "  ...\n",
            "\n",
            "  [[179.87743     84.86213     52.510124  ]\n",
            "   [177.62749     84.30098     51.142838  ]\n",
            "   [179.05106     88.40826     54.40826   ]\n",
            "   ...\n",
            "   [120.30608     53.73461     26.688702  ]\n",
            "   [118.50009     51.92862     24.714355  ]\n",
            "   [124.50527     57.9338      30.719536  ]]\n",
            "\n",
            "  [[179.59172     88.73459     57.66315   ]\n",
            "   [174.79071     85.85708     53.857063  ]\n",
            "   [172.0152      86.15809     53.086643  ]\n",
            "   ...\n",
            "   [126.04598     56.688774    30.688774  ]\n",
            "   [127.51012     57.510117    31.510117  ]\n",
            "   [125.97959     55.97959     29.979593  ]]\n",
            "\n",
            "  [[164.22986     78.22986     45.22986   ]\n",
            "   [168.11761     84.02579     50.07171   ]\n",
            "   [168.77571     86.00532     52.357353  ]\n",
            "   ...\n",
            "   [125.6225      54.051025    29.051025  ]\n",
            "   [123.04601     51.046017    26.046017  ]\n",
            "   [125.10203     53.102024    28.102026  ]]]\n",
            "\n",
            "\n",
            " ...\n",
            "\n",
            "\n",
            " [[[134.          39.          33.        ]\n",
            "   [128.09183     34.285713    29.688774  ]\n",
            "   [118.57653     27.714285    25.142857  ]\n",
            "   ...\n",
            "   [108.076744    62.42881     39.29107   ]\n",
            "   [147.4134     106.296104    84.31651   ]\n",
            "   [176.60757    140.37804    118.60761   ]]\n",
            "\n",
            "  [[134.21938     40.290817    38.07653   ]\n",
            "   [129.35715     35.35714     33.35714   ]\n",
            "   [118.77041     27.984694    25.413265  ]\n",
            "   ...\n",
            "   [169.22002    130.29152    107.5466    ]\n",
            "   [206.77547    174.5612     153.56631   ]\n",
            "   [196.38766    168.10194    147.10194   ]]\n",
            "\n",
            "  [[131.63266     38.275513    38.061226  ]\n",
            "   [133.05612     42.05612     41.05612   ]\n",
            "   [126.04591     35.42857     34.42857   ]\n",
            "   ...\n",
            "   [202.07642    174.12239    152.33665   ]\n",
            "   [194.28574    170.35721    150.1021    ]\n",
            "   [191.70897    170.34167    151.63246   ]]\n",
            "\n",
            "  ...\n",
            "\n",
            "  [[109.79083    108.21936     96.21936   ]\n",
            "   [112.785736   113.785736    99.785736  ]\n",
            "   [108.59688    109.59688     95.59688   ]\n",
            "   ...\n",
            "   [116.505066    92.16836     58.336708  ]\n",
            "   [117.11227     93.11227     58.683743  ]\n",
            "   [118.49494     95.28068     60.85215   ]]\n",
            "\n",
            "  [[105.92856    103.12242     91.52549   ]\n",
            "   [112.49996    110.49996     97.49996   ]\n",
            "   [113.37245    114.37245    100.37245   ]\n",
            "   ...\n",
            "   [111.84181     86.413284    55.627544  ]\n",
            "   [117.076546    92.076546    61.076546  ]\n",
            "   [116.64282     93.64282     61.642822  ]]\n",
            "\n",
            "  [[103.26017     99.26017     88.26017   ]\n",
            "   [107.811226   105.811226    92.811226  ]\n",
            "   [108.724365   109.724365    95.724365  ]\n",
            "   ...\n",
            "   [106.357025    80.3672      50.64785   ]\n",
            "   [114.47947     89.47947     59.47947   ]\n",
            "   [118.7704      95.7704      64.7704    ]]]\n",
            "\n",
            "\n",
            " [[[ 78.58674     52.586735    17.586735  ]\n",
            "   [ 68.13776     43.80612     10.801021  ]\n",
            "   [ 80.20919     55.27041     25.77551   ]\n",
            "   ...\n",
            "   [ 28.071451    22.071451     8.07145   ]\n",
            "   [ 32.78574     26.78574     12.785741  ]\n",
            "   [ 34.413242    28.413242    14.413243  ]]\n",
            "\n",
            "  [[ 73.52551     47.40306     14.617347  ]\n",
            "   [ 73.85715     46.857143    16.857143  ]\n",
            "   [ 86.04082     60.69898     31.397959  ]\n",
            "   ...\n",
            "   [ 24.857164    18.857164     4.8571644 ]\n",
            "   [ 31.142883    25.142883    11.142883  ]\n",
            "   [ 33.571392    27.571394    13.571394  ]]\n",
            "\n",
            "  [[ 75.0102      45.219387    16.790815  ]\n",
            "   [ 77.28571     47.928574    19.500002  ]\n",
            "   [ 86.40306     59.40306     30.494898  ]\n",
            "   ...\n",
            "   [ 28.31123     20.739801     7.525515  ]\n",
            "   [ 32.65818     25.08675     11.872465  ]\n",
            "   [ 33.428535    25.857107    12.642822  ]]\n",
            "\n",
            "  ...\n",
            "\n",
            "  [[141.93877    110.938774    53.938774  ]\n",
            "   [129.35713     97.42856     46.214275  ]\n",
            "   [112.59181     80.37753     33.8061    ]\n",
            "   ...\n",
            "   [ 95.62265     58.194057    14.408352  ]\n",
            "   [100.87246     63.65816     19.443869  ]\n",
            "   [ 91.209045    53.994747     9.780454  ]]\n",
            "\n",
            "  [[140.18875    109.18874     52.188747  ]\n",
            "   [125.78566     94.71935     40.851955  ]\n",
            "   [109.11222     76.897934    28.867292  ]\n",
            "   ...\n",
            "   [ 97.98491     59.9135      15.056324  ]\n",
            "   [109.632744    71.632744    26.63274   ]\n",
            "   [101.02538     63.025383    18.025385  ]]\n",
            "\n",
            "  [[141.07143    110.84183     51.53061   ]\n",
            "   [126.81122     95.81122     41.739788  ]\n",
            "   [111.852036    79.63775     31.494888  ]\n",
            "   ...\n",
            "   [ 96.98482     56.627605    11.403117  ]\n",
            "   [110.66332     72.66332     25.663324  ]\n",
            "   [109.65793     71.65793     24.657927  ]]]\n",
            "\n",
            "\n",
            " [[[192.12755    183.55612    159.60204   ]\n",
            "   [187.54593    168.5204     144.59183   ]\n",
            "   [147.7653     117.89796     93.83674   ]\n",
            "   ...\n",
            "   [197.86226    223.86226    248.86226   ]\n",
            "   [198.         224.         249.        ]\n",
            "   [197.87244    223.87244    248.87244   ]]\n",
            "\n",
            "  [[199.31122    184.31122    158.00511   ]\n",
            "   [176.69388    151.20407    124.2755    ]\n",
            "   [110.5051      75.17857     47.44898   ]\n",
            "   ...\n",
            "   [196.80104    222.80104    247.80104   ]\n",
            "   [198.         224.         249.        ]\n",
            "   [198.         224.         249.        ]]\n",
            "\n",
            "  [[179.16837    154.10204    122.2551    ]\n",
            "   [150.38776    117.0153      85.44386   ]\n",
            "   [136.30101     94.22959     61.632652  ]\n",
            "   ...\n",
            "   [197.         223.         248.        ]\n",
            "   [196.9847     222.9847     247.9847    ]\n",
            "   [195.78572    221.78572    246.78572   ]]\n",
            "\n",
            "  ...\n",
            "\n",
            "  [[172.7908     189.36227    209.57654   ]\n",
            "   [174.0561     190.62758    210.84184   ]\n",
            "   [175.83163    192.4031     212.61737   ]\n",
            "   ...\n",
            "   [142.55098    171.78574    210.16835   ]\n",
            "   [141.21426    170.42853    210.        ]\n",
            "   [141.49492    170.70918    210.28065   ]]\n",
            "\n",
            "  [[173.73979    190.73979    210.73979   ]\n",
            "   [174.79082    191.79082    211.79082   ]\n",
            "   [174.92856    191.92856    211.92856   ]\n",
            "   ...\n",
            "   [141.84187    171.05614    210.62761   ]\n",
            "   [142.0051     171.0051     211.0051    ]\n",
            "   [138.7857     167.7857     207.7857    ]]\n",
            "\n",
            "  [[175.07143    192.07143    212.07143   ]\n",
            "   [174.52548    191.52548    211.52548   ]\n",
            "   [172.42854    189.42854    209.42854   ]\n",
            "   ...\n",
            "   [140.1479     169.36217    208.93364   ]\n",
            "   [141.9795     170.9795     210.9795    ]\n",
            "   [143.12758    172.12758    212.12758   ]]]], shape=(32, 224, 224, 3), dtype=float32) tf.Tensor(\n",
            "[[1. 0. 0. 0. 0. 0. 0. 0. 0. 0.]\n",
            " [1. 0. 0. 0. 0. 0. 0. 0. 0. 0.]\n",
            " [0. 0. 0. 0. 0. 0. 0. 1. 0. 0.]\n",
            " [0. 0. 0. 0. 0. 0. 0. 0. 0. 1.]\n",
            " [0. 0. 0. 0. 0. 0. 1. 0. 0. 0.]\n",
            " [0. 0. 0. 0. 0. 0. 0. 1. 0. 0.]\n",
            " [0. 0. 1. 0. 0. 0. 0. 0. 0. 0.]\n",
            " [0. 0. 0. 1. 0. 0. 0. 0. 0. 0.]\n",
            " [0. 0. 0. 0. 0. 0. 0. 0. 0. 1.]\n",
            " [0. 0. 0. 0. 0. 0. 0. 0. 0. 1.]\n",
            " [0. 1. 0. 0. 0. 0. 0. 0. 0. 0.]\n",
            " [1. 0. 0. 0. 0. 0. 0. 0. 0. 0.]\n",
            " [0. 0. 0. 0. 0. 0. 0. 0. 1. 0.]\n",
            " [0. 0. 0. 0. 0. 1. 0. 0. 0. 0.]\n",
            " [1. 0. 0. 0. 0. 0. 0. 0. 0. 0.]\n",
            " [0. 0. 0. 0. 0. 0. 0. 0. 1. 0.]\n",
            " [0. 0. 1. 0. 0. 0. 0. 0. 0. 0.]\n",
            " [0. 0. 0. 0. 0. 0. 0. 1. 0. 0.]\n",
            " [0. 0. 0. 0. 1. 0. 0. 0. 0. 0.]\n",
            " [0. 0. 0. 0. 0. 0. 1. 0. 0. 0.]\n",
            " [0. 0. 0. 0. 0. 0. 0. 0. 0. 1.]\n",
            " [0. 0. 0. 1. 0. 0. 0. 0. 0. 0.]\n",
            " [0. 0. 0. 1. 0. 0. 0. 0. 0. 0.]\n",
            " [0. 0. 0. 0. 0. 0. 0. 0. 0. 1.]\n",
            " [0. 0. 0. 0. 0. 1. 0. 0. 0. 0.]\n",
            " [0. 0. 0. 0. 0. 0. 0. 1. 0. 0.]\n",
            " [0. 0. 0. 0. 0. 0. 0. 0. 1. 0.]\n",
            " [0. 0. 0. 0. 0. 0. 0. 1. 0. 0.]\n",
            " [0. 0. 0. 0. 0. 0. 0. 0. 1. 0.]\n",
            " [0. 0. 0. 0. 0. 0. 1. 0. 0. 0.]\n",
            " [0. 0. 0. 1. 0. 0. 0. 0. 0. 0.]\n",
            " [0. 0. 1. 0. 0. 0. 0. 0. 0. 0.]], shape=(32, 10), dtype=float32)\n"
          ],
          "name": "stdout"
        }
      ]
    },
    {
      "cell_type": "code",
      "metadata": {
        "colab": {
          "base_uri": "https://localhost:8080/"
        },
        "id": "m0AJGc3ZjPTS",
        "outputId": "2ca8b805-ce35-4716-ad60-df930895ce2d"
      },
      "source": [
        "# See an example of a batch of data\n",
        "\n",
        "for images, labels in train_data_10_percent.take(1):\n",
        "    print(len(images), labels)"
      ],
      "execution_count": 11,
      "outputs": [
        {
          "output_type": "stream",
          "text": [
            "32 tf.Tensor(\n",
            "[[0. 0. 0. 1. 0. 0. 0. 0. 0. 0.]\n",
            " [1. 0. 0. 0. 0. 0. 0. 0. 0. 0.]\n",
            " [0. 0. 1. 0. 0. 0. 0. 0. 0. 0.]\n",
            " [0. 0. 0. 0. 0. 0. 1. 0. 0. 0.]\n",
            " [0. 0. 0. 0. 0. 0. 0. 0. 1. 0.]\n",
            " [0. 0. 0. 0. 0. 0. 0. 0. 0. 1.]\n",
            " [0. 0. 0. 0. 0. 1. 0. 0. 0. 0.]\n",
            " [0. 1. 0. 0. 0. 0. 0. 0. 0. 0.]\n",
            " [0. 0. 0. 0. 0. 0. 0. 1. 0. 0.]\n",
            " [0. 0. 0. 0. 0. 1. 0. 0. 0. 0.]\n",
            " [1. 0. 0. 0. 0. 0. 0. 0. 0. 0.]\n",
            " [0. 0. 0. 0. 0. 0. 0. 0. 0. 1.]\n",
            " [0. 0. 0. 0. 1. 0. 0. 0. 0. 0.]\n",
            " [0. 0. 0. 0. 1. 0. 0. 0. 0. 0.]\n",
            " [0. 0. 0. 0. 0. 0. 0. 0. 1. 0.]\n",
            " [0. 0. 0. 0. 1. 0. 0. 0. 0. 0.]\n",
            " [0. 0. 0. 0. 0. 0. 1. 0. 0. 0.]\n",
            " [0. 0. 0. 0. 0. 0. 0. 0. 0. 1.]\n",
            " [0. 0. 0. 0. 0. 0. 0. 1. 0. 0.]\n",
            " [0. 0. 0. 0. 1. 0. 0. 0. 0. 0.]\n",
            " [0. 0. 0. 0. 0. 0. 0. 0. 0. 1.]\n",
            " [1. 0. 0. 0. 0. 0. 0. 0. 0. 0.]\n",
            " [0. 0. 0. 0. 0. 0. 0. 0. 1. 0.]\n",
            " [0. 0. 0. 0. 0. 0. 0. 0. 1. 0.]\n",
            " [0. 0. 0. 0. 0. 0. 0. 0. 1. 0.]\n",
            " [0. 0. 0. 0. 0. 0. 0. 1. 0. 0.]\n",
            " [0. 0. 0. 0. 0. 0. 0. 0. 0. 1.]\n",
            " [0. 0. 0. 1. 0. 0. 0. 0. 0. 0.]\n",
            " [0. 0. 1. 0. 0. 0. 0. 0. 0. 0.]\n",
            " [0. 0. 0. 0. 0. 0. 0. 0. 1. 0.]\n",
            " [0. 0. 0. 0. 0. 1. 0. 0. 0. 0.]\n",
            " [0. 0. 0. 0. 0. 1. 0. 0. 0. 0.]], shape=(32, 10), dtype=float32)\n"
          ],
          "name": "stdout"
        }
      ]
    },
    {
      "cell_type": "markdown",
      "metadata": {
        "id": "oMkyX8RbjXjt"
      },
      "source": [
        "## Model 0: building a transfer learning feature extraction model using a keras Functional AI\n",
        "\n",
        "The sequential Api is straight-forward, it runs the layers in sequential order\n",
        "\n",
        "But the functional API gives us more flexibility: https://www.tensorflow.org/guide/keras/functional"
      ]
    },
    {
      "cell_type": "code",
      "metadata": {
        "colab": {
          "base_uri": "https://localhost:8080/"
        },
        "id": "fAVgbWlBJfjL",
        "outputId": "73e4c74c-dee4-4a99-8183-2cfe0866219f"
      },
      "source": [
        "# 1. Create base model with tf.keras.applications\n",
        "base_model = tf.keras.applications.EfficientNetB0(include_top=False) # Because this model is originally trained on Imagenet its top layer is fitted for 1000 clases, and we want it to change to 10\n",
        "\n",
        "# 2. Freeze the base model (so the underlying pre-trained patterns aren't updated)\n",
        "base_model.trainable = False\n",
        "\n",
        "# 3. Create inputs into our model\n",
        "inputs = tf.keras.layers.Input(shape=(224,224,3), name=\"Input Layer\")\n",
        "\n",
        "# 4. If using a model like Resnet50V2 you will need to normalize inputs\n",
        "# x = tf.keras.layers.experimental.preprocessing.Rescaling(1/255.)(input)\n",
        "# Dont have to do for efficientnet, it is inbuilt for it if using from tf.keras.applications\n",
        "\n",
        "\n",
        "# 5. Pass the inputs to base model \n",
        "x = base_model(inputs)\n",
        "print(f\"Shape after passing inputs through base model: {x.shape}\")\n",
        "\n",
        "# 6. Average Pool the output of the base model (aggregate the most important information, reduce number of computations)\n",
        "x = tf.keras.layers.GlobalAveragePooling2D(name=\"Global_Average_Pooling_layer\")(x)\n",
        "print(f\"Shape after Global average pooling 2D: {x.shape}\")\n",
        "\n",
        "# 7. Create the output activation layer\n",
        "outputs = tf.keras.layers.Dense(10, activation =\"softmax\", name=\"Output_Layer\")(x)\n",
        "\n",
        "# 8. Combine the inputs with the outputs into a model\n",
        "model_0 = tf.keras.Model(inputs, outputs)\n",
        "\n",
        "# 9. Compile the model\n",
        "model_0.compile(loss=\"categorical_crossentropy\",\n",
        "                optimizer=tf.keras.optimizers.Adam(),\n",
        "                metrics=[\"accuracy\"])\n",
        "\n",
        "# 10. Fit the model and its history\n",
        "history_0 = model_0.fit(train_data_10_percent,\n",
        "                        epochs=5,\n",
        "                        steps_per_epoch=len(train_data_10_percent),\n",
        "                        validation_data=test_data,\n",
        "                        validation_steps = int(0.25 * len(test_data)),\n",
        "                        callbacks=[create_tensorboard_callback(dir_name=\"transfer_learning\",\n",
        "                                                               experiment_name=\"10_percent\")])"
      ],
      "execution_count": 12,
      "outputs": [
        {
          "output_type": "stream",
          "text": [
            "Downloading data from https://storage.googleapis.com/keras-applications/efficientnetb0_notop.h5\n",
            "16711680/16705208 [==============================] - 0s 0us/step\n",
            "Shape after passing inputs through base model: (None, 7, 7, 1280)\n",
            "Shape after Global average pooling 2D: (None, 1280)\n",
            "Saving TensorBoard log files to: transfer_learning/10_percent/20210621-130444\n",
            "Epoch 1/5\n"
          ],
          "name": "stdout"
        },
        {
          "output_type": "stream",
          "text": [
            "/usr/local/lib/python3.7/dist-packages/tensorflow/python/keras/utils/generic_utils.py:497: CustomMaskWarning: Custom mask layers require a config and must override get_config. When loading, the custom mask layer must be passed to the custom_objects argument.\n",
            "  category=CustomMaskWarning)\n"
          ],
          "name": "stderr"
        },
        {
          "output_type": "stream",
          "text": [
            "24/24 [==============================] - 42s 305ms/step - loss: 1.9186 - accuracy: 0.3947 - val_loss: 1.3802 - val_accuracy: 0.7056\n",
            "Epoch 2/5\n",
            "24/24 [==============================] - 5s 202ms/step - loss: 1.1554 - accuracy: 0.7347 - val_loss: 0.9516 - val_accuracy: 0.7829\n",
            "Epoch 3/5\n",
            "24/24 [==============================] - 5s 202ms/step - loss: 0.8324 - accuracy: 0.8227 - val_loss: 0.7688 - val_accuracy: 0.8076\n",
            "Epoch 4/5\n",
            "24/24 [==============================] - 5s 206ms/step - loss: 0.6848 - accuracy: 0.8427 - val_loss: 0.6755 - val_accuracy: 0.8240\n",
            "Epoch 5/5\n",
            "24/24 [==============================] - 5s 202ms/step - loss: 0.6006 - accuracy: 0.8627 - val_loss: 0.6123 - val_accuracy: 0.8503\n"
          ],
          "name": "stdout"
        }
      ]
    },
    {
      "cell_type": "code",
      "metadata": {
        "colab": {
          "base_uri": "https://localhost:8080/"
        },
        "id": "oVfp7PkiN-fl",
        "outputId": "9d03b187-16a0-47bd-d245-3d8b5b9057e0"
      },
      "source": [
        "# Evaluate on the full dataset\n",
        "model_0.evaluate(test_data)"
      ],
      "execution_count": 13,
      "outputs": [
        {
          "output_type": "stream",
          "text": [
            "79/79 [==============================] - 9s 107ms/step - loss: 0.6047 - accuracy: 0.8432\n"
          ],
          "name": "stdout"
        },
        {
          "output_type": "execute_result",
          "data": {
            "text/plain": [
              "[0.6046938896179199, 0.8432000279426575]"
            ]
          },
          "metadata": {
            "tags": []
          },
          "execution_count": 13
        }
      ]
    },
    {
      "cell_type": "code",
      "metadata": {
        "colab": {
          "base_uri": "https://localhost:8080/"
        },
        "id": "Izd2PcQ8PENN",
        "outputId": "ba9fef18-5294-4e52-d9d6-18a570cb75b8"
      },
      "source": [
        "# check the layers in the base model\n",
        "for layer_number, layer in enumerate(base_model.layers):\n",
        "    print(layer_number, layer.name)"
      ],
      "execution_count": 14,
      "outputs": [
        {
          "output_type": "stream",
          "text": [
            "0 input_1\n",
            "1 rescaling\n",
            "2 normalization\n",
            "3 stem_conv_pad\n",
            "4 stem_conv\n",
            "5 stem_bn\n",
            "6 stem_activation\n",
            "7 block1a_dwconv\n",
            "8 block1a_bn\n",
            "9 block1a_activation\n",
            "10 block1a_se_squeeze\n",
            "11 block1a_se_reshape\n",
            "12 block1a_se_reduce\n",
            "13 block1a_se_expand\n",
            "14 block1a_se_excite\n",
            "15 block1a_project_conv\n",
            "16 block1a_project_bn\n",
            "17 block2a_expand_conv\n",
            "18 block2a_expand_bn\n",
            "19 block2a_expand_activation\n",
            "20 block2a_dwconv_pad\n",
            "21 block2a_dwconv\n",
            "22 block2a_bn\n",
            "23 block2a_activation\n",
            "24 block2a_se_squeeze\n",
            "25 block2a_se_reshape\n",
            "26 block2a_se_reduce\n",
            "27 block2a_se_expand\n",
            "28 block2a_se_excite\n",
            "29 block2a_project_conv\n",
            "30 block2a_project_bn\n",
            "31 block2b_expand_conv\n",
            "32 block2b_expand_bn\n",
            "33 block2b_expand_activation\n",
            "34 block2b_dwconv\n",
            "35 block2b_bn\n",
            "36 block2b_activation\n",
            "37 block2b_se_squeeze\n",
            "38 block2b_se_reshape\n",
            "39 block2b_se_reduce\n",
            "40 block2b_se_expand\n",
            "41 block2b_se_excite\n",
            "42 block2b_project_conv\n",
            "43 block2b_project_bn\n",
            "44 block2b_drop\n",
            "45 block2b_add\n",
            "46 block3a_expand_conv\n",
            "47 block3a_expand_bn\n",
            "48 block3a_expand_activation\n",
            "49 block3a_dwconv_pad\n",
            "50 block3a_dwconv\n",
            "51 block3a_bn\n",
            "52 block3a_activation\n",
            "53 block3a_se_squeeze\n",
            "54 block3a_se_reshape\n",
            "55 block3a_se_reduce\n",
            "56 block3a_se_expand\n",
            "57 block3a_se_excite\n",
            "58 block3a_project_conv\n",
            "59 block3a_project_bn\n",
            "60 block3b_expand_conv\n",
            "61 block3b_expand_bn\n",
            "62 block3b_expand_activation\n",
            "63 block3b_dwconv\n",
            "64 block3b_bn\n",
            "65 block3b_activation\n",
            "66 block3b_se_squeeze\n",
            "67 block3b_se_reshape\n",
            "68 block3b_se_reduce\n",
            "69 block3b_se_expand\n",
            "70 block3b_se_excite\n",
            "71 block3b_project_conv\n",
            "72 block3b_project_bn\n",
            "73 block3b_drop\n",
            "74 block3b_add\n",
            "75 block4a_expand_conv\n",
            "76 block4a_expand_bn\n",
            "77 block4a_expand_activation\n",
            "78 block4a_dwconv_pad\n",
            "79 block4a_dwconv\n",
            "80 block4a_bn\n",
            "81 block4a_activation\n",
            "82 block4a_se_squeeze\n",
            "83 block4a_se_reshape\n",
            "84 block4a_se_reduce\n",
            "85 block4a_se_expand\n",
            "86 block4a_se_excite\n",
            "87 block4a_project_conv\n",
            "88 block4a_project_bn\n",
            "89 block4b_expand_conv\n",
            "90 block4b_expand_bn\n",
            "91 block4b_expand_activation\n",
            "92 block4b_dwconv\n",
            "93 block4b_bn\n",
            "94 block4b_activation\n",
            "95 block4b_se_squeeze\n",
            "96 block4b_se_reshape\n",
            "97 block4b_se_reduce\n",
            "98 block4b_se_expand\n",
            "99 block4b_se_excite\n",
            "100 block4b_project_conv\n",
            "101 block4b_project_bn\n",
            "102 block4b_drop\n",
            "103 block4b_add\n",
            "104 block4c_expand_conv\n",
            "105 block4c_expand_bn\n",
            "106 block4c_expand_activation\n",
            "107 block4c_dwconv\n",
            "108 block4c_bn\n",
            "109 block4c_activation\n",
            "110 block4c_se_squeeze\n",
            "111 block4c_se_reshape\n",
            "112 block4c_se_reduce\n",
            "113 block4c_se_expand\n",
            "114 block4c_se_excite\n",
            "115 block4c_project_conv\n",
            "116 block4c_project_bn\n",
            "117 block4c_drop\n",
            "118 block4c_add\n",
            "119 block5a_expand_conv\n",
            "120 block5a_expand_bn\n",
            "121 block5a_expand_activation\n",
            "122 block5a_dwconv\n",
            "123 block5a_bn\n",
            "124 block5a_activation\n",
            "125 block5a_se_squeeze\n",
            "126 block5a_se_reshape\n",
            "127 block5a_se_reduce\n",
            "128 block5a_se_expand\n",
            "129 block5a_se_excite\n",
            "130 block5a_project_conv\n",
            "131 block5a_project_bn\n",
            "132 block5b_expand_conv\n",
            "133 block5b_expand_bn\n",
            "134 block5b_expand_activation\n",
            "135 block5b_dwconv\n",
            "136 block5b_bn\n",
            "137 block5b_activation\n",
            "138 block5b_se_squeeze\n",
            "139 block5b_se_reshape\n",
            "140 block5b_se_reduce\n",
            "141 block5b_se_expand\n",
            "142 block5b_se_excite\n",
            "143 block5b_project_conv\n",
            "144 block5b_project_bn\n",
            "145 block5b_drop\n",
            "146 block5b_add\n",
            "147 block5c_expand_conv\n",
            "148 block5c_expand_bn\n",
            "149 block5c_expand_activation\n",
            "150 block5c_dwconv\n",
            "151 block5c_bn\n",
            "152 block5c_activation\n",
            "153 block5c_se_squeeze\n",
            "154 block5c_se_reshape\n",
            "155 block5c_se_reduce\n",
            "156 block5c_se_expand\n",
            "157 block5c_se_excite\n",
            "158 block5c_project_conv\n",
            "159 block5c_project_bn\n",
            "160 block5c_drop\n",
            "161 block5c_add\n",
            "162 block6a_expand_conv\n",
            "163 block6a_expand_bn\n",
            "164 block6a_expand_activation\n",
            "165 block6a_dwconv_pad\n",
            "166 block6a_dwconv\n",
            "167 block6a_bn\n",
            "168 block6a_activation\n",
            "169 block6a_se_squeeze\n",
            "170 block6a_se_reshape\n",
            "171 block6a_se_reduce\n",
            "172 block6a_se_expand\n",
            "173 block6a_se_excite\n",
            "174 block6a_project_conv\n",
            "175 block6a_project_bn\n",
            "176 block6b_expand_conv\n",
            "177 block6b_expand_bn\n",
            "178 block6b_expand_activation\n",
            "179 block6b_dwconv\n",
            "180 block6b_bn\n",
            "181 block6b_activation\n",
            "182 block6b_se_squeeze\n",
            "183 block6b_se_reshape\n",
            "184 block6b_se_reduce\n",
            "185 block6b_se_expand\n",
            "186 block6b_se_excite\n",
            "187 block6b_project_conv\n",
            "188 block6b_project_bn\n",
            "189 block6b_drop\n",
            "190 block6b_add\n",
            "191 block6c_expand_conv\n",
            "192 block6c_expand_bn\n",
            "193 block6c_expand_activation\n",
            "194 block6c_dwconv\n",
            "195 block6c_bn\n",
            "196 block6c_activation\n",
            "197 block6c_se_squeeze\n",
            "198 block6c_se_reshape\n",
            "199 block6c_se_reduce\n",
            "200 block6c_se_expand\n",
            "201 block6c_se_excite\n",
            "202 block6c_project_conv\n",
            "203 block6c_project_bn\n",
            "204 block6c_drop\n",
            "205 block6c_add\n",
            "206 block6d_expand_conv\n",
            "207 block6d_expand_bn\n",
            "208 block6d_expand_activation\n",
            "209 block6d_dwconv\n",
            "210 block6d_bn\n",
            "211 block6d_activation\n",
            "212 block6d_se_squeeze\n",
            "213 block6d_se_reshape\n",
            "214 block6d_se_reduce\n",
            "215 block6d_se_expand\n",
            "216 block6d_se_excite\n",
            "217 block6d_project_conv\n",
            "218 block6d_project_bn\n",
            "219 block6d_drop\n",
            "220 block6d_add\n",
            "221 block7a_expand_conv\n",
            "222 block7a_expand_bn\n",
            "223 block7a_expand_activation\n",
            "224 block7a_dwconv\n",
            "225 block7a_bn\n",
            "226 block7a_activation\n",
            "227 block7a_se_squeeze\n",
            "228 block7a_se_reshape\n",
            "229 block7a_se_reduce\n",
            "230 block7a_se_expand\n",
            "231 block7a_se_excite\n",
            "232 block7a_project_conv\n",
            "233 block7a_project_bn\n",
            "234 top_conv\n",
            "235 top_bn\n",
            "236 top_activation\n"
          ],
          "name": "stdout"
        }
      ]
    },
    {
      "cell_type": "code",
      "metadata": {
        "colab": {
          "base_uri": "https://localhost:8080/"
        },
        "id": "LjmsHSknPXHT",
        "outputId": "546e3a1f-5144-40b0-9faf-d22dd5539280"
      },
      "source": [
        "# how about we get the summary of the base model\n",
        "base_model.summary()"
      ],
      "execution_count": 15,
      "outputs": [
        {
          "output_type": "stream",
          "text": [
            "Model: \"efficientnetb0\"\n",
            "__________________________________________________________________________________________________\n",
            "Layer (type)                    Output Shape         Param #     Connected to                     \n",
            "==================================================================================================\n",
            "input_1 (InputLayer)            [(None, None, None,  0                                            \n",
            "__________________________________________________________________________________________________\n",
            "rescaling (Rescaling)           (None, None, None, 3 0           input_1[0][0]                    \n",
            "__________________________________________________________________________________________________\n",
            "normalization (Normalization)   (None, None, None, 3 7           rescaling[0][0]                  \n",
            "__________________________________________________________________________________________________\n",
            "stem_conv_pad (ZeroPadding2D)   (None, None, None, 3 0           normalization[0][0]              \n",
            "__________________________________________________________________________________________________\n",
            "stem_conv (Conv2D)              (None, None, None, 3 864         stem_conv_pad[0][0]              \n",
            "__________________________________________________________________________________________________\n",
            "stem_bn (BatchNormalization)    (None, None, None, 3 128         stem_conv[0][0]                  \n",
            "__________________________________________________________________________________________________\n",
            "stem_activation (Activation)    (None, None, None, 3 0           stem_bn[0][0]                    \n",
            "__________________________________________________________________________________________________\n",
            "block1a_dwconv (DepthwiseConv2D (None, None, None, 3 288         stem_activation[0][0]            \n",
            "__________________________________________________________________________________________________\n",
            "block1a_bn (BatchNormalization) (None, None, None, 3 128         block1a_dwconv[0][0]             \n",
            "__________________________________________________________________________________________________\n",
            "block1a_activation (Activation) (None, None, None, 3 0           block1a_bn[0][0]                 \n",
            "__________________________________________________________________________________________________\n",
            "block1a_se_squeeze (GlobalAvera (None, 32)           0           block1a_activation[0][0]         \n",
            "__________________________________________________________________________________________________\n",
            "block1a_se_reshape (Reshape)    (None, 1, 1, 32)     0           block1a_se_squeeze[0][0]         \n",
            "__________________________________________________________________________________________________\n",
            "block1a_se_reduce (Conv2D)      (None, 1, 1, 8)      264         block1a_se_reshape[0][0]         \n",
            "__________________________________________________________________________________________________\n",
            "block1a_se_expand (Conv2D)      (None, 1, 1, 32)     288         block1a_se_reduce[0][0]          \n",
            "__________________________________________________________________________________________________\n",
            "block1a_se_excite (Multiply)    (None, None, None, 3 0           block1a_activation[0][0]         \n",
            "                                                                 block1a_se_expand[0][0]          \n",
            "__________________________________________________________________________________________________\n",
            "block1a_project_conv (Conv2D)   (None, None, None, 1 512         block1a_se_excite[0][0]          \n",
            "__________________________________________________________________________________________________\n",
            "block1a_project_bn (BatchNormal (None, None, None, 1 64          block1a_project_conv[0][0]       \n",
            "__________________________________________________________________________________________________\n",
            "block2a_expand_conv (Conv2D)    (None, None, None, 9 1536        block1a_project_bn[0][0]         \n",
            "__________________________________________________________________________________________________\n",
            "block2a_expand_bn (BatchNormali (None, None, None, 9 384         block2a_expand_conv[0][0]        \n",
            "__________________________________________________________________________________________________\n",
            "block2a_expand_activation (Acti (None, None, None, 9 0           block2a_expand_bn[0][0]          \n",
            "__________________________________________________________________________________________________\n",
            "block2a_dwconv_pad (ZeroPadding (None, None, None, 9 0           block2a_expand_activation[0][0]  \n",
            "__________________________________________________________________________________________________\n",
            "block2a_dwconv (DepthwiseConv2D (None, None, None, 9 864         block2a_dwconv_pad[0][0]         \n",
            "__________________________________________________________________________________________________\n",
            "block2a_bn (BatchNormalization) (None, None, None, 9 384         block2a_dwconv[0][0]             \n",
            "__________________________________________________________________________________________________\n",
            "block2a_activation (Activation) (None, None, None, 9 0           block2a_bn[0][0]                 \n",
            "__________________________________________________________________________________________________\n",
            "block2a_se_squeeze (GlobalAvera (None, 96)           0           block2a_activation[0][0]         \n",
            "__________________________________________________________________________________________________\n",
            "block2a_se_reshape (Reshape)    (None, 1, 1, 96)     0           block2a_se_squeeze[0][0]         \n",
            "__________________________________________________________________________________________________\n",
            "block2a_se_reduce (Conv2D)      (None, 1, 1, 4)      388         block2a_se_reshape[0][0]         \n",
            "__________________________________________________________________________________________________\n",
            "block2a_se_expand (Conv2D)      (None, 1, 1, 96)     480         block2a_se_reduce[0][0]          \n",
            "__________________________________________________________________________________________________\n",
            "block2a_se_excite (Multiply)    (None, None, None, 9 0           block2a_activation[0][0]         \n",
            "                                                                 block2a_se_expand[0][0]          \n",
            "__________________________________________________________________________________________________\n",
            "block2a_project_conv (Conv2D)   (None, None, None, 2 2304        block2a_se_excite[0][0]          \n",
            "__________________________________________________________________________________________________\n",
            "block2a_project_bn (BatchNormal (None, None, None, 2 96          block2a_project_conv[0][0]       \n",
            "__________________________________________________________________________________________________\n",
            "block2b_expand_conv (Conv2D)    (None, None, None, 1 3456        block2a_project_bn[0][0]         \n",
            "__________________________________________________________________________________________________\n",
            "block2b_expand_bn (BatchNormali (None, None, None, 1 576         block2b_expand_conv[0][0]        \n",
            "__________________________________________________________________________________________________\n",
            "block2b_expand_activation (Acti (None, None, None, 1 0           block2b_expand_bn[0][0]          \n",
            "__________________________________________________________________________________________________\n",
            "block2b_dwconv (DepthwiseConv2D (None, None, None, 1 1296        block2b_expand_activation[0][0]  \n",
            "__________________________________________________________________________________________________\n",
            "block2b_bn (BatchNormalization) (None, None, None, 1 576         block2b_dwconv[0][0]             \n",
            "__________________________________________________________________________________________________\n",
            "block2b_activation (Activation) (None, None, None, 1 0           block2b_bn[0][0]                 \n",
            "__________________________________________________________________________________________________\n",
            "block2b_se_squeeze (GlobalAvera (None, 144)          0           block2b_activation[0][0]         \n",
            "__________________________________________________________________________________________________\n",
            "block2b_se_reshape (Reshape)    (None, 1, 1, 144)    0           block2b_se_squeeze[0][0]         \n",
            "__________________________________________________________________________________________________\n",
            "block2b_se_reduce (Conv2D)      (None, 1, 1, 6)      870         block2b_se_reshape[0][0]         \n",
            "__________________________________________________________________________________________________\n",
            "block2b_se_expand (Conv2D)      (None, 1, 1, 144)    1008        block2b_se_reduce[0][0]          \n",
            "__________________________________________________________________________________________________\n",
            "block2b_se_excite (Multiply)    (None, None, None, 1 0           block2b_activation[0][0]         \n",
            "                                                                 block2b_se_expand[0][0]          \n",
            "__________________________________________________________________________________________________\n",
            "block2b_project_conv (Conv2D)   (None, None, None, 2 3456        block2b_se_excite[0][0]          \n",
            "__________________________________________________________________________________________________\n",
            "block2b_project_bn (BatchNormal (None, None, None, 2 96          block2b_project_conv[0][0]       \n",
            "__________________________________________________________________________________________________\n",
            "block2b_drop (Dropout)          (None, None, None, 2 0           block2b_project_bn[0][0]         \n",
            "__________________________________________________________________________________________________\n",
            "block2b_add (Add)               (None, None, None, 2 0           block2b_drop[0][0]               \n",
            "                                                                 block2a_project_bn[0][0]         \n",
            "__________________________________________________________________________________________________\n",
            "block3a_expand_conv (Conv2D)    (None, None, None, 1 3456        block2b_add[0][0]                \n",
            "__________________________________________________________________________________________________\n",
            "block3a_expand_bn (BatchNormali (None, None, None, 1 576         block3a_expand_conv[0][0]        \n",
            "__________________________________________________________________________________________________\n",
            "block3a_expand_activation (Acti (None, None, None, 1 0           block3a_expand_bn[0][0]          \n",
            "__________________________________________________________________________________________________\n",
            "block3a_dwconv_pad (ZeroPadding (None, None, None, 1 0           block3a_expand_activation[0][0]  \n",
            "__________________________________________________________________________________________________\n",
            "block3a_dwconv (DepthwiseConv2D (None, None, None, 1 3600        block3a_dwconv_pad[0][0]         \n",
            "__________________________________________________________________________________________________\n",
            "block3a_bn (BatchNormalization) (None, None, None, 1 576         block3a_dwconv[0][0]             \n",
            "__________________________________________________________________________________________________\n",
            "block3a_activation (Activation) (None, None, None, 1 0           block3a_bn[0][0]                 \n",
            "__________________________________________________________________________________________________\n",
            "block3a_se_squeeze (GlobalAvera (None, 144)          0           block3a_activation[0][0]         \n",
            "__________________________________________________________________________________________________\n",
            "block3a_se_reshape (Reshape)    (None, 1, 1, 144)    0           block3a_se_squeeze[0][0]         \n",
            "__________________________________________________________________________________________________\n",
            "block3a_se_reduce (Conv2D)      (None, 1, 1, 6)      870         block3a_se_reshape[0][0]         \n",
            "__________________________________________________________________________________________________\n",
            "block3a_se_expand (Conv2D)      (None, 1, 1, 144)    1008        block3a_se_reduce[0][0]          \n",
            "__________________________________________________________________________________________________\n",
            "block3a_se_excite (Multiply)    (None, None, None, 1 0           block3a_activation[0][0]         \n",
            "                                                                 block3a_se_expand[0][0]          \n",
            "__________________________________________________________________________________________________\n",
            "block3a_project_conv (Conv2D)   (None, None, None, 4 5760        block3a_se_excite[0][0]          \n",
            "__________________________________________________________________________________________________\n",
            "block3a_project_bn (BatchNormal (None, None, None, 4 160         block3a_project_conv[0][0]       \n",
            "__________________________________________________________________________________________________\n",
            "block3b_expand_conv (Conv2D)    (None, None, None, 2 9600        block3a_project_bn[0][0]         \n",
            "__________________________________________________________________________________________________\n",
            "block3b_expand_bn (BatchNormali (None, None, None, 2 960         block3b_expand_conv[0][0]        \n",
            "__________________________________________________________________________________________________\n",
            "block3b_expand_activation (Acti (None, None, None, 2 0           block3b_expand_bn[0][0]          \n",
            "__________________________________________________________________________________________________\n",
            "block3b_dwconv (DepthwiseConv2D (None, None, None, 2 6000        block3b_expand_activation[0][0]  \n",
            "__________________________________________________________________________________________________\n",
            "block3b_bn (BatchNormalization) (None, None, None, 2 960         block3b_dwconv[0][0]             \n",
            "__________________________________________________________________________________________________\n",
            "block3b_activation (Activation) (None, None, None, 2 0           block3b_bn[0][0]                 \n",
            "__________________________________________________________________________________________________\n",
            "block3b_se_squeeze (GlobalAvera (None, 240)          0           block3b_activation[0][0]         \n",
            "__________________________________________________________________________________________________\n",
            "block3b_se_reshape (Reshape)    (None, 1, 1, 240)    0           block3b_se_squeeze[0][0]         \n",
            "__________________________________________________________________________________________________\n",
            "block3b_se_reduce (Conv2D)      (None, 1, 1, 10)     2410        block3b_se_reshape[0][0]         \n",
            "__________________________________________________________________________________________________\n",
            "block3b_se_expand (Conv2D)      (None, 1, 1, 240)    2640        block3b_se_reduce[0][0]          \n",
            "__________________________________________________________________________________________________\n",
            "block3b_se_excite (Multiply)    (None, None, None, 2 0           block3b_activation[0][0]         \n",
            "                                                                 block3b_se_expand[0][0]          \n",
            "__________________________________________________________________________________________________\n",
            "block3b_project_conv (Conv2D)   (None, None, None, 4 9600        block3b_se_excite[0][0]          \n",
            "__________________________________________________________________________________________________\n",
            "block3b_project_bn (BatchNormal (None, None, None, 4 160         block3b_project_conv[0][0]       \n",
            "__________________________________________________________________________________________________\n",
            "block3b_drop (Dropout)          (None, None, None, 4 0           block3b_project_bn[0][0]         \n",
            "__________________________________________________________________________________________________\n",
            "block3b_add (Add)               (None, None, None, 4 0           block3b_drop[0][0]               \n",
            "                                                                 block3a_project_bn[0][0]         \n",
            "__________________________________________________________________________________________________\n",
            "block4a_expand_conv (Conv2D)    (None, None, None, 2 9600        block3b_add[0][0]                \n",
            "__________________________________________________________________________________________________\n",
            "block4a_expand_bn (BatchNormali (None, None, None, 2 960         block4a_expand_conv[0][0]        \n",
            "__________________________________________________________________________________________________\n",
            "block4a_expand_activation (Acti (None, None, None, 2 0           block4a_expand_bn[0][0]          \n",
            "__________________________________________________________________________________________________\n",
            "block4a_dwconv_pad (ZeroPadding (None, None, None, 2 0           block4a_expand_activation[0][0]  \n",
            "__________________________________________________________________________________________________\n",
            "block4a_dwconv (DepthwiseConv2D (None, None, None, 2 2160        block4a_dwconv_pad[0][0]         \n",
            "__________________________________________________________________________________________________\n",
            "block4a_bn (BatchNormalization) (None, None, None, 2 960         block4a_dwconv[0][0]             \n",
            "__________________________________________________________________________________________________\n",
            "block4a_activation (Activation) (None, None, None, 2 0           block4a_bn[0][0]                 \n",
            "__________________________________________________________________________________________________\n",
            "block4a_se_squeeze (GlobalAvera (None, 240)          0           block4a_activation[0][0]         \n",
            "__________________________________________________________________________________________________\n",
            "block4a_se_reshape (Reshape)    (None, 1, 1, 240)    0           block4a_se_squeeze[0][0]         \n",
            "__________________________________________________________________________________________________\n",
            "block4a_se_reduce (Conv2D)      (None, 1, 1, 10)     2410        block4a_se_reshape[0][0]         \n",
            "__________________________________________________________________________________________________\n",
            "block4a_se_expand (Conv2D)      (None, 1, 1, 240)    2640        block4a_se_reduce[0][0]          \n",
            "__________________________________________________________________________________________________\n",
            "block4a_se_excite (Multiply)    (None, None, None, 2 0           block4a_activation[0][0]         \n",
            "                                                                 block4a_se_expand[0][0]          \n",
            "__________________________________________________________________________________________________\n",
            "block4a_project_conv (Conv2D)   (None, None, None, 8 19200       block4a_se_excite[0][0]          \n",
            "__________________________________________________________________________________________________\n",
            "block4a_project_bn (BatchNormal (None, None, None, 8 320         block4a_project_conv[0][0]       \n",
            "__________________________________________________________________________________________________\n",
            "block4b_expand_conv (Conv2D)    (None, None, None, 4 38400       block4a_project_bn[0][0]         \n",
            "__________________________________________________________________________________________________\n",
            "block4b_expand_bn (BatchNormali (None, None, None, 4 1920        block4b_expand_conv[0][0]        \n",
            "__________________________________________________________________________________________________\n",
            "block4b_expand_activation (Acti (None, None, None, 4 0           block4b_expand_bn[0][0]          \n",
            "__________________________________________________________________________________________________\n",
            "block4b_dwconv (DepthwiseConv2D (None, None, None, 4 4320        block4b_expand_activation[0][0]  \n",
            "__________________________________________________________________________________________________\n",
            "block4b_bn (BatchNormalization) (None, None, None, 4 1920        block4b_dwconv[0][0]             \n",
            "__________________________________________________________________________________________________\n",
            "block4b_activation (Activation) (None, None, None, 4 0           block4b_bn[0][0]                 \n",
            "__________________________________________________________________________________________________\n",
            "block4b_se_squeeze (GlobalAvera (None, 480)          0           block4b_activation[0][0]         \n",
            "__________________________________________________________________________________________________\n",
            "block4b_se_reshape (Reshape)    (None, 1, 1, 480)    0           block4b_se_squeeze[0][0]         \n",
            "__________________________________________________________________________________________________\n",
            "block4b_se_reduce (Conv2D)      (None, 1, 1, 20)     9620        block4b_se_reshape[0][0]         \n",
            "__________________________________________________________________________________________________\n",
            "block4b_se_expand (Conv2D)      (None, 1, 1, 480)    10080       block4b_se_reduce[0][0]          \n",
            "__________________________________________________________________________________________________\n",
            "block4b_se_excite (Multiply)    (None, None, None, 4 0           block4b_activation[0][0]         \n",
            "                                                                 block4b_se_expand[0][0]          \n",
            "__________________________________________________________________________________________________\n",
            "block4b_project_conv (Conv2D)   (None, None, None, 8 38400       block4b_se_excite[0][0]          \n",
            "__________________________________________________________________________________________________\n",
            "block4b_project_bn (BatchNormal (None, None, None, 8 320         block4b_project_conv[0][0]       \n",
            "__________________________________________________________________________________________________\n",
            "block4b_drop (Dropout)          (None, None, None, 8 0           block4b_project_bn[0][0]         \n",
            "__________________________________________________________________________________________________\n",
            "block4b_add (Add)               (None, None, None, 8 0           block4b_drop[0][0]               \n",
            "                                                                 block4a_project_bn[0][0]         \n",
            "__________________________________________________________________________________________________\n",
            "block4c_expand_conv (Conv2D)    (None, None, None, 4 38400       block4b_add[0][0]                \n",
            "__________________________________________________________________________________________________\n",
            "block4c_expand_bn (BatchNormali (None, None, None, 4 1920        block4c_expand_conv[0][0]        \n",
            "__________________________________________________________________________________________________\n",
            "block4c_expand_activation (Acti (None, None, None, 4 0           block4c_expand_bn[0][0]          \n",
            "__________________________________________________________________________________________________\n",
            "block4c_dwconv (DepthwiseConv2D (None, None, None, 4 4320        block4c_expand_activation[0][0]  \n",
            "__________________________________________________________________________________________________\n",
            "block4c_bn (BatchNormalization) (None, None, None, 4 1920        block4c_dwconv[0][0]             \n",
            "__________________________________________________________________________________________________\n",
            "block4c_activation (Activation) (None, None, None, 4 0           block4c_bn[0][0]                 \n",
            "__________________________________________________________________________________________________\n",
            "block4c_se_squeeze (GlobalAvera (None, 480)          0           block4c_activation[0][0]         \n",
            "__________________________________________________________________________________________________\n",
            "block4c_se_reshape (Reshape)    (None, 1, 1, 480)    0           block4c_se_squeeze[0][0]         \n",
            "__________________________________________________________________________________________________\n",
            "block4c_se_reduce (Conv2D)      (None, 1, 1, 20)     9620        block4c_se_reshape[0][0]         \n",
            "__________________________________________________________________________________________________\n",
            "block4c_se_expand (Conv2D)      (None, 1, 1, 480)    10080       block4c_se_reduce[0][0]          \n",
            "__________________________________________________________________________________________________\n",
            "block4c_se_excite (Multiply)    (None, None, None, 4 0           block4c_activation[0][0]         \n",
            "                                                                 block4c_se_expand[0][0]          \n",
            "__________________________________________________________________________________________________\n",
            "block4c_project_conv (Conv2D)   (None, None, None, 8 38400       block4c_se_excite[0][0]          \n",
            "__________________________________________________________________________________________________\n",
            "block4c_project_bn (BatchNormal (None, None, None, 8 320         block4c_project_conv[0][0]       \n",
            "__________________________________________________________________________________________________\n",
            "block4c_drop (Dropout)          (None, None, None, 8 0           block4c_project_bn[0][0]         \n",
            "__________________________________________________________________________________________________\n",
            "block4c_add (Add)               (None, None, None, 8 0           block4c_drop[0][0]               \n",
            "                                                                 block4b_add[0][0]                \n",
            "__________________________________________________________________________________________________\n",
            "block5a_expand_conv (Conv2D)    (None, None, None, 4 38400       block4c_add[0][0]                \n",
            "__________________________________________________________________________________________________\n",
            "block5a_expand_bn (BatchNormali (None, None, None, 4 1920        block5a_expand_conv[0][0]        \n",
            "__________________________________________________________________________________________________\n",
            "block5a_expand_activation (Acti (None, None, None, 4 0           block5a_expand_bn[0][0]          \n",
            "__________________________________________________________________________________________________\n",
            "block5a_dwconv (DepthwiseConv2D (None, None, None, 4 12000       block5a_expand_activation[0][0]  \n",
            "__________________________________________________________________________________________________\n",
            "block5a_bn (BatchNormalization) (None, None, None, 4 1920        block5a_dwconv[0][0]             \n",
            "__________________________________________________________________________________________________\n",
            "block5a_activation (Activation) (None, None, None, 4 0           block5a_bn[0][0]                 \n",
            "__________________________________________________________________________________________________\n",
            "block5a_se_squeeze (GlobalAvera (None, 480)          0           block5a_activation[0][0]         \n",
            "__________________________________________________________________________________________________\n",
            "block5a_se_reshape (Reshape)    (None, 1, 1, 480)    0           block5a_se_squeeze[0][0]         \n",
            "__________________________________________________________________________________________________\n",
            "block5a_se_reduce (Conv2D)      (None, 1, 1, 20)     9620        block5a_se_reshape[0][0]         \n",
            "__________________________________________________________________________________________________\n",
            "block5a_se_expand (Conv2D)      (None, 1, 1, 480)    10080       block5a_se_reduce[0][0]          \n",
            "__________________________________________________________________________________________________\n",
            "block5a_se_excite (Multiply)    (None, None, None, 4 0           block5a_activation[0][0]         \n",
            "                                                                 block5a_se_expand[0][0]          \n",
            "__________________________________________________________________________________________________\n",
            "block5a_project_conv (Conv2D)   (None, None, None, 1 53760       block5a_se_excite[0][0]          \n",
            "__________________________________________________________________________________________________\n",
            "block5a_project_bn (BatchNormal (None, None, None, 1 448         block5a_project_conv[0][0]       \n",
            "__________________________________________________________________________________________________\n",
            "block5b_expand_conv (Conv2D)    (None, None, None, 6 75264       block5a_project_bn[0][0]         \n",
            "__________________________________________________________________________________________________\n",
            "block5b_expand_bn (BatchNormali (None, None, None, 6 2688        block5b_expand_conv[0][0]        \n",
            "__________________________________________________________________________________________________\n",
            "block5b_expand_activation (Acti (None, None, None, 6 0           block5b_expand_bn[0][0]          \n",
            "__________________________________________________________________________________________________\n",
            "block5b_dwconv (DepthwiseConv2D (None, None, None, 6 16800       block5b_expand_activation[0][0]  \n",
            "__________________________________________________________________________________________________\n",
            "block5b_bn (BatchNormalization) (None, None, None, 6 2688        block5b_dwconv[0][0]             \n",
            "__________________________________________________________________________________________________\n",
            "block5b_activation (Activation) (None, None, None, 6 0           block5b_bn[0][0]                 \n",
            "__________________________________________________________________________________________________\n",
            "block5b_se_squeeze (GlobalAvera (None, 672)          0           block5b_activation[0][0]         \n",
            "__________________________________________________________________________________________________\n",
            "block5b_se_reshape (Reshape)    (None, 1, 1, 672)    0           block5b_se_squeeze[0][0]         \n",
            "__________________________________________________________________________________________________\n",
            "block5b_se_reduce (Conv2D)      (None, 1, 1, 28)     18844       block5b_se_reshape[0][0]         \n",
            "__________________________________________________________________________________________________\n",
            "block5b_se_expand (Conv2D)      (None, 1, 1, 672)    19488       block5b_se_reduce[0][0]          \n",
            "__________________________________________________________________________________________________\n",
            "block5b_se_excite (Multiply)    (None, None, None, 6 0           block5b_activation[0][0]         \n",
            "                                                                 block5b_se_expand[0][0]          \n",
            "__________________________________________________________________________________________________\n",
            "block5b_project_conv (Conv2D)   (None, None, None, 1 75264       block5b_se_excite[0][0]          \n",
            "__________________________________________________________________________________________________\n",
            "block5b_project_bn (BatchNormal (None, None, None, 1 448         block5b_project_conv[0][0]       \n",
            "__________________________________________________________________________________________________\n",
            "block5b_drop (Dropout)          (None, None, None, 1 0           block5b_project_bn[0][0]         \n",
            "__________________________________________________________________________________________________\n",
            "block5b_add (Add)               (None, None, None, 1 0           block5b_drop[0][0]               \n",
            "                                                                 block5a_project_bn[0][0]         \n",
            "__________________________________________________________________________________________________\n",
            "block5c_expand_conv (Conv2D)    (None, None, None, 6 75264       block5b_add[0][0]                \n",
            "__________________________________________________________________________________________________\n",
            "block5c_expand_bn (BatchNormali (None, None, None, 6 2688        block5c_expand_conv[0][0]        \n",
            "__________________________________________________________________________________________________\n",
            "block5c_expand_activation (Acti (None, None, None, 6 0           block5c_expand_bn[0][0]          \n",
            "__________________________________________________________________________________________________\n",
            "block5c_dwconv (DepthwiseConv2D (None, None, None, 6 16800       block5c_expand_activation[0][0]  \n",
            "__________________________________________________________________________________________________\n",
            "block5c_bn (BatchNormalization) (None, None, None, 6 2688        block5c_dwconv[0][0]             \n",
            "__________________________________________________________________________________________________\n",
            "block5c_activation (Activation) (None, None, None, 6 0           block5c_bn[0][0]                 \n",
            "__________________________________________________________________________________________________\n",
            "block5c_se_squeeze (GlobalAvera (None, 672)          0           block5c_activation[0][0]         \n",
            "__________________________________________________________________________________________________\n",
            "block5c_se_reshape (Reshape)    (None, 1, 1, 672)    0           block5c_se_squeeze[0][0]         \n",
            "__________________________________________________________________________________________________\n",
            "block5c_se_reduce (Conv2D)      (None, 1, 1, 28)     18844       block5c_se_reshape[0][0]         \n",
            "__________________________________________________________________________________________________\n",
            "block5c_se_expand (Conv2D)      (None, 1, 1, 672)    19488       block5c_se_reduce[0][0]          \n",
            "__________________________________________________________________________________________________\n",
            "block5c_se_excite (Multiply)    (None, None, None, 6 0           block5c_activation[0][0]         \n",
            "                                                                 block5c_se_expand[0][0]          \n",
            "__________________________________________________________________________________________________\n",
            "block5c_project_conv (Conv2D)   (None, None, None, 1 75264       block5c_se_excite[0][0]          \n",
            "__________________________________________________________________________________________________\n",
            "block5c_project_bn (BatchNormal (None, None, None, 1 448         block5c_project_conv[0][0]       \n",
            "__________________________________________________________________________________________________\n",
            "block5c_drop (Dropout)          (None, None, None, 1 0           block5c_project_bn[0][0]         \n",
            "__________________________________________________________________________________________________\n",
            "block5c_add (Add)               (None, None, None, 1 0           block5c_drop[0][0]               \n",
            "                                                                 block5b_add[0][0]                \n",
            "__________________________________________________________________________________________________\n",
            "block6a_expand_conv (Conv2D)    (None, None, None, 6 75264       block5c_add[0][0]                \n",
            "__________________________________________________________________________________________________\n",
            "block6a_expand_bn (BatchNormali (None, None, None, 6 2688        block6a_expand_conv[0][0]        \n",
            "__________________________________________________________________________________________________\n",
            "block6a_expand_activation (Acti (None, None, None, 6 0           block6a_expand_bn[0][0]          \n",
            "__________________________________________________________________________________________________\n",
            "block6a_dwconv_pad (ZeroPadding (None, None, None, 6 0           block6a_expand_activation[0][0]  \n",
            "__________________________________________________________________________________________________\n",
            "block6a_dwconv (DepthwiseConv2D (None, None, None, 6 16800       block6a_dwconv_pad[0][0]         \n",
            "__________________________________________________________________________________________________\n",
            "block6a_bn (BatchNormalization) (None, None, None, 6 2688        block6a_dwconv[0][0]             \n",
            "__________________________________________________________________________________________________\n",
            "block6a_activation (Activation) (None, None, None, 6 0           block6a_bn[0][0]                 \n",
            "__________________________________________________________________________________________________\n",
            "block6a_se_squeeze (GlobalAvera (None, 672)          0           block6a_activation[0][0]         \n",
            "__________________________________________________________________________________________________\n",
            "block6a_se_reshape (Reshape)    (None, 1, 1, 672)    0           block6a_se_squeeze[0][0]         \n",
            "__________________________________________________________________________________________________\n",
            "block6a_se_reduce (Conv2D)      (None, 1, 1, 28)     18844       block6a_se_reshape[0][0]         \n",
            "__________________________________________________________________________________________________\n",
            "block6a_se_expand (Conv2D)      (None, 1, 1, 672)    19488       block6a_se_reduce[0][0]          \n",
            "__________________________________________________________________________________________________\n",
            "block6a_se_excite (Multiply)    (None, None, None, 6 0           block6a_activation[0][0]         \n",
            "                                                                 block6a_se_expand[0][0]          \n",
            "__________________________________________________________________________________________________\n",
            "block6a_project_conv (Conv2D)   (None, None, None, 1 129024      block6a_se_excite[0][0]          \n",
            "__________________________________________________________________________________________________\n",
            "block6a_project_bn (BatchNormal (None, None, None, 1 768         block6a_project_conv[0][0]       \n",
            "__________________________________________________________________________________________________\n",
            "block6b_expand_conv (Conv2D)    (None, None, None, 1 221184      block6a_project_bn[0][0]         \n",
            "__________________________________________________________________________________________________\n",
            "block6b_expand_bn (BatchNormali (None, None, None, 1 4608        block6b_expand_conv[0][0]        \n",
            "__________________________________________________________________________________________________\n",
            "block6b_expand_activation (Acti (None, None, None, 1 0           block6b_expand_bn[0][0]          \n",
            "__________________________________________________________________________________________________\n",
            "block6b_dwconv (DepthwiseConv2D (None, None, None, 1 28800       block6b_expand_activation[0][0]  \n",
            "__________________________________________________________________________________________________\n",
            "block6b_bn (BatchNormalization) (None, None, None, 1 4608        block6b_dwconv[0][0]             \n",
            "__________________________________________________________________________________________________\n",
            "block6b_activation (Activation) (None, None, None, 1 0           block6b_bn[0][0]                 \n",
            "__________________________________________________________________________________________________\n",
            "block6b_se_squeeze (GlobalAvera (None, 1152)         0           block6b_activation[0][0]         \n",
            "__________________________________________________________________________________________________\n",
            "block6b_se_reshape (Reshape)    (None, 1, 1, 1152)   0           block6b_se_squeeze[0][0]         \n",
            "__________________________________________________________________________________________________\n",
            "block6b_se_reduce (Conv2D)      (None, 1, 1, 48)     55344       block6b_se_reshape[0][0]         \n",
            "__________________________________________________________________________________________________\n",
            "block6b_se_expand (Conv2D)      (None, 1, 1, 1152)   56448       block6b_se_reduce[0][0]          \n",
            "__________________________________________________________________________________________________\n",
            "block6b_se_excite (Multiply)    (None, None, None, 1 0           block6b_activation[0][0]         \n",
            "                                                                 block6b_se_expand[0][0]          \n",
            "__________________________________________________________________________________________________\n",
            "block6b_project_conv (Conv2D)   (None, None, None, 1 221184      block6b_se_excite[0][0]          \n",
            "__________________________________________________________________________________________________\n",
            "block6b_project_bn (BatchNormal (None, None, None, 1 768         block6b_project_conv[0][0]       \n",
            "__________________________________________________________________________________________________\n",
            "block6b_drop (Dropout)          (None, None, None, 1 0           block6b_project_bn[0][0]         \n",
            "__________________________________________________________________________________________________\n",
            "block6b_add (Add)               (None, None, None, 1 0           block6b_drop[0][0]               \n",
            "                                                                 block6a_project_bn[0][0]         \n",
            "__________________________________________________________________________________________________\n",
            "block6c_expand_conv (Conv2D)    (None, None, None, 1 221184      block6b_add[0][0]                \n",
            "__________________________________________________________________________________________________\n",
            "block6c_expand_bn (BatchNormali (None, None, None, 1 4608        block6c_expand_conv[0][0]        \n",
            "__________________________________________________________________________________________________\n",
            "block6c_expand_activation (Acti (None, None, None, 1 0           block6c_expand_bn[0][0]          \n",
            "__________________________________________________________________________________________________\n",
            "block6c_dwconv (DepthwiseConv2D (None, None, None, 1 28800       block6c_expand_activation[0][0]  \n",
            "__________________________________________________________________________________________________\n",
            "block6c_bn (BatchNormalization) (None, None, None, 1 4608        block6c_dwconv[0][0]             \n",
            "__________________________________________________________________________________________________\n",
            "block6c_activation (Activation) (None, None, None, 1 0           block6c_bn[0][0]                 \n",
            "__________________________________________________________________________________________________\n",
            "block6c_se_squeeze (GlobalAvera (None, 1152)         0           block6c_activation[0][0]         \n",
            "__________________________________________________________________________________________________\n",
            "block6c_se_reshape (Reshape)    (None, 1, 1, 1152)   0           block6c_se_squeeze[0][0]         \n",
            "__________________________________________________________________________________________________\n",
            "block6c_se_reduce (Conv2D)      (None, 1, 1, 48)     55344       block6c_se_reshape[0][0]         \n",
            "__________________________________________________________________________________________________\n",
            "block6c_se_expand (Conv2D)      (None, 1, 1, 1152)   56448       block6c_se_reduce[0][0]          \n",
            "__________________________________________________________________________________________________\n",
            "block6c_se_excite (Multiply)    (None, None, None, 1 0           block6c_activation[0][0]         \n",
            "                                                                 block6c_se_expand[0][0]          \n",
            "__________________________________________________________________________________________________\n",
            "block6c_project_conv (Conv2D)   (None, None, None, 1 221184      block6c_se_excite[0][0]          \n",
            "__________________________________________________________________________________________________\n",
            "block6c_project_bn (BatchNormal (None, None, None, 1 768         block6c_project_conv[0][0]       \n",
            "__________________________________________________________________________________________________\n",
            "block6c_drop (Dropout)          (None, None, None, 1 0           block6c_project_bn[0][0]         \n",
            "__________________________________________________________________________________________________\n",
            "block6c_add (Add)               (None, None, None, 1 0           block6c_drop[0][0]               \n",
            "                                                                 block6b_add[0][0]                \n",
            "__________________________________________________________________________________________________\n",
            "block6d_expand_conv (Conv2D)    (None, None, None, 1 221184      block6c_add[0][0]                \n",
            "__________________________________________________________________________________________________\n",
            "block6d_expand_bn (BatchNormali (None, None, None, 1 4608        block6d_expand_conv[0][0]        \n",
            "__________________________________________________________________________________________________\n",
            "block6d_expand_activation (Acti (None, None, None, 1 0           block6d_expand_bn[0][0]          \n",
            "__________________________________________________________________________________________________\n",
            "block6d_dwconv (DepthwiseConv2D (None, None, None, 1 28800       block6d_expand_activation[0][0]  \n",
            "__________________________________________________________________________________________________\n",
            "block6d_bn (BatchNormalization) (None, None, None, 1 4608        block6d_dwconv[0][0]             \n",
            "__________________________________________________________________________________________________\n",
            "block6d_activation (Activation) (None, None, None, 1 0           block6d_bn[0][0]                 \n",
            "__________________________________________________________________________________________________\n",
            "block6d_se_squeeze (GlobalAvera (None, 1152)         0           block6d_activation[0][0]         \n",
            "__________________________________________________________________________________________________\n",
            "block6d_se_reshape (Reshape)    (None, 1, 1, 1152)   0           block6d_se_squeeze[0][0]         \n",
            "__________________________________________________________________________________________________\n",
            "block6d_se_reduce (Conv2D)      (None, 1, 1, 48)     55344       block6d_se_reshape[0][0]         \n",
            "__________________________________________________________________________________________________\n",
            "block6d_se_expand (Conv2D)      (None, 1, 1, 1152)   56448       block6d_se_reduce[0][0]          \n",
            "__________________________________________________________________________________________________\n",
            "block6d_se_excite (Multiply)    (None, None, None, 1 0           block6d_activation[0][0]         \n",
            "                                                                 block6d_se_expand[0][0]          \n",
            "__________________________________________________________________________________________________\n",
            "block6d_project_conv (Conv2D)   (None, None, None, 1 221184      block6d_se_excite[0][0]          \n",
            "__________________________________________________________________________________________________\n",
            "block6d_project_bn (BatchNormal (None, None, None, 1 768         block6d_project_conv[0][0]       \n",
            "__________________________________________________________________________________________________\n",
            "block6d_drop (Dropout)          (None, None, None, 1 0           block6d_project_bn[0][0]         \n",
            "__________________________________________________________________________________________________\n",
            "block6d_add (Add)               (None, None, None, 1 0           block6d_drop[0][0]               \n",
            "                                                                 block6c_add[0][0]                \n",
            "__________________________________________________________________________________________________\n",
            "block7a_expand_conv (Conv2D)    (None, None, None, 1 221184      block6d_add[0][0]                \n",
            "__________________________________________________________________________________________________\n",
            "block7a_expand_bn (BatchNormali (None, None, None, 1 4608        block7a_expand_conv[0][0]        \n",
            "__________________________________________________________________________________________________\n",
            "block7a_expand_activation (Acti (None, None, None, 1 0           block7a_expand_bn[0][0]          \n",
            "__________________________________________________________________________________________________\n",
            "block7a_dwconv (DepthwiseConv2D (None, None, None, 1 10368       block7a_expand_activation[0][0]  \n",
            "__________________________________________________________________________________________________\n",
            "block7a_bn (BatchNormalization) (None, None, None, 1 4608        block7a_dwconv[0][0]             \n",
            "__________________________________________________________________________________________________\n",
            "block7a_activation (Activation) (None, None, None, 1 0           block7a_bn[0][0]                 \n",
            "__________________________________________________________________________________________________\n",
            "block7a_se_squeeze (GlobalAvera (None, 1152)         0           block7a_activation[0][0]         \n",
            "__________________________________________________________________________________________________\n",
            "block7a_se_reshape (Reshape)    (None, 1, 1, 1152)   0           block7a_se_squeeze[0][0]         \n",
            "__________________________________________________________________________________________________\n",
            "block7a_se_reduce (Conv2D)      (None, 1, 1, 48)     55344       block7a_se_reshape[0][0]         \n",
            "__________________________________________________________________________________________________\n",
            "block7a_se_expand (Conv2D)      (None, 1, 1, 1152)   56448       block7a_se_reduce[0][0]          \n",
            "__________________________________________________________________________________________________\n",
            "block7a_se_excite (Multiply)    (None, None, None, 1 0           block7a_activation[0][0]         \n",
            "                                                                 block7a_se_expand[0][0]          \n",
            "__________________________________________________________________________________________________\n",
            "block7a_project_conv (Conv2D)   (None, None, None, 3 368640      block7a_se_excite[0][0]          \n",
            "__________________________________________________________________________________________________\n",
            "block7a_project_bn (BatchNormal (None, None, None, 3 1280        block7a_project_conv[0][0]       \n",
            "__________________________________________________________________________________________________\n",
            "top_conv (Conv2D)               (None, None, None, 1 409600      block7a_project_bn[0][0]         \n",
            "__________________________________________________________________________________________________\n",
            "top_bn (BatchNormalization)     (None, None, None, 1 5120        top_conv[0][0]                   \n",
            "__________________________________________________________________________________________________\n",
            "top_activation (Activation)     (None, None, None, 1 0           top_bn[0][0]                     \n",
            "==================================================================================================\n",
            "Total params: 4,049,571\n",
            "Trainable params: 0\n",
            "Non-trainable params: 4,049,571\n",
            "__________________________________________________________________________________________________\n"
          ],
          "name": "stdout"
        }
      ]
    },
    {
      "cell_type": "code",
      "metadata": {
        "colab": {
          "base_uri": "https://localhost:8080/"
        },
        "id": "8HoL5LUQPZZN",
        "outputId": "d9249a83-501a-412b-b0e1-02a98c9c7e3b"
      },
      "source": [
        "# How about the summary of our whole model\n",
        "model_0.summary()"
      ],
      "execution_count": 16,
      "outputs": [
        {
          "output_type": "stream",
          "text": [
            "Model: \"model\"\n",
            "_________________________________________________________________\n",
            "Layer (type)                 Output Shape              Param #   \n",
            "=================================================================\n",
            "Input Layer (InputLayer)     [(None, 224, 224, 3)]     0         \n",
            "_________________________________________________________________\n",
            "efficientnetb0 (Functional)  (None, None, None, 1280)  4049571   \n",
            "_________________________________________________________________\n",
            "Global_Average_Pooling_layer (None, 1280)              0         \n",
            "_________________________________________________________________\n",
            "Output_Layer (Dense)         (None, 10)                12810     \n",
            "=================================================================\n",
            "Total params: 4,062,381\n",
            "Trainable params: 12,810\n",
            "Non-trainable params: 4,049,571\n",
            "_________________________________________________________________\n"
          ],
          "name": "stdout"
        }
      ]
    },
    {
      "cell_type": "code",
      "metadata": {
        "colab": {
          "base_uri": "https://localhost:8080/",
          "height": 0
        },
        "id": "PxHMPfeeQG4h",
        "outputId": "16ade9fa-c3d7-4424-bff5-319f91f13e3e"
      },
      "source": [
        "# Check out our model's training curves\n",
        "plot_loss_curves(history_0)"
      ],
      "execution_count": 17,
      "outputs": [
        {
          "output_type": "display_data",
          "data": {
            "image/png": "[encoded data removed]",
            "text/plain": [
              "<Figure size 432x288 with 1 Axes>"
            ]
          },
          "metadata": {
            "tags": [],
            "needs_background": "light"
          }
        },
        {
          "output_type": "display_data",
          "data": {
            "image/png": "[encoded data removed]",
            "text/plain": [
              "<Figure size 432x288 with 1 Axes>"
            ]
          },
          "metadata": {
            "tags": [],
            "needs_background": "light"
          }
        }
      ]
    },
    {
      "cell_type": "markdown",
      "metadata": {
        "id": "DTn85g_z0ai6"
      },
      "source": [
        "## Getting a feature vector from trained model\n",
        "\n",
        "Let's demonstrate the Global Average Pooling 2D layer...\n",
        "\n",
        "We have a tensor after our model goes through `base model` of shape (None, 7, 7, 1280)\n",
        "\n",
        "But then it passes through Global AveragePooling2D, it turns into (None, 1280)\n",
        "\n",
        "Let's use a similar shaped tensor of(1,4,4,3) and pass it through GlobalAveragePooling2D"
      ]
    },
    {
      "cell_type": "code",
      "metadata": {
        "id": "RJRvTUZ4QZFE",
        "colab": {
          "base_uri": "https://localhost:8080/"
        },
        "outputId": "ac5351bc-51aa-4992-e71c-691934374501"
      },
      "source": [
        "# Defining input shape\n",
        "input_shape = (1,4,4,3)  # or 1,7,7,1280 as above (we're using smaller so it's easy to visualize)\n",
        "\n",
        "# Create a random tensor\n",
        "tf.random.set_seed(42)\n",
        "input_tensor  =  tf.random.normal(input_shape)\n",
        "print(f\"Random input tensor:\\n {input_tensor}\\n\")\n",
        "\n",
        "global_average_poolef_tensor = tf.keras.layers.GlobalAveragePooling2D()(input_tensor)\n",
        "print(f\"2D global average pooled tensor:\\n {global_average_poolef_tensor}\\n\")\n",
        "\n",
        "\n",
        "# Check the shape of different tensors:\n",
        "print(f\"Shape of input tensor: {input_tensor.shape}\")\n",
        "print(f\"Shape of global average pooled 2D tensor: {global_average_poolef_tensor.shape}\")"
      ],
      "execution_count": 18,
      "outputs": [
        {
          "output_type": "stream",
          "text": [
            "Random input tensor:\n",
            " [[[[ 0.3274685  -0.8426258   0.3194337 ]\n",
            "   [-1.4075519  -2.3880599  -1.0392479 ]\n",
            "   [-0.5573232   0.539707    1.6994323 ]\n",
            "   [ 0.28893656 -1.5066116  -0.2645474 ]]\n",
            "\n",
            "  [[-0.59722406 -1.9171132  -0.62044144]\n",
            "   [ 0.8504023  -0.40604794 -3.0258412 ]\n",
            "   [ 0.9058464   0.29855987 -0.22561555]\n",
            "   [-0.7616443  -1.8917141  -0.93847126]]\n",
            "\n",
            "  [[ 0.77852213 -0.47338897  0.97772694]\n",
            "   [ 0.24694404  0.20573747 -0.5256233 ]\n",
            "   [ 0.32410017  0.02545409 -0.10638497]\n",
            "   [-0.6369475   1.1603122   0.2507359 ]]\n",
            "\n",
            "  [[-0.41728503  0.4012578  -1.4145443 ]\n",
            "   [-0.5931857  -1.6617213   0.33567193]\n",
            "   [ 0.10815629  0.23479682 -0.56668764]\n",
            "   [-0.35819843  0.88698614  0.52744764]]]]\n",
            "\n",
            "2D global average pooled tensor:\n",
            " [[-0.09368646 -0.45840448 -0.2885598 ]]\n",
            "\n",
            "Shape of input tensor: (1, 4, 4, 3)\n",
            "Shape of global average pooled 2D tensor: (1, 3)\n"
          ],
          "name": "stdout"
        }
      ]
    },
    {
      "cell_type": "code",
      "metadata": {
        "colab": {
          "base_uri": "https://localhost:8080/"
        },
        "id": "n9Rw0PE93GRQ",
        "outputId": "f8c2e139-61cd-41c9-f843-89d92fd30377"
      },
      "source": [
        "# Let's replicate the global Average Pool2D layer\n",
        "tf.reduce_mean(input_tensor, axis=[1,2])"
      ],
      "execution_count": 19,
      "outputs": [
        {
          "output_type": "execute_result",
          "data": {
            "text/plain": [
              "<tf.Tensor: shape=(1, 3), dtype=float32, numpy=array([[-0.09368646, -0.45840448, -0.2885598 ]], dtype=float32)>"
            ]
          },
          "metadata": {
            "tags": []
          },
          "execution_count": 19
        }
      ]
    },
    {
      "cell_type": "code",
      "metadata": {
        "colab": {
          "base_uri": "https://localhost:8080/"
        },
        "id": "DwSpr6pm4vxQ",
        "outputId": "67832163-498a-47ec-aa4e-37533d48175f"
      },
      "source": [
        "tf.keras.layers.GlobalMaxPooling2D()(input_tensor)"
      ],
      "execution_count": 20,
      "outputs": [
        {
          "output_type": "execute_result",
          "data": {
            "text/plain": [
              "<tf.Tensor: shape=(1, 3), dtype=float32, numpy=array([[0.9058464, 1.1603122, 1.6994323]], dtype=float32)>"
            ]
          },
          "metadata": {
            "tags": []
          },
          "execution_count": 20
        }
      ]
    },
    {
      "cell_type": "markdown",
      "metadata": {
        "id": "IRfKu-4Z6c49"
      },
      "source": [
        "on own"
      ]
    },
    {
      "cell_type": "code",
      "metadata": {
        "colab": {
          "base_uri": "https://localhost:8080/"
        },
        "id": "SiuGEwUy5NhB",
        "outputId": "3cd084ef-3fea-43ad-fdd4-af05b409e009"
      },
      "source": [
        "tf.reduce_max(input_tensor, axis=[1,2])"
      ],
      "execution_count": 21,
      "outputs": [
        {
          "output_type": "execute_result",
          "data": {
            "text/plain": [
              "<tf.Tensor: shape=(1, 3), dtype=float32, numpy=array([[0.9058464, 1.1603122, 1.6994323]], dtype=float32)>"
            ]
          },
          "metadata": {
            "tags": []
          },
          "execution_count": 21
        }
      ]
    },
    {
      "cell_type": "code",
      "metadata": {
        "colab": {
          "base_uri": "https://localhost:8080/"
        },
        "id": "Ih9mSasI5XRy",
        "outputId": "44c62abd-39b7-476d-da71-0b34001e121d"
      },
      "source": [
        "first_reduction = tf.reduce_max(input_tensor, axis=[2])\n",
        "first_reduction"
      ],
      "execution_count": 22,
      "outputs": [
        {
          "output_type": "execute_result",
          "data": {
            "text/plain": [
              "<tf.Tensor: shape=(1, 4, 3), dtype=float32, numpy=\n",
              "array([[[ 0.3274685 ,  0.539707  ,  1.6994323 ],\n",
              "        [ 0.9058464 ,  0.29855987, -0.22561555],\n",
              "        [ 0.77852213,  1.1603122 ,  0.97772694],\n",
              "        [ 0.10815629,  0.88698614,  0.52744764]]], dtype=float32)>"
            ]
          },
          "metadata": {
            "tags": []
          },
          "execution_count": 22
        }
      ]
    },
    {
      "cell_type": "code",
      "metadata": {
        "colab": {
          "base_uri": "https://localhost:8080/"
        },
        "id": "qUljToPR51Uf",
        "outputId": "208b1556-31bc-43eb-b928-e3ff1d6a2c21"
      },
      "source": [
        "tf.reduce_max(first_reduction, axis=[1])"
      ],
      "execution_count": 23,
      "outputs": [
        {
          "output_type": "execute_result",
          "data": {
            "text/plain": [
              "<tf.Tensor: shape=(1, 3), dtype=float32, numpy=array([[0.9058464, 1.1603122, 1.6994323]], dtype=float32)>"
            ]
          },
          "metadata": {
            "tags": []
          },
          "execution_count": 23
        }
      ]
    },
    {
      "cell_type": "markdown",
      "metadata": {
        "id": "-RkKoPHm6pKn"
      },
      "source": [
        "on own end"
      ]
    },
    {
      "cell_type": "markdown",
      "metadata": {
        "id": "43Rx-MGQ91Yk"
      },
      "source": [
        "## Running a series of Transder Learning Experiments\n",
        "\n",
        "We've seen the incredible results transfer learning can get with only 10% of the training data, but how does it do with 1% of the training data ..how 'bout we set up a bunch of experiments to find out:\n",
        "\n",
        "1. `model_1` - use feature extraction transfer learning with 1% of the training data with data augmentation\n",
        "2. `model_2` - use feature extraction transfer learning with 10% of the training data with data augmentation\n",
        "3. `model_3` - use fine-tuning transfer learning with 10% of the training data with data augmentation\n",
        "4. `model_4` - use fine-tuning transfer learning with 100% of the training data with data augmentation\n",
        "\n",
        "\n",
        "**Note**: thoroughout all experiments the same test dataset will be used to evaluate our model .. this ensures across evaluation metrics"
      ]
    },
    {
      "cell_type": "markdown",
      "metadata": {
        "id": "O7cRYAwE_49B"
      },
      "source": [
        "### Getting and preprocessing data for model_1"
      ]
    },
    {
      "cell_type": "code",
      "metadata": {
        "colab": {
          "base_uri": "https://localhost:8080/"
        },
        "id": "XV2TNIg86nJA",
        "outputId": "bf8d1c1f-7aca-49f6-a914-ff1240fc3b60"
      },
      "source": [
        "# Download and unzip data - preprocessed from food 101\n",
        "!wget https://storage.googleapis.com/ztm_tf_course/food_vision/10_food_classes_1_percent.zip\n",
        "\n",
        "unzip_data('10_food_classes_1_percent.zip')"
      ],
      "execution_count": 24,
      "outputs": [
        {
          "output_type": "stream",
          "text": [
            "--2021-06-21 13:06:03--  https://storage.googleapis.com/ztm_tf_course/food_vision/10_food_classes_1_percent.zip\n",
            "Resolving storage.googleapis.com (storage.googleapis.com)... 142.251.2.128, 142.250.141.128, 2607:f8b0:4023:c0b::80, ...\n",
            "Connecting to storage.googleapis.com (storage.googleapis.com)|142.251.2.128|:443... connected.\n",
            "HTTP request sent, awaiting response... 200 OK\n",
            "Length: 133612354 (127M) [application/zip]\n",
            "Saving to: ‘10_food_classes_1_percent.zip’\n",
            "\n",
            "10_food_classes_1_p 100%[===================>] 127.42M   177MB/s    in 0.7s    \n",
            "\n",
            "2021-06-21 13:06:04 (177 MB/s) - ‘10_food_classes_1_percent.zip’ saved [133612354/133612354]\n",
            "\n"
          ],
          "name": "stdout"
        }
      ]
    },
    {
      "cell_type": "code",
      "metadata": {
        "id": "9PWWKKyJ_VoP"
      },
      "source": [
        "# Create training and test dirs\n",
        "train_dir_1_percent = \"10_food_classes_1_percent/train\"\n",
        "test_dir = \"10_food_classes_1_percent/test\""
      ],
      "execution_count": 25,
      "outputs": []
    },
    {
      "cell_type": "code",
      "metadata": {
        "colab": {
          "base_uri": "https://localhost:8080/"
        },
        "id": "eM_8Kp1J_eBB",
        "outputId": "13375abb-3250-4e0c-d0d3-954c3fb2ba46"
      },
      "source": [
        "# How many images we are working with\n",
        "walk_through_dir(\"10_food_classes_1_percent\")"
      ],
      "execution_count": 26,
      "outputs": [
        {
          "output_type": "stream",
          "text": [
            "There are 2 directories and 0 images in '10_food_classes_1_percent'.\n",
            "There are 10 directories and 0 images in '10_food_classes_1_percent/train'.\n",
            "There are 0 directories and 7 images in '10_food_classes_1_percent/train/chicken_curry'.\n",
            "There are 0 directories and 7 images in '10_food_classes_1_percent/train/pizza'.\n",
            "There are 0 directories and 7 images in '10_food_classes_1_percent/train/steak'.\n",
            "There are 0 directories and 7 images in '10_food_classes_1_percent/train/sushi'.\n",
            "There are 0 directories and 7 images in '10_food_classes_1_percent/train/fried_rice'.\n",
            "There are 0 directories and 7 images in '10_food_classes_1_percent/train/grilled_salmon'.\n",
            "There are 0 directories and 7 images in '10_food_classes_1_percent/train/chicken_wings'.\n",
            "There are 0 directories and 7 images in '10_food_classes_1_percent/train/ramen'.\n",
            "There are 0 directories and 7 images in '10_food_classes_1_percent/train/ice_cream'.\n",
            "There are 0 directories and 7 images in '10_food_classes_1_percent/train/hamburger'.\n",
            "There are 10 directories and 0 images in '10_food_classes_1_percent/test'.\n",
            "There are 0 directories and 250 images in '10_food_classes_1_percent/test/chicken_curry'.\n",
            "There are 0 directories and 250 images in '10_food_classes_1_percent/test/pizza'.\n",
            "There are 0 directories and 250 images in '10_food_classes_1_percent/test/steak'.\n",
            "There are 0 directories and 250 images in '10_food_classes_1_percent/test/sushi'.\n",
            "There are 0 directories and 250 images in '10_food_classes_1_percent/test/fried_rice'.\n",
            "There are 0 directories and 250 images in '10_food_classes_1_percent/test/grilled_salmon'.\n",
            "There are 0 directories and 250 images in '10_food_classes_1_percent/test/chicken_wings'.\n",
            "There are 0 directories and 250 images in '10_food_classes_1_percent/test/ramen'.\n",
            "There are 0 directories and 250 images in '10_food_classes_1_percent/test/ice_cream'.\n",
            "There are 0 directories and 250 images in '10_food_classes_1_percent/test/hamburger'.\n"
          ],
          "name": "stdout"
        }
      ]
    },
    {
      "cell_type": "code",
      "metadata": {
        "colab": {
          "base_uri": "https://localhost:8080/"
        },
        "id": "-JRGzYcL_m53",
        "outputId": "2f96d44e-8658-4121-9919-9804deb69db3"
      },
      "source": [
        "# Set up data loaders\n",
        "IMAGE_SIZE =(224,224)\n",
        "train_data_1_percent = tf.keras.preprocessing.image_dataset_from_directory(train_dir_1_percent,\n",
        "                                                                           label_mode=\"categorical\",\n",
        "                                                                           image_size=IMAGE_SIZE,\n",
        "                                                                           batch_size=BATCH_SIZE)  #default = 32\n",
        "test_data = tf.keras.preprocessing.image_dataset_from_directory(test_dir,\n",
        "                                                                label_mode=\"categorical\",\n",
        "                                                                image_size=IMAGE_SIZE,\n",
        "                                                                batch_size=BATCH_SIZE)"
      ],
      "execution_count": 27,
      "outputs": [
        {
          "output_type": "stream",
          "text": [
            "Found 70 files belonging to 10 classes.\n",
            "Found 2500 files belonging to 10 classes.\n"
          ],
          "name": "stdout"
        }
      ]
    },
    {
      "cell_type": "markdown",
      "metadata": {
        "id": "vMdWjNedA8wN"
      },
      "source": [
        "### Adding data augmentation right into the model\n",
        "\n",
        "To add data augmentation right into our models, we can use the layer inside\n",
        "\n",
        "* `tf.keras.layers.experimental.preprocessing()`\n",
        "\n",
        "\n",
        "The benefits of doing so are:\n",
        "* The augmentaion will happen on a GPU and benefit on time saving\n",
        "* Image data augmentation only happens during training, so we can still export our whole model and use it elsewhere. (augmentaion doesn't happen during prediction)"
      ]
    },
    {
      "cell_type": "code",
      "metadata": {
        "id": "vm0HrLWIB4gH"
      },
      "source": [
        "import tensorflow as tf\n",
        "from tensorflow import keras\n",
        "from tensorflow.keras.layers.experimental import preprocessing\n",
        "\n",
        "# Create data augmentation stage with horizontal flipping, rotations, zooms, etc.\n",
        "data_augmentation = keras.Sequential(\n",
        "    [\n",
        "     preprocessing.RandomFlip(\"horizontal\"),\n",
        "     preprocessing.RandomRotation(0.2),\n",
        "     preprocessing.RandomZoom(0.2),\n",
        "     preprocessing.RandomHeight(0.2),\n",
        "     preprocessing.RandomWidth(0.2)\n",
        "     # preprocessing.Rescale(1/255.) # for models like resnet, effficientnet has it built in\n",
        "    ], name =\"data_augmentation\"\n",
        ")"
      ],
      "execution_count": 28,
      "outputs": []
    },
    {
      "cell_type": "markdown",
      "metadata": {
        "id": "LYa5KtBjEtAT"
      },
      "source": [
        "### Visualize our data augmentaion layer and see what happens"
      ]
    },
    {
      "cell_type": "code",
      "metadata": {
        "colab": {
          "base_uri": "https://localhost:8080/",
          "height": 0
        },
        "id": "NlJAlbKEDAfS",
        "outputId": "20792919-fca5-4ae6-9dd1-1427d9b804f9"
      },
      "source": [
        "# View a random image and compare it to its augmented version\n",
        "\n",
        "import matplotlib.pyplot as plt\n",
        "import matplotlib.image as mpimg\n",
        "import os\n",
        "import random\n",
        "\n",
        "target_class = random.choice(train_data_1_percent.class_names)\n",
        "target_dir = \"10_food_classes_1_percent/train/\" + target_class\n",
        "random_image = random.choice(os.listdir(target_dir))\n",
        "random_image_path = target_dir + \"/\" + random_image\n",
        "\n",
        "# Read and plot the random image\n",
        "img = mpimg.imread(random_image_path)\n",
        "plt.imshow(img)\n",
        "plt.title(f\"Original random image from class: {target_class}\")\n",
        "plt.axis(False)\n",
        "\n",
        "# Now let's plot the augmented image\n",
        "augmented_img = data_augmentation(tf.expand_dims(img, axis=0))\n",
        "plt.figure()\n",
        "# print(tf.squeeze(augmented_img))\n",
        "plt.imshow(tf.squeeze(augmented_img)/255.)\n",
        "plt.title(f\"Augmented random image from class: {target_class}\")\n",
        "plt.axis(False);"
      ],
      "execution_count": 29,
      "outputs": [
        {
          "output_type": "display_data",
          "data": {
            "image/png": "[encoded data removed]",
            "text/plain": [
              "<Figure size 432x288 with 1 Axes>"
            ]
          },
          "metadata": {
            "tags": [],
            "needs_background": "light"
          }
        },
        {
          "output_type": "display_data",
          "data": {
            "image/png": "[encoded data removed]",
            "text/plain": [
              "<Figure size 432x288 with 1 Axes>"
            ]
          },
          "metadata": {
            "tags": [],
            "needs_background": "light"
          }
        }
      ]
    },
    {
      "cell_type": "markdown",
      "metadata": {
        "id": "tqmfc96pE-du"
      },
      "source": [
        "## Mode 1: Feature extraction transfer learning on 1% of the data with data augmentation"
      ]
    },
    {
      "cell_type": "code",
      "metadata": {
        "id": "kEQIC-KGAoIY"
      },
      "source": [
        "from tensorflow.keras import layers"
      ],
      "execution_count": 30,
      "outputs": []
    },
    {
      "cell_type": "code",
      "metadata": {
        "colab": {
          "base_uri": "https://localhost:8080/"
        },
        "id": "8krdMgyP_MqH",
        "outputId": "d4dc142e-3bf8-47c6-bcc1-bed9e266dbba"
      },
      "source": [
        "# Setup the inpite shape and base model, freezing the base model\n",
        "input_shape = (224,224,3)\n",
        "base_model = tf.keras.applications.EfficientNetB0(include_top=False)\n",
        "base_model.trainable = False\n",
        "\n",
        "# Creating input layer\n",
        "inputs = layers.Input(shape=input_shape, name=\"input_layer\")\n",
        "\n",
        "# Add in data aufmentaion Sequential model as a layer\n",
        "x = data_augmentation(inputs)\n",
        "\n",
        "# Give base_model the inputs after they have been augmented\n",
        "x = base_model(x, training=False)\n",
        "\n",
        "# Pool the outputs of the base model\n",
        "x = layers.GlobalAveragePooling2D(name=\"global_average_pooling_layer\")(x)\n",
        "\n",
        "# Put a dense layer o as the output\n",
        "outputs = layers.Dense(10, activation=\"softmax\", name=\"output_layer\")(x)\n",
        "\n",
        "# Make a model using the inputs and outputs\n",
        "model_1 = keras.Model(inputs, outputs)\n",
        "\n",
        "# Comile the model\n",
        "model_1.compile(loss=\"categorical_crossentropy\",\n",
        "                optimizer=tf.keras.optimizers.Adam(),\n",
        "                metrics=[\"accuracy\"])\n",
        "\n",
        "# Fit the model\n",
        "history_1_percent = model_1.fit(train_data_1_percent,\n",
        "                                epochs=5,\n",
        "                                steps_per_epoch=len(train_data_1_percent),\n",
        "                                validation_data=test_data,\n",
        "                                validation_steps=int(0.25 * len(test_data)),\n",
        "                                # Create some callbacks\n",
        "                                callbacks=[create_tensorboard_callback(dir_name=\"transfer_learning\",\n",
        "                                                                       experiment_name=\"1_percent_data_aug\")])"
      ],
      "execution_count": 31,
      "outputs": [
        {
          "output_type": "stream",
          "text": [
            "Saving TensorBoard log files to: transfer_learning/1_percent_data_aug/20210621-130608\n"
          ],
          "name": "stdout"
        },
        {
          "output_type": "stream",
          "text": [
            "/usr/local/lib/python3.7/dist-packages/tensorflow/python/keras/utils/generic_utils.py:497: CustomMaskWarning: Custom mask layers require a config and must override get_config. When loading, the custom mask layer must be passed to the custom_objects argument.\n",
            "  category=CustomMaskWarning)\n"
          ],
          "name": "stderr"
        },
        {
          "output_type": "stream",
          "text": [
            "Epoch 1/5\n",
            "3/3 [==============================] - 10s 3s/step - loss: 2.4521 - accuracy: 0.0714 - val_loss: 2.2398 - val_accuracy: 0.1316\n",
            "Epoch 2/5\n",
            "3/3 [==============================] - 4s 2s/step - loss: 2.1639 - accuracy: 0.1714 - val_loss: 2.0985 - val_accuracy: 0.2566\n",
            "Epoch 3/5\n",
            "3/3 [==============================] - 4s 2s/step - loss: 1.9466 - accuracy: 0.3286 - val_loss: 2.0014 - val_accuracy: 0.3355\n",
            "Epoch 4/5\n",
            "3/3 [==============================] - 4s 2s/step - loss: 1.7502 - accuracy: 0.5714 - val_loss: 1.8991 - val_accuracy: 0.4211\n",
            "Epoch 5/5\n",
            "3/3 [==============================] - 4s 2s/step - loss: 1.6764 - accuracy: 0.5857 - val_loss: 1.8107 - val_accuracy: 0.4539\n"
          ],
          "name": "stdout"
        }
      ]
    },
    {
      "cell_type": "markdown",
      "metadata": {
        "id": "JCVX93RvA0Yc"
      },
      "source": [
        "Tad bit to note if in FunctionalApi we give a whole model we pass the previous layer in the first set of braces like whole_model(x) but if we are passing just a lyer we give the previous layer in the next set of brackets like layer()(x)"
      ]
    },
    {
      "cell_type": "code",
      "metadata": {
        "colab": {
          "base_uri": "https://localhost:8080/"
        },
        "id": "NwCdfdNS_dM4",
        "outputId": "5fb98b7b-5c23-4ac3-ac83-b60c7ca9f299"
      },
      "source": [
        "IMG_SIZE + (3,)"
      ],
      "execution_count": 32,
      "outputs": [
        {
          "output_type": "execute_result",
          "data": {
            "text/plain": [
              "(224, 224, 3)"
            ]
          },
          "metadata": {
            "tags": []
          },
          "execution_count": 32
        }
      ]
    },
    {
      "cell_type": "code",
      "metadata": {
        "colab": {
          "base_uri": "https://localhost:8080/"
        },
        "id": "69JW2WQ9_fDd",
        "outputId": "5de46f62-da22-41ac-8319-da7941fcd48e"
      },
      "source": [
        "# Checkout model summary\n",
        "model_1.summary()"
      ],
      "execution_count": 33,
      "outputs": [
        {
          "output_type": "stream",
          "text": [
            "Model: \"model_1\"\n",
            "_________________________________________________________________\n",
            "Layer (type)                 Output Shape              Param #   \n",
            "=================================================================\n",
            "input_layer (InputLayer)     [(None, 224, 224, 3)]     0         \n",
            "_________________________________________________________________\n",
            "data_augmentation (Sequentia (None, None, None, 3)     0         \n",
            "_________________________________________________________________\n",
            "efficientnetb0 (Functional)  (None, None, None, 1280)  4049571   \n",
            "_________________________________________________________________\n",
            "global_average_pooling_layer (None, 1280)              0         \n",
            "_________________________________________________________________\n",
            "output_layer (Dense)         (None, 10)                12810     \n",
            "=================================================================\n",
            "Total params: 4,062,381\n",
            "Trainable params: 12,810\n",
            "Non-trainable params: 4,049,571\n",
            "_________________________________________________________________\n"
          ],
          "name": "stdout"
        }
      ]
    },
    {
      "cell_type": "code",
      "metadata": {
        "colab": {
          "base_uri": "https://localhost:8080/"
        },
        "id": "9qY3MuowDALE",
        "outputId": "f1037c6b-1a98-4bd0-9f62-ab28717fa0ec"
      },
      "source": [
        "# Evaluate on full test data\n",
        "results_1_percent_data_aug = model_1.evaluate(test_data)\n",
        "results_1_percent_data_aug"
      ],
      "execution_count": 34,
      "outputs": [
        {
          "output_type": "stream",
          "text": [
            "79/79 [==============================] - 8s 103ms/step - loss: 1.8282 - accuracy: 0.4524\n"
          ],
          "name": "stdout"
        },
        {
          "output_type": "execute_result",
          "data": {
            "text/plain": [
              "[1.8281561136245728, 0.45239999890327454]"
            ]
          },
          "metadata": {
            "tags": []
          },
          "execution_count": 34
        }
      ]
    },
    {
      "cell_type": "code",
      "metadata": {
        "colab": {
          "base_uri": "https://localhost:8080/",
          "height": 573
        },
        "id": "Jk4Fk_pnDIUM",
        "outputId": "25e1db68-3222-4cfb-923c-781fa17c18c5"
      },
      "source": [
        "# How does the model on 1% data with data augmentsation's loss curve look like\n",
        "\n",
        "plot_loss_curves(history_1_percent)"
      ],
      "execution_count": 35,
      "outputs": [
        {
          "output_type": "display_data",
          "data": {
            "image/png": "[encoded data removed]",
            "text/plain": [
              "<Figure size 432x288 with 1 Axes>"
            ]
          },
          "metadata": {
            "tags": [],
            "needs_background": "light"
          }
        },
        {
          "output_type": "display_data",
          "data": {
            "image/png": "[encoded data removed]",
            "text/plain": [
              "<Figure size 432x288 with 1 Axes>"
            ]
          },
          "metadata": {
            "tags": [],
            "needs_background": "light"
          }
        }
      ]
    },
    {
      "cell_type": "markdown",
      "metadata": {
        "id": "ydOlkk8iECdf"
      },
      "source": [
        "On own"
      ]
    },
    {
      "cell_type": "code",
      "metadata": {
        "id": "9z_4IT_HDhhu"
      },
      "source": [
        "# Creating traininbg and test directory paths\n",
        "train_dir = \"10_food_classes_10_percent/train\"\n",
        "test_dir = \"10_food_classes_10_percent/test\""
      ],
      "execution_count": 36,
      "outputs": []
    },
    {
      "cell_type": "code",
      "metadata": {
        "id": "plSxbYI6EKW-"
      },
      "source": [
        "from tensorflow.keras.preprocessing import image_dataset_from_directory"
      ],
      "execution_count": 37,
      "outputs": []
    },
    {
      "cell_type": "code",
      "metadata": {
        "colab": {
          "base_uri": "https://localhost:8080/"
        },
        "id": "Jx718gjuED8a",
        "outputId": "8cca8a8a-c4c6-4d07-dadc-516153e4de46"
      },
      "source": [
        "train_data_10_percent = image_dataset_from_directory(train_dir,\n",
        "                                                     image_size=(224,224),\n",
        "                                                     batch_size=32,\n",
        "                                                     label_mode=\"categorical\")"
      ],
      "execution_count": 38,
      "outputs": [
        {
          "output_type": "stream",
          "text": [
            "Found 750 files belonging to 10 classes.\n"
          ],
          "name": "stdout"
        }
      ]
    },
    {
      "cell_type": "code",
      "metadata": {
        "id": "nvtIyvyXEdU1"
      },
      "source": [
        "data_aug = tf.keras.Sequential(\n",
        "    [\n",
        "     preprocessing.RandomFlip(\"horizontal\"),\n",
        "     preprocessing.RandomRotation(0.2),\n",
        "     preprocessing.RandomZoom(0.2),\n",
        "     preprocessing.RandomHeight(0.2),\n",
        "     preprocessing.RandomWidth(0.2)\n",
        "    ], name=\"data_augmentation\"\n",
        ")"
      ],
      "execution_count": 39,
      "outputs": []
    },
    {
      "cell_type": "code",
      "metadata": {
        "id": "fpMlDHhZFBeG"
      },
      "source": [
        "base_model_needed = tf.keras.applications.EfficientNetB0(include_top=False)\n",
        "base_model_needed.trainable=False\n",
        "\n",
        "inputs = layers.Input(shape=(224,224,3), name=\"Input_layer\")\n",
        "x = data_aug(inputs)\n",
        "x = base_model_needed(x, training=False)\n",
        "x = layers.GlobalAveragePooling2D()(x)\n",
        "outputs = layers.Dense(10, name=\"Output_layer\", activation=\"softmax\")(x)\n",
        "\n",
        "model_2_on_own = tf.keras.Model(inputs, outputs)"
      ],
      "execution_count": 40,
      "outputs": []
    },
    {
      "cell_type": "code",
      "metadata": {
        "colab": {
          "base_uri": "https://localhost:8080/"
        },
        "id": "9_Eo-YArFsil",
        "outputId": "388c9832-d441-48b9-db71-c7eb46c57dec"
      },
      "source": [
        "model_2_on_own.compile(loss=\"categorical_crossentropy\",\n",
        "                       optimizer=tf.keras.optimizers.Adam(),\n",
        "                       metrics=[\"accuracy\"])\n",
        "\n",
        "histroy_2_on_own = model_2_on_own.fit(train_data_10_percent,\n",
        "                   epochs=5,\n",
        "                   steps_per_epoch=len(train_data_10_percent),\n",
        "                   validation_data=test_data,\n",
        "                   validation_steps=int(0.25 * len(test_data)),\n",
        "                   callbacks= [create_tensorboard_callback(dir_name=\"transfer_learning\",\n",
        "                                                                       experiment_name=\"10_percent_data_aug_on_own\")])"
      ],
      "execution_count": 41,
      "outputs": [
        {
          "output_type": "stream",
          "text": [
            "Saving TensorBoard log files to: transfer_learning/10_percent_data_aug_on_own/20210621-130649\n",
            "Epoch 1/5\n"
          ],
          "name": "stdout"
        },
        {
          "output_type": "stream",
          "text": [
            "/usr/local/lib/python3.7/dist-packages/tensorflow/python/keras/utils/generic_utils.py:497: CustomMaskWarning: Custom mask layers require a config and must override get_config. When loading, the custom mask layer must be passed to the custom_objects argument.\n",
            "  category=CustomMaskWarning)\n"
          ],
          "name": "stderr"
        },
        {
          "output_type": "stream",
          "text": [
            "24/24 [==============================] - 20s 629ms/step - loss: 1.9952 - accuracy: 0.3080 - val_loss: 1.5216 - val_accuracy: 0.6234\n",
            "Epoch 2/5\n",
            "24/24 [==============================] - 11s 468ms/step - loss: 1.3803 - accuracy: 0.6267 - val_loss: 1.0670 - val_accuracy: 0.7714\n",
            "Epoch 3/5\n",
            "24/24 [==============================] - 10s 403ms/step - loss: 1.0613 - accuracy: 0.7413 - val_loss: 0.8721 - val_accuracy: 0.7944\n",
            "Epoch 4/5\n",
            "24/24 [==============================] - 9s 369ms/step - loss: 0.8837 - accuracy: 0.7827 - val_loss: 0.7773 - val_accuracy: 0.7977\n",
            "Epoch 5/5\n",
            "24/24 [==============================] - 9s 340ms/step - loss: 0.7833 - accuracy: 0.8013 - val_loss: 0.6982 - val_accuracy: 0.8191\n"
          ],
          "name": "stdout"
        }
      ]
    },
    {
      "cell_type": "code",
      "metadata": {
        "colab": {
          "base_uri": "https://localhost:8080/"
        },
        "id": "2oByMhyHGhho",
        "outputId": "1938bab6-daee-4a15-e3b8-bbb625c47b4b"
      },
      "source": [
        "model_2_on_own.evaluate(test_data)"
      ],
      "execution_count": 42,
      "outputs": [
        {
          "output_type": "stream",
          "text": [
            "79/79 [==============================] - 8s 103ms/step - loss: 0.6812 - accuracy: 0.8244\n"
          ],
          "name": "stdout"
        },
        {
          "output_type": "execute_result",
          "data": {
            "text/plain": [
              "[0.6812317371368408, 0.824400007724762]"
            ]
          },
          "metadata": {
            "tags": []
          },
          "execution_count": 42
        }
      ]
    },
    {
      "cell_type": "code",
      "metadata": {
        "colab": {
          "base_uri": "https://localhost:8080/",
          "height": 573
        },
        "id": "qfuMNt0KGxge",
        "outputId": "fb8953d8-faa6-4b75-82c5-8920b8fb88d1"
      },
      "source": [
        "plot_loss_curves(histroy_2_on_own)"
      ],
      "execution_count": 43,
      "outputs": [
        {
          "output_type": "display_data",
          "data": {
            "image/png": "[encoded data removed]",
            "text/plain": [
              "<Figure size 432x288 with 1 Axes>"
            ]
          },
          "metadata": {
            "tags": [],
            "needs_background": "light"
          }
        },
        {
          "output_type": "display_data",
          "data": {
            "image/png": "[encoded data removed]",
            "text/plain": [
              "<Figure size 432x288 with 1 Axes>"
            ]
          },
          "metadata": {
            "tags": [],
            "needs_background": "light"
          }
        }
      ]
    },
    {
      "cell_type": "markdown",
      "metadata": {
        "id": "SK8bkz1mHg80"
      },
      "source": [
        "On own end"
      ]
    },
    {
      "cell_type": "markdown",
      "metadata": {
        "id": "ZbRgKhrIHils"
      },
      "source": [
        "## Model 2: Feature Extraction model with transfer learning on 10 percent of data with data augmentation"
      ]
    },
    {
      "cell_type": "code",
      "metadata": {
        "id": "xmvL2HnxHerX"
      },
      "source": [
        "train_dir_10_percent = \"10_food_classes_10_percent/train\"\n",
        "test_dir = \"10_food_classes_10_percent/test\""
      ],
      "execution_count": 44,
      "outputs": []
    },
    {
      "cell_type": "code",
      "metadata": {
        "colab": {
          "base_uri": "https://localhost:8080/"
        },
        "id": "OQUp0OkkH8HA",
        "outputId": "6daba70d-0e6f-472d-e2e9-62f51bb7a6bd"
      },
      "source": [
        "# Set up data inputs \n",
        "IMG_SIZE = (224,224)\n",
        "BATCH_SIZE= 32\n",
        "\n",
        "train_data_10_percent = tf.keras.preprocessing.image_dataset_from_directory(train_dir_10_percent,\n",
        "                                                                            image_size=IMG_SIZE,\n",
        "                                                                            label_mode=\"categorical\")\n",
        "\n",
        "test_data = tf.keras.preprocessing.image_dataset_from_directory(test_dir,\n",
        "                                                                image_size=IMG_SIZE,\n",
        "                                                                label_mode=\"categorical\")"
      ],
      "execution_count": 45,
      "outputs": [
        {
          "output_type": "stream",
          "text": [
            "Found 750 files belonging to 10 classes.\n",
            "Found 2500 files belonging to 10 classes.\n"
          ],
          "name": "stdout"
        }
      ]
    },
    {
      "cell_type": "code",
      "metadata": {
        "id": "M6jR0rZuIbhQ"
      },
      "source": [
        "# Create model2 with data augmentaion built in\n",
        "from tensorflow.keras import layers\n",
        "from tensorflow.keras.layers.experimental import preprocessing\n",
        "from tensorflow.keras.models import Sequential\n",
        "\n",
        "# Build data augmentation\n",
        "data_augmentaion = Sequential(\n",
        "    [\n",
        "     preprocessing.RandomFlip(\"horizontal\"),\n",
        "     preprocessing.RandomRotation(0.2),\n",
        "     preprocessing.RandomZoom(0.2),\n",
        "     preprocessing.RandomHeight(0.2),\n",
        "     preprocessing.RandomWidth(0.2)\n",
        "     # preprocessing.Rescaling(1/255.)\n",
        "    ], name=\"data_augmentation\"\n",
        ")\n",
        "\n",
        "# Set up input shape\n",
        "input_shape = (224,224,3)\n",
        "\n",
        "# create a frozen base model (also called the backbone)\n",
        "base_model = tf.keras.applications.EfficientNetB0(include_top=False)\n",
        "base_model.trainable=False\n",
        "\n",
        "# Create the inputs and outputs\n",
        "inputs = layers.Input(shape=input_shape, name=\"input_layer\")\n",
        "x = data_augmentation(inputs)\n",
        "x = base_model(x, training=False) # The training is off that is the model remains in inference mode and the batchnorm layers don't get updated\n",
        "# now compressing the multidimensional tensor into a feature vector\n",
        "x = layers.GlobalAveragePooling2D(name=\"global_average_pooling_2d\")(x)\n",
        "outputs = layers.Dense(10, activation=\"softmax\", name=\"output_layer\")(x)\n",
        "model_2 = tf.keras.Model(inputs, outputs)\n",
        "\n",
        "\n",
        "# Compile the model\n",
        "model_2.compile(loss=\"categorical_crossentropy\",\n",
        "                optimizer=tf.keras.optimizers.Adam(),\n",
        "                metrics=[\"accuracy\"])"
      ],
      "execution_count": 46,
      "outputs": []
    },
    {
      "cell_type": "code",
      "metadata": {
        "colab": {
          "base_uri": "https://localhost:8080/"
        },
        "id": "2SO1WhJfKAXR",
        "outputId": "e8822b32-2092-4606-a697-cfa347813a38"
      },
      "source": [
        "model_2.summary()"
      ],
      "execution_count": 47,
      "outputs": [
        {
          "output_type": "stream",
          "text": [
            "Model: \"model_3\"\n",
            "_________________________________________________________________\n",
            "Layer (type)                 Output Shape              Param #   \n",
            "=================================================================\n",
            "input_layer (InputLayer)     [(None, 224, 224, 3)]     0         \n",
            "_________________________________________________________________\n",
            "data_augmentation (Sequentia (None, None, None, 3)     0         \n",
            "_________________________________________________________________\n",
            "efficientnetb0 (Functional)  (None, None, None, 1280)  4049571   \n",
            "_________________________________________________________________\n",
            "global_average_pooling_2d (G (None, 1280)              0         \n",
            "_________________________________________________________________\n",
            "output_layer (Dense)         (None, 10)                12810     \n",
            "=================================================================\n",
            "Total params: 4,062,381\n",
            "Trainable params: 12,810\n",
            "Non-trainable params: 4,049,571\n",
            "_________________________________________________________________\n"
          ],
          "name": "stdout"
        }
      ]
    },
    {
      "cell_type": "markdown",
      "metadata": {
        "id": "KYC_lE_mMOF0"
      },
      "source": [
        "### Creating a model_checkpoint callback\n",
        "\n",
        "\n",
        "The ModelCheckpointCallback saves intermediary models (the full model or the weights) during training. this is useful when training takes a lomg time and we want to come bacl to it later"
      ]
    },
    {
      "cell_type": "code",
      "metadata": {
        "id": "XgK9imznMJvv"
      },
      "source": [
        "# Set checkpoint path\n",
        "checkpoint_path = \"ten_percent_model_checkpoints_weights/checkpoint.cpkt\"\n",
        "\n",
        "# Create a modelCheckpoint callback that saves the model's weights only\n",
        "checkpoint_callback = tf.keras.callbacks.ModelCheckpoint(filepath=checkpoint_path,\n",
        "                                                         save_weights_only=True,\n",
        "                                                         save_best_only=False,\n",
        "                                                         save_freq='epoch', # save every epoch\n",
        "                                                         verbose=1)"
      ],
      "execution_count": 48,
      "outputs": []
    },
    {
      "cell_type": "markdown",
      "metadata": {
        "id": "xRrgmy5gN3ZP"
      },
      "source": [
        "### Fit model 2 passing in the model check point callback"
      ]
    },
    {
      "cell_type": "code",
      "metadata": {
        "colab": {
          "base_uri": "https://localhost:8080/"
        },
        "id": "4V_j2mI-OEiX",
        "outputId": "cd2ca4dc-2f0a-48e3-92d9-4a42bf3ebf25"
      },
      "source": [
        "# Fit the model saving checkpints every epoch\n",
        "initial_epochs = 5\n",
        "history_10_percent_data_aug = model_2.fit(train_data_10_percent,\n",
        "                                          epochs=initial_epochs,\n",
        "                                          steps_per_epoch=len(train_data_10_percent),\n",
        "                                          validation_data= test_data,\n",
        "                                          validation_steps=int(0.25 * len(test_data)),\n",
        "                                          callbacks=[create_tensorboard_callback(dir_name=\"transfer_learning\",\n",
        "                                                                       experiment_name=\"10_percent_data_aug\"),\n",
        "                                                     checkpoint_callback])"
      ],
      "execution_count": 49,
      "outputs": [
        {
          "output_type": "stream",
          "text": [
            "Saving TensorBoard log files to: transfer_learning/10_percent_data_aug/20210621-130803\n",
            "Epoch 1/5\n"
          ],
          "name": "stdout"
        },
        {
          "output_type": "stream",
          "text": [
            "/usr/local/lib/python3.7/dist-packages/tensorflow/python/keras/utils/generic_utils.py:497: CustomMaskWarning: Custom mask layers require a config and must override get_config. When loading, the custom mask layer must be passed to the custom_objects argument.\n",
            "  category=CustomMaskWarning)\n"
          ],
          "name": "stderr"
        },
        {
          "output_type": "stream",
          "text": [
            "24/24 [==============================] - 16s 451ms/step - loss: 2.0504 - accuracy: 0.3107 - val_loss: 1.4863 - val_accuracy: 0.6234\n",
            "\n",
            "Epoch 00001: saving model to ten_percent_model_checkpoints_weights/checkpoint.cpkt\n",
            "Epoch 2/5\n",
            "24/24 [==============================] - 10s 394ms/step - loss: 1.3762 - accuracy: 0.6547 - val_loss: 1.0972 - val_accuracy: 0.7500\n",
            "\n",
            "Epoch 00002: saving model to ten_percent_model_checkpoints_weights/checkpoint.cpkt\n",
            "Epoch 3/5\n",
            "24/24 [==============================] - 9s 372ms/step - loss: 1.0687 - accuracy: 0.7427 - val_loss: 0.8733 - val_accuracy: 0.7845\n",
            "\n",
            "Epoch 00003: saving model to ten_percent_model_checkpoints_weights/checkpoint.cpkt\n",
            "Epoch 4/5\n",
            "24/24 [==============================] - 8s 333ms/step - loss: 0.9096 - accuracy: 0.7693 - val_loss: 0.7614 - val_accuracy: 0.8059\n",
            "\n",
            "Epoch 00004: saving model to ten_percent_model_checkpoints_weights/checkpoint.cpkt\n",
            "Epoch 5/5\n",
            "24/24 [==============================] - 9s 383ms/step - loss: 0.8105 - accuracy: 0.7960 - val_loss: 0.7015 - val_accuracy: 0.8141\n",
            "\n",
            "Epoch 00005: saving model to ten_percent_model_checkpoints_weights/checkpoint.cpkt\n"
          ],
          "name": "stdout"
        }
      ]
    },
    {
      "cell_type": "code",
      "metadata": {
        "colab": {
          "base_uri": "https://localhost:8080/"
        },
        "id": "tVhEJ9YuOy1B",
        "outputId": "d128ccd8-b7aa-4765-ab9d-a612765297d4"
      },
      "source": [
        "# Ehat were model_0 results?\n",
        "model_0.evaluate(test_data)"
      ],
      "execution_count": 50,
      "outputs": [
        {
          "output_type": "stream",
          "text": [
            "79/79 [==============================] - 9s 103ms/step - loss: 0.6047 - accuracy: 0.8432\n"
          ],
          "name": "stdout"
        },
        {
          "output_type": "execute_result",
          "data": {
            "text/plain": [
              "[0.6046940088272095, 0.8432000279426575]"
            ]
          },
          "metadata": {
            "tags": []
          },
          "execution_count": 50
        }
      ]
    },
    {
      "cell_type": "code",
      "metadata": {
        "colab": {
          "base_uri": "https://localhost:8080/"
        },
        "id": "OT3H2tQxPXj7",
        "outputId": "ec03cb02-7f27-4434-85a0-3362aeaf47fa"
      },
      "source": [
        "results_10_percent_data_aug = model_2.evaluate(test_data)\n",
        "results_10_percent_data_aug"
      ],
      "execution_count": 51,
      "outputs": [
        {
          "output_type": "stream",
          "text": [
            "79/79 [==============================] - 9s 104ms/step - loss: 0.7041 - accuracy: 0.8168\n"
          ],
          "name": "stdout"
        },
        {
          "output_type": "execute_result",
          "data": {
            "text/plain": [
              "[0.7040771245956421, 0.8167999982833862]"
            ]
          },
          "metadata": {
            "tags": []
          },
          "execution_count": 51
        }
      ]
    },
    {
      "cell_type": "code",
      "metadata": {
        "colab": {
          "base_uri": "https://localhost:8080/",
          "height": 573
        },
        "id": "MajN5B2OPZNe",
        "outputId": "fb2e3db5-4535-49ea-cb5d-4307f0fe6bdc"
      },
      "source": [
        "# Plot model_loss curve\n",
        "plot_loss_curves(history_10_percent_data_aug)"
      ],
      "execution_count": 52,
      "outputs": [
        {
          "output_type": "display_data",
          "data": {
            "image/png": "[encoded data removed]",
            "text/plain": [
              "<Figure size 432x288 with 1 Axes>"
            ]
          },
          "metadata": {
            "tags": [],
            "needs_background": "light"
          }
        },
        {
          "output_type": "display_data",
          "data": {
            "image/png": "[encoded data removed]",
            "text/plain": [
              "<Figure size 432x288 with 1 Axes>"
            ]
          },
          "metadata": {
            "tags": [],
            "needs_background": "light"
          }
        }
      ]
    },
    {
      "cell_type": "markdown",
      "metadata": {
        "id": "FnaDPStGPo3o"
      },
      "source": [
        "### Loading in checkpointed weights\n",
        "\n",
        "Loading in checkpointed weights returna a model to a specific checkpoint."
      ]
    },
    {
      "cell_type": "code",
      "metadata": {
        "colab": {
          "base_uri": "https://localhost:8080/"
        },
        "id": "S_deumoWZIlF",
        "outputId": "7b39a351-30cb-42d7-ec8b-3bf218742d81"
      },
      "source": [
        "# Load in saved model weights and evaluate the model\n",
        "\n",
        "## Model 2 was evaluated earlier. so if we load it again and then it must give the same results\n",
        "\n",
        "model_2.load_weights(checkpoint_path)"
      ],
      "execution_count": 53,
      "outputs": [
        {
          "output_type": "execute_result",
          "data": {
            "text/plain": [
              "<tensorflow.python.training.tracking.util.CheckpointLoadStatus at 0x7f0a66b517d0>"
            ]
          },
          "metadata": {
            "tags": []
          },
          "execution_count": 53
        }
      ]
    },
    {
      "cell_type": "code",
      "metadata": {
        "colab": {
          "base_uri": "https://localhost:8080/"
        },
        "id": "Cb6HKnYSZghg",
        "outputId": "d4c61a2f-5bbf-4e61-a007-c75b375d08f6"
      },
      "source": [
        "# Evaluate model_2 with loaded weights\n",
        "\n",
        "loaded_weights_model_results = model_2.evaluate(test_data)"
      ],
      "execution_count": 54,
      "outputs": [
        {
          "output_type": "stream",
          "text": [
            "79/79 [==============================] - 9s 105ms/step - loss: 0.7041 - accuracy: 0.8168\n"
          ],
          "name": "stdout"
        }
      ]
    },
    {
      "cell_type": "code",
      "metadata": {
        "colab": {
          "base_uri": "https://localhost:8080/"
        },
        "id": "7ZttBTk6Zu03",
        "outputId": "15659f9b-1713-4623-da88-c22b8b7e68e4"
      },
      "source": [
        "loaded_weights_model_results"
      ],
      "execution_count": 55,
      "outputs": [
        {
          "output_type": "execute_result",
          "data": {
            "text/plain": [
              "[0.7040773630142212, 0.8167999982833862]"
            ]
          },
          "metadata": {
            "tags": []
          },
          "execution_count": 55
        }
      ]
    },
    {
      "cell_type": "code",
      "metadata": {
        "colab": {
          "base_uri": "https://localhost:8080/"
        },
        "id": "bW4mTHWjbMKo",
        "outputId": "59254575-e1fb-452a-b73a-e2483a25a726"
      },
      "source": [
        "results_10_percent_data_aug"
      ],
      "execution_count": 56,
      "outputs": [
        {
          "output_type": "execute_result",
          "data": {
            "text/plain": [
              "[0.7040771245956421, 0.8167999982833862]"
            ]
          },
          "metadata": {
            "tags": []
          },
          "execution_count": 56
        }
      ]
    },
    {
      "cell_type": "code",
      "metadata": {
        "colab": {
          "base_uri": "https://localhost:8080/"
        },
        "id": "-ClzJUZ0a2qd",
        "outputId": "276c1dab-065c-4a9b-fdf2-65e15f1b4819"
      },
      "source": [
        "loaded_weights_model_results == results_10_percent_data_aug  ## This is because of how computers store numbers internaly"
      ],
      "execution_count": 57,
      "outputs": [
        {
          "output_type": "execute_result",
          "data": {
            "text/plain": [
              "False"
            ]
          },
          "metadata": {
            "tags": []
          },
          "execution_count": 57
        }
      ]
    },
    {
      "cell_type": "code",
      "metadata": {
        "colab": {
          "base_uri": "https://localhost:8080/"
        },
        "id": "z86szJhuZys1",
        "outputId": "8a24ce26-3e9b-463e-b7b7-e83499958d26"
      },
      "source": [
        "# check to see if loaded model results are close to the previous evaluated results\n",
        "\n",
        "import numpy as np\n",
        "np.isclose(np.array(loaded_weights_model_results), np.array(results_10_percent_data_aug))"
      ],
      "execution_count": 58,
      "outputs": [
        {
          "output_type": "execute_result",
          "data": {
            "text/plain": [
              "array([ True,  True])"
            ]
          },
          "metadata": {
            "tags": []
          },
          "execution_count": 58
        }
      ]
    },
    {
      "cell_type": "code",
      "metadata": {
        "colab": {
          "base_uri": "https://localhost:8080/"
        },
        "id": "B7x3vYxWbFw8",
        "outputId": "1bdef008-6a54-4c94-f2df-3eb67a3d5863"
      },
      "source": [
        "# check the difference between 2 results\n",
        "\n",
        "print(np.array(loaded_weights_model_results) - np.array(results_10_percent_data_aug))"
      ],
      "execution_count": 59,
      "outputs": [
        {
          "output_type": "stream",
          "text": [
            "[2.38418579e-07 0.00000000e+00]\n"
          ],
          "name": "stdout"
        }
      ]
    },
    {
      "cell_type": "markdown",
      "metadata": {
        "id": "puhfSzWvcFzu"
      },
      "source": [
        "## Model 3: Fine tuning an existing model with 10 percent of training data\n",
        "\n",
        "\n",
        "**Note**: Fine tuning usually works best **after** training after training a feature extraction model for a few epochs with large amounts of custom data"
      ]
    },
    {
      "cell_type": "code",
      "metadata": {
        "colab": {
          "base_uri": "https://localhost:8080/"
        },
        "id": "rJitonZPcilb",
        "outputId": "75328aac-f407-49f2-88f6-5a88b8bb0518"
      },
      "source": [
        "# Layers in loaded model\n",
        "\n",
        "# Model 3 is a fine tuned version of model 2\n",
        "\n",
        "model_2.layers"
      ],
      "execution_count": 60,
      "outputs": [
        {
          "output_type": "execute_result",
          "data": {
            "text/plain": [
              "[<tensorflow.python.keras.engine.input_layer.InputLayer at 0x7f0bce318910>,\n",
              " <tensorflow.python.keras.engine.sequential.Sequential at 0x7f0c46dee850>,\n",
              " <tensorflow.python.keras.engine.functional.Functional at 0x7f0a6bb7f490>,\n",
              " <tensorflow.python.keras.layers.pooling.GlobalAveragePooling2D at 0x7f0a6bb1f3d0>,\n",
              " <tensorflow.python.keras.layers.core.Dense at 0x7f0a6bbf39d0>]"
            ]
          },
          "metadata": {
            "tags": []
          },
          "execution_count": 60
        }
      ]
    },
    {
      "cell_type": "code",
      "metadata": {
        "colab": {
          "base_uri": "https://localhost:8080/"
        },
        "id": "gSCG0aWpdw3J",
        "outputId": "57373465-b1df-43f3-9d47-c23fa47d8844"
      },
      "source": [
        "# Are these layers trainable?\n",
        "\n",
        "for layer in model_2.layers:\n",
        "    print(layer, layer.trainable)"
      ],
      "execution_count": 61,
      "outputs": [
        {
          "output_type": "stream",
          "text": [
            "<tensorflow.python.keras.engine.input_layer.InputLayer object at 0x7f0bce318910> True\n",
            "<tensorflow.python.keras.engine.sequential.Sequential object at 0x7f0c46dee850> True\n",
            "<tensorflow.python.keras.engine.functional.Functional object at 0x7f0a6bb7f490> False\n",
            "<tensorflow.python.keras.layers.pooling.GlobalAveragePooling2D object at 0x7f0a6bb1f3d0> True\n",
            "<tensorflow.python.keras.layers.core.Dense object at 0x7f0a6bbf39d0> True\n"
          ],
          "name": "stdout"
        }
      ]
    },
    {
      "cell_type": "code",
      "metadata": {
        "colab": {
          "base_uri": "https://localhost:8080/"
        },
        "id": "ZIsLEKMrd5NA",
        "outputId": "e298ea0e-0475-45ae-da27-6668ea0b883a"
      },
      "source": [
        "for i, layer in enumerate( model_2.layers[2].layers):\n",
        "    print(i, layer.name, \"\\t\\t\\t\\t\",layer.trainable)"
      ],
      "execution_count": 62,
      "outputs": [
        {
          "output_type": "stream",
          "text": [
            "0 input_4 \t\t\t\t False\n",
            "1 rescaling_3 \t\t\t\t False\n",
            "2 normalization_3 \t\t\t\t False\n",
            "3 stem_conv_pad \t\t\t\t False\n",
            "4 stem_conv \t\t\t\t False\n",
            "5 stem_bn \t\t\t\t False\n",
            "6 stem_activation \t\t\t\t False\n",
            "7 block1a_dwconv \t\t\t\t False\n",
            "8 block1a_bn \t\t\t\t False\n",
            "9 block1a_activation \t\t\t\t False\n",
            "10 block1a_se_squeeze \t\t\t\t False\n",
            "11 block1a_se_reshape \t\t\t\t False\n",
            "12 block1a_se_reduce \t\t\t\t False\n",
            "13 block1a_se_expand \t\t\t\t False\n",
            "14 block1a_se_excite \t\t\t\t False\n",
            "15 block1a_project_conv \t\t\t\t False\n",
            "16 block1a_project_bn \t\t\t\t False\n",
            "17 block2a_expand_conv \t\t\t\t False\n",
            "18 block2a_expand_bn \t\t\t\t False\n",
            "19 block2a_expand_activation \t\t\t\t False\n",
            "20 block2a_dwconv_pad \t\t\t\t False\n",
            "21 block2a_dwconv \t\t\t\t False\n",
            "22 block2a_bn \t\t\t\t False\n",
            "23 block2a_activation \t\t\t\t False\n",
            "24 block2a_se_squeeze \t\t\t\t False\n",
            "25 block2a_se_reshape \t\t\t\t False\n",
            "26 block2a_se_reduce \t\t\t\t False\n",
            "27 block2a_se_expand \t\t\t\t False\n",
            "28 block2a_se_excite \t\t\t\t False\n",
            "29 block2a_project_conv \t\t\t\t False\n",
            "30 block2a_project_bn \t\t\t\t False\n",
            "31 block2b_expand_conv \t\t\t\t False\n",
            "32 block2b_expand_bn \t\t\t\t False\n",
            "33 block2b_expand_activation \t\t\t\t False\n",
            "34 block2b_dwconv \t\t\t\t False\n",
            "35 block2b_bn \t\t\t\t False\n",
            "36 block2b_activation \t\t\t\t False\n",
            "37 block2b_se_squeeze \t\t\t\t False\n",
            "38 block2b_se_reshape \t\t\t\t False\n",
            "39 block2b_se_reduce \t\t\t\t False\n",
            "40 block2b_se_expand \t\t\t\t False\n",
            "41 block2b_se_excite \t\t\t\t False\n",
            "42 block2b_project_conv \t\t\t\t False\n",
            "43 block2b_project_bn \t\t\t\t False\n",
            "44 block2b_drop \t\t\t\t False\n",
            "45 block2b_add \t\t\t\t False\n",
            "46 block3a_expand_conv \t\t\t\t False\n",
            "47 block3a_expand_bn \t\t\t\t False\n",
            "48 block3a_expand_activation \t\t\t\t False\n",
            "49 block3a_dwconv_pad \t\t\t\t False\n",
            "50 block3a_dwconv \t\t\t\t False\n",
            "51 block3a_bn \t\t\t\t False\n",
            "52 block3a_activation \t\t\t\t False\n",
            "53 block3a_se_squeeze \t\t\t\t False\n",
            "54 block3a_se_reshape \t\t\t\t False\n",
            "55 block3a_se_reduce \t\t\t\t False\n",
            "56 block3a_se_expand \t\t\t\t False\n",
            "57 block3a_se_excite \t\t\t\t False\n",
            "58 block3a_project_conv \t\t\t\t False\n",
            "59 block3a_project_bn \t\t\t\t False\n",
            "60 block3b_expand_conv \t\t\t\t False\n",
            "61 block3b_expand_bn \t\t\t\t False\n",
            "62 block3b_expand_activation \t\t\t\t False\n",
            "63 block3b_dwconv \t\t\t\t False\n",
            "64 block3b_bn \t\t\t\t False\n",
            "65 block3b_activation \t\t\t\t False\n",
            "66 block3b_se_squeeze \t\t\t\t False\n",
            "67 block3b_se_reshape \t\t\t\t False\n",
            "68 block3b_se_reduce \t\t\t\t False\n",
            "69 block3b_se_expand \t\t\t\t False\n",
            "70 block3b_se_excite \t\t\t\t False\n",
            "71 block3b_project_conv \t\t\t\t False\n",
            "72 block3b_project_bn \t\t\t\t False\n",
            "73 block3b_drop \t\t\t\t False\n",
            "74 block3b_add \t\t\t\t False\n",
            "75 block4a_expand_conv \t\t\t\t False\n",
            "76 block4a_expand_bn \t\t\t\t False\n",
            "77 block4a_expand_activation \t\t\t\t False\n",
            "78 block4a_dwconv_pad \t\t\t\t False\n",
            "79 block4a_dwconv \t\t\t\t False\n",
            "80 block4a_bn \t\t\t\t False\n",
            "81 block4a_activation \t\t\t\t False\n",
            "82 block4a_se_squeeze \t\t\t\t False\n",
            "83 block4a_se_reshape \t\t\t\t False\n",
            "84 block4a_se_reduce \t\t\t\t False\n",
            "85 block4a_se_expand \t\t\t\t False\n",
            "86 block4a_se_excite \t\t\t\t False\n",
            "87 block4a_project_conv \t\t\t\t False\n",
            "88 block4a_project_bn \t\t\t\t False\n",
            "89 block4b_expand_conv \t\t\t\t False\n",
            "90 block4b_expand_bn \t\t\t\t False\n",
            "91 block4b_expand_activation \t\t\t\t False\n",
            "92 block4b_dwconv \t\t\t\t False\n",
            "93 block4b_bn \t\t\t\t False\n",
            "94 block4b_activation \t\t\t\t False\n",
            "95 block4b_se_squeeze \t\t\t\t False\n",
            "96 block4b_se_reshape \t\t\t\t False\n",
            "97 block4b_se_reduce \t\t\t\t False\n",
            "98 block4b_se_expand \t\t\t\t False\n",
            "99 block4b_se_excite \t\t\t\t False\n",
            "100 block4b_project_conv \t\t\t\t False\n",
            "101 block4b_project_bn \t\t\t\t False\n",
            "102 block4b_drop \t\t\t\t False\n",
            "103 block4b_add \t\t\t\t False\n",
            "104 block4c_expand_conv \t\t\t\t False\n",
            "105 block4c_expand_bn \t\t\t\t False\n",
            "106 block4c_expand_activation \t\t\t\t False\n",
            "107 block4c_dwconv \t\t\t\t False\n",
            "108 block4c_bn \t\t\t\t False\n",
            "109 block4c_activation \t\t\t\t False\n",
            "110 block4c_se_squeeze \t\t\t\t False\n",
            "111 block4c_se_reshape \t\t\t\t False\n",
            "112 block4c_se_reduce \t\t\t\t False\n",
            "113 block4c_se_expand \t\t\t\t False\n",
            "114 block4c_se_excite \t\t\t\t False\n",
            "115 block4c_project_conv \t\t\t\t False\n",
            "116 block4c_project_bn \t\t\t\t False\n",
            "117 block4c_drop \t\t\t\t False\n",
            "118 block4c_add \t\t\t\t False\n",
            "119 block5a_expand_conv \t\t\t\t False\n",
            "120 block5a_expand_bn \t\t\t\t False\n",
            "121 block5a_expand_activation \t\t\t\t False\n",
            "122 block5a_dwconv \t\t\t\t False\n",
            "123 block5a_bn \t\t\t\t False\n",
            "124 block5a_activation \t\t\t\t False\n",
            "125 block5a_se_squeeze \t\t\t\t False\n",
            "126 block5a_se_reshape \t\t\t\t False\n",
            "127 block5a_se_reduce \t\t\t\t False\n",
            "128 block5a_se_expand \t\t\t\t False\n",
            "129 block5a_se_excite \t\t\t\t False\n",
            "130 block5a_project_conv \t\t\t\t False\n",
            "131 block5a_project_bn \t\t\t\t False\n",
            "132 block5b_expand_conv \t\t\t\t False\n",
            "133 block5b_expand_bn \t\t\t\t False\n",
            "134 block5b_expand_activation \t\t\t\t False\n",
            "135 block5b_dwconv \t\t\t\t False\n",
            "136 block5b_bn \t\t\t\t False\n",
            "137 block5b_activation \t\t\t\t False\n",
            "138 block5b_se_squeeze \t\t\t\t False\n",
            "139 block5b_se_reshape \t\t\t\t False\n",
            "140 block5b_se_reduce \t\t\t\t False\n",
            "141 block5b_se_expand \t\t\t\t False\n",
            "142 block5b_se_excite \t\t\t\t False\n",
            "143 block5b_project_conv \t\t\t\t False\n",
            "144 block5b_project_bn \t\t\t\t False\n",
            "145 block5b_drop \t\t\t\t False\n",
            "146 block5b_add \t\t\t\t False\n",
            "147 block5c_expand_conv \t\t\t\t False\n",
            "148 block5c_expand_bn \t\t\t\t False\n",
            "149 block5c_expand_activation \t\t\t\t False\n",
            "150 block5c_dwconv \t\t\t\t False\n",
            "151 block5c_bn \t\t\t\t False\n",
            "152 block5c_activation \t\t\t\t False\n",
            "153 block5c_se_squeeze \t\t\t\t False\n",
            "154 block5c_se_reshape \t\t\t\t False\n",
            "155 block5c_se_reduce \t\t\t\t False\n",
            "156 block5c_se_expand \t\t\t\t False\n",
            "157 block5c_se_excite \t\t\t\t False\n",
            "158 block5c_project_conv \t\t\t\t False\n",
            "159 block5c_project_bn \t\t\t\t False\n",
            "160 block5c_drop \t\t\t\t False\n",
            "161 block5c_add \t\t\t\t False\n",
            "162 block6a_expand_conv \t\t\t\t False\n",
            "163 block6a_expand_bn \t\t\t\t False\n",
            "164 block6a_expand_activation \t\t\t\t False\n",
            "165 block6a_dwconv_pad \t\t\t\t False\n",
            "166 block6a_dwconv \t\t\t\t False\n",
            "167 block6a_bn \t\t\t\t False\n",
            "168 block6a_activation \t\t\t\t False\n",
            "169 block6a_se_squeeze \t\t\t\t False\n",
            "170 block6a_se_reshape \t\t\t\t False\n",
            "171 block6a_se_reduce \t\t\t\t False\n",
            "172 block6a_se_expand \t\t\t\t False\n",
            "173 block6a_se_excite \t\t\t\t False\n",
            "174 block6a_project_conv \t\t\t\t False\n",
            "175 block6a_project_bn \t\t\t\t False\n",
            "176 block6b_expand_conv \t\t\t\t False\n",
            "177 block6b_expand_bn \t\t\t\t False\n",
            "178 block6b_expand_activation \t\t\t\t False\n",
            "179 block6b_dwconv \t\t\t\t False\n",
            "180 block6b_bn \t\t\t\t False\n",
            "181 block6b_activation \t\t\t\t False\n",
            "182 block6b_se_squeeze \t\t\t\t False\n",
            "183 block6b_se_reshape \t\t\t\t False\n",
            "184 block6b_se_reduce \t\t\t\t False\n",
            "185 block6b_se_expand \t\t\t\t False\n",
            "186 block6b_se_excite \t\t\t\t False\n",
            "187 block6b_project_conv \t\t\t\t False\n",
            "188 block6b_project_bn \t\t\t\t False\n",
            "189 block6b_drop \t\t\t\t False\n",
            "190 block6b_add \t\t\t\t False\n",
            "191 block6c_expand_conv \t\t\t\t False\n",
            "192 block6c_expand_bn \t\t\t\t False\n",
            "193 block6c_expand_activation \t\t\t\t False\n",
            "194 block6c_dwconv \t\t\t\t False\n",
            "195 block6c_bn \t\t\t\t False\n",
            "196 block6c_activation \t\t\t\t False\n",
            "197 block6c_se_squeeze \t\t\t\t False\n",
            "198 block6c_se_reshape \t\t\t\t False\n",
            "199 block6c_se_reduce \t\t\t\t False\n",
            "200 block6c_se_expand \t\t\t\t False\n",
            "201 block6c_se_excite \t\t\t\t False\n",
            "202 block6c_project_conv \t\t\t\t False\n",
            "203 block6c_project_bn \t\t\t\t False\n",
            "204 block6c_drop \t\t\t\t False\n",
            "205 block6c_add \t\t\t\t False\n",
            "206 block6d_expand_conv \t\t\t\t False\n",
            "207 block6d_expand_bn \t\t\t\t False\n",
            "208 block6d_expand_activation \t\t\t\t False\n",
            "209 block6d_dwconv \t\t\t\t False\n",
            "210 block6d_bn \t\t\t\t False\n",
            "211 block6d_activation \t\t\t\t False\n",
            "212 block6d_se_squeeze \t\t\t\t False\n",
            "213 block6d_se_reshape \t\t\t\t False\n",
            "214 block6d_se_reduce \t\t\t\t False\n",
            "215 block6d_se_expand \t\t\t\t False\n",
            "216 block6d_se_excite \t\t\t\t False\n",
            "217 block6d_project_conv \t\t\t\t False\n",
            "218 block6d_project_bn \t\t\t\t False\n",
            "219 block6d_drop \t\t\t\t False\n",
            "220 block6d_add \t\t\t\t False\n",
            "221 block7a_expand_conv \t\t\t\t False\n",
            "222 block7a_expand_bn \t\t\t\t False\n",
            "223 block7a_expand_activation \t\t\t\t False\n",
            "224 block7a_dwconv \t\t\t\t False\n",
            "225 block7a_bn \t\t\t\t False\n",
            "226 block7a_activation \t\t\t\t False\n",
            "227 block7a_se_squeeze \t\t\t\t False\n",
            "228 block7a_se_reshape \t\t\t\t False\n",
            "229 block7a_se_reduce \t\t\t\t False\n",
            "230 block7a_se_expand \t\t\t\t False\n",
            "231 block7a_se_excite \t\t\t\t False\n",
            "232 block7a_project_conv \t\t\t\t False\n",
            "233 block7a_project_bn \t\t\t\t False\n",
            "234 top_conv \t\t\t\t False\n",
            "235 top_bn \t\t\t\t False\n",
            "236 top_activation \t\t\t\t False\n"
          ],
          "name": "stdout"
        }
      ]
    },
    {
      "cell_type": "code",
      "metadata": {
        "colab": {
          "base_uri": "https://localhost:8080/"
        },
        "id": "5exKAe8KeU1f",
        "outputId": "0df81106-5e27-4c8f-ecba-4e4307cf3fd3"
      },
      "source": [
        "# How many trainable variables are there in our base model\n",
        "print(len(model_2.layers[2].trainable_variables))"
      ],
      "execution_count": 63,
      "outputs": [
        {
          "output_type": "stream",
          "text": [
            "0\n"
          ],
          "name": "stdout"
        }
      ]
    },
    {
      "cell_type": "code",
      "metadata": {
        "id": "CGUYm9MEe0jf"
      },
      "source": [
        "# to begin fine tuning, let's start by setting tehe last 10 layers of our base_model.trainable = True\n",
        "base_model.trainable = True\n",
        "\n",
        "# Freeze all layers except for the last 10\n",
        "\n",
        "for layer in base_model.layers[:-10]:\n",
        "    layer.trainable = False\n",
        "\n",
        "\n",
        "# We have to recompile our model every time we make a change\n",
        "\n",
        "model_2.compile(loss=\"categorical_crossentropy\",\n",
        "                optimizer=tf.keras.optimizers.Adam(learning_rate=0.0001), # a rule of thumb is to lower a learning rate by 10X once we fine tune. Because the model has already learned some weights we do not want to change it too much\n",
        "                metrics=[\"accuracy\"])"
      ],
      "execution_count": 64,
      "outputs": []
    },
    {
      "cell_type": "markdown",
      "metadata": {
        "id": "G0L9gz21gcwV"
      },
      "source": [
        "**Note:** When fine tuning it is best practice to lower the learning rate by some amounts. How much? This is a hyperparameter you can fine tune and experiment with. A rule of thumb is atlear 10X (but different sources will claim other values)\n",
        "\n",
        "\n",
        "A resource on this is the ULMFit paper for fine tuning: https://arxiv.org/abs/1801.06146"
      ]
    },
    {
      "cell_type": "code",
      "metadata": {
        "colab": {
          "base_uri": "https://localhost:8080/"
        },
        "id": "GJT5eqwHfyHh",
        "outputId": "823bfeaf-d770-4a67-de98-371f5039ae94"
      },
      "source": [
        "# Check which layers are trainable\n",
        "\n",
        "for i, layer in enumerate(model_2.layers[2].layers):\n",
        "    print(i, layer.name, \"\\t\\t\\t\\t\",layer.trainable)"
      ],
      "execution_count": 65,
      "outputs": [
        {
          "output_type": "stream",
          "text": [
            "0 input_4 \t\t\t\t False\n",
            "1 rescaling_3 \t\t\t\t False\n",
            "2 normalization_3 \t\t\t\t False\n",
            "3 stem_conv_pad \t\t\t\t False\n",
            "4 stem_conv \t\t\t\t False\n",
            "5 stem_bn \t\t\t\t False\n",
            "6 stem_activation \t\t\t\t False\n",
            "7 block1a_dwconv \t\t\t\t False\n",
            "8 block1a_bn \t\t\t\t False\n",
            "9 block1a_activation \t\t\t\t False\n",
            "10 block1a_se_squeeze \t\t\t\t False\n",
            "11 block1a_se_reshape \t\t\t\t False\n",
            "12 block1a_se_reduce \t\t\t\t False\n",
            "13 block1a_se_expand \t\t\t\t False\n",
            "14 block1a_se_excite \t\t\t\t False\n",
            "15 block1a_project_conv \t\t\t\t False\n",
            "16 block1a_project_bn \t\t\t\t False\n",
            "17 block2a_expand_conv \t\t\t\t False\n",
            "18 block2a_expand_bn \t\t\t\t False\n",
            "19 block2a_expand_activation \t\t\t\t False\n",
            "20 block2a_dwconv_pad \t\t\t\t False\n",
            "21 block2a_dwconv \t\t\t\t False\n",
            "22 block2a_bn \t\t\t\t False\n",
            "23 block2a_activation \t\t\t\t False\n",
            "24 block2a_se_squeeze \t\t\t\t False\n",
            "25 block2a_se_reshape \t\t\t\t False\n",
            "26 block2a_se_reduce \t\t\t\t False\n",
            "27 block2a_se_expand \t\t\t\t False\n",
            "28 block2a_se_excite \t\t\t\t False\n",
            "29 block2a_project_conv \t\t\t\t False\n",
            "30 block2a_project_bn \t\t\t\t False\n",
            "31 block2b_expand_conv \t\t\t\t False\n",
            "32 block2b_expand_bn \t\t\t\t False\n",
            "33 block2b_expand_activation \t\t\t\t False\n",
            "34 block2b_dwconv \t\t\t\t False\n",
            "35 block2b_bn \t\t\t\t False\n",
            "36 block2b_activation \t\t\t\t False\n",
            "37 block2b_se_squeeze \t\t\t\t False\n",
            "38 block2b_se_reshape \t\t\t\t False\n",
            "39 block2b_se_reduce \t\t\t\t False\n",
            "40 block2b_se_expand \t\t\t\t False\n",
            "41 block2b_se_excite \t\t\t\t False\n",
            "42 block2b_project_conv \t\t\t\t False\n",
            "43 block2b_project_bn \t\t\t\t False\n",
            "44 block2b_drop \t\t\t\t False\n",
            "45 block2b_add \t\t\t\t False\n",
            "46 block3a_expand_conv \t\t\t\t False\n",
            "47 block3a_expand_bn \t\t\t\t False\n",
            "48 block3a_expand_activation \t\t\t\t False\n",
            "49 block3a_dwconv_pad \t\t\t\t False\n",
            "50 block3a_dwconv \t\t\t\t False\n",
            "51 block3a_bn \t\t\t\t False\n",
            "52 block3a_activation \t\t\t\t False\n",
            "53 block3a_se_squeeze \t\t\t\t False\n",
            "54 block3a_se_reshape \t\t\t\t False\n",
            "55 block3a_se_reduce \t\t\t\t False\n",
            "56 block3a_se_expand \t\t\t\t False\n",
            "57 block3a_se_excite \t\t\t\t False\n",
            "58 block3a_project_conv \t\t\t\t False\n",
            "59 block3a_project_bn \t\t\t\t False\n",
            "60 block3b_expand_conv \t\t\t\t False\n",
            "61 block3b_expand_bn \t\t\t\t False\n",
            "62 block3b_expand_activation \t\t\t\t False\n",
            "63 block3b_dwconv \t\t\t\t False\n",
            "64 block3b_bn \t\t\t\t False\n",
            "65 block3b_activation \t\t\t\t False\n",
            "66 block3b_se_squeeze \t\t\t\t False\n",
            "67 block3b_se_reshape \t\t\t\t False\n",
            "68 block3b_se_reduce \t\t\t\t False\n",
            "69 block3b_se_expand \t\t\t\t False\n",
            "70 block3b_se_excite \t\t\t\t False\n",
            "71 block3b_project_conv \t\t\t\t False\n",
            "72 block3b_project_bn \t\t\t\t False\n",
            "73 block3b_drop \t\t\t\t False\n",
            "74 block3b_add \t\t\t\t False\n",
            "75 block4a_expand_conv \t\t\t\t False\n",
            "76 block4a_expand_bn \t\t\t\t False\n",
            "77 block4a_expand_activation \t\t\t\t False\n",
            "78 block4a_dwconv_pad \t\t\t\t False\n",
            "79 block4a_dwconv \t\t\t\t False\n",
            "80 block4a_bn \t\t\t\t False\n",
            "81 block4a_activation \t\t\t\t False\n",
            "82 block4a_se_squeeze \t\t\t\t False\n",
            "83 block4a_se_reshape \t\t\t\t False\n",
            "84 block4a_se_reduce \t\t\t\t False\n",
            "85 block4a_se_expand \t\t\t\t False\n",
            "86 block4a_se_excite \t\t\t\t False\n",
            "87 block4a_project_conv \t\t\t\t False\n",
            "88 block4a_project_bn \t\t\t\t False\n",
            "89 block4b_expand_conv \t\t\t\t False\n",
            "90 block4b_expand_bn \t\t\t\t False\n",
            "91 block4b_expand_activation \t\t\t\t False\n",
            "92 block4b_dwconv \t\t\t\t False\n",
            "93 block4b_bn \t\t\t\t False\n",
            "94 block4b_activation \t\t\t\t False\n",
            "95 block4b_se_squeeze \t\t\t\t False\n",
            "96 block4b_se_reshape \t\t\t\t False\n",
            "97 block4b_se_reduce \t\t\t\t False\n",
            "98 block4b_se_expand \t\t\t\t False\n",
            "99 block4b_se_excite \t\t\t\t False\n",
            "100 block4b_project_conv \t\t\t\t False\n",
            "101 block4b_project_bn \t\t\t\t False\n",
            "102 block4b_drop \t\t\t\t False\n",
            "103 block4b_add \t\t\t\t False\n",
            "104 block4c_expand_conv \t\t\t\t False\n",
            "105 block4c_expand_bn \t\t\t\t False\n",
            "106 block4c_expand_activation \t\t\t\t False\n",
            "107 block4c_dwconv \t\t\t\t False\n",
            "108 block4c_bn \t\t\t\t False\n",
            "109 block4c_activation \t\t\t\t False\n",
            "110 block4c_se_squeeze \t\t\t\t False\n",
            "111 block4c_se_reshape \t\t\t\t False\n",
            "112 block4c_se_reduce \t\t\t\t False\n",
            "113 block4c_se_expand \t\t\t\t False\n",
            "114 block4c_se_excite \t\t\t\t False\n",
            "115 block4c_project_conv \t\t\t\t False\n",
            "116 block4c_project_bn \t\t\t\t False\n",
            "117 block4c_drop \t\t\t\t False\n",
            "118 block4c_add \t\t\t\t False\n",
            "119 block5a_expand_conv \t\t\t\t False\n",
            "120 block5a_expand_bn \t\t\t\t False\n",
            "121 block5a_expand_activation \t\t\t\t False\n",
            "122 block5a_dwconv \t\t\t\t False\n",
            "123 block5a_bn \t\t\t\t False\n",
            "124 block5a_activation \t\t\t\t False\n",
            "125 block5a_se_squeeze \t\t\t\t False\n",
            "126 block5a_se_reshape \t\t\t\t False\n",
            "127 block5a_se_reduce \t\t\t\t False\n",
            "128 block5a_se_expand \t\t\t\t False\n",
            "129 block5a_se_excite \t\t\t\t False\n",
            "130 block5a_project_conv \t\t\t\t False\n",
            "131 block5a_project_bn \t\t\t\t False\n",
            "132 block5b_expand_conv \t\t\t\t False\n",
            "133 block5b_expand_bn \t\t\t\t False\n",
            "134 block5b_expand_activation \t\t\t\t False\n",
            "135 block5b_dwconv \t\t\t\t False\n",
            "136 block5b_bn \t\t\t\t False\n",
            "137 block5b_activation \t\t\t\t False\n",
            "138 block5b_se_squeeze \t\t\t\t False\n",
            "139 block5b_se_reshape \t\t\t\t False\n",
            "140 block5b_se_reduce \t\t\t\t False\n",
            "141 block5b_se_expand \t\t\t\t False\n",
            "142 block5b_se_excite \t\t\t\t False\n",
            "143 block5b_project_conv \t\t\t\t False\n",
            "144 block5b_project_bn \t\t\t\t False\n",
            "145 block5b_drop \t\t\t\t False\n",
            "146 block5b_add \t\t\t\t False\n",
            "147 block5c_expand_conv \t\t\t\t False\n",
            "148 block5c_expand_bn \t\t\t\t False\n",
            "149 block5c_expand_activation \t\t\t\t False\n",
            "150 block5c_dwconv \t\t\t\t False\n",
            "151 block5c_bn \t\t\t\t False\n",
            "152 block5c_activation \t\t\t\t False\n",
            "153 block5c_se_squeeze \t\t\t\t False\n",
            "154 block5c_se_reshape \t\t\t\t False\n",
            "155 block5c_se_reduce \t\t\t\t False\n",
            "156 block5c_se_expand \t\t\t\t False\n",
            "157 block5c_se_excite \t\t\t\t False\n",
            "158 block5c_project_conv \t\t\t\t False\n",
            "159 block5c_project_bn \t\t\t\t False\n",
            "160 block5c_drop \t\t\t\t False\n",
            "161 block5c_add \t\t\t\t False\n",
            "162 block6a_expand_conv \t\t\t\t False\n",
            "163 block6a_expand_bn \t\t\t\t False\n",
            "164 block6a_expand_activation \t\t\t\t False\n",
            "165 block6a_dwconv_pad \t\t\t\t False\n",
            "166 block6a_dwconv \t\t\t\t False\n",
            "167 block6a_bn \t\t\t\t False\n",
            "168 block6a_activation \t\t\t\t False\n",
            "169 block6a_se_squeeze \t\t\t\t False\n",
            "170 block6a_se_reshape \t\t\t\t False\n",
            "171 block6a_se_reduce \t\t\t\t False\n",
            "172 block6a_se_expand \t\t\t\t False\n",
            "173 block6a_se_excite \t\t\t\t False\n",
            "174 block6a_project_conv \t\t\t\t False\n",
            "175 block6a_project_bn \t\t\t\t False\n",
            "176 block6b_expand_conv \t\t\t\t False\n",
            "177 block6b_expand_bn \t\t\t\t False\n",
            "178 block6b_expand_activation \t\t\t\t False\n",
            "179 block6b_dwconv \t\t\t\t False\n",
            "180 block6b_bn \t\t\t\t False\n",
            "181 block6b_activation \t\t\t\t False\n",
            "182 block6b_se_squeeze \t\t\t\t False\n",
            "183 block6b_se_reshape \t\t\t\t False\n",
            "184 block6b_se_reduce \t\t\t\t False\n",
            "185 block6b_se_expand \t\t\t\t False\n",
            "186 block6b_se_excite \t\t\t\t False\n",
            "187 block6b_project_conv \t\t\t\t False\n",
            "188 block6b_project_bn \t\t\t\t False\n",
            "189 block6b_drop \t\t\t\t False\n",
            "190 block6b_add \t\t\t\t False\n",
            "191 block6c_expand_conv \t\t\t\t False\n",
            "192 block6c_expand_bn \t\t\t\t False\n",
            "193 block6c_expand_activation \t\t\t\t False\n",
            "194 block6c_dwconv \t\t\t\t False\n",
            "195 block6c_bn \t\t\t\t False\n",
            "196 block6c_activation \t\t\t\t False\n",
            "197 block6c_se_squeeze \t\t\t\t False\n",
            "198 block6c_se_reshape \t\t\t\t False\n",
            "199 block6c_se_reduce \t\t\t\t False\n",
            "200 block6c_se_expand \t\t\t\t False\n",
            "201 block6c_se_excite \t\t\t\t False\n",
            "202 block6c_project_conv \t\t\t\t False\n",
            "203 block6c_project_bn \t\t\t\t False\n",
            "204 block6c_drop \t\t\t\t False\n",
            "205 block6c_add \t\t\t\t False\n",
            "206 block6d_expand_conv \t\t\t\t False\n",
            "207 block6d_expand_bn \t\t\t\t False\n",
            "208 block6d_expand_activation \t\t\t\t False\n",
            "209 block6d_dwconv \t\t\t\t False\n",
            "210 block6d_bn \t\t\t\t False\n",
            "211 block6d_activation \t\t\t\t False\n",
            "212 block6d_se_squeeze \t\t\t\t False\n",
            "213 block6d_se_reshape \t\t\t\t False\n",
            "214 block6d_se_reduce \t\t\t\t False\n",
            "215 block6d_se_expand \t\t\t\t False\n",
            "216 block6d_se_excite \t\t\t\t False\n",
            "217 block6d_project_conv \t\t\t\t False\n",
            "218 block6d_project_bn \t\t\t\t False\n",
            "219 block6d_drop \t\t\t\t False\n",
            "220 block6d_add \t\t\t\t False\n",
            "221 block7a_expand_conv \t\t\t\t False\n",
            "222 block7a_expand_bn \t\t\t\t False\n",
            "223 block7a_expand_activation \t\t\t\t False\n",
            "224 block7a_dwconv \t\t\t\t False\n",
            "225 block7a_bn \t\t\t\t False\n",
            "226 block7a_activation \t\t\t\t False\n",
            "227 block7a_se_squeeze \t\t\t\t True\n",
            "228 block7a_se_reshape \t\t\t\t True\n",
            "229 block7a_se_reduce \t\t\t\t True\n",
            "230 block7a_se_expand \t\t\t\t True\n",
            "231 block7a_se_excite \t\t\t\t True\n",
            "232 block7a_project_conv \t\t\t\t True\n",
            "233 block7a_project_bn \t\t\t\t True\n",
            "234 top_conv \t\t\t\t True\n",
            "235 top_bn \t\t\t\t True\n",
            "236 top_activation \t\t\t\t True\n"
          ],
          "name": "stdout"
        }
      ]
    },
    {
      "cell_type": "code",
      "metadata": {
        "colab": {
          "base_uri": "https://localhost:8080/"
        },
        "id": "FF9bGhv1f4wj",
        "outputId": "67f281ec-4390-4187-d7c9-39993c73fbea"
      },
      "source": [
        "# Now we've unfrozen some of the layers to the top, how many trainable variables are there\n",
        "print(len(model_2.layers[2].trainable_variables))"
      ],
      "execution_count": 66,
      "outputs": [
        {
          "output_type": "stream",
          "text": [
            "10\n"
          ],
          "name": "stdout"
        }
      ]
    },
    {
      "cell_type": "code",
      "metadata": {
        "colab": {
          "base_uri": "https://localhost:8080/"
        },
        "id": "Pm0nLVeRjmGL",
        "outputId": "4cbd0ca5-032a-4fb5-f3de-712fb1a55f92"
      },
      "source": [
        "print(len(model_2.trainable_variables))"
      ],
      "execution_count": 67,
      "outputs": [
        {
          "output_type": "stream",
          "text": [
            "12\n"
          ],
          "name": "stdout"
        }
      ]
    },
    {
      "cell_type": "code",
      "metadata": {
        "colab": {
          "base_uri": "https://localhost:8080/"
        },
        "id": "PAHdFcmoju4Q",
        "outputId": "cfce9b8b-1ce9-42bc-f31b-329ab9fede4c"
      },
      "source": [
        "model_2.layers[2].trainable_variables"
      ],
      "execution_count": 68,
      "outputs": [
        {
          "output_type": "execute_result",
          "data": {
            "text/plain": [
              "[<tf.Variable 'block7a_se_reduce/kernel:0' shape=(1, 1, 1152, 48) dtype=float32, numpy=\n",
              " array([[[[-0.05485657,  0.07178846,  0.01534605, ..., -0.09284662,\n",
              "            0.0104828 , -0.02693838],\n",
              "          [-0.03157939,  0.02819107, -0.05579546, ...,  0.00487578,\n",
              "            0.12001809, -0.06901816],\n",
              "          [-0.07792544,  0.12601745,  0.03935236, ...,  0.03086486,\n",
              "           -0.01581392,  0.1306234 ],\n",
              "          ...,\n",
              "          [-0.07692936,  0.19920062,  0.17471024, ...,  0.03312391,\n",
              "           -0.04528928, -0.09214652],\n",
              "          [ 0.01010198,  0.06855008,  0.05820991, ...,  0.00131649,\n",
              "           -0.08952942, -0.00476829],\n",
              "          [ 0.03583075, -0.01228165,  0.04561347, ..., -0.00822134,\n",
              "           -0.07354517, -0.06507882]]]], dtype=float32)>,\n",
              " <tf.Variable 'block7a_se_reduce/bias:0' shape=(48,) dtype=float32, numpy=\n",
              " array([-0.10886215, -0.13624744, -0.15257476,  0.14799541, -0.08512902,\n",
              "        -0.12059905, -0.08779966, -0.08187538, -0.06925284, -0.12518929,\n",
              "        -0.0819265 , -0.1259736 , -0.09993652, -0.10109923, -0.13398036,\n",
              "        -0.09867296, -0.09382621, -0.11011569, -0.1063069 , -0.09003814,\n",
              "        -0.04766154, -0.06743164, -0.13778378, -0.10579358, -0.10130141,\n",
              "        -0.13948615,  0.13246794, -0.03255463, -0.11809722, -0.04813838,\n",
              "        -0.13148174, -0.05429332, -0.0448516 , -0.11129897, -0.08523702,\n",
              "        -0.13361962, -0.07146074, -0.13821687, -0.0614575 , -0.02393492,\n",
              "        -0.08265438, -0.13204956, -0.10251977, -0.12446474, -0.1350065 ,\n",
              "        -0.06927117, -0.07627591, -0.08064308], dtype=float32)>,\n",
              " <tf.Variable 'block7a_se_expand/kernel:0' shape=(1, 1, 48, 1152) dtype=float32, numpy=\n",
              " array([[[[ 0.01703347, -0.09556078, -0.12866898, ..., -0.11176323,\n",
              "           -0.12041699,  0.07214174],\n",
              "          [ 0.11851509,  0.09440814, -0.07513665, ..., -0.10720892,\n",
              "            0.15331012,  0.00920153],\n",
              "          [-0.03525457, -0.05621038,  0.03370081, ...,  0.0058019 ,\n",
              "            0.08038238,  0.02380909],\n",
              "          ...,\n",
              "          [-0.16428104,  0.14296436, -0.07728611, ..., -0.03546136,\n",
              "            0.03369582, -0.19963196],\n",
              "          [-0.01133208, -0.0060606 ,  0.10776694, ...,  0.01572948,\n",
              "           -0.06349678, -0.05537278],\n",
              "          [-0.09189203, -0.05271737, -0.08292874, ..., -0.03266691,\n",
              "           -0.15144289, -0.13922407]]]], dtype=float32)>,\n",
              " <tf.Variable 'block7a_se_expand/bias:0' shape=(1152,) dtype=float32, numpy=\n",
              " array([ 0.04515592,  0.0518708 ,  0.08215576, ..., -0.02809454,\n",
              "         0.06679371,  0.14091711], dtype=float32)>,\n",
              " <tf.Variable 'block7a_project_conv/kernel:0' shape=(1, 1, 1152, 320) dtype=float32, numpy=\n",
              " array([[[[ 0.04719412, -0.03508057,  0.18866068, ...,  0.00667723,\n",
              "            0.01607844, -0.06703078],\n",
              "          [-0.10309057,  0.01945817,  0.03923143, ..., -0.09136088,\n",
              "            0.07520416,  0.09395675],\n",
              "          [-0.0786793 ,  0.02817695, -0.03047303, ...,  0.01593926,\n",
              "            0.13013661, -0.05727762],\n",
              "          ...,\n",
              "          [ 0.01056576, -0.02389853,  0.15035501, ...,  0.04682408,\n",
              "            0.03543943, -0.0752975 ],\n",
              "          [-0.06144901, -0.0928897 ,  0.05499939, ...,  0.16682369,\n",
              "            0.08615127, -0.02209447],\n",
              "          [-0.04315694,  0.1413447 ,  0.00528443, ..., -0.00220996,\n",
              "            0.1894294 , -0.11107358]]]], dtype=float32)>,\n",
              " <tf.Variable 'block7a_project_bn/gamma:0' shape=(320,) dtype=float32, numpy=\n",
              " array([2.6341524, 3.6408505, 2.6395326, 2.6145833, 2.6313312, 2.6202953,\n",
              "        2.5319185, 2.5870585, 2.688308 , 2.6000342, 2.9978335, 2.537907 ,\n",
              "        2.6381385, 2.716591 , 2.558281 , 2.4929833, 2.644765 , 2.462597 ,\n",
              "        2.6660817, 2.5237637, 2.6011422, 2.824746 , 2.5168786, 2.5305552,\n",
              "        2.7185206, 2.7899334, 2.682837 , 2.5672472, 2.4950414, 2.607678 ,\n",
              "        2.6045194, 2.5780609, 2.63664  , 2.5805535, 2.5575125, 2.5273108,\n",
              "        2.5634987, 2.7832053, 2.6418092, 2.604934 , 2.5325363, 2.6006708,\n",
              "        2.6354814, 2.5668874, 2.7951095, 2.646076 , 3.0281844, 2.6361535,\n",
              "        3.1250885, 2.635435 , 2.5462308, 2.6689003, 2.5725474, 2.5831702,\n",
              "        2.5835443, 2.656816 , 2.5504594, 2.6580045, 2.642674 , 2.548922 ,\n",
              "        2.5658593, 2.5088289, 2.8326697, 2.6741598, 2.724444 , 2.6740642,\n",
              "        2.6301656, 2.6501355, 2.5464098, 2.584042 , 2.5088935, 2.6053326,\n",
              "        2.548359 , 2.742098 , 2.6033902, 2.5825214, 2.6483955, 2.685057 ,\n",
              "        2.6903856, 2.7595356, 2.6767306, 2.650072 , 2.6561706, 2.6387742,\n",
              "        2.5386903, 2.6601446, 2.585036 , 2.581829 , 2.493314 , 2.5478692,\n",
              "        2.7056026, 2.5470285, 2.6166646, 2.7911394, 2.5091803, 2.5457087,\n",
              "        2.4962032, 2.616603 , 2.8938844, 2.5239155, 2.5611029, 2.5762894,\n",
              "        2.6258383, 2.7690558, 2.6246526, 2.573153 , 2.63151  , 2.6664348,\n",
              "        2.5510879, 2.633915 , 2.5973866, 2.6333516, 2.5894468, 2.5375085,\n",
              "        2.7006404, 2.6648164, 2.5562012, 2.6261616, 2.5598128, 2.515569 ,\n",
              "        2.643523 , 2.6532161, 2.7102292, 2.5004933, 2.8885357, 2.5730307,\n",
              "        2.6309655, 2.5566099, 2.542208 , 2.5430515, 2.95321  , 2.530806 ,\n",
              "        2.6387343, 2.610428 , 2.580837 , 2.6031556, 2.668818 , 2.549356 ,\n",
              "        2.6471393, 2.5472634, 2.669148 , 2.59522  , 2.6507857, 2.4828112,\n",
              "        2.601118 , 2.593023 , 2.549623 , 2.534933 , 2.7077003, 2.5183656,\n",
              "        2.6026828, 2.985571 , 2.6405106, 2.7155428, 2.5788558, 2.6546528,\n",
              "        2.5677054, 2.4542222, 2.7947254, 2.5911338, 2.6567724, 2.5698543,\n",
              "        2.50019  , 2.5938528, 2.6083398, 2.5553062, 2.5281339, 2.5907693,\n",
              "        2.5921338, 2.6407883, 2.5940228, 2.6011744, 2.6939318, 2.5788543,\n",
              "        2.611848 , 2.5353673, 2.5492253, 2.6692536, 2.5442774, 2.6057358,\n",
              "        2.545667 , 2.699785 , 2.5898273, 2.6510255, 2.6357298, 2.5392187,\n",
              "        3.0744135, 2.5465763, 2.62727  , 2.8991907, 2.6765053, 2.5408316,\n",
              "        2.6696007, 2.663587 , 2.6330073, 2.6307907, 2.557663 , 2.6597102,\n",
              "        2.7168522, 3.0360131, 2.4636025, 2.5911775, 2.6008296, 2.6731155,\n",
              "        2.6936364, 2.716485 , 2.680393 , 2.7018907, 2.7021012, 2.5174494,\n",
              "        2.604642 , 2.6076188, 2.6755745, 2.5452864, 2.5664885, 2.8462067,\n",
              "        2.7362747, 2.666304 , 2.5056198, 2.5951312, 2.5824764, 2.6146016,\n",
              "        2.642559 , 2.5692267, 2.792615 , 2.6337516, 2.4910922, 2.6466959,\n",
              "        2.6380413, 2.5529966, 2.565908 , 2.5560148, 2.640346 , 2.6173239,\n",
              "        2.6475196, 2.6759052, 3.218808 , 2.5925794, 2.5743115, 2.6601744,\n",
              "        2.6724327, 2.631072 , 2.562081 , 2.5806832, 2.512028 , 2.6604302,\n",
              "        2.5478892, 2.5730498, 2.6972325, 2.5915775, 2.6661477, 2.6339667,\n",
              "        2.6636207, 2.5320785, 2.6257393, 2.622644 , 2.508248 , 2.6330373,\n",
              "        2.599642 , 2.6596751, 2.6126783, 2.6051974, 2.652374 , 2.6319253,\n",
              "        2.8959923, 2.6422274, 2.6246538, 2.4762268, 2.631236 , 2.4831147,\n",
              "        2.6260679, 2.519754 , 2.619554 , 2.8796465, 2.614829 , 2.58701  ,\n",
              "        2.5688565, 2.6110027, 2.6058009, 2.5786552, 2.6547408, 2.5492873,\n",
              "        2.6010828, 2.8261983, 2.5328765, 2.689091 , 2.5229828, 2.5879102,\n",
              "        2.7365847, 2.7272425, 2.6959665, 2.6330662, 2.5203118, 2.688423 ,\n",
              "        2.5512888, 3.3626828, 2.5781293, 2.50825  , 2.5737724, 2.621484 ,\n",
              "        2.6324031, 2.6176171, 2.5813835, 2.5144784, 2.633849 , 2.8199816,\n",
              "        2.6682093, 2.599474 , 2.6375234, 2.684862 , 2.525223 , 2.6976318,\n",
              "        2.6058314, 2.5276728, 2.4987195, 2.572669 , 2.5587776, 2.5677974,\n",
              "        2.838972 , 2.619664 ], dtype=float32)>,\n",
              " <tf.Variable 'block7a_project_bn/beta:0' shape=(320,) dtype=float32, numpy=\n",
              " array([ 2.72746431e-04, -4.64200834e-03,  1.81363500e-03, -1.35792862e-03,\n",
              "        -1.83621727e-04,  7.23875011e-04, -7.06277788e-04, -3.28818336e-04,\n",
              "        -1.00322848e-03,  5.77372033e-04, -3.32189701e-03, -8.64792033e-04,\n",
              "         1.79181120e-03, -8.18454195e-04, -1.69087423e-03,  2.51508714e-03,\n",
              "        -1.26882526e-03, -3.69476293e-05, -2.75014690e-03, -3.24349292e-03,\n",
              "         2.12383200e-03, -9.11651237e-04, -2.34528631e-03, -1.68305065e-03,\n",
              "        -7.17351562e-04,  2.03338059e-04, -1.06290297e-03, -1.05257204e-03,\n",
              "         7.56997324e-04,  8.66741582e-04,  4.24314709e-03,  5.80201682e-04,\n",
              "        -1.42630236e-03,  3.64625268e-03,  1.12341705e-03,  1.69936311e-03,\n",
              "         1.08880980e-03,  4.06244246e-04,  1.67966017e-03, -3.07304901e-04,\n",
              "         2.56448926e-04, -2.74889544e-03, -2.60693108e-04,  6.29616028e-04,\n",
              "         5.18684392e-04,  5.06498793e-04, -1.75745424e-03, -2.50845333e-03,\n",
              "         3.29580111e-03,  2.34114681e-03,  1.78862875e-03, -1.96675933e-03,\n",
              "        -2.85300863e-04,  2.95514881e-04,  1.76551077e-03,  2.14295986e-04,\n",
              "        -2.74702528e-04, -4.98560366e-05, -2.33496467e-05,  6.49673748e-05,\n",
              "         3.62340477e-04, -9.65728366e-04, -2.40365812e-03, -3.28422553e-04,\n",
              "         1.72259891e-03, -9.60275298e-04, -1.24948169e-03, -1.23629603e-03,\n",
              "        -4.82999487e-04,  1.66278379e-03, -1.42891321e-03, -8.51270393e-04,\n",
              "         2.50486657e-03,  1.03739847e-03,  4.44977719e-04, -4.01280500e-04,\n",
              "        -6.51122653e-04,  7.47022335e-04, -1.48657290e-03,  5.63821697e-04,\n",
              "        -2.27600569e-03,  1.02134841e-03,  1.50884001e-03, -4.78561968e-04,\n",
              "        -2.13380903e-04,  3.12323740e-04,  1.69344270e-03,  7.68164638e-04,\n",
              "        -1.42305926e-03, -1.06511544e-03,  8.57689520e-05, -1.03630626e-03,\n",
              "        -5.28990058e-04, -6.56761054e-04, -1.05450675e-03,  1.19510374e-03,\n",
              "        -3.83046397e-04, -2.39993151e-05, -6.99702534e-04, -1.11313257e-03,\n",
              "         1.15426502e-03, -3.16569209e-03,  1.56251244e-05, -5.30554564e-04,\n",
              "        -1.35117490e-03, -1.99875431e-04, -1.27230806e-03,  3.45696841e-04,\n",
              "        -1.73765479e-03,  8.10689293e-04, -7.09120708e-04,  1.19463378e-03,\n",
              "        -1.29504187e-03, -1.42769760e-03, -2.05490855e-03,  3.33959106e-05,\n",
              "        -9.67560452e-04,  2.18152488e-03,  2.38515713e-05,  4.46808335e-05,\n",
              "        -2.04296876e-03, -1.20915414e-03, -9.56242220e-05,  4.59675764e-04,\n",
              "         3.40061216e-03,  2.13403418e-03, -5.79986838e-04,  1.29770138e-03,\n",
              "        -1.09179609e-03,  9.54744522e-04, -8.50354671e-04, -1.00062031e-03,\n",
              "         1.42553748e-04,  3.43387743e-04, -5.74955542e-04, -2.38789900e-04,\n",
              "        -1.63314794e-03,  1.01994854e-04,  2.63368245e-03,  1.79869402e-03,\n",
              "        -1.25590130e-03, -2.92626093e-03,  9.38380021e-04, -3.11836222e-04,\n",
              "        -4.31053893e-04, -1.59043982e-03,  1.84826949e-03,  1.48812158e-03,\n",
              "        -2.77693220e-03, -8.86596739e-04, -2.36758046e-04, -7.58587732e-04,\n",
              "         1.39371923e-03, -4.49905143e-04,  5.05587144e-04, -9.97542636e-04,\n",
              "         1.03000528e-03,  2.86184740e-03, -1.79313810e-03, -6.55176118e-04,\n",
              "        -2.65727611e-03,  7.20865792e-04,  1.30724453e-03, -4.23565325e-05,\n",
              "         6.62169245e-04, -4.66128025e-04,  2.81012943e-03,  1.82552508e-03,\n",
              "         5.87477058e-04, -4.03790065e-04,  8.74075748e-04,  7.78581234e-05,\n",
              "         1.90386223e-03, -1.54897827e-03,  2.25501688e-04,  5.10995567e-04,\n",
              "         2.55123922e-03,  8.13688268e-04, -7.14337279e-04, -5.06902405e-04,\n",
              "         2.85416422e-03,  7.83873023e-04, -1.10656860e-04,  9.32446972e-04,\n",
              "         2.40951893e-03, -6.86718326e-04, -2.52255704e-03,  2.18124787e-05,\n",
              "         1.05487206e-05,  8.27186217e-04, -1.75172405e-03, -1.25424110e-03,\n",
              "         8.82197171e-04, -5.65536728e-04, -1.00640114e-03, -3.75324744e-04,\n",
              "         1.51518488e-03, -1.22928934e-04,  8.04806245e-04,  4.69992170e-04,\n",
              "        -5.85276866e-04, -1.16747025e-04, -3.51934647e-03,  1.32238166e-03,\n",
              "         1.72750279e-03,  2.94423138e-04,  2.98701430e-04,  4.09114582e-04,\n",
              "        -5.18784160e-04, -2.73050228e-03,  1.59792858e-03,  2.05026925e-04,\n",
              "         7.29332387e-04, -8.44324881e-04,  1.73368491e-03, -1.31481164e-03,\n",
              "        -1.38368423e-03,  3.16325552e-03,  1.51809235e-03,  8.39646265e-04,\n",
              "         6.18721606e-05, -2.25067860e-03, -1.54738067e-04,  7.56336085e-04,\n",
              "        -1.71400257e-03,  6.03145338e-04, -5.99783496e-04,  9.78035154e-04,\n",
              "        -2.15801597e-03,  9.26407811e-04,  6.17332407e-04,  2.00839248e-03,\n",
              "         3.08294198e-03, -7.05075916e-04,  3.08018411e-03, -2.07686680e-03,\n",
              "        -3.42484983e-03,  8.07445089e-04, -1.29282055e-03, -1.24681287e-03,\n",
              "         6.63550978e-04,  1.38722942e-03, -1.00464269e-03,  2.45917181e-04,\n",
              "        -1.47426047e-03, -2.40818423e-04,  2.99509428e-03,  1.09945354e-03,\n",
              "         8.59148684e-04,  1.50627500e-06, -1.17584574e-03,  4.68704355e-04,\n",
              "         8.43120288e-05,  1.58117816e-03,  1.44869217e-03, -1.08577078e-03,\n",
              "        -9.88185639e-04,  2.09095539e-03,  1.32484653e-03, -1.08445913e-03,\n",
              "        -8.18771659e-04, -1.73332344e-03, -6.66451058e-04, -1.59535231e-03,\n",
              "         3.21470387e-03,  1.90356874e-03,  7.54604407e-04, -2.53299979e-04,\n",
              "         1.34878664e-03, -1.87308283e-03,  1.15370855e-03, -1.05404225e-03,\n",
              "        -1.19788572e-03,  1.14590931e-03,  1.14154675e-04, -5.62238798e-04,\n",
              "         1.96290808e-03,  8.19200242e-04, -1.13923859e-03, -1.30361354e-03,\n",
              "         1.50869356e-03, -1.18403800e-03, -2.32256460e-03,  1.89215309e-04,\n",
              "        -4.54480432e-05, -1.98359881e-03,  1.85492670e-03, -2.23364055e-04,\n",
              "        -8.34366656e-04,  2.03655963e-03,  1.67561357e-03,  1.62004714e-03,\n",
              "        -3.21354310e-04,  3.61894118e-03, -5.57434803e-04, -1.67479762e-03,\n",
              "         1.03459624e-03,  4.82435600e-04, -2.24323105e-03, -1.16618583e-03,\n",
              "         1.39774487e-03, -3.93694296e-04,  1.31923391e-03, -8.33242026e-04,\n",
              "        -1.68927254e-05, -2.22254661e-03, -4.09675704e-04,  2.92616361e-03,\n",
              "        -1.78410482e-04, -1.21830043e-03,  3.88241722e-03,  7.66222889e-04,\n",
              "        -1.43284255e-04, -1.88554521e-03,  8.52050260e-04,  1.40042137e-03,\n",
              "         2.37329234e-03,  7.15036993e-04, -2.30495381e-04,  3.50229093e-03],\n",
              "       dtype=float32)>,\n",
              " <tf.Variable 'top_conv/kernel:0' shape=(1, 1, 320, 1280) dtype=float32, numpy=\n",
              " array([[[[ 0.010654  ,  0.04302309, -0.05814039, ...,  0.07820047,\n",
              "            0.09309781,  0.13512692],\n",
              "          [ 0.18291403,  0.0635317 ,  0.1210966 , ...,  0.10852515,\n",
              "            0.09180524,  0.25709218],\n",
              "          [-0.01965742,  0.02730735,  0.02497241, ...,  0.10817309,\n",
              "            0.11124102,  0.03874104],\n",
              "          ...,\n",
              "          [ 0.16707249,  0.0034612 , -0.04011405, ...,  0.07070784,\n",
              "           -0.03778364,  0.04866563],\n",
              "          [-0.03250833, -0.03533007, -0.08403775, ..., -0.04473848,\n",
              "           -0.06186406,  0.05368444],\n",
              "          [ 0.14157134, -0.01509961, -0.20079431, ..., -0.10574265,\n",
              "           -0.04939263,  0.04458737]]]], dtype=float32)>,\n",
              " <tf.Variable 'top_bn/gamma:0' shape=(1280,) dtype=float32, numpy=\n",
              " array([2.656564 , 2.543096 , 2.3632998, ..., 2.7232573, 2.503377 ,\n",
              "        2.161115 ], dtype=float32)>,\n",
              " <tf.Variable 'top_bn/beta:0' shape=(1280,) dtype=float32, numpy=\n",
              " array([-2.2949498, -2.3487396, -2.0764754, ..., -2.4685047, -2.2737474,\n",
              "        -1.4324068], dtype=float32)>]"
            ]
          },
          "metadata": {
            "tags": []
          },
          "execution_count": 68
        }
      ]
    },
    {
      "cell_type": "code",
      "metadata": {
        "colab": {
          "base_uri": "https://localhost:8080/"
        },
        "id": "fVeWbZWrjx4l",
        "outputId": "7951d74c-c112-4b5e-d934-3d90d3d614ca"
      },
      "source": [
        "# Fine tune for another 5 epochs\n",
        "fine_tune_epochs = initial_epochs + 5\n",
        "\n",
        "# Refit the model (same as model 2 except with more trainable layers)\n",
        "history_fine_10_percent_data_aug = model_2.fit(train_data_10_percent,\n",
        "                                               epochs=fine_tune_epochs,\n",
        "                                               steps_per_epoch=len(train_data_10_percent),\n",
        "                                               validation_data = test_data,\n",
        "                                               validation_steps = int(0.25 * len(test_data)),\n",
        "                                               initial_epoch=history_10_percent_data_aug.epoch[-1],  ## Start training from the previous model left\n",
        "                                               callbacks=[create_tensorboard_callback(dir_name=\"transfer_learning\",\n",
        "                                                                                      experiment_name=\"10_percent_fine_tune_last_ten\")])"
      ],
      "execution_count": 69,
      "outputs": [
        {
          "output_type": "stream",
          "text": [
            "Saving TensorBoard log files to: transfer_learning/10_percent_fine_tune_last_ten/20210621-130932\n",
            "Epoch 5/10\n"
          ],
          "name": "stdout"
        },
        {
          "output_type": "stream",
          "text": [
            "/usr/local/lib/python3.7/dist-packages/tensorflow/python/keras/utils/generic_utils.py:497: CustomMaskWarning: Custom mask layers require a config and must override get_config. When loading, the custom mask layer must be passed to the custom_objects argument.\n",
            "  category=CustomMaskWarning)\n"
          ],
          "name": "stderr"
        },
        {
          "output_type": "stream",
          "text": [
            "24/24 [==============================] - 18s 486ms/step - loss: 0.6645 - accuracy: 0.8000 - val_loss: 0.5502 - val_accuracy: 0.8092\n",
            "Epoch 6/10\n",
            "24/24 [==============================] - 8s 339ms/step - loss: 0.5529 - accuracy: 0.8320 - val_loss: 0.5604 - val_accuracy: 0.8207\n",
            "Epoch 7/10\n",
            "24/24 [==============================] - 9s 336ms/step - loss: 0.4758 - accuracy: 0.8547 - val_loss: 0.5678 - val_accuracy: 0.8043\n",
            "Epoch 8/10\n",
            "24/24 [==============================] - 8s 327ms/step - loss: 0.4741 - accuracy: 0.8520 - val_loss: 0.5362 - val_accuracy: 0.8141\n",
            "Epoch 9/10\n",
            "24/24 [==============================] - 9s 361ms/step - loss: 0.4006 - accuracy: 0.8760 - val_loss: 0.5105 - val_accuracy: 0.8273\n",
            "Epoch 10/10\n",
            "24/24 [==============================] - 8s 339ms/step - loss: 0.3588 - accuracy: 0.8907 - val_loss: 0.5097 - val_accuracy: 0.8306\n"
          ],
          "name": "stdout"
        }
      ]
    },
    {
      "cell_type": "code",
      "metadata": {
        "colab": {
          "base_uri": "https://localhost:8080/"
        },
        "id": "cwfkJLVtpkCC",
        "outputId": "da6aa561-09e7-4fb1-cb25-e7a6a73a300a"
      },
      "source": [
        "# Evaluate the fine-tuned model (mode 3 which is model 2 only)\n",
        "results_fine_tune_10_percent = model_2.evaluate(test_data)"
      ],
      "execution_count": 70,
      "outputs": [
        {
          "output_type": "stream",
          "text": [
            "79/79 [==============================] - 9s 103ms/step - loss: 0.4987 - accuracy: 0.8336\n"
          ],
          "name": "stdout"
        }
      ]
    },
    {
      "cell_type": "code",
      "metadata": {
        "colab": {
          "base_uri": "https://localhost:8080/"
        },
        "id": "xRblIJ4RqMm5",
        "outputId": "1951335a-3263-4487-c048-196d194410fe"
      },
      "source": [
        "results_10_percent_data_aug"
      ],
      "execution_count": 71,
      "outputs": [
        {
          "output_type": "execute_result",
          "data": {
            "text/plain": [
              "[0.7040771245956421, 0.8167999982833862]"
            ]
          },
          "metadata": {
            "tags": []
          },
          "execution_count": 71
        }
      ]
    },
    {
      "cell_type": "code",
      "metadata": {
        "colab": {
          "base_uri": "https://localhost:8080/",
          "height": 573
        },
        "id": "A0dBSPX5qRsZ",
        "outputId": "006ec818-6de0-42c6-ff76-35dd79d2be84"
      },
      "source": [
        "# Check out the loss curves of fine tuned model\n",
        "plot_loss_curves(history_fine_10_percent_data_aug)"
      ],
      "execution_count": 72,
      "outputs": [
        {
          "output_type": "display_data",
          "data": {
            "image/png": "[encoded data removed]",
            "text/plain": [
              "<Figure size 432x288 with 1 Axes>"
            ]
          },
          "metadata": {
            "tags": [],
            "needs_background": "light"
          }
        },
        {
          "output_type": "display_data",
          "data": {
            "image/png": "[encoded data removed]",
            "text/plain": [
              "<Figure size 432x288 with 1 Axes>"
            ]
          },
          "metadata": {
            "tags": [],
            "needs_background": "light"
          }
        }
      ]
    },
    {
      "cell_type": "markdown",
      "metadata": {
        "id": "HaqdAHVhsWGU"
      },
      "source": [
        "The `plot_loss_curve` function works great with models which have only been fit once. We want something to compare one series of funning `fit()` with another (eg: before and after fine tuning)"
      ]
    },
    {
      "cell_type": "code",
      "metadata": {
        "id": "2Ql-Rn2IqiWb"
      },
      "source": [
        "# lets create a function to compare training histories\n",
        "\n",
        "def compare_histories(original_history, new_history, initial_epochs=5):\n",
        "    \"\"\"\n",
        "    Compare two Tensorflow Histroy objevcts\n",
        "    \"\"\"\n",
        "\n",
        "    acc = original_history.history[\"accuracy\"]\n",
        "    loss = original_history.history[\"loss\"]\n",
        "\n",
        "    val_acc = original_history.history[\"val_accuracy\"]\n",
        "    val_loss = original_history.history[\"val_loss\"]\n",
        "\n",
        "    # Combine original history metrics with new history metrics\n",
        "    total_acc = acc + new_history.history[\"accuracy\"]\n",
        "    total_loss = loss + new_history.history[\"loss\"]\n",
        "\n",
        "    total_val_acc = val_acc + new_history.history[\"val_accuracy\"]\n",
        "    total_val_loss = val_loss + new_history.history[\"val_loss\"]\n",
        "\n",
        "\n",
        "    # Make plots for Accuracy\n",
        "    plt.figure(figsize=(8,8))\n",
        "    plt.subplot(2,1,1)\n",
        "    plt.plot(total_acc, label=\"Training Accuracy\")\n",
        "    plt.plot(total_val_acc, label=\"Validation Accuracy\")\n",
        "    plt.plot([initial_epochs-1, initial_epochs-1], plt.ylim(), label=\"Start Fine Tuning\")\n",
        "    plt.legend(loc=\"lower right\")\n",
        "    plt.title(\"Training and validation Accuracy\")\n",
        "\n",
        "    # Make plots\n",
        "    plt.figure(figsize=(8,8))\n",
        "    plt.subplot(2,1,2)\n",
        "    plt.plot(total_loss, label=\"Training Loss\")\n",
        "    plt.plot(total_val_loss, label=\"Validation Loss\")\n",
        "    plt.plot([initial_epochs-1, initial_epochs-1], plt.ylim(), label=\"Start Fine Tuning\")\n",
        "    plt.legend(loc=\"upper right\")\n",
        "    plt.title(\"Training and validation Loss\")"
      ],
      "execution_count": 73,
      "outputs": []
    },
    {
      "cell_type": "code",
      "metadata": {
        "colab": {
          "base_uri": "https://localhost:8080/",
          "height": 507
        },
        "id": "i6ZB-RGWuSBE",
        "outputId": "9abc3969-2a86-453a-9047-b48892c9e643"
      },
      "source": [
        "compare_histories(history_10_percent_data_aug, history_fine_10_percent_data_aug)"
      ],
      "execution_count": 74,
      "outputs": [
        {
          "output_type": "display_data",
          "data": {
            "image/png": "[encoded data removed]",
            "text/plain": [
              "<Figure size 576x576 with 1 Axes>"
            ]
          },
          "metadata": {
            "tags": [],
            "needs_background": "light"
          }
        },
        {
          "output_type": "display_data",
          "data": {
            "image/png": "[encoded data removed]",
            "text/plain": [
              "<Figure size 576x576 with 1 Axes>"
            ]
          },
          "metadata": {
            "tags": [],
            "needs_background": "light"
          }
        }
      ]
    },
    {
      "cell_type": "markdown",
      "metadata": {
        "id": "Ca9v138iuZAz"
      },
      "source": [
        "## Model 4: Fine tuning an existing model on all of the data"
      ]
    },
    {
      "cell_type": "code",
      "metadata": {
        "colab": {
          "base_uri": "https://localhost:8080/"
        },
        "id": "MYat8_zns-Sn",
        "outputId": "1a6aeee9-80be-476f-a152-caa7fb8dc281"
      },
      "source": [
        "# Download and unzip of Food101 data with all images\n",
        "!wget https://storage.googleapis.com/ztm_tf_course/food_vision/10_food_classes_all_data.zip\n",
        "unzip_data(\"10_food_classes_all_data.zip\")"
      ],
      "execution_count": 76,
      "outputs": [
        {
          "output_type": "stream",
          "text": [
            "--2021-06-21 13:14:58--  https://storage.googleapis.com/ztm_tf_course/food_vision/10_food_classes_all_data.zip\n",
            "Resolving storage.googleapis.com (storage.googleapis.com)... 142.250.101.128, 142.251.2.128, 142.250.141.128, ...\n",
            "Connecting to storage.googleapis.com (storage.googleapis.com)|142.250.101.128|:443... connected.\n",
            "HTTP request sent, awaiting response... 200 OK\n",
            "Length: 519183241 (495M) [application/zip]\n",
            "Saving to: ‘10_food_classes_all_data.zip.1’\n",
            "\n",
            "10_food_classes_all 100%[===================>] 495.13M   257MB/s    in 1.9s    \n",
            "\n",
            "2021-06-21 13:15:00 (257 MB/s) - ‘10_food_classes_all_data.zip.1’ saved [519183241/519183241]\n",
            "\n"
          ],
          "name": "stdout"
        }
      ]
    },
    {
      "cell_type": "code",
      "metadata": {
        "id": "6RghecvntYGf"
      },
      "source": [
        "# Set up training and test dir\n",
        "\n",
        "train_dir_all_data = \"10_food_classes_all_data/train\"\n",
        "test_dir_all_data = \"10_food_classes_all_data/test\""
      ],
      "execution_count": 77,
      "outputs": []
    },
    {
      "cell_type": "code",
      "metadata": {
        "colab": {
          "base_uri": "https://localhost:8080/"
        },
        "id": "9M2CZX9JtyJc",
        "outputId": "43293766-675b-4c60-83a8-c0f1c131e4b2"
      },
      "source": [
        "# Find out how many images are we working with now\n",
        "walk_through_dir(\"10_food_classes_all_data\")"
      ],
      "execution_count": 78,
      "outputs": [
        {
          "output_type": "stream",
          "text": [
            "There are 2 directories and 0 images in '10_food_classes_all_data'.\n",
            "There are 10 directories and 0 images in '10_food_classes_all_data/train'.\n",
            "There are 0 directories and 750 images in '10_food_classes_all_data/train/chicken_curry'.\n",
            "There are 0 directories and 750 images in '10_food_classes_all_data/train/pizza'.\n",
            "There are 0 directories and 750 images in '10_food_classes_all_data/train/steak'.\n",
            "There are 0 directories and 750 images in '10_food_classes_all_data/train/sushi'.\n",
            "There are 0 directories and 750 images in '10_food_classes_all_data/train/fried_rice'.\n",
            "There are 0 directories and 750 images in '10_food_classes_all_data/train/grilled_salmon'.\n",
            "There are 0 directories and 750 images in '10_food_classes_all_data/train/chicken_wings'.\n",
            "There are 0 directories and 750 images in '10_food_classes_all_data/train/ramen'.\n",
            "There are 0 directories and 750 images in '10_food_classes_all_data/train/ice_cream'.\n",
            "There are 0 directories and 750 images in '10_food_classes_all_data/train/hamburger'.\n",
            "There are 10 directories and 0 images in '10_food_classes_all_data/test'.\n",
            "There are 0 directories and 250 images in '10_food_classes_all_data/test/chicken_curry'.\n",
            "There are 0 directories and 250 images in '10_food_classes_all_data/test/pizza'.\n",
            "There are 0 directories and 250 images in '10_food_classes_all_data/test/steak'.\n",
            "There are 0 directories and 250 images in '10_food_classes_all_data/test/sushi'.\n",
            "There are 0 directories and 250 images in '10_food_classes_all_data/test/fried_rice'.\n",
            "There are 0 directories and 250 images in '10_food_classes_all_data/test/grilled_salmon'.\n",
            "There are 0 directories and 250 images in '10_food_classes_all_data/test/chicken_wings'.\n",
            "There are 0 directories and 250 images in '10_food_classes_all_data/test/ramen'.\n",
            "There are 0 directories and 250 images in '10_food_classes_all_data/test/ice_cream'.\n",
            "There are 0 directories and 250 images in '10_food_classes_all_data/test/hamburger'.\n"
          ],
          "name": "stdout"
        }
      ]
    },
    {
      "cell_type": "code",
      "metadata": {
        "colab": {
          "base_uri": "https://localhost:8080/"
        },
        "id": "-LYinyD7t3Pr",
        "outputId": "afb45d24-00aa-4137-ab53-f439f5f5463e"
      },
      "source": [
        "# Set up data inputs\n",
        "import tensorflow as tf\n",
        "\n",
        "IMG_SIZE=(224,224)\n",
        "train_data_10_classes_full = tf.keras.preprocessing.image_dataset_from_directory(train_dir_all_data,\n",
        "                                                                                 image_size=IMG_SIZE,\n",
        "                                                                                 label_mode='categorical')\n",
        "\n",
        "test_data = tf.keras.preprocessing.image_dataset_from_directory(test_dir_all_data,\n",
        "                                                                image_size=IMG_SIZE,\n",
        "                                                                label_mode=\"categorical\")"
      ],
      "execution_count": 79,
      "outputs": [
        {
          "output_type": "stream",
          "text": [
            "Found 7500 files belonging to 10 classes.\n",
            "Found 2500 files belonging to 10 classes.\n"
          ],
          "name": "stdout"
        }
      ]
    },
    {
      "cell_type": "markdown",
      "metadata": {
        "id": "9K4LOd9Ez06Z"
      },
      "source": [
        "The test data set we've loaded is the same as what we've been usin for all previous experiments\n",
        "\n",
        "Lets verify this ....."
      ]
    },
    {
      "cell_type": "code",
      "metadata": {
        "colab": {
          "base_uri": "https://localhost:8080/"
        },
        "id": "m3KVHcrfuhaS",
        "outputId": "08f07892-a975-4da2-fcf3-076b54e92bf6"
      },
      "source": [
        "# Evaluate model 2 with the test data\n",
        "model_2.evaluate(test_data)"
      ],
      "execution_count": 80,
      "outputs": [
        {
          "output_type": "stream",
          "text": [
            "79/79 [==============================] - 9s 104ms/step - loss: 0.4987 - accuracy: 0.8336\n"
          ],
          "name": "stdout"
        },
        {
          "output_type": "execute_result",
          "data": {
            "text/plain": [
              "[0.49868011474609375, 0.8335999846458435]"
            ]
          },
          "metadata": {
            "tags": []
          },
          "execution_count": 80
        }
      ]
    },
    {
      "cell_type": "code",
      "metadata": {
        "colab": {
          "base_uri": "https://localhost:8080/"
        },
        "id": "_y9WSjyV0DXT",
        "outputId": "335af9f9-35f0-4e3f-912b-900b4c48a740"
      },
      "source": [
        "results_fine_tune_10_percent"
      ],
      "execution_count": 81,
      "outputs": [
        {
          "output_type": "execute_result",
          "data": {
            "text/plain": [
              "[0.4986799657344818, 0.8335999846458435]"
            ]
          },
          "metadata": {
            "tags": []
          },
          "execution_count": 81
        }
      ]
    },
    {
      "cell_type": "markdown",
      "metadata": {
        "id": "9eLPZflr0-3d"
      },
      "source": [
        "To train a fine_tuning model (model_4) we need to revert model_2 back to its feature extraction weights"
      ]
    },
    {
      "cell_type": "code",
      "metadata": {
        "colab": {
          "base_uri": "https://localhost:8080/"
        },
        "id": "dyEqLQMF0HBz",
        "outputId": "fa6c5e04-eaef-4dc6-8b80-52d70372372e"
      },
      "source": [
        "# Load weights from checkpoint, that way we can fine-tune from the\n",
        "# same stage as the 10-percent data model was fine tuned from\n",
        "\n",
        "model_2.load_weights(checkpoint_path)"
      ],
      "execution_count": 82,
      "outputs": [
        {
          "output_type": "execute_result",
          "data": {
            "text/plain": [
              "<tensorflow.python.training.tracking.util.CheckpointLoadStatus at 0x7f0aef6cdad0>"
            ]
          },
          "metadata": {
            "tags": []
          },
          "execution_count": 82
        }
      ]
    },
    {
      "cell_type": "code",
      "metadata": {
        "colab": {
          "base_uri": "https://localhost:8080/"
        },
        "id": "bZl_XWbB1zEY",
        "outputId": "59908998-6511-453b-d6c4-761ddf1ebd77"
      },
      "source": [
        "# Let's evaluate model_2 now\n",
        "model_2.evaluate(test_data)"
      ],
      "execution_count": 83,
      "outputs": [
        {
          "output_type": "stream",
          "text": [
            "79/79 [==============================] - 9s 103ms/step - loss: 0.7041 - accuracy: 0.8168\n"
          ],
          "name": "stdout"
        },
        {
          "output_type": "execute_result",
          "data": {
            "text/plain": [
              "[0.7040771842002869, 0.8167999982833862]"
            ]
          },
          "metadata": {
            "tags": []
          },
          "execution_count": 83
        }
      ]
    },
    {
      "cell_type": "code",
      "metadata": {
        "colab": {
          "base_uri": "https://localhost:8080/"
        },
        "id": "66RMhFs915JI",
        "outputId": "7cf8c1ca-e71e-44a4-ac0d-5e0173dcb2c7"
      },
      "source": [
        "# Check to see if our model_2 has been reverted back to feature extraction results\n",
        "results_10_percent_data_aug"
      ],
      "execution_count": 84,
      "outputs": [
        {
          "output_type": "execute_result",
          "data": {
            "text/plain": [
              "[0.7040771245956421, 0.8167999982833862]"
            ]
          },
          "metadata": {
            "tags": []
          },
          "execution_count": 84
        }
      ]
    },
    {
      "cell_type": "markdown",
      "metadata": {
        "id": "cnIZkkFH2TlP"
      },
      "source": [
        "All we've done above is:\n",
        "\n",
        " 1. Trained a feature extraction transfer learning model for 5 epochs with 10% of data with data augmentation (model_2) and saved the model's weight using `ModelCheckPoint` callback\n",
        " 2.  Fine tuned the same model with top 10 layers of base model unfrozen (model_3) with 10 percent of the total data\n",
        " 3. Saved the results and training logs each time\n",
        " 4. Reload the model from step 1 to do the same steps as step 2 except this time we are going to use all of the data (model_4)"
      ]
    },
    {
      "cell_type": "code",
      "metadata": {
        "colab": {
          "base_uri": "https://localhost:8080/"
        },
        "id": "yPfJa4RZ2HBq",
        "outputId": "3c51fcf9-de75-4bc3-be2c-69eea9778ddc"
      },
      "source": [
        "# Check which layers are tunable in the whole model\n",
        "for layer_number, layer in enumerate(model_2.layers):\n",
        "    print(layer_number, layer.name, layer.trainable)"
      ],
      "execution_count": 86,
      "outputs": [
        {
          "output_type": "stream",
          "text": [
            "0 input_layer True\n",
            "1 data_augmentation True\n",
            "2 efficientnetb0 True\n",
            "3 global_average_pooling_2d True\n",
            "4 output_layer True\n"
          ],
          "name": "stdout"
        }
      ]
    },
    {
      "cell_type": "code",
      "metadata": {
        "colab": {
          "base_uri": "https://localhost:8080/"
        },
        "id": "0SHa-xH63nC_",
        "outputId": "18d67e6f-e60c-42c1-a3cd-7b18f99b3750"
      },
      "source": [
        "# Lets drill deep into the base model a(efficientnetb0) and see what layers are trainable\n",
        "for layer_number, layer in enumerate(model_2.layers[2].layers):\n",
        "    print(layer_number, layer.name,\"\\t\\t\\t\", layer.trainable)\n"
      ],
      "execution_count": 90,
      "outputs": [
        {
          "output_type": "stream",
          "text": [
            "0 input_4 \t\t\t False\n",
            "1 rescaling_3 \t\t\t False\n",
            "2 normalization_3 \t\t\t False\n",
            "3 stem_conv_pad \t\t\t False\n",
            "4 stem_conv \t\t\t False\n",
            "5 stem_bn \t\t\t False\n",
            "6 stem_activation \t\t\t False\n",
            "7 block1a_dwconv \t\t\t False\n",
            "8 block1a_bn \t\t\t False\n",
            "9 block1a_activation \t\t\t False\n",
            "10 block1a_se_squeeze \t\t\t False\n",
            "11 block1a_se_reshape \t\t\t False\n",
            "12 block1a_se_reduce \t\t\t False\n",
            "13 block1a_se_expand \t\t\t False\n",
            "14 block1a_se_excite \t\t\t False\n",
            "15 block1a_project_conv \t\t\t False\n",
            "16 block1a_project_bn \t\t\t False\n",
            "17 block2a_expand_conv \t\t\t False\n",
            "18 block2a_expand_bn \t\t\t False\n",
            "19 block2a_expand_activation \t\t\t False\n",
            "20 block2a_dwconv_pad \t\t\t False\n",
            "21 block2a_dwconv \t\t\t False\n",
            "22 block2a_bn \t\t\t False\n",
            "23 block2a_activation \t\t\t False\n",
            "24 block2a_se_squeeze \t\t\t False\n",
            "25 block2a_se_reshape \t\t\t False\n",
            "26 block2a_se_reduce \t\t\t False\n",
            "27 block2a_se_expand \t\t\t False\n",
            "28 block2a_se_excite \t\t\t False\n",
            "29 block2a_project_conv \t\t\t False\n",
            "30 block2a_project_bn \t\t\t False\n",
            "31 block2b_expand_conv \t\t\t False\n",
            "32 block2b_expand_bn \t\t\t False\n",
            "33 block2b_expand_activation \t\t\t False\n",
            "34 block2b_dwconv \t\t\t False\n",
            "35 block2b_bn \t\t\t False\n",
            "36 block2b_activation \t\t\t False\n",
            "37 block2b_se_squeeze \t\t\t False\n",
            "38 block2b_se_reshape \t\t\t False\n",
            "39 block2b_se_reduce \t\t\t False\n",
            "40 block2b_se_expand \t\t\t False\n",
            "41 block2b_se_excite \t\t\t False\n",
            "42 block2b_project_conv \t\t\t False\n",
            "43 block2b_project_bn \t\t\t False\n",
            "44 block2b_drop \t\t\t False\n",
            "45 block2b_add \t\t\t False\n",
            "46 block3a_expand_conv \t\t\t False\n",
            "47 block3a_expand_bn \t\t\t False\n",
            "48 block3a_expand_activation \t\t\t False\n",
            "49 block3a_dwconv_pad \t\t\t False\n",
            "50 block3a_dwconv \t\t\t False\n",
            "51 block3a_bn \t\t\t False\n",
            "52 block3a_activation \t\t\t False\n",
            "53 block3a_se_squeeze \t\t\t False\n",
            "54 block3a_se_reshape \t\t\t False\n",
            "55 block3a_se_reduce \t\t\t False\n",
            "56 block3a_se_expand \t\t\t False\n",
            "57 block3a_se_excite \t\t\t False\n",
            "58 block3a_project_conv \t\t\t False\n",
            "59 block3a_project_bn \t\t\t False\n",
            "60 block3b_expand_conv \t\t\t False\n",
            "61 block3b_expand_bn \t\t\t False\n",
            "62 block3b_expand_activation \t\t\t False\n",
            "63 block3b_dwconv \t\t\t False\n",
            "64 block3b_bn \t\t\t False\n",
            "65 block3b_activation \t\t\t False\n",
            "66 block3b_se_squeeze \t\t\t False\n",
            "67 block3b_se_reshape \t\t\t False\n",
            "68 block3b_se_reduce \t\t\t False\n",
            "69 block3b_se_expand \t\t\t False\n",
            "70 block3b_se_excite \t\t\t False\n",
            "71 block3b_project_conv \t\t\t False\n",
            "72 block3b_project_bn \t\t\t False\n",
            "73 block3b_drop \t\t\t False\n",
            "74 block3b_add \t\t\t False\n",
            "75 block4a_expand_conv \t\t\t False\n",
            "76 block4a_expand_bn \t\t\t False\n",
            "77 block4a_expand_activation \t\t\t False\n",
            "78 block4a_dwconv_pad \t\t\t False\n",
            "79 block4a_dwconv \t\t\t False\n",
            "80 block4a_bn \t\t\t False\n",
            "81 block4a_activation \t\t\t False\n",
            "82 block4a_se_squeeze \t\t\t False\n",
            "83 block4a_se_reshape \t\t\t False\n",
            "84 block4a_se_reduce \t\t\t False\n",
            "85 block4a_se_expand \t\t\t False\n",
            "86 block4a_se_excite \t\t\t False\n",
            "87 block4a_project_conv \t\t\t False\n",
            "88 block4a_project_bn \t\t\t False\n",
            "89 block4b_expand_conv \t\t\t False\n",
            "90 block4b_expand_bn \t\t\t False\n",
            "91 block4b_expand_activation \t\t\t False\n",
            "92 block4b_dwconv \t\t\t False\n",
            "93 block4b_bn \t\t\t False\n",
            "94 block4b_activation \t\t\t False\n",
            "95 block4b_se_squeeze \t\t\t False\n",
            "96 block4b_se_reshape \t\t\t False\n",
            "97 block4b_se_reduce \t\t\t False\n",
            "98 block4b_se_expand \t\t\t False\n",
            "99 block4b_se_excite \t\t\t False\n",
            "100 block4b_project_conv \t\t\t False\n",
            "101 block4b_project_bn \t\t\t False\n",
            "102 block4b_drop \t\t\t False\n",
            "103 block4b_add \t\t\t False\n",
            "104 block4c_expand_conv \t\t\t False\n",
            "105 block4c_expand_bn \t\t\t False\n",
            "106 block4c_expand_activation \t\t\t False\n",
            "107 block4c_dwconv \t\t\t False\n",
            "108 block4c_bn \t\t\t False\n",
            "109 block4c_activation \t\t\t False\n",
            "110 block4c_se_squeeze \t\t\t False\n",
            "111 block4c_se_reshape \t\t\t False\n",
            "112 block4c_se_reduce \t\t\t False\n",
            "113 block4c_se_expand \t\t\t False\n",
            "114 block4c_se_excite \t\t\t False\n",
            "115 block4c_project_conv \t\t\t False\n",
            "116 block4c_project_bn \t\t\t False\n",
            "117 block4c_drop \t\t\t False\n",
            "118 block4c_add \t\t\t False\n",
            "119 block5a_expand_conv \t\t\t False\n",
            "120 block5a_expand_bn \t\t\t False\n",
            "121 block5a_expand_activation \t\t\t False\n",
            "122 block5a_dwconv \t\t\t False\n",
            "123 block5a_bn \t\t\t False\n",
            "124 block5a_activation \t\t\t False\n",
            "125 block5a_se_squeeze \t\t\t False\n",
            "126 block5a_se_reshape \t\t\t False\n",
            "127 block5a_se_reduce \t\t\t False\n",
            "128 block5a_se_expand \t\t\t False\n",
            "129 block5a_se_excite \t\t\t False\n",
            "130 block5a_project_conv \t\t\t False\n",
            "131 block5a_project_bn \t\t\t False\n",
            "132 block5b_expand_conv \t\t\t False\n",
            "133 block5b_expand_bn \t\t\t False\n",
            "134 block5b_expand_activation \t\t\t False\n",
            "135 block5b_dwconv \t\t\t False\n",
            "136 block5b_bn \t\t\t False\n",
            "137 block5b_activation \t\t\t False\n",
            "138 block5b_se_squeeze \t\t\t False\n",
            "139 block5b_se_reshape \t\t\t False\n",
            "140 block5b_se_reduce \t\t\t False\n",
            "141 block5b_se_expand \t\t\t False\n",
            "142 block5b_se_excite \t\t\t False\n",
            "143 block5b_project_conv \t\t\t False\n",
            "144 block5b_project_bn \t\t\t False\n",
            "145 block5b_drop \t\t\t False\n",
            "146 block5b_add \t\t\t False\n",
            "147 block5c_expand_conv \t\t\t False\n",
            "148 block5c_expand_bn \t\t\t False\n",
            "149 block5c_expand_activation \t\t\t False\n",
            "150 block5c_dwconv \t\t\t False\n",
            "151 block5c_bn \t\t\t False\n",
            "152 block5c_activation \t\t\t False\n",
            "153 block5c_se_squeeze \t\t\t False\n",
            "154 block5c_se_reshape \t\t\t False\n",
            "155 block5c_se_reduce \t\t\t False\n",
            "156 block5c_se_expand \t\t\t False\n",
            "157 block5c_se_excite \t\t\t False\n",
            "158 block5c_project_conv \t\t\t False\n",
            "159 block5c_project_bn \t\t\t False\n",
            "160 block5c_drop \t\t\t False\n",
            "161 block5c_add \t\t\t False\n",
            "162 block6a_expand_conv \t\t\t False\n",
            "163 block6a_expand_bn \t\t\t False\n",
            "164 block6a_expand_activation \t\t\t False\n",
            "165 block6a_dwconv_pad \t\t\t False\n",
            "166 block6a_dwconv \t\t\t False\n",
            "167 block6a_bn \t\t\t False\n",
            "168 block6a_activation \t\t\t False\n",
            "169 block6a_se_squeeze \t\t\t False\n",
            "170 block6a_se_reshape \t\t\t False\n",
            "171 block6a_se_reduce \t\t\t False\n",
            "172 block6a_se_expand \t\t\t False\n",
            "173 block6a_se_excite \t\t\t False\n",
            "174 block6a_project_conv \t\t\t False\n",
            "175 block6a_project_bn \t\t\t False\n",
            "176 block6b_expand_conv \t\t\t False\n",
            "177 block6b_expand_bn \t\t\t False\n",
            "178 block6b_expand_activation \t\t\t False\n",
            "179 block6b_dwconv \t\t\t False\n",
            "180 block6b_bn \t\t\t False\n",
            "181 block6b_activation \t\t\t False\n",
            "182 block6b_se_squeeze \t\t\t False\n",
            "183 block6b_se_reshape \t\t\t False\n",
            "184 block6b_se_reduce \t\t\t False\n",
            "185 block6b_se_expand \t\t\t False\n",
            "186 block6b_se_excite \t\t\t False\n",
            "187 block6b_project_conv \t\t\t False\n",
            "188 block6b_project_bn \t\t\t False\n",
            "189 block6b_drop \t\t\t False\n",
            "190 block6b_add \t\t\t False\n",
            "191 block6c_expand_conv \t\t\t False\n",
            "192 block6c_expand_bn \t\t\t False\n",
            "193 block6c_expand_activation \t\t\t False\n",
            "194 block6c_dwconv \t\t\t False\n",
            "195 block6c_bn \t\t\t False\n",
            "196 block6c_activation \t\t\t False\n",
            "197 block6c_se_squeeze \t\t\t False\n",
            "198 block6c_se_reshape \t\t\t False\n",
            "199 block6c_se_reduce \t\t\t False\n",
            "200 block6c_se_expand \t\t\t False\n",
            "201 block6c_se_excite \t\t\t False\n",
            "202 block6c_project_conv \t\t\t False\n",
            "203 block6c_project_bn \t\t\t False\n",
            "204 block6c_drop \t\t\t False\n",
            "205 block6c_add \t\t\t False\n",
            "206 block6d_expand_conv \t\t\t False\n",
            "207 block6d_expand_bn \t\t\t False\n",
            "208 block6d_expand_activation \t\t\t False\n",
            "209 block6d_dwconv \t\t\t False\n",
            "210 block6d_bn \t\t\t False\n",
            "211 block6d_activation \t\t\t False\n",
            "212 block6d_se_squeeze \t\t\t False\n",
            "213 block6d_se_reshape \t\t\t False\n",
            "214 block6d_se_reduce \t\t\t False\n",
            "215 block6d_se_expand \t\t\t False\n",
            "216 block6d_se_excite \t\t\t False\n",
            "217 block6d_project_conv \t\t\t False\n",
            "218 block6d_project_bn \t\t\t False\n",
            "219 block6d_drop \t\t\t False\n",
            "220 block6d_add \t\t\t False\n",
            "221 block7a_expand_conv \t\t\t False\n",
            "222 block7a_expand_bn \t\t\t False\n",
            "223 block7a_expand_activation \t\t\t False\n",
            "224 block7a_dwconv \t\t\t False\n",
            "225 block7a_bn \t\t\t False\n",
            "226 block7a_activation \t\t\t False\n",
            "227 block7a_se_squeeze \t\t\t True\n",
            "228 block7a_se_reshape \t\t\t True\n",
            "229 block7a_se_reduce \t\t\t True\n",
            "230 block7a_se_expand \t\t\t True\n",
            "231 block7a_se_excite \t\t\t True\n",
            "232 block7a_project_conv \t\t\t True\n",
            "233 block7a_project_bn \t\t\t True\n",
            "234 top_conv \t\t\t True\n",
            "235 top_bn \t\t\t True\n",
            "236 top_activation \t\t\t True\n"
          ],
          "name": "stdout"
        }
      ]
    },
    {
      "cell_type": "code",
      "metadata": {
        "id": "P-8BeGCy3zXX"
      },
      "source": [
        "# Compile the model\n",
        "model_2.compile(loss=\"categorical_crossentropy\",\n",
        "                optimizer=tf.keras.optimizers.Adam(learning_rate=0.0001),\n",
        "                metrics=[\"accuracy\"])"
      ],
      "execution_count": 91,
      "outputs": []
    },
    {
      "cell_type": "code",
      "metadata": {
        "colab": {
          "base_uri": "https://localhost:8080/"
        },
        "id": "9LBkrH2s4aQB",
        "outputId": "582e92f1-4661-4807-8030-e43226a8a2f1"
      },
      "source": [
        "# Continue to train and fine tune the model to our data (100% of training data)\n",
        "fine_tune_epochs = initial_epochs + 5\n",
        "history_fine_10_classes_full = model_2.fit(train_data_10_classes_full,\n",
        "                                           epochs=fine_tune_epochs,\n",
        "                                           steps_per_epoch=len(train_data_10_classes_full),\n",
        "                                           validation_data=test_data,\n",
        "                                           validation_steps=int(0.25 * len(test_data)),\n",
        "                                           initial_epoch = history_10_percent_data_aug.epoch[-1],\n",
        "                                           callbacks=[create_tensorboard_callback(dir_name=\"transfer_learning\",\n",
        "                                                                                  experiment_name=\"full_10_classes_fine_tune_last_10\")])"
      ],
      "execution_count": 92,
      "outputs": [
        {
          "output_type": "stream",
          "text": [
            "Saving TensorBoard log files to: transfer_learning/full_10_classes_fine_tune_last_10/20210621-141344\n",
            "Epoch 5/10\n"
          ],
          "name": "stdout"
        },
        {
          "output_type": "stream",
          "text": [
            "/usr/local/lib/python3.7/dist-packages/tensorflow/python/keras/utils/generic_utils.py:497: CustomMaskWarning: Custom mask layers require a config and must override get_config. When loading, the custom mask layer must be passed to the custom_objects argument.\n",
            "  category=CustomMaskWarning)\n"
          ],
          "name": "stderr"
        },
        {
          "output_type": "stream",
          "text": [
            "235/235 [==============================] - 50s 191ms/step - loss: 0.7261 - accuracy: 0.7613 - val_loss: 0.4930 - val_accuracy: 0.8438\n",
            "Epoch 6/10\n",
            "235/235 [==============================] - 55s 232ms/step - loss: 0.5836 - accuracy: 0.8128 - val_loss: 0.4107 - val_accuracy: 0.8668\n",
            "Epoch 7/10\n",
            "235/235 [==============================] - 51s 214ms/step - loss: 0.5195 - accuracy: 0.8289 - val_loss: 0.4010 - val_accuracy: 0.8668\n",
            "Epoch 8/10\n",
            "235/235 [==============================] - 50s 211ms/step - loss: 0.4673 - accuracy: 0.8499 - val_loss: 0.3685 - val_accuracy: 0.8832\n",
            "Epoch 9/10\n",
            "235/235 [==============================] - 44s 187ms/step - loss: 0.4392 - accuracy: 0.8553 - val_loss: 0.3860 - val_accuracy: 0.8717\n",
            "Epoch 10/10\n",
            "235/235 [==============================] - 45s 190ms/step - loss: 0.4139 - accuracy: 0.8663 - val_loss: 0.3744 - val_accuracy: 0.8750\n"
          ],
          "name": "stdout"
        }
      ]
    },
    {
      "cell_type": "code",
      "metadata": {
        "colab": {
          "base_uri": "https://localhost:8080/"
        },
        "id": "7J13lo-764On",
        "outputId": "187b9ee7-0058-4de7-99ab-5654b596509d"
      },
      "source": [
        "# Lets evaluate on all of the test_data\n",
        "\n",
        "results_fine_tune_full_data = model_2.evaluate(test_data)"
      ],
      "execution_count": 93,
      "outputs": [
        {
          "output_type": "stream",
          "text": [
            "79/79 [==============================] - 9s 105ms/step - loss: 0.3372 - accuracy: 0.8896\n"
          ],
          "name": "stdout"
        }
      ]
    },
    {
      "cell_type": "code",
      "metadata": {
        "colab": {
          "base_uri": "https://localhost:8080/"
        },
        "id": "ysoWEuVp8vci",
        "outputId": "55d34cef-8724-45f9-d109-9df3709a37c2"
      },
      "source": [
        "results_fine_tune_full_data"
      ],
      "execution_count": 94,
      "outputs": [
        {
          "output_type": "execute_result",
          "data": {
            "text/plain": [
              "[0.33723554015159607, 0.8895999789237976]"
            ]
          },
          "metadata": {
            "tags": []
          },
          "execution_count": 94
        }
      ]
    },
    {
      "cell_type": "code",
      "metadata": {
        "colab": {
          "base_uri": "https://localhost:8080/",
          "height": 507
        },
        "id": "YJMUboG98yud",
        "outputId": "293e0a88-30e9-4a3c-a5de-a6287c9d6b00"
      },
      "source": [
        "# How did fine tuning go with more data\n",
        "compare_histories(original_history=history_10_percent_data_aug,\n",
        "                  new_history=history_fine_10_classes_full)"
      ],
      "execution_count": 95,
      "outputs": [
        {
          "output_type": "display_data",
          "data": {
            "image/png": "[encoded data removed]",
            "text/plain": [
              "<Figure size 576x576 with 1 Axes>"
            ]
          },
          "metadata": {
            "tags": [],
            "needs_background": "light"
          }
        },
        {
          "output_type": "display_data",
          "data": {
            "image/png": "[encoded data removed]",
            "text/plain": [
              "<Figure size 576x576 with 1 Axes>"
            ]
          },
          "metadata": {
            "tags": [],
            "needs_background": "light"
          }
        }
      ]
    },
    {
      "cell_type": "markdown",
      "metadata": {
        "id": "iSW3wtyO9EWK"
      },
      "source": [
        "# Viewing our experiments data on TensorBoard\n",
        "\n",
        "**Note**: Anything uploaded to TensorBoard.dev is going to be public. So if you have private data, do not share it (or delete it quickly)"
      ]
    },
    {
      "cell_type": "code",
      "metadata": {
        "id": "dUXXAeeZ93XU"
      },
      "source": [
        "# View tensorboard logs of transfer learning modelling experiments (should be around 4 models)\n",
        "# Upload TensorBoard dev records\n",
        "\n",
        "!tensorboard dev upload --logdir ./transfer_learning \\\n",
        " --name \"Transfer Learning Experiments with 10 Food 101 classes\" \\\n",
        " --description \"A series of transfer learning experiments with varying amounts of changes\" \\\n",
        " --one_shot # exit the uploader once its finished uploading"
      ],
      "execution_count": null,
      "outputs": []
    },
    {
      "cell_type": "markdown",
      "metadata": {
        "id": "ywv3K0jK_EL1"
      },
      "source": [
        "The Tensorboard experiments are availabe at : https://tensorboard.dev/experiment/YMOqI1cpQRKPDgi9iWwK8Q/"
      ]
    },
    {
      "cell_type": "code",
      "metadata": {
        "colab": {
          "base_uri": "https://localhost:8080/"
        },
        "id": "67Niy1EK-wOR",
        "outputId": "819d7334-f355-4e46-8253-9a8a93e351ed"
      },
      "source": [
        "!tensorboard dev list"
      ],
      "execution_count": 99,
      "outputs": [
        {
          "output_type": "stream",
          "text": [
            "2021-06-21 14:38:02.367843: I tensorflow/stream_executor/platform/default/dso_loader.cc:53] Successfully opened dynamic library libcudart.so.11.0\n",
            "Data for the \"text\" plugin is now uploaded to TensorBoard.dev! Note that uploaded data is public. If you do not want to upload data for this plugin, use the \"--plugins\" command line argument.\n",
            "https://tensorboard.dev/experiment/YMOqI1cpQRKPDgi9iWwK8Q/\n",
            "\tName                 Transfer Learning Experiments with 10 Food 101 classes\n",
            "\tDescription          A series of transfer learning experiments with varying amounts of changes\n",
            "\tId                   YMOqI1cpQRKPDgi9iWwK8Q\n",
            "\tCreated              2021-06-21 14:31:38 (6 minutes ago)\n",
            "\tUpdated              2021-06-21 14:31:44 (6 minutes ago)\n",
            "\tRuns                 12\n",
            "\tTags                 5\n",
            "\tScalars              192\n",
            "\tTensor bytes         0\n",
            "\tBinary object bytes  5068395\n",
            "https://tensorboard.dev/experiment/hK1Y7cXPRpqBOzIA3jpMPw/\n",
            "\tName                 EfficientNetB0 vs ResNet50V2\n",
            "\tDescription           Comparing 2 different TF hub feature extraction model architecture usinh 10% of the training data\n",
            "\tId                   hK1Y7cXPRpqBOzIA3jpMPw\n",
            "\tCreated              2021-06-09 16:58:43\n",
            "\tUpdated              2021-06-09 16:58:46\n",
            "\tRuns                 4\n",
            "\tTags                 5\n",
            "\tScalars              60\n",
            "\tTensor bytes         0\n",
            "\tBinary object bytes  5963064\n",
            "Total: 2 experiment(s)\n"
          ],
          "name": "stdout"
        }
      ]
    },
    {
      "cell_type": "code",
      "metadata": {
        "id": "tJCyDQTXAbta"
      },
      "source": [
        "# To delete an experiment \n",
        "# !tensorboard dev delete --experiment_id YMOqI1cpQRKPDgi9iWwK8Q "
      ],
      "execution_count": null,
      "outputs": []
    }
  ]
}