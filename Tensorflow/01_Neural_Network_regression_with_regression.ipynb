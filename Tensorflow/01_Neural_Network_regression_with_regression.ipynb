{
  "nbformat": 4,
  "nbformat_minor": 0,
  "metadata": {
    "colab": {
      "name": "01_Neural_Network_regression_with_regression.ipynb",
      "provenance": [],
      "collapsed_sections": []
    },
    "kernelspec": {
      "name": "python3",
      "display_name": "Python 3"
    },
    "language_info": {
      "name": "python"
    }
  },
  "cells": [
    {
      "cell_type": "markdown",
      "metadata": {
        "id": "bvc3w5b9fM7n"
      },
      "source": [
        "# Introduction to Regression with Neural Networks in Tensorflow\n",
        "\n",
        "\n",
        "Predicting a numerical variable based off of some combination of other variables"
      ]
    },
    {
      "cell_type": "code",
      "metadata": {
        "colab": {
          "base_uri": "https://localhost:8080/"
        },
        "id": "YvoPdm5ntKJ0",
        "outputId": "c4e829eb-57d0-45ac-ebf0-526a0bbad088"
      },
      "source": [
        "# Inport Tensorflow\n",
        "\n",
        "import tensorflow as tf\n",
        "print(tf.__version__)"
      ],
      "execution_count": null,
      "outputs": [
        {
          "output_type": "stream",
          "text": [
            "2.4.1\n"
          ],
          "name": "stdout"
        }
      ]
    },
    {
      "cell_type": "markdown",
      "metadata": {
        "id": "Qyf5ITwftT_W"
      },
      "source": [
        "### Creating some data to view and fit"
      ]
    },
    {
      "cell_type": "code",
      "metadata": {
        "colab": {
          "base_uri": "https://localhost:8080/",
          "height": 286
        },
        "id": "gGcGg_fUteEf",
        "outputId": "449a8cd3-6e4a-44af-df6b-87e3399a0354"
      },
      "source": [
        "import numpy as np\n",
        "import matplotlib.pyplot as plt\n",
        "\n",
        "# Create features\n",
        "X = np.array([-7.0, -4.0, -1.0, 2.0, 5.0, 8.0, 11.0, 14.0])\n",
        "\n",
        "# Create labels\n",
        "y = np.array([3.0, 6.0, 9.0, 12.0, 15.0, 18.0, 21.0, 24.0])\n",
        "\n",
        "#visualize it\n",
        "plt.scatter(X,y)"
      ],
      "execution_count": null,
      "outputs": [
        {
          "output_type": "execute_result",
          "data": {
            "text/plain": [
              "<matplotlib.collections.PathCollection at 0x7fc66f278550>"
            ]
          },
          "metadata": {
            "tags": []
          },
          "execution_count": 2
        },
        {
          "output_type": "display_data",
          "data": {
            "image/png": "[encoded data removed]",
            "text/plain": [
              "<Figure size 432x288 with 1 Axes>"
            ]
          },
          "metadata": {
            "tags": [],
            "needs_background": "light"
          }
        }
      ]
    },
    {
      "cell_type": "code",
      "metadata": {
        "colab": {
          "base_uri": "https://localhost:8080/"
        },
        "id": "EfW57uZRt_7K",
        "outputId": "2bf253a7-2209-4fbf-c7ca-19055c63300a"
      },
      "source": [
        "# Lets get our intuition as to what X and y relationship is\n",
        "\n",
        "y == X+10"
      ],
      "execution_count": null,
      "outputs": [
        {
          "output_type": "execute_result",
          "data": {
            "text/plain": [
              "array([ True,  True,  True,  True,  True,  True,  True,  True])"
            ]
          },
          "metadata": {
            "tags": []
          },
          "execution_count": 3
        }
      ]
    },
    {
      "cell_type": "markdown",
      "metadata": {
        "id": "a2O8V0-7uOwA"
      },
      "source": [
        "### Input and Output Shapes"
      ]
    },
    {
      "cell_type": "code",
      "metadata": {
        "colab": {
          "base_uri": "https://localhost:8080/"
        },
        "id": "03oU8YmPuWpi",
        "outputId": "e4ceecd6-7792-4c42-c570-7744f0a7ba3c"
      },
      "source": [
        "#  Lets create a demo tensor for housing price prediction problem\n",
        "\n",
        "house_info = tf.constant([\"bedroom\", \"bathroom\", \"garage\"])\n",
        "house_price = tf.constant([939700])\n",
        "house_info, house_price"
      ],
      "execution_count": null,
      "outputs": [
        {
          "output_type": "execute_result",
          "data": {
            "text/plain": [
              "(<tf.Tensor: shape=(3,), dtype=string, numpy=array([b'bedroom', b'bathroom', b'garage'], dtype=object)>,\n",
              " <tf.Tensor: shape=(1,), dtype=int32, numpy=array([939700], dtype=int32)>)"
            ]
          },
          "metadata": {
            "tags": []
          },
          "execution_count": 4
        }
      ]
    },
    {
      "cell_type": "code",
      "metadata": {
        "colab": {
          "base_uri": "https://localhost:8080/"
        },
        "id": "05_hNLIB7PSV",
        "outputId": "00c8b9b8-af0d-4902-adc5-0a0f19f1ed7b"
      },
      "source": [
        "input_shape = X.shape\n",
        "output_shape = y.shape\n",
        "\n",
        "input_shape, output_shape"
      ],
      "execution_count": null,
      "outputs": [
        {
          "output_type": "execute_result",
          "data": {
            "text/plain": [
              "((8,), (8,))"
            ]
          },
          "metadata": {
            "tags": []
          },
          "execution_count": 5
        }
      ]
    },
    {
      "cell_type": "code",
      "metadata": {
        "id": "-3Ynxk1PGFtm",
        "colab": {
          "base_uri": "https://localhost:8080/"
        },
        "outputId": "5dddeb71-03e1-4ca1-9ec2-3d8714a5e8f8"
      },
      "source": [
        "X[0], y[0]"
      ],
      "execution_count": null,
      "outputs": [
        {
          "output_type": "execute_result",
          "data": {
            "text/plain": [
              "(-7.0, 3.0)"
            ]
          },
          "metadata": {
            "tags": []
          },
          "execution_count": 6
        }
      ]
    },
    {
      "cell_type": "code",
      "metadata": {
        "colab": {
          "base_uri": "https://localhost:8080/"
        },
        "id": "twLniOZ8svEp",
        "outputId": "8c7993b8-5727-41cc-8608-9f8a4e3f90cb"
      },
      "source": [
        "X[1], y[1]"
      ],
      "execution_count": null,
      "outputs": [
        {
          "output_type": "execute_result",
          "data": {
            "text/plain": [
              "(-4.0, 6.0)"
            ]
          },
          "metadata": {
            "tags": []
          },
          "execution_count": 7
        }
      ]
    },
    {
      "cell_type": "code",
      "metadata": {
        "colab": {
          "base_uri": "https://localhost:8080/"
        },
        "id": "UyQpmoRnsxW4",
        "outputId": "a81a7ed8-1ed7-4f62-9c19-172ee6b6ab1c"
      },
      "source": [
        "X[0].shape, y[0].shape  # no shape of a rank 0 tensor X and y are scalars of rank 1"
      ],
      "execution_count": null,
      "outputs": [
        {
          "output_type": "execute_result",
          "data": {
            "text/plain": [
              "((), ())"
            ]
          },
          "metadata": {
            "tags": []
          },
          "execution_count": 8
        }
      ]
    },
    {
      "cell_type": "code",
      "metadata": {
        "colab": {
          "base_uri": "https://localhost:8080/"
        },
        "id": "t46VK3z_s6mp",
        "outputId": "4198a38b-2214-4bde-dcf4-af7e3b152c40"
      },
      "source": [
        "X[0].ndim  #rank 0 tensor"
      ],
      "execution_count": null,
      "outputs": [
        {
          "output_type": "execute_result",
          "data": {
            "text/plain": [
              "0"
            ]
          },
          "metadata": {
            "tags": []
          },
          "execution_count": 9
        }
      ]
    },
    {
      "cell_type": "code",
      "metadata": {
        "colab": {
          "base_uri": "https://localhost:8080/"
        },
        "id": "IubjMqittDO4",
        "outputId": "b1c2e449-3c77-4b05-df8a-b79bc325cf45"
      },
      "source": [
        "# Turn numpy arrays inot tensors\n",
        "\n",
        "X = tf.constant(X)\n",
        "y = tf.constant(y)\n",
        "\n",
        "X,y"
      ],
      "execution_count": null,
      "outputs": [
        {
          "output_type": "execute_result",
          "data": {
            "text/plain": [
              "(<tf.Tensor: shape=(8,), dtype=float64, numpy=array([-7., -4., -1.,  2.,  5.,  8., 11., 14.])>,\n",
              " <tf.Tensor: shape=(8,), dtype=float64, numpy=array([ 3.,  6.,  9., 12., 15., 18., 21., 24.])>)"
            ]
          },
          "metadata": {
            "tags": []
          },
          "execution_count": 10
        }
      ]
    },
    {
      "cell_type": "code",
      "metadata": {
        "colab": {
          "base_uri": "https://localhost:8080/"
        },
        "id": "m11G0PQutbJe",
        "outputId": "32338c4c-e6a3-43e2-999b-665d1aec0bfd"
      },
      "source": [
        "input_shape = X.shape\n",
        "output_shape = y.shape\n",
        "\n",
        "input_shape, output_shape"
      ],
      "execution_count": null,
      "outputs": [
        {
          "output_type": "execute_result",
          "data": {
            "text/plain": [
              "(TensorShape([8]), TensorShape([8]))"
            ]
          },
          "metadata": {
            "tags": []
          },
          "execution_count": 11
        }
      ]
    },
    {
      "cell_type": "code",
      "metadata": {
        "colab": {
          "base_uri": "https://localhost:8080/"
        },
        "id": "wFvCyDwStlNQ",
        "outputId": "3898ea4e-5040-4e93-c464-47b00568971d"
      },
      "source": [
        "input_shape = X[0].shape\n",
        "output_shape = y[0].shape\n",
        "\n",
        "input_shape, output_shape"
      ],
      "execution_count": null,
      "outputs": [
        {
          "output_type": "execute_result",
          "data": {
            "text/plain": [
              "(TensorShape([]), TensorShape([]))"
            ]
          },
          "metadata": {
            "tags": []
          },
          "execution_count": 12
        }
      ]
    },
    {
      "cell_type": "code",
      "metadata": {
        "colab": {
          "base_uri": "https://localhost:8080/",
          "height": 286
        },
        "id": "NtgL7x0FtpS9",
        "outputId": "319994a1-3e79-498e-cfa9-55ad17256279"
      },
      "source": [
        "plt.scatter(X, y)"
      ],
      "execution_count": null,
      "outputs": [
        {
          "output_type": "execute_result",
          "data": {
            "text/plain": [
              "<matplotlib.collections.PathCollection at 0x7fc66b6509d0>"
            ]
          },
          "metadata": {
            "tags": []
          },
          "execution_count": 13
        },
        {
          "output_type": "display_data",
          "data": {
            "image/png": "[encoded data removed]",
            "text/plain": [
              "<Figure size 432x288 with 1 Axes>"
            ]
          },
          "metadata": {
            "tags": [],
            "needs_background": "light"
          }
        }
      ]
    },
    {
      "cell_type": "markdown",
      "metadata": {
        "id": "IxCyWQLMtssA"
      },
      "source": [
        "## Steps in modelling with Tensorflow\n",
        "\n",
        "1. **Creating a model** - define the input and output layers, as well as the hidden layers of a deep learning model\n",
        "2. **Compiling a model** - define the loss function (in other words, the function which tells our model how wrong it is) and the optimizer (which tells our model how to improve the patters it's learning) and the evaluation metrics (what we can use to interpret the performance of our model)\n",
        "3. **Fitting the model** - letting the model try to find patterns between X and y (features and labels)"
      ]
    },
    {
      "cell_type": "code",
      "metadata": {
        "colab": {
          "base_uri": "https://localhost:8080/"
        },
        "id": "B736WZXAtyGW",
        "outputId": "20ac7b22-7944-4b30-8e4b-e0a0882fd781"
      },
      "source": [
        "# Set random seed\n",
        "\n",
        "tf.random.set_seed(42)\n",
        "\n",
        "# 1. Create a model using the Sequential API\n",
        "\n",
        "model = tf.keras.Sequential([\n",
        "    tf.keras.layers.Dense(1)\n",
        "])\n",
        "\n",
        "# 2. Compile the model\n",
        "model.compile(loss=tf.keras.losses.mae,   # mae is short for mean absolute error\n",
        "              optimizer=tf.keras.optimizers.SGD(),\n",
        "              metrics=['mae'])        \n",
        "#SDG is short for stochastic Gradient descent\n",
        "\n",
        "# 3. Fit the model\n",
        "model.fit(X, y, epochs=5)"
      ],
      "execution_count": null,
      "outputs": [
        {
          "output_type": "stream",
          "text": [
            "Epoch 1/5\n",
            "1/1 [==============================] - 1s 507ms/step - loss: 11.5048 - mae: 11.5048\n",
            "Epoch 2/5\n",
            "1/1 [==============================] - 0s 7ms/step - loss: 11.3723 - mae: 11.3723\n",
            "Epoch 3/5\n",
            "1/1 [==============================] - 0s 4ms/step - loss: 11.2398 - mae: 11.2398\n",
            "Epoch 4/5\n",
            "1/1 [==============================] - 0s 8ms/step - loss: 11.1073 - mae: 11.1073\n",
            "Epoch 5/5\n",
            "1/1 [==============================] - 0s 6ms/step - loss: 10.9748 - mae: 10.9748\n"
          ],
          "name": "stdout"
        },
        {
          "output_type": "execute_result",
          "data": {
            "text/plain": [
              "<tensorflow.python.keras.callbacks.History at 0x7fc66fa95790>"
            ]
          },
          "metadata": {
            "tags": []
          },
          "execution_count": 14
        }
      ]
    },
    {
      "cell_type": "code",
      "metadata": {
        "colab": {
          "base_uri": "https://localhost:8080/"
        },
        "id": "NYk2BvRgNIjC",
        "outputId": "efbd1ff3-efe3-4ce8-8933-8ec8bbd65a23"
      },
      "source": [
        "# Check out X and y\n",
        "X, y"
      ],
      "execution_count": null,
      "outputs": [
        {
          "output_type": "execute_result",
          "data": {
            "text/plain": [
              "(<tf.Tensor: shape=(8,), dtype=float64, numpy=array([-7., -4., -1.,  2.,  5.,  8., 11., 14.])>,\n",
              " <tf.Tensor: shape=(8,), dtype=float64, numpy=array([ 3.,  6.,  9., 12., 15., 18., 21., 24.])>)"
            ]
          },
          "metadata": {
            "tags": []
          },
          "execution_count": 15
        }
      ]
    },
    {
      "cell_type": "code",
      "metadata": {
        "colab": {
          "base_uri": "https://localhost:8080/"
        },
        "id": "8g2_OM-DOx7j",
        "outputId": "9425d13d-49dc-40ce-8e81-3d1487256d35"
      },
      "source": [
        "# Try and make a prediction with trained model\n",
        "y_pred = model.predict([17.0])\n",
        "y_pred"
      ],
      "execution_count": null,
      "outputs": [
        {
          "output_type": "execute_result",
          "data": {
            "text/plain": [
              "array([[12.716021]], dtype=float32)"
            ]
          },
          "metadata": {
            "tags": []
          },
          "execution_count": 16
        }
      ]
    },
    {
      "cell_type": "code",
      "metadata": {
        "colab": {
          "base_uri": "https://localhost:8080/"
        },
        "id": "08PZ1bIBO8nT",
        "outputId": "e1ed4c8b-8a47-4712-f65c-f724a56ca200"
      },
      "source": [
        "y_pred + 10.9748  #Adding the mae error"
      ],
      "execution_count": null,
      "outputs": [
        {
          "output_type": "execute_result",
          "data": {
            "text/plain": [
              "array([[23.69082]], dtype=float32)"
            ]
          },
          "metadata": {
            "tags": []
          },
          "execution_count": 17
        }
      ]
    },
    {
      "cell_type": "markdown",
      "metadata": {
        "id": "QewJDd3UPNzR"
      },
      "source": [
        "## Improve the model\n",
        "\n",
        "We can improve our model by altering the steps we took to create a model\n",
        "\n",
        "1. **Creating a model** - here we might add more layers, increase the number of hidden units (also called neurons) within each of the hiffen layers, change the activation function of each layer\n",
        "\n",
        "2. **Compiling a model** - here we might change the optimization function pr perhaps the learning rate of the optimization function\n",
        "\n",
        "3. **Fitting a model** - here we might fit a model for more epochs (leave training for a longer time) or on more data ( give the model more examples to learn from)"
      ]
    },
    {
      "cell_type": "code",
      "metadata": {
        "colab": {
          "base_uri": "https://localhost:8080/"
        },
        "id": "YaGpDJYJP2Ck",
        "outputId": "2d5005d9-9355-468f-8c0c-db31b15ed2ec"
      },
      "source": [
        "# Let' rebuild a model\n",
        "\n",
        "# 1. Create the model\n",
        "model = tf.keras.Sequential([\n",
        "                             tf.keras.layers.Dense(1)\n",
        "])\n",
        "\n",
        "# 2. Complile the model \n",
        "model.compile(loss=tf.keras.losses.mae,\n",
        "              optimizer=tf.keras.optimizers.SGD(),\n",
        "              metrics=[\"mae\"])\n",
        "\n",
        "# 3. Fit the model\n",
        "model.fit(X, y, epochs=100)"
      ],
      "execution_count": null,
      "outputs": [
        {
          "output_type": "stream",
          "text": [
            "Epoch 1/100\n",
            "1/1 [==============================] - 0s 300ms/step - loss: 11.2219 - mae: 11.2219\n",
            "Epoch 2/100\n",
            "1/1 [==============================] - 0s 4ms/step - loss: 11.0894 - mae: 11.0894\n",
            "Epoch 3/100\n",
            "1/1 [==============================] - 0s 6ms/step - loss: 10.9569 - mae: 10.9569\n",
            "Epoch 4/100\n",
            "1/1 [==============================] - 0s 3ms/step - loss: 10.8244 - mae: 10.8244\n",
            "Epoch 5/100\n",
            "1/1 [==============================] - 0s 4ms/step - loss: 10.6919 - mae: 10.6919\n",
            "Epoch 6/100\n",
            "1/1 [==============================] - 0s 4ms/step - loss: 10.5594 - mae: 10.5594\n",
            "Epoch 7/100\n",
            "1/1 [==============================] - 0s 9ms/step - loss: 10.4269 - mae: 10.4269\n",
            "Epoch 8/100\n",
            "1/1 [==============================] - 0s 4ms/step - loss: 10.2944 - mae: 10.2944\n",
            "Epoch 9/100\n",
            "1/1 [==============================] - 0s 4ms/step - loss: 10.1619 - mae: 10.1619\n",
            "Epoch 10/100\n",
            "1/1 [==============================] - 0s 18ms/step - loss: 10.0294 - mae: 10.0294\n",
            "Epoch 11/100\n",
            "1/1 [==============================] - 0s 4ms/step - loss: 9.8969 - mae: 9.8969\n",
            "Epoch 12/100\n",
            "1/1 [==============================] - 0s 6ms/step - loss: 9.7644 - mae: 9.7644\n",
            "Epoch 13/100\n",
            "1/1 [==============================] - 0s 3ms/step - loss: 9.6319 - mae: 9.6319\n",
            "Epoch 14/100\n",
            "1/1 [==============================] - 0s 7ms/step - loss: 9.4994 - mae: 9.4994\n",
            "Epoch 15/100\n",
            "1/1 [==============================] - 0s 5ms/step - loss: 9.3669 - mae: 9.3669\n",
            "Epoch 16/100\n",
            "1/1 [==============================] - 0s 7ms/step - loss: 9.2344 - mae: 9.2344\n",
            "Epoch 17/100\n",
            "1/1 [==============================] - 0s 9ms/step - loss: 9.1019 - mae: 9.1019\n",
            "Epoch 18/100\n",
            "1/1 [==============================] - 0s 7ms/step - loss: 8.9694 - mae: 8.9694\n",
            "Epoch 19/100\n",
            "1/1 [==============================] - 0s 4ms/step - loss: 8.8369 - mae: 8.8369\n",
            "Epoch 20/100\n",
            "1/1 [==============================] - 0s 6ms/step - loss: 8.7044 - mae: 8.7044\n",
            "Epoch 21/100\n",
            "1/1 [==============================] - 0s 4ms/step - loss: 8.5719 - mae: 8.5719\n",
            "Epoch 22/100\n",
            "1/1 [==============================] - 0s 5ms/step - loss: 8.4394 - mae: 8.4394\n",
            "Epoch 23/100\n",
            "1/1 [==============================] - 0s 6ms/step - loss: 8.3069 - mae: 8.3069\n",
            "Epoch 24/100\n",
            "1/1 [==============================] - 0s 6ms/step - loss: 8.1744 - mae: 8.1744\n",
            "Epoch 25/100\n",
            "1/1 [==============================] - 0s 4ms/step - loss: 8.0419 - mae: 8.0419\n",
            "Epoch 26/100\n",
            "1/1 [==============================] - 0s 7ms/step - loss: 7.9094 - mae: 7.9094\n",
            "Epoch 27/100\n",
            "1/1 [==============================] - 0s 7ms/step - loss: 7.7769 - mae: 7.7769\n",
            "Epoch 28/100\n",
            "1/1 [==============================] - 0s 5ms/step - loss: 7.6444 - mae: 7.6444\n",
            "Epoch 29/100\n",
            "1/1 [==============================] - 0s 4ms/step - loss: 7.5119 - mae: 7.5119\n",
            "Epoch 30/100\n",
            "1/1 [==============================] - 0s 6ms/step - loss: 7.3794 - mae: 7.3794\n",
            "Epoch 31/100\n",
            "1/1 [==============================] - 0s 4ms/step - loss: 7.2750 - mae: 7.2750\n",
            "Epoch 32/100\n",
            "1/1 [==============================] - 0s 5ms/step - loss: 7.2694 - mae: 7.2694\n",
            "Epoch 33/100\n",
            "1/1 [==============================] - 0s 6ms/step - loss: 7.2638 - mae: 7.2638\n",
            "Epoch 34/100\n",
            "1/1 [==============================] - 0s 5ms/step - loss: 7.2581 - mae: 7.2581\n",
            "Epoch 35/100\n",
            "1/1 [==============================] - 0s 6ms/step - loss: 7.2525 - mae: 7.2525\n",
            "Epoch 36/100\n",
            "1/1 [==============================] - 0s 4ms/step - loss: 7.2469 - mae: 7.2469\n",
            "Epoch 37/100\n",
            "1/1 [==============================] - 0s 5ms/step - loss: 7.2412 - mae: 7.2412\n",
            "Epoch 38/100\n",
            "1/1 [==============================] - 0s 6ms/step - loss: 7.2356 - mae: 7.2356\n",
            "Epoch 39/100\n",
            "1/1 [==============================] - 0s 5ms/step - loss: 7.2300 - mae: 7.2300\n",
            "Epoch 40/100\n",
            "1/1 [==============================] - 0s 5ms/step - loss: 7.2244 - mae: 7.2244\n",
            "Epoch 41/100\n",
            "1/1 [==============================] - 0s 6ms/step - loss: 7.2188 - mae: 7.2188\n",
            "Epoch 42/100\n",
            "1/1 [==============================] - 0s 4ms/step - loss: 7.2131 - mae: 7.2131\n",
            "Epoch 43/100\n",
            "1/1 [==============================] - 0s 5ms/step - loss: 7.2075 - mae: 7.2075\n",
            "Epoch 44/100\n",
            "1/1 [==============================] - 0s 5ms/step - loss: 7.2019 - mae: 7.2019\n",
            "Epoch 45/100\n",
            "1/1 [==============================] - 0s 4ms/step - loss: 7.1962 - mae: 7.1962\n",
            "Epoch 46/100\n",
            "1/1 [==============================] - 0s 8ms/step - loss: 7.1906 - mae: 7.1906\n",
            "Epoch 47/100\n",
            "1/1 [==============================] - 0s 4ms/step - loss: 7.1850 - mae: 7.1850\n",
            "Epoch 48/100\n",
            "1/1 [==============================] - 0s 5ms/step - loss: 7.1794 - mae: 7.1794\n",
            "Epoch 49/100\n",
            "1/1 [==============================] - 0s 5ms/step - loss: 7.1737 - mae: 7.1737\n",
            "Epoch 50/100\n",
            "1/1 [==============================] - 0s 7ms/step - loss: 7.1681 - mae: 7.1681\n",
            "Epoch 51/100\n",
            "1/1 [==============================] - 0s 7ms/step - loss: 7.1625 - mae: 7.1625\n",
            "Epoch 52/100\n",
            "1/1 [==============================] - 0s 5ms/step - loss: 7.1569 - mae: 7.1569\n",
            "Epoch 53/100\n",
            "1/1 [==============================] - 0s 7ms/step - loss: 7.1512 - mae: 7.1512\n",
            "Epoch 54/100\n",
            "1/1 [==============================] - 0s 6ms/step - loss: 7.1456 - mae: 7.1456\n",
            "Epoch 55/100\n",
            "1/1 [==============================] - 0s 5ms/step - loss: 7.1400 - mae: 7.1400\n",
            "Epoch 56/100\n",
            "1/1 [==============================] - 0s 6ms/step - loss: 7.1344 - mae: 7.1344\n",
            "Epoch 57/100\n",
            "1/1 [==============================] - 0s 6ms/step - loss: 7.1287 - mae: 7.1287\n",
            "Epoch 58/100\n",
            "1/1 [==============================] - 0s 6ms/step - loss: 7.1231 - mae: 7.1231\n",
            "Epoch 59/100\n",
            "1/1 [==============================] - 0s 6ms/step - loss: 7.1175 - mae: 7.1175\n",
            "Epoch 60/100\n",
            "1/1 [==============================] - 0s 6ms/step - loss: 7.1119 - mae: 7.1119\n",
            "Epoch 61/100\n",
            "1/1 [==============================] - 0s 8ms/step - loss: 7.1062 - mae: 7.1062\n",
            "Epoch 62/100\n",
            "1/1 [==============================] - 0s 4ms/step - loss: 7.1006 - mae: 7.1006\n",
            "Epoch 63/100\n",
            "1/1 [==============================] - 0s 4ms/step - loss: 7.0950 - mae: 7.0950\n",
            "Epoch 64/100\n",
            "1/1 [==============================] - 0s 6ms/step - loss: 7.0894 - mae: 7.0894\n",
            "Epoch 65/100\n",
            "1/1 [==============================] - 0s 4ms/step - loss: 7.0838 - mae: 7.0838\n",
            "Epoch 66/100\n",
            "1/1 [==============================] - 0s 4ms/step - loss: 7.0781 - mae: 7.0781\n",
            "Epoch 67/100\n",
            "1/1 [==============================] - 0s 6ms/step - loss: 7.0725 - mae: 7.0725\n",
            "Epoch 68/100\n",
            "1/1 [==============================] - 0s 4ms/step - loss: 7.0669 - mae: 7.0669\n",
            "Epoch 69/100\n",
            "1/1 [==============================] - 0s 5ms/step - loss: 7.0613 - mae: 7.0613\n",
            "Epoch 70/100\n",
            "1/1 [==============================] - 0s 6ms/step - loss: 7.0556 - mae: 7.0556\n",
            "Epoch 71/100\n",
            "1/1 [==============================] - 0s 4ms/step - loss: 7.0500 - mae: 7.0500\n",
            "Epoch 72/100\n",
            "1/1 [==============================] - 0s 6ms/step - loss: 7.0444 - mae: 7.0444\n",
            "Epoch 73/100\n",
            "1/1 [==============================] - 0s 4ms/step - loss: 7.0388 - mae: 7.0388\n",
            "Epoch 74/100\n",
            "1/1 [==============================] - 0s 6ms/step - loss: 7.0331 - mae: 7.0331\n",
            "Epoch 75/100\n",
            "1/1 [==============================] - 0s 4ms/step - loss: 7.0275 - mae: 7.0275\n",
            "Epoch 76/100\n",
            "1/1 [==============================] - 0s 11ms/step - loss: 7.0219 - mae: 7.0219\n",
            "Epoch 77/100\n",
            "1/1 [==============================] - 0s 6ms/step - loss: 7.0163 - mae: 7.0163\n",
            "Epoch 78/100\n",
            "1/1 [==============================] - 0s 8ms/step - loss: 7.0106 - mae: 7.0106\n",
            "Epoch 79/100\n",
            "1/1 [==============================] - 0s 4ms/step - loss: 7.0050 - mae: 7.0050\n",
            "Epoch 80/100\n",
            "1/1 [==============================] - 0s 11ms/step - loss: 6.9994 - mae: 6.9994\n",
            "Epoch 81/100\n",
            "1/1 [==============================] - 0s 5ms/step - loss: 6.9938 - mae: 6.9938\n",
            "Epoch 82/100\n",
            "1/1 [==============================] - 0s 8ms/step - loss: 6.9881 - mae: 6.9881\n",
            "Epoch 83/100\n",
            "1/1 [==============================] - 0s 7ms/step - loss: 6.9825 - mae: 6.9825\n",
            "Epoch 84/100\n",
            "1/1 [==============================] - 0s 4ms/step - loss: 6.9769 - mae: 6.9769\n",
            "Epoch 85/100\n",
            "1/1 [==============================] - 0s 5ms/step - loss: 6.9713 - mae: 6.9713\n",
            "Epoch 86/100\n",
            "1/1 [==============================] - 0s 4ms/step - loss: 6.9656 - mae: 6.9656\n",
            "Epoch 87/100\n",
            "1/1 [==============================] - 0s 5ms/step - loss: 6.9600 - mae: 6.9600\n",
            "Epoch 88/100\n",
            "1/1 [==============================] - 0s 6ms/step - loss: 6.9544 - mae: 6.9544\n",
            "Epoch 89/100\n",
            "1/1 [==============================] - 0s 4ms/step - loss: 6.9488 - mae: 6.9488\n",
            "Epoch 90/100\n",
            "1/1 [==============================] - 0s 4ms/step - loss: 6.9431 - mae: 6.9431\n",
            "Epoch 91/100\n",
            "1/1 [==============================] - 0s 7ms/step - loss: 6.9375 - mae: 6.9375\n",
            "Epoch 92/100\n",
            "1/1 [==============================] - 0s 4ms/step - loss: 6.9319 - mae: 6.9319\n",
            "Epoch 93/100\n",
            "1/1 [==============================] - 0s 4ms/step - loss: 6.9263 - mae: 6.9263\n",
            "Epoch 94/100\n",
            "1/1 [==============================] - 0s 7ms/step - loss: 6.9206 - mae: 6.9206\n",
            "Epoch 95/100\n",
            "1/1 [==============================] - 0s 4ms/step - loss: 6.9150 - mae: 6.9150\n",
            "Epoch 96/100\n",
            "1/1 [==============================] - 0s 5ms/step - loss: 6.9094 - mae: 6.9094\n",
            "Epoch 97/100\n",
            "1/1 [==============================] - 0s 3ms/step - loss: 6.9038 - mae: 6.9038\n",
            "Epoch 98/100\n",
            "1/1 [==============================] - 0s 6ms/step - loss: 6.8981 - mae: 6.8981\n",
            "Epoch 99/100\n",
            "1/1 [==============================] - 0s 36ms/step - loss: 6.8925 - mae: 6.8925\n",
            "Epoch 100/100\n",
            "1/1 [==============================] - 0s 4ms/step - loss: 6.8869 - mae: 6.8869\n"
          ],
          "name": "stdout"
        },
        {
          "output_type": "execute_result",
          "data": {
            "text/plain": [
              "<tensorflow.python.keras.callbacks.History at 0x7fc66a443350>"
            ]
          },
          "metadata": {
            "tags": []
          },
          "execution_count": 18
        }
      ]
    },
    {
      "cell_type": "code",
      "metadata": {
        "colab": {
          "base_uri": "https://localhost:8080/"
        },
        "id": "RkYJ53-jRHAS",
        "outputId": "9b990a0d-6e66-4a82-bc39-17c349e77605"
      },
      "source": [
        "# Remind oirselves of the data\n",
        "X, y"
      ],
      "execution_count": null,
      "outputs": [
        {
          "output_type": "execute_result",
          "data": {
            "text/plain": [
              "(<tf.Tensor: shape=(8,), dtype=float64, numpy=array([-7., -4., -1.,  2.,  5.,  8., 11., 14.])>,\n",
              " <tf.Tensor: shape=(8,), dtype=float64, numpy=array([ 3.,  6.,  9., 12., 15., 18., 21., 24.])>)"
            ]
          },
          "metadata": {
            "tags": []
          },
          "execution_count": 19
        }
      ]
    },
    {
      "cell_type": "code",
      "metadata": {
        "colab": {
          "base_uri": "https://localhost:8080/"
        },
        "id": "_0xrGi8RRKZX",
        "outputId": "2f8595dd-368f-4a42-b7f4-fe014cad8fd3"
      },
      "source": [
        "# Lets see if our model prediction has improved...\n",
        "model.predict([17.0])"
      ],
      "execution_count": null,
      "outputs": [
        {
          "output_type": "execute_result",
          "data": {
            "text/plain": [
              "array([[29.739855]], dtype=float32)"
            ]
          },
          "metadata": {
            "tags": []
          },
          "execution_count": 20
        }
      ]
    },
    {
      "cell_type": "code",
      "metadata": {
        "colab": {
          "base_uri": "https://localhost:8080/"
        },
        "id": "w6Ih9RuEUjT8",
        "outputId": "cb3e8298-7891-4558-9422-4d5cc75ed9cc"
      },
      "source": [
        "# Let' rebuild a model\n",
        "# With a extra hidden layer with 100 hidden units\n",
        "\n",
        "tf.random.set_seed(42)\n",
        "\n",
        "# 1. Create the model\n",
        "model = tf.keras.Sequential([\n",
        "                             tf.keras.layers.Dense(100),\n",
        "                             tf.keras.layers.Dense(1)\n",
        "])\n",
        "\n",
        "# 2. Complile the model \n",
        "model.compile(loss=tf.keras.losses.mae,\n",
        "              optimizer=tf.keras.optimizers.SGD(),\n",
        "              metrics=[\"mae\"])\n",
        "\n",
        "# 3. Fit the model\n",
        "model.fit(X, y, epochs=100)"
      ],
      "execution_count": null,
      "outputs": [
        {
          "output_type": "stream",
          "text": [
            "Epoch 1/100\n",
            "1/1 [==============================] - 0s 289ms/step - loss: 13.0472 - mae: 13.0472\n",
            "Epoch 2/100\n",
            "1/1 [==============================] - 0s 6ms/step - loss: 12.5478 - mae: 12.5478\n",
            "Epoch 3/100\n",
            "1/1 [==============================] - 0s 7ms/step - loss: 12.0448 - mae: 12.0448\n",
            "Epoch 4/100\n",
            "1/1 [==============================] - 0s 3ms/step - loss: 11.5354 - mae: 11.5354\n",
            "Epoch 5/100\n",
            "1/1 [==============================] - 0s 6ms/step - loss: 11.0171 - mae: 11.0171\n",
            "Epoch 6/100\n",
            "1/1 [==============================] - 0s 4ms/step - loss: 10.4872 - mae: 10.4872\n",
            "Epoch 7/100\n",
            "1/1 [==============================] - 0s 4ms/step - loss: 9.9430 - mae: 9.9430\n",
            "Epoch 8/100\n",
            "1/1 [==============================] - 0s 6ms/step - loss: 9.3817 - mae: 9.3817\n",
            "Epoch 9/100\n",
            "1/1 [==============================] - 0s 3ms/step - loss: 8.8004 - mae: 8.8004\n",
            "Epoch 10/100\n",
            "1/1 [==============================] - 0s 3ms/step - loss: 8.1962 - mae: 8.1962\n",
            "Epoch 11/100\n",
            "1/1 [==============================] - 0s 4ms/step - loss: 7.5659 - mae: 7.5659\n",
            "Epoch 12/100\n",
            "1/1 [==============================] - 0s 5ms/step - loss: 7.2185 - mae: 7.2185\n",
            "Epoch 13/100\n",
            "1/1 [==============================] - 0s 5ms/step - loss: 7.1974 - mae: 7.1974\n",
            "Epoch 14/100\n",
            "1/1 [==============================] - 0s 5ms/step - loss: 7.1763 - mae: 7.1763\n",
            "Epoch 15/100\n",
            "1/1 [==============================] - 0s 4ms/step - loss: 7.1552 - mae: 7.1552\n",
            "Epoch 16/100\n",
            "1/1 [==============================] - 0s 5ms/step - loss: 7.1340 - mae: 7.1340\n",
            "Epoch 17/100\n",
            "1/1 [==============================] - 0s 4ms/step - loss: 7.1127 - mae: 7.1127\n",
            "Epoch 18/100\n",
            "1/1 [==============================] - 0s 6ms/step - loss: 7.0914 - mae: 7.0914\n",
            "Epoch 19/100\n",
            "1/1 [==============================] - 0s 4ms/step - loss: 7.0700 - mae: 7.0700\n",
            "Epoch 20/100\n",
            "1/1 [==============================] - 0s 7ms/step - loss: 7.0485 - mae: 7.0485\n",
            "Epoch 21/100\n",
            "1/1 [==============================] - 0s 3ms/step - loss: 7.0270 - mae: 7.0270\n",
            "Epoch 22/100\n",
            "1/1 [==============================] - 0s 6ms/step - loss: 7.0054 - mae: 7.0054\n",
            "Epoch 23/100\n",
            "1/1 [==============================] - 0s 4ms/step - loss: 6.9837 - mae: 6.9837\n",
            "Epoch 24/100\n",
            "1/1 [==============================] - 0s 6ms/step - loss: 6.9620 - mae: 6.9620\n",
            "Epoch 25/100\n",
            "1/1 [==============================] - 0s 5ms/step - loss: 6.9401 - mae: 6.9401\n",
            "Epoch 26/100\n",
            "1/1 [==============================] - 0s 14ms/step - loss: 6.9182 - mae: 6.9182\n",
            "Epoch 27/100\n",
            "1/1 [==============================] - 0s 9ms/step - loss: 6.8962 - mae: 6.8962\n",
            "Epoch 28/100\n",
            "1/1 [==============================] - 0s 4ms/step - loss: 6.8741 - mae: 6.8741\n",
            "Epoch 29/100\n",
            "1/1 [==============================] - 0s 6ms/step - loss: 6.8518 - mae: 6.8518\n",
            "Epoch 30/100\n",
            "1/1 [==============================] - 0s 4ms/step - loss: 6.8295 - mae: 6.8295\n",
            "Epoch 31/100\n",
            "1/1 [==============================] - 0s 6ms/step - loss: 6.8071 - mae: 6.8071\n",
            "Epoch 32/100\n",
            "1/1 [==============================] - 0s 5ms/step - loss: 6.7845 - mae: 6.7845\n",
            "Epoch 33/100\n",
            "1/1 [==============================] - 0s 5ms/step - loss: 6.7637 - mae: 6.7637\n",
            "Epoch 34/100\n",
            "1/1 [==============================] - 0s 5ms/step - loss: 6.7556 - mae: 6.7556\n",
            "Epoch 35/100\n",
            "1/1 [==============================] - 0s 18ms/step - loss: 6.7333 - mae: 6.7333\n",
            "Epoch 36/100\n",
            "1/1 [==============================] - 0s 6ms/step - loss: 6.7109 - mae: 6.7109\n",
            "Epoch 37/100\n",
            "1/1 [==============================] - 0s 7ms/step - loss: 6.6883 - mae: 6.6883\n",
            "Epoch 38/100\n",
            "1/1 [==============================] - 0s 4ms/step - loss: 6.6656 - mae: 6.6656\n",
            "Epoch 39/100\n",
            "1/1 [==============================] - 0s 5ms/step - loss: 6.6428 - mae: 6.6428\n",
            "Epoch 40/100\n",
            "1/1 [==============================] - 0s 6ms/step - loss: 6.6199 - mae: 6.6199\n",
            "Epoch 41/100\n",
            "1/1 [==============================] - 0s 6ms/step - loss: 6.5968 - mae: 6.5968\n",
            "Epoch 42/100\n",
            "1/1 [==============================] - 0s 4ms/step - loss: 6.5735 - mae: 6.5735\n",
            "Epoch 43/100\n",
            "1/1 [==============================] - 0s 5ms/step - loss: 6.5501 - mae: 6.5501\n",
            "Epoch 44/100\n",
            "1/1 [==============================] - 0s 6ms/step - loss: 6.5265 - mae: 6.5265\n",
            "Epoch 45/100\n",
            "1/1 [==============================] - 0s 7ms/step - loss: 6.5028 - mae: 6.5028\n",
            "Epoch 46/100\n",
            "1/1 [==============================] - 0s 4ms/step - loss: 6.4789 - mae: 6.4789\n",
            "Epoch 47/100\n",
            "1/1 [==============================] - 0s 5ms/step - loss: 6.4549 - mae: 6.4549\n",
            "Epoch 48/100\n",
            "1/1 [==============================] - 0s 4ms/step - loss: 6.4307 - mae: 6.4307\n",
            "Epoch 49/100\n",
            "1/1 [==============================] - 0s 4ms/step - loss: 6.4063 - mae: 6.4063\n",
            "Epoch 50/100\n",
            "1/1 [==============================] - 0s 5ms/step - loss: 6.3817 - mae: 6.3817\n",
            "Epoch 51/100\n",
            "1/1 [==============================] - 0s 9ms/step - loss: 6.3570 - mae: 6.3570\n",
            "Epoch 52/100\n",
            "1/1 [==============================] - 0s 6ms/step - loss: 6.3320 - mae: 6.3320\n",
            "Epoch 53/100\n",
            "1/1 [==============================] - 0s 4ms/step - loss: 6.3069 - mae: 6.3069\n",
            "Epoch 54/100\n",
            "1/1 [==============================] - 0s 4ms/step - loss: 6.2816 - mae: 6.2816\n",
            "Epoch 55/100\n",
            "1/1 [==============================] - 0s 4ms/step - loss: 6.2664 - mae: 6.2664\n",
            "Epoch 56/100\n",
            "1/1 [==============================] - 0s 4ms/step - loss: 6.2532 - mae: 6.2532\n",
            "Epoch 57/100\n",
            "1/1 [==============================] - 0s 4ms/step - loss: 6.2279 - mae: 6.2279\n",
            "Epoch 58/100\n",
            "1/1 [==============================] - 0s 3ms/step - loss: 6.2023 - mae: 6.2023\n",
            "Epoch 59/100\n",
            "1/1 [==============================] - 0s 4ms/step - loss: 6.1766 - mae: 6.1766\n",
            "Epoch 60/100\n",
            "1/1 [==============================] - 0s 5ms/step - loss: 6.1506 - mae: 6.1506\n",
            "Epoch 61/100\n",
            "1/1 [==============================] - 0s 4ms/step - loss: 6.1244 - mae: 6.1244\n",
            "Epoch 62/100\n",
            "1/1 [==============================] - 0s 6ms/step - loss: 6.0980 - mae: 6.0980\n",
            "Epoch 63/100\n",
            "1/1 [==============================] - 0s 5ms/step - loss: 6.0713 - mae: 6.0713\n",
            "Epoch 64/100\n",
            "1/1 [==============================] - 0s 5ms/step - loss: 6.0444 - mae: 6.0444\n",
            "Epoch 65/100\n",
            "1/1 [==============================] - 0s 5ms/step - loss: 6.0173 - mae: 6.0173\n",
            "Epoch 66/100\n",
            "1/1 [==============================] - 0s 5ms/step - loss: 5.9899 - mae: 5.9899\n",
            "Epoch 67/100\n",
            "1/1 [==============================] - 0s 5ms/step - loss: 5.9622 - mae: 5.9622\n",
            "Epoch 68/100\n",
            "1/1 [==============================] - 0s 5ms/step - loss: 5.9343 - mae: 5.9343\n",
            "Epoch 69/100\n",
            "1/1 [==============================] - 0s 7ms/step - loss: 5.9062 - mae: 5.9062\n",
            "Epoch 70/100\n",
            "1/1 [==============================] - 0s 5ms/step - loss: 5.8778 - mae: 5.8778\n",
            "Epoch 71/100\n",
            "1/1 [==============================] - 0s 6ms/step - loss: 5.8491 - mae: 5.8491\n",
            "Epoch 72/100\n",
            "1/1 [==============================] - 0s 5ms/step - loss: 5.8237 - mae: 5.8237\n",
            "Epoch 73/100\n",
            "1/1 [==============================] - 0s 4ms/step - loss: 5.8185 - mae: 5.8185\n",
            "Epoch 74/100\n",
            "1/1 [==============================] - 0s 4ms/step - loss: 5.7896 - mae: 5.7896\n",
            "Epoch 75/100\n",
            "1/1 [==============================] - 0s 5ms/step - loss: 5.7604 - mae: 5.7604\n",
            "Epoch 76/100\n",
            "1/1 [==============================] - 0s 5ms/step - loss: 5.7309 - mae: 5.7309\n",
            "Epoch 77/100\n",
            "1/1 [==============================] - 0s 5ms/step - loss: 5.7011 - mae: 5.7011\n",
            "Epoch 78/100\n",
            "1/1 [==============================] - 0s 7ms/step - loss: 5.6710 - mae: 5.6710\n",
            "Epoch 79/100\n",
            "1/1 [==============================] - 0s 6ms/step - loss: 5.6406 - mae: 5.6406\n",
            "Epoch 80/100\n",
            "1/1 [==============================] - 0s 5ms/step - loss: 5.6099 - mae: 5.6099\n",
            "Epoch 81/100\n",
            "1/1 [==============================] - 0s 5ms/step - loss: 5.5788 - mae: 5.5788\n",
            "Epoch 82/100\n",
            "1/1 [==============================] - 0s 4ms/step - loss: 5.5475 - mae: 5.5475\n",
            "Epoch 83/100\n",
            "1/1 [==============================] - 0s 5ms/step - loss: 5.5158 - mae: 5.5158\n",
            "Epoch 84/100\n",
            "1/1 [==============================] - 0s 6ms/step - loss: 5.4837 - mae: 5.4837\n",
            "Epoch 85/100\n",
            "1/1 [==============================] - 0s 5ms/step - loss: 5.4514 - mae: 5.4514\n",
            "Epoch 86/100\n",
            "1/1 [==============================] - 0s 6ms/step - loss: 5.4186 - mae: 5.4186\n",
            "Epoch 87/100\n",
            "1/1 [==============================] - 0s 5ms/step - loss: 5.3856 - mae: 5.3856\n",
            "Epoch 88/100\n",
            "1/1 [==============================] - 0s 10ms/step - loss: 5.3804 - mae: 5.3804\n",
            "Epoch 89/100\n",
            "1/1 [==============================] - 0s 10ms/step - loss: 5.3730 - mae: 5.3730\n",
            "Epoch 90/100\n",
            "1/1 [==============================] - 0s 6ms/step - loss: 5.4886 - mae: 5.4886\n",
            "Epoch 91/100\n",
            "1/1 [==============================] - 0s 7ms/step - loss: 5.2789 - mae: 5.2789\n",
            "Epoch 92/100\n",
            "1/1 [==============================] - 0s 8ms/step - loss: 5.2446 - mae: 5.2446\n",
            "Epoch 93/100\n",
            "1/1 [==============================] - 0s 12ms/step - loss: 5.2098 - mae: 5.2098\n",
            "Epoch 94/100\n",
            "1/1 [==============================] - 0s 8ms/step - loss: 5.1746 - mae: 5.1746\n",
            "Epoch 95/100\n",
            "1/1 [==============================] - 0s 4ms/step - loss: 5.1391 - mae: 5.1391\n",
            "Epoch 96/100\n",
            "1/1 [==============================] - 0s 8ms/step - loss: 5.1031 - mae: 5.1031\n",
            "Epoch 97/100\n",
            "1/1 [==============================] - 0s 5ms/step - loss: 5.0667 - mae: 5.0667\n",
            "Epoch 98/100\n",
            "1/1 [==============================] - 0s 5ms/step - loss: 5.0328 - mae: 5.0328\n",
            "Epoch 99/100\n",
            "1/1 [==============================] - 0s 4ms/step - loss: 5.1291 - mae: 5.1291\n",
            "Epoch 100/100\n",
            "1/1 [==============================] - 0s 5ms/step - loss: 5.1437 - mae: 5.1437\n"
          ],
          "name": "stdout"
        },
        {
          "output_type": "execute_result",
          "data": {
            "text/plain": [
              "<tensorflow.python.keras.callbacks.History at 0x7fc66752be10>"
            ]
          },
          "metadata": {
            "tags": []
          },
          "execution_count": 21
        }
      ]
    },
    {
      "cell_type": "code",
      "metadata": {
        "colab": {
          "base_uri": "https://localhost:8080/"
        },
        "id": "2YbSbUrsacyA",
        "outputId": "459061fc-293a-4a89-840a-7e373ca1211c"
      },
      "source": [
        "# Let's remind ourselves of the X and y\n",
        "X, y"
      ],
      "execution_count": null,
      "outputs": [
        {
          "output_type": "execute_result",
          "data": {
            "text/plain": [
              "(<tf.Tensor: shape=(8,), dtype=float64, numpy=array([-7., -4., -1.,  2.,  5.,  8., 11., 14.])>,\n",
              " <tf.Tensor: shape=(8,), dtype=float64, numpy=array([ 3.,  6.,  9., 12., 15., 18., 21., 24.])>)"
            ]
          },
          "metadata": {
            "tags": []
          },
          "execution_count": 22
        }
      ]
    },
    {
      "cell_type": "code",
      "metadata": {
        "colab": {
          "base_uri": "https://localhost:8080/"
        },
        "id": "bLxHBF6-adDt",
        "outputId": "184bc79f-97ab-48b0-fa0b-ebccd32985a7"
      },
      "source": [
        "# Let's make a prediction\n",
        "model.predict([17.0])"
      ],
      "execution_count": null,
      "outputs": [
        {
          "output_type": "execute_result",
          "data": {
            "text/plain": [
              "array([[29.006927]], dtype=float32)"
            ]
          },
          "metadata": {
            "tags": []
          },
          "execution_count": 23
        }
      ]
    },
    {
      "cell_type": "code",
      "metadata": {
        "colab": {
          "base_uri": "https://localhost:8080/"
        },
        "id": "9n3-NbykUjzE",
        "outputId": "bbdf8b5b-5cf3-4ccb-a3df-bf72cdd01e62"
      },
      "source": [
        "# Let's see if we can make more changes to our model to make it better\n",
        "# With 1 extra hidden layer with 100 hidden units and a relu activation function\n",
        "\n",
        "tf.random.set_seed(42)\n",
        "# 1. Create the model\n",
        "model = tf.keras.Sequential([\n",
        "                             tf.keras.layers.Dense(100, activation=\"relu\"),\n",
        "                             tf.keras.layers.Dense(1)\n",
        "])\n",
        "\n",
        "# 2. Complile the model \n",
        "model.compile(loss=tf.keras.losses.mae,\n",
        "              optimizer=tf.keras.optimizers.Adam(),\n",
        "              metrics=[\"mae\"])\n",
        "\n",
        "# 3. Fit the model\n",
        "model.fit(X, y, epochs=100)"
      ],
      "execution_count": null,
      "outputs": [
        {
          "output_type": "stream",
          "text": [
            "Epoch 1/100\n",
            "1/1 [==============================] - 0s 356ms/step - loss: 12.3185 - mae: 12.3185\n",
            "Epoch 2/100\n",
            "1/1 [==============================] - 0s 5ms/step - loss: 12.2313 - mae: 12.2313\n",
            "Epoch 3/100\n",
            "1/1 [==============================] - 0s 5ms/step - loss: 12.1440 - mae: 12.1440\n",
            "Epoch 4/100\n",
            "1/1 [==============================] - 0s 4ms/step - loss: 12.0564 - mae: 12.0564\n",
            "Epoch 5/100\n",
            "1/1 [==============================] - 0s 6ms/step - loss: 11.9685 - mae: 11.9685\n",
            "Epoch 6/100\n",
            "1/1 [==============================] - 0s 7ms/step - loss: 11.8805 - mae: 11.8805\n",
            "Epoch 7/100\n",
            "1/1 [==============================] - 0s 4ms/step - loss: 11.7922 - mae: 11.7922\n",
            "Epoch 8/100\n",
            "1/1 [==============================] - 0s 6ms/step - loss: 11.7036 - mae: 11.7036\n",
            "Epoch 9/100\n",
            "1/1 [==============================] - 0s 6ms/step - loss: 11.6149 - mae: 11.6149\n",
            "Epoch 10/100\n",
            "1/1 [==============================] - 0s 4ms/step - loss: 11.5260 - mae: 11.5260\n",
            "Epoch 11/100\n",
            "1/1 [==============================] - 0s 4ms/step - loss: 11.4372 - mae: 11.4372\n",
            "Epoch 12/100\n",
            "1/1 [==============================] - 0s 7ms/step - loss: 11.3485 - mae: 11.3485\n",
            "Epoch 13/100\n",
            "1/1 [==============================] - 0s 4ms/step - loss: 11.2595 - mae: 11.2595\n",
            "Epoch 14/100\n",
            "1/1 [==============================] - 0s 5ms/step - loss: 11.1702 - mae: 11.1702\n",
            "Epoch 15/100\n",
            "1/1 [==============================] - 0s 4ms/step - loss: 11.0807 - mae: 11.0807\n",
            "Epoch 16/100\n",
            "1/1 [==============================] - 0s 8ms/step - loss: 10.9909 - mae: 10.9909\n",
            "Epoch 17/100\n",
            "1/1 [==============================] - 0s 4ms/step - loss: 10.9011 - mae: 10.9011\n",
            "Epoch 18/100\n",
            "1/1 [==============================] - 0s 4ms/step - loss: 10.8110 - mae: 10.8110\n",
            "Epoch 19/100\n",
            "1/1 [==============================] - 0s 5ms/step - loss: 10.7205 - mae: 10.7205\n",
            "Epoch 20/100\n",
            "1/1 [==============================] - 0s 4ms/step - loss: 10.6297 - mae: 10.6297\n",
            "Epoch 21/100\n",
            "1/1 [==============================] - 0s 8ms/step - loss: 10.5386 - mae: 10.5386\n",
            "Epoch 22/100\n",
            "1/1 [==============================] - 0s 7ms/step - loss: 10.4475 - mae: 10.4475\n",
            "Epoch 23/100\n",
            "1/1 [==============================] - 0s 9ms/step - loss: 10.3561 - mae: 10.3561\n",
            "Epoch 24/100\n",
            "1/1 [==============================] - 0s 6ms/step - loss: 10.2641 - mae: 10.2641\n",
            "Epoch 25/100\n",
            "1/1 [==============================] - 0s 5ms/step - loss: 10.1717 - mae: 10.1717\n",
            "Epoch 26/100\n",
            "1/1 [==============================] - 0s 6ms/step - loss: 10.0790 - mae: 10.0790\n",
            "Epoch 27/100\n",
            "1/1 [==============================] - 0s 10ms/step - loss: 9.9858 - mae: 9.9858\n",
            "Epoch 28/100\n",
            "1/1 [==============================] - 0s 6ms/step - loss: 9.9033 - mae: 9.9033\n",
            "Epoch 29/100\n",
            "1/1 [==============================] - 0s 8ms/step - loss: 9.8326 - mae: 9.8326\n",
            "Epoch 30/100\n",
            "1/1 [==============================] - 0s 6ms/step - loss: 9.7613 - mae: 9.7613\n",
            "Epoch 31/100\n",
            "1/1 [==============================] - 0s 7ms/step - loss: 9.6892 - mae: 9.6892\n",
            "Epoch 32/100\n",
            "1/1 [==============================] - 0s 8ms/step - loss: 9.6165 - mae: 9.6165\n",
            "Epoch 33/100\n",
            "1/1 [==============================] - 0s 5ms/step - loss: 9.5432 - mae: 9.5432\n",
            "Epoch 34/100\n",
            "1/1 [==============================] - 0s 9ms/step - loss: 9.4692 - mae: 9.4692\n",
            "Epoch 35/100\n",
            "1/1 [==============================] - 0s 7ms/step - loss: 9.3947 - mae: 9.3947\n",
            "Epoch 36/100\n",
            "1/1 [==============================] - 0s 7ms/step - loss: 9.3195 - mae: 9.3195\n",
            "Epoch 37/100\n",
            "1/1 [==============================] - 0s 8ms/step - loss: 9.2437 - mae: 9.2437\n",
            "Epoch 38/100\n",
            "1/1 [==============================] - 0s 6ms/step - loss: 9.1674 - mae: 9.1674\n",
            "Epoch 39/100\n",
            "1/1 [==============================] - 0s 5ms/step - loss: 9.0904 - mae: 9.0904\n",
            "Epoch 40/100\n",
            "1/1 [==============================] - 0s 10ms/step - loss: 9.0129 - mae: 9.0129\n",
            "Epoch 41/100\n",
            "1/1 [==============================] - 0s 4ms/step - loss: 8.9347 - mae: 8.9347\n",
            "Epoch 42/100\n",
            "1/1 [==============================] - 0s 5ms/step - loss: 8.8560 - mae: 8.8560\n",
            "Epoch 43/100\n",
            "1/1 [==============================] - 0s 5ms/step - loss: 8.7767 - mae: 8.7767\n",
            "Epoch 44/100\n",
            "1/1 [==============================] - 0s 9ms/step - loss: 8.6967 - mae: 8.6967\n",
            "Epoch 45/100\n",
            "1/1 [==============================] - 0s 5ms/step - loss: 8.6162 - mae: 8.6162\n",
            "Epoch 46/100\n",
            "1/1 [==============================] - 0s 8ms/step - loss: 8.5351 - mae: 8.5351\n",
            "Epoch 47/100\n",
            "1/1 [==============================] - 0s 5ms/step - loss: 8.4533 - mae: 8.4533\n",
            "Epoch 48/100\n",
            "1/1 [==============================] - 0s 6ms/step - loss: 8.3710 - mae: 8.3710\n",
            "Epoch 49/100\n",
            "1/1 [==============================] - 0s 7ms/step - loss: 8.2880 - mae: 8.2880\n",
            "Epoch 50/100\n",
            "1/1 [==============================] - 0s 6ms/step - loss: 8.2045 - mae: 8.2045\n",
            "Epoch 51/100\n",
            "1/1 [==============================] - 0s 5ms/step - loss: 8.1204 - mae: 8.1204\n",
            "Epoch 52/100\n",
            "1/1 [==============================] - 0s 8ms/step - loss: 8.0357 - mae: 8.0357\n",
            "Epoch 53/100\n",
            "1/1 [==============================] - 0s 6ms/step - loss: 7.9504 - mae: 7.9504\n",
            "Epoch 54/100\n",
            "1/1 [==============================] - 0s 5ms/step - loss: 7.8647 - mae: 7.8647\n",
            "Epoch 55/100\n",
            "1/1 [==============================] - 0s 7ms/step - loss: 7.7783 - mae: 7.7783\n",
            "Epoch 56/100\n",
            "1/1 [==============================] - 0s 7ms/step - loss: 7.6913 - mae: 7.6913\n",
            "Epoch 57/100\n",
            "1/1 [==============================] - 0s 5ms/step - loss: 7.6037 - mae: 7.6037\n",
            "Epoch 58/100\n",
            "1/1 [==============================] - 0s 6ms/step - loss: 7.5153 - mae: 7.5153\n",
            "Epoch 59/100\n",
            "1/1 [==============================] - 0s 7ms/step - loss: 7.4264 - mae: 7.4264\n",
            "Epoch 60/100\n",
            "1/1 [==============================] - 0s 5ms/step - loss: 7.3368 - mae: 7.3368\n",
            "Epoch 61/100\n",
            "1/1 [==============================] - 0s 6ms/step - loss: 7.2467 - mae: 7.2467\n",
            "Epoch 62/100\n",
            "1/1 [==============================] - 0s 14ms/step - loss: 7.1559 - mae: 7.1559\n",
            "Epoch 63/100\n",
            "1/1 [==============================] - 0s 6ms/step - loss: 7.0644 - mae: 7.0644\n",
            "Epoch 64/100\n",
            "1/1 [==============================] - 0s 6ms/step - loss: 6.9722 - mae: 6.9722\n",
            "Epoch 65/100\n",
            "1/1 [==============================] - 0s 7ms/step - loss: 6.8793 - mae: 6.8793\n",
            "Epoch 66/100\n",
            "1/1 [==============================] - 0s 8ms/step - loss: 6.7856 - mae: 6.7856\n",
            "Epoch 67/100\n",
            "1/1 [==============================] - 0s 10ms/step - loss: 6.6912 - mae: 6.6912\n",
            "Epoch 68/100\n",
            "1/1 [==============================] - 0s 9ms/step - loss: 6.5961 - mae: 6.5961\n",
            "Epoch 69/100\n",
            "1/1 [==============================] - 0s 6ms/step - loss: 6.5001 - mae: 6.5001\n",
            "Epoch 70/100\n",
            "1/1 [==============================] - 0s 5ms/step - loss: 6.4035 - mae: 6.4035\n",
            "Epoch 71/100\n",
            "1/1 [==============================] - 0s 9ms/step - loss: 6.3061 - mae: 6.3061\n",
            "Epoch 72/100\n",
            "1/1 [==============================] - 0s 4ms/step - loss: 6.2080 - mae: 6.2080\n",
            "Epoch 73/100\n",
            "1/1 [==============================] - 0s 5ms/step - loss: 6.1091 - mae: 6.1091\n",
            "Epoch 74/100\n",
            "1/1 [==============================] - 0s 6ms/step - loss: 6.0094 - mae: 6.0094\n",
            "Epoch 75/100\n",
            "1/1 [==============================] - 0s 10ms/step - loss: 5.9089 - mae: 5.9089\n",
            "Epoch 76/100\n",
            "1/1 [==============================] - 0s 6ms/step - loss: 5.8077 - mae: 5.8077\n",
            "Epoch 77/100\n",
            "1/1 [==============================] - 0s 12ms/step - loss: 5.7058 - mae: 5.7058\n",
            "Epoch 78/100\n",
            "1/1 [==============================] - 0s 11ms/step - loss: 5.6031 - mae: 5.6031\n",
            "Epoch 79/100\n",
            "1/1 [==============================] - 0s 12ms/step - loss: 5.4996 - mae: 5.4996\n",
            "Epoch 80/100\n",
            "1/1 [==============================] - 0s 7ms/step - loss: 5.3955 - mae: 5.3955\n",
            "Epoch 81/100\n",
            "1/1 [==============================] - 0s 10ms/step - loss: 5.2906 - mae: 5.2906\n",
            "Epoch 82/100\n",
            "1/1 [==============================] - 0s 14ms/step - loss: 5.1849 - mae: 5.1849\n",
            "Epoch 83/100\n",
            "1/1 [==============================] - 0s 9ms/step - loss: 5.0783 - mae: 5.0783\n",
            "Epoch 84/100\n",
            "1/1 [==============================] - 0s 10ms/step - loss: 4.9708 - mae: 4.9708\n",
            "Epoch 85/100\n",
            "1/1 [==============================] - 0s 5ms/step - loss: 4.8625 - mae: 4.8625\n",
            "Epoch 86/100\n",
            "1/1 [==============================] - 0s 6ms/step - loss: 4.7534 - mae: 4.7534\n",
            "Epoch 87/100\n",
            "1/1 [==============================] - 0s 6ms/step - loss: 4.6433 - mae: 4.6433\n",
            "Epoch 88/100\n",
            "1/1 [==============================] - 0s 4ms/step - loss: 4.5323 - mae: 4.5323\n",
            "Epoch 89/100\n",
            "1/1 [==============================] - 0s 11ms/step - loss: 4.4205 - mae: 4.4205\n",
            "Epoch 90/100\n",
            "1/1 [==============================] - 0s 5ms/step - loss: 4.3077 - mae: 4.3077\n",
            "Epoch 91/100\n",
            "1/1 [==============================] - 0s 6ms/step - loss: 4.1951 - mae: 4.1951\n",
            "Epoch 92/100\n",
            "1/1 [==============================] - 0s 8ms/step - loss: 4.0814 - mae: 4.0814\n",
            "Epoch 93/100\n",
            "1/1 [==============================] - 0s 5ms/step - loss: 3.9653 - mae: 3.9653\n",
            "Epoch 94/100\n",
            "1/1 [==============================] - 0s 5ms/step - loss: 3.9200 - mae: 3.9200\n",
            "Epoch 95/100\n",
            "1/1 [==============================] - 0s 6ms/step - loss: 3.8839 - mae: 3.8839\n",
            "Epoch 96/100\n",
            "1/1 [==============================] - 0s 8ms/step - loss: 3.8494 - mae: 3.8494\n",
            "Epoch 97/100\n",
            "1/1 [==============================] - 0s 5ms/step - loss: 3.8166 - mae: 3.8166\n",
            "Epoch 98/100\n",
            "1/1 [==============================] - 0s 6ms/step - loss: 3.7851 - mae: 3.7851\n",
            "Epoch 99/100\n",
            "1/1 [==============================] - 0s 5ms/step - loss: 3.7549 - mae: 3.7549\n",
            "Epoch 100/100\n",
            "1/1 [==============================] - 0s 8ms/step - loss: 3.7258 - mae: 3.7258\n"
          ],
          "name": "stdout"
        },
        {
          "output_type": "execute_result",
          "data": {
            "text/plain": [
              "<tensorflow.python.keras.callbacks.History at 0x7fc669a59250>"
            ]
          },
          "metadata": {
            "tags": []
          },
          "execution_count": 24
        }
      ]
    },
    {
      "cell_type": "code",
      "metadata": {
        "id": "AvgAphDsQnRA",
        "colab": {
          "base_uri": "https://localhost:8080/"
        },
        "outputId": "fa9cccc6-85cc-4729-8260-54cd14a0657f"
      },
      "source": [
        "# Let's remind ourselves of the X and y\n",
        "X, y"
      ],
      "execution_count": null,
      "outputs": [
        {
          "output_type": "execute_result",
          "data": {
            "text/plain": [
              "(<tf.Tensor: shape=(8,), dtype=float64, numpy=array([-7., -4., -1.,  2.,  5.,  8., 11., 14.])>,\n",
              " <tf.Tensor: shape=(8,), dtype=float64, numpy=array([ 3.,  6.,  9., 12., 15., 18., 21., 24.])>)"
            ]
          },
          "metadata": {
            "tags": []
          },
          "execution_count": 25
        }
      ]
    },
    {
      "cell_type": "code",
      "metadata": {
        "id": "EAjIXiN0Q1Na",
        "colab": {
          "base_uri": "https://localhost:8080/"
        },
        "outputId": "43cd8521-7a3f-4b2e-9a5c-1bccf0ab988e"
      },
      "source": [
        "# Let's make a prediction\n",
        "model.predict([17.0])"
      ],
      "execution_count": null,
      "outputs": [
        {
          "output_type": "execute_result",
          "data": {
            "text/plain": [
              "array([[31.403917]], dtype=float32)"
            ]
          },
          "metadata": {
            "tags": []
          },
          "execution_count": 26
        }
      ]
    },
    {
      "cell_type": "code",
      "metadata": {
        "id": "be7wBM7yPRD9",
        "colab": {
          "base_uri": "https://localhost:8080/"
        },
        "outputId": "0a67f2e7-f098-4884-bf9e-1af3580f68c8"
      },
      "source": [
        "# Let's see if we can make more changes to our model to make it better\n",
        "# With 1 extra hidden layer with 100 hidden units and a relu activation function\n",
        "\n",
        "tf.random.set_seed(42)\n",
        "# 1. Create the model\n",
        "model = tf.keras.Sequential([\n",
        "                             tf.keras.layers.Dense(100, activation=\"relu\"),\n",
        "                             tf.keras.layers.Dense(1)\n",
        "])\n",
        "\n",
        "# 2. Complile the model \n",
        "model.compile(loss=tf.keras.losses.mae,\n",
        "              optimizer=tf.keras.optimizers.Adam(lr=0.01),\n",
        "              metrics=[\"mae\"])\n",
        "\n",
        "# 3. Fit the model\n",
        "model.fit(X, y, epochs=100)"
      ],
      "execution_count": null,
      "outputs": [
        {
          "output_type": "stream",
          "text": [
            "Epoch 1/100\n",
            "1/1 [==============================] - 0s 353ms/step - loss: 12.3185 - mae: 12.3185\n",
            "Epoch 2/100\n",
            "1/1 [==============================] - 0s 10ms/step - loss: 11.4382 - mae: 11.4382\n",
            "Epoch 3/100\n",
            "1/1 [==============================] - 0s 11ms/step - loss: 10.5494 - mae: 10.5494\n",
            "Epoch 4/100\n",
            "1/1 [==============================] - 0s 3ms/step - loss: 9.7152 - mae: 9.7152\n",
            "Epoch 5/100\n",
            "1/1 [==============================] - 0s 6ms/step - loss: 9.0090 - mae: 9.0090\n",
            "Epoch 6/100\n",
            "1/1 [==============================] - 0s 4ms/step - loss: 8.2746 - mae: 8.2746\n",
            "Epoch 7/100\n",
            "1/1 [==============================] - 0s 5ms/step - loss: 7.5151 - mae: 7.5151\n",
            "Epoch 8/100\n",
            "1/1 [==============================] - 0s 6ms/step - loss: 6.7230 - mae: 6.7230\n",
            "Epoch 9/100\n",
            "1/1 [==============================] - 0s 4ms/step - loss: 5.8980 - mae: 5.8980\n",
            "Epoch 10/100\n",
            "1/1 [==============================] - 0s 5ms/step - loss: 5.0336 - mae: 5.0336\n",
            "Epoch 11/100\n",
            "1/1 [==============================] - 0s 4ms/step - loss: 4.1246 - mae: 4.1246\n",
            "Epoch 12/100\n",
            "1/1 [==============================] - 0s 4ms/step - loss: 3.7511 - mae: 3.7511\n",
            "Epoch 13/100\n",
            "1/1 [==============================] - 0s 4ms/step - loss: 3.9158 - mae: 3.9158\n",
            "Epoch 14/100\n",
            "1/1 [==============================] - 0s 6ms/step - loss: 4.1521 - mae: 4.1521\n",
            "Epoch 15/100\n",
            "1/1 [==============================] - 0s 4ms/step - loss: 4.5077 - mae: 4.5077\n",
            "Epoch 16/100\n",
            "1/1 [==============================] - 0s 4ms/step - loss: 4.7397 - mae: 4.7397\n",
            "Epoch 17/100\n",
            "1/1 [==============================] - 0s 6ms/step - loss: 4.8614 - mae: 4.8614\n",
            "Epoch 18/100\n",
            "1/1 [==============================] - 0s 4ms/step - loss: 4.8871 - mae: 4.8871\n",
            "Epoch 19/100\n",
            "1/1 [==============================] - 0s 7ms/step - loss: 4.8299 - mae: 4.8299\n",
            "Epoch 20/100\n",
            "1/1 [==============================] - 0s 6ms/step - loss: 4.7016 - mae: 4.7016\n",
            "Epoch 21/100\n",
            "1/1 [==============================] - 0s 5ms/step - loss: 4.5153 - mae: 4.5153\n",
            "Epoch 22/100\n",
            "1/1 [==============================] - 0s 7ms/step - loss: 4.2833 - mae: 4.2833\n",
            "Epoch 23/100\n",
            "1/1 [==============================] - 0s 4ms/step - loss: 4.0132 - mae: 4.0132\n",
            "Epoch 24/100\n",
            "1/1 [==============================] - 0s 5ms/step - loss: 3.7305 - mae: 3.7305\n",
            "Epoch 25/100\n",
            "1/1 [==============================] - 0s 5ms/step - loss: 3.6061 - mae: 3.6061\n",
            "Epoch 26/100\n",
            "1/1 [==============================] - 0s 5ms/step - loss: 3.4817 - mae: 3.4817\n",
            "Epoch 27/100\n",
            "1/1 [==============================] - 0s 7ms/step - loss: 3.3552 - mae: 3.3552\n",
            "Epoch 28/100\n",
            "1/1 [==============================] - 0s 7ms/step - loss: 3.3430 - mae: 3.3430\n",
            "Epoch 29/100\n",
            "1/1 [==============================] - 0s 5ms/step - loss: 3.3752 - mae: 3.3752\n",
            "Epoch 30/100\n",
            "1/1 [==============================] - 0s 6ms/step - loss: 3.3967 - mae: 3.3967\n",
            "Epoch 31/100\n",
            "1/1 [==============================] - 0s 5ms/step - loss: 3.3853 - mae: 3.3853\n",
            "Epoch 32/100\n",
            "1/1 [==============================] - 0s 5ms/step - loss: 3.3337 - mae: 3.3337\n",
            "Epoch 33/100\n",
            "1/1 [==============================] - 0s 10ms/step - loss: 3.2754 - mae: 3.2754\n",
            "Epoch 34/100\n",
            "1/1 [==============================] - 0s 6ms/step - loss: 3.1896 - mae: 3.1896\n",
            "Epoch 35/100\n",
            "1/1 [==============================] - 0s 6ms/step - loss: 3.0763 - mae: 3.0763\n",
            "Epoch 36/100\n",
            "1/1 [==============================] - 0s 5ms/step - loss: 2.9381 - mae: 2.9381\n",
            "Epoch 37/100\n",
            "1/1 [==============================] - 0s 6ms/step - loss: 2.8169 - mae: 2.8169\n",
            "Epoch 38/100\n",
            "1/1 [==============================] - 0s 6ms/step - loss: 2.7896 - mae: 2.7896\n",
            "Epoch 39/100\n",
            "1/1 [==============================] - 0s 6ms/step - loss: 2.7367 - mae: 2.7367\n",
            "Epoch 40/100\n",
            "1/1 [==============================] - 0s 7ms/step - loss: 2.7003 - mae: 2.7003\n",
            "Epoch 41/100\n",
            "1/1 [==============================] - 0s 5ms/step - loss: 2.5916 - mae: 2.5916\n",
            "Epoch 42/100\n",
            "1/1 [==============================] - 0s 7ms/step - loss: 2.4901 - mae: 2.4901\n",
            "Epoch 43/100\n",
            "1/1 [==============================] - 0s 5ms/step - loss: 2.3889 - mae: 2.3889\n",
            "Epoch 44/100\n",
            "1/1 [==============================] - 0s 7ms/step - loss: 2.2773 - mae: 2.2773\n",
            "Epoch 45/100\n",
            "1/1 [==============================] - 0s 5ms/step - loss: 2.1486 - mae: 2.1486\n",
            "Epoch 46/100\n",
            "1/1 [==============================] - 0s 7ms/step - loss: 2.0120 - mae: 2.0120\n",
            "Epoch 47/100\n",
            "1/1 [==============================] - 0s 5ms/step - loss: 1.8716 - mae: 1.8716\n",
            "Epoch 48/100\n",
            "1/1 [==============================] - 0s 6ms/step - loss: 1.8010 - mae: 1.8010\n",
            "Epoch 49/100\n",
            "1/1 [==============================] - 0s 6ms/step - loss: 1.6817 - mae: 1.6817\n",
            "Epoch 50/100\n",
            "1/1 [==============================] - 0s 5ms/step - loss: 1.4949 - mae: 1.4949\n",
            "Epoch 51/100\n",
            "1/1 [==============================] - 0s 6ms/step - loss: 1.3659 - mae: 1.3659\n",
            "Epoch 52/100\n",
            "1/1 [==============================] - 0s 5ms/step - loss: 1.2458 - mae: 1.2458\n",
            "Epoch 53/100\n",
            "1/1 [==============================] - 0s 7ms/step - loss: 1.1011 - mae: 1.1011\n",
            "Epoch 54/100\n",
            "1/1 [==============================] - 0s 5ms/step - loss: 0.9050 - mae: 0.9050\n",
            "Epoch 55/100\n",
            "1/1 [==============================] - 0s 7ms/step - loss: 0.7032 - mae: 0.7032\n",
            "Epoch 56/100\n",
            "1/1 [==============================] - 0s 6ms/step - loss: 0.4866 - mae: 0.4866\n",
            "Epoch 57/100\n",
            "1/1 [==============================] - 0s 5ms/step - loss: 0.3925 - mae: 0.3925\n",
            "Epoch 58/100\n",
            "1/1 [==============================] - 0s 7ms/step - loss: 0.2727 - mae: 0.2727\n",
            "Epoch 59/100\n",
            "1/1 [==============================] - 0s 6ms/step - loss: 0.2035 - mae: 0.2035\n",
            "Epoch 60/100\n",
            "1/1 [==============================] - 0s 6ms/step - loss: 0.4177 - mae: 0.4177\n",
            "Epoch 61/100\n",
            "1/1 [==============================] - 0s 6ms/step - loss: 0.3904 - mae: 0.3904\n",
            "Epoch 62/100\n",
            "1/1 [==============================] - 0s 5ms/step - loss: 0.4483 - mae: 0.4483\n",
            "Epoch 63/100\n",
            "1/1 [==============================] - 0s 6ms/step - loss: 0.4128 - mae: 0.4128\n",
            "Epoch 64/100\n",
            "1/1 [==============================] - 0s 6ms/step - loss: 0.5029 - mae: 0.5029\n",
            "Epoch 65/100\n",
            "1/1 [==============================] - 0s 13ms/step - loss: 0.4210 - mae: 0.4210\n",
            "Epoch 66/100\n",
            "1/1 [==============================] - 0s 6ms/step - loss: 0.4623 - mae: 0.4623\n",
            "Epoch 67/100\n",
            "1/1 [==============================] - 0s 5ms/step - loss: 0.3584 - mae: 0.3584\n",
            "Epoch 68/100\n",
            "1/1 [==============================] - 0s 8ms/step - loss: 0.3169 - mae: 0.3169\n",
            "Epoch 69/100\n",
            "1/1 [==============================] - 0s 4ms/step - loss: 0.2630 - mae: 0.2630\n",
            "Epoch 70/100\n",
            "1/1 [==============================] - 0s 5ms/step - loss: 0.2135 - mae: 0.2135\n",
            "Epoch 71/100\n",
            "1/1 [==============================] - 0s 6ms/step - loss: 0.1765 - mae: 0.1765\n",
            "Epoch 72/100\n",
            "1/1 [==============================] - 0s 4ms/step - loss: 0.3350 - mae: 0.3350\n",
            "Epoch 73/100\n",
            "1/1 [==============================] - 0s 7ms/step - loss: 0.3267 - mae: 0.3267\n",
            "Epoch 74/100\n",
            "1/1 [==============================] - 0s 4ms/step - loss: 0.1933 - mae: 0.1933\n",
            "Epoch 75/100\n",
            "1/1 [==============================] - 0s 7ms/step - loss: 0.2845 - mae: 0.2845\n",
            "Epoch 76/100\n",
            "1/1 [==============================] - 0s 4ms/step - loss: 0.1706 - mae: 0.1706\n",
            "Epoch 77/100\n",
            "1/1 [==============================] - 0s 6ms/step - loss: 0.1886 - mae: 0.1886\n",
            "Epoch 78/100\n",
            "1/1 [==============================] - 0s 5ms/step - loss: 0.2379 - mae: 0.2379\n",
            "Epoch 79/100\n",
            "1/1 [==============================] - 0s 6ms/step - loss: 0.2396 - mae: 0.2396\n",
            "Epoch 80/100\n",
            "1/1 [==============================] - 0s 5ms/step - loss: 0.2633 - mae: 0.2633\n",
            "Epoch 81/100\n",
            "1/1 [==============================] - 0s 6ms/step - loss: 0.1766 - mae: 0.1766\n",
            "Epoch 82/100\n",
            "1/1 [==============================] - 0s 5ms/step - loss: 0.2349 - mae: 0.2349\n",
            "Epoch 83/100\n",
            "1/1 [==============================] - 0s 7ms/step - loss: 0.1657 - mae: 0.1657\n",
            "Epoch 84/100\n",
            "1/1 [==============================] - 0s 7ms/step - loss: 0.2313 - mae: 0.2313\n",
            "Epoch 85/100\n",
            "1/1 [==============================] - 0s 6ms/step - loss: 0.1406 - mae: 0.1406\n",
            "Epoch 86/100\n",
            "1/1 [==============================] - 0s 6ms/step - loss: 0.2704 - mae: 0.2704\n",
            "Epoch 87/100\n",
            "1/1 [==============================] - 0s 7ms/step - loss: 0.2625 - mae: 0.2625\n",
            "Epoch 88/100\n",
            "1/1 [==============================] - 0s 10ms/step - loss: 0.1244 - mae: 0.1244\n",
            "Epoch 89/100\n",
            "1/1 [==============================] - 0s 6ms/step - loss: 0.2429 - mae: 0.2429\n",
            "Epoch 90/100\n",
            "1/1 [==============================] - 0s 7ms/step - loss: 0.1039 - mae: 0.1039\n",
            "Epoch 91/100\n",
            "1/1 [==============================] - 0s 6ms/step - loss: 0.3054 - mae: 0.3054\n",
            "Epoch 92/100\n",
            "1/1 [==============================] - 0s 5ms/step - loss: 0.2531 - mae: 0.2531\n",
            "Epoch 93/100\n",
            "1/1 [==============================] - 0s 6ms/step - loss: 0.1150 - mae: 0.1150\n",
            "Epoch 94/100\n",
            "1/1 [==============================] - 0s 5ms/step - loss: 0.0968 - mae: 0.0968\n",
            "Epoch 95/100\n",
            "1/1 [==============================] - 0s 5ms/step - loss: 0.1926 - mae: 0.1926\n",
            "Epoch 96/100\n",
            "1/1 [==============================] - 0s 4ms/step - loss: 0.0905 - mae: 0.0905\n",
            "Epoch 97/100\n",
            "1/1 [==============================] - 0s 9ms/step - loss: 0.3329 - mae: 0.3329\n",
            "Epoch 98/100\n",
            "1/1 [==============================] - 0s 8ms/step - loss: 0.3907 - mae: 0.3907\n",
            "Epoch 99/100\n",
            "1/1 [==============================] - 0s 9ms/step - loss: 0.2052 - mae: 0.2052\n",
            "Epoch 100/100\n",
            "1/1 [==============================] - 0s 7ms/step - loss: 0.3052 - mae: 0.3052\n"
          ],
          "name": "stdout"
        },
        {
          "output_type": "execute_result",
          "data": {
            "text/plain": [
              "<tensorflow.python.keras.callbacks.History at 0x7fc669945190>"
            ]
          },
          "metadata": {
            "tags": []
          },
          "execution_count": 27
        }
      ]
    },
    {
      "cell_type": "code",
      "metadata": {
        "id": "x6uh90SWP1PO",
        "colab": {
          "base_uri": "https://localhost:8080/"
        },
        "outputId": "3d198e6d-43ce-4029-bb6d-2d81acec23ce"
      },
      "source": [
        "model.predict([17.0])"
      ],
      "execution_count": null,
      "outputs": [
        {
          "output_type": "stream",
          "text": [
            "WARNING:tensorflow:5 out of the last 5 calls to <function Model.make_predict_function.<locals>.predict_function at 0x7fc66a18af80> triggered tf.function retracing. Tracing is expensive and the excessive number of tracings could be due to (1) creating @tf.function repeatedly in a loop, (2) passing tensors with different shapes, (3) passing Python objects instead of tensors. For (1), please define your @tf.function outside of the loop. For (2), @tf.function has experimental_relax_shapes=True option that relaxes argument shapes that can avoid unnecessary retracing. For (3), please refer to https://www.tensorflow.org/guide/function#controlling_retracing and https://www.tensorflow.org/api_docs/python/tf/function for  more details.\n"
          ],
          "name": "stdout"
        },
        {
          "output_type": "execute_result",
          "data": {
            "text/plain": [
              "array([[26.206877]], dtype=float32)"
            ]
          },
          "metadata": {
            "tags": []
          },
          "execution_count": 28
        }
      ]
    },
    {
      "cell_type": "markdown",
      "metadata": {
        "id": "LB59e0robFXk"
      },
      "source": [
        "**Note:** The learning rate is perhaps the most important hyper parameter"
      ]
    },
    {
      "cell_type": "code",
      "metadata": {
        "id": "b0IUC_SKR8GI",
        "colab": {
          "base_uri": "https://localhost:8080/"
        },
        "outputId": "7e8e8334-4b2b-42ee-9671-12b7ed3c93f4"
      },
      "source": [
        "# Let's see if we can make more changes to our model to make it better\n",
        "# With 2 extra hidden layer with 100 hidden units and a relu activation function\n",
        "\n",
        "tf.random.set_seed(42)\n",
        "# 1. Create the model\n",
        "model = tf.keras.Sequential([\n",
        "                             tf.keras.layers.Dense(100, activation=\"relu\"),\n",
        "                             tf.keras.layers.Dense(100, activation=\"relu\"),\n",
        "                             tf.keras.layers.Dense(1)\n",
        "])\n",
        "\n",
        "# 2. Complile the model \n",
        "model.compile(loss=tf.keras.losses.mae,\n",
        "              optimizer=tf.keras.optimizers.Adam(lr=0.01),\n",
        "              metrics=[\"mae\"])\n",
        "\n",
        "# 3. Fit the model\n",
        "model.fit(X, y, epochs=100)"
      ],
      "execution_count": null,
      "outputs": [
        {
          "output_type": "stream",
          "text": [
            "Epoch 1/100\n",
            "1/1 [==============================] - 0s 392ms/step - loss: 13.3925 - mae: 13.3925\n",
            "Epoch 2/100\n",
            "1/1 [==============================] - 0s 4ms/step - loss: 10.5473 - mae: 10.5473\n",
            "Epoch 3/100\n",
            "1/1 [==============================] - 0s 6ms/step - loss: 8.6333 - mae: 8.6333\n",
            "Epoch 4/100\n",
            "1/1 [==============================] - 0s 12ms/step - loss: 6.5549 - mae: 6.5549\n",
            "Epoch 5/100\n",
            "1/1 [==============================] - 0s 5ms/step - loss: 4.1624 - mae: 4.1624\n",
            "Epoch 6/100\n",
            "1/1 [==============================] - 0s 5ms/step - loss: 4.3911 - mae: 4.3911\n",
            "Epoch 7/100\n",
            "1/1 [==============================] - 0s 7ms/step - loss: 5.1939 - mae: 5.1939\n",
            "Epoch 8/100\n",
            "1/1 [==============================] - 0s 10ms/step - loss: 5.3084 - mae: 5.3084\n",
            "Epoch 9/100\n",
            "1/1 [==============================] - 0s 4ms/step - loss: 4.9715 - mae: 4.9715\n",
            "Epoch 10/100\n",
            "1/1 [==============================] - 0s 6ms/step - loss: 4.3370 - mae: 4.3370\n",
            "Epoch 11/100\n",
            "1/1 [==============================] - 0s 4ms/step - loss: 3.9085 - mae: 3.9085\n",
            "Epoch 12/100\n",
            "1/1 [==============================] - 0s 9ms/step - loss: 3.6810 - mae: 3.6810\n",
            "Epoch 13/100\n",
            "1/1 [==============================] - 0s 4ms/step - loss: 3.9440 - mae: 3.9440\n",
            "Epoch 14/100\n",
            "1/1 [==============================] - 0s 6ms/step - loss: 4.0090 - mae: 4.0090\n",
            "Epoch 15/100\n",
            "1/1 [==============================] - 0s 8ms/step - loss: 3.7129 - mae: 3.7129\n",
            "Epoch 16/100\n",
            "1/1 [==============================] - 0s 7ms/step - loss: 3.4889 - mae: 3.4889\n",
            "Epoch 17/100\n",
            "1/1 [==============================] - 0s 11ms/step - loss: 3.5315 - mae: 3.5315\n",
            "Epoch 18/100\n",
            "1/1 [==============================] - 0s 4ms/step - loss: 3.5791 - mae: 3.5791\n",
            "Epoch 19/100\n",
            "1/1 [==============================] - 0s 8ms/step - loss: 3.6319 - mae: 3.6319\n",
            "Epoch 20/100\n",
            "1/1 [==============================] - 0s 7ms/step - loss: 3.4998 - mae: 3.4998\n",
            "Epoch 21/100\n",
            "1/1 [==============================] - 0s 7ms/step - loss: 3.2525 - mae: 3.2525\n",
            "Epoch 22/100\n",
            "1/1 [==============================] - 0s 7ms/step - loss: 3.0367 - mae: 3.0367\n",
            "Epoch 23/100\n",
            "1/1 [==============================] - 0s 8ms/step - loss: 2.8001 - mae: 2.8001\n",
            "Epoch 24/100\n",
            "1/1 [==============================] - 0s 6ms/step - loss: 2.7762 - mae: 2.7762\n",
            "Epoch 25/100\n",
            "1/1 [==============================] - 0s 5ms/step - loss: 2.6347 - mae: 2.6347\n",
            "Epoch 26/100\n",
            "1/1 [==============================] - 0s 6ms/step - loss: 2.3359 - mae: 2.3359\n",
            "Epoch 27/100\n",
            "1/1 [==============================] - 0s 9ms/step - loss: 2.1096 - mae: 2.1096\n",
            "Epoch 28/100\n",
            "1/1 [==============================] - 0s 5ms/step - loss: 2.0459 - mae: 2.0459\n",
            "Epoch 29/100\n",
            "1/1 [==============================] - 0s 8ms/step - loss: 1.7133 - mae: 1.7133\n",
            "Epoch 30/100\n",
            "1/1 [==============================] - 0s 5ms/step - loss: 1.2715 - mae: 1.2715\n",
            "Epoch 31/100\n",
            "1/1 [==============================] - 0s 6ms/step - loss: 1.4804 - mae: 1.4804\n",
            "Epoch 32/100\n",
            "1/1 [==============================] - 0s 7ms/step - loss: 0.8658 - mae: 0.8658\n",
            "Epoch 33/100\n",
            "1/1 [==============================] - 0s 6ms/step - loss: 0.8545 - mae: 0.8545\n",
            "Epoch 34/100\n",
            "1/1 [==============================] - 0s 7ms/step - loss: 1.1276 - mae: 1.1276\n",
            "Epoch 35/100\n",
            "1/1 [==============================] - 0s 6ms/step - loss: 0.6330 - mae: 0.6330\n",
            "Epoch 36/100\n",
            "1/1 [==============================] - 0s 7ms/step - loss: 1.3774 - mae: 1.3774\n",
            "Epoch 37/100\n",
            "1/1 [==============================] - 0s 9ms/step - loss: 1.6234 - mae: 1.6234\n",
            "Epoch 38/100\n",
            "1/1 [==============================] - 0s 6ms/step - loss: 1.6213 - mae: 1.6213\n",
            "Epoch 39/100\n",
            "1/1 [==============================] - 0s 6ms/step - loss: 0.9908 - mae: 0.9908\n",
            "Epoch 40/100\n",
            "1/1 [==============================] - 0s 9ms/step - loss: 0.7822 - mae: 0.7822\n",
            "Epoch 41/100\n",
            "1/1 [==============================] - 0s 6ms/step - loss: 1.1940 - mae: 1.1940\n",
            "Epoch 42/100\n",
            "1/1 [==============================] - 0s 10ms/step - loss: 0.7952 - mae: 0.7952\n",
            "Epoch 43/100\n",
            "1/1 [==============================] - 0s 5ms/step - loss: 0.5293 - mae: 0.5293\n",
            "Epoch 44/100\n",
            "1/1 [==============================] - 0s 5ms/step - loss: 0.9580 - mae: 0.9580\n",
            "Epoch 45/100\n",
            "1/1 [==============================] - 0s 7ms/step - loss: 0.7484 - mae: 0.7484\n",
            "Epoch 46/100\n",
            "1/1 [==============================] - 0s 10ms/step - loss: 0.6876 - mae: 0.6876\n",
            "Epoch 47/100\n",
            "1/1 [==============================] - 0s 6ms/step - loss: 0.8283 - mae: 0.8283\n",
            "Epoch 48/100\n",
            "1/1 [==============================] - 0s 6ms/step - loss: 0.4657 - mae: 0.4657\n",
            "Epoch 49/100\n",
            "1/1 [==============================] - 0s 8ms/step - loss: 0.4999 - mae: 0.4999\n",
            "Epoch 50/100\n",
            "1/1 [==============================] - 0s 8ms/step - loss: 0.7487 - mae: 0.7487\n",
            "Epoch 51/100\n",
            "1/1 [==============================] - 0s 5ms/step - loss: 0.4757 - mae: 0.4757\n",
            "Epoch 52/100\n",
            "1/1 [==============================] - 0s 7ms/step - loss: 0.4008 - mae: 0.4008\n",
            "Epoch 53/100\n",
            "1/1 [==============================] - 0s 5ms/step - loss: 0.6783 - mae: 0.6783\n",
            "Epoch 54/100\n",
            "1/1 [==============================] - 0s 7ms/step - loss: 0.3301 - mae: 0.3301\n",
            "Epoch 55/100\n",
            "1/1 [==============================] - 0s 6ms/step - loss: 0.5816 - mae: 0.5816\n",
            "Epoch 56/100\n",
            "1/1 [==============================] - 0s 6ms/step - loss: 0.8421 - mae: 0.8421\n",
            "Epoch 57/100\n",
            "1/1 [==============================] - 0s 6ms/step - loss: 0.5778 - mae: 0.5778\n",
            "Epoch 58/100\n",
            "1/1 [==============================] - 0s 8ms/step - loss: 0.3563 - mae: 0.3563\n",
            "Epoch 59/100\n",
            "1/1 [==============================] - 0s 13ms/step - loss: 0.5269 - mae: 0.5269\n",
            "Epoch 60/100\n",
            "1/1 [==============================] - 0s 12ms/step - loss: 0.4272 - mae: 0.4272\n",
            "Epoch 61/100\n",
            "1/1 [==============================] - 0s 8ms/step - loss: 0.5878 - mae: 0.5878\n",
            "Epoch 62/100\n",
            "1/1 [==============================] - 0s 6ms/step - loss: 0.3096 - mae: 0.3096\n",
            "Epoch 63/100\n",
            "1/1 [==============================] - 0s 10ms/step - loss: 0.5387 - mae: 0.5387\n",
            "Epoch 64/100\n",
            "1/1 [==============================] - 0s 6ms/step - loss: 0.6816 - mae: 0.6816\n",
            "Epoch 65/100\n",
            "1/1 [==============================] - 0s 13ms/step - loss: 0.3633 - mae: 0.3633\n",
            "Epoch 66/100\n",
            "1/1 [==============================] - 0s 7ms/step - loss: 0.4334 - mae: 0.4334\n",
            "Epoch 67/100\n",
            "1/1 [==============================] - 0s 9ms/step - loss: 0.3199 - mae: 0.3199\n",
            "Epoch 68/100\n",
            "1/1 [==============================] - 0s 9ms/step - loss: 0.5914 - mae: 0.5914\n",
            "Epoch 69/100\n",
            "1/1 [==============================] - 0s 5ms/step - loss: 0.6533 - mae: 0.6533\n",
            "Epoch 70/100\n",
            "1/1 [==============================] - 0s 6ms/step - loss: 0.1828 - mae: 0.1828\n",
            "Epoch 71/100\n",
            "1/1 [==============================] - 0s 7ms/step - loss: 0.6336 - mae: 0.6336\n",
            "Epoch 72/100\n",
            "1/1 [==============================] - 0s 7ms/step - loss: 0.8594 - mae: 0.8594\n",
            "Epoch 73/100\n",
            "1/1 [==============================] - 0s 18ms/step - loss: 0.5859 - mae: 0.5859\n",
            "Epoch 74/100\n",
            "1/1 [==============================] - 0s 6ms/step - loss: 0.3015 - mae: 0.3015\n",
            "Epoch 75/100\n",
            "1/1 [==============================] - 0s 8ms/step - loss: 0.4457 - mae: 0.4457\n",
            "Epoch 76/100\n",
            "1/1 [==============================] - 0s 7ms/step - loss: 0.3120 - mae: 0.3120\n",
            "Epoch 77/100\n",
            "1/1 [==============================] - 0s 6ms/step - loss: 0.4690 - mae: 0.4690\n",
            "Epoch 78/100\n",
            "1/1 [==============================] - 0s 10ms/step - loss: 0.1914 - mae: 0.1914\n",
            "Epoch 79/100\n",
            "1/1 [==============================] - 0s 11ms/step - loss: 0.5596 - mae: 0.5596\n",
            "Epoch 80/100\n",
            "1/1 [==============================] - 0s 10ms/step - loss: 0.6564 - mae: 0.6564\n",
            "Epoch 81/100\n",
            "1/1 [==============================] - 0s 7ms/step - loss: 0.1960 - mae: 0.1960\n",
            "Epoch 82/100\n",
            "1/1 [==============================] - 0s 9ms/step - loss: 0.7367 - mae: 0.7367\n",
            "Epoch 83/100\n",
            "1/1 [==============================] - 0s 14ms/step - loss: 1.0165 - mae: 1.0165\n",
            "Epoch 84/100\n",
            "1/1 [==============================] - 0s 10ms/step - loss: 0.8211 - mae: 0.8211\n",
            "Epoch 85/100\n",
            "1/1 [==============================] - 0s 11ms/step - loss: 0.2942 - mae: 0.2942\n",
            "Epoch 86/100\n",
            "1/1 [==============================] - 0s 4ms/step - loss: 0.7236 - mae: 0.7236\n",
            "Epoch 87/100\n",
            "1/1 [==============================] - 0s 9ms/step - loss: 1.0451 - mae: 1.0451\n",
            "Epoch 88/100\n",
            "1/1 [==============================] - 0s 10ms/step - loss: 0.8408 - mae: 0.8408\n",
            "Epoch 89/100\n",
            "1/1 [==============================] - 0s 8ms/step - loss: 0.1768 - mae: 0.1768\n",
            "Epoch 90/100\n",
            "1/1 [==============================] - 0s 13ms/step - loss: 0.6313 - mae: 0.6313\n",
            "Epoch 91/100\n",
            "1/1 [==============================] - 0s 13ms/step - loss: 0.8606 - mae: 0.8606\n",
            "Epoch 92/100\n",
            "1/1 [==============================] - 0s 29ms/step - loss: 0.6278 - mae: 0.6278\n",
            "Epoch 93/100\n",
            "1/1 [==============================] - 0s 9ms/step - loss: 0.1965 - mae: 0.1965\n",
            "Epoch 94/100\n",
            "1/1 [==============================] - 0s 7ms/step - loss: 0.5692 - mae: 0.5692\n",
            "Epoch 95/100\n",
            "1/1 [==============================] - 0s 10ms/step - loss: 0.5449 - mae: 0.5449\n",
            "Epoch 96/100\n",
            "1/1 [==============================] - 0s 5ms/step - loss: 0.2385 - mae: 0.2385\n",
            "Epoch 97/100\n",
            "1/1 [==============================] - 0s 5ms/step - loss: 0.3127 - mae: 0.3127\n",
            "Epoch 98/100\n",
            "1/1 [==============================] - 0s 8ms/step - loss: 0.1572 - mae: 0.1572\n",
            "Epoch 99/100\n",
            "1/1 [==============================] - 0s 5ms/step - loss: 0.2958 - mae: 0.2958\n",
            "Epoch 100/100\n",
            "1/1 [==============================] - 0s 8ms/step - loss: 0.0654 - mae: 0.0654\n"
          ],
          "name": "stdout"
        },
        {
          "output_type": "execute_result",
          "data": {
            "text/plain": [
              "<tensorflow.python.keras.callbacks.History at 0x7fc66a186b50>"
            ]
          },
          "metadata": {
            "tags": []
          },
          "execution_count": 29
        }
      ]
    },
    {
      "cell_type": "code",
      "metadata": {
        "colab": {
          "base_uri": "https://localhost:8080/"
        },
        "id": "21vbZNaQa7D3",
        "outputId": "2e304171-d9a1-4761-f8cf-8ec443497f65"
      },
      "source": [
        "model.predict([17.0])"
      ],
      "execution_count": null,
      "outputs": [
        {
          "output_type": "stream",
          "text": [
            "WARNING:tensorflow:6 out of the last 6 calls to <function Model.make_predict_function.<locals>.predict_function at 0x7fc66a055e60> triggered tf.function retracing. Tracing is expensive and the excessive number of tracings could be due to (1) creating @tf.function repeatedly in a loop, (2) passing tensors with different shapes, (3) passing Python objects instead of tensors. For (1), please define your @tf.function outside of the loop. For (2), @tf.function has experimental_relax_shapes=True option that relaxes argument shapes that can avoid unnecessary retracing. For (3), please refer to https://www.tensorflow.org/guide/function#controlling_retracing and https://www.tensorflow.org/api_docs/python/tf/function for  more details.\n"
          ],
          "name": "stdout"
        },
        {
          "output_type": "execute_result",
          "data": {
            "text/plain": [
              "array([[26.77314]], dtype=float32)"
            ]
          },
          "metadata": {
            "tags": []
          },
          "execution_count": 30
        }
      ]
    },
    {
      "cell_type": "code",
      "metadata": {
        "colab": {
          "base_uri": "https://localhost:8080/"
        },
        "id": "PDaSw0zsbcWj",
        "outputId": "aa467c93-5b43-4710-f66e-57e2e22b53ca"
      },
      "source": [
        "# Let's see if we can make more changes to our model to make it better\n",
        "# With 3 extra hidden layer with 100 hidden units and a relu activation function\n",
        "\n",
        "tf.random.set_seed(42)\n",
        "# 1. Create the model\n",
        "model = tf.keras.Sequential([\n",
        "                             tf.keras.layers.Dense(100, activation=\"relu\"),\n",
        "                             tf.keras.layers.Dense(100, activation=\"relu\"),\n",
        "                             tf.keras.layers.Dense(100, activation=\"relu\"),\n",
        "                             tf.keras.layers.Dense(1)\n",
        "])\n",
        "\n",
        "# 2. Complile the model \n",
        "model.compile(loss=tf.keras.losses.mae,\n",
        "              optimizer=tf.keras.optimizers.Adam(lr=0.01),\n",
        "              metrics=[\"mae\"])\n",
        "\n",
        "# 3. Fit the model\n",
        "model.fit(X, y, epochs=100)"
      ],
      "execution_count": null,
      "outputs": [
        {
          "output_type": "stream",
          "text": [
            "Epoch 1/100\n",
            "1/1 [==============================] - 0s 433ms/step - loss: 13.3030 - mae: 13.3030\n",
            "Epoch 2/100\n",
            "1/1 [==============================] - 0s 9ms/step - loss: 10.4022 - mae: 10.4022\n",
            "Epoch 3/100\n",
            "1/1 [==============================] - 0s 5ms/step - loss: 7.5498 - mae: 7.5498\n",
            "Epoch 4/100\n",
            "1/1 [==============================] - 0s 7ms/step - loss: 3.9338 - mae: 3.9338\n",
            "Epoch 5/100\n",
            "1/1 [==============================] - 0s 4ms/step - loss: 6.9994 - mae: 6.9994\n",
            "Epoch 6/100\n",
            "1/1 [==============================] - 0s 6ms/step - loss: 6.8826 - mae: 6.8826\n",
            "Epoch 7/100\n",
            "1/1 [==============================] - 0s 5ms/step - loss: 5.1422 - mae: 5.1422\n",
            "Epoch 8/100\n",
            "1/1 [==============================] - 0s 7ms/step - loss: 3.8511 - mae: 3.8511\n",
            "Epoch 9/100\n",
            "1/1 [==============================] - 0s 4ms/step - loss: 4.7632 - mae: 4.7632\n",
            "Epoch 10/100\n",
            "1/1 [==============================] - 0s 6ms/step - loss: 5.3792 - mae: 5.3792\n",
            "Epoch 11/100\n",
            "1/1 [==============================] - 0s 5ms/step - loss: 5.0978 - mae: 5.0978\n",
            "Epoch 12/100\n",
            "1/1 [==============================] - 0s 5ms/step - loss: 4.0273 - mae: 4.0273\n",
            "Epoch 13/100\n",
            "1/1 [==============================] - 0s 7ms/step - loss: 3.5587 - mae: 3.5587\n",
            "Epoch 14/100\n",
            "1/1 [==============================] - 0s 6ms/step - loss: 4.1354 - mae: 4.1354\n",
            "Epoch 15/100\n",
            "1/1 [==============================] - 0s 11ms/step - loss: 4.4028 - mae: 4.4028\n",
            "Epoch 16/100\n",
            "1/1 [==============================] - 0s 6ms/step - loss: 4.1392 - mae: 4.1392\n",
            "Epoch 17/100\n",
            "1/1 [==============================] - 0s 5ms/step - loss: 3.4963 - mae: 3.4963\n",
            "Epoch 18/100\n",
            "1/1 [==============================] - 0s 7ms/step - loss: 3.0422 - mae: 3.0422\n",
            "Epoch 19/100\n",
            "1/1 [==============================] - 0s 5ms/step - loss: 3.2608 - mae: 3.2608\n",
            "Epoch 20/100\n",
            "1/1 [==============================] - 0s 4ms/step - loss: 3.3726 - mae: 3.3726\n",
            "Epoch 21/100\n",
            "1/1 [==============================] - 0s 6ms/step - loss: 2.8558 - mae: 2.8558\n",
            "Epoch 22/100\n",
            "1/1 [==============================] - 0s 7ms/step - loss: 2.3857 - mae: 2.3857\n",
            "Epoch 23/100\n",
            "1/1 [==============================] - 0s 6ms/step - loss: 2.3085 - mae: 2.3085\n",
            "Epoch 24/100\n",
            "1/1 [==============================] - 0s 6ms/step - loss: 2.4671 - mae: 2.4671\n",
            "Epoch 25/100\n",
            "1/1 [==============================] - 0s 5ms/step - loss: 1.9410 - mae: 1.9410\n",
            "Epoch 26/100\n",
            "1/1 [==============================] - 0s 7ms/step - loss: 1.4568 - mae: 1.4568\n",
            "Epoch 27/100\n",
            "1/1 [==============================] - 0s 8ms/step - loss: 1.3913 - mae: 1.3913\n",
            "Epoch 28/100\n",
            "1/1 [==============================] - 0s 8ms/step - loss: 1.2715 - mae: 1.2715\n",
            "Epoch 29/100\n",
            "1/1 [==============================] - 0s 8ms/step - loss: 1.0161 - mae: 1.0161\n",
            "Epoch 30/100\n",
            "1/1 [==============================] - 0s 8ms/step - loss: 1.4861 - mae: 1.4861\n",
            "Epoch 31/100\n",
            "1/1 [==============================] - 0s 7ms/step - loss: 1.5006 - mae: 1.5006\n",
            "Epoch 32/100\n",
            "1/1 [==============================] - 0s 6ms/step - loss: 0.8071 - mae: 0.8071\n",
            "Epoch 33/100\n",
            "1/1 [==============================] - 0s 7ms/step - loss: 1.4202 - mae: 1.4202\n",
            "Epoch 34/100\n",
            "1/1 [==============================] - 0s 4ms/step - loss: 1.0482 - mae: 1.0482\n",
            "Epoch 35/100\n",
            "1/1 [==============================] - 0s 9ms/step - loss: 1.2790 - mae: 1.2790\n",
            "Epoch 36/100\n",
            "1/1 [==============================] - 0s 4ms/step - loss: 1.1472 - mae: 1.1472\n",
            "Epoch 37/100\n",
            "1/1 [==============================] - 0s 6ms/step - loss: 0.7801 - mae: 0.7801\n",
            "Epoch 38/100\n",
            "1/1 [==============================] - 0s 6ms/step - loss: 0.8419 - mae: 0.8419\n",
            "Epoch 39/100\n",
            "1/1 [==============================] - 0s 6ms/step - loss: 0.6316 - mae: 0.6316\n",
            "Epoch 40/100\n",
            "1/1 [==============================] - 0s 6ms/step - loss: 0.6948 - mae: 0.6948\n",
            "Epoch 41/100\n",
            "1/1 [==============================] - 0s 6ms/step - loss: 0.4443 - mae: 0.4443\n",
            "Epoch 42/100\n",
            "1/1 [==============================] - 0s 8ms/step - loss: 0.7313 - mae: 0.7313\n",
            "Epoch 43/100\n",
            "1/1 [==============================] - 0s 4ms/step - loss: 0.3949 - mae: 0.3949\n",
            "Epoch 44/100\n",
            "1/1 [==============================] - 0s 7ms/step - loss: 0.5034 - mae: 0.5034\n",
            "Epoch 45/100\n",
            "1/1 [==============================] - 0s 7ms/step - loss: 0.2616 - mae: 0.2616\n",
            "Epoch 46/100\n",
            "1/1 [==============================] - 0s 10ms/step - loss: 0.4739 - mae: 0.4739\n",
            "Epoch 47/100\n",
            "1/1 [==============================] - 0s 8ms/step - loss: 0.4361 - mae: 0.4361\n",
            "Epoch 48/100\n",
            "1/1 [==============================] - 0s 10ms/step - loss: 0.1200 - mae: 0.1200\n",
            "Epoch 49/100\n",
            "1/1 [==============================] - 0s 5ms/step - loss: 0.8263 - mae: 0.8263\n",
            "Epoch 50/100\n",
            "1/1 [==============================] - 0s 9ms/step - loss: 0.6735 - mae: 0.6735\n",
            "Epoch 51/100\n",
            "1/1 [==============================] - 0s 8ms/step - loss: 0.2540 - mae: 0.2540\n",
            "Epoch 52/100\n",
            "1/1 [==============================] - 0s 42ms/step - loss: 0.2449 - mae: 0.2449\n",
            "Epoch 53/100\n",
            "1/1 [==============================] - 0s 8ms/step - loss: 0.2417 - mae: 0.2417\n",
            "Epoch 54/100\n",
            "1/1 [==============================] - 0s 9ms/step - loss: 0.4948 - mae: 0.4948\n",
            "Epoch 55/100\n",
            "1/1 [==============================] - 0s 7ms/step - loss: 0.4096 - mae: 0.4096\n",
            "Epoch 56/100\n",
            "1/1 [==============================] - 0s 7ms/step - loss: 0.6039 - mae: 0.6039\n",
            "Epoch 57/100\n",
            "1/1 [==============================] - 0s 13ms/step - loss: 0.3860 - mae: 0.3860\n",
            "Epoch 58/100\n",
            "1/1 [==============================] - 0s 5ms/step - loss: 0.8877 - mae: 0.8877\n",
            "Epoch 59/100\n",
            "1/1 [==============================] - 0s 8ms/step - loss: 0.8700 - mae: 0.8700\n",
            "Epoch 60/100\n",
            "1/1 [==============================] - 0s 7ms/step - loss: 0.1298 - mae: 0.1298\n",
            "Epoch 61/100\n",
            "1/1 [==============================] - 0s 14ms/step - loss: 0.5503 - mae: 0.5503\n",
            "Epoch 62/100\n",
            "1/1 [==============================] - 0s 12ms/step - loss: 0.4593 - mae: 0.4593\n",
            "Epoch 63/100\n",
            "1/1 [==============================] - 0s 18ms/step - loss: 0.2406 - mae: 0.2406\n",
            "Epoch 64/100\n",
            "1/1 [==============================] - 0s 5ms/step - loss: 0.7667 - mae: 0.7667\n",
            "Epoch 65/100\n",
            "1/1 [==============================] - 0s 6ms/step - loss: 0.7767 - mae: 0.7767\n",
            "Epoch 66/100\n",
            "1/1 [==============================] - 0s 6ms/step - loss: 0.4417 - mae: 0.4417\n",
            "Epoch 67/100\n",
            "1/1 [==============================] - 0s 6ms/step - loss: 0.3724 - mae: 0.3724\n",
            "Epoch 68/100\n",
            "1/1 [==============================] - 0s 9ms/step - loss: 0.4174 - mae: 0.4174\n",
            "Epoch 69/100\n",
            "1/1 [==============================] - 0s 6ms/step - loss: 0.1282 - mae: 0.1282\n",
            "Epoch 70/100\n",
            "1/1 [==============================] - 0s 7ms/step - loss: 0.6131 - mae: 0.6131\n",
            "Epoch 71/100\n",
            "1/1 [==============================] - 0s 7ms/step - loss: 0.4366 - mae: 0.4366\n",
            "Epoch 72/100\n",
            "1/1 [==============================] - 0s 7ms/step - loss: 0.8685 - mae: 0.8685\n",
            "Epoch 73/100\n",
            "1/1 [==============================] - 0s 7ms/step - loss: 0.6444 - mae: 0.6444\n",
            "Epoch 74/100\n",
            "1/1 [==============================] - 0s 7ms/step - loss: 0.5127 - mae: 0.5127\n",
            "Epoch 75/100\n",
            "1/1 [==============================] - 0s 9ms/step - loss: 0.6364 - mae: 0.6364\n",
            "Epoch 76/100\n",
            "1/1 [==============================] - 0s 6ms/step - loss: 0.6989 - mae: 0.6989\n",
            "Epoch 77/100\n",
            "1/1 [==============================] - 0s 7ms/step - loss: 0.6348 - mae: 0.6348\n",
            "Epoch 78/100\n",
            "1/1 [==============================] - 0s 7ms/step - loss: 0.5337 - mae: 0.5337\n",
            "Epoch 79/100\n",
            "1/1 [==============================] - 0s 8ms/step - loss: 0.2720 - mae: 0.2720\n",
            "Epoch 80/100\n",
            "1/1 [==============================] - 0s 6ms/step - loss: 0.8683 - mae: 0.8683\n",
            "Epoch 81/100\n",
            "1/1 [==============================] - 0s 18ms/step - loss: 0.9428 - mae: 0.9428\n",
            "Epoch 82/100\n",
            "1/1 [==============================] - 0s 18ms/step - loss: 0.4965 - mae: 0.4965\n",
            "Epoch 83/100\n",
            "1/1 [==============================] - 0s 8ms/step - loss: 0.5980 - mae: 0.5980\n",
            "Epoch 84/100\n",
            "1/1 [==============================] - 0s 7ms/step - loss: 0.1550 - mae: 0.1550\n",
            "Epoch 85/100\n",
            "1/1 [==============================] - 0s 9ms/step - loss: 0.8682 - mae: 0.8682\n",
            "Epoch 86/100\n",
            "1/1 [==============================] - 0s 6ms/step - loss: 0.9445 - mae: 0.9445\n",
            "Epoch 87/100\n",
            "1/1 [==============================] - 0s 7ms/step - loss: 0.4736 - mae: 0.4736\n",
            "Epoch 88/100\n",
            "1/1 [==============================] - 0s 8ms/step - loss: 0.9825 - mae: 0.9825\n",
            "Epoch 89/100\n",
            "1/1 [==============================] - 0s 8ms/step - loss: 1.0037 - mae: 1.0037\n",
            "Epoch 90/100\n",
            "1/1 [==============================] - 0s 6ms/step - loss: 0.2868 - mae: 0.2868\n",
            "Epoch 91/100\n",
            "1/1 [==============================] - 0s 6ms/step - loss: 1.2129 - mae: 1.2129\n",
            "Epoch 92/100\n",
            "1/1 [==============================] - 0s 9ms/step - loss: 1.6652 - mae: 1.6652\n",
            "Epoch 93/100\n",
            "1/1 [==============================] - 0s 6ms/step - loss: 1.1089 - mae: 1.1089\n",
            "Epoch 94/100\n",
            "1/1 [==============================] - 0s 5ms/step - loss: 0.2725 - mae: 0.2725\n",
            "Epoch 95/100\n",
            "1/1 [==============================] - 0s 8ms/step - loss: 0.6605 - mae: 0.6605\n",
            "Epoch 96/100\n",
            "1/1 [==============================] - 0s 8ms/step - loss: 0.2962 - mae: 0.2962\n",
            "Epoch 97/100\n",
            "1/1 [==============================] - 0s 12ms/step - loss: 0.8317 - mae: 0.8317\n",
            "Epoch 98/100\n",
            "1/1 [==============================] - 0s 10ms/step - loss: 1.0110 - mae: 1.0110\n",
            "Epoch 99/100\n",
            "1/1 [==============================] - 0s 6ms/step - loss: 0.4230 - mae: 0.4230\n",
            "Epoch 100/100\n",
            "1/1 [==============================] - 0s 8ms/step - loss: 0.8597 - mae: 0.8597\n"
          ],
          "name": "stdout"
        },
        {
          "output_type": "execute_result",
          "data": {
            "text/plain": [
              "<tensorflow.python.keras.callbacks.History at 0x7fc66a028b10>"
            ]
          },
          "metadata": {
            "tags": []
          },
          "execution_count": 31
        }
      ]
    },
    {
      "cell_type": "code",
      "metadata": {
        "colab": {
          "base_uri": "https://localhost:8080/"
        },
        "id": "eACGt-R_bmma",
        "outputId": "5affd525-ff8a-4188-b9c3-531f27bb1fa0"
      },
      "source": [
        "model.predict([17.0])"
      ],
      "execution_count": null,
      "outputs": [
        {
          "output_type": "stream",
          "text": [
            "WARNING:tensorflow:7 out of the last 7 calls to <function Model.make_predict_function.<locals>.predict_function at 0x7fc66a058a70> triggered tf.function retracing. Tracing is expensive and the excessive number of tracings could be due to (1) creating @tf.function repeatedly in a loop, (2) passing tensors with different shapes, (3) passing Python objects instead of tensors. For (1), please define your @tf.function outside of the loop. For (2), @tf.function has experimental_relax_shapes=True option that relaxes argument shapes that can avoid unnecessary retracing. For (3), please refer to https://www.tensorflow.org/guide/function#controlling_retracing and https://www.tensorflow.org/api_docs/python/tf/function for  more details.\n"
          ],
          "name": "stdout"
        },
        {
          "output_type": "execute_result",
          "data": {
            "text/plain": [
              "array([[24.651588]], dtype=float32)"
            ]
          },
          "metadata": {
            "tags": []
          },
          "execution_count": 32
        }
      ]
    },
    {
      "cell_type": "markdown",
      "metadata": {
        "id": "_HcLqE-zbsuM"
      },
      "source": [
        "### Common ways to improve the model\n",
        "\n",
        "1. Adding layers\n",
        "2. Increase the number of hidden units\n",
        "3. Change the activation function\n",
        "4. Change the optimization function\n",
        "5. Change the learning rate\n",
        "6. Fitting on more data\n",
        "7. Fitting for longer\n",
        "\n",
        "Note: Because we can change each of the above mentioned, they are called hyperparameters"
      ]
    },
    {
      "cell_type": "markdown",
      "metadata": {
        "id": "BaNcN4wXcTdC"
      },
      "source": [
        "## Evaluating a model\n",
        "\n",
        "In practice, the following is the typical workflow you'll go through\n",
        "\n",
        "`Build a model -> Fit it -> Evaluate it -> Tweak a model -> fit it -> Evaluate it -> Tweak a model -> ....`"
      ]
    },
    {
      "cell_type": "markdown",
      "metadata": {
        "id": "qJsq1vTgcos-"
      },
      "source": [
        "When it comes to evaluation the most importan thing is \n",
        "> **Visualize**\n",
        "\n",
        "It's a good idea to visualize:\n",
        "* The data - what data are we working with? What does it look like?\n",
        "* The model itself - what does our model look like?\n",
        "* The training of a model - How does the model perform while it learns?\n",
        "* The predictions of the model - how do the predictions of he model line up with the ground truth (the original labels)?"
      ]
    },
    {
      "cell_type": "code",
      "metadata": {
        "colab": {
          "base_uri": "https://localhost:8080/"
        },
        "id": "8Gj1LFWwdAdV",
        "outputId": "c8366869-f66a-425d-ba5e-275fac441aa7"
      },
      "source": [
        "# Make a bigger dataset\n",
        "\n",
        "X = tf.range (-100, 100, 4)\n",
        "X"
      ],
      "execution_count": null,
      "outputs": [
        {
          "output_type": "execute_result",
          "data": {
            "text/plain": [
              "<tf.Tensor: shape=(50,), dtype=int32, numpy=\n",
              "array([-100,  -96,  -92,  -88,  -84,  -80,  -76,  -72,  -68,  -64,  -60,\n",
              "        -56,  -52,  -48,  -44,  -40,  -36,  -32,  -28,  -24,  -20,  -16,\n",
              "        -12,   -8,   -4,    0,    4,    8,   12,   16,   20,   24,   28,\n",
              "         32,   36,   40,   44,   48,   52,   56,   60,   64,   68,   72,\n",
              "         76,   80,   84,   88,   92,   96], dtype=int32)>"
            ]
          },
          "metadata": {
            "tags": []
          },
          "execution_count": 33
        }
      ]
    },
    {
      "cell_type": "code",
      "metadata": {
        "colab": {
          "base_uri": "https://localhost:8080/"
        },
        "id": "XjRnPap3hMj7",
        "outputId": "fe1f9131-1754-42af-ac36-1773740ccc89"
      },
      "source": [
        "# Make labels for the dataset\n",
        "y = X + 10\n",
        "y"
      ],
      "execution_count": null,
      "outputs": [
        {
          "output_type": "execute_result",
          "data": {
            "text/plain": [
              "<tf.Tensor: shape=(50,), dtype=int32, numpy=\n",
              "array([-90, -86, -82, -78, -74, -70, -66, -62, -58, -54, -50, -46, -42,\n",
              "       -38, -34, -30, -26, -22, -18, -14, -10,  -6,  -2,   2,   6,  10,\n",
              "        14,  18,  22,  26,  30,  34,  38,  42,  46,  50,  54,  58,  62,\n",
              "        66,  70,  74,  78,  82,  86,  90,  94,  98, 102, 106], dtype=int32)>"
            ]
          },
          "metadata": {
            "tags": []
          },
          "execution_count": 34
        }
      ]
    },
    {
      "cell_type": "code",
      "metadata": {
        "colab": {
          "base_uri": "https://localhost:8080/",
          "height": 282
        },
        "id": "KO6ReYsfhVvI",
        "outputId": "399720ed-8eb8-4895-eaa4-822ad5ee3c00"
      },
      "source": [
        "# Visualize the data\n",
        "import matplotlib.pyplot as plt\n",
        "plt.scatter(X, y)"
      ],
      "execution_count": null,
      "outputs": [
        {
          "output_type": "execute_result",
          "data": {
            "text/plain": [
              "<matplotlib.collections.PathCollection at 0x7fc669eade10>"
            ]
          },
          "metadata": {
            "tags": []
          },
          "execution_count": 35
        },
        {
          "output_type": "display_data",
          "data": {
            "image/png": "[encoded data removed]",
            "text/plain": [
              "<Figure size 432x288 with 1 Axes>"
            ]
          },
          "metadata": {
            "tags": [],
            "needs_background": "light"
          }
        }
      ]
    },
    {
      "cell_type": "markdown",
      "metadata": {
        "id": "ivFevYaAhf-f"
      },
      "source": [
        "## The three sets are...\n",
        "\n",
        "* **Training set** - The model learns form this data, which is typically 70-80% of the total data available\n",
        "* **Validation set** - The model gets tuned on this data, which is typically 10-15% of thr data available\n",
        "* **Test set** - the model gets evaluated on this data to test what it has learned, this set is typically 10-15% of the total data available"
      ]
    },
    {
      "cell_type": "code",
      "metadata": {
        "colab": {
          "base_uri": "https://localhost:8080/"
        },
        "id": "vEQc9xWIJWP3",
        "outputId": "6f0e97f8-64c9-4046-c70f-469ca0bb6768"
      },
      "source": [
        "# Check the length of how many samples we have\n",
        "\n",
        "len(X)"
      ],
      "execution_count": null,
      "outputs": [
        {
          "output_type": "execute_result",
          "data": {
            "text/plain": [
              "50"
            ]
          },
          "metadata": {
            "tags": []
          },
          "execution_count": 36
        }
      ]
    },
    {
      "cell_type": "code",
      "metadata": {
        "colab": {
          "base_uri": "https://localhost:8080/"
        },
        "id": "6ZA4Td4_Jb2u",
        "outputId": "dd094692-98ad-46d3-eba4-7f861b99060e"
      },
      "source": [
        "# Split the data into train and test sets\n",
        "\n",
        "X_train = X[:40] # the first 40 samples are for training (80% of data)\n",
        "y_train = y[:40]\n",
        "\n",
        "X_test = X[40:] # the last 10 samples are for testing (20% of data)\n",
        "y_test = y[40:] # the last 10 samples are for testing (20% of data)\n",
        "\n",
        "len(X_train), len(y_train), len(X_test), len(y_test)"
      ],
      "execution_count": null,
      "outputs": [
        {
          "output_type": "execute_result",
          "data": {
            "text/plain": [
              "(40, 40, 10, 10)"
            ]
          },
          "metadata": {
            "tags": []
          },
          "execution_count": 37
        }
      ]
    },
    {
      "cell_type": "markdown",
      "metadata": {
        "id": "gZ0pgABWKA3w"
      },
      "source": [
        "### Visualizing the data\n",
        "\n",
        "Now we've got the data in training and testing sets\n",
        "Let's visualize it again"
      ]
    },
    {
      "cell_type": "code",
      "metadata": {
        "colab": {
          "base_uri": "https://localhost:8080/",
          "height": 445
        },
        "id": "O6TZ_UIXKao3",
        "outputId": "1e628898-c045-46a5-faf6-98d4eb6b1226"
      },
      "source": [
        "plt.figure(figsize=(7,7))\n",
        "\n",
        "# Plot training data in blue\n",
        "plt.scatter(X_train, y_train, c=\"b\", label=\"Training data\")\n",
        "\n",
        "# Plot testing data in blue\n",
        "plt.scatter(X_test, y_test, c=\"g\", label=\"Testing data\")\n",
        "\n",
        "plt.legend()"
      ],
      "execution_count": null,
      "outputs": [
        {
          "output_type": "execute_result",
          "data": {
            "text/plain": [
              "<matplotlib.legend.Legend at 0x7fc669e3b410>"
            ]
          },
          "metadata": {
            "tags": []
          },
          "execution_count": 38
        },
        {
          "output_type": "display_data",
          "data": {
            "image/png": "[encoded data removed]",
            "text/plain": [
              "<Figure size 504x504 with 1 Axes>"
            ]
          },
          "metadata": {
            "tags": [],
            "needs_background": "light"
          }
        }
      ]
    },
    {
      "cell_type": "code",
      "metadata": {
        "id": "yqm8UUYmK6B4"
      },
      "source": [
        "# Lets build a neural network for our data\n",
        "\n",
        "# 1. Create a model\n",
        "\n",
        "model = tf.keras.Sequential([\n",
        "    tf.keras.layers.Dense(1)\n",
        "])\n",
        "\n",
        "# 2. Complile the model\n",
        "\n",
        "model.compile(loss=tf.keras.losses.mae,\n",
        "               optimizer=tf.keras.optimizers.SGD(),\n",
        "               metrics=[\"mae\"])\n",
        "\n",
        "# # 3. Fit the model\n",
        "# model.fit(X_train, y_train, epochs=100)"
      ],
      "execution_count": null,
      "outputs": []
    },
    {
      "cell_type": "markdown",
      "metadata": {
        "id": "fLufGsz0he4M"
      },
      "source": [
        "### Visualizing our model"
      ]
    },
    {
      "cell_type": "code",
      "metadata": {
        "id": "JBfoSGV-hjW5"
      },
      "source": [
        "# model.summary() # Gives an error as the model hasn't been built\n",
        "\n",
        "# model.build(input shape) can be done before summary in order to build the model"
      ],
      "execution_count": null,
      "outputs": []
    },
    {
      "cell_type": "code",
      "metadata": {
        "colab": {
          "base_uri": "https://localhost:8080/"
        },
        "id": "6ewv8YLOiwAs",
        "outputId": "e7dca508-c67f-42dc-a3b8-e8f4e7813c13"
      },
      "source": [
        "X[0], y[0]"
      ],
      "execution_count": null,
      "outputs": [
        {
          "output_type": "execute_result",
          "data": {
            "text/plain": [
              "(<tf.Tensor: shape=(), dtype=int32, numpy=-100>,\n",
              " <tf.Tensor: shape=(), dtype=int32, numpy=-90>)"
            ]
          },
          "metadata": {
            "tags": []
          },
          "execution_count": 41
        }
      ]
    },
    {
      "cell_type": "code",
      "metadata": {
        "id": "i-MJJUkihyLI"
      },
      "source": [
        "# Let's create a model that builds automatically by defining the inpt shape in the first layers\n",
        "tf.random.set_seed(42)\n",
        "\n",
        "# 1. Create a model (same as above)\n",
        "\n",
        "model = tf.keras.Sequential([\n",
        "    tf.keras.layers.Dense(1, input_shape=[1])\n",
        "])\n",
        "\n",
        "# 2. Complile the model (same as above)\n",
        "\n",
        "model.compile(loss=tf.keras.losses.mae,\n",
        "               optimizer=tf.keras.optimizers.SGD(),\n",
        "               metrics=[\"mae\"])\n"
      ],
      "execution_count": null,
      "outputs": []
    },
    {
      "cell_type": "code",
      "metadata": {
        "colab": {
          "base_uri": "https://localhost:8080/"
        },
        "id": "e7QShZNDjASX",
        "outputId": "5a0723fa-f263-473d-a49c-a77e769ec30c"
      },
      "source": [
        "model.summary()"
      ],
      "execution_count": null,
      "outputs": [
        {
          "output_type": "stream",
          "text": [
            "Model: \"sequential_8\"\n",
            "_________________________________________________________________\n",
            "Layer (type)                 Output Shape              Param #   \n",
            "=================================================================\n",
            "dense_16 (Dense)             (None, 1)                 2         \n",
            "=================================================================\n",
            "Total params: 2\n",
            "Trainable params: 2\n",
            "Non-trainable params: 0\n",
            "_________________________________________________________________\n"
          ],
          "name": "stdout"
        }
      ]
    },
    {
      "cell_type": "markdown",
      "metadata": {
        "id": "35TlWLakjW8s"
      },
      "source": [
        "* Total params- total number of parameters in the model\n",
        "* Trainable params- there are the parameters(patterns) the model can update as it trains\n",
        "* non-trainable params- These parameters aren't updated during training. (This typically happens when we bring another set of parameters from other models during **transfer learning**) "
      ]
    },
    {
      "cell_type": "markdown",
      "metadata": {
        "id": "OhZT0GixkNhb"
      },
      "source": [
        "Also check for:\n",
        "\n",
        "Trainable params in a neural network\n",
        "Base neural networks weights matrix and biases vectors\n",
        "Dense / Fully network"
      ]
    },
    {
      "cell_type": "code",
      "metadata": {
        "colab": {
          "base_uri": "https://localhost:8080/"
        },
        "id": "LG2cv90ijEH_",
        "outputId": "9b6d3d79-2fcc-46b8-c7da-76c21d75d371"
      },
      "source": [
        "# Let's fit our model to the training data\n",
        "\n",
        "model.fit(X_train, y_train, epochs=100, verbose=1)"
      ],
      "execution_count": null,
      "outputs": [
        {
          "output_type": "stream",
          "text": [
            "Epoch 1/100\n",
            "2/2 [==============================] - 0s 6ms/step - loss: 16.4124 - mae: 16.4124\n",
            "Epoch 2/100\n",
            "2/2 [==============================] - 0s 5ms/step - loss: 11.0829 - mae: 11.0829\n",
            "Epoch 3/100\n",
            "2/2 [==============================] - 0s 4ms/step - loss: 11.1242 - mae: 11.1242\n",
            "Epoch 4/100\n",
            "2/2 [==============================] - 0s 4ms/step - loss: 8.6945 - mae: 8.6945\n",
            "Epoch 5/100\n",
            "2/2 [==============================] - 0s 3ms/step - loss: 9.8003 - mae: 9.8003\n",
            "Epoch 6/100\n",
            "2/2 [==============================] - 0s 9ms/step - loss: 9.5263 - mae: 9.5263\n",
            "Epoch 7/100\n",
            "2/2 [==============================] - 0s 5ms/step - loss: 8.4102 - mae: 8.4102\n",
            "Epoch 8/100\n",
            "2/2 [==============================] - 0s 8ms/step - loss: 9.1449 - mae: 9.1449\n",
            "Epoch 9/100\n",
            "2/2 [==============================] - 0s 7ms/step - loss: 19.4932 - mae: 19.4932\n",
            "Epoch 10/100\n",
            "2/2 [==============================] - 0s 4ms/step - loss: 9.6061 - mae: 9.6061\n",
            "Epoch 11/100\n",
            "2/2 [==============================] - 0s 4ms/step - loss: 8.5992 - mae: 8.5992\n",
            "Epoch 12/100\n",
            "2/2 [==============================] - 0s 3ms/step - loss: 10.9324 - mae: 10.9324\n",
            "Epoch 13/100\n",
            "2/2 [==============================] - 0s 3ms/step - loss: 10.0574 - mae: 10.0574\n",
            "Epoch 14/100\n",
            "2/2 [==============================] - 0s 4ms/step - loss: 16.5679 - mae: 16.5679\n",
            "Epoch 15/100\n",
            "2/2 [==============================] - 0s 4ms/step - loss: 11.4537 - mae: 11.4537\n",
            "Epoch 16/100\n",
            "2/2 [==============================] - 0s 6ms/step - loss: 8.4056 - mae: 8.4056\n",
            "Epoch 17/100\n",
            "2/2 [==============================] - 0s 7ms/step - loss: 13.8417 - mae: 13.8417\n",
            "Epoch 18/100\n",
            "2/2 [==============================] - 0s 7ms/step - loss: 11.6621 - mae: 11.6621\n",
            "Epoch 19/100\n",
            "2/2 [==============================] - 0s 5ms/step - loss: 18.7623 - mae: 18.7623\n",
            "Epoch 20/100\n",
            "2/2 [==============================] - 0s 4ms/step - loss: 15.5702 - mae: 15.5702\n",
            "Epoch 21/100\n",
            "2/2 [==============================] - 0s 6ms/step - loss: 10.9959 - mae: 10.9959\n",
            "Epoch 22/100\n",
            "2/2 [==============================] - 0s 7ms/step - loss: 8.0023 - mae: 8.0023\n",
            "Epoch 23/100\n",
            "2/2 [==============================] - 0s 10ms/step - loss: 9.8593 - mae: 9.8593\n",
            "Epoch 24/100\n",
            "2/2 [==============================] - 0s 5ms/step - loss: 7.5796 - mae: 7.5796\n",
            "Epoch 25/100\n",
            "2/2 [==============================] - 0s 4ms/step - loss: 13.7226 - mae: 13.7226\n",
            "Epoch 26/100\n",
            "2/2 [==============================] - 0s 4ms/step - loss: 17.1740 - mae: 17.1740\n",
            "Epoch 27/100\n",
            "2/2 [==============================] - 0s 5ms/step - loss: 13.4233 - mae: 13.4233\n",
            "Epoch 28/100\n",
            "2/2 [==============================] - 0s 3ms/step - loss: 14.5473 - mae: 14.5473\n",
            "Epoch 29/100\n",
            "2/2 [==============================] - 0s 5ms/step - loss: 9.8753 - mae: 9.8753\n",
            "Epoch 30/100\n",
            "2/2 [==============================] - 0s 4ms/step - loss: 17.1187 - mae: 17.1187\n",
            "Epoch 31/100\n",
            "2/2 [==============================] - 0s 4ms/step - loss: 24.5949 - mae: 24.5949\n",
            "Epoch 32/100\n",
            "2/2 [==============================] - 0s 6ms/step - loss: 7.6765 - mae: 7.6765\n",
            "Epoch 33/100\n",
            "2/2 [==============================] - 0s 3ms/step - loss: 9.2971 - mae: 9.2971\n",
            "Epoch 34/100\n",
            "2/2 [==============================] - 0s 7ms/step - loss: 14.1703 - mae: 14.1703\n",
            "Epoch 35/100\n",
            "2/2 [==============================] - 0s 3ms/step - loss: 10.8635 - mae: 10.8635\n",
            "Epoch 36/100\n",
            "2/2 [==============================] - 0s 6ms/step - loss: 13.5689 - mae: 13.5689\n",
            "Epoch 37/100\n",
            "2/2 [==============================] - 0s 5ms/step - loss: 9.3448 - mae: 9.3448\n",
            "Epoch 38/100\n",
            "2/2 [==============================] - 0s 4ms/step - loss: 10.4804 - mae: 10.4804\n",
            "Epoch 39/100\n",
            "2/2 [==============================] - 0s 8ms/step - loss: 10.0178 - mae: 10.0178\n",
            "Epoch 40/100\n",
            "2/2 [==============================] - 0s 3ms/step - loss: 10.8005 - mae: 10.8005\n",
            "Epoch 41/100\n",
            "2/2 [==============================] - 0s 5ms/step - loss: 7.7789 - mae: 7.7789\n",
            "Epoch 42/100\n",
            "2/2 [==============================] - 0s 3ms/step - loss: 10.2844 - mae: 10.2844\n",
            "Epoch 43/100\n",
            "2/2 [==============================] - 0s 12ms/step - loss: 8.9628 - mae: 8.9628\n",
            "Epoch 44/100\n",
            "2/2 [==============================] - 0s 3ms/step - loss: 12.6243 - mae: 12.6243\n",
            "Epoch 45/100\n",
            "2/2 [==============================] - 0s 3ms/step - loss: 14.1236 - mae: 14.1236\n",
            "Epoch 46/100\n",
            "2/2 [==============================] - 0s 4ms/step - loss: 8.2681 - mae: 8.2681\n",
            "Epoch 47/100\n",
            "2/2 [==============================] - 0s 5ms/step - loss: 9.0126 - mae: 9.0126\n",
            "Epoch 48/100\n",
            "2/2 [==============================] - 0s 3ms/step - loss: 10.6882 - mae: 10.6882\n",
            "Epoch 49/100\n",
            "2/2 [==============================] - 0s 5ms/step - loss: 7.7431 - mae: 7.7431\n",
            "Epoch 50/100\n",
            "2/2 [==============================] - 0s 7ms/step - loss: 9.3950 - mae: 9.3950\n",
            "Epoch 51/100\n",
            "2/2 [==============================] - 0s 3ms/step - loss: 8.9267 - mae: 8.9267\n",
            "Epoch 52/100\n",
            "2/2 [==============================] - 0s 3ms/step - loss: 16.9818 - mae: 16.9818\n",
            "Epoch 53/100\n",
            "2/2 [==============================] - 0s 4ms/step - loss: 14.8677 - mae: 14.8677\n",
            "Epoch 54/100\n",
            "2/2 [==============================] - 0s 6ms/step - loss: 22.0413 - mae: 22.0413\n",
            "Epoch 55/100\n",
            "2/2 [==============================] - 0s 4ms/step - loss: 17.0640 - mae: 17.0640\n",
            "Epoch 56/100\n",
            "2/2 [==============================] - 0s 5ms/step - loss: 9.9520 - mae: 9.9520\n",
            "Epoch 57/100\n",
            "2/2 [==============================] - 0s 4ms/step - loss: 9.7522 - mae: 9.7522\n",
            "Epoch 58/100\n",
            "2/2 [==============================] - 0s 5ms/step - loss: 9.4378 - mae: 9.4378\n",
            "Epoch 59/100\n",
            "2/2 [==============================] - 0s 4ms/step - loss: 8.3373 - mae: 8.3373\n",
            "Epoch 60/100\n",
            "2/2 [==============================] - 0s 4ms/step - loss: 9.6425 - mae: 9.6425\n",
            "Epoch 61/100\n",
            "2/2 [==============================] - 0s 4ms/step - loss: 11.7590 - mae: 11.7590\n",
            "Epoch 62/100\n",
            "2/2 [==============================] - 0s 4ms/step - loss: 11.7187 - mae: 11.7187\n",
            "Epoch 63/100\n",
            "2/2 [==============================] - 0s 3ms/step - loss: 7.2316 - mae: 7.2316\n",
            "Epoch 64/100\n",
            "2/2 [==============================] - 0s 5ms/step - loss: 17.7848 - mae: 17.7848\n",
            "Epoch 65/100\n",
            "2/2 [==============================] - 0s 5ms/step - loss: 12.6255 - mae: 12.6255\n",
            "Epoch 66/100\n",
            "2/2 [==============================] - 0s 3ms/step - loss: 13.2840 - mae: 13.2840\n",
            "Epoch 67/100\n",
            "2/2 [==============================] - 0s 5ms/step - loss: 7.8471 - mae: 7.8471\n",
            "Epoch 68/100\n",
            "2/2 [==============================] - 0s 3ms/step - loss: 9.9708 - mae: 9.9708\n",
            "Epoch 69/100\n",
            "2/2 [==============================] - 0s 12ms/step - loss: 12.4903 - mae: 12.4903\n",
            "Epoch 70/100\n",
            "2/2 [==============================] - 0s 7ms/step - loss: 8.5001 - mae: 8.5001\n",
            "Epoch 71/100\n",
            "2/2 [==============================] - 0s 7ms/step - loss: 9.9996 - mae: 9.9996\n",
            "Epoch 72/100\n",
            "2/2 [==============================] - 0s 14ms/step - loss: 10.1797 - mae: 10.1797\n",
            "Epoch 73/100\n",
            "2/2 [==============================] - 0s 6ms/step - loss: 13.0024 - mae: 13.0024\n",
            "Epoch 74/100\n",
            "2/2 [==============================] - 0s 4ms/step - loss: 10.3812 - mae: 10.3812\n",
            "Epoch 75/100\n",
            "2/2 [==============================] - 0s 4ms/step - loss: 9.7621 - mae: 9.7621\n",
            "Epoch 76/100\n",
            "2/2 [==============================] - 0s 6ms/step - loss: 11.5186 - mae: 11.5186\n",
            "Epoch 77/100\n",
            "2/2 [==============================] - 0s 7ms/step - loss: 8.3070 - mae: 8.3070\n",
            "Epoch 78/100\n",
            "2/2 [==============================] - 0s 6ms/step - loss: 9.4436 - mae: 9.4436\n",
            "Epoch 79/100\n",
            "2/2 [==============================] - 0s 15ms/step - loss: 20.3897 - mae: 20.3897\n",
            "Epoch 80/100\n",
            "2/2 [==============================] - 0s 5ms/step - loss: 15.4751 - mae: 15.4751\n",
            "Epoch 81/100\n",
            "2/2 [==============================] - 0s 10ms/step - loss: 9.0208 - mae: 9.0208\n",
            "Epoch 82/100\n",
            "2/2 [==============================] - 0s 4ms/step - loss: 13.3869 - mae: 13.3869\n",
            "Epoch 83/100\n",
            "2/2 [==============================] - 0s 3ms/step - loss: 7.9649 - mae: 7.9649\n",
            "Epoch 84/100\n",
            "2/2 [==============================] - 0s 5ms/step - loss: 7.5702 - mae: 7.5702\n",
            "Epoch 85/100\n",
            "2/2 [==============================] - 0s 5ms/step - loss: 9.9706 - mae: 9.9706\n",
            "Epoch 86/100\n",
            "2/2 [==============================] - 0s 6ms/step - loss: 9.0533 - mae: 9.0533\n",
            "Epoch 87/100\n",
            "2/2 [==============================] - 0s 6ms/step - loss: 12.2670 - mae: 12.2670\n",
            "Epoch 88/100\n",
            "2/2 [==============================] - 0s 4ms/step - loss: 10.6052 - mae: 10.6052\n",
            "Epoch 89/100\n",
            "2/2 [==============================] - 0s 12ms/step - loss: 7.1986 - mae: 7.1986\n",
            "Epoch 90/100\n",
            "2/2 [==============================] - 0s 9ms/step - loss: 13.0379 - mae: 13.0379\n",
            "Epoch 91/100\n",
            "2/2 [==============================] - 0s 5ms/step - loss: 7.1968 - mae: 7.1968\n",
            "Epoch 92/100\n",
            "2/2 [==============================] - 0s 4ms/step - loss: 7.5386 - mae: 7.5386\n",
            "Epoch 93/100\n",
            "2/2 [==============================] - 0s 8ms/step - loss: 7.0932 - mae: 7.0932\n",
            "Epoch 94/100\n",
            "2/2 [==============================] - 0s 4ms/step - loss: 12.8860 - mae: 12.8860\n",
            "Epoch 95/100\n",
            "2/2 [==============================] - 0s 7ms/step - loss: 9.9620 - mae: 9.9620\n",
            "Epoch 96/100\n",
            "2/2 [==============================] - 0s 9ms/step - loss: 8.7739 - mae: 8.7739\n",
            "Epoch 97/100\n",
            "2/2 [==============================] - 0s 4ms/step - loss: 13.0861 - mae: 13.0861\n",
            "Epoch 98/100\n",
            "2/2 [==============================] - 0s 10ms/step - loss: 8.3848 - mae: 8.3848\n",
            "Epoch 99/100\n",
            "2/2 [==============================] - 0s 5ms/step - loss: 9.7828 - mae: 9.7828\n",
            "Epoch 100/100\n",
            "2/2 [==============================] - 0s 3ms/step - loss: 8.5252 - mae: 8.5252\n"
          ],
          "name": "stdout"
        },
        {
          "output_type": "execute_result",
          "data": {
            "text/plain": [
              "<tensorflow.python.keras.callbacks.History at 0x7fc669d91310>"
            ]
          },
          "metadata": {
            "tags": []
          },
          "execution_count": 44
        }
      ]
    },
    {
      "cell_type": "markdown",
      "metadata": {
        "id": "GBx8ynWJlzI_"
      },
      "source": [
        "If we keep running the above code continuously, then it will fit our model for 200 times if we run twice, 300 times if we run thrice and so on. This is because the no. of epocjs is 100. To reset that we'll have to create and compile the model again (Run the previous cell again)"
      ]
    },
    {
      "cell_type": "code",
      "metadata": {
        "colab": {
          "base_uri": "https://localhost:8080/",
          "height": 201
        },
        "id": "xcan2_J_lmbY",
        "outputId": "6118df17-ead8-4208-ff0e-edf61faca59c"
      },
      "source": [
        "from tensorflow.keras.utils import plot_model\n",
        "\n",
        "plot_model(model=model, show_shapes=True)"
      ],
      "execution_count": null,
      "outputs": [
        {
          "output_type": "execute_result",
          "data": {
            "image/png": "[encoded data removed]",
            "text/plain": [
              "<IPython.core.display.Image object>"
            ]
          },
          "metadata": {
            "tags": []
          },
          "execution_count": 45
        }
      ]
    },
    {
      "cell_type": "code",
      "metadata": {
        "id": "b-VtxBDImszT"
      },
      "source": [
        "tf.random.set_seed(42)\n",
        "\n",
        "# 1. Create a model (same as above)\n",
        "\n",
        "model = tf.keras.Sequential([\n",
        "    tf.keras.layers.Dense(10, input_shape=[1], name=\"input_layer\"),\n",
        "    tf.keras.layers.Dense(1, name=\"output_layer\"),\n",
        "], name=\"one_of_the_many_models_we_build\")\n",
        "\n",
        "# 2. Complile the model (same as above)\n",
        "\n",
        "model.compile(loss=tf.keras.losses.mae,\n",
        "               optimizer=tf.keras.optimizers.SGD(),\n",
        "               metrics=[\"mae\"])"
      ],
      "execution_count": null,
      "outputs": []
    },
    {
      "cell_type": "code",
      "metadata": {
        "colab": {
          "base_uri": "https://localhost:8080/"
        },
        "id": "nwrJnVyWoC21",
        "outputId": "b099e3a0-0ea4-469e-ad68-fe4fac032e89"
      },
      "source": [
        "model.fit(X_train, y_train, epochs=100, verbose=1)"
      ],
      "execution_count": null,
      "outputs": [
        {
          "output_type": "stream",
          "text": [
            "Epoch 1/100\n",
            "2/2 [==============================] - 0s 6ms/step - loss: 26.8627 - mae: 26.8627\n",
            "Epoch 2/100\n",
            "2/2 [==============================] - 0s 4ms/step - loss: 24.4175 - mae: 24.4175\n",
            "Epoch 3/100\n",
            "2/2 [==============================] - 0s 6ms/step - loss: 31.5187 - mae: 31.5187\n",
            "Epoch 4/100\n",
            "2/2 [==============================] - 0s 6ms/step - loss: 27.8490 - mae: 27.8490\n",
            "Epoch 5/100\n",
            "2/2 [==============================] - 0s 3ms/step - loss: 14.6465 - mae: 14.6465\n",
            "Epoch 6/100\n",
            "2/2 [==============================] - 0s 3ms/step - loss: 11.9682 - mae: 11.9682\n",
            "Epoch 7/100\n",
            "2/2 [==============================] - 0s 12ms/step - loss: 11.0874 - mae: 11.0874\n",
            "Epoch 8/100\n",
            "2/2 [==============================] - 0s 4ms/step - loss: 11.3978 - mae: 11.3978\n",
            "Epoch 9/100\n",
            "2/2 [==============================] - 0s 4ms/step - loss: 42.4087 - mae: 42.4087\n",
            "Epoch 10/100\n",
            "2/2 [==============================] - 0s 4ms/step - loss: 28.3537 - mae: 28.3537\n",
            "Epoch 11/100\n",
            "2/2 [==============================] - 0s 3ms/step - loss: 9.6590 - mae: 9.6590\n",
            "Epoch 12/100\n",
            "2/2 [==============================] - 0s 4ms/step - loss: 25.8820 - mae: 25.8820\n",
            "Epoch 13/100\n",
            "2/2 [==============================] - 0s 6ms/step - loss: 16.7682 - mae: 16.7682\n",
            "Epoch 14/100\n",
            "2/2 [==============================] - 0s 4ms/step - loss: 26.6019 - mae: 26.6019\n",
            "Epoch 15/100\n",
            "2/2 [==============================] - 0s 4ms/step - loss: 17.7361 - mae: 17.7361\n",
            "Epoch 16/100\n",
            "2/2 [==============================] - 0s 4ms/step - loss: 7.4550 - mae: 7.4550\n",
            "Epoch 17/100\n",
            "2/2 [==============================] - 0s 3ms/step - loss: 10.6974 - mae: 10.6974\n",
            "Epoch 18/100\n",
            "2/2 [==============================] - 0s 4ms/step - loss: 20.7691 - mae: 20.7691\n",
            "Epoch 19/100\n",
            "2/2 [==============================] - 0s 3ms/step - loss: 9.6535 - mae: 9.6535\n",
            "Epoch 20/100\n",
            "2/2 [==============================] - 0s 4ms/step - loss: 18.4600 - mae: 18.4600\n",
            "Epoch 21/100\n",
            "2/2 [==============================] - 0s 7ms/step - loss: 16.2352 - mae: 16.2352\n",
            "Epoch 22/100\n",
            "2/2 [==============================] - 0s 3ms/step - loss: 14.5012 - mae: 14.5012\n",
            "Epoch 23/100\n",
            "2/2 [==============================] - 0s 4ms/step - loss: 8.6493 - mae: 8.6493\n",
            "Epoch 24/100\n",
            "2/2 [==============================] - 0s 3ms/step - loss: 10.4430 - mae: 10.4430\n",
            "Epoch 25/100\n",
            "2/2 [==============================] - 0s 4ms/step - loss: 12.8060 - mae: 12.8060\n",
            "Epoch 26/100\n",
            "2/2 [==============================] - 0s 6ms/step - loss: 26.8011 - mae: 26.8011\n",
            "Epoch 27/100\n",
            "2/2 [==============================] - 0s 4ms/step - loss: 12.0333 - mae: 12.0333\n",
            "Epoch 28/100\n",
            "2/2 [==============================] - 0s 3ms/step - loss: 23.4573 - mae: 23.4573\n",
            "Epoch 29/100\n",
            "2/2 [==============================] - 0s 3ms/step - loss: 9.1266 - mae: 9.1266\n",
            "Epoch 30/100\n",
            "2/2 [==============================] - 0s 4ms/step - loss: 31.1804 - mae: 31.1804\n",
            "Epoch 31/100\n",
            "2/2 [==============================] - 0s 3ms/step - loss: 56.8211 - mae: 56.8211\n",
            "Epoch 32/100\n",
            "2/2 [==============================] - 0s 3ms/step - loss: 12.2909 - mae: 12.2909\n",
            "Epoch 33/100\n",
            "2/2 [==============================] - 0s 4ms/step - loss: 15.3304 - mae: 15.3304\n",
            "Epoch 34/100\n",
            "2/2 [==============================] - 0s 3ms/step - loss: 12.8145 - mae: 12.8145\n",
            "Epoch 35/100\n",
            "2/2 [==============================] - 0s 3ms/step - loss: 9.4721 - mae: 9.4721\n",
            "Epoch 36/100\n",
            "2/2 [==============================] - 0s 3ms/step - loss: 16.6526 - mae: 16.6526\n",
            "Epoch 37/100\n",
            "2/2 [==============================] - 0s 4ms/step - loss: 10.4634 - mae: 10.4634\n",
            "Epoch 38/100\n",
            "2/2 [==============================] - 0s 3ms/step - loss: 18.7760 - mae: 18.7760\n",
            "Epoch 39/100\n",
            "2/2 [==============================] - 0s 5ms/step - loss: 20.1198 - mae: 20.1198\n",
            "Epoch 40/100\n",
            "2/2 [==============================] - 0s 6ms/step - loss: 21.4944 - mae: 21.4944\n",
            "Epoch 41/100\n",
            "2/2 [==============================] - 0s 3ms/step - loss: 14.5667 - mae: 14.5667\n",
            "Epoch 42/100\n",
            "2/2 [==============================] - 0s 3ms/step - loss: 12.2999 - mae: 12.2999\n",
            "Epoch 43/100\n",
            "2/2 [==============================] - 0s 3ms/step - loss: 11.1115 - mae: 11.1115\n",
            "Epoch 44/100\n",
            "2/2 [==============================] - 0s 4ms/step - loss: 23.5895 - mae: 23.5895\n",
            "Epoch 45/100\n",
            "2/2 [==============================] - 0s 3ms/step - loss: 9.9461 - mae: 9.9461\n",
            "Epoch 46/100\n",
            "2/2 [==============================] - 0s 4ms/step - loss: 12.0273 - mae: 12.0273\n",
            "Epoch 47/100\n",
            "2/2 [==============================] - 0s 7ms/step - loss: 9.0557 - mae: 9.0557\n",
            "Epoch 48/100\n",
            "2/2 [==============================] - 0s 4ms/step - loss: 17.8711 - mae: 17.8711\n",
            "Epoch 49/100\n",
            "2/2 [==============================] - 0s 4ms/step - loss: 9.5485 - mae: 9.5485\n",
            "Epoch 50/100\n",
            "2/2 [==============================] - 0s 4ms/step - loss: 13.7912 - mae: 13.7912\n",
            "Epoch 51/100\n",
            "2/2 [==============================] - 0s 6ms/step - loss: 11.2969 - mae: 11.2969\n",
            "Epoch 52/100\n",
            "2/2 [==============================] - 0s 3ms/step - loss: 32.1753 - mae: 32.1753\n",
            "Epoch 53/100\n",
            "2/2 [==============================] - 0s 4ms/step - loss: 14.1257 - mae: 14.1257\n",
            "Epoch 54/100\n",
            "2/2 [==============================] - 0s 4ms/step - loss: 24.3921 - mae: 24.3921\n",
            "Epoch 55/100\n",
            "2/2 [==============================] - 0s 4ms/step - loss: 23.5967 - mae: 23.5967\n",
            "Epoch 56/100\n",
            "2/2 [==============================] - 0s 4ms/step - loss: 10.0101 - mae: 10.0101\n",
            "Epoch 57/100\n",
            "2/2 [==============================] - 0s 5ms/step - loss: 12.4333 - mae: 12.4333\n",
            "Epoch 58/100\n",
            "2/2 [==============================] - 0s 7ms/step - loss: 9.4491 - mae: 9.4491\n",
            "Epoch 59/100\n",
            "2/2 [==============================] - 0s 5ms/step - loss: 12.6438 - mae: 12.6438\n",
            "Epoch 60/100\n",
            "2/2 [==============================] - 0s 9ms/step - loss: 12.3168 - mae: 12.3168\n",
            "Epoch 61/100\n",
            "2/2 [==============================] - 0s 3ms/step - loss: 17.1832 - mae: 17.1832\n",
            "Epoch 62/100\n",
            "2/2 [==============================] - 0s 4ms/step - loss: 10.4860 - mae: 10.4860\n",
            "Epoch 63/100\n",
            "2/2 [==============================] - 0s 8ms/step - loss: 10.8072 - mae: 10.8072\n",
            "Epoch 64/100\n",
            "2/2 [==============================] - 0s 3ms/step - loss: 25.2892 - mae: 25.2892\n",
            "Epoch 65/100\n",
            "2/2 [==============================] - 0s 3ms/step - loss: 10.7923 - mae: 10.7923\n",
            "Epoch 66/100\n",
            "2/2 [==============================] - 0s 4ms/step - loss: 22.0328 - mae: 22.0328\n",
            "Epoch 67/100\n",
            "2/2 [==============================] - 0s 8ms/step - loss: 10.6505 - mae: 10.6505\n",
            "Epoch 68/100\n",
            "2/2 [==============================] - 0s 3ms/step - loss: 10.8455 - mae: 10.8455\n",
            "Epoch 69/100\n",
            "2/2 [==============================] - 0s 3ms/step - loss: 23.0960 - mae: 23.0960\n",
            "Epoch 70/100\n",
            "2/2 [==============================] - 0s 4ms/step - loss: 8.7402 - mae: 8.7402\n",
            "Epoch 71/100\n",
            "2/2 [==============================] - 0s 3ms/step - loss: 15.8968 - mae: 15.8968\n",
            "Epoch 72/100\n",
            "2/2 [==============================] - 0s 10ms/step - loss: 6.7092 - mae: 6.7092\n",
            "Epoch 73/100\n",
            "2/2 [==============================] - 0s 3ms/step - loss: 10.6475 - mae: 10.6475\n",
            "Epoch 74/100\n",
            "2/2 [==============================] - 0s 6ms/step - loss: 24.6152 - mae: 24.6152\n",
            "Epoch 75/100\n",
            "2/2 [==============================] - 0s 3ms/step - loss: 8.7602 - mae: 8.7602\n",
            "Epoch 76/100\n",
            "2/2 [==============================] - 0s 8ms/step - loss: 11.9799 - mae: 11.9799\n",
            "Epoch 77/100\n",
            "2/2 [==============================] - 0s 4ms/step - loss: 16.6488 - mae: 16.6488\n",
            "Epoch 78/100\n",
            "2/2 [==============================] - 0s 5ms/step - loss: 9.2784 - mae: 9.2784\n",
            "Epoch 79/100\n",
            "2/2 [==============================] - 0s 15ms/step - loss: 24.4604 - mae: 24.4604\n",
            "Epoch 80/100\n",
            "2/2 [==============================] - 0s 8ms/step - loss: 27.4405 - mae: 27.4405\n",
            "Epoch 81/100\n",
            "2/2 [==============================] - 0s 3ms/step - loss: 11.7139 - mae: 11.7139\n",
            "Epoch 82/100\n",
            "2/2 [==============================] - 0s 3ms/step - loss: 11.6757 - mae: 11.6757\n",
            "Epoch 83/100\n",
            "2/2 [==============================] - 0s 5ms/step - loss: 17.9045 - mae: 17.9045\n",
            "Epoch 84/100\n",
            "2/2 [==============================] - 0s 4ms/step - loss: 7.0376 - mae: 7.0376\n",
            "Epoch 85/100\n",
            "2/2 [==============================] - 0s 4ms/step - loss: 15.1558 - mae: 15.1558\n",
            "Epoch 86/100\n",
            "2/2 [==============================] - 0s 5ms/step - loss: 15.1583 - mae: 15.1583\n",
            "Epoch 87/100\n",
            "2/2 [==============================] - 0s 5ms/step - loss: 19.8683 - mae: 19.8683\n",
            "Epoch 88/100\n",
            "2/2 [==============================] - 0s 8ms/step - loss: 30.7657 - mae: 30.7657\n",
            "Epoch 89/100\n",
            "2/2 [==============================] - 0s 5ms/step - loss: 9.7059 - mae: 9.7059\n",
            "Epoch 90/100\n",
            "2/2 [==============================] - 0s 4ms/step - loss: 21.5531 - mae: 21.5531\n",
            "Epoch 91/100\n",
            "2/2 [==============================] - 0s 7ms/step - loss: 9.5827 - mae: 9.5827\n",
            "Epoch 92/100\n",
            "2/2 [==============================] - 0s 6ms/step - loss: 18.2158 - mae: 18.2158\n",
            "Epoch 93/100\n",
            "2/2 [==============================] - 0s 6ms/step - loss: 7.1935 - mae: 7.1935\n",
            "Epoch 94/100\n",
            "2/2 [==============================] - 0s 7ms/step - loss: 17.4261 - mae: 17.4261\n",
            "Epoch 95/100\n",
            "2/2 [==============================] - 0s 5ms/step - loss: 11.1722 - mae: 11.1722\n",
            "Epoch 96/100\n",
            "2/2 [==============================] - 0s 5ms/step - loss: 18.9207 - mae: 18.9207\n",
            "Epoch 97/100\n",
            "2/2 [==============================] - 0s 5ms/step - loss: 12.2012 - mae: 12.2012\n",
            "Epoch 98/100\n",
            "2/2 [==============================] - 0s 3ms/step - loss: 11.2931 - mae: 11.2931\n",
            "Epoch 99/100\n",
            "2/2 [==============================] - 0s 3ms/step - loss: 13.4562 - mae: 13.4562\n",
            "Epoch 100/100\n",
            "2/2 [==============================] - 0s 4ms/step - loss: 20.1754 - mae: 20.1754\n"
          ],
          "name": "stdout"
        },
        {
          "output_type": "execute_result",
          "data": {
            "text/plain": [
              "<tensorflow.python.keras.callbacks.History at 0x7fc669cd1b10>"
            ]
          },
          "metadata": {
            "tags": []
          },
          "execution_count": 47
        }
      ]
    },
    {
      "cell_type": "code",
      "metadata": {
        "colab": {
          "base_uri": "https://localhost:8080/"
        },
        "id": "83C2qevhnpn6",
        "outputId": "bec2766e-fc41-4668-a42e-4ccddeedf479"
      },
      "source": [
        "model.summary()"
      ],
      "execution_count": null,
      "outputs": [
        {
          "output_type": "stream",
          "text": [
            "Model: \"one_of_the_many_models_we_build\"\n",
            "_________________________________________________________________\n",
            "Layer (type)                 Output Shape              Param #   \n",
            "=================================================================\n",
            "input_layer (Dense)          (None, 10)                20        \n",
            "_________________________________________________________________\n",
            "output_layer (Dense)         (None, 1)                 11        \n",
            "=================================================================\n",
            "Total params: 31\n",
            "Trainable params: 31\n",
            "Non-trainable params: 0\n",
            "_________________________________________________________________\n"
          ],
          "name": "stdout"
        }
      ]
    },
    {
      "cell_type": "code",
      "metadata": {
        "colab": {
          "base_uri": "https://localhost:8080/",
          "height": 312
        },
        "id": "Fle7XwUKnrTI",
        "outputId": "cd249553-b933-4320-ddb6-d83b9bd0d351"
      },
      "source": [
        "plot_model(model=model, show_shapes=True)"
      ],
      "execution_count": null,
      "outputs": [
        {
          "output_type": "execute_result",
          "data": {
            "image/png": "[encoded data removed]",
            "text/plain": [
              "<IPython.core.display.Image object>"
            ]
          },
          "metadata": {
            "tags": []
          },
          "execution_count": 49
        }
      ]
    },
    {
      "cell_type": "markdown",
      "metadata": {
        "id": "VNIAodnxn1Ul"
      },
      "source": [
        "##Visualize the model's predictions\n",
        "\n",
        "To visualize predictions, it's a good idea to plot them against the ground truth labels\n",
        "\n",
        "Often we see them in the form of y_test or y_true versus y_pred (the ground truth versus our model)"
      ]
    },
    {
      "cell_type": "code",
      "metadata": {
        "colab": {
          "base_uri": "https://localhost:8080/"
        },
        "id": "qqyosUcgl_mj",
        "outputId": "4b364864-3648-4ea3-f524-2bc5df9a989b"
      },
      "source": [
        "# Make some predictions\n",
        "\n",
        "y_pred = model.predict(X_test)\n",
        "y_pred"
      ],
      "execution_count": null,
      "outputs": [
        {
          "output_type": "stream",
          "text": [
            "WARNING:tensorflow:8 out of the last 8 calls to <function Model.make_predict_function.<locals>.predict_function at 0x7fc6699ae050> triggered tf.function retracing. Tracing is expensive and the excessive number of tracings could be due to (1) creating @tf.function repeatedly in a loop, (2) passing tensors with different shapes, (3) passing Python objects instead of tensors. For (1), please define your @tf.function outside of the loop. For (2), @tf.function has experimental_relax_shapes=True option that relaxes argument shapes that can avoid unnecessary retracing. For (3), please refer to https://www.tensorflow.org/guide/function#controlling_retracing and https://www.tensorflow.org/api_docs/python/tf/function for  more details.\n"
          ],
          "name": "stdout"
        },
        {
          "output_type": "execute_result",
          "data": {
            "text/plain": [
              "array([[ 70.55218 ],\n",
              "       [ 75.13991 ],\n",
              "       [ 79.72763 ],\n",
              "       [ 84.31535 ],\n",
              "       [ 88.903076],\n",
              "       [ 93.49081 ],\n",
              "       [ 98.07853 ],\n",
              "       [102.66625 ],\n",
              "       [107.253975],\n",
              "       [111.8417  ]], dtype=float32)"
            ]
          },
          "metadata": {
            "tags": []
          },
          "execution_count": 50
        }
      ]
    },
    {
      "cell_type": "code",
      "metadata": {
        "colab": {
          "base_uri": "https://localhost:8080/"
        },
        "id": "XmSp-MfCmglM",
        "outputId": "d8ba5a1c-fb52-42cb-958a-c12be1b014e6"
      },
      "source": [
        "y_test  # Ground truth labels"
      ],
      "execution_count": null,
      "outputs": [
        {
          "output_type": "execute_result",
          "data": {
            "text/plain": [
              "<tf.Tensor: shape=(10,), dtype=int32, numpy=array([ 70,  74,  78,  82,  86,  90,  94,  98, 102, 106], dtype=int32)>"
            ]
          },
          "metadata": {
            "tags": []
          },
          "execution_count": 51
        }
      ]
    },
    {
      "cell_type": "markdown",
      "metadata": {
        "id": "R5CQR1yxmyun"
      },
      "source": [
        "Note: If you think you'll use some functionality in the future, it's better to put it in a function"
      ]
    },
    {
      "cell_type": "code",
      "metadata": {
        "id": "T1uY4yVBmii3"
      },
      "source": [
        "# Let's create a plotting function\n",
        "\n",
        "def plot_predictions(train_data = X_train,\n",
        "                     train_labels=y_train,\n",
        "                     test_data=X_test,\n",
        "                     test_labels=y_test,\n",
        "                     predictions= y_pred):\n",
        "    \"\"\"\n",
        "    Plot the training data , test data and compares predictions to ground truth labels\n",
        "    \"\"\"\n",
        "    plt.figure(figsize=(10,10))\n",
        "    # Plot the training data in green\n",
        "\n",
        "    plt.scatter(train_data, train_labels, c=\"b\", label=\"Training Data\")\n",
        "    \n",
        "    #Plot the testing data in green \n",
        "\n",
        "    plt.scatter(test_data, test_labels, c=\"g\", label=\"Testing Data\")\n",
        "\n",
        "    # Plot the predictions in red\n",
        "\n",
        "    plt.scatter(test_data, predictions, c=\"r\", label=\"Predictions\")\n",
        "\n",
        "    plt.legend()"
      ],
      "execution_count": null,
      "outputs": []
    },
    {
      "cell_type": "code",
      "metadata": {
        "colab": {
          "base_uri": "https://localhost:8080/",
          "height": 592
        },
        "id": "wPZC_vksoEgG",
        "outputId": "79528344-c975-4539-f46a-4e18f02f0a77"
      },
      "source": [
        "plot_predictions(train_data = X_train,\n",
        "                     train_labels=y_train,\n",
        "                     test_data=X_test,\n",
        "                     test_labels=y_test,\n",
        "                     predictions= y_pred)"
      ],
      "execution_count": null,
      "outputs": [
        {
          "output_type": "display_data",
          "data": {
            "image/png": "[encoded data removed]",
            "text/plain": [
              "<Figure size 720x720 with 1 Axes>"
            ]
          },
          "metadata": {
            "tags": [],
            "needs_background": "light"
          }
        }
      ]
    },
    {
      "cell_type": "markdown",
      "metadata": {
        "id": "mi4B7UQMoGmO"
      },
      "source": [
        "## Evaluating our model's predictions with regression evaluation metrics\n",
        "\n",
        "Depending on the proble, there will be different evaluation metrics to evaluate our model\n",
        "\n",
        "Since our model is a regression model, two of the main metrics are:\n",
        "* MAE - mean absolute error \"on average how much absolute error (positive error = |error|) is present\"  - generally used as a starting point for any regression problem\n",
        "* MSE - mean square error \" on average how much squared error (squared error = error^2) is present\" - generally used when big errors have a huge impact on the efficiency and quality of model\n",
        "\n",
        "one more is:\n",
        "* Huber - It is a combination of MSE and MAE and is less affected by outliers than MSE"
      ]
    },
    {
      "cell_type": "code",
      "metadata": {
        "colab": {
          "base_uri": "https://localhost:8080/"
        },
        "id": "3IfpnLlEo4P0",
        "outputId": "c81728b5-cbed-4829-fe0e-efbbce03182b"
      },
      "source": [
        "# Evaluate the model on the test\n",
        "\n",
        "model.evaluate(X_test, y_test) #the output is loss and metrics: these are given during model compilation"
      ],
      "execution_count": null,
      "outputs": [
        {
          "output_type": "stream",
          "text": [
            "1/1 [==============================] - 0s 136ms/step - loss: 3.1969 - mae: 3.1969\n"
          ],
          "name": "stdout"
        },
        {
          "output_type": "execute_result",
          "data": {
            "text/plain": [
              "[3.1969451904296875, 3.1969451904296875]"
            ]
          },
          "metadata": {
            "tags": []
          },
          "execution_count": 54
        }
      ]
    },
    {
      "cell_type": "code",
      "metadata": {
        "colab": {
          "base_uri": "https://localhost:8080/"
        },
        "id": "7T2oSJAzqy_W",
        "outputId": "3a4e42ba-f5a8-4ed3-c501-2821fbb0f670"
      },
      "source": [
        "y_pred"
      ],
      "execution_count": null,
      "outputs": [
        {
          "output_type": "execute_result",
          "data": {
            "text/plain": [
              "array([[ 70.55218 ],\n",
              "       [ 75.13991 ],\n",
              "       [ 79.72763 ],\n",
              "       [ 84.31535 ],\n",
              "       [ 88.903076],\n",
              "       [ 93.49081 ],\n",
              "       [ 98.07853 ],\n",
              "       [102.66625 ],\n",
              "       [107.253975],\n",
              "       [111.8417  ]], dtype=float32)"
            ]
          },
          "metadata": {
            "tags": []
          },
          "execution_count": 55
        }
      ]
    },
    {
      "cell_type": "code",
      "metadata": {
        "colab": {
          "base_uri": "https://localhost:8080/"
        },
        "id": "_DFv2r6ErBas",
        "outputId": "8bf0e76a-3d82-4db1-d6de-8ebcdc6a8b6e"
      },
      "source": [
        "y_test"
      ],
      "execution_count": null,
      "outputs": [
        {
          "output_type": "execute_result",
          "data": {
            "text/plain": [
              "<tf.Tensor: shape=(10,), dtype=int32, numpy=array([ 70,  74,  78,  82,  86,  90,  94,  98, 102, 106], dtype=int32)>"
            ]
          },
          "metadata": {
            "tags": []
          },
          "execution_count": 56
        }
      ]
    },
    {
      "cell_type": "code",
      "metadata": {
        "colab": {
          "base_uri": "https://localhost:8080/"
        },
        "id": "UwAX95w5rCw_",
        "outputId": "90d7c404-e4bd-4d70-a2af-72319a3f968a"
      },
      "source": [
        "# Calculate mean absolute error\n",
        "\n",
        "mae = tf.metrics.mean_absolute_error(y_true= y_test, \n",
        "                                     y_pred = y_pred)\n",
        "# or tf.keras.metrics.mean_absolute_error()\n",
        "\n",
        "mae # This output will give an array of mae: This is because, the y_test has a shape of(10,) and y_pred has a shape of(10,1)"
      ],
      "execution_count": null,
      "outputs": [
        {
          "output_type": "execute_result",
          "data": {
            "text/plain": [
              "<tf.Tensor: shape=(10,), dtype=float32, numpy=\n",
              "array([17.558258 , 14.1160555, 11.708948 , 10.336929 , 10.       ,\n",
              "       10.698161 , 12.447118 , 15.333002 , 19.253975 , 23.841698 ],\n",
              "      dtype=float32)>"
            ]
          },
          "metadata": {
            "tags": []
          },
          "execution_count": 57
        }
      ]
    },
    {
      "cell_type": "code",
      "metadata": {
        "colab": {
          "base_uri": "https://localhost:8080/"
        },
        "id": "xgoAXblesrpf",
        "outputId": "4a3ebf00-1be7-40e9-c6bf-84ef4ef49e75"
      },
      "source": [
        "# We should remove the extra dimension from y_pred\n",
        "\n",
        "#Use tf.squeeze\n",
        "\n",
        "tf.squeeze(y_pred)"
      ],
      "execution_count": null,
      "outputs": [
        {
          "output_type": "execute_result",
          "data": {
            "text/plain": [
              "<tf.Tensor: shape=(10,), dtype=float32, numpy=\n",
              "array([ 70.55218 ,  75.13991 ,  79.72763 ,  84.31535 ,  88.903076,\n",
              "        93.49081 ,  98.07853 , 102.66625 , 107.253975, 111.8417  ],\n",
              "      dtype=float32)>"
            ]
          },
          "metadata": {
            "tags": []
          },
          "execution_count": 58
        }
      ]
    },
    {
      "cell_type": "code",
      "metadata": {
        "colab": {
          "base_uri": "https://localhost:8080/"
        },
        "id": "b2j0nFFNtdCs",
        "outputId": "449f48b3-14ac-4ab9-8222-ca580dfb0517"
      },
      "source": [
        "# Calculate the mean absolute error again\n",
        "\n",
        "mae = tf.metrics.mean_absolute_error(y_true=y_test,\n",
        "                                     y_pred=tf.squeeze(y_pred))\n",
        "mae  # same as the tf.evaluate()"
      ],
      "execution_count": null,
      "outputs": [
        {
          "output_type": "execute_result",
          "data": {
            "text/plain": [
              "<tf.Tensor: shape=(), dtype=float32, numpy=3.1969407>"
            ]
          },
          "metadata": {
            "tags": []
          },
          "execution_count": 59
        }
      ]
    },
    {
      "cell_type": "markdown",
      "metadata": {
        "id": "6P0YQQcNuA0I"
      },
      "source": [
        "#### Mean squared error"
      ]
    },
    {
      "cell_type": "code",
      "metadata": {
        "colab": {
          "base_uri": "https://localhost:8080/"
        },
        "id": "2HuOjmeatsh1",
        "outputId": "5d2cbc6b-834e-4229-de95-58d7b4fdf7dc"
      },
      "source": [
        "# Check the mean squared error\n",
        "\n",
        "mse = tf.metrics.mean_squared_error(y_true=y_test,\n",
        "                                    y_pred=tf.squeeze(y_pred))\n",
        "mse"
      ],
      "execution_count": null,
      "outputs": [
        {
          "output_type": "execute_result",
          "data": {
            "text/plain": [
              "<tf.Tensor: shape=(), dtype=float32, numpy=13.070143>"
            ]
          },
          "metadata": {
            "tags": []
          },
          "execution_count": 60
        }
      ]
    },
    {
      "cell_type": "markdown",
      "metadata": {
        "id": "J8Ifjnu8wPg6"
      },
      "source": [
        "### Done on own"
      ]
    },
    {
      "cell_type": "code",
      "metadata": {
        "colab": {
          "base_uri": "https://localhost:8080/"
        },
        "id": "lZWc20Bdt9Wg",
        "outputId": "24b9d2da-52c0-4088-88b7-9f5c650a1f67"
      },
      "source": [
        "std_dev = tf.math.reduce_std(tf.cast(y_train, tf.float32))\n",
        "huber = tf.keras.losses.huber(y_true=y_test, y_pred=tf.squeeze(y_pred), delta=std_dev)\n",
        "huber\n",
        "\n",
        "#Done on own"
      ],
      "execution_count": null,
      "outputs": [
        {
          "output_type": "execute_result",
          "data": {
            "text/plain": [
              "<tf.Tensor: shape=(), dtype=float32, numpy=6.5350714>"
            ]
          },
          "metadata": {
            "tags": []
          },
          "execution_count": 61
        }
      ]
    },
    {
      "cell_type": "markdown",
      "metadata": {
        "id": "U_r9ZMFAqLcW"
      },
      "source": [
        "On own ends"
      ]
    },
    {
      "cell_type": "markdown",
      "metadata": {
        "id": "3zqa3asewcr-"
      },
      "source": [
        "### make some functions to reuse MSE and MSE"
      ]
    },
    {
      "cell_type": "code",
      "metadata": {
        "id": "j6Uhv0zivEXz"
      },
      "source": [
        "def mae (y_true, y_pred):\n",
        "    return tf.metrics.mean_absolute_error(y_true=y_true,\n",
        "                                          y_pred= tf.squeeze(y_pred))\n",
        "    \n",
        "def mse (y_true, y_pred):\n",
        "    return tf.metrics.mean_squared_error(y_true=y_true,\n",
        "                                          y_pred= tf.squeeze(y_pred))"
      ],
      "execution_count": null,
      "outputs": []
    },
    {
      "cell_type": "markdown",
      "metadata": {
        "id": "x01z7VE3wsfl"
      },
      "source": [
        "### Running experiments to improve our model\n",
        "\n",
        "1. get more data - more examples for our model to train on\n",
        "2. make our model larger (using a more complex model) - ex: more layers, more hidden units in earch layer\n",
        "3. train for longer - give your model more time to find patterns"
      ]
    },
    {
      "cell_type": "markdown",
      "metadata": {
        "id": "kM-6dzqix9RS"
      },
      "source": [
        "Let's do 3 modelling experiments:\n",
        "1. `model-1` -same as the original model, 1 layer, trained for 100 epochs\n",
        "2. `model-2` -2 layer, trained for 100 epochs\n",
        "3. `model-3` -2 layer, trained for 500 epochs"
      ]
    },
    {
      "cell_type": "markdown",
      "metadata": {
        "id": "En5SK3u5ycfA"
      },
      "source": [
        "**Build model_1**"
      ]
    },
    {
      "cell_type": "code",
      "metadata": {
        "colab": {
          "base_uri": "https://localhost:8080/"
        },
        "id": "tGZmKwf5yhUC",
        "outputId": "17023cc9-8ef3-471f-867d-a716fb69d835"
      },
      "source": [
        "# set random seed\n",
        "tf.random.set_seed(42)\n",
        "\n",
        "# 1. Create the model\n",
        "\n",
        "model_1 = tf.keras.Sequential([ \n",
        "    tf.keras.layers.Dense(1)                                            \n",
        "])\n",
        "\n",
        "# 2. Compile the model\n",
        "\n",
        "model_1.compile(loss=tf.keras.losses.mae,\n",
        "              optimizer=tf.keras.optimizers.SGD(),\n",
        "              metrics=[tf.keras.metrics.mae])\n",
        "\n",
        "# 3. Fit the model\n",
        "\n",
        "model_1.fit(X_train, y_train, epochs=100)"
      ],
      "execution_count": null,
      "outputs": [
        {
          "output_type": "stream",
          "text": [
            "Epoch 1/100\n",
            "2/2 [==============================] - 0s 6ms/step - loss: 16.4124 - mean_absolute_error: 16.4124\n",
            "Epoch 2/100\n",
            "2/2 [==============================] - 0s 5ms/step - loss: 11.0829 - mean_absolute_error: 11.0829\n",
            "Epoch 3/100\n",
            "2/2 [==============================] - 0s 6ms/step - loss: 11.1242 - mean_absolute_error: 11.1242\n",
            "Epoch 4/100\n",
            "2/2 [==============================] - 0s 4ms/step - loss: 8.6945 - mean_absolute_error: 8.6945\n",
            "Epoch 5/100\n",
            "2/2 [==============================] - 0s 4ms/step - loss: 9.8003 - mean_absolute_error: 9.8003\n",
            "Epoch 6/100\n",
            "2/2 [==============================] - 0s 9ms/step - loss: 9.5263 - mean_absolute_error: 9.5263\n",
            "Epoch 7/100\n",
            "2/2 [==============================] - 0s 7ms/step - loss: 8.4102 - mean_absolute_error: 8.4102\n",
            "Epoch 8/100\n",
            "2/2 [==============================] - 0s 7ms/step - loss: 9.1449 - mean_absolute_error: 9.1449\n",
            "Epoch 9/100\n",
            "2/2 [==============================] - 0s 5ms/step - loss: 19.4932 - mean_absolute_error: 19.4932\n",
            "Epoch 10/100\n",
            "2/2 [==============================] - 0s 7ms/step - loss: 9.6061 - mean_absolute_error: 9.6061\n",
            "Epoch 11/100\n",
            "2/2 [==============================] - 0s 6ms/step - loss: 8.5992 - mean_absolute_error: 8.5992\n",
            "Epoch 12/100\n",
            "2/2 [==============================] - 0s 8ms/step - loss: 10.9324 - mean_absolute_error: 10.9324\n",
            "Epoch 13/100\n",
            "2/2 [==============================] - 0s 4ms/step - loss: 10.0574 - mean_absolute_error: 10.0574\n",
            "Epoch 14/100\n",
            "2/2 [==============================] - 0s 4ms/step - loss: 16.5679 - mean_absolute_error: 16.5679\n",
            "Epoch 15/100\n",
            "2/2 [==============================] - 0s 3ms/step - loss: 11.4537 - mean_absolute_error: 11.4537\n",
            "Epoch 16/100\n",
            "2/2 [==============================] - 0s 3ms/step - loss: 8.4056 - mean_absolute_error: 8.4056\n",
            "Epoch 17/100\n",
            "2/2 [==============================] - 0s 6ms/step - loss: 13.8417 - mean_absolute_error: 13.8417\n",
            "Epoch 18/100\n",
            "2/2 [==============================] - 0s 4ms/step - loss: 11.6621 - mean_absolute_error: 11.6621\n",
            "Epoch 19/100\n",
            "2/2 [==============================] - 0s 6ms/step - loss: 18.7623 - mean_absolute_error: 18.7623\n",
            "Epoch 20/100\n",
            "2/2 [==============================] - 0s 4ms/step - loss: 15.5702 - mean_absolute_error: 15.5702\n",
            "Epoch 21/100\n",
            "2/2 [==============================] - 0s 3ms/step - loss: 10.9959 - mean_absolute_error: 10.9959\n",
            "Epoch 22/100\n",
            "2/2 [==============================] - 0s 3ms/step - loss: 8.0023 - mean_absolute_error: 8.0023\n",
            "Epoch 23/100\n",
            "2/2 [==============================] - 0s 6ms/step - loss: 9.8593 - mean_absolute_error: 9.8593\n",
            "Epoch 24/100\n",
            "2/2 [==============================] - 0s 5ms/step - loss: 7.5796 - mean_absolute_error: 7.5796\n",
            "Epoch 25/100\n",
            "2/2 [==============================] - 0s 11ms/step - loss: 13.7226 - mean_absolute_error: 13.7226\n",
            "Epoch 26/100\n",
            "2/2 [==============================] - 0s 4ms/step - loss: 17.1740 - mean_absolute_error: 17.1740\n",
            "Epoch 27/100\n",
            "2/2 [==============================] - 0s 5ms/step - loss: 13.4233 - mean_absolute_error: 13.4233\n",
            "Epoch 28/100\n",
            "2/2 [==============================] - 0s 8ms/step - loss: 14.5473 - mean_absolute_error: 14.5473\n",
            "Epoch 29/100\n",
            "2/2 [==============================] - 0s 9ms/step - loss: 9.8753 - mean_absolute_error: 9.8753\n",
            "Epoch 30/100\n",
            "2/2 [==============================] - 0s 5ms/step - loss: 17.1187 - mean_absolute_error: 17.1187\n",
            "Epoch 31/100\n",
            "2/2 [==============================] - 0s 16ms/step - loss: 24.5949 - mean_absolute_error: 24.5949\n",
            "Epoch 32/100\n",
            "2/2 [==============================] - 0s 4ms/step - loss: 7.6765 - mean_absolute_error: 7.6765\n",
            "Epoch 33/100\n",
            "2/2 [==============================] - 0s 5ms/step - loss: 9.2971 - mean_absolute_error: 9.2971\n",
            "Epoch 34/100\n",
            "2/2 [==============================] - 0s 11ms/step - loss: 14.1703 - mean_absolute_error: 14.1703\n",
            "Epoch 35/100\n",
            "2/2 [==============================] - 0s 6ms/step - loss: 10.8635 - mean_absolute_error: 10.8635\n",
            "Epoch 36/100\n",
            "2/2 [==============================] - 0s 9ms/step - loss: 13.5689 - mean_absolute_error: 13.5689\n",
            "Epoch 37/100\n",
            "2/2 [==============================] - 0s 9ms/step - loss: 9.3448 - mean_absolute_error: 9.3448\n",
            "Epoch 38/100\n",
            "2/2 [==============================] - 0s 10ms/step - loss: 10.4804 - mean_absolute_error: 10.4804\n",
            "Epoch 39/100\n",
            "2/2 [==============================] - 0s 6ms/step - loss: 10.0178 - mean_absolute_error: 10.0178\n",
            "Epoch 40/100\n",
            "2/2 [==============================] - 0s 6ms/step - loss: 10.8005 - mean_absolute_error: 10.8005\n",
            "Epoch 41/100\n",
            "2/2 [==============================] - 0s 5ms/step - loss: 7.7789 - mean_absolute_error: 7.7789\n",
            "Epoch 42/100\n",
            "2/2 [==============================] - 0s 5ms/step - loss: 10.2844 - mean_absolute_error: 10.2844\n",
            "Epoch 43/100\n",
            "2/2 [==============================] - 0s 5ms/step - loss: 8.9628 - mean_absolute_error: 8.9628\n",
            "Epoch 44/100\n",
            "2/2 [==============================] - 0s 6ms/step - loss: 12.6243 - mean_absolute_error: 12.6243\n",
            "Epoch 45/100\n",
            "2/2 [==============================] - 0s 4ms/step - loss: 14.1236 - mean_absolute_error: 14.1236\n",
            "Epoch 46/100\n",
            "2/2 [==============================] - 0s 4ms/step - loss: 8.2681 - mean_absolute_error: 8.2681\n",
            "Epoch 47/100\n",
            "2/2 [==============================] - 0s 3ms/step - loss: 9.0126 - mean_absolute_error: 9.0126\n",
            "Epoch 48/100\n",
            "2/2 [==============================] - 0s 10ms/step - loss: 10.6882 - mean_absolute_error: 10.6882\n",
            "Epoch 49/100\n",
            "2/2 [==============================] - 0s 2ms/step - loss: 7.7431 - mean_absolute_error: 7.7431\n",
            "Epoch 50/100\n",
            "2/2 [==============================] - 0s 4ms/step - loss: 9.3950 - mean_absolute_error: 9.3950\n",
            "Epoch 51/100\n",
            "2/2 [==============================] - 0s 3ms/step - loss: 8.9267 - mean_absolute_error: 8.9267\n",
            "Epoch 52/100\n",
            "2/2 [==============================] - 0s 4ms/step - loss: 16.9818 - mean_absolute_error: 16.9818\n",
            "Epoch 53/100\n",
            "2/2 [==============================] - 0s 3ms/step - loss: 14.8677 - mean_absolute_error: 14.8677\n",
            "Epoch 54/100\n",
            "2/2 [==============================] - 0s 20ms/step - loss: 22.0413 - mean_absolute_error: 22.0413\n",
            "Epoch 55/100\n",
            "2/2 [==============================] - 0s 4ms/step - loss: 17.0640 - mean_absolute_error: 17.0640\n",
            "Epoch 56/100\n",
            "2/2 [==============================] - 0s 5ms/step - loss: 9.9520 - mean_absolute_error: 9.9520\n",
            "Epoch 57/100\n",
            "2/2 [==============================] - 0s 4ms/step - loss: 9.7522 - mean_absolute_error: 9.7522\n",
            "Epoch 58/100\n",
            "2/2 [==============================] - 0s 13ms/step - loss: 9.4378 - mean_absolute_error: 9.4378\n",
            "Epoch 59/100\n",
            "2/2 [==============================] - 0s 8ms/step - loss: 8.3373 - mean_absolute_error: 8.3373\n",
            "Epoch 60/100\n",
            "2/2 [==============================] - 0s 7ms/step - loss: 9.6425 - mean_absolute_error: 9.6425\n",
            "Epoch 61/100\n",
            "2/2 [==============================] - 0s 7ms/step - loss: 11.7590 - mean_absolute_error: 11.7590\n",
            "Epoch 62/100\n",
            "2/2 [==============================] - 0s 4ms/step - loss: 11.7187 - mean_absolute_error: 11.7187\n",
            "Epoch 63/100\n",
            "2/2 [==============================] - 0s 12ms/step - loss: 7.2316 - mean_absolute_error: 7.2316\n",
            "Epoch 64/100\n",
            "2/2 [==============================] - 0s 10ms/step - loss: 17.7848 - mean_absolute_error: 17.7848\n",
            "Epoch 65/100\n",
            "2/2 [==============================] - 0s 9ms/step - loss: 12.6255 - mean_absolute_error: 12.6255\n",
            "Epoch 66/100\n",
            "2/2 [==============================] - 0s 11ms/step - loss: 13.2840 - mean_absolute_error: 13.2840\n",
            "Epoch 67/100\n",
            "2/2 [==============================] - 0s 7ms/step - loss: 7.8471 - mean_absolute_error: 7.8471\n",
            "Epoch 68/100\n",
            "2/2 [==============================] - 0s 4ms/step - loss: 9.9708 - mean_absolute_error: 9.9708\n",
            "Epoch 69/100\n",
            "2/2 [==============================] - 0s 9ms/step - loss: 12.4903 - mean_absolute_error: 12.4903\n",
            "Epoch 70/100\n",
            "2/2 [==============================] - 0s 6ms/step - loss: 8.5001 - mean_absolute_error: 8.5001\n",
            "Epoch 71/100\n",
            "2/2 [==============================] - 0s 13ms/step - loss: 9.9996 - mean_absolute_error: 9.9996\n",
            "Epoch 72/100\n",
            "2/2 [==============================] - 0s 4ms/step - loss: 10.1797 - mean_absolute_error: 10.1797\n",
            "Epoch 73/100\n",
            "2/2 [==============================] - 0s 3ms/step - loss: 13.0024 - mean_absolute_error: 13.0024\n",
            "Epoch 74/100\n",
            "2/2 [==============================] - 0s 4ms/step - loss: 10.3812 - mean_absolute_error: 10.3812\n",
            "Epoch 75/100\n",
            "2/2 [==============================] - 0s 6ms/step - loss: 9.7621 - mean_absolute_error: 9.7621\n",
            "Epoch 76/100\n",
            "2/2 [==============================] - 0s 4ms/step - loss: 11.5186 - mean_absolute_error: 11.5186\n",
            "Epoch 77/100\n",
            "2/2 [==============================] - 0s 8ms/step - loss: 8.3070 - mean_absolute_error: 8.3070\n",
            "Epoch 78/100\n",
            "2/2 [==============================] - 0s 6ms/step - loss: 9.4436 - mean_absolute_error: 9.4436\n",
            "Epoch 79/100\n",
            "2/2 [==============================] - 0s 4ms/step - loss: 20.3897 - mean_absolute_error: 20.3897\n",
            "Epoch 80/100\n",
            "2/2 [==============================] - 0s 6ms/step - loss: 15.4751 - mean_absolute_error: 15.4751\n",
            "Epoch 81/100\n",
            "2/2 [==============================] - 0s 4ms/step - loss: 9.0208 - mean_absolute_error: 9.0208\n",
            "Epoch 82/100\n",
            "2/2 [==============================] - 0s 5ms/step - loss: 13.3869 - mean_absolute_error: 13.3869\n",
            "Epoch 83/100\n",
            "2/2 [==============================] - 0s 6ms/step - loss: 7.9649 - mean_absolute_error: 7.9649\n",
            "Epoch 84/100\n",
            "2/2 [==============================] - 0s 7ms/step - loss: 7.5702 - mean_absolute_error: 7.5702\n",
            "Epoch 85/100\n",
            "2/2 [==============================] - 0s 4ms/step - loss: 9.9706 - mean_absolute_error: 9.9706\n",
            "Epoch 86/100\n",
            "2/2 [==============================] - 0s 11ms/step - loss: 9.0533 - mean_absolute_error: 9.0533\n",
            "Epoch 87/100\n",
            "2/2 [==============================] - 0s 12ms/step - loss: 12.2670 - mean_absolute_error: 12.2670\n",
            "Epoch 88/100\n",
            "2/2 [==============================] - 0s 11ms/step - loss: 10.6052 - mean_absolute_error: 10.6052\n",
            "Epoch 89/100\n",
            "2/2 [==============================] - 0s 6ms/step - loss: 7.1986 - mean_absolute_error: 7.1986\n",
            "Epoch 90/100\n",
            "2/2 [==============================] - 0s 7ms/step - loss: 13.0379 - mean_absolute_error: 13.0379\n",
            "Epoch 91/100\n",
            "2/2 [==============================] - 0s 4ms/step - loss: 7.1968 - mean_absolute_error: 7.1968\n",
            "Epoch 92/100\n",
            "2/2 [==============================] - 0s 4ms/step - loss: 7.5386 - mean_absolute_error: 7.5386\n",
            "Epoch 93/100\n",
            "2/2 [==============================] - 0s 4ms/step - loss: 7.0932 - mean_absolute_error: 7.0932\n",
            "Epoch 94/100\n",
            "2/2 [==============================] - 0s 4ms/step - loss: 12.8860 - mean_absolute_error: 12.8860\n",
            "Epoch 95/100\n",
            "2/2 [==============================] - 0s 4ms/step - loss: 9.9620 - mean_absolute_error: 9.9620\n",
            "Epoch 96/100\n",
            "2/2 [==============================] - 0s 3ms/step - loss: 8.7739 - mean_absolute_error: 8.7739\n",
            "Epoch 97/100\n",
            "2/2 [==============================] - 0s 3ms/step - loss: 13.0861 - mean_absolute_error: 13.0861\n",
            "Epoch 98/100\n",
            "2/2 [==============================] - 0s 3ms/step - loss: 8.3848 - mean_absolute_error: 8.3848\n",
            "Epoch 99/100\n",
            "2/2 [==============================] - 0s 3ms/step - loss: 9.7828 - mean_absolute_error: 9.7828\n",
            "Epoch 100/100\n",
            "2/2 [==============================] - 0s 3ms/step - loss: 8.5252 - mean_absolute_error: 8.5252\n"
          ],
          "name": "stdout"
        },
        {
          "output_type": "execute_result",
          "data": {
            "text/plain": [
              "<tensorflow.python.keras.callbacks.History at 0x7fc669c1e890>"
            ]
          },
          "metadata": {
            "tags": []
          },
          "execution_count": 63
        }
      ]
    },
    {
      "cell_type": "code",
      "metadata": {
        "colab": {
          "base_uri": "https://localhost:8080/",
          "height": 629
        },
        "id": "edn5a3MAzVHi",
        "outputId": "32c1d278-9bd0-471a-db95-7e00fcc37c0e"
      },
      "source": [
        "# make and plot predictions for model_1\n",
        "y_pred_1 = model_1.predict(X_test)\n",
        "plot_predictions(predictions=y_pred_1)"
      ],
      "execution_count": null,
      "outputs": [
        {
          "output_type": "stream",
          "text": [
            "WARNING:tensorflow:9 out of the last 9 calls to <function Model.make_predict_function.<locals>.predict_function at 0x7fc667d60f80> triggered tf.function retracing. Tracing is expensive and the excessive number of tracings could be due to (1) creating @tf.function repeatedly in a loop, (2) passing tensors with different shapes, (3) passing Python objects instead of tensors. For (1), please define your @tf.function outside of the loop. For (2), @tf.function has experimental_relax_shapes=True option that relaxes argument shapes that can avoid unnecessary retracing. For (3), please refer to https://www.tensorflow.org/guide/function#controlling_retracing and https://www.tensorflow.org/api_docs/python/tf/function for  more details.\n"
          ],
          "name": "stdout"
        },
        {
          "output_type": "display_data",
          "data": {
            "image/png": "[encoded data removed]",
            "text/plain": [
              "<Figure size 720x720 with 1 Axes>"
            ]
          },
          "metadata": {
            "tags": [],
            "needs_background": "light"
          }
        }
      ]
    },
    {
      "cell_type": "code",
      "metadata": {
        "colab": {
          "base_uri": "https://localhost:8080/"
        },
        "id": "0lS6R9NA0FNH",
        "outputId": "9a7f6872-6793-453e-9619-c435ed9c7edf"
      },
      "source": [
        "# Calculate model_1 evaluation metrics\n",
        "mae_1 = mae(y_test, y_pred_1)\n",
        "mse_1 = mse(y_test, y_pred_1)\n",
        "mae_1, mse_1"
      ],
      "execution_count": null,
      "outputs": [
        {
          "output_type": "execute_result",
          "data": {
            "text/plain": [
              "(<tf.Tensor: shape=(), dtype=float32, numpy=18.745327>,\n",
              " <tf.Tensor: shape=(), dtype=float32, numpy=353.57336>)"
            ]
          },
          "metadata": {
            "tags": []
          },
          "execution_count": 65
        }
      ]
    },
    {
      "cell_type": "markdown",
      "metadata": {
        "id": "0PyJsdO70dMg"
      },
      "source": [
        "**Build model_2**\n",
        "\n",
        "2 dense layers running for 100 epochs"
      ]
    },
    {
      "cell_type": "code",
      "metadata": {
        "colab": {
          "base_uri": "https://localhost:8080/"
        },
        "id": "Xafuvmai0_Zs",
        "outputId": "ea938d04-ff50-4331-fe94-114e7a2175cf"
      },
      "source": [
        "# Set random seed\n",
        "tf.random.set_seed(42)\n",
        "\n",
        "\n",
        "# 1. Create the model\n",
        "model_2 = tf.keras.Sequential([\n",
        "    tf.keras.layers.Dense(10),\n",
        "    tf.keras.layers.Dense(1)\n",
        "])\n",
        "\n",
        "model_2.compile(loss=tf.keras.losses.mae,\n",
        "              optimizer=tf.keras.optimizers.SGD(),\n",
        "              metrics=[\"mse\"])\n",
        "\n",
        "model_2.fit(X_train, y_train, epochs=100)"
      ],
      "execution_count": null,
      "outputs": [
        {
          "output_type": "stream",
          "text": [
            "Epoch 1/100\n",
            "2/2 [==============================] - 0s 8ms/step - loss: 26.8627 - mse: 1015.8977\n",
            "Epoch 2/100\n",
            "2/2 [==============================] - 0s 6ms/step - loss: 24.4175 - mse: 767.5334\n",
            "Epoch 3/100\n",
            "2/2 [==============================] - 0s 7ms/step - loss: 31.5187 - mse: 1433.3082\n",
            "Epoch 4/100\n",
            "2/2 [==============================] - 0s 4ms/step - loss: 27.8490 - mse: 1141.6672\n",
            "Epoch 5/100\n",
            "2/2 [==============================] - 0s 7ms/step - loss: 14.6465 - mse: 267.4541\n",
            "Epoch 6/100\n",
            "2/2 [==============================] - 0s 8ms/step - loss: 11.9682 - mse: 169.5529\n",
            "Epoch 7/100\n",
            "2/2 [==============================] - 0s 3ms/step - loss: 11.0874 - mse: 141.6589\n",
            "Epoch 8/100\n",
            "2/2 [==============================] - 0s 6ms/step - loss: 11.3978 - mse: 167.3422\n",
            "Epoch 9/100\n",
            "2/2 [==============================] - 0s 6ms/step - loss: 42.4087 - mse: 2772.5432\n",
            "Epoch 10/100\n",
            "2/2 [==============================] - 0s 6ms/step - loss: 28.3537 - mse: 1129.8183\n",
            "Epoch 11/100\n",
            "2/2 [==============================] - 0s 4ms/step - loss: 9.6590 - mse: 132.9751\n",
            "Epoch 12/100\n",
            "2/2 [==============================] - 0s 4ms/step - loss: 25.8820 - mse: 933.4347\n",
            "Epoch 13/100\n",
            "2/2 [==============================] - 0s 3ms/step - loss: 16.7682 - mse: 398.1735\n",
            "Epoch 14/100\n",
            "2/2 [==============================] - 0s 5ms/step - loss: 26.6019 - mse: 1102.2358\n",
            "Epoch 15/100\n",
            "2/2 [==============================] - 0s 4ms/step - loss: 17.7361 - mse: 441.0350\n",
            "Epoch 16/100\n",
            "2/2 [==============================] - 0s 4ms/step - loss: 7.4550 - mse: 81.2729\n",
            "Epoch 17/100\n",
            "2/2 [==============================] - 0s 7ms/step - loss: 10.6974 - mse: 163.8851\n",
            "Epoch 18/100\n",
            "2/2 [==============================] - 0s 3ms/step - loss: 20.7691 - mse: 610.4135\n",
            "Epoch 19/100\n",
            "2/2 [==============================] - 0s 7ms/step - loss: 9.6535 - mse: 146.6566\n",
            "Epoch 20/100\n",
            "2/2 [==============================] - 0s 4ms/step - loss: 18.4600 - mse: 487.0986\n",
            "Epoch 21/100\n",
            "2/2 [==============================] - 0s 5ms/step - loss: 16.2352 - mse: 362.8490\n",
            "Epoch 22/100\n",
            "2/2 [==============================] - 0s 4ms/step - loss: 14.5012 - mse: 290.6680\n",
            "Epoch 23/100\n",
            "2/2 [==============================] - 0s 4ms/step - loss: 8.6493 - mse: 88.0710\n",
            "Epoch 24/100\n",
            "2/2 [==============================] - 0s 4ms/step - loss: 10.4430 - mse: 131.0228\n",
            "Epoch 25/100\n",
            "2/2 [==============================] - 0s 8ms/step - loss: 12.8060 - mse: 237.9437\n",
            "Epoch 26/100\n",
            "2/2 [==============================] - 0s 5ms/step - loss: 26.8011 - mse: 1075.4349\n",
            "Epoch 27/100\n",
            "2/2 [==============================] - 0s 4ms/step - loss: 12.0333 - mse: 202.1001\n",
            "Epoch 28/100\n",
            "2/2 [==============================] - 0s 5ms/step - loss: 23.4573 - mse: 871.2025\n",
            "Epoch 29/100\n",
            "2/2 [==============================] - 0s 4ms/step - loss: 9.1266 - mse: 92.4710\n",
            "Epoch 30/100\n",
            "2/2 [==============================] - 0s 3ms/step - loss: 31.1804 - mse: 1657.8954\n",
            "Epoch 31/100\n",
            "2/2 [==============================] - 0s 4ms/step - loss: 56.8211 - mse: 5441.4574\n",
            "Epoch 32/100\n",
            "2/2 [==============================] - 0s 11ms/step - loss: 12.2909 - mse: 221.1294\n",
            "Epoch 33/100\n",
            "2/2 [==============================] - 0s 3ms/step - loss: 15.3304 - mse: 330.0120\n",
            "Epoch 34/100\n",
            "2/2 [==============================] - 0s 3ms/step - loss: 12.8145 - mse: 215.9797\n",
            "Epoch 35/100\n",
            "2/2 [==============================] - 0s 3ms/step - loss: 9.4721 - mse: 95.5154\n",
            "Epoch 36/100\n",
            "2/2 [==============================] - 0s 3ms/step - loss: 16.6526 - mse: 404.8040\n",
            "Epoch 37/100\n",
            "2/2 [==============================] - 0s 3ms/step - loss: 10.4634 - mse: 169.1310\n",
            "Epoch 38/100\n",
            "2/2 [==============================] - 0s 4ms/step - loss: 18.7760 - mse: 459.8314\n",
            "Epoch 39/100\n",
            "2/2 [==============================] - 0s 4ms/step - loss: 20.1198 - mse: 569.0893\n",
            "Epoch 40/100\n",
            "2/2 [==============================] - 0s 4ms/step - loss: 21.4944 - mse: 654.6215\n",
            "Epoch 41/100\n",
            "2/2 [==============================] - 0s 4ms/step - loss: 14.5667 - mse: 268.1429\n",
            "Epoch 42/100\n",
            "2/2 [==============================] - 0s 6ms/step - loss: 12.2999 - mse: 188.8544\n",
            "Epoch 43/100\n",
            "2/2 [==============================] - 0s 4ms/step - loss: 11.1115 - mse: 175.7055\n",
            "Epoch 44/100\n",
            "2/2 [==============================] - 0s 3ms/step - loss: 23.5895 - mse: 869.7923\n",
            "Epoch 45/100\n",
            "2/2 [==============================] - 0s 6ms/step - loss: 9.9461 - mse: 113.3929\n",
            "Epoch 46/100\n",
            "2/2 [==============================] - 0s 3ms/step - loss: 12.0273 - mse: 188.4640\n",
            "Epoch 47/100\n",
            "2/2 [==============================] - 0s 3ms/step - loss: 9.0557 - mse: 132.7936\n",
            "Epoch 48/100\n",
            "2/2 [==============================] - 0s 4ms/step - loss: 17.8711 - mse: 427.6238\n",
            "Epoch 49/100\n",
            "2/2 [==============================] - 0s 4ms/step - loss: 9.5485 - mse: 96.8224\n",
            "Epoch 50/100\n",
            "2/2 [==============================] - 0s 5ms/step - loss: 13.7912 - mse: 256.8746\n",
            "Epoch 51/100\n",
            "2/2 [==============================] - 0s 14ms/step - loss: 11.2969 - mse: 145.4000\n",
            "Epoch 52/100\n",
            "2/2 [==============================] - 0s 7ms/step - loss: 32.1753 - mse: 1732.7585\n",
            "Epoch 53/100\n",
            "2/2 [==============================] - 0s 14ms/step - loss: 14.1257 - mse: 300.5093\n",
            "Epoch 54/100\n",
            "2/2 [==============================] - 0s 3ms/step - loss: 24.3921 - mse: 897.0252\n",
            "Epoch 55/100\n",
            "2/2 [==============================] - 0s 5ms/step - loss: 23.5967 - mse: 834.7571\n",
            "Epoch 56/100\n",
            "2/2 [==============================] - 0s 6ms/step - loss: 10.0101 - mse: 137.5419\n",
            "Epoch 57/100\n",
            "2/2 [==============================] - 0s 3ms/step - loss: 12.4333 - mse: 186.3946\n",
            "Epoch 58/100\n",
            "2/2 [==============================] - 0s 11ms/step - loss: 9.4491 - mse: 96.3009\n",
            "Epoch 59/100\n",
            "2/2 [==============================] - 0s 13ms/step - loss: 12.6438 - mse: 218.5184\n",
            "Epoch 60/100\n",
            "2/2 [==============================] - 0s 18ms/step - loss: 12.3168 - mse: 208.3239\n",
            "Epoch 61/100\n",
            "2/2 [==============================] - 0s 17ms/step - loss: 17.1832 - mse: 422.8597\n",
            "Epoch 62/100\n",
            "2/2 [==============================] - 0s 4ms/step - loss: 10.4860 - mse: 128.6799\n",
            "Epoch 63/100\n",
            "2/2 [==============================] - 0s 9ms/step - loss: 10.8072 - mse: 160.7222\n",
            "Epoch 64/100\n",
            "2/2 [==============================] - 0s 8ms/step - loss: 25.2892 - mse: 945.1685\n",
            "Epoch 65/100\n",
            "2/2 [==============================] - 0s 4ms/step - loss: 10.7923 - mse: 145.3387\n",
            "Epoch 66/100\n",
            "2/2 [==============================] - 0s 5ms/step - loss: 22.0328 - mse: 725.3462\n",
            "Epoch 67/100\n",
            "2/2 [==============================] - 0s 9ms/step - loss: 10.6505 - mse: 132.1476\n",
            "Epoch 68/100\n",
            "2/2 [==============================] - 0s 5ms/step - loss: 10.8455 - mse: 155.3464\n",
            "Epoch 69/100\n",
            "2/2 [==============================] - 0s 4ms/step - loss: 23.0960 - mse: 770.1602\n",
            "Epoch 70/100\n",
            "2/2 [==============================] - 0s 8ms/step - loss: 8.7402 - mse: 139.4087\n",
            "Epoch 71/100\n",
            "2/2 [==============================] - 0s 4ms/step - loss: 15.8968 - mse: 339.6098\n",
            "Epoch 72/100\n",
            "2/2 [==============================] - 0s 15ms/step - loss: 6.7092 - mse: 66.6670\n",
            "Epoch 73/100\n",
            "2/2 [==============================] - 0s 7ms/step - loss: 10.6475 - mse: 146.9912\n",
            "Epoch 74/100\n",
            "2/2 [==============================] - 0s 5ms/step - loss: 24.6152 - mse: 948.2740\n",
            "Epoch 75/100\n",
            "2/2 [==============================] - 0s 3ms/step - loss: 8.7602 - mse: 119.7264\n",
            "Epoch 76/100\n",
            "2/2 [==============================] - 0s 10ms/step - loss: 11.9799 - mse: 172.5533\n",
            "Epoch 77/100\n",
            "2/2 [==============================] - 0s 4ms/step - loss: 16.6488 - mse: 432.3298\n",
            "Epoch 78/100\n",
            "2/2 [==============================] - 0s 4ms/step - loss: 9.2784 - mse: 98.6556\n",
            "Epoch 79/100\n",
            "2/2 [==============================] - 0s 6ms/step - loss: 24.4604 - mse: 902.0726\n",
            "Epoch 80/100\n",
            "2/2 [==============================] - 0s 4ms/step - loss: 27.4405 - mse: 1158.6086\n",
            "Epoch 81/100\n",
            "2/2 [==============================] - 0s 4ms/step - loss: 11.7139 - mse: 170.4368\n",
            "Epoch 82/100\n",
            "2/2 [==============================] - 0s 3ms/step - loss: 11.6757 - mse: 196.1245\n",
            "Epoch 83/100\n",
            "2/2 [==============================] - 0s 6ms/step - loss: 17.9045 - mse: 414.3998\n",
            "Epoch 84/100\n",
            "2/2 [==============================] - 0s 6ms/step - loss: 7.0376 - mse: 70.0240\n",
            "Epoch 85/100\n",
            "2/2 [==============================] - 0s 4ms/step - loss: 15.1558 - mse: 321.1296\n",
            "Epoch 86/100\n",
            "2/2 [==============================] - 0s 3ms/step - loss: 15.1583 - mse: 311.4817\n",
            "Epoch 87/100\n",
            "2/2 [==============================] - 0s 5ms/step - loss: 19.8683 - mse: 554.4750\n",
            "Epoch 88/100\n",
            "2/2 [==============================] - 0s 3ms/step - loss: 30.7657 - mse: 1357.5454\n",
            "Epoch 89/100\n",
            "2/2 [==============================] - 0s 6ms/step - loss: 9.7059 - mse: 108.4962\n",
            "Epoch 90/100\n",
            "2/2 [==============================] - 0s 6ms/step - loss: 21.5531 - mse: 674.2966\n",
            "Epoch 91/100\n",
            "2/2 [==============================] - 0s 3ms/step - loss: 9.5827 - mse: 128.0419\n",
            "Epoch 92/100\n",
            "2/2 [==============================] - 0s 4ms/step - loss: 18.2158 - mse: 463.7714\n",
            "Epoch 93/100\n",
            "2/2 [==============================] - 0s 4ms/step - loss: 7.1935 - mse: 75.5075\n",
            "Epoch 94/100\n",
            "2/2 [==============================] - 0s 6ms/step - loss: 17.4261 - mse: 438.1330\n",
            "Epoch 95/100\n",
            "2/2 [==============================] - 0s 6ms/step - loss: 11.1722 - mse: 164.3355\n",
            "Epoch 96/100\n",
            "2/2 [==============================] - 0s 3ms/step - loss: 18.9207 - mse: 491.7021\n",
            "Epoch 97/100\n",
            "2/2 [==============================] - 0s 6ms/step - loss: 12.2012 - mse: 208.9876\n",
            "Epoch 98/100\n",
            "2/2 [==============================] - 0s 6ms/step - loss: 11.2931 - mse: 158.5947\n",
            "Epoch 99/100\n",
            "2/2 [==============================] - 0s 6ms/step - loss: 13.4562 - mse: 254.5623\n",
            "Epoch 100/100\n",
            "2/2 [==============================] - 0s 4ms/step - loss: 20.1754 - mse: 612.1692\n"
          ],
          "name": "stdout"
        },
        {
          "output_type": "execute_result",
          "data": {
            "text/plain": [
              "<tensorflow.python.keras.callbacks.History at 0x7fc66a028390>"
            ]
          },
          "metadata": {
            "tags": []
          },
          "execution_count": 66
        }
      ]
    },
    {
      "cell_type": "code",
      "metadata": {
        "colab": {
          "base_uri": "https://localhost:8080/",
          "height": 629
        },
        "id": "hbQVnPMr1nFH",
        "outputId": "5ad68f4d-4002-4c69-8550-428430de3d81"
      },
      "source": [
        "y_pred_2 = model_2.predict(X_test)\n",
        "plot_predictions(predictions=y_pred_2)"
      ],
      "execution_count": null,
      "outputs": [
        {
          "output_type": "stream",
          "text": [
            "WARNING:tensorflow:10 out of the last 10 calls to <function Model.make_predict_function.<locals>.predict_function at 0x7fc669aa1dd0> triggered tf.function retracing. Tracing is expensive and the excessive number of tracings could be due to (1) creating @tf.function repeatedly in a loop, (2) passing tensors with different shapes, (3) passing Python objects instead of tensors. For (1), please define your @tf.function outside of the loop. For (2), @tf.function has experimental_relax_shapes=True option that relaxes argument shapes that can avoid unnecessary retracing. For (3), please refer to https://www.tensorflow.org/guide/function#controlling_retracing and https://www.tensorflow.org/api_docs/python/tf/function for  more details.\n"
          ],
          "name": "stdout"
        },
        {
          "output_type": "display_data",
          "data": {
            "image/png": "[encoded data removed]",
            "text/plain": [
              "<Figure size 720x720 with 1 Axes>"
            ]
          },
          "metadata": {
            "tags": [],
            "needs_background": "light"
          }
        }
      ]
    },
    {
      "cell_type": "code",
      "metadata": {
        "colab": {
          "base_uri": "https://localhost:8080/"
        },
        "id": "JNAOPpmH10Ay",
        "outputId": "0f9d8a96-ccd6-49ad-83ca-312b600c93c3"
      },
      "source": [
        "mae_2 = mae(y_test, y_pred_2)\n",
        "mse_2 = mse(y_test, y_pred_2)\n",
        "\n",
        "mae_2, mse_2"
      ],
      "execution_count": null,
      "outputs": [
        {
          "output_type": "execute_result",
          "data": {
            "text/plain": [
              "(<tf.Tensor: shape=(), dtype=float32, numpy=3.1969407>,\n",
              " <tf.Tensor: shape=(), dtype=float32, numpy=13.070143>)"
            ]
          },
          "metadata": {
            "tags": []
          },
          "execution_count": 68
        }
      ]
    },
    {
      "cell_type": "markdown",
      "metadata": {
        "id": "hglqcxAT3NxH"
      },
      "source": [
        "**Build model_3**\n",
        "Build model of 2 layers trained for 500 epochs"
      ]
    },
    {
      "cell_type": "code",
      "metadata": {
        "colab": {
          "base_uri": "https://localhost:8080/"
        },
        "id": "R9NTsj4e3yGp",
        "outputId": "406675c8-127a-42cf-d575-982c0a97252d"
      },
      "source": [
        "# Set random seed\n",
        "tf.random.set_seed(42)\n",
        "\n",
        "# 1. Create the model\n",
        "\n",
        "model_3= tf.keras.Sequential([\n",
        "    tf.keras.layers.Dense(10),\n",
        "    tf.keras.layers.Dense(1)\n",
        "])\n",
        "\n",
        "# 2. Compile the model\n",
        "\n",
        "model_3.compile(loss=tf.keras.losses.mae,\n",
        "                optimizer=tf.keras.optimizers.SGD(),\n",
        "                metrics=[\"mse\"])\n",
        "\n",
        "# 3. Fit the model\n",
        "\n",
        "model_3.fit(X_train, y_train, epochs=500)"
      ],
      "execution_count": null,
      "outputs": [
        {
          "output_type": "stream",
          "text": [
            "Epoch 1/500\n",
            "2/2 [==============================] - 0s 4ms/step - loss: 26.8627 - mse: 1015.8977\n",
            "Epoch 2/500\n",
            "2/2 [==============================] - 0s 4ms/step - loss: 24.4175 - mse: 767.5334\n",
            "Epoch 3/500\n",
            "2/2 [==============================] - 0s 3ms/step - loss: 31.5187 - mse: 1433.3082\n",
            "Epoch 4/500\n",
            "2/2 [==============================] - 0s 7ms/step - loss: 27.8490 - mse: 1141.6672\n",
            "Epoch 5/500\n",
            "2/2 [==============================] - 0s 5ms/step - loss: 14.6465 - mse: 267.4541\n",
            "Epoch 6/500\n",
            "2/2 [==============================] - 0s 4ms/step - loss: 11.9682 - mse: 169.5529\n",
            "Epoch 7/500\n",
            "2/2 [==============================] - 0s 6ms/step - loss: 11.0874 - mse: 141.6589\n",
            "Epoch 8/500\n",
            "2/2 [==============================] - 0s 3ms/step - loss: 11.3978 - mse: 167.3422\n",
            "Epoch 9/500\n",
            "2/2 [==============================] - 0s 5ms/step - loss: 42.4087 - mse: 2772.5432\n",
            "Epoch 10/500\n",
            "2/2 [==============================] - 0s 4ms/step - loss: 28.3537 - mse: 1129.8183\n",
            "Epoch 11/500\n",
            "2/2 [==============================] - 0s 5ms/step - loss: 9.6590 - mse: 132.9751\n",
            "Epoch 12/500\n",
            "2/2 [==============================] - 0s 4ms/step - loss: 25.8820 - mse: 933.4347\n",
            "Epoch 13/500\n",
            "2/2 [==============================] - 0s 6ms/step - loss: 16.7682 - mse: 398.1735\n",
            "Epoch 14/500\n",
            "2/2 [==============================] - 0s 4ms/step - loss: 26.6019 - mse: 1102.2358\n",
            "Epoch 15/500\n",
            "2/2 [==============================] - 0s 3ms/step - loss: 17.7361 - mse: 441.0350\n",
            "Epoch 16/500\n",
            "2/2 [==============================] - 0s 4ms/step - loss: 7.4550 - mse: 81.2729\n",
            "Epoch 17/500\n",
            "2/2 [==============================] - 0s 10ms/step - loss: 10.6974 - mse: 163.8851\n",
            "Epoch 18/500\n",
            "2/2 [==============================] - 0s 5ms/step - loss: 20.7691 - mse: 610.4135\n",
            "Epoch 19/500\n",
            "2/2 [==============================] - 0s 6ms/step - loss: 9.6535 - mse: 146.6566\n",
            "Epoch 20/500\n",
            "2/2 [==============================] - 0s 3ms/step - loss: 18.4600 - mse: 487.0986\n",
            "Epoch 21/500\n",
            "2/2 [==============================] - 0s 3ms/step - loss: 16.2352 - mse: 362.8490\n",
            "Epoch 22/500\n",
            "2/2 [==============================] - 0s 4ms/step - loss: 14.5012 - mse: 290.6680\n",
            "Epoch 23/500\n",
            "2/2 [==============================] - 0s 3ms/step - loss: 8.6493 - mse: 88.0710\n",
            "Epoch 24/500\n",
            "2/2 [==============================] - 0s 4ms/step - loss: 10.4430 - mse: 131.0228\n",
            "Epoch 25/500\n",
            "2/2 [==============================] - 0s 3ms/step - loss: 12.8060 - mse: 237.9437\n",
            "Epoch 26/500\n",
            "2/2 [==============================] - 0s 3ms/step - loss: 26.8011 - mse: 1075.4349\n",
            "Epoch 27/500\n",
            "2/2 [==============================] - 0s 3ms/step - loss: 12.0333 - mse: 202.1001\n",
            "Epoch 28/500\n",
            "2/2 [==============================] - 0s 5ms/step - loss: 23.4573 - mse: 871.2025\n",
            "Epoch 29/500\n",
            "2/2 [==============================] - 0s 3ms/step - loss: 9.1266 - mse: 92.4710\n",
            "Epoch 30/500\n",
            "2/2 [==============================] - 0s 5ms/step - loss: 31.1804 - mse: 1657.8954\n",
            "Epoch 31/500\n",
            "2/2 [==============================] - 0s 3ms/step - loss: 56.8211 - mse: 5441.4574\n",
            "Epoch 32/500\n",
            "2/2 [==============================] - 0s 5ms/step - loss: 12.2909 - mse: 221.1294\n",
            "Epoch 33/500\n",
            "2/2 [==============================] - 0s 4ms/step - loss: 15.3304 - mse: 330.0120\n",
            "Epoch 34/500\n",
            "2/2 [==============================] - 0s 3ms/step - loss: 12.8145 - mse: 215.9797\n",
            "Epoch 35/500\n",
            "2/2 [==============================] - 0s 3ms/step - loss: 9.4721 - mse: 95.5154\n",
            "Epoch 36/500\n",
            "2/2 [==============================] - 0s 3ms/step - loss: 16.6526 - mse: 404.8040\n",
            "Epoch 37/500\n",
            "2/2 [==============================] - 0s 3ms/step - loss: 10.4634 - mse: 169.1310\n",
            "Epoch 38/500\n",
            "2/2 [==============================] - 0s 3ms/step - loss: 18.7760 - mse: 459.8314\n",
            "Epoch 39/500\n",
            "2/2 [==============================] - 0s 6ms/step - loss: 20.1198 - mse: 569.0893\n",
            "Epoch 40/500\n",
            "2/2 [==============================] - 0s 4ms/step - loss: 21.4944 - mse: 654.6215\n",
            "Epoch 41/500\n",
            "2/2 [==============================] - 0s 4ms/step - loss: 14.5667 - mse: 268.1429\n",
            "Epoch 42/500\n",
            "2/2 [==============================] - 0s 3ms/step - loss: 12.2999 - mse: 188.8544\n",
            "Epoch 43/500\n",
            "2/2 [==============================] - 0s 3ms/step - loss: 11.1115 - mse: 175.7055\n",
            "Epoch 44/500\n",
            "2/2 [==============================] - 0s 3ms/step - loss: 23.5895 - mse: 869.7923\n",
            "Epoch 45/500\n",
            "2/2 [==============================] - 0s 3ms/step - loss: 9.9461 - mse: 113.3929\n",
            "Epoch 46/500\n",
            "2/2 [==============================] - 0s 3ms/step - loss: 12.0273 - mse: 188.4640\n",
            "Epoch 47/500\n",
            "2/2 [==============================] - 0s 4ms/step - loss: 9.0557 - mse: 132.7936\n",
            "Epoch 48/500\n",
            "2/2 [==============================] - 0s 7ms/step - loss: 17.8711 - mse: 427.6238\n",
            "Epoch 49/500\n",
            "2/2 [==============================] - 0s 9ms/step - loss: 9.5485 - mse: 96.8224\n",
            "Epoch 50/500\n",
            "2/2 [==============================] - 0s 4ms/step - loss: 13.7912 - mse: 256.8746\n",
            "Epoch 51/500\n",
            "2/2 [==============================] - 0s 8ms/step - loss: 11.2969 - mse: 145.4000\n",
            "Epoch 52/500\n",
            "2/2 [==============================] - 0s 7ms/step - loss: 32.1753 - mse: 1732.7585\n",
            "Epoch 53/500\n",
            "2/2 [==============================] - 0s 4ms/step - loss: 14.1257 - mse: 300.5093\n",
            "Epoch 54/500\n",
            "2/2 [==============================] - 0s 4ms/step - loss: 24.3921 - mse: 897.0252\n",
            "Epoch 55/500\n",
            "2/2 [==============================] - 0s 4ms/step - loss: 23.5967 - mse: 834.7571\n",
            "Epoch 56/500\n",
            "2/2 [==============================] - 0s 3ms/step - loss: 10.0101 - mse: 137.5419\n",
            "Epoch 57/500\n",
            "2/2 [==============================] - 0s 3ms/step - loss: 12.4333 - mse: 186.3946\n",
            "Epoch 58/500\n",
            "2/2 [==============================] - 0s 3ms/step - loss: 9.4491 - mse: 96.3009\n",
            "Epoch 59/500\n",
            "2/2 [==============================] - 0s 4ms/step - loss: 12.6438 - mse: 218.5184\n",
            "Epoch 60/500\n",
            "2/2 [==============================] - 0s 4ms/step - loss: 12.3168 - mse: 208.3239\n",
            "Epoch 61/500\n",
            "2/2 [==============================] - 0s 3ms/step - loss: 17.1832 - mse: 422.8597\n",
            "Epoch 62/500\n",
            "2/2 [==============================] - 0s 4ms/step - loss: 10.4860 - mse: 128.6799\n",
            "Epoch 63/500\n",
            "2/2 [==============================] - 0s 4ms/step - loss: 10.8072 - mse: 160.7222\n",
            "Epoch 64/500\n",
            "2/2 [==============================] - 0s 7ms/step - loss: 25.2892 - mse: 945.1685\n",
            "Epoch 65/500\n",
            "2/2 [==============================] - 0s 4ms/step - loss: 10.7923 - mse: 145.3387\n",
            "Epoch 66/500\n",
            "2/2 [==============================] - 0s 3ms/step - loss: 22.0328 - mse: 725.3462\n",
            "Epoch 67/500\n",
            "2/2 [==============================] - 0s 4ms/step - loss: 10.6505 - mse: 132.1476\n",
            "Epoch 68/500\n",
            "2/2 [==============================] - 0s 4ms/step - loss: 10.8455 - mse: 155.3464\n",
            "Epoch 69/500\n",
            "2/2 [==============================] - 0s 3ms/step - loss: 23.0960 - mse: 770.1602\n",
            "Epoch 70/500\n",
            "2/2 [==============================] - 0s 4ms/step - loss: 8.7402 - mse: 139.4087\n",
            "Epoch 71/500\n",
            "2/2 [==============================] - 0s 3ms/step - loss: 15.8968 - mse: 339.6098\n",
            "Epoch 72/500\n",
            "2/2 [==============================] - 0s 4ms/step - loss: 6.7092 - mse: 66.6670\n",
            "Epoch 73/500\n",
            "2/2 [==============================] - 0s 3ms/step - loss: 10.6475 - mse: 146.9912\n",
            "Epoch 74/500\n",
            "2/2 [==============================] - 0s 3ms/step - loss: 24.6152 - mse: 948.2740\n",
            "Epoch 75/500\n",
            "2/2 [==============================] - 0s 6ms/step - loss: 8.7602 - mse: 119.7264\n",
            "Epoch 76/500\n",
            "2/2 [==============================] - 0s 4ms/step - loss: 11.9799 - mse: 172.5533\n",
            "Epoch 77/500\n",
            "2/2 [==============================] - 0s 4ms/step - loss: 16.6488 - mse: 432.3298\n",
            "Epoch 78/500\n",
            "2/2 [==============================] - 0s 3ms/step - loss: 9.2784 - mse: 98.6556\n",
            "Epoch 79/500\n",
            "2/2 [==============================] - 0s 3ms/step - loss: 24.4604 - mse: 902.0726\n",
            "Epoch 80/500\n",
            "2/2 [==============================] - 0s 4ms/step - loss: 27.4405 - mse: 1158.6086\n",
            "Epoch 81/500\n",
            "2/2 [==============================] - 0s 3ms/step - loss: 11.7139 - mse: 170.4368\n",
            "Epoch 82/500\n",
            "2/2 [==============================] - 0s 4ms/step - loss: 11.6757 - mse: 196.1245\n",
            "Epoch 83/500\n",
            "2/2 [==============================] - 0s 4ms/step - loss: 17.9045 - mse: 414.3998\n",
            "Epoch 84/500\n",
            "2/2 [==============================] - 0s 3ms/step - loss: 7.0376 - mse: 70.0240\n",
            "Epoch 85/500\n",
            "2/2 [==============================] - 0s 4ms/step - loss: 15.1558 - mse: 321.1296\n",
            "Epoch 86/500\n",
            "2/2 [==============================] - 0s 4ms/step - loss: 15.1583 - mse: 311.4817\n",
            "Epoch 87/500\n",
            "2/2 [==============================] - 0s 4ms/step - loss: 19.8683 - mse: 554.4750\n",
            "Epoch 88/500\n",
            "2/2 [==============================] - 0s 3ms/step - loss: 30.7657 - mse: 1357.5454\n",
            "Epoch 89/500\n",
            "2/2 [==============================] - 0s 4ms/step - loss: 9.7059 - mse: 108.4962\n",
            "Epoch 90/500\n",
            "2/2 [==============================] - 0s 4ms/step - loss: 21.5531 - mse: 674.2966\n",
            "Epoch 91/500\n",
            "2/2 [==============================] - 0s 4ms/step - loss: 9.5827 - mse: 128.0419\n",
            "Epoch 92/500\n",
            "2/2 [==============================] - 0s 4ms/step - loss: 18.2158 - mse: 463.7714\n",
            "Epoch 93/500\n",
            "2/2 [==============================] - 0s 3ms/step - loss: 7.1935 - mse: 75.5075\n",
            "Epoch 94/500\n",
            "2/2 [==============================] - 0s 4ms/step - loss: 17.4261 - mse: 438.1330\n",
            "Epoch 95/500\n",
            "2/2 [==============================] - 0s 4ms/step - loss: 11.1722 - mse: 164.3355\n",
            "Epoch 96/500\n",
            "2/2 [==============================] - 0s 4ms/step - loss: 18.9207 - mse: 491.7021\n",
            "Epoch 97/500\n",
            "2/2 [==============================] - 0s 4ms/step - loss: 12.2012 - mse: 208.9876\n",
            "Epoch 98/500\n",
            "2/2 [==============================] - 0s 4ms/step - loss: 11.2931 - mse: 158.5947\n",
            "Epoch 99/500\n",
            "2/2 [==============================] - 0s 3ms/step - loss: 13.4562 - mse: 254.5623\n",
            "Epoch 100/500\n",
            "2/2 [==============================] - 0s 4ms/step - loss: 20.1754 - mse: 612.1692\n",
            "Epoch 101/500\n",
            "2/2 [==============================] - 0s 4ms/step - loss: 11.4395 - mse: 176.8360\n",
            "Epoch 102/500\n",
            "2/2 [==============================] - 0s 4ms/step - loss: 17.0888 - mse: 409.9835\n",
            "Epoch 103/500\n",
            "2/2 [==============================] - 0s 4ms/step - loss: 6.9455 - mse: 65.4455\n",
            "Epoch 104/500\n",
            "2/2 [==============================] - 0s 3ms/step - loss: 24.3779 - mse: 798.6033\n",
            "Epoch 105/500\n",
            "2/2 [==============================] - 0s 4ms/step - loss: 16.8800 - mse: 438.3794\n",
            "Epoch 106/500\n",
            "2/2 [==============================] - 0s 4ms/step - loss: 8.5557 - mse: 121.1320\n",
            "Epoch 107/500\n",
            "2/2 [==============================] - 0s 3ms/step - loss: 26.5426 - mse: 997.9331\n",
            "Epoch 108/500\n",
            "2/2 [==============================] - 0s 4ms/step - loss: 13.2375 - mse: 262.9666\n",
            "Epoch 109/500\n",
            "2/2 [==============================] - 0s 4ms/step - loss: 9.1284 - mse: 95.7257\n",
            "Epoch 110/500\n",
            "2/2 [==============================] - 0s 5ms/step - loss: 8.9256 - mse: 105.0342\n",
            "Epoch 111/500\n",
            "2/2 [==============================] - 0s 3ms/step - loss: 14.0550 - mse: 272.6900\n",
            "Epoch 112/500\n",
            "2/2 [==============================] - 0s 3ms/step - loss: 9.7418 - mse: 125.6841\n",
            "Epoch 113/500\n",
            "2/2 [==============================] - 0s 4ms/step - loss: 17.5151 - mse: 450.2864\n",
            "Epoch 114/500\n",
            "2/2 [==============================] - 0s 3ms/step - loss: 17.0304 - mse: 440.4950\n",
            "Epoch 115/500\n",
            "2/2 [==============================] - 0s 4ms/step - loss: 10.9228 - mse: 149.7184\n",
            "Epoch 116/500\n",
            "2/2 [==============================] - 0s 4ms/step - loss: 23.5453 - mse: 811.6179\n",
            "Epoch 117/500\n",
            "2/2 [==============================] - 0s 4ms/step - loss: 8.8340 - mse: 102.5076\n",
            "Epoch 118/500\n",
            "2/2 [==============================] - 0s 4ms/step - loss: 10.2977 - mse: 126.2972\n",
            "Epoch 119/500\n",
            "2/2 [==============================] - 0s 4ms/step - loss: 8.3192 - mse: 82.1769\n",
            "Epoch 120/500\n",
            "2/2 [==============================] - 0s 4ms/step - loss: 30.7265 - mse: 1389.9013\n",
            "Epoch 121/500\n",
            "2/2 [==============================] - 0s 3ms/step - loss: 8.1436 - mse: 70.3915\n",
            "Epoch 122/500\n",
            "2/2 [==============================] - 0s 4ms/step - loss: 29.4327 - mse: 1314.3135\n",
            "Epoch 123/500\n",
            "2/2 [==============================] - 0s 4ms/step - loss: 34.2183 - mse: 1694.8664\n",
            "Epoch 124/500\n",
            "2/2 [==============================] - 0s 4ms/step - loss: 19.6697 - mse: 576.5111\n",
            "Epoch 125/500\n",
            "2/2 [==============================] - 0s 4ms/step - loss: 6.5959 - mse: 64.4558\n",
            "Epoch 126/500\n",
            "2/2 [==============================] - 0s 4ms/step - loss: 21.8683 - mse: 680.1274\n",
            "Epoch 127/500\n",
            "2/2 [==============================] - 0s 3ms/step - loss: 8.0892 - mse: 69.8523\n",
            "Epoch 128/500\n",
            "2/2 [==============================] - 0s 7ms/step - loss: 21.1329 - mse: 666.8414\n",
            "Epoch 129/500\n",
            "2/2 [==============================] - 0s 4ms/step - loss: 9.3481 - mse: 128.1660\n",
            "Epoch 130/500\n",
            "2/2 [==============================] - 0s 3ms/step - loss: 24.2633 - mse: 837.1738\n",
            "Epoch 131/500\n",
            "2/2 [==============================] - 0s 4ms/step - loss: 9.9302 - mse: 137.6920\n",
            "Epoch 132/500\n",
            "2/2 [==============================] - 0s 5ms/step - loss: 18.3634 - mse: 505.2126\n",
            "Epoch 133/500\n",
            "2/2 [==============================] - 0s 6ms/step - loss: 7.2677 - mse: 72.3204\n",
            "Epoch 134/500\n",
            "2/2 [==============================] - 0s 3ms/step - loss: 18.4166 - mse: 502.4971\n",
            "Epoch 135/500\n",
            "2/2 [==============================] - 0s 6ms/step - loss: 9.7401 - mse: 121.3270\n",
            "Epoch 136/500\n",
            "2/2 [==============================] - 0s 4ms/step - loss: 17.8516 - mse: 461.5896\n",
            "Epoch 137/500\n",
            "2/2 [==============================] - 0s 4ms/step - loss: 22.9936 - mse: 723.8244\n",
            "Epoch 138/500\n",
            "2/2 [==============================] - 0s 4ms/step - loss: 8.2013 - mse: 108.2334\n",
            "Epoch 139/500\n",
            "2/2 [==============================] - 0s 4ms/step - loss: 8.0097 - mse: 112.3626\n",
            "Epoch 140/500\n",
            "2/2 [==============================] - 0s 4ms/step - loss: 15.9624 - mse: 368.3736\n",
            "Epoch 141/500\n",
            "2/2 [==============================] - 0s 4ms/step - loss: 8.6422 - mse: 95.7451\n",
            "Epoch 142/500\n",
            "2/2 [==============================] - 0s 4ms/step - loss: 39.2127 - mse: 2592.6738\n",
            "Epoch 143/500\n",
            "2/2 [==============================] - 0s 3ms/step - loss: 25.9599 - mse: 959.6397\n",
            "Epoch 144/500\n",
            "2/2 [==============================] - 0s 4ms/step - loss: 8.6134 - mse: 117.2101\n",
            "Epoch 145/500\n",
            "2/2 [==============================] - 0s 3ms/step - loss: 27.7680 - mse: 1011.4874\n",
            "Epoch 146/500\n",
            "2/2 [==============================] - 0s 9ms/step - loss: 8.3428 - mse: 92.0141\n",
            "Epoch 147/500\n",
            "2/2 [==============================] - 0s 7ms/step - loss: 15.0730 - mse: 289.3356\n",
            "Epoch 148/500\n",
            "2/2 [==============================] - 0s 8ms/step - loss: 19.1933 - mse: 498.5642\n",
            "Epoch 149/500\n",
            "2/2 [==============================] - 0s 9ms/step - loss: 7.4993 - mse: 85.9696\n",
            "Epoch 150/500\n",
            "2/2 [==============================] - 0s 4ms/step - loss: 7.4097 - mse: 62.0831\n",
            "Epoch 151/500\n",
            "2/2 [==============================] - 0s 6ms/step - loss: 18.1762 - mse: 483.9471\n",
            "Epoch 152/500\n",
            "2/2 [==============================] - 0s 8ms/step - loss: 9.9065 - mse: 119.1115\n",
            "Epoch 153/500\n",
            "2/2 [==============================] - 0s 9ms/step - loss: 30.6868 - mse: 1345.6316\n",
            "Epoch 154/500\n",
            "2/2 [==============================] - 0s 12ms/step - loss: 9.6497 - mse: 162.7593\n",
            "Epoch 155/500\n",
            "2/2 [==============================] - 0s 5ms/step - loss: 16.0886 - mse: 371.0082\n",
            "Epoch 156/500\n",
            "2/2 [==============================] - 0s 3ms/step - loss: 18.0462 - mse: 472.6204\n",
            "Epoch 157/500\n",
            "2/2 [==============================] - 0s 11ms/step - loss: 34.4868 - mse: 1870.8902\n",
            "Epoch 158/500\n",
            "2/2 [==============================] - 0s 6ms/step - loss: 10.3002 - mse: 135.3050\n",
            "Epoch 159/500\n",
            "2/2 [==============================] - 0s 5ms/step - loss: 8.5288 - mse: 85.5955\n",
            "Epoch 160/500\n",
            "2/2 [==============================] - 0s 5ms/step - loss: 22.2562 - mse: 726.2964\n",
            "Epoch 161/500\n",
            "2/2 [==============================] - 0s 7ms/step - loss: 11.2986 - mse: 186.9199\n",
            "Epoch 162/500\n",
            "2/2 [==============================] - 0s 4ms/step - loss: 21.5576 - mse: 681.2422\n",
            "Epoch 163/500\n",
            "2/2 [==============================] - 0s 3ms/step - loss: 18.8924 - mse: 524.9752\n",
            "Epoch 164/500\n",
            "2/2 [==============================] - 0s 3ms/step - loss: 10.9458 - mse: 171.1847\n",
            "Epoch 165/500\n",
            "2/2 [==============================] - 0s 9ms/step - loss: 8.7489 - mse: 143.2768\n",
            "Epoch 166/500\n",
            "2/2 [==============================] - 0s 4ms/step - loss: 22.6552 - mse: 731.0229\n",
            "Epoch 167/500\n",
            "2/2 [==============================] - 0s 4ms/step - loss: 26.9724 - mse: 1095.2429\n",
            "Epoch 168/500\n",
            "2/2 [==============================] - 0s 7ms/step - loss: 9.2709 - mse: 101.7484\n",
            "Epoch 169/500\n",
            "2/2 [==============================] - 0s 6ms/step - loss: 23.1678 - mse: 821.7978\n",
            "Epoch 170/500\n",
            "2/2 [==============================] - 0s 3ms/step - loss: 9.3051 - mse: 158.1281\n",
            "Epoch 171/500\n",
            "2/2 [==============================] - 0s 5ms/step - loss: 18.9237 - mse: 538.3760\n",
            "Epoch 172/500\n",
            "2/2 [==============================] - 0s 3ms/step - loss: 29.9900 - mse: 1388.8494\n",
            "Epoch 173/500\n",
            "2/2 [==============================] - 0s 7ms/step - loss: 16.4918 - mse: 424.2662\n",
            "Epoch 174/500\n",
            "2/2 [==============================] - 0s 3ms/step - loss: 10.2796 - mse: 165.7303\n",
            "Epoch 175/500\n",
            "2/2 [==============================] - 0s 8ms/step - loss: 28.8074 - mse: 1166.1734\n",
            "Epoch 176/500\n",
            "2/2 [==============================] - 0s 3ms/step - loss: 8.1042 - mse: 72.2274\n",
            "Epoch 177/500\n",
            "2/2 [==============================] - 0s 6ms/step - loss: 8.8722 - mse: 95.6579\n",
            "Epoch 178/500\n",
            "2/2 [==============================] - 0s 3ms/step - loss: 17.8721 - mse: 455.3680\n",
            "Epoch 179/500\n",
            "2/2 [==============================] - 0s 5ms/step - loss: 10.4428 - mse: 144.1929\n",
            "Epoch 180/500\n",
            "2/2 [==============================] - 0s 6ms/step - loss: 7.2716 - mse: 82.2663\n",
            "Epoch 181/500\n",
            "2/2 [==============================] - 0s 5ms/step - loss: 17.0166 - mse: 425.9957\n",
            "Epoch 182/500\n",
            "2/2 [==============================] - 0s 8ms/step - loss: 10.3910 - mse: 136.5952\n",
            "Epoch 183/500\n",
            "2/2 [==============================] - 0s 3ms/step - loss: 11.1568 - mse: 188.0895\n",
            "Epoch 184/500\n",
            "2/2 [==============================] - 0s 9ms/step - loss: 31.6483 - mse: 1471.7636\n",
            "Epoch 185/500\n",
            "2/2 [==============================] - 0s 4ms/step - loss: 7.0154 - mse: 83.6483\n",
            "Epoch 186/500\n",
            "2/2 [==============================] - 0s 4ms/step - loss: 16.6843 - mse: 393.0200\n",
            "Epoch 187/500\n",
            "2/2 [==============================] - 0s 5ms/step - loss: 8.1126 - mse: 74.4118\n",
            "Epoch 188/500\n",
            "2/2 [==============================] - 0s 10ms/step - loss: 29.6995 - mse: 1242.6109\n",
            "Epoch 189/500\n",
            "2/2 [==============================] - 0s 4ms/step - loss: 12.3776 - mse: 231.8943\n",
            "Epoch 190/500\n",
            "2/2 [==============================] - 0s 5ms/step - loss: 19.3024 - mse: 551.6450\n",
            "Epoch 191/500\n",
            "2/2 [==============================] - 0s 5ms/step - loss: 13.9023 - mse: 267.3248\n",
            "Epoch 192/500\n",
            "2/2 [==============================] - 0s 5ms/step - loss: 12.9345 - mse: 231.6658\n",
            "Epoch 193/500\n",
            "2/2 [==============================] - 0s 7ms/step - loss: 29.5007 - mse: 1194.6764\n",
            "Epoch 194/500\n",
            "2/2 [==============================] - 0s 9ms/step - loss: 6.6526 - mse: 65.7294\n",
            "Epoch 195/500\n",
            "2/2 [==============================] - 0s 3ms/step - loss: 6.6620 - mse: 66.1468\n",
            "Epoch 196/500\n",
            "2/2 [==============================] - 0s 6ms/step - loss: 22.8540 - mse: 756.0894\n",
            "Epoch 197/500\n",
            "2/2 [==============================] - 0s 5ms/step - loss: 20.7492 - mse: 647.7006\n",
            "Epoch 198/500\n",
            "2/2 [==============================] - 0s 14ms/step - loss: 11.8978 - mse: 216.4666\n",
            "Epoch 199/500\n",
            "2/2 [==============================] - 0s 9ms/step - loss: 17.4222 - mse: 443.4027\n",
            "Epoch 200/500\n",
            "2/2 [==============================] - 0s 3ms/step - loss: 13.4876 - mse: 273.2732\n",
            "Epoch 201/500\n",
            "2/2 [==============================] - 0s 9ms/step - loss: 5.6035 - mse: 42.9682\n",
            "Epoch 202/500\n",
            "2/2 [==============================] - 0s 4ms/step - loss: 13.1062 - mse: 266.1792\n",
            "Epoch 203/500\n",
            "2/2 [==============================] - 0s 12ms/step - loss: 8.4001 - mse: 107.1470\n",
            "Epoch 204/500\n",
            "2/2 [==============================] - 0s 13ms/step - loss: 21.0158 - mse: 659.9834\n",
            "Epoch 205/500\n",
            "2/2 [==============================] - 0s 15ms/step - loss: 8.7459 - mse: 102.3799\n",
            "Epoch 206/500\n",
            "2/2 [==============================] - 0s 4ms/step - loss: 11.0638 - mse: 173.5503\n",
            "Epoch 207/500\n",
            "2/2 [==============================] - 0s 5ms/step - loss: 13.8665 - mse: 299.2528\n",
            "Epoch 208/500\n",
            "2/2 [==============================] - 0s 27ms/step - loss: 13.9839 - mse: 287.6854\n",
            "Epoch 209/500\n",
            "2/2 [==============================] - 0s 15ms/step - loss: 14.2824 - mse: 315.9997\n",
            "Epoch 210/500\n",
            "2/2 [==============================] - 0s 3ms/step - loss: 17.6257 - mse: 457.9839\n",
            "Epoch 211/500\n",
            "2/2 [==============================] - 0s 10ms/step - loss: 8.8540 - mse: 113.1053\n",
            "Epoch 212/500\n",
            "2/2 [==============================] - 0s 10ms/step - loss: 18.6211 - mse: 514.6912\n",
            "Epoch 213/500\n",
            "2/2 [==============================] - 0s 19ms/step - loss: 15.0631 - mse: 306.5317\n",
            "Epoch 214/500\n",
            "2/2 [==============================] - 0s 5ms/step - loss: 14.8075 - mse: 302.0721\n",
            "Epoch 215/500\n",
            "2/2 [==============================] - 0s 9ms/step - loss: 24.6706 - mse: 859.6855\n",
            "Epoch 216/500\n",
            "2/2 [==============================] - 0s 3ms/step - loss: 12.8053 - mse: 254.6141\n",
            "Epoch 217/500\n",
            "2/2 [==============================] - 0s 10ms/step - loss: 9.7938 - mse: 130.2804\n",
            "Epoch 218/500\n",
            "2/2 [==============================] - 0s 3ms/step - loss: 12.3979 - mse: 199.8039\n",
            "Epoch 219/500\n",
            "2/2 [==============================] - 0s 5ms/step - loss: 5.0245 - mse: 38.1418\n",
            "Epoch 220/500\n",
            "2/2 [==============================] - 0s 5ms/step - loss: 6.8297 - mse: 52.0833\n",
            "Epoch 221/500\n",
            "2/2 [==============================] - 0s 6ms/step - loss: 37.3270 - mse: 2268.0113\n",
            "Epoch 222/500\n",
            "2/2 [==============================] - 0s 4ms/step - loss: 36.7870 - mse: 2109.8339\n",
            "Epoch 223/500\n",
            "2/2 [==============================] - 0s 5ms/step - loss: 7.3082 - mse: 96.5411\n",
            "Epoch 224/500\n",
            "2/2 [==============================] - 0s 4ms/step - loss: 15.3583 - mse: 341.1677\n",
            "Epoch 225/500\n",
            "2/2 [==============================] - 0s 3ms/step - loss: 16.9646 - mse: 371.1065\n",
            "Epoch 226/500\n",
            "2/2 [==============================] - 0s 3ms/step - loss: 16.5040 - mse: 392.6132\n",
            "Epoch 227/500\n",
            "2/2 [==============================] - 0s 3ms/step - loss: 16.8008 - mse: 391.0562\n",
            "Epoch 228/500\n",
            "2/2 [==============================] - 0s 8ms/step - loss: 14.3646 - mse: 293.7561\n",
            "Epoch 229/500\n",
            "2/2 [==============================] - 0s 3ms/step - loss: 18.9498 - mse: 490.9765\n",
            "Epoch 230/500\n",
            "2/2 [==============================] - 0s 6ms/step - loss: 15.3734 - mse: 306.9251\n",
            "Epoch 231/500\n",
            "2/2 [==============================] - 0s 8ms/step - loss: 22.2855 - mse: 719.0516\n",
            "Epoch 232/500\n",
            "2/2 [==============================] - 0s 4ms/step - loss: 25.6766 - mse: 944.8824\n",
            "Epoch 233/500\n",
            "2/2 [==============================] - 0s 7ms/step - loss: 15.8456 - mse: 369.0503\n",
            "Epoch 234/500\n",
            "2/2 [==============================] - 0s 6ms/step - loss: 7.1198 - mse: 60.0878\n",
            "Epoch 235/500\n",
            "2/2 [==============================] - 0s 5ms/step - loss: 16.5359 - mse: 388.7437\n",
            "Epoch 236/500\n",
            "2/2 [==============================] - 0s 5ms/step - loss: 6.8411 - mse: 59.6960\n",
            "Epoch 237/500\n",
            "2/2 [==============================] - 0s 6ms/step - loss: 8.4978 - mse: 96.4145\n",
            "Epoch 238/500\n",
            "2/2 [==============================] - 0s 3ms/step - loss: 7.6219 - mse: 72.8125\n",
            "Epoch 239/500\n",
            "2/2 [==============================] - 0s 5ms/step - loss: 16.6738 - mse: 421.4190\n",
            "Epoch 240/500\n",
            "2/2 [==============================] - 0s 15ms/step - loss: 8.1090 - mse: 86.4690\n",
            "Epoch 241/500\n",
            "2/2 [==============================] - 0s 10ms/step - loss: 12.2173 - mse: 231.1879\n",
            "Epoch 242/500\n",
            "2/2 [==============================] - 0s 5ms/step - loss: 8.4286 - mse: 92.9322\n",
            "Epoch 243/500\n",
            "2/2 [==============================] - 0s 10ms/step - loss: 19.0474 - mse: 549.0843\n",
            "Epoch 244/500\n",
            "2/2 [==============================] - 0s 5ms/step - loss: 13.8906 - mse: 265.0233\n",
            "Epoch 245/500\n",
            "2/2 [==============================] - 0s 6ms/step - loss: 14.9766 - mse: 299.4019\n",
            "Epoch 246/500\n",
            "2/2 [==============================] - 0s 8ms/step - loss: 16.5221 - mse: 397.0684\n",
            "Epoch 247/500\n",
            "2/2 [==============================] - 0s 21ms/step - loss: 18.3671 - mse: 447.2058\n",
            "Epoch 248/500\n",
            "2/2 [==============================] - 0s 10ms/step - loss: 12.7968 - mse: 229.7064\n",
            "Epoch 249/500\n",
            "2/2 [==============================] - 0s 10ms/step - loss: 14.6663 - mse: 294.8631\n",
            "Epoch 250/500\n",
            "2/2 [==============================] - 0s 6ms/step - loss: 24.6626 - mse: 854.8040\n",
            "Epoch 251/500\n",
            "2/2 [==============================] - 0s 12ms/step - loss: 8.8291 - mse: 108.9488\n",
            "Epoch 252/500\n",
            "2/2 [==============================] - 0s 5ms/step - loss: 38.5683 - mse: 2359.3722\n",
            "Epoch 253/500\n",
            "2/2 [==============================] - 0s 6ms/step - loss: 21.8404 - mse: 672.8245\n",
            "Epoch 254/500\n",
            "2/2 [==============================] - 0s 4ms/step - loss: 6.6485 - mse: 63.1855\n",
            "Epoch 255/500\n",
            "2/2 [==============================] - 0s 4ms/step - loss: 24.9959 - mse: 916.8845\n",
            "Epoch 256/500\n",
            "2/2 [==============================] - 0s 3ms/step - loss: 11.5965 - mse: 192.6703\n",
            "Epoch 257/500\n",
            "2/2 [==============================] - 0s 4ms/step - loss: 10.0635 - mse: 146.8585\n",
            "Epoch 258/500\n",
            "2/2 [==============================] - 0s 4ms/step - loss: 13.8021 - mse: 294.2247\n",
            "Epoch 259/500\n",
            "2/2 [==============================] - 0s 3ms/step - loss: 8.3765 - mse: 93.9123\n",
            "Epoch 260/500\n",
            "2/2 [==============================] - 0s 4ms/step - loss: 45.7482 - mse: 3211.3011\n",
            "Epoch 261/500\n",
            "2/2 [==============================] - 0s 4ms/step - loss: 18.1356 - mse: 481.2484\n",
            "Epoch 262/500\n",
            "2/2 [==============================] - 0s 3ms/step - loss: 6.3169 - mse: 76.1663\n",
            "Epoch 263/500\n",
            "2/2 [==============================] - 0s 5ms/step - loss: 13.7268 - mse: 266.9442\n",
            "Epoch 264/500\n",
            "2/2 [==============================] - 0s 4ms/step - loss: 22.1387 - mse: 702.6458\n",
            "Epoch 265/500\n",
            "2/2 [==============================] - 0s 4ms/step - loss: 19.3151 - mse: 542.9798\n",
            "Epoch 266/500\n",
            "2/2 [==============================] - 0s 4ms/step - loss: 10.9408 - mse: 198.3715\n",
            "Epoch 267/500\n",
            "2/2 [==============================] - 0s 4ms/step - loss: 6.7507 - mse: 87.7474\n",
            "Epoch 268/500\n",
            "2/2 [==============================] - 0s 3ms/step - loss: 22.1636 - mse: 703.7159\n",
            "Epoch 269/500\n",
            "2/2 [==============================] - 0s 4ms/step - loss: 34.7302 - mse: 1763.6681\n",
            "Epoch 270/500\n",
            "2/2 [==============================] - 0s 3ms/step - loss: 9.6729 - mse: 133.4597\n",
            "Epoch 271/500\n",
            "2/2 [==============================] - 0s 4ms/step - loss: 10.5267 - mse: 226.7082\n",
            "Epoch 272/500\n",
            "2/2 [==============================] - 0s 3ms/step - loss: 26.9760 - mse: 993.8125\n",
            "Epoch 273/500\n",
            "2/2 [==============================] - 0s 4ms/step - loss: 11.6137 - mse: 205.5132\n",
            "Epoch 274/500\n",
            "2/2 [==============================] - 0s 4ms/step - loss: 12.0721 - mse: 228.8875\n",
            "Epoch 275/500\n",
            "2/2 [==============================] - 0s 4ms/step - loss: 30.5160 - mse: 1306.4889\n",
            "Epoch 276/500\n",
            "2/2 [==============================] - 0s 3ms/step - loss: 6.5488 - mse: 82.0313\n",
            "Epoch 277/500\n",
            "2/2 [==============================] - 0s 3ms/step - loss: 31.9636 - mse: 1431.5896\n",
            "Epoch 278/500\n",
            "2/2 [==============================] - 0s 8ms/step - loss: 11.5564 - mse: 201.5984\n",
            "Epoch 279/500\n",
            "2/2 [==============================] - 0s 4ms/step - loss: 17.3607 - mse: 449.4667\n",
            "Epoch 280/500\n",
            "2/2 [==============================] - 0s 6ms/step - loss: 23.1189 - mse: 769.8317\n",
            "Epoch 281/500\n",
            "2/2 [==============================] - 0s 3ms/step - loss: 22.5078 - mse: 765.5771\n",
            "Epoch 282/500\n",
            "2/2 [==============================] - 0s 5ms/step - loss: 7.2141 - mse: 73.0942\n",
            "Epoch 283/500\n",
            "2/2 [==============================] - 0s 6ms/step - loss: 7.7725 - mse: 78.0881\n",
            "Epoch 284/500\n",
            "2/2 [==============================] - 0s 10ms/step - loss: 25.4832 - mse: 975.6879\n",
            "Epoch 285/500\n",
            "2/2 [==============================] - 0s 3ms/step - loss: 13.3877 - mse: 287.5977\n",
            "Epoch 286/500\n",
            "2/2 [==============================] - 0s 5ms/step - loss: 6.2528 - mse: 66.1270\n",
            "Epoch 287/500\n",
            "2/2 [==============================] - 0s 8ms/step - loss: 25.2020 - mse: 906.1856\n",
            "Epoch 288/500\n",
            "2/2 [==============================] - 0s 3ms/step - loss: 20.5697 - mse: 623.3725\n",
            "Epoch 289/500\n",
            "2/2 [==============================] - 0s 3ms/step - loss: 11.0907 - mse: 201.3731\n",
            "Epoch 290/500\n",
            "2/2 [==============================] - 0s 3ms/step - loss: 17.0029 - mse: 383.5456\n",
            "Epoch 291/500\n",
            "2/2 [==============================] - 0s 3ms/step - loss: 17.6342 - mse: 443.9535\n",
            "Epoch 292/500\n",
            "2/2 [==============================] - 0s 3ms/step - loss: 8.1010 - mse: 156.3201\n",
            "Epoch 293/500\n",
            "2/2 [==============================] - 0s 4ms/step - loss: 15.5974 - mse: 331.2615\n",
            "Epoch 294/500\n",
            "2/2 [==============================] - 0s 4ms/step - loss: 24.0056 - mse: 838.9369\n",
            "Epoch 295/500\n",
            "2/2 [==============================] - 0s 3ms/step - loss: 17.6288 - mse: 452.2896\n",
            "Epoch 296/500\n",
            "2/2 [==============================] - 0s 3ms/step - loss: 5.7207 - mse: 48.1339\n",
            "Epoch 297/500\n",
            "2/2 [==============================] - 0s 4ms/step - loss: 9.5090 - mse: 189.7956\n",
            "Epoch 298/500\n",
            "2/2 [==============================] - 0s 4ms/step - loss: 24.2070 - mse: 839.7042\n",
            "Epoch 299/500\n",
            "2/2 [==============================] - 0s 3ms/step - loss: 17.5093 - mse: 463.5408\n",
            "Epoch 300/500\n",
            "2/2 [==============================] - 0s 3ms/step - loss: 6.9937 - mse: 65.4162\n",
            "Epoch 301/500\n",
            "2/2 [==============================] - 0s 3ms/step - loss: 25.4316 - mse: 925.3385\n",
            "Epoch 302/500\n",
            "2/2 [==============================] - 0s 3ms/step - loss: 8.5327 - mse: 105.6703\n",
            "Epoch 303/500\n",
            "2/2 [==============================] - 0s 12ms/step - loss: 17.2889 - mse: 446.9324\n",
            "Epoch 304/500\n",
            "2/2 [==============================] - 0s 7ms/step - loss: 10.1101 - mse: 144.8192\n",
            "Epoch 305/500\n",
            "2/2 [==============================] - 0s 4ms/step - loss: 12.0683 - mse: 234.0961\n",
            "Epoch 306/500\n",
            "2/2 [==============================] - 0s 4ms/step - loss: 7.9177 - mse: 81.6533\n",
            "Epoch 307/500\n",
            "2/2 [==============================] - 0s 5ms/step - loss: 12.7052 - mse: 245.0772\n",
            "Epoch 308/500\n",
            "2/2 [==============================] - 0s 4ms/step - loss: 6.9439 - mse: 64.3301\n",
            "Epoch 309/500\n",
            "2/2 [==============================] - 0s 3ms/step - loss: 8.8822 - mse: 120.5234\n",
            "Epoch 310/500\n",
            "2/2 [==============================] - 0s 4ms/step - loss: 10.3575 - mse: 178.3940\n",
            "Epoch 311/500\n",
            "2/2 [==============================] - 0s 4ms/step - loss: 12.4583 - mse: 222.8906\n",
            "Epoch 312/500\n",
            "2/2 [==============================] - 0s 4ms/step - loss: 30.1003 - mse: 1268.4940\n",
            "Epoch 313/500\n",
            "2/2 [==============================] - 0s 3ms/step - loss: 6.8146 - mse: 78.6331\n",
            "Epoch 314/500\n",
            "2/2 [==============================] - 0s 3ms/step - loss: 8.5820 - mse: 176.5198\n",
            "Epoch 315/500\n",
            "2/2 [==============================] - 0s 4ms/step - loss: 24.8169 - mse: 873.6630\n",
            "Epoch 316/500\n",
            "2/2 [==============================] - 0s 4ms/step - loss: 15.7743 - mse: 381.3678\n",
            "Epoch 317/500\n",
            "2/2 [==============================] - 0s 3ms/step - loss: 20.6639 - mse: 588.6182\n",
            "Epoch 318/500\n",
            "2/2 [==============================] - 0s 4ms/step - loss: 7.6411 - mse: 75.6581\n",
            "Epoch 319/500\n",
            "2/2 [==============================] - 0s 4ms/step - loss: 17.5017 - mse: 457.8312\n",
            "Epoch 320/500\n",
            "2/2 [==============================] - 0s 3ms/step - loss: 9.6369 - mse: 150.5794\n",
            "Epoch 321/500\n",
            "2/2 [==============================] - 0s 3ms/step - loss: 7.6257 - mse: 87.3891\n",
            "Epoch 322/500\n",
            "2/2 [==============================] - 0s 5ms/step - loss: 4.7523 - mse: 34.4213\n",
            "Epoch 323/500\n",
            "2/2 [==============================] - 0s 8ms/step - loss: 23.8769 - mse: 826.6474\n",
            "Epoch 324/500\n",
            "2/2 [==============================] - 0s 14ms/step - loss: 6.5827 - mse: 52.1972\n",
            "Epoch 325/500\n",
            "2/2 [==============================] - 0s 12ms/step - loss: 15.7011 - mse: 357.1023\n",
            "Epoch 326/500\n",
            "2/2 [==============================] - 0s 11ms/step - loss: 7.0888 - mse: 67.4170\n",
            "Epoch 327/500\n",
            "2/2 [==============================] - 0s 13ms/step - loss: 20.2157 - mse: 573.6987\n",
            "Epoch 328/500\n",
            "2/2 [==============================] - 0s 6ms/step - loss: 13.8279 - mse: 263.7662\n",
            "Epoch 329/500\n",
            "2/2 [==============================] - 0s 7ms/step - loss: 17.7642 - mse: 463.4828\n",
            "Epoch 330/500\n",
            "2/2 [==============================] - 0s 8ms/step - loss: 6.3600 - mse: 63.0320\n",
            "Epoch 331/500\n",
            "2/2 [==============================] - 0s 5ms/step - loss: 21.7519 - mse: 722.9371\n",
            "Epoch 332/500\n",
            "2/2 [==============================] - 0s 5ms/step - loss: 11.2420 - mse: 198.2763\n",
            "Epoch 333/500\n",
            "2/2 [==============================] - 0s 7ms/step - loss: 11.1790 - mse: 197.0535\n",
            "Epoch 334/500\n",
            "2/2 [==============================] - 0s 4ms/step - loss: 7.5349 - mse: 129.5579\n",
            "Epoch 335/500\n",
            "2/2 [==============================] - 0s 3ms/step - loss: 11.1596 - mse: 217.9837\n",
            "Epoch 336/500\n",
            "2/2 [==============================] - 0s 5ms/step - loss: 32.2226 - mse: 1422.9952\n",
            "Epoch 337/500\n",
            "2/2 [==============================] - 0s 5ms/step - loss: 9.5676 - mse: 147.8860\n",
            "Epoch 338/500\n",
            "2/2 [==============================] - 0s 6ms/step - loss: 20.4626 - mse: 611.3803\n",
            "Epoch 339/500\n",
            "2/2 [==============================] - 0s 6ms/step - loss: 36.5697 - mse: 1972.7013\n",
            "Epoch 340/500\n",
            "2/2 [==============================] - 0s 4ms/step - loss: 9.4412 - mse: 146.6977\n",
            "Epoch 341/500\n",
            "2/2 [==============================] - 0s 7ms/step - loss: 9.2981 - mse: 137.8105\n",
            "Epoch 342/500\n",
            "2/2 [==============================] - 0s 3ms/step - loss: 11.7808 - mse: 182.2140\n",
            "Epoch 343/500\n",
            "2/2 [==============================] - 0s 4ms/step - loss: 8.6574 - mse: 119.5324\n",
            "Epoch 344/500\n",
            "2/2 [==============================] - 0s 8ms/step - loss: 5.2876 - mse: 38.3968\n",
            "Epoch 345/500\n",
            "2/2 [==============================] - 0s 6ms/step - loss: 39.5019 - mse: 2463.1353\n",
            "Epoch 346/500\n",
            "2/2 [==============================] - 0s 6ms/step - loss: 16.1694 - mse: 381.7823\n",
            "Epoch 347/500\n",
            "2/2 [==============================] - 0s 7ms/step - loss: 12.1609 - mse: 245.0909\n",
            "Epoch 348/500\n",
            "2/2 [==============================] - 0s 5ms/step - loss: 7.1087 - mse: 120.0469\n",
            "Epoch 349/500\n",
            "2/2 [==============================] - 0s 3ms/step - loss: 12.9491 - mse: 233.2832\n",
            "Epoch 350/500\n",
            "2/2 [==============================] - 0s 8ms/step - loss: 16.1665 - mse: 357.2099\n",
            "Epoch 351/500\n",
            "2/2 [==============================] - 0s 7ms/step - loss: 34.0546 - mse: 1604.8848\n",
            "Epoch 352/500\n",
            "2/2 [==============================] - 0s 8ms/step - loss: 14.2398 - mse: 279.1785\n",
            "Epoch 353/500\n",
            "2/2 [==============================] - 0s 10ms/step - loss: 16.6958 - mse: 399.9922\n",
            "Epoch 354/500\n",
            "2/2 [==============================] - 0s 7ms/step - loss: 19.8495 - mse: 569.8874\n",
            "Epoch 355/500\n",
            "2/2 [==============================] - 0s 6ms/step - loss: 35.6263 - mse: 1901.5356\n",
            "Epoch 356/500\n",
            "2/2 [==============================] - 0s 8ms/step - loss: 7.3612 - mse: 82.8997\n",
            "Epoch 357/500\n",
            "2/2 [==============================] - 0s 6ms/step - loss: 25.8732 - mse: 1020.9042\n",
            "Epoch 358/500\n",
            "2/2 [==============================] - 0s 8ms/step - loss: 23.0121 - mse: 762.3987\n",
            "Epoch 359/500\n",
            "2/2 [==============================] - 0s 9ms/step - loss: 7.5922 - mse: 144.4699\n",
            "Epoch 360/500\n",
            "2/2 [==============================] - 0s 8ms/step - loss: 22.7494 - mse: 739.9714\n",
            "Epoch 361/500\n",
            "2/2 [==============================] - 0s 13ms/step - loss: 20.6563 - mse: 617.4523\n",
            "Epoch 362/500\n",
            "2/2 [==============================] - 0s 9ms/step - loss: 6.4755 - mse: 55.8555\n",
            "Epoch 363/500\n",
            "2/2 [==============================] - 0s 5ms/step - loss: 26.4405 - mse: 1047.9880\n",
            "Epoch 364/500\n",
            "2/2 [==============================] - 0s 4ms/step - loss: 33.4598 - mse: 1619.9471\n",
            "Epoch 365/500\n",
            "2/2 [==============================] - 0s 5ms/step - loss: 9.3624 - mse: 137.0308\n",
            "Epoch 366/500\n",
            "2/2 [==============================] - 0s 7ms/step - loss: 8.1176 - mse: 163.7864\n",
            "Epoch 367/500\n",
            "2/2 [==============================] - 0s 7ms/step - loss: 31.5796 - mse: 1366.4034\n",
            "Epoch 368/500\n",
            "2/2 [==============================] - 0s 14ms/step - loss: 9.3113 - mse: 178.8326\n",
            "Epoch 369/500\n",
            "2/2 [==============================] - 0s 9ms/step - loss: 15.4732 - mse: 347.1429\n",
            "Epoch 370/500\n",
            "2/2 [==============================] - 0s 4ms/step - loss: 15.1064 - mse: 322.6711\n",
            "Epoch 371/500\n",
            "2/2 [==============================] - 0s 7ms/step - loss: 24.6474 - mse: 846.3676\n",
            "Epoch 372/500\n",
            "2/2 [==============================] - 0s 6ms/step - loss: 12.0766 - mse: 244.8406\n",
            "Epoch 373/500\n",
            "2/2 [==============================] - 0s 6ms/step - loss: 8.6626 - mse: 121.1672\n",
            "Epoch 374/500\n",
            "2/2 [==============================] - 0s 5ms/step - loss: 8.5077 - mse: 146.1953\n",
            "Epoch 375/500\n",
            "2/2 [==============================] - 0s 8ms/step - loss: 12.7401 - mse: 226.0203\n",
            "Epoch 376/500\n",
            "2/2 [==============================] - 0s 7ms/step - loss: 15.4849 - mse: 343.3001\n",
            "Epoch 377/500\n",
            "2/2 [==============================] - 0s 4ms/step - loss: 14.3770 - mse: 275.3474\n",
            "Epoch 378/500\n",
            "2/2 [==============================] - 0s 8ms/step - loss: 17.3350 - mse: 452.1428\n",
            "Epoch 379/500\n",
            "2/2 [==============================] - 0s 6ms/step - loss: 21.5410 - mse: 630.4883\n",
            "Epoch 380/500\n",
            "2/2 [==============================] - 0s 6ms/step - loss: 35.0745 - mse: 1794.0307\n",
            "Epoch 381/500\n",
            "2/2 [==============================] - 0s 6ms/step - loss: 7.6949 - mse: 86.1569\n",
            "Epoch 382/500\n",
            "2/2 [==============================] - 0s 3ms/step - loss: 12.5581 - mse: 257.8614\n",
            "Epoch 383/500\n",
            "2/2 [==============================] - 0s 6ms/step - loss: 7.7018 - mse: 101.6972\n",
            "Epoch 384/500\n",
            "2/2 [==============================] - 0s 3ms/step - loss: 6.5894 - mse: 58.8983\n",
            "Epoch 385/500\n",
            "2/2 [==============================] - 0s 3ms/step - loss: 9.5069 - mse: 185.6676\n",
            "Epoch 386/500\n",
            "2/2 [==============================] - 0s 4ms/step - loss: 21.0157 - mse: 649.0696\n",
            "Epoch 387/500\n",
            "2/2 [==============================] - 0s 3ms/step - loss: 25.3279 - mse: 926.4512\n",
            "Epoch 388/500\n",
            "2/2 [==============================] - 0s 4ms/step - loss: 8.1201 - mse: 107.4128\n",
            "Epoch 389/500\n",
            "2/2 [==============================] - 0s 3ms/step - loss: 5.9262 - mse: 48.1410\n",
            "Epoch 390/500\n",
            "2/2 [==============================] - 0s 7ms/step - loss: 24.9399 - mse: 918.0536\n",
            "Epoch 391/500\n",
            "2/2 [==============================] - 0s 5ms/step - loss: 5.3383 - mse: 55.3459\n",
            "Epoch 392/500\n",
            "2/2 [==============================] - 0s 4ms/step - loss: 15.4748 - mse: 344.1707\n",
            "Epoch 393/500\n",
            "2/2 [==============================] - 0s 3ms/step - loss: 5.3155 - mse: 57.3787\n",
            "Epoch 394/500\n",
            "2/2 [==============================] - 0s 4ms/step - loss: 10.0902 - mse: 170.0704\n",
            "Epoch 395/500\n",
            "2/2 [==============================] - 0s 3ms/step - loss: 14.1821 - mse: 303.2450\n",
            "Epoch 396/500\n",
            "2/2 [==============================] - 0s 3ms/step - loss: 6.8618 - mse: 78.6625\n",
            "Epoch 397/500\n",
            "2/2 [==============================] - 0s 3ms/step - loss: 8.0388 - mse: 112.7026\n",
            "Epoch 398/500\n",
            "2/2 [==============================] - 0s 4ms/step - loss: 13.8073 - mse: 285.0831\n",
            "Epoch 399/500\n",
            "2/2 [==============================] - 0s 4ms/step - loss: 9.7530 - mse: 206.3074\n",
            "Epoch 400/500\n",
            "2/2 [==============================] - 0s 3ms/step - loss: 23.2993 - mse: 800.0230\n",
            "Epoch 401/500\n",
            "2/2 [==============================] - 0s 4ms/step - loss: 14.3730 - mse: 327.6050\n",
            "Epoch 402/500\n",
            "2/2 [==============================] - 0s 4ms/step - loss: 7.7284 - mse: 92.3649\n",
            "Epoch 403/500\n",
            "2/2 [==============================] - 0s 4ms/step - loss: 9.4205 - mse: 157.2351\n",
            "Epoch 404/500\n",
            "2/2 [==============================] - 0s 4ms/step - loss: 9.3544 - mse: 166.3927\n",
            "Epoch 405/500\n",
            "2/2 [==============================] - 0s 4ms/step - loss: 5.8138 - mse: 53.1553\n",
            "Epoch 406/500\n",
            "2/2 [==============================] - 0s 11ms/step - loss: 17.3152 - mse: 454.5303\n",
            "Epoch 407/500\n",
            "2/2 [==============================] - 0s 3ms/step - loss: 9.8933 - mse: 210.3550\n",
            "Epoch 408/500\n",
            "2/2 [==============================] - 0s 4ms/step - loss: 21.8613 - mse: 711.6792\n",
            "Epoch 409/500\n",
            "2/2 [==============================] - 0s 3ms/step - loss: 32.9579 - mse: 1632.3673\n",
            "Epoch 410/500\n",
            "2/2 [==============================] - 0s 3ms/step - loss: 7.9618 - mse: 161.4513\n",
            "Epoch 411/500\n",
            "2/2 [==============================] - 0s 8ms/step - loss: 14.7364 - mse: 281.1327\n",
            "Epoch 412/500\n",
            "2/2 [==============================] - 0s 4ms/step - loss: 23.1980 - mse: 779.0099\n",
            "Epoch 413/500\n",
            "2/2 [==============================] - 0s 3ms/step - loss: 11.8724 - mse: 220.7477\n",
            "Epoch 414/500\n",
            "2/2 [==============================] - 0s 4ms/step - loss: 5.3169 - mse: 66.2852\n",
            "Epoch 415/500\n",
            "2/2 [==============================] - 0s 3ms/step - loss: 12.9845 - mse: 230.1084\n",
            "Epoch 416/500\n",
            "2/2 [==============================] - 0s 4ms/step - loss: 27.9657 - mse: 1076.4174\n",
            "Epoch 417/500\n",
            "2/2 [==============================] - 0s 3ms/step - loss: 10.0398 - mse: 177.9163\n",
            "Epoch 418/500\n",
            "2/2 [==============================] - 0s 4ms/step - loss: 12.4292 - mse: 220.9551\n",
            "Epoch 419/500\n",
            "2/2 [==============================] - 0s 12ms/step - loss: 16.7570 - mse: 403.2550\n",
            "Epoch 420/500\n",
            "2/2 [==============================] - 0s 9ms/step - loss: 25.5950 - mse: 895.9019\n",
            "Epoch 421/500\n",
            "2/2 [==============================] - 0s 7ms/step - loss: 16.8935 - mse: 419.7533\n",
            "Epoch 422/500\n",
            "2/2 [==============================] - 0s 5ms/step - loss: 6.5194 - mse: 112.3268\n",
            "Epoch 423/500\n",
            "2/2 [==============================] - 0s 4ms/step - loss: 26.2627 - mse: 958.8283\n",
            "Epoch 424/500\n",
            "2/2 [==============================] - 0s 5ms/step - loss: 14.3894 - mse: 330.2079\n",
            "Epoch 425/500\n",
            "2/2 [==============================] - 0s 7ms/step - loss: 6.5461 - mse: 60.9930\n",
            "Epoch 426/500\n",
            "2/2 [==============================] - 0s 4ms/step - loss: 20.0221 - mse: 563.4625\n",
            "Epoch 427/500\n",
            "2/2 [==============================] - 0s 3ms/step - loss: 5.4675 - mse: 61.8847\n",
            "Epoch 428/500\n",
            "2/2 [==============================] - 0s 3ms/step - loss: 11.9020 - mse: 239.7408\n",
            "Epoch 429/500\n",
            "2/2 [==============================] - 0s 3ms/step - loss: 9.7413 - mse: 160.3901\n",
            "Epoch 430/500\n",
            "2/2 [==============================] - 0s 3ms/step - loss: 10.3967 - mse: 201.2815\n",
            "Epoch 431/500\n",
            "2/2 [==============================] - 0s 7ms/step - loss: 9.5247 - mse: 172.5695\n",
            "Epoch 432/500\n",
            "2/2 [==============================] - 0s 5ms/step - loss: 10.4026 - mse: 192.3587\n",
            "Epoch 433/500\n",
            "2/2 [==============================] - 0s 4ms/step - loss: 9.5572 - mse: 213.7653\n",
            "Epoch 434/500\n",
            "2/2 [==============================] - 0s 4ms/step - loss: 31.0641 - mse: 1351.7620\n",
            "Epoch 435/500\n",
            "2/2 [==============================] - 0s 6ms/step - loss: 8.7320 - mse: 201.3991\n",
            "Epoch 436/500\n",
            "2/2 [==============================] - 0s 3ms/step - loss: 30.4039 - mse: 1306.0822\n",
            "Epoch 437/500\n",
            "2/2 [==============================] - 0s 16ms/step - loss: 7.2410 - mse: 149.3370\n",
            "Epoch 438/500\n",
            "2/2 [==============================] - 0s 4ms/step - loss: 11.4983 - mse: 213.7202\n",
            "Epoch 439/500\n",
            "2/2 [==============================] - 0s 4ms/step - loss: 34.0209 - mse: 1604.1008\n",
            "Epoch 440/500\n",
            "2/2 [==============================] - 0s 3ms/step - loss: 15.0207 - mse: 292.3250\n",
            "Epoch 441/500\n",
            "2/2 [==============================] - 0s 14ms/step - loss: 18.6827 - mse: 526.7384\n",
            "Epoch 442/500\n",
            "2/2 [==============================] - 0s 7ms/step - loss: 23.3211 - mse: 803.3370\n",
            "Epoch 443/500\n",
            "2/2 [==============================] - 0s 15ms/step - loss: 23.7391 - mse: 801.7245\n",
            "Epoch 444/500\n",
            "2/2 [==============================] - 0s 6ms/step - loss: 10.5044 - mse: 178.7519\n",
            "Epoch 445/500\n",
            "2/2 [==============================] - 0s 9ms/step - loss: 15.2148 - mse: 327.2978\n",
            "Epoch 446/500\n",
            "2/2 [==============================] - 0s 14ms/step - loss: 19.1407 - mse: 556.2601\n",
            "Epoch 447/500\n",
            "2/2 [==============================] - 0s 7ms/step - loss: 4.9130 - mse: 39.3332\n",
            "Epoch 448/500\n",
            "2/2 [==============================] - 0s 13ms/step - loss: 8.6091 - mse: 183.2648\n",
            "Epoch 449/500\n",
            "2/2 [==============================] - 0s 11ms/step - loss: 13.8472 - mse: 266.3158\n",
            "Epoch 450/500\n",
            "2/2 [==============================] - 0s 13ms/step - loss: 17.7478 - mse: 457.3120\n",
            "Epoch 451/500\n",
            "2/2 [==============================] - 0s 12ms/step - loss: 14.7603 - mse: 321.7629\n",
            "Epoch 452/500\n",
            "2/2 [==============================] - 0s 8ms/step - loss: 31.1154 - mse: 1384.2670\n",
            "Epoch 453/500\n",
            "2/2 [==============================] - 0s 11ms/step - loss: 6.3488 - mse: 112.8867\n",
            "Epoch 454/500\n",
            "2/2 [==============================] - 0s 14ms/step - loss: 28.8322 - mse: 1150.5284\n",
            "Epoch 455/500\n",
            "2/2 [==============================] - 0s 7ms/step - loss: 7.3912 - mse: 97.8733\n",
            "Epoch 456/500\n",
            "2/2 [==============================] - 0s 10ms/step - loss: 8.8416 - mse: 207.9596\n",
            "Epoch 457/500\n",
            "2/2 [==============================] - 0s 12ms/step - loss: 15.4993 - mse: 331.3297\n",
            "Epoch 458/500\n",
            "2/2 [==============================] - 0s 9ms/step - loss: 17.7243 - mse: 475.7519\n",
            "Epoch 459/500\n",
            "2/2 [==============================] - 0s 3ms/step - loss: 27.5770 - mse: 1086.4917\n",
            "Epoch 460/500\n",
            "2/2 [==============================] - 0s 8ms/step - loss: 11.7501 - mse: 219.1155\n",
            "Epoch 461/500\n",
            "2/2 [==============================] - 0s 13ms/step - loss: 11.5889 - mse: 223.3979\n",
            "Epoch 462/500\n",
            "2/2 [==============================] - 0s 10ms/step - loss: 13.2257 - mse: 240.9113\n",
            "Epoch 463/500\n",
            "2/2 [==============================] - 0s 8ms/step - loss: 30.3476 - mse: 1273.6259\n",
            "Epoch 464/500\n",
            "2/2 [==============================] - 0s 12ms/step - loss: 3.3242 - mse: 19.1879\n",
            "Epoch 465/500\n",
            "2/2 [==============================] - 0s 3ms/step - loss: 15.9370 - mse: 377.0669\n",
            "Epoch 466/500\n",
            "2/2 [==============================] - 0s 9ms/step - loss: 21.7724 - mse: 696.1476\n",
            "Epoch 467/500\n",
            "2/2 [==============================] - 0s 9ms/step - loss: 31.6820 - mse: 1510.2936\n",
            "Epoch 468/500\n",
            "2/2 [==============================] - 0s 10ms/step - loss: 9.6243 - mse: 179.7524\n",
            "Epoch 469/500\n",
            "2/2 [==============================] - 0s 6ms/step - loss: 11.8263 - mse: 233.3513\n",
            "Epoch 470/500\n",
            "2/2 [==============================] - 0s 10ms/step - loss: 3.2032 - mse: 14.0647\n",
            "Epoch 471/500\n",
            "2/2 [==============================] - 0s 7ms/step - loss: 17.3217 - mse: 391.1123\n",
            "Epoch 472/500\n",
            "2/2 [==============================] - 0s 4ms/step - loss: 12.9616 - mse: 233.3745\n",
            "Epoch 473/500\n",
            "2/2 [==============================] - 0s 10ms/step - loss: 16.3344 - mse: 428.6667\n",
            "Epoch 474/500\n",
            "2/2 [==============================] - 0s 6ms/step - loss: 10.4298 - mse: 230.0059\n",
            "Epoch 475/500\n",
            "2/2 [==============================] - 0s 7ms/step - loss: 17.3095 - mse: 425.5358\n",
            "Epoch 476/500\n",
            "2/2 [==============================] - 0s 3ms/step - loss: 14.0110 - mse: 281.9855\n",
            "Epoch 477/500\n",
            "2/2 [==============================] - 0s 11ms/step - loss: 31.3851 - mse: 1360.8681\n",
            "Epoch 478/500\n",
            "2/2 [==============================] - 0s 12ms/step - loss: 7.4666 - mse: 138.4424\n",
            "Epoch 479/500\n",
            "2/2 [==============================] - 0s 13ms/step - loss: 9.3610 - mse: 193.9732\n",
            "Epoch 480/500\n",
            "2/2 [==============================] - 0s 11ms/step - loss: 19.0261 - mse: 523.0786\n",
            "Epoch 481/500\n",
            "2/2 [==============================] - 0s 8ms/step - loss: 16.5661 - mse: 393.6983\n",
            "Epoch 482/500\n",
            "2/2 [==============================] - 0s 4ms/step - loss: 22.2981 - mse: 747.4349\n",
            "Epoch 483/500\n",
            "2/2 [==============================] - 0s 13ms/step - loss: 25.8888 - mse: 1000.5073\n",
            "Epoch 484/500\n",
            "2/2 [==============================] - 0s 7ms/step - loss: 24.0995 - mse: 829.2946\n",
            "Epoch 485/500\n",
            "2/2 [==============================] - 0s 7ms/step - loss: 5.2883 - mse: 42.5803\n",
            "Epoch 486/500\n",
            "2/2 [==============================] - 0s 3ms/step - loss: 20.4084 - mse: 584.4699\n",
            "Epoch 487/500\n",
            "2/2 [==============================] - 0s 9ms/step - loss: 14.3825 - mse: 298.7796\n",
            "Epoch 488/500\n",
            "2/2 [==============================] - 0s 6ms/step - loss: 32.0213 - mse: 1421.6174\n",
            "Epoch 489/500\n",
            "2/2 [==============================] - 0s 7ms/step - loss: 11.1841 - mse: 197.7452\n",
            "Epoch 490/500\n",
            "2/2 [==============================] - 0s 10ms/step - loss: 11.9448 - mse: 216.1493\n",
            "Epoch 491/500\n",
            "2/2 [==============================] - 0s 6ms/step - loss: 24.6860 - mse: 895.7283\n",
            "Epoch 492/500\n",
            "2/2 [==============================] - 0s 9ms/step - loss: 20.3409 - mse: 585.7671\n",
            "Epoch 493/500\n",
            "2/2 [==============================] - 0s 7ms/step - loss: 4.5806 - mse: 36.7325\n",
            "Epoch 494/500\n",
            "2/2 [==============================] - 0s 8ms/step - loss: 12.1887 - mse: 222.5378\n",
            "Epoch 495/500\n",
            "2/2 [==============================] - 0s 9ms/step - loss: 13.4238 - mse: 240.4185\n",
            "Epoch 496/500\n",
            "2/2 [==============================] - 0s 3ms/step - loss: 12.0397 - mse: 213.6411\n",
            "Epoch 497/500\n",
            "2/2 [==============================] - 0s 11ms/step - loss: 18.8880 - mse: 557.6346\n",
            "Epoch 498/500\n",
            "2/2 [==============================] - 0s 9ms/step - loss: 23.8076 - mse: 844.5661\n",
            "Epoch 499/500\n",
            "2/2 [==============================] - 0s 10ms/step - loss: 8.9942 - mse: 125.7282\n",
            "Epoch 500/500\n",
            "2/2 [==============================] - 0s 10ms/step - loss: 15.1579 - mse: 313.4051\n"
          ],
          "name": "stdout"
        },
        {
          "output_type": "execute_result",
          "data": {
            "text/plain": [
              "<tensorflow.python.keras.callbacks.History at 0x7fc66909d410>"
            ]
          },
          "metadata": {
            "tags": []
          },
          "execution_count": 69
        }
      ]
    },
    {
      "cell_type": "code",
      "metadata": {
        "colab": {
          "base_uri": "https://localhost:8080/",
          "height": 629
        },
        "id": "1Tfj7npn4YLj",
        "outputId": "bc7e83bd-44d8-4bd5-ae63-ca18c2df778b"
      },
      "source": [
        "y_pred_3 = model_3.predict(X_test)\n",
        "plot_predictions(predictions=y_pred_3)"
      ],
      "execution_count": null,
      "outputs": [
        {
          "output_type": "stream",
          "text": [
            "WARNING:tensorflow:11 out of the last 11 calls to <function Model.make_predict_function.<locals>.predict_function at 0x7fc6ab6c0290> triggered tf.function retracing. Tracing is expensive and the excessive number of tracings could be due to (1) creating @tf.function repeatedly in a loop, (2) passing tensors with different shapes, (3) passing Python objects instead of tensors. For (1), please define your @tf.function outside of the loop. For (2), @tf.function has experimental_relax_shapes=True option that relaxes argument shapes that can avoid unnecessary retracing. For (3), please refer to https://www.tensorflow.org/guide/function#controlling_retracing and https://www.tensorflow.org/api_docs/python/tf/function for  more details.\n"
          ],
          "name": "stdout"
        },
        {
          "output_type": "display_data",
          "data": {
            "image/png": "[encoded data removed]",
            "text/plain": [
              "<Figure size 720x720 with 1 Axes>"
            ]
          },
          "metadata": {
            "tags": [],
            "needs_background": "light"
          }
        }
      ]
    },
    {
      "cell_type": "code",
      "metadata": {
        "colab": {
          "base_uri": "https://localhost:8080/"
        },
        "id": "NZR533Ah4jO7",
        "outputId": "14ec9f1a-7e64-4836-d778-df3a4b8cd732"
      },
      "source": [
        "mae_3 = mae(y_test, y_pred_3)\n",
        "mse_3 = mse(y_test, y_pred_3)\n",
        "\n",
        "mae_3, mse_3"
      ],
      "execution_count": null,
      "outputs": [
        {
          "output_type": "execute_result",
          "data": {
            "text/plain": [
              "(<tf.Tensor: shape=(), dtype=float32, numpy=68.713615>,\n",
              " <tf.Tensor: shape=(), dtype=float32, numpy=4808.0273>)"
            ]
          },
          "metadata": {
            "tags": []
          },
          "execution_count": 71
        }
      ]
    },
    {
      "cell_type": "markdown",
      "metadata": {
        "id": "Wej5F4aEl7bz"
      },
      "source": [
        "### On own"
      ]
    },
    {
      "cell_type": "code",
      "metadata": {
        "id": "AEDtrO6Y4ryH",
        "colab": {
          "base_uri": "https://localhost:8080/"
        },
        "outputId": "ef098eab-e779-4f9d-9d40-e0e8af26e7d6"
      },
      "source": [
        "# Set random seed\n",
        "\n",
        "tf.random.set_seed(42)\n",
        "\n",
        "# 1. Create a model\n",
        "\n",
        "my_model = tf.keras.Sequential(\n",
        "    layers=[tf.keras.layers.Dense(40, input_shape=(1,)),\n",
        "            tf.keras.layers.Dense(100, activation='relu'),\n",
        "            tf.keras.layers.Dense(40, activation='relu'),\n",
        "            tf.keras.layers.Dense(1)]\n",
        "    )\n",
        "\n",
        "\n",
        "# 2. Compile the model\n",
        "\n",
        "my_model.compile(loss=tf.keras.losses.mae,\n",
        "                 optimizer=tf.keras.optimizers.Adam(),\n",
        "                 metrics=[\"mse\"])\n",
        "\n",
        "# 3. Fit the model\n",
        "\n",
        "my_model.fit(X_train, y_train, epochs=500)"
      ],
      "execution_count": null,
      "outputs": [
        {
          "output_type": "stream",
          "text": [
            "Epoch 1/500\n",
            "2/2 [==============================] - 0s 7ms/step - loss: 42.2512 - mse: 2447.9295\n",
            "Epoch 2/500\n",
            "2/2 [==============================] - 0s 10ms/step - loss: 37.9907 - mse: 1998.8449\n",
            "Epoch 3/500\n",
            "2/2 [==============================] - 0s 5ms/step - loss: 34.2784 - mse: 1621.9976\n",
            "Epoch 4/500\n",
            "2/2 [==============================] - 0s 6ms/step - loss: 30.6170 - mse: 1299.1794\n",
            "Epoch 5/500\n",
            "2/2 [==============================] - 0s 4ms/step - loss: 27.4946 - mse: 1061.0043\n",
            "Epoch 6/500\n",
            "2/2 [==============================] - 0s 9ms/step - loss: 24.3460 - mse: 818.7739\n",
            "Epoch 7/500\n",
            "2/2 [==============================] - 0s 7ms/step - loss: 20.7147 - mse: 590.7936\n",
            "Epoch 8/500\n",
            "2/2 [==============================] - 0s 4ms/step - loss: 16.3660 - mse: 361.5959\n",
            "Epoch 9/500\n",
            "2/2 [==============================] - 0s 6ms/step - loss: 13.0989 - mse: 242.3504\n",
            "Epoch 10/500\n",
            "2/2 [==============================] - 0s 7ms/step - loss: 9.4898 - mse: 125.8575\n",
            "Epoch 11/500\n",
            "2/2 [==============================] - 0s 4ms/step - loss: 5.7341 - mse: 47.5273\n",
            "Epoch 12/500\n",
            "2/2 [==============================] - 0s 7ms/step - loss: 4.7250 - mse: 30.4834\n",
            "Epoch 13/500\n",
            "2/2 [==============================] - 0s 7ms/step - loss: 6.4067 - mse: 52.0542\n",
            "Epoch 14/500\n",
            "2/2 [==============================] - 0s 9ms/step - loss: 6.9100 - mse: 60.4422\n",
            "Epoch 15/500\n",
            "2/2 [==============================] - 0s 10ms/step - loss: 5.9980 - mse: 53.6510\n",
            "Epoch 16/500\n",
            "2/2 [==============================] - 0s 7ms/step - loss: 5.2207 - mse: 39.8675\n",
            "Epoch 17/500\n",
            "2/2 [==============================] - 0s 6ms/step - loss: 4.9466 - mse: 32.4654\n",
            "Epoch 18/500\n",
            "2/2 [==============================] - 0s 6ms/step - loss: 4.9415 - mse: 32.8867\n",
            "Epoch 19/500\n",
            "2/2 [==============================] - 0s 5ms/step - loss: 4.6892 - mse: 30.7534\n",
            "Epoch 20/500\n",
            "2/2 [==============================] - 0s 3ms/step - loss: 5.0073 - mse: 32.7876\n",
            "Epoch 21/500\n",
            "2/2 [==============================] - 0s 5ms/step - loss: 4.9903 - mse: 31.8069\n",
            "Epoch 22/500\n",
            "2/2 [==============================] - 0s 5ms/step - loss: 4.5237 - mse: 28.3974\n",
            "Epoch 23/500\n",
            "2/2 [==============================] - 0s 4ms/step - loss: 4.4569 - mse: 28.5422\n",
            "Epoch 24/500\n",
            "2/2 [==============================] - 0s 7ms/step - loss: 4.4729 - mse: 28.4132\n",
            "Epoch 25/500\n",
            "2/2 [==============================] - 0s 4ms/step - loss: 4.2764 - mse: 26.4148\n",
            "Epoch 26/500\n",
            "2/2 [==============================] - 0s 4ms/step - loss: 4.3586 - mse: 25.9812\n",
            "Epoch 27/500\n",
            "2/2 [==============================] - 0s 13ms/step - loss: 4.4877 - mse: 27.6860\n",
            "Epoch 28/500\n",
            "2/2 [==============================] - 0s 7ms/step - loss: 4.3664 - mse: 26.3517\n",
            "Epoch 29/500\n",
            "2/2 [==============================] - 0s 4ms/step - loss: 4.3889 - mse: 26.6138\n",
            "Epoch 30/500\n",
            "2/2 [==============================] - 0s 5ms/step - loss: 4.2881 - mse: 25.6672\n",
            "Epoch 31/500\n",
            "2/2 [==============================] - 0s 9ms/step - loss: 4.0902 - mse: 24.6859\n",
            "Epoch 32/500\n",
            "2/2 [==============================] - 0s 5ms/step - loss: 4.0372 - mse: 24.7656\n",
            "Epoch 33/500\n",
            "2/2 [==============================] - 0s 4ms/step - loss: 4.1033 - mse: 24.8147\n",
            "Epoch 34/500\n",
            "2/2 [==============================] - 0s 5ms/step - loss: 4.0981 - mse: 24.4283\n",
            "Epoch 35/500\n",
            "2/2 [==============================] - 0s 5ms/step - loss: 4.1449 - mse: 24.6192\n",
            "Epoch 36/500\n",
            "2/2 [==============================] - 0s 5ms/step - loss: 4.0448 - mse: 23.1391\n",
            "Epoch 37/500\n",
            "2/2 [==============================] - 0s 7ms/step - loss: 4.1836 - mse: 24.0893\n",
            "Epoch 38/500\n",
            "2/2 [==============================] - 0s 5ms/step - loss: 3.9461 - mse: 22.6899\n",
            "Epoch 39/500\n",
            "2/2 [==============================] - 0s 7ms/step - loss: 3.9626 - mse: 22.8389\n",
            "Epoch 40/500\n",
            "2/2 [==============================] - 0s 5ms/step - loss: 3.9164 - mse: 22.9852\n",
            "Epoch 41/500\n",
            "2/2 [==============================] - 0s 5ms/step - loss: 4.1240 - mse: 24.5849\n",
            "Epoch 42/500\n",
            "2/2 [==============================] - 0s 4ms/step - loss: 3.8906 - mse: 22.3946\n",
            "Epoch 43/500\n",
            "2/2 [==============================] - 0s 4ms/step - loss: 4.0519 - mse: 23.3089\n",
            "Epoch 44/500\n",
            "2/2 [==============================] - 0s 5ms/step - loss: 4.0547 - mse: 22.9711\n",
            "Epoch 45/500\n",
            "2/2 [==============================] - 0s 7ms/step - loss: 4.0734 - mse: 23.1532\n",
            "Epoch 46/500\n",
            "2/2 [==============================] - 0s 8ms/step - loss: 3.8192 - mse: 21.0422\n",
            "Epoch 47/500\n",
            "2/2 [==============================] - 0s 8ms/step - loss: 3.9627 - mse: 22.1122\n",
            "Epoch 48/500\n",
            "2/2 [==============================] - 0s 10ms/step - loss: 3.9392 - mse: 22.4895\n",
            "Epoch 49/500\n",
            "2/2 [==============================] - 0s 12ms/step - loss: 3.9126 - mse: 22.3111\n",
            "Epoch 50/500\n",
            "2/2 [==============================] - 0s 8ms/step - loss: 3.8953 - mse: 21.9054\n",
            "Epoch 51/500\n",
            "2/2 [==============================] - 0s 9ms/step - loss: 4.0352 - mse: 23.1661\n",
            "Epoch 52/500\n",
            "2/2 [==============================] - 0s 5ms/step - loss: 3.9853 - mse: 22.7977\n",
            "Epoch 53/500\n",
            "2/2 [==============================] - 0s 7ms/step - loss: 3.9962 - mse: 22.8602\n",
            "Epoch 54/500\n",
            "2/2 [==============================] - 0s 8ms/step - loss: 3.9409 - mse: 22.4110\n",
            "Epoch 55/500\n",
            "2/2 [==============================] - 0s 5ms/step - loss: 3.8342 - mse: 21.1916\n",
            "Epoch 56/500\n",
            "2/2 [==============================] - 0s 12ms/step - loss: 3.8866 - mse: 22.1063\n",
            "Epoch 57/500\n",
            "2/2 [==============================] - 0s 6ms/step - loss: 3.9459 - mse: 22.7650\n",
            "Epoch 58/500\n",
            "2/2 [==============================] - 0s 9ms/step - loss: 3.8606 - mse: 22.0692\n",
            "Epoch 59/500\n",
            "2/2 [==============================] - 0s 5ms/step - loss: 3.7860 - mse: 21.8916\n",
            "Epoch 60/500\n",
            "2/2 [==============================] - 0s 5ms/step - loss: 3.7702 - mse: 20.5673\n",
            "Epoch 61/500\n",
            "2/2 [==============================] - 0s 8ms/step - loss: 3.9988 - mse: 22.1458\n",
            "Epoch 62/500\n",
            "2/2 [==============================] - 0s 10ms/step - loss: 3.8461 - mse: 21.2246\n",
            "Epoch 63/500\n",
            "2/2 [==============================] - 0s 5ms/step - loss: 3.8191 - mse: 20.3903\n",
            "Epoch 64/500\n",
            "2/2 [==============================] - 0s 7ms/step - loss: 3.7375 - mse: 20.6596\n",
            "Epoch 65/500\n",
            "2/2 [==============================] - 0s 5ms/step - loss: 3.7134 - mse: 20.5671\n",
            "Epoch 66/500\n",
            "2/2 [==============================] - 0s 7ms/step - loss: 3.8346 - mse: 21.7025\n",
            "Epoch 67/500\n",
            "2/2 [==============================] - 0s 5ms/step - loss: 3.7473 - mse: 20.4775\n",
            "Epoch 68/500\n",
            "2/2 [==============================] - 0s 5ms/step - loss: 3.6706 - mse: 19.4204\n",
            "Epoch 69/500\n",
            "2/2 [==============================] - 0s 5ms/step - loss: 3.7023 - mse: 20.0763\n",
            "Epoch 70/500\n",
            "2/2 [==============================] - 0s 4ms/step - loss: 3.7320 - mse: 20.3420\n",
            "Epoch 71/500\n",
            "2/2 [==============================] - 0s 5ms/step - loss: 3.7405 - mse: 20.5005\n",
            "Epoch 72/500\n",
            "2/2 [==============================] - 0s 6ms/step - loss: 3.7867 - mse: 20.9616\n",
            "Epoch 73/500\n",
            "2/2 [==============================] - 0s 8ms/step - loss: 3.8721 - mse: 22.0121\n",
            "Epoch 74/500\n",
            "2/2 [==============================] - 0s 4ms/step - loss: 3.7295 - mse: 20.3220\n",
            "Epoch 75/500\n",
            "2/2 [==============================] - 0s 7ms/step - loss: 3.8820 - mse: 21.2453\n",
            "Epoch 76/500\n",
            "2/2 [==============================] - 0s 6ms/step - loss: 3.9573 - mse: 21.4650\n",
            "Epoch 77/500\n",
            "2/2 [==============================] - 0s 8ms/step - loss: 3.9752 - mse: 21.7588\n",
            "Epoch 78/500\n",
            "2/2 [==============================] - 0s 6ms/step - loss: 3.6698 - mse: 19.8357\n",
            "Epoch 79/500\n",
            "2/2 [==============================] - 0s 4ms/step - loss: 3.6797 - mse: 20.3701\n",
            "Epoch 80/500\n",
            "2/2 [==============================] - 0s 4ms/step - loss: 3.8834 - mse: 21.6194\n",
            "Epoch 81/500\n",
            "2/2 [==============================] - 0s 4ms/step - loss: 3.5526 - mse: 18.7182\n",
            "Epoch 82/500\n",
            "2/2 [==============================] - 0s 8ms/step - loss: 3.6135 - mse: 18.5348\n",
            "Epoch 83/500\n",
            "2/2 [==============================] - 0s 8ms/step - loss: 3.6663 - mse: 18.8983\n",
            "Epoch 84/500\n",
            "2/2 [==============================] - 0s 5ms/step - loss: 3.8946 - mse: 20.7602\n",
            "Epoch 85/500\n",
            "2/2 [==============================] - 0s 5ms/step - loss: 3.8267 - mse: 20.5973\n",
            "Epoch 86/500\n",
            "2/2 [==============================] - 0s 5ms/step - loss: 3.4091 - mse: 17.4062\n",
            "Epoch 87/500\n",
            "2/2 [==============================] - 0s 4ms/step - loss: 4.0118 - mse: 22.0127\n",
            "Epoch 88/500\n",
            "2/2 [==============================] - 0s 7ms/step - loss: 4.2187 - mse: 23.2752\n",
            "Epoch 89/500\n",
            "2/2 [==============================] - 0s 5ms/step - loss: 3.6512 - mse: 19.2484\n",
            "Epoch 90/500\n",
            "2/2 [==============================] - 0s 7ms/step - loss: 3.5972 - mse: 18.0987\n",
            "Epoch 91/500\n",
            "2/2 [==============================] - 0s 7ms/step - loss: 3.6334 - mse: 18.6719\n",
            "Epoch 92/500\n",
            "2/2 [==============================] - 0s 5ms/step - loss: 3.6189 - mse: 18.5756\n",
            "Epoch 93/500\n",
            "2/2 [==============================] - 0s 9ms/step - loss: 3.5181 - mse: 18.3074\n",
            "Epoch 94/500\n",
            "2/2 [==============================] - 0s 6ms/step - loss: 3.5730 - mse: 18.9522\n",
            "Epoch 95/500\n",
            "2/2 [==============================] - 0s 4ms/step - loss: 3.4873 - mse: 18.2417\n",
            "Epoch 96/500\n",
            "2/2 [==============================] - 0s 7ms/step - loss: 3.6115 - mse: 18.6025\n",
            "Epoch 97/500\n",
            "2/2 [==============================] - 0s 14ms/step - loss: 3.5049 - mse: 17.5297\n",
            "Epoch 98/500\n",
            "2/2 [==============================] - 0s 15ms/step - loss: 3.5668 - mse: 17.7059\n",
            "Epoch 99/500\n",
            "2/2 [==============================] - 0s 7ms/step - loss: 3.5506 - mse: 17.9699\n",
            "Epoch 100/500\n",
            "2/2 [==============================] - 0s 4ms/step - loss: 3.3958 - mse: 16.9955\n",
            "Epoch 101/500\n",
            "2/2 [==============================] - 0s 6ms/step - loss: 3.4906 - mse: 17.7204\n",
            "Epoch 102/500\n",
            "2/2 [==============================] - 0s 5ms/step - loss: 3.5831 - mse: 18.5574\n",
            "Epoch 103/500\n",
            "2/2 [==============================] - 0s 7ms/step - loss: 3.4740 - mse: 18.0696\n",
            "Epoch 104/500\n",
            "2/2 [==============================] - 0s 14ms/step - loss: 3.4041 - mse: 16.7350\n",
            "Epoch 105/500\n",
            "2/2 [==============================] - 0s 8ms/step - loss: 3.3739 - mse: 16.6794\n",
            "Epoch 106/500\n",
            "2/2 [==============================] - 0s 4ms/step - loss: 3.4425 - mse: 17.1732\n",
            "Epoch 107/500\n",
            "2/2 [==============================] - 0s 11ms/step - loss: 3.3929 - mse: 17.2730\n",
            "Epoch 108/500\n",
            "2/2 [==============================] - 0s 6ms/step - loss: 3.3019 - mse: 16.2901\n",
            "Epoch 109/500\n",
            "2/2 [==============================] - 0s 6ms/step - loss: 3.3516 - mse: 16.2553\n",
            "Epoch 110/500\n",
            "2/2 [==============================] - 0s 13ms/step - loss: 3.4205 - mse: 16.6201\n",
            "Epoch 111/500\n",
            "2/2 [==============================] - 0s 6ms/step - loss: 3.4072 - mse: 16.5210\n",
            "Epoch 112/500\n",
            "2/2 [==============================] - 0s 12ms/step - loss: 3.3462 - mse: 16.4817\n",
            "Epoch 113/500\n",
            "2/2 [==============================] - 0s 6ms/step - loss: 3.4717 - mse: 17.2454\n",
            "Epoch 114/500\n",
            "2/2 [==============================] - 0s 11ms/step - loss: 3.3791 - mse: 16.9162\n",
            "Epoch 115/500\n",
            "2/2 [==============================] - 0s 6ms/step - loss: 3.3312 - mse: 16.2316\n",
            "Epoch 116/500\n",
            "2/2 [==============================] - 0s 4ms/step - loss: 3.3784 - mse: 16.0268\n",
            "Epoch 117/500\n",
            "2/2 [==============================] - 0s 4ms/step - loss: 3.3976 - mse: 15.9013\n",
            "Epoch 118/500\n",
            "2/2 [==============================] - 0s 4ms/step - loss: 3.2090 - mse: 14.6966\n",
            "Epoch 119/500\n",
            "2/2 [==============================] - 0s 6ms/step - loss: 3.4058 - mse: 16.8456\n",
            "Epoch 120/500\n",
            "2/2 [==============================] - 0s 8ms/step - loss: 3.2892 - mse: 16.0261\n",
            "Epoch 121/500\n",
            "2/2 [==============================] - 0s 4ms/step - loss: 3.2543 - mse: 15.4736\n",
            "Epoch 122/500\n",
            "2/2 [==============================] - 0s 6ms/step - loss: 3.2510 - mse: 15.4674\n",
            "Epoch 123/500\n",
            "2/2 [==============================] - 0s 6ms/step - loss: 3.1532 - mse: 14.8612\n",
            "Epoch 124/500\n",
            "2/2 [==============================] - 0s 5ms/step - loss: 3.5144 - mse: 17.3662\n",
            "Epoch 125/500\n",
            "2/2 [==============================] - 0s 5ms/step - loss: 3.2573 - mse: 15.0892\n",
            "Epoch 126/500\n",
            "2/2 [==============================] - 0s 4ms/step - loss: 3.3099 - mse: 14.9749\n",
            "Epoch 127/500\n",
            "2/2 [==============================] - 0s 5ms/step - loss: 3.2453 - mse: 14.4534\n",
            "Epoch 128/500\n",
            "2/2 [==============================] - 0s 4ms/step - loss: 3.2098 - mse: 14.6016\n",
            "Epoch 129/500\n",
            "2/2 [==============================] - 0s 4ms/step - loss: 3.0989 - mse: 14.1179\n",
            "Epoch 130/500\n",
            "2/2 [==============================] - 0s 4ms/step - loss: 3.1815 - mse: 14.8305\n",
            "Epoch 131/500\n",
            "2/2 [==============================] - 0s 5ms/step - loss: 2.9724 - mse: 13.0797\n",
            "Epoch 132/500\n",
            "2/2 [==============================] - 0s 5ms/step - loss: 3.0164 - mse: 13.3545\n",
            "Epoch 133/500\n",
            "2/2 [==============================] - 0s 5ms/step - loss: 3.0030 - mse: 13.1020\n",
            "Epoch 134/500\n",
            "2/2 [==============================] - 0s 4ms/step - loss: 3.1058 - mse: 13.8125\n",
            "Epoch 135/500\n",
            "2/2 [==============================] - 0s 5ms/step - loss: 3.1042 - mse: 13.7748\n",
            "Epoch 136/500\n",
            "2/2 [==============================] - 0s 4ms/step - loss: 3.0858 - mse: 13.4432\n",
            "Epoch 137/500\n",
            "2/2 [==============================] - 0s 5ms/step - loss: 3.0513 - mse: 13.8253\n",
            "Epoch 138/500\n",
            "2/2 [==============================] - 0s 5ms/step - loss: 3.1403 - mse: 14.5991\n",
            "Epoch 139/500\n",
            "2/2 [==============================] - 0s 5ms/step - loss: 3.0124 - mse: 13.2781\n",
            "Epoch 140/500\n",
            "2/2 [==============================] - 0s 5ms/step - loss: 2.9441 - mse: 12.4257\n",
            "Epoch 141/500\n",
            "2/2 [==============================] - 0s 8ms/step - loss: 2.9638 - mse: 12.3149\n",
            "Epoch 142/500\n",
            "2/2 [==============================] - 0s 5ms/step - loss: 2.9692 - mse: 12.5280\n",
            "Epoch 143/500\n",
            "2/2 [==============================] - 0s 5ms/step - loss: 2.8858 - mse: 12.0123\n",
            "Epoch 144/500\n",
            "2/2 [==============================] - 0s 5ms/step - loss: 3.0489 - mse: 13.0230\n",
            "Epoch 145/500\n",
            "2/2 [==============================] - 0s 5ms/step - loss: 2.9363 - mse: 12.1799\n",
            "Epoch 146/500\n",
            "2/2 [==============================] - 0s 5ms/step - loss: 2.8898 - mse: 11.8582\n",
            "Epoch 147/500\n",
            "2/2 [==============================] - 0s 5ms/step - loss: 2.7941 - mse: 11.7548\n",
            "Epoch 148/500\n",
            "2/2 [==============================] - 0s 15ms/step - loss: 2.6983 - mse: 10.7677\n",
            "Epoch 149/500\n",
            "2/2 [==============================] - 0s 6ms/step - loss: 2.8872 - mse: 11.7590\n",
            "Epoch 150/500\n",
            "2/2 [==============================] - 0s 5ms/step - loss: 2.8488 - mse: 11.5005\n",
            "Epoch 151/500\n",
            "2/2 [==============================] - 0s 12ms/step - loss: 2.7833 - mse: 11.2416\n",
            "Epoch 152/500\n",
            "2/2 [==============================] - 0s 5ms/step - loss: 2.9717 - mse: 12.6011\n",
            "Epoch 153/500\n",
            "2/2 [==============================] - 0s 13ms/step - loss: 2.6233 - mse: 10.1886\n",
            "Epoch 154/500\n",
            "2/2 [==============================] - 0s 7ms/step - loss: 3.2756 - mse: 15.1126\n",
            "Epoch 155/500\n",
            "2/2 [==============================] - 0s 6ms/step - loss: 3.3370 - mse: 15.4691\n",
            "Epoch 156/500\n",
            "2/2 [==============================] - 0s 4ms/step - loss: 2.5873 - mse: 9.6806\n",
            "Epoch 157/500\n",
            "2/2 [==============================] - 0s 5ms/step - loss: 3.3438 - mse: 13.8864\n",
            "Epoch 158/500\n",
            "2/2 [==============================] - 0s 7ms/step - loss: 3.3467 - mse: 13.9398\n",
            "Epoch 159/500\n",
            "2/2 [==============================] - 0s 9ms/step - loss: 2.6872 - mse: 10.3047\n",
            "Epoch 160/500\n",
            "2/2 [==============================] - 0s 8ms/step - loss: 2.8169 - mse: 10.9313\n",
            "Epoch 161/500\n",
            "2/2 [==============================] - 0s 11ms/step - loss: 2.7602 - mse: 10.3835\n",
            "Epoch 162/500\n",
            "2/2 [==============================] - 0s 17ms/step - loss: 2.7074 - mse: 9.8900\n",
            "Epoch 163/500\n",
            "2/2 [==============================] - 0s 6ms/step - loss: 2.7000 - mse: 10.4899\n",
            "Epoch 164/500\n",
            "2/2 [==============================] - 0s 5ms/step - loss: 2.5204 - mse: 9.0505\n",
            "Epoch 165/500\n",
            "2/2 [==============================] - 0s 8ms/step - loss: 2.6547 - mse: 9.7373\n",
            "Epoch 166/500\n",
            "2/2 [==============================] - 0s 14ms/step - loss: 2.5451 - mse: 9.1506\n",
            "Epoch 167/500\n",
            "2/2 [==============================] - 0s 9ms/step - loss: 2.4678 - mse: 8.8878\n",
            "Epoch 168/500\n",
            "2/2 [==============================] - 0s 15ms/step - loss: 2.8624 - mse: 11.1423\n",
            "Epoch 169/500\n",
            "2/2 [==============================] - 0s 7ms/step - loss: 2.3236 - mse: 7.9227\n",
            "Epoch 170/500\n",
            "2/2 [==============================] - 0s 7ms/step - loss: 2.7862 - mse: 10.8699\n",
            "Epoch 171/500\n",
            "2/2 [==============================] - 0s 8ms/step - loss: 2.8354 - mse: 11.0566\n",
            "Epoch 172/500\n",
            "2/2 [==============================] - 0s 7ms/step - loss: 2.3311 - mse: 7.8474\n",
            "Epoch 173/500\n",
            "2/2 [==============================] - 0s 7ms/step - loss: 2.8582 - mse: 10.4728\n",
            "Epoch 174/500\n",
            "2/2 [==============================] - 0s 7ms/step - loss: 2.5878 - mse: 9.4714\n",
            "Epoch 175/500\n",
            "2/2 [==============================] - 0s 8ms/step - loss: 2.4781 - mse: 8.5865\n",
            "Epoch 176/500\n",
            "2/2 [==============================] - 0s 9ms/step - loss: 3.1567 - mse: 14.4938\n",
            "Epoch 177/500\n",
            "2/2 [==============================] - 0s 8ms/step - loss: 2.9883 - mse: 13.5830\n",
            "Epoch 178/500\n",
            "2/2 [==============================] - 0s 5ms/step - loss: 2.6461 - mse: 9.2633\n",
            "Epoch 179/500\n",
            "2/2 [==============================] - 0s 6ms/step - loss: 2.3267 - mse: 7.6156\n",
            "Epoch 180/500\n",
            "2/2 [==============================] - 0s 6ms/step - loss: 2.5160 - mse: 8.3428\n",
            "Epoch 181/500\n",
            "2/2 [==============================] - 0s 8ms/step - loss: 2.1803 - mse: 6.6376\n",
            "Epoch 182/500\n",
            "2/2 [==============================] - 0s 6ms/step - loss: 2.1408 - mse: 6.4498\n",
            "Epoch 183/500\n",
            "2/2 [==============================] - 0s 7ms/step - loss: 2.0837 - mse: 6.0501\n",
            "Epoch 184/500\n",
            "2/2 [==============================] - 0s 5ms/step - loss: 2.6202 - mse: 9.5938\n",
            "Epoch 185/500\n",
            "2/2 [==============================] - 0s 9ms/step - loss: 2.5105 - mse: 9.5677\n",
            "Epoch 186/500\n",
            "2/2 [==============================] - 0s 5ms/step - loss: 2.4064 - mse: 7.7753\n",
            "Epoch 187/500\n",
            "2/2 [==============================] - 0s 4ms/step - loss: 2.0359 - mse: 5.6502\n",
            "Epoch 188/500\n",
            "2/2 [==============================] - 0s 4ms/step - loss: 2.1719 - mse: 6.2146\n",
            "Epoch 189/500\n",
            "2/2 [==============================] - 0s 7ms/step - loss: 2.3537 - mse: 7.0530\n",
            "Epoch 190/500\n",
            "2/2 [==============================] - 0s 9ms/step - loss: 1.8300 - mse: 4.7236\n",
            "Epoch 191/500\n",
            "2/2 [==============================] - 0s 5ms/step - loss: 2.0461 - mse: 5.5849\n",
            "Epoch 192/500\n",
            "2/2 [==============================] - 0s 7ms/step - loss: 1.8743 - mse: 4.7228\n",
            "Epoch 193/500\n",
            "2/2 [==============================] - 0s 6ms/step - loss: 1.7866 - mse: 4.3814\n",
            "Epoch 194/500\n",
            "2/2 [==============================] - 0s 5ms/step - loss: 1.4420 - mse: 3.2015\n",
            "Epoch 195/500\n",
            "2/2 [==============================] - 0s 4ms/step - loss: 1.9196 - mse: 5.3913\n",
            "Epoch 196/500\n",
            "2/2 [==============================] - 0s 15ms/step - loss: 1.4419 - mse: 2.8230\n",
            "Epoch 197/500\n",
            "2/2 [==============================] - 0s 4ms/step - loss: 2.0899 - mse: 5.2044\n",
            "Epoch 198/500\n",
            "2/2 [==============================] - 0s 7ms/step - loss: 1.7474 - mse: 3.9057\n",
            "Epoch 199/500\n",
            "2/2 [==============================] - 0s 7ms/step - loss: 1.7070 - mse: 3.9892\n",
            "Epoch 200/500\n",
            "2/2 [==============================] - 0s 5ms/step - loss: 1.7773 - mse: 3.7865\n",
            "Epoch 201/500\n",
            "2/2 [==============================] - 0s 6ms/step - loss: 1.4478 - mse: 2.7848\n",
            "Epoch 202/500\n",
            "2/2 [==============================] - 0s 14ms/step - loss: 1.6417 - mse: 4.1709\n",
            "Epoch 203/500\n",
            "2/2 [==============================] - 0s 8ms/step - loss: 1.1962 - mse: 1.8849\n",
            "Epoch 204/500\n",
            "2/2 [==============================] - 0s 8ms/step - loss: 1.2529 - mse: 2.0317\n",
            "Epoch 205/500\n",
            "2/2 [==============================] - 0s 5ms/step - loss: 1.1524 - mse: 1.8480\n",
            "Epoch 206/500\n",
            "2/2 [==============================] - 0s 5ms/step - loss: 1.1274 - mse: 1.7305\n",
            "Epoch 207/500\n",
            "2/2 [==============================] - 0s 13ms/step - loss: 1.0721 - mse: 1.6233\n",
            "Epoch 208/500\n",
            "2/2 [==============================] - 0s 5ms/step - loss: 1.0356 - mse: 1.5478\n",
            "Epoch 209/500\n",
            "2/2 [==============================] - 0s 4ms/step - loss: 1.0881 - mse: 1.4552\n",
            "Epoch 210/500\n",
            "2/2 [==============================] - 0s 8ms/step - loss: 1.3578 - mse: 3.5851\n",
            "Epoch 211/500\n",
            "2/2 [==============================] - 0s 8ms/step - loss: 1.2764 - mse: 2.9895\n",
            "Epoch 212/500\n",
            "2/2 [==============================] - 0s 5ms/step - loss: 1.7010 - mse: 4.0162\n",
            "Epoch 213/500\n",
            "2/2 [==============================] - 0s 9ms/step - loss: 2.2697 - mse: 6.2027\n",
            "Epoch 214/500\n",
            "2/2 [==============================] - 0s 6ms/step - loss: 2.2000 - mse: 6.5319\n",
            "Epoch 215/500\n",
            "2/2 [==============================] - 0s 6ms/step - loss: 1.5873 - mse: 3.7078\n",
            "Epoch 216/500\n",
            "2/2 [==============================] - 0s 8ms/step - loss: 1.7363 - mse: 3.7657\n",
            "Epoch 217/500\n",
            "2/2 [==============================] - 0s 7ms/step - loss: 0.9906 - mse: 1.6001\n",
            "Epoch 218/500\n",
            "2/2 [==============================] - 0s 6ms/step - loss: 1.4812 - mse: 3.9861\n",
            "Epoch 219/500\n",
            "2/2 [==============================] - 0s 5ms/step - loss: 0.5373 - mse: 0.4991\n",
            "Epoch 220/500\n",
            "2/2 [==============================] - 0s 7ms/step - loss: 1.7177 - mse: 3.9703\n",
            "Epoch 221/500\n",
            "2/2 [==============================] - 0s 7ms/step - loss: 0.6382 - mse: 1.0246\n",
            "Epoch 222/500\n",
            "2/2 [==============================] - 0s 6ms/step - loss: 1.4481 - mse: 4.3960\n",
            "Epoch 223/500\n",
            "2/2 [==============================] - 0s 9ms/step - loss: 0.7713 - mse: 1.0093\n",
            "Epoch 224/500\n",
            "2/2 [==============================] - 0s 7ms/step - loss: 0.8111 - mse: 1.0361\n",
            "Epoch 225/500\n",
            "2/2 [==============================] - 0s 6ms/step - loss: 2.1069 - mse: 5.7272\n",
            "Epoch 226/500\n",
            "2/2 [==============================] - 0s 6ms/step - loss: 1.5878 - mse: 3.9075\n",
            "Epoch 227/500\n",
            "2/2 [==============================] - 0s 5ms/step - loss: 1.9419 - mse: 4.9870\n",
            "Epoch 228/500\n",
            "2/2 [==============================] - 0s 5ms/step - loss: 2.6935 - mse: 9.3358\n",
            "Epoch 229/500\n",
            "2/2 [==============================] - 0s 5ms/step - loss: 0.9004 - mse: 1.2703\n",
            "Epoch 230/500\n",
            "2/2 [==============================] - 0s 6ms/step - loss: 2.4312 - mse: 8.8314\n",
            "Epoch 231/500\n",
            "2/2 [==============================] - 0s 6ms/step - loss: 2.2980 - mse: 8.3903\n",
            "Epoch 232/500\n",
            "2/2 [==============================] - 0s 6ms/step - loss: 1.2562 - mse: 2.0907\n",
            "Epoch 233/500\n",
            "2/2 [==============================] - 0s 8ms/step - loss: 1.5657 - mse: 3.0450\n",
            "Epoch 234/500\n",
            "2/2 [==============================] - 0s 13ms/step - loss: 1.4609 - mse: 3.2909\n",
            "Epoch 235/500\n",
            "2/2 [==============================] - 0s 4ms/step - loss: 1.6851 - mse: 5.8866\n",
            "Epoch 236/500\n",
            "2/2 [==============================] - 0s 4ms/step - loss: 1.6341 - mse: 4.9785\n",
            "Epoch 237/500\n",
            "2/2 [==============================] - 0s 4ms/step - loss: 1.3100 - mse: 2.6224\n",
            "Epoch 238/500\n",
            "2/2 [==============================] - 0s 5ms/step - loss: 1.4150 - mse: 2.3892\n",
            "Epoch 239/500\n",
            "2/2 [==============================] - 0s 6ms/step - loss: 0.7767 - mse: 0.8555\n",
            "Epoch 240/500\n",
            "2/2 [==============================] - 0s 6ms/step - loss: 1.2555 - mse: 2.6214\n",
            "Epoch 241/500\n",
            "2/2 [==============================] - 0s 4ms/step - loss: 0.6149 - mse: 0.6222\n",
            "Epoch 242/500\n",
            "2/2 [==============================] - 0s 5ms/step - loss: 1.1919 - mse: 1.8817\n",
            "Epoch 243/500\n",
            "2/2 [==============================] - 0s 11ms/step - loss: 0.9070 - mse: 1.2061\n",
            "Epoch 244/500\n",
            "2/2 [==============================] - 0s 5ms/step - loss: 0.9540 - mse: 1.6123\n",
            "Epoch 245/500\n",
            "2/2 [==============================] - 0s 7ms/step - loss: 0.4718 - mse: 0.4068\n",
            "Epoch 246/500\n",
            "2/2 [==============================] - 0s 10ms/step - loss: 1.2961 - mse: 3.1097\n",
            "Epoch 247/500\n",
            "2/2 [==============================] - 0s 5ms/step - loss: 0.7070 - mse: 0.8337\n",
            "Epoch 248/500\n",
            "2/2 [==============================] - 0s 6ms/step - loss: 1.3263 - mse: 2.9327\n",
            "Epoch 249/500\n",
            "2/2 [==============================] - 0s 7ms/step - loss: 0.8608 - mse: 1.5710\n",
            "Epoch 250/500\n",
            "2/2 [==============================] - 0s 7ms/step - loss: 1.1509 - mse: 2.3294\n",
            "Epoch 251/500\n",
            "2/2 [==============================] - 0s 4ms/step - loss: 1.5279 - mse: 3.9095\n",
            "Epoch 252/500\n",
            "2/2 [==============================] - 0s 21ms/step - loss: 0.6306 - mse: 0.6379\n",
            "Epoch 253/500\n",
            "2/2 [==============================] - 0s 5ms/step - loss: 1.1622 - mse: 3.2011\n",
            "Epoch 254/500\n",
            "2/2 [==============================] - 0s 8ms/step - loss: 0.6637 - mse: 0.6498\n",
            "Epoch 255/500\n",
            "2/2 [==============================] - 0s 14ms/step - loss: 0.6252 - mse: 0.5187\n",
            "Epoch 256/500\n",
            "2/2 [==============================] - 0s 6ms/step - loss: 0.7514 - mse: 1.1039\n",
            "Epoch 257/500\n",
            "2/2 [==============================] - 0s 17ms/step - loss: 0.6443 - mse: 0.7163\n",
            "Epoch 258/500\n",
            "2/2 [==============================] - 0s 6ms/step - loss: 0.5058 - mse: 0.4349\n",
            "Epoch 259/500\n",
            "2/2 [==============================] - 0s 4ms/step - loss: 0.8635 - mse: 1.2102\n",
            "Epoch 260/500\n",
            "2/2 [==============================] - 0s 5ms/step - loss: 0.5686 - mse: 0.4851\n",
            "Epoch 261/500\n",
            "2/2 [==============================] - 0s 5ms/step - loss: 1.0438 - mse: 1.5896\n",
            "Epoch 262/500\n",
            "2/2 [==============================] - 0s 5ms/step - loss: 1.0793 - mse: 1.8292\n",
            "Epoch 263/500\n",
            "2/2 [==============================] - 0s 4ms/step - loss: 0.8239 - mse: 1.2352\n",
            "Epoch 264/500\n",
            "2/2 [==============================] - 0s 6ms/step - loss: 1.2321 - mse: 1.8290\n",
            "Epoch 265/500\n",
            "2/2 [==============================] - 0s 5ms/step - loss: 1.3586 - mse: 2.9345\n",
            "Epoch 266/500\n",
            "2/2 [==============================] - 0s 5ms/step - loss: 0.7138 - mse: 0.8025\n",
            "Epoch 267/500\n",
            "2/2 [==============================] - 0s 6ms/step - loss: 1.4703 - mse: 4.6359\n",
            "Epoch 268/500\n",
            "2/2 [==============================] - 0s 5ms/step - loss: 1.1933 - mse: 2.8834\n",
            "Epoch 269/500\n",
            "2/2 [==============================] - 0s 5ms/step - loss: 1.0321 - mse: 1.4353\n",
            "Epoch 270/500\n",
            "2/2 [==============================] - 0s 5ms/step - loss: 1.7374 - mse: 4.1972\n",
            "Epoch 271/500\n",
            "2/2 [==============================] - 0s 4ms/step - loss: 0.7743 - mse: 0.8351\n",
            "Epoch 272/500\n",
            "2/2 [==============================] - 0s 14ms/step - loss: 1.0325 - mse: 1.7736\n",
            "Epoch 273/500\n",
            "2/2 [==============================] - 0s 6ms/step - loss: 0.4583 - mse: 0.3161\n",
            "Epoch 274/500\n",
            "2/2 [==============================] - 0s 20ms/step - loss: 1.1230 - mse: 1.5819\n",
            "Epoch 275/500\n",
            "2/2 [==============================] - 0s 6ms/step - loss: 0.8706 - mse: 1.2565\n",
            "Epoch 276/500\n",
            "2/2 [==============================] - 0s 5ms/step - loss: 1.1420 - mse: 2.9795\n",
            "Epoch 277/500\n",
            "2/2 [==============================] - 0s 6ms/step - loss: 0.4892 - mse: 0.5019\n",
            "Epoch 278/500\n",
            "2/2 [==============================] - 0s 5ms/step - loss: 1.1936 - mse: 2.3938\n",
            "Epoch 279/500\n",
            "2/2 [==============================] - 0s 8ms/step - loss: 0.8773 - mse: 1.2706\n",
            "Epoch 280/500\n",
            "2/2 [==============================] - 0s 5ms/step - loss: 0.7998 - mse: 1.2260\n",
            "Epoch 281/500\n",
            "2/2 [==============================] - 0s 6ms/step - loss: 1.0009 - mse: 1.9159\n",
            "Epoch 282/500\n",
            "2/2 [==============================] - 0s 6ms/step - loss: 0.4446 - mse: 0.2861\n",
            "Epoch 283/500\n",
            "2/2 [==============================] - 0s 5ms/step - loss: 0.7094 - mse: 0.7410\n",
            "Epoch 284/500\n",
            "2/2 [==============================] - 0s 5ms/step - loss: 0.5850 - mse: 0.9721\n",
            "Epoch 285/500\n",
            "2/2 [==============================] - 0s 4ms/step - loss: 0.7805 - mse: 1.5457\n",
            "Epoch 286/500\n",
            "2/2 [==============================] - 0s 6ms/step - loss: 0.3873 - mse: 0.2492\n",
            "Epoch 287/500\n",
            "2/2 [==============================] - 0s 4ms/step - loss: 0.3484 - mse: 0.1839\n",
            "Epoch 288/500\n",
            "2/2 [==============================] - 0s 6ms/step - loss: 0.2880 - mse: 0.1915\n",
            "Epoch 289/500\n",
            "2/2 [==============================] - 0s 5ms/step - loss: 0.1726 - mse: 0.0427\n",
            "Epoch 290/500\n",
            "2/2 [==============================] - 0s 5ms/step - loss: 0.2479 - mse: 0.0774\n",
            "Epoch 291/500\n",
            "2/2 [==============================] - 0s 9ms/step - loss: 0.2799 - mse: 0.0998\n",
            "Epoch 292/500\n",
            "2/2 [==============================] - 0s 5ms/step - loss: 0.2343 - mse: 0.1048\n",
            "Epoch 293/500\n",
            "2/2 [==============================] - 0s 4ms/step - loss: 0.3715 - mse: 0.1991\n",
            "Epoch 294/500\n",
            "2/2 [==============================] - 0s 5ms/step - loss: 0.2520 - mse: 0.1141\n",
            "Epoch 295/500\n",
            "2/2 [==============================] - 0s 5ms/step - loss: 0.6062 - mse: 0.7128\n",
            "Epoch 296/500\n",
            "2/2 [==============================] - 0s 17ms/step - loss: 0.6579 - mse: 0.7612\n",
            "Epoch 297/500\n",
            "2/2 [==============================] - 0s 5ms/step - loss: 0.7273 - mse: 0.7829\n",
            "Epoch 298/500\n",
            "2/2 [==============================] - 0s 8ms/step - loss: 0.9048 - mse: 1.1545\n",
            "Epoch 299/500\n",
            "2/2 [==============================] - 0s 5ms/step - loss: 0.6140 - mse: 0.5056\n",
            "Epoch 300/500\n",
            "2/2 [==============================] - 0s 5ms/step - loss: 0.4584 - mse: 0.3203\n",
            "Epoch 301/500\n",
            "2/2 [==============================] - 0s 4ms/step - loss: 0.2887 - mse: 0.1174\n",
            "Epoch 302/500\n",
            "2/2 [==============================] - 0s 5ms/step - loss: 0.4225 - mse: 0.3667\n",
            "Epoch 303/500\n",
            "2/2 [==============================] - 0s 4ms/step - loss: 0.1844 - mse: 0.0526\n",
            "Epoch 304/500\n",
            "2/2 [==============================] - 0s 5ms/step - loss: 0.3057 - mse: 0.1987\n",
            "Epoch 305/500\n",
            "2/2 [==============================] - 0s 5ms/step - loss: 0.6662 - mse: 0.5741\n",
            "Epoch 306/500\n",
            "2/2 [==============================] - 0s 5ms/step - loss: 0.2864 - mse: 0.1357\n",
            "Epoch 307/500\n",
            "2/2 [==============================] - 0s 5ms/step - loss: 0.1275 - mse: 0.0354\n",
            "Epoch 308/500\n",
            "2/2 [==============================] - 0s 5ms/step - loss: 0.2223 - mse: 0.0796\n",
            "Epoch 309/500\n",
            "2/2 [==============================] - 0s 9ms/step - loss: 0.3004 - mse: 0.1462\n",
            "Epoch 310/500\n",
            "2/2 [==============================] - 0s 7ms/step - loss: 0.7246 - mse: 0.6943\n",
            "Epoch 311/500\n",
            "2/2 [==============================] - 0s 11ms/step - loss: 0.2725 - mse: 0.1529\n",
            "Epoch 312/500\n",
            "2/2 [==============================] - 0s 11ms/step - loss: 1.0427 - mse: 1.4823\n",
            "Epoch 313/500\n",
            "2/2 [==============================] - 0s 14ms/step - loss: 1.1525 - mse: 1.8250\n",
            "Epoch 314/500\n",
            "2/2 [==============================] - 0s 4ms/step - loss: 0.5420 - mse: 0.5734\n",
            "Epoch 315/500\n",
            "2/2 [==============================] - 0s 4ms/step - loss: 0.6457 - mse: 0.6370\n",
            "Epoch 316/500\n",
            "2/2 [==============================] - 0s 4ms/step - loss: 0.7305 - mse: 0.7221\n",
            "Epoch 317/500\n",
            "2/2 [==============================] - 0s 8ms/step - loss: 0.8934 - mse: 1.2341\n",
            "Epoch 318/500\n",
            "2/2 [==============================] - 0s 7ms/step - loss: 0.9399 - mse: 1.4251\n",
            "Epoch 319/500\n",
            "2/2 [==============================] - 0s 5ms/step - loss: 0.5330 - mse: 0.3934\n",
            "Epoch 320/500\n",
            "2/2 [==============================] - 0s 5ms/step - loss: 0.6474 - mse: 0.6325\n",
            "Epoch 321/500\n",
            "2/2 [==============================] - 0s 6ms/step - loss: 0.3707 - mse: 0.2510\n",
            "Epoch 322/500\n",
            "2/2 [==============================] - 0s 13ms/step - loss: 0.9689 - mse: 1.8297\n",
            "Epoch 323/500\n",
            "2/2 [==============================] - 0s 5ms/step - loss: 0.5920 - mse: 0.6343\n",
            "Epoch 324/500\n",
            "2/2 [==============================] - 0s 5ms/step - loss: 0.5934 - mse: 0.7878\n",
            "Epoch 325/500\n",
            "2/2 [==============================] - 0s 19ms/step - loss: 0.4206 - mse: 0.3551\n",
            "Epoch 326/500\n",
            "2/2 [==============================] - 0s 22ms/step - loss: 0.4622 - mse: 0.2775\n",
            "Epoch 327/500\n",
            "2/2 [==============================] - 0s 5ms/step - loss: 0.5834 - mse: 0.5451\n",
            "Epoch 328/500\n",
            "2/2 [==============================] - 0s 7ms/step - loss: 0.4768 - mse: 0.3104\n",
            "Epoch 329/500\n",
            "2/2 [==============================] - 0s 5ms/step - loss: 0.3706 - mse: 0.3139\n",
            "Epoch 330/500\n",
            "2/2 [==============================] - 0s 4ms/step - loss: 0.6972 - mse: 0.7854\n",
            "Epoch 331/500\n",
            "2/2 [==============================] - 0s 4ms/step - loss: 0.5986 - mse: 0.4707\n",
            "Epoch 332/500\n",
            "2/2 [==============================] - 0s 9ms/step - loss: 0.4388 - mse: 0.4167\n",
            "Epoch 333/500\n",
            "2/2 [==============================] - 0s 12ms/step - loss: 0.7502 - mse: 0.7843\n",
            "Epoch 334/500\n",
            "2/2 [==============================] - 0s 6ms/step - loss: 0.5475 - mse: 0.4016\n",
            "Epoch 335/500\n",
            "2/2 [==============================] - 0s 4ms/step - loss: 0.5131 - mse: 0.4076\n",
            "Epoch 336/500\n",
            "2/2 [==============================] - 0s 6ms/step - loss: 0.5317 - mse: 0.4672\n",
            "Epoch 337/500\n",
            "2/2 [==============================] - 0s 8ms/step - loss: 0.5903 - mse: 0.4581\n",
            "Epoch 338/500\n",
            "2/2 [==============================] - 0s 13ms/step - loss: 0.6480 - mse: 0.6617\n",
            "Epoch 339/500\n",
            "2/2 [==============================] - 0s 7ms/step - loss: 0.4778 - mse: 0.4147\n",
            "Epoch 340/500\n",
            "2/2 [==============================] - 0s 7ms/step - loss: 0.2786 - mse: 0.1303\n",
            "Epoch 341/500\n",
            "2/2 [==============================] - 0s 5ms/step - loss: 0.5978 - mse: 0.4408\n",
            "Epoch 342/500\n",
            "2/2 [==============================] - 0s 5ms/step - loss: 0.3857 - mse: 0.2208\n",
            "Epoch 343/500\n",
            "2/2 [==============================] - 0s 6ms/step - loss: 0.7815 - mse: 1.1545\n",
            "Epoch 344/500\n",
            "2/2 [==============================] - 0s 5ms/step - loss: 0.4062 - mse: 0.3470\n",
            "Epoch 345/500\n",
            "2/2 [==============================] - 0s 8ms/step - loss: 0.2184 - mse: 0.0858\n",
            "Epoch 346/500\n",
            "2/2 [==============================] - 0s 4ms/step - loss: 0.2299 - mse: 0.1229\n",
            "Epoch 347/500\n",
            "2/2 [==============================] - 0s 12ms/step - loss: 0.1922 - mse: 0.0566\n",
            "Epoch 348/500\n",
            "2/2 [==============================] - 0s 3ms/step - loss: 0.2745 - mse: 0.1912\n",
            "Epoch 349/500\n",
            "2/2 [==============================] - 0s 4ms/step - loss: 0.1649 - mse: 0.0397\n",
            "Epoch 350/500\n",
            "2/2 [==============================] - 0s 5ms/step - loss: 0.2197 - mse: 0.0881\n",
            "Epoch 351/500\n",
            "2/2 [==============================] - 0s 5ms/step - loss: 0.5347 - mse: 0.4674\n",
            "Epoch 352/500\n",
            "2/2 [==============================] - 0s 27ms/step - loss: 0.3782 - mse: 0.2150\n",
            "Epoch 353/500\n",
            "2/2 [==============================] - 0s 5ms/step - loss: 0.5945 - mse: 0.6682\n",
            "Epoch 354/500\n",
            "2/2 [==============================] - 0s 15ms/step - loss: 0.6270 - mse: 0.5408\n",
            "Epoch 355/500\n",
            "2/2 [==============================] - 0s 5ms/step - loss: 0.1816 - mse: 0.1257\n",
            "Epoch 356/500\n",
            "2/2 [==============================] - 0s 15ms/step - loss: 1.1972 - mse: 2.2581\n",
            "Epoch 357/500\n",
            "2/2 [==============================] - 0s 10ms/step - loss: 0.4451 - mse: 0.3781\n",
            "Epoch 358/500\n",
            "2/2 [==============================] - 0s 11ms/step - loss: 1.0915 - mse: 1.6840\n",
            "Epoch 359/500\n",
            "2/2 [==============================] - 0s 5ms/step - loss: 0.3063 - mse: 0.2298\n",
            "Epoch 360/500\n",
            "2/2 [==============================] - 0s 11ms/step - loss: 0.5950 - mse: 0.5560\n",
            "Epoch 361/500\n",
            "2/2 [==============================] - 0s 5ms/step - loss: 0.4862 - mse: 0.3033\n",
            "Epoch 362/500\n",
            "2/2 [==============================] - 0s 5ms/step - loss: 0.3573 - mse: 0.2601\n",
            "Epoch 363/500\n",
            "2/2 [==============================] - 0s 6ms/step - loss: 0.2206 - mse: 0.0767\n",
            "Epoch 364/500\n",
            "2/2 [==============================] - 0s 18ms/step - loss: 0.1807 - mse: 0.0815\n",
            "Epoch 365/500\n",
            "2/2 [==============================] - 0s 10ms/step - loss: 0.2897 - mse: 0.1560\n",
            "Epoch 366/500\n",
            "2/2 [==============================] - 0s 8ms/step - loss: 0.4031 - mse: 0.2201\n",
            "Epoch 367/500\n",
            "2/2 [==============================] - 0s 8ms/step - loss: 1.2053 - mse: 1.9719\n",
            "Epoch 368/500\n",
            "2/2 [==============================] - 0s 5ms/step - loss: 1.1367 - mse: 1.9989\n",
            "Epoch 369/500\n",
            "2/2 [==============================] - 0s 6ms/step - loss: 0.7396 - mse: 0.7121\n",
            "Epoch 370/500\n",
            "2/2 [==============================] - 0s 18ms/step - loss: 0.9746 - mse: 1.2760\n",
            "Epoch 371/500\n",
            "2/2 [==============================] - 0s 7ms/step - loss: 0.9007 - mse: 1.5058\n",
            "Epoch 372/500\n",
            "2/2 [==============================] - 0s 5ms/step - loss: 1.5229 - mse: 3.5146\n",
            "Epoch 373/500\n",
            "2/2 [==============================] - 0s 5ms/step - loss: 0.4786 - mse: 0.4116\n",
            "Epoch 374/500\n",
            "2/2 [==============================] - 0s 5ms/step - loss: 1.7929 - mse: 5.1749\n",
            "Epoch 375/500\n",
            "2/2 [==============================] - 0s 4ms/step - loss: 1.6098 - mse: 4.6975\n",
            "Epoch 376/500\n",
            "2/2 [==============================] - 0s 4ms/step - loss: 0.6450 - mse: 0.5620\n",
            "Epoch 377/500\n",
            "2/2 [==============================] - 0s 6ms/step - loss: 1.7575 - mse: 5.1913\n",
            "Epoch 378/500\n",
            "2/2 [==============================] - 0s 6ms/step - loss: 1.5969 - mse: 4.4616\n",
            "Epoch 379/500\n",
            "2/2 [==============================] - 0s 11ms/step - loss: 0.7258 - mse: 1.0768\n",
            "Epoch 380/500\n",
            "2/2 [==============================] - 0s 4ms/step - loss: 1.3766 - mse: 2.4286\n",
            "Epoch 381/500\n",
            "2/2 [==============================] - 0s 11ms/step - loss: 0.6175 - mse: 0.4977\n",
            "Epoch 382/500\n",
            "2/2 [==============================] - 0s 5ms/step - loss: 1.2407 - mse: 2.3963\n",
            "Epoch 383/500\n",
            "2/2 [==============================] - 0s 6ms/step - loss: 0.8754 - mse: 1.5087\n",
            "Epoch 384/500\n",
            "2/2 [==============================] - 0s 6ms/step - loss: 0.5907 - mse: 0.4553\n",
            "Epoch 385/500\n",
            "2/2 [==============================] - 0s 4ms/step - loss: 0.3558 - mse: 0.2026\n",
            "Epoch 386/500\n",
            "2/2 [==============================] - 0s 5ms/step - loss: 0.5631 - mse: 0.4792\n",
            "Epoch 387/500\n",
            "2/2 [==============================] - 0s 4ms/step - loss: 0.3274 - mse: 0.1572\n",
            "Epoch 388/500\n",
            "2/2 [==============================] - 0s 5ms/step - loss: 0.6685 - mse: 0.5934\n",
            "Epoch 389/500\n",
            "2/2 [==============================] - 0s 5ms/step - loss: 0.4961 - mse: 0.4334\n",
            "Epoch 390/500\n",
            "2/2 [==============================] - 0s 4ms/step - loss: 0.3912 - mse: 0.2172\n",
            "Epoch 391/500\n",
            "2/2 [==============================] - 0s 5ms/step - loss: 0.5483 - mse: 0.3964\n",
            "Epoch 392/500\n",
            "2/2 [==============================] - 0s 4ms/step - loss: 0.2555 - mse: 0.1337\n",
            "Epoch 393/500\n",
            "2/2 [==============================] - 0s 11ms/step - loss: 0.1623 - mse: 0.0426\n",
            "Epoch 394/500\n",
            "2/2 [==============================] - 0s 5ms/step - loss: 0.3000 - mse: 0.1748\n",
            "Epoch 395/500\n",
            "2/2 [==============================] - 0s 5ms/step - loss: 0.4616 - mse: 0.3541\n",
            "Epoch 396/500\n",
            "2/2 [==============================] - 0s 4ms/step - loss: 0.3957 - mse: 0.2161\n",
            "Epoch 397/500\n",
            "2/2 [==============================] - 0s 4ms/step - loss: 0.9601 - mse: 1.5626\n",
            "Epoch 398/500\n",
            "2/2 [==============================] - 0s 5ms/step - loss: 0.4691 - mse: 0.3298\n",
            "Epoch 399/500\n",
            "2/2 [==============================] - 0s 5ms/step - loss: 0.9356 - mse: 1.5560\n",
            "Epoch 400/500\n",
            "2/2 [==============================] - 0s 11ms/step - loss: 0.5061 - mse: 0.3254\n",
            "Epoch 401/500\n",
            "2/2 [==============================] - 0s 4ms/step - loss: 1.0080 - mse: 1.6872\n",
            "Epoch 402/500\n",
            "2/2 [==============================] - 0s 5ms/step - loss: 0.5768 - mse: 0.5246\n",
            "Epoch 403/500\n",
            "2/2 [==============================] - 0s 4ms/step - loss: 1.0860 - mse: 1.6670\n",
            "Epoch 404/500\n",
            "2/2 [==============================] - 0s 6ms/step - loss: 0.6307 - mse: 0.5100\n",
            "Epoch 405/500\n",
            "2/2 [==============================] - 0s 5ms/step - loss: 0.6948 - mse: 0.8026\n",
            "Epoch 406/500\n",
            "2/2 [==============================] - 0s 4ms/step - loss: 0.3440 - mse: 0.1981\n",
            "Epoch 407/500\n",
            "2/2 [==============================] - 0s 5ms/step - loss: 0.6986 - mse: 0.6654\n",
            "Epoch 408/500\n",
            "2/2 [==============================] - 0s 5ms/step - loss: 0.6691 - mse: 0.7788\n",
            "Epoch 409/500\n",
            "2/2 [==============================] - 0s 5ms/step - loss: 0.8309 - mse: 1.0709\n",
            "Epoch 410/500\n",
            "2/2 [==============================] - 0s 5ms/step - loss: 0.5554 - mse: 0.3761\n",
            "Epoch 411/500\n",
            "2/2 [==============================] - 0s 5ms/step - loss: 0.3255 - mse: 0.2157\n",
            "Epoch 412/500\n",
            "2/2 [==============================] - 0s 6ms/step - loss: 0.3826 - mse: 0.2619\n",
            "Epoch 413/500\n",
            "2/2 [==============================] - 0s 7ms/step - loss: 0.4252 - mse: 0.2625\n",
            "Epoch 414/500\n",
            "2/2 [==============================] - 0s 14ms/step - loss: 0.2417 - mse: 0.1266\n",
            "Epoch 415/500\n",
            "2/2 [==============================] - 0s 5ms/step - loss: 0.2937 - mse: 0.2177\n",
            "Epoch 416/500\n",
            "2/2 [==============================] - 0s 7ms/step - loss: 0.6575 - mse: 0.6286\n",
            "Epoch 417/500\n",
            "2/2 [==============================] - 0s 5ms/step - loss: 0.5984 - mse: 0.5083\n",
            "Epoch 418/500\n",
            "2/2 [==============================] - 0s 7ms/step - loss: 0.5860 - mse: 0.6813\n",
            "Epoch 419/500\n",
            "2/2 [==============================] - 0s 5ms/step - loss: 0.4281 - mse: 0.3831\n",
            "Epoch 420/500\n",
            "2/2 [==============================] - 0s 4ms/step - loss: 0.6716 - mse: 0.6285\n",
            "Epoch 421/500\n",
            "2/2 [==============================] - 0s 4ms/step - loss: 0.6068 - mse: 0.6719\n",
            "Epoch 422/500\n",
            "2/2 [==============================] - 0s 4ms/step - loss: 0.6474 - mse: 0.8545\n",
            "Epoch 423/500\n",
            "2/2 [==============================] - 0s 4ms/step - loss: 0.7174 - mse: 0.9291\n",
            "Epoch 424/500\n",
            "2/2 [==============================] - 0s 5ms/step - loss: 0.7539 - mse: 1.0465\n",
            "Epoch 425/500\n",
            "2/2 [==============================] - 0s 4ms/step - loss: 0.9382 - mse: 1.4863\n",
            "Epoch 426/500\n",
            "2/2 [==============================] - 0s 5ms/step - loss: 0.4244 - mse: 0.2602\n",
            "Epoch 427/500\n",
            "2/2 [==============================] - 0s 5ms/step - loss: 0.6474 - mse: 0.6348\n",
            "Epoch 428/500\n",
            "2/2 [==============================] - 0s 4ms/step - loss: 0.7317 - mse: 0.9561\n",
            "Epoch 429/500\n",
            "2/2 [==============================] - 0s 8ms/step - loss: 0.5807 - mse: 0.4864\n",
            "Epoch 430/500\n",
            "2/2 [==============================] - 0s 5ms/step - loss: 0.3513 - mse: 0.2081\n",
            "Epoch 431/500\n",
            "2/2 [==============================] - 0s 9ms/step - loss: 0.6755 - mse: 0.6007\n",
            "Epoch 432/500\n",
            "2/2 [==============================] - 0s 15ms/step - loss: 0.3528 - mse: 0.2490\n",
            "Epoch 433/500\n",
            "2/2 [==============================] - 0s 11ms/step - loss: 0.3931 - mse: 0.3002\n",
            "Epoch 434/500\n",
            "2/2 [==============================] - 0s 7ms/step - loss: 0.4359 - mse: 0.2877\n",
            "Epoch 435/500\n",
            "2/2 [==============================] - 0s 8ms/step - loss: 0.2613 - mse: 0.1302\n",
            "Epoch 436/500\n",
            "2/2 [==============================] - 0s 8ms/step - loss: 0.3423 - mse: 0.1728\n",
            "Epoch 437/500\n",
            "2/2 [==============================] - 0s 5ms/step - loss: 0.4095 - mse: 0.3277\n",
            "Epoch 438/500\n",
            "2/2 [==============================] - 0s 8ms/step - loss: 0.5295 - mse: 0.5137\n",
            "Epoch 439/500\n",
            "2/2 [==============================] - 0s 14ms/step - loss: 0.2964 - mse: 0.1767\n",
            "Epoch 440/500\n",
            "2/2 [==============================] - 0s 7ms/step - loss: 0.6569 - mse: 0.8861\n",
            "Epoch 441/500\n",
            "2/2 [==============================] - 0s 7ms/step - loss: 0.4874 - mse: 0.3790\n",
            "Epoch 442/500\n",
            "2/2 [==============================] - 0s 6ms/step - loss: 0.3116 - mse: 0.2073\n",
            "Epoch 443/500\n",
            "2/2 [==============================] - 0s 6ms/step - loss: 0.3151 - mse: 0.1497\n",
            "Epoch 444/500\n",
            "2/2 [==============================] - 0s 21ms/step - loss: 0.2697 - mse: 0.1367\n",
            "Epoch 445/500\n",
            "2/2 [==============================] - 0s 7ms/step - loss: 0.2569 - mse: 0.0798\n",
            "Epoch 446/500\n",
            "2/2 [==============================] - 0s 9ms/step - loss: 0.2065 - mse: 0.0614\n",
            "Epoch 447/500\n",
            "2/2 [==============================] - 0s 6ms/step - loss: 0.3565 - mse: 0.1764\n",
            "Epoch 448/500\n",
            "2/2 [==============================] - 0s 6ms/step - loss: 0.7480 - mse: 0.7853\n",
            "Epoch 449/500\n",
            "2/2 [==============================] - 0s 9ms/step - loss: 0.2433 - mse: 0.0830\n",
            "Epoch 450/500\n",
            "2/2 [==============================] - 0s 6ms/step - loss: 0.4229 - mse: 0.4176\n",
            "Epoch 451/500\n",
            "2/2 [==============================] - 0s 5ms/step - loss: 0.4800 - mse: 0.4825\n",
            "Epoch 452/500\n",
            "2/2 [==============================] - 0s 7ms/step - loss: 0.2845 - mse: 0.1136\n",
            "Epoch 453/500\n",
            "2/2 [==============================] - 0s 7ms/step - loss: 0.3564 - mse: 0.2415\n",
            "Epoch 454/500\n",
            "2/2 [==============================] - 0s 9ms/step - loss: 0.4261 - mse: 0.2771\n",
            "Epoch 455/500\n",
            "2/2 [==============================] - 0s 4ms/step - loss: 0.3373 - mse: 0.1432\n",
            "Epoch 456/500\n",
            "2/2 [==============================] - 0s 6ms/step - loss: 0.2972 - mse: 0.1629\n",
            "Epoch 457/500\n",
            "2/2 [==============================] - 0s 5ms/step - loss: 0.2191 - mse: 0.0691\n",
            "Epoch 458/500\n",
            "2/2 [==============================] - 0s 6ms/step - loss: 0.5069 - mse: 0.3612\n",
            "Epoch 459/500\n",
            "2/2 [==============================] - 0s 8ms/step - loss: 0.3516 - mse: 0.1851\n",
            "Epoch 460/500\n",
            "2/2 [==============================] - 0s 8ms/step - loss: 0.2594 - mse: 0.1068\n",
            "Epoch 461/500\n",
            "2/2 [==============================] - 0s 7ms/step - loss: 0.5239 - mse: 0.4372\n",
            "Epoch 462/500\n",
            "2/2 [==============================] - 0s 8ms/step - loss: 0.3574 - mse: 0.2008\n",
            "Epoch 463/500\n",
            "2/2 [==============================] - 0s 6ms/step - loss: 0.1139 - mse: 0.0263\n",
            "Epoch 464/500\n",
            "2/2 [==============================] - 0s 9ms/step - loss: 0.2215 - mse: 0.0821\n",
            "Epoch 465/500\n",
            "2/2 [==============================] - 0s 12ms/step - loss: 0.2648 - mse: 0.1264\n",
            "Epoch 466/500\n",
            "2/2 [==============================] - 0s 4ms/step - loss: 0.2268 - mse: 0.0762\n",
            "Epoch 467/500\n",
            "2/2 [==============================] - 0s 8ms/step - loss: 0.1224 - mse: 0.0213\n",
            "Epoch 468/500\n",
            "2/2 [==============================] - 0s 11ms/step - loss: 0.1745 - mse: 0.0572\n",
            "Epoch 469/500\n",
            "2/2 [==============================] - 0s 14ms/step - loss: 0.4765 - mse: 0.3499\n",
            "Epoch 470/500\n",
            "2/2 [==============================] - 0s 6ms/step - loss: 0.2548 - mse: 0.1324\n",
            "Epoch 471/500\n",
            "2/2 [==============================] - 0s 5ms/step - loss: 0.6712 - mse: 0.7894\n",
            "Epoch 472/500\n",
            "2/2 [==============================] - 0s 7ms/step - loss: 0.1384 - mse: 0.0595\n",
            "Epoch 473/500\n",
            "2/2 [==============================] - 0s 14ms/step - loss: 0.5928 - mse: 0.7087\n",
            "Epoch 474/500\n",
            "2/2 [==============================] - 0s 6ms/step - loss: 0.2011 - mse: 0.0710\n",
            "Epoch 475/500\n",
            "2/2 [==============================] - 0s 7ms/step - loss: 0.3712 - mse: 0.2110\n",
            "Epoch 476/500\n",
            "2/2 [==============================] - 0s 7ms/step - loss: 0.4128 - mse: 0.3360\n",
            "Epoch 477/500\n",
            "2/2 [==============================] - 0s 7ms/step - loss: 0.2663 - mse: 0.1069\n",
            "Epoch 478/500\n",
            "2/2 [==============================] - 0s 14ms/step - loss: 0.4024 - mse: 0.2237\n",
            "Epoch 479/500\n",
            "2/2 [==============================] - 0s 5ms/step - loss: 0.6255 - mse: 0.6097\n",
            "Epoch 480/500\n",
            "2/2 [==============================] - 0s 4ms/step - loss: 0.3458 - mse: 0.1648\n",
            "Epoch 481/500\n",
            "2/2 [==============================] - 0s 18ms/step - loss: 0.4431 - mse: 0.2819\n",
            "Epoch 482/500\n",
            "2/2 [==============================] - 0s 12ms/step - loss: 0.2602 - mse: 0.1586\n",
            "Epoch 483/500\n",
            "2/2 [==============================] - 0s 5ms/step - loss: 0.2828 - mse: 0.1414\n",
            "Epoch 484/500\n",
            "2/2 [==============================] - 0s 7ms/step - loss: 0.3505 - mse: 0.2671\n",
            "Epoch 485/500\n",
            "2/2 [==============================] - 0s 9ms/step - loss: 0.5420 - mse: 0.4515\n",
            "Epoch 486/500\n",
            "2/2 [==============================] - 0s 6ms/step - loss: 0.6269 - mse: 0.5909\n",
            "Epoch 487/500\n",
            "2/2 [==============================] - 0s 8ms/step - loss: 0.9578 - mse: 1.4807\n",
            "Epoch 488/500\n",
            "2/2 [==============================] - 0s 5ms/step - loss: 0.2423 - mse: 0.1117\n",
            "Epoch 489/500\n",
            "2/2 [==============================] - 0s 5ms/step - loss: 1.4843 - mse: 4.0860\n",
            "Epoch 490/500\n",
            "2/2 [==============================] - 0s 6ms/step - loss: 1.5975 - mse: 5.2696\n",
            "Epoch 491/500\n",
            "2/2 [==============================] - 0s 5ms/step - loss: 0.8401 - mse: 1.7435\n",
            "Epoch 492/500\n",
            "2/2 [==============================] - 0s 4ms/step - loss: 0.5751 - mse: 0.5170\n",
            "Epoch 493/500\n",
            "2/2 [==============================] - 0s 5ms/step - loss: 0.8003 - mse: 1.1055\n",
            "Epoch 494/500\n",
            "2/2 [==============================] - 0s 5ms/step - loss: 0.5016 - mse: 0.3344\n",
            "Epoch 495/500\n",
            "2/2 [==============================] - 0s 5ms/step - loss: 0.7333 - mse: 1.3830\n",
            "Epoch 496/500\n",
            "2/2 [==============================] - 0s 10ms/step - loss: 0.5760 - mse: 0.8731\n",
            "Epoch 497/500\n",
            "2/2 [==============================] - 0s 4ms/step - loss: 0.4793 - mse: 0.3390\n",
            "Epoch 498/500\n",
            "2/2 [==============================] - 0s 9ms/step - loss: 0.4576 - mse: 0.3281\n",
            "Epoch 499/500\n",
            "2/2 [==============================] - 0s 5ms/step - loss: 0.4411 - mse: 0.5438\n",
            "Epoch 500/500\n",
            "2/2 [==============================] - 0s 6ms/step - loss: 0.3686 - mse: 0.3002\n"
          ],
          "name": "stdout"
        },
        {
          "output_type": "execute_result",
          "data": {
            "text/plain": [
              "<tensorflow.python.keras.callbacks.History at 0x7fc6ab594e10>"
            ]
          },
          "metadata": {
            "tags": []
          },
          "execution_count": 72
        }
      ]
    },
    {
      "cell_type": "code",
      "metadata": {
        "colab": {
          "base_uri": "https://localhost:8080/",
          "height": 629
        },
        "id": "6OptfRzKnMQs",
        "outputId": "ed66015c-dc1b-44b3-98c7-8a4e2742e92c"
      },
      "source": [
        "my_pred = my_model.predict(X_test)\n",
        "plot_predictions(predictions=my_pred)"
      ],
      "execution_count": null,
      "outputs": [
        {
          "output_type": "stream",
          "text": [
            "WARNING:tensorflow:11 out of the last 11 calls to <function Model.make_predict_function.<locals>.predict_function at 0x7fc6ab4ad440> triggered tf.function retracing. Tracing is expensive and the excessive number of tracings could be due to (1) creating @tf.function repeatedly in a loop, (2) passing tensors with different shapes, (3) passing Python objects instead of tensors. For (1), please define your @tf.function outside of the loop. For (2), @tf.function has experimental_relax_shapes=True option that relaxes argument shapes that can avoid unnecessary retracing. For (3), please refer to https://www.tensorflow.org/guide/function#controlling_retracing and https://www.tensorflow.org/api_docs/python/tf/function for  more details.\n"
          ],
          "name": "stdout"
        },
        {
          "output_type": "display_data",
          "data": {
            "image/png": "[encoded data removed]",
            "text/plain": [
              "<Figure size 720x720 with 1 Axes>"
            ]
          },
          "metadata": {
            "tags": [],
            "needs_background": "light"
          }
        }
      ]
    },
    {
      "cell_type": "code",
      "metadata": {
        "colab": {
          "base_uri": "https://localhost:8080/"
        },
        "id": "8L4vyjhyns7c",
        "outputId": "6c0c31e2-6941-49ec-85a9-7c0dcb5fa739"
      },
      "source": [
        "my_mae = mae(y_test, my_pred)\n",
        "my_mse = mse(y_test, my_pred)\n",
        "\n",
        "my_mae, my_mse"
      ],
      "execution_count": null,
      "outputs": [
        {
          "output_type": "execute_result",
          "data": {
            "text/plain": [
              "(<tf.Tensor: shape=(), dtype=float32, numpy=0.070510104>,\n",
              " <tf.Tensor: shape=(), dtype=float32, numpy=0.0050278204>)"
            ]
          },
          "metadata": {
            "tags": []
          },
          "execution_count": 74
        }
      ]
    },
    {
      "cell_type": "code",
      "metadata": {
        "colab": {
          "base_uri": "https://localhost:8080/"
        },
        "id": "Ipn6Vdj4n6lG",
        "outputId": "43566b6f-b92a-458a-edd9-f3128c2e0d98"
      },
      "source": [
        "my_model.predict([[17.0]]), my_model.predict([[23.0]])"
      ],
      "execution_count": null,
      "outputs": [
        {
          "output_type": "stream",
          "text": [
            "WARNING:tensorflow:11 out of the last 11 calls to <function Model.make_predict_function.<locals>.predict_function at 0x7fc6ab4ad440> triggered tf.function retracing. Tracing is expensive and the excessive number of tracings could be due to (1) creating @tf.function repeatedly in a loop, (2) passing tensors with different shapes, (3) passing Python objects instead of tensors. For (1), please define your @tf.function outside of the loop. For (2), @tf.function has experimental_relax_shapes=True option that relaxes argument shapes that can avoid unnecessary retracing. For (3), please refer to https://www.tensorflow.org/guide/function#controlling_retracing and https://www.tensorflow.org/api_docs/python/tf/function for  more details.\n"
          ],
          "name": "stdout"
        },
        {
          "output_type": "execute_result",
          "data": {
            "text/plain": [
              "(array([[27.05031]], dtype=float32), array([[33.034737]], dtype=float32))"
            ]
          },
          "metadata": {
            "tags": []
          },
          "execution_count": 75
        }
      ]
    },
    {
      "cell_type": "markdown",
      "metadata": {
        "id": "ZtlaFylUqGNy"
      },
      "source": [
        "On own ends"
      ]
    },
    {
      "cell_type": "markdown",
      "metadata": {
        "id": "9AH4pLScrF9W"
      },
      "source": [
        "**Note** :  You want to start with small experiments (small models) and then increase the complexity with baby steps"
      ]
    },
    {
      "cell_type": "markdown",
      "metadata": {
        "id": "fhswrtD7pGA1"
      },
      "source": [
        "### Comparing the results of our experiments\n",
        "\n",
        "We've run some experiments, lets compare the results obtained from these experiments"
      ]
    },
    {
      "cell_type": "code",
      "metadata": {
        "colab": {
          "base_uri": "https://localhost:8080/",
          "height": 136
        },
        "id": "HKWlLkDlqFHM",
        "outputId": "be1df2d4-32dd-4b18-84a7-fde7dce990f8"
      },
      "source": [
        "#Let's compare our model's results uning pandas data frame\n",
        "\n",
        "import pandas as pd\n",
        "\n",
        "model_results = [[\"model_1\", mae_1, mse_1],\n",
        "                 [\"model_2\", mae_2, mse_2],\n",
        "                 [\"model_3\", mae_3, mse_3],]\n",
        "\n",
        "all_results = pd.DataFrame(model_results, columns = [\"model name\", \"MAE\", \"MSE\"])\n",
        "all_results"
      ],
      "execution_count": null,
      "outputs": [
        {
          "output_type": "execute_result",
          "data": {
            "text/html": [
              "<div>\n",
              "<style scoped>\n",
              "    .dataframe tbody tr th:only-of-type {\n",
              "        vertical-align: middle;\n",
              "    }\n",
              "\n",
              "    .dataframe tbody tr th {\n",
              "        vertical-align: top;\n",
              "    }\n",
              "\n",
              "    .dataframe thead th {\n",
              "        text-align: right;\n",
              "    }\n",
              "</style>\n",
              "<table border=\"1\" class=\"dataframe\">\n",
              "  <thead>\n",
              "    <tr style=\"text-align: right;\">\n",
              "      <th></th>\n",
              "      <th>model name</th>\n",
              "      <th>MAE</th>\n",
              "      <th>MSE</th>\n",
              "    </tr>\n",
              "  </thead>\n",
              "  <tbody>\n",
              "    <tr>\n",
              "      <th>0</th>\n",
              "      <td>model_1</td>\n",
              "      <td>tf.Tensor(18.745327, shape=(), dtype=float32)</td>\n",
              "      <td>tf.Tensor(353.57336, shape=(), dtype=float32)</td>\n",
              "    </tr>\n",
              "    <tr>\n",
              "      <th>1</th>\n",
              "      <td>model_2</td>\n",
              "      <td>tf.Tensor(3.1969407, shape=(), dtype=float32)</td>\n",
              "      <td>tf.Tensor(13.070143, shape=(), dtype=float32)</td>\n",
              "    </tr>\n",
              "    <tr>\n",
              "      <th>2</th>\n",
              "      <td>model_3</td>\n",
              "      <td>tf.Tensor(68.713615, shape=(), dtype=float32)</td>\n",
              "      <td>tf.Tensor(4808.0273, shape=(), dtype=float32)</td>\n",
              "    </tr>\n",
              "  </tbody>\n",
              "</table>\n",
              "</div>"
            ],
            "text/plain": [
              "  model name  ...                                            MSE\n",
              "0    model_1  ...  tf.Tensor(353.57336, shape=(), dtype=float32)\n",
              "1    model_2  ...  tf.Tensor(13.070143, shape=(), dtype=float32)\n",
              "2    model_3  ...  tf.Tensor(4808.0273, shape=(), dtype=float32)\n",
              "\n",
              "[3 rows x 3 columns]"
            ]
          },
          "metadata": {
            "tags": []
          },
          "execution_count": 76
        }
      ]
    },
    {
      "cell_type": "code",
      "metadata": {
        "colab": {
          "base_uri": "https://localhost:8080/",
          "height": 166
        },
        "id": "M1R0NQIjr2T3",
        "outputId": "8d170560-0949-4090-95a2-e97906496de9"
      },
      "source": [
        "# In the above exampe. lets change the tensors to numpy\n",
        "\n",
        "model_results = [[\"model_1\", mae_1.numpy(), mse_1.numpy()],\n",
        "                 [\"model_2\", mae_2.numpy(), mse_2.numpy()],\n",
        "                 [\"model_3\", mae_3.numpy(), mse_3.numpy()],\n",
        "                 [\"model_4\", my_mae.numpy(), my_mse.numpy()],]\n",
        "\n",
        "all_results = pd.DataFrame(model_results, columns = [\"model name\", \"MAE\", \"MSE\"])\n",
        "all_results"
      ],
      "execution_count": null,
      "outputs": [
        {
          "output_type": "execute_result",
          "data": {
            "text/html": [
              "<div>\n",
              "<style scoped>\n",
              "    .dataframe tbody tr th:only-of-type {\n",
              "        vertical-align: middle;\n",
              "    }\n",
              "\n",
              "    .dataframe tbody tr th {\n",
              "        vertical-align: top;\n",
              "    }\n",
              "\n",
              "    .dataframe thead th {\n",
              "        text-align: right;\n",
              "    }\n",
              "</style>\n",
              "<table border=\"1\" class=\"dataframe\">\n",
              "  <thead>\n",
              "    <tr style=\"text-align: right;\">\n",
              "      <th></th>\n",
              "      <th>model name</th>\n",
              "      <th>MAE</th>\n",
              "      <th>MSE</th>\n",
              "    </tr>\n",
              "  </thead>\n",
              "  <tbody>\n",
              "    <tr>\n",
              "      <th>0</th>\n",
              "      <td>model_1</td>\n",
              "      <td>18.745327</td>\n",
              "      <td>353.573364</td>\n",
              "    </tr>\n",
              "    <tr>\n",
              "      <th>1</th>\n",
              "      <td>model_2</td>\n",
              "      <td>3.196941</td>\n",
              "      <td>13.070143</td>\n",
              "    </tr>\n",
              "    <tr>\n",
              "      <th>2</th>\n",
              "      <td>model_3</td>\n",
              "      <td>68.713615</td>\n",
              "      <td>4808.027344</td>\n",
              "    </tr>\n",
              "    <tr>\n",
              "      <th>3</th>\n",
              "      <td>model_4</td>\n",
              "      <td>0.070510</td>\n",
              "      <td>0.005028</td>\n",
              "    </tr>\n",
              "  </tbody>\n",
              "</table>\n",
              "</div>"
            ],
            "text/plain": [
              "  model name        MAE          MSE\n",
              "0    model_1  18.745327   353.573364\n",
              "1    model_2   3.196941    13.070143\n",
              "2    model_3  68.713615  4808.027344\n",
              "3    model_4   0.070510     0.005028"
            ]
          },
          "metadata": {
            "tags": []
          },
          "execution_count": 77
        }
      ]
    },
    {
      "cell_type": "code",
      "metadata": {
        "colab": {
          "base_uri": "https://localhost:8080/"
        },
        "id": "lml-hXl4sFtQ",
        "outputId": "cdca9769-16bd-47bf-fec7-1750dde851dd"
      },
      "source": [
        "model_2.summary()"
      ],
      "execution_count": null,
      "outputs": [
        {
          "output_type": "stream",
          "text": [
            "Model: \"sequential_10\"\n",
            "_________________________________________________________________\n",
            "Layer (type)                 Output Shape              Param #   \n",
            "=================================================================\n",
            "dense_18 (Dense)             (None, 10)                20        \n",
            "_________________________________________________________________\n",
            "dense_19 (Dense)             (None, 1)                 11        \n",
            "=================================================================\n",
            "Total params: 31\n",
            "Trainable params: 31\n",
            "Non-trainable params: 0\n",
            "_________________________________________________________________\n"
          ],
          "name": "stdout"
        }
      ]
    },
    {
      "cell_type": "code",
      "metadata": {
        "colab": {
          "base_uri": "https://localhost:8080/"
        },
        "id": "Z5kO40hLs0xM",
        "outputId": "321c13c4-e74d-4e0f-afbe-8244f511110d"
      },
      "source": [
        "my_model.summary()"
      ],
      "execution_count": null,
      "outputs": [
        {
          "output_type": "stream",
          "text": [
            "Model: \"sequential_12\"\n",
            "_________________________________________________________________\n",
            "Layer (type)                 Output Shape              Param #   \n",
            "=================================================================\n",
            "dense_22 (Dense)             (None, 40)                80        \n",
            "_________________________________________________________________\n",
            "dense_23 (Dense)             (None, 100)               4100      \n",
            "_________________________________________________________________\n",
            "dense_24 (Dense)             (None, 40)                4040      \n",
            "_________________________________________________________________\n",
            "dense_25 (Dense)             (None, 1)                 41        \n",
            "=================================================================\n",
            "Total params: 8,261\n",
            "Trainable params: 8,261\n",
            "Non-trainable params: 0\n",
            "_________________________________________________________________\n"
          ],
          "name": "stdout"
        }
      ]
    },
    {
      "cell_type": "code",
      "metadata": {
        "colab": {
          "base_uri": "https://localhost:8080/",
          "height": 312
        },
        "id": "hefE-Zums81a",
        "outputId": "6d80b1a4-3fad-4540-dc27-528e7e209b2c"
      },
      "source": [
        "tf.keras.utils.plot_model(model_2, show_shapes=True)"
      ],
      "execution_count": null,
      "outputs": [
        {
          "output_type": "execute_result",
          "data": {
            "image/png": "[encoded data removed]",
            "text/plain": [
              "<IPython.core.display.Image object>"
            ]
          },
          "metadata": {
            "tags": []
          },
          "execution_count": 80
        }
      ]
    },
    {
      "cell_type": "markdown",
      "metadata": {
        "id": "cV-s-j2WujUV"
      },
      "source": [
        "## Tracking our experiments\n",
        "\n",
        "A good practice in machine learning modelling is to track the resuls of our experiments.\n",
        "And when soing so, it can become a tedious task when handling large data or runing lots of experiments\n",
        "\n",
        "But luckily there are tools that can help us:\n",
        "* TensorBoard - a component of the Tensorflow library to help track modelling experiments\n",
        "* Weights & Biases - a tool for tracking all kinds of machine learning models (plugs rihjt into tensorboard)\n"
      ]
    },
    {
      "cell_type": "markdown",
      "metadata": {
        "id": "jbQjRhAUtbPu"
      },
      "source": [
        "## Saving our models\n",
        "\n",
        "saving our models allow us to use them outside the place where they were trained (outside of google collab for our example)\n",
        "\n",
        "Two main formats we can save our model to:\n",
        "1. The SavedModel Format\n",
        "2. The HDF5 Format"
      ]
    },
    {
      "cell_type": "code",
      "metadata": {
        "colab": {
          "base_uri": "https://localhost:8080/"
        },
        "id": "qauJNKy7A6m-",
        "outputId": "12eb636f-45ee-4953-fc7f-5214014d0f9b"
      },
      "source": [
        "# Save the model using SavedModel format\n",
        "\n",
        "model_2.save(\"best_model_SavedModel_format\")"
      ],
      "execution_count": null,
      "outputs": [
        {
          "output_type": "stream",
          "text": [
            "INFO:tensorflow:Assets written to: best_model_SavedModel_format/assets\n"
          ],
          "name": "stdout"
        }
      ]
    },
    {
      "cell_type": "code",
      "metadata": {
        "id": "6EpyTII5B4WS"
      },
      "source": [
        "# Save the model using the HDF5 format\n",
        "\n",
        "model_2.save(\"best_model_HDF5_format.h5\")"
      ],
      "execution_count": null,
      "outputs": []
    },
    {
      "cell_type": "markdown",
      "metadata": {
        "id": "PY6Sou3EC0Sj"
      },
      "source": [
        "## Loading in a saved model"
      ]
    },
    {
      "cell_type": "code",
      "metadata": {
        "colab": {
          "base_uri": "https://localhost:8080/"
        },
        "id": "S7xX2F_lDLKH",
        "outputId": "be22ce1e-5d42-40c8-d0b4-9b1639bedf84"
      },
      "source": [
        "# Load in SavedModel format model\n",
        "\n",
        "loaded_SavedModel_format = tf.keras.models.load_model(\"best_model_SavedModel_format\")\n",
        "loaded_SavedModel_format.summary()"
      ],
      "execution_count": null,
      "outputs": [
        {
          "output_type": "stream",
          "text": [
            "Model: \"sequential_10\"\n",
            "_________________________________________________________________\n",
            "Layer (type)                 Output Shape              Param #   \n",
            "=================================================================\n",
            "dense_18 (Dense)             (None, 10)                20        \n",
            "_________________________________________________________________\n",
            "dense_19 (Dense)             (None, 1)                 11        \n",
            "=================================================================\n",
            "Total params: 31\n",
            "Trainable params: 31\n",
            "Non-trainable params: 0\n",
            "_________________________________________________________________\n"
          ],
          "name": "stdout"
        }
      ]
    },
    {
      "cell_type": "code",
      "metadata": {
        "colab": {
          "base_uri": "https://localhost:8080/"
        },
        "id": "ExUt51vPDref",
        "outputId": "e3a0ed93-4784-4407-e0c1-d9ae9a29e223"
      },
      "source": [
        "model_2.summary()"
      ],
      "execution_count": null,
      "outputs": [
        {
          "output_type": "stream",
          "text": [
            "Model: \"sequential_10\"\n",
            "_________________________________________________________________\n",
            "Layer (type)                 Output Shape              Param #   \n",
            "=================================================================\n",
            "dense_18 (Dense)             (None, 10)                20        \n",
            "_________________________________________________________________\n",
            "dense_19 (Dense)             (None, 1)                 11        \n",
            "=================================================================\n",
            "Total params: 31\n",
            "Trainable params: 31\n",
            "Non-trainable params: 0\n",
            "_________________________________________________________________\n"
          ],
          "name": "stdout"
        }
      ]
    },
    {
      "cell_type": "code",
      "metadata": {
        "colab": {
          "base_uri": "https://localhost:8080/"
        },
        "id": "6ijkUPw9Dy63",
        "outputId": "7f9eee4f-55c7-4b02-aef4-c5699bb909c2"
      },
      "source": [
        "# Compare model_2 predictions with loaded_SavedModel_format model\n",
        "\n",
        "model_2_preds = model_2.predict(X_test)\n",
        "loaded_SavedModel_format_preds = loaded_SavedModel_format.predict(X_test)\n",
        "\n",
        "model_2_preds == loaded_SavedModel_format_preds"
      ],
      "execution_count": null,
      "outputs": [
        {
          "output_type": "stream",
          "text": [
            "WARNING:tensorflow:9 out of the last 11 calls to <function Model.make_predict_function.<locals>.predict_function at 0x7fc6ab3238c0> triggered tf.function retracing. Tracing is expensive and the excessive number of tracings could be due to (1) creating @tf.function repeatedly in a loop, (2) passing tensors with different shapes, (3) passing Python objects instead of tensors. For (1), please define your @tf.function outside of the loop. For (2), @tf.function has experimental_relax_shapes=True option that relaxes argument shapes that can avoid unnecessary retracing. For (3), please refer to https://www.tensorflow.org/guide/function#controlling_retracing and https://www.tensorflow.org/api_docs/python/tf/function for  more details.\n"
          ],
          "name": "stdout"
        },
        {
          "output_type": "execute_result",
          "data": {
            "text/plain": [
              "array([[ True],\n",
              "       [ True],\n",
              "       [ True],\n",
              "       [ True],\n",
              "       [ True],\n",
              "       [ True],\n",
              "       [ True],\n",
              "       [ True],\n",
              "       [ True],\n",
              "       [ True]])"
            ]
          },
          "metadata": {
            "tags": []
          },
          "execution_count": 85
        }
      ]
    },
    {
      "cell_type": "code",
      "metadata": {
        "colab": {
          "base_uri": "https://localhost:8080/"
        },
        "id": "e1GSh3BjDtkI",
        "outputId": "48e9db97-b95c-4872-c3a7-2d468b23cdc4"
      },
      "source": [
        "# Load in the HDF5 model format\n",
        "\n",
        "loaded_HDF5_format = tf.keras.models.load_model(\"best_model_HDF5_format.h5\")\n",
        "\n",
        "loaded_HDF5_format.summary()"
      ],
      "execution_count": null,
      "outputs": [
        {
          "output_type": "stream",
          "text": [
            "Model: \"sequential_10\"\n",
            "_________________________________________________________________\n",
            "Layer (type)                 Output Shape              Param #   \n",
            "=================================================================\n",
            "dense_18 (Dense)             (None, 10)                20        \n",
            "_________________________________________________________________\n",
            "dense_19 (Dense)             (None, 1)                 11        \n",
            "=================================================================\n",
            "Total params: 31\n",
            "Trainable params: 31\n",
            "Non-trainable params: 0\n",
            "_________________________________________________________________\n"
          ],
          "name": "stdout"
        }
      ]
    },
    {
      "cell_type": "code",
      "metadata": {
        "colab": {
          "base_uri": "https://localhost:8080/"
        },
        "id": "2ZaDK4awFApk",
        "outputId": "adf7d79e-d273-4128-982d-890b501b39f9"
      },
      "source": [
        "model_2.summary()"
      ],
      "execution_count": null,
      "outputs": [
        {
          "output_type": "stream",
          "text": [
            "Model: \"sequential_10\"\n",
            "_________________________________________________________________\n",
            "Layer (type)                 Output Shape              Param #   \n",
            "=================================================================\n",
            "dense_18 (Dense)             (None, 10)                20        \n",
            "_________________________________________________________________\n",
            "dense_19 (Dense)             (None, 1)                 11        \n",
            "=================================================================\n",
            "Total params: 31\n",
            "Trainable params: 31\n",
            "Non-trainable params: 0\n",
            "_________________________________________________________________\n"
          ],
          "name": "stdout"
        }
      ]
    },
    {
      "cell_type": "code",
      "metadata": {
        "colab": {
          "base_uri": "https://localhost:8080/"
        },
        "id": "I-m_1B-kFGn3",
        "outputId": "62928767-af47-42ae-9fe3-45dffd944d7f"
      },
      "source": [
        "# Check to see if loaded_HDF5_format model has same predictions as model_2\n",
        "\n",
        "loaded_HDF5_format_preds = loaded_HDF5_format.predict(X_test)\n",
        "\n",
        "model_2_preds == loaded_HDF5_format_preds"
      ],
      "execution_count": null,
      "outputs": [
        {
          "output_type": "stream",
          "text": [
            "WARNING:tensorflow:9 out of the last 11 calls to <function Model.make_predict_function.<locals>.predict_function at 0x7fc6ab0e4440> triggered tf.function retracing. Tracing is expensive and the excessive number of tracings could be due to (1) creating @tf.function repeatedly in a loop, (2) passing tensors with different shapes, (3) passing Python objects instead of tensors. For (1), please define your @tf.function outside of the loop. For (2), @tf.function has experimental_relax_shapes=True option that relaxes argument shapes that can avoid unnecessary retracing. For (3), please refer to https://www.tensorflow.org/guide/function#controlling_retracing and https://www.tensorflow.org/api_docs/python/tf/function for  more details.\n"
          ],
          "name": "stdout"
        },
        {
          "output_type": "execute_result",
          "data": {
            "text/plain": [
              "array([[ True],\n",
              "       [ True],\n",
              "       [ True],\n",
              "       [ True],\n",
              "       [ True],\n",
              "       [ True],\n",
              "       [ True],\n",
              "       [ True],\n",
              "       [ True],\n",
              "       [ True]])"
            ]
          },
          "metadata": {
            "tags": []
          },
          "execution_count": 88
        }
      ]
    },
    {
      "cell_type": "code",
      "metadata": {
        "colab": {
          "base_uri": "https://localhost:8080/"
        },
        "id": "FKFoWEbvFWRd",
        "outputId": "41aba6cb-abed-43b7-f659-e56d08fa4579"
      },
      "source": [
        "model_2_preds.squeeze() == loaded_HDF5_format_preds.squeeze()"
      ],
      "execution_count": null,
      "outputs": [
        {
          "output_type": "execute_result",
          "data": {
            "text/plain": [
              "array([ True,  True,  True,  True,  True,  True,  True,  True,  True,\n",
              "        True])"
            ]
          },
          "metadata": {
            "tags": []
          },
          "execution_count": 89
        }
      ]
    },
    {
      "cell_type": "markdown",
      "metadata": {
        "id": "iC8lFokdFmGj"
      },
      "source": [
        "## Downloading a file from google collab\n",
        "\n",
        "There are 2 ways:\n",
        "1. Use the \"file\" tab and rihjt click the 3 dots to see the download option\n",
        "2. Using code (shown below)\n",
        "3. Save it to google drive and then copying it from there (second code cell below)"
      ]
    },
    {
      "cell_type": "code",
      "metadata": {
        "id": "KaSpMrPvGozd"
      },
      "source": [
        "# Downloading a file from google collab\n",
        "\n",
        "from google.colab import files\n",
        "# files.download(\"/content/best_model_HDF5_format.h5\")"
      ],
      "execution_count": null,
      "outputs": []
    },
    {
      "cell_type": "code",
      "metadata": {
        "id": "XGeOGCGNG7jE"
      },
      "source": [
        "# Mount google drive by clicking the drive option in the \"files\" tab\n",
        "\n",
        "!cp /content/best_model_HDF5_format.h5 /content/drive/MyDrive/Tensorflow_Uploads"
      ],
      "execution_count": null,
      "outputs": []
    },
    {
      "cell_type": "code",
      "metadata": {
        "colab": {
          "base_uri": "https://localhost:8080/"
        },
        "id": "VMTmm_jLH1iF",
        "outputId": "99bb3757-c177-40ae-e111-303902b0279e"
      },
      "source": [
        "!ls /content/drive/MyDrive/Tensorflow_Uploads/"
      ],
      "execution_count": null,
      "outputs": [
        {
          "output_type": "stream",
          "text": [
            "best_model_HDF5_format.h5\n"
          ],
          "name": "stdout"
        }
      ]
    },
    {
      "cell_type": "markdown",
      "metadata": {
        "id": "B2hVzeE2IAfs"
      },
      "source": [
        "## A larger example"
      ]
    },
    {
      "cell_type": "code",
      "metadata": {
        "id": "_TczijwiplxO"
      },
      "source": [
        "# Import required libraries\n",
        "\n",
        "import tensorflow as tf\n",
        "import pandas as pd\n",
        "import matplotlib.pyplot as plt\n"
      ],
      "execution_count": null,
      "outputs": []
    },
    {
      "cell_type": "code",
      "metadata": {
        "colab": {
          "base_uri": "https://localhost:8080/",
          "height": 402
        },
        "id": "VIVjUGBwp6oS",
        "outputId": "b99e9e5f-c678-4b5a-c477-4964b7186cda"
      },
      "source": [
        " insurance = pd.read_csv(\"https://raw.githubusercontent.com/stedy/Machine-Learning-with-R-datasets/master/insurance.csv\")\n",
        " insurance"
      ],
      "execution_count": null,
      "outputs": [
        {
          "output_type": "execute_result",
          "data": {
            "text/html": [
              "<div>\n",
              "<style scoped>\n",
              "    .dataframe tbody tr th:only-of-type {\n",
              "        vertical-align: middle;\n",
              "    }\n",
              "\n",
              "    .dataframe tbody tr th {\n",
              "        vertical-align: top;\n",
              "    }\n",
              "\n",
              "    .dataframe thead th {\n",
              "        text-align: right;\n",
              "    }\n",
              "</style>\n",
              "<table border=\"1\" class=\"dataframe\">\n",
              "  <thead>\n",
              "    <tr style=\"text-align: right;\">\n",
              "      <th></th>\n",
              "      <th>age</th>\n",
              "      <th>sex</th>\n",
              "      <th>bmi</th>\n",
              "      <th>children</th>\n",
              "      <th>smoker</th>\n",
              "      <th>region</th>\n",
              "      <th>charges</th>\n",
              "    </tr>\n",
              "  </thead>\n",
              "  <tbody>\n",
              "    <tr>\n",
              "      <th>0</th>\n",
              "      <td>19</td>\n",
              "      <td>female</td>\n",
              "      <td>27.900</td>\n",
              "      <td>0</td>\n",
              "      <td>yes</td>\n",
              "      <td>southwest</td>\n",
              "      <td>16884.92400</td>\n",
              "    </tr>\n",
              "    <tr>\n",
              "      <th>1</th>\n",
              "      <td>18</td>\n",
              "      <td>male</td>\n",
              "      <td>33.770</td>\n",
              "      <td>1</td>\n",
              "      <td>no</td>\n",
              "      <td>southeast</td>\n",
              "      <td>1725.55230</td>\n",
              "    </tr>\n",
              "    <tr>\n",
              "      <th>2</th>\n",
              "      <td>28</td>\n",
              "      <td>male</td>\n",
              "      <td>33.000</td>\n",
              "      <td>3</td>\n",
              "      <td>no</td>\n",
              "      <td>southeast</td>\n",
              "      <td>4449.46200</td>\n",
              "    </tr>\n",
              "    <tr>\n",
              "      <th>3</th>\n",
              "      <td>33</td>\n",
              "      <td>male</td>\n",
              "      <td>22.705</td>\n",
              "      <td>0</td>\n",
              "      <td>no</td>\n",
              "      <td>northwest</td>\n",
              "      <td>21984.47061</td>\n",
              "    </tr>\n",
              "    <tr>\n",
              "      <th>4</th>\n",
              "      <td>32</td>\n",
              "      <td>male</td>\n",
              "      <td>28.880</td>\n",
              "      <td>0</td>\n",
              "      <td>no</td>\n",
              "      <td>northwest</td>\n",
              "      <td>3866.85520</td>\n",
              "    </tr>\n",
              "    <tr>\n",
              "      <th>...</th>\n",
              "      <td>...</td>\n",
              "      <td>...</td>\n",
              "      <td>...</td>\n",
              "      <td>...</td>\n",
              "      <td>...</td>\n",
              "      <td>...</td>\n",
              "      <td>...</td>\n",
              "    </tr>\n",
              "    <tr>\n",
              "      <th>1333</th>\n",
              "      <td>50</td>\n",
              "      <td>male</td>\n",
              "      <td>30.970</td>\n",
              "      <td>3</td>\n",
              "      <td>no</td>\n",
              "      <td>northwest</td>\n",
              "      <td>10600.54830</td>\n",
              "    </tr>\n",
              "    <tr>\n",
              "      <th>1334</th>\n",
              "      <td>18</td>\n",
              "      <td>female</td>\n",
              "      <td>31.920</td>\n",
              "      <td>0</td>\n",
              "      <td>no</td>\n",
              "      <td>northeast</td>\n",
              "      <td>2205.98080</td>\n",
              "    </tr>\n",
              "    <tr>\n",
              "      <th>1335</th>\n",
              "      <td>18</td>\n",
              "      <td>female</td>\n",
              "      <td>36.850</td>\n",
              "      <td>0</td>\n",
              "      <td>no</td>\n",
              "      <td>southeast</td>\n",
              "      <td>1629.83350</td>\n",
              "    </tr>\n",
              "    <tr>\n",
              "      <th>1336</th>\n",
              "      <td>21</td>\n",
              "      <td>female</td>\n",
              "      <td>25.800</td>\n",
              "      <td>0</td>\n",
              "      <td>no</td>\n",
              "      <td>southwest</td>\n",
              "      <td>2007.94500</td>\n",
              "    </tr>\n",
              "    <tr>\n",
              "      <th>1337</th>\n",
              "      <td>61</td>\n",
              "      <td>female</td>\n",
              "      <td>29.070</td>\n",
              "      <td>0</td>\n",
              "      <td>yes</td>\n",
              "      <td>northwest</td>\n",
              "      <td>29141.36030</td>\n",
              "    </tr>\n",
              "  </tbody>\n",
              "</table>\n",
              "<p>1338 rows × 7 columns</p>\n",
              "</div>"
            ],
            "text/plain": [
              "      age     sex     bmi  children smoker     region      charges\n",
              "0      19  female  27.900         0    yes  southwest  16884.92400\n",
              "1      18    male  33.770         1     no  southeast   1725.55230\n",
              "2      28    male  33.000         3     no  southeast   4449.46200\n",
              "3      33    male  22.705         0     no  northwest  21984.47061\n",
              "4      32    male  28.880         0     no  northwest   3866.85520\n",
              "...   ...     ...     ...       ...    ...        ...          ...\n",
              "1333   50    male  30.970         3     no  northwest  10600.54830\n",
              "1334   18  female  31.920         0     no  northeast   2205.98080\n",
              "1335   18  female  36.850         0     no  southeast   1629.83350\n",
              "1336   21  female  25.800         0     no  southwest   2007.94500\n",
              "1337   61  female  29.070         0    yes  northwest  29141.36030\n",
              "\n",
              "[1338 rows x 7 columns]"
            ]
          },
          "metadata": {
            "tags": []
          },
          "execution_count": 94
        }
      ]
    },
    {
      "cell_type": "code",
      "metadata": {
        "colab": {
          "base_uri": "https://localhost:8080/"
        },
        "id": "TCoJEpL6rK0E",
        "outputId": "33b047b7-14fe-4653-b2c6-c2ceeca482ae"
      },
      "source": [
        "insurance[\"sex\"].dtype, insurance[\"age\"].dtype, insurance[\"charges\"].dtype"
      ],
      "execution_count": null,
      "outputs": [
        {
          "output_type": "execute_result",
          "data": {
            "text/plain": [
              "(dtype('O'), dtype('int64'), dtype('float64'))"
            ]
          },
          "metadata": {
            "tags": []
          },
          "execution_count": 95
        }
      ]
    },
    {
      "cell_type": "markdown",
      "metadata": {
        "id": "kumSCtCFsu-H"
      },
      "source": [
        "As some of the columns have a different data type than numberical, we need to encode them. We can use one hot encoding"
      ]
    },
    {
      "cell_type": "code",
      "metadata": {
        "colab": {
          "base_uri": "https://localhost:8080/",
          "height": 402
        },
        "id": "OrFecB_8tIKN",
        "outputId": "e6e56474-aea7-4e33-dce6-aecc71a4ea30"
      },
      "source": [
        "#Let's one hot encode the Dataframe\n",
        "\n",
        "insurance_one_hot = pd.get_dummies(insurance)\n",
        "insurance_one_hot"
      ],
      "execution_count": null,
      "outputs": [
        {
          "output_type": "execute_result",
          "data": {
            "text/html": [
              "<div>\n",
              "<style scoped>\n",
              "    .dataframe tbody tr th:only-of-type {\n",
              "        vertical-align: middle;\n",
              "    }\n",
              "\n",
              "    .dataframe tbody tr th {\n",
              "        vertical-align: top;\n",
              "    }\n",
              "\n",
              "    .dataframe thead th {\n",
              "        text-align: right;\n",
              "    }\n",
              "</style>\n",
              "<table border=\"1\" class=\"dataframe\">\n",
              "  <thead>\n",
              "    <tr style=\"text-align: right;\">\n",
              "      <th></th>\n",
              "      <th>age</th>\n",
              "      <th>bmi</th>\n",
              "      <th>children</th>\n",
              "      <th>charges</th>\n",
              "      <th>sex_female</th>\n",
              "      <th>sex_male</th>\n",
              "      <th>smoker_no</th>\n",
              "      <th>smoker_yes</th>\n",
              "      <th>region_northeast</th>\n",
              "      <th>region_northwest</th>\n",
              "      <th>region_southeast</th>\n",
              "      <th>region_southwest</th>\n",
              "    </tr>\n",
              "  </thead>\n",
              "  <tbody>\n",
              "    <tr>\n",
              "      <th>0</th>\n",
              "      <td>19</td>\n",
              "      <td>27.900</td>\n",
              "      <td>0</td>\n",
              "      <td>16884.92400</td>\n",
              "      <td>1</td>\n",
              "      <td>0</td>\n",
              "      <td>0</td>\n",
              "      <td>1</td>\n",
              "      <td>0</td>\n",
              "      <td>0</td>\n",
              "      <td>0</td>\n",
              "      <td>1</td>\n",
              "    </tr>\n",
              "    <tr>\n",
              "      <th>1</th>\n",
              "      <td>18</td>\n",
              "      <td>33.770</td>\n",
              "      <td>1</td>\n",
              "      <td>1725.55230</td>\n",
              "      <td>0</td>\n",
              "      <td>1</td>\n",
              "      <td>1</td>\n",
              "      <td>0</td>\n",
              "      <td>0</td>\n",
              "      <td>0</td>\n",
              "      <td>1</td>\n",
              "      <td>0</td>\n",
              "    </tr>\n",
              "    <tr>\n",
              "      <th>2</th>\n",
              "      <td>28</td>\n",
              "      <td>33.000</td>\n",
              "      <td>3</td>\n",
              "      <td>4449.46200</td>\n",
              "      <td>0</td>\n",
              "      <td>1</td>\n",
              "      <td>1</td>\n",
              "      <td>0</td>\n",
              "      <td>0</td>\n",
              "      <td>0</td>\n",
              "      <td>1</td>\n",
              "      <td>0</td>\n",
              "    </tr>\n",
              "    <tr>\n",
              "      <th>3</th>\n",
              "      <td>33</td>\n",
              "      <td>22.705</td>\n",
              "      <td>0</td>\n",
              "      <td>21984.47061</td>\n",
              "      <td>0</td>\n",
              "      <td>1</td>\n",
              "      <td>1</td>\n",
              "      <td>0</td>\n",
              "      <td>0</td>\n",
              "      <td>1</td>\n",
              "      <td>0</td>\n",
              "      <td>0</td>\n",
              "    </tr>\n",
              "    <tr>\n",
              "      <th>4</th>\n",
              "      <td>32</td>\n",
              "      <td>28.880</td>\n",
              "      <td>0</td>\n",
              "      <td>3866.85520</td>\n",
              "      <td>0</td>\n",
              "      <td>1</td>\n",
              "      <td>1</td>\n",
              "      <td>0</td>\n",
              "      <td>0</td>\n",
              "      <td>1</td>\n",
              "      <td>0</td>\n",
              "      <td>0</td>\n",
              "    </tr>\n",
              "    <tr>\n",
              "      <th>...</th>\n",
              "      <td>...</td>\n",
              "      <td>...</td>\n",
              "      <td>...</td>\n",
              "      <td>...</td>\n",
              "      <td>...</td>\n",
              "      <td>...</td>\n",
              "      <td>...</td>\n",
              "      <td>...</td>\n",
              "      <td>...</td>\n",
              "      <td>...</td>\n",
              "      <td>...</td>\n",
              "      <td>...</td>\n",
              "    </tr>\n",
              "    <tr>\n",
              "      <th>1333</th>\n",
              "      <td>50</td>\n",
              "      <td>30.970</td>\n",
              "      <td>3</td>\n",
              "      <td>10600.54830</td>\n",
              "      <td>0</td>\n",
              "      <td>1</td>\n",
              "      <td>1</td>\n",
              "      <td>0</td>\n",
              "      <td>0</td>\n",
              "      <td>1</td>\n",
              "      <td>0</td>\n",
              "      <td>0</td>\n",
              "    </tr>\n",
              "    <tr>\n",
              "      <th>1334</th>\n",
              "      <td>18</td>\n",
              "      <td>31.920</td>\n",
              "      <td>0</td>\n",
              "      <td>2205.98080</td>\n",
              "      <td>1</td>\n",
              "      <td>0</td>\n",
              "      <td>1</td>\n",
              "      <td>0</td>\n",
              "      <td>1</td>\n",
              "      <td>0</td>\n",
              "      <td>0</td>\n",
              "      <td>0</td>\n",
              "    </tr>\n",
              "    <tr>\n",
              "      <th>1335</th>\n",
              "      <td>18</td>\n",
              "      <td>36.850</td>\n",
              "      <td>0</td>\n",
              "      <td>1629.83350</td>\n",
              "      <td>1</td>\n",
              "      <td>0</td>\n",
              "      <td>1</td>\n",
              "      <td>0</td>\n",
              "      <td>0</td>\n",
              "      <td>0</td>\n",
              "      <td>1</td>\n",
              "      <td>0</td>\n",
              "    </tr>\n",
              "    <tr>\n",
              "      <th>1336</th>\n",
              "      <td>21</td>\n",
              "      <td>25.800</td>\n",
              "      <td>0</td>\n",
              "      <td>2007.94500</td>\n",
              "      <td>1</td>\n",
              "      <td>0</td>\n",
              "      <td>1</td>\n",
              "      <td>0</td>\n",
              "      <td>0</td>\n",
              "      <td>0</td>\n",
              "      <td>0</td>\n",
              "      <td>1</td>\n",
              "    </tr>\n",
              "    <tr>\n",
              "      <th>1337</th>\n",
              "      <td>61</td>\n",
              "      <td>29.070</td>\n",
              "      <td>0</td>\n",
              "      <td>29141.36030</td>\n",
              "      <td>1</td>\n",
              "      <td>0</td>\n",
              "      <td>0</td>\n",
              "      <td>1</td>\n",
              "      <td>0</td>\n",
              "      <td>1</td>\n",
              "      <td>0</td>\n",
              "      <td>0</td>\n",
              "    </tr>\n",
              "  </tbody>\n",
              "</table>\n",
              "<p>1338 rows × 12 columns</p>\n",
              "</div>"
            ],
            "text/plain": [
              "      age     bmi  ...  region_southeast  region_southwest\n",
              "0      19  27.900  ...                 0                 1\n",
              "1      18  33.770  ...                 1                 0\n",
              "2      28  33.000  ...                 1                 0\n",
              "3      33  22.705  ...                 0                 0\n",
              "4      32  28.880  ...                 0                 0\n",
              "...   ...     ...  ...               ...               ...\n",
              "1333   50  30.970  ...                 0                 0\n",
              "1334   18  31.920  ...                 0                 0\n",
              "1335   18  36.850  ...                 1                 0\n",
              "1336   21  25.800  ...                 0                 1\n",
              "1337   61  29.070  ...                 0                 0\n",
              "\n",
              "[1338 rows x 12 columns]"
            ]
          },
          "metadata": {
            "tags": []
          },
          "execution_count": 96
        }
      ]
    },
    {
      "cell_type": "code",
      "metadata": {
        "id": "2ygt_vjZtsOH"
      },
      "source": [
        "# Create X and y (features and labels)\n",
        "\n",
        "X = insurance_one_hot.drop(\"charges\", axis=1)\n",
        "y = insurance_one_hot[\"charges\"]"
      ],
      "execution_count": null,
      "outputs": []
    },
    {
      "cell_type": "code",
      "metadata": {
        "colab": {
          "base_uri": "https://localhost:8080/",
          "height": 402
        },
        "id": "k5qtxkERusZF",
        "outputId": "b1d63632-07be-4585-ecf3-7761c15cc2a2"
      },
      "source": [
        "#view X\n",
        "X"
      ],
      "execution_count": null,
      "outputs": [
        {
          "output_type": "execute_result",
          "data": {
            "text/html": [
              "<div>\n",
              "<style scoped>\n",
              "    .dataframe tbody tr th:only-of-type {\n",
              "        vertical-align: middle;\n",
              "    }\n",
              "\n",
              "    .dataframe tbody tr th {\n",
              "        vertical-align: top;\n",
              "    }\n",
              "\n",
              "    .dataframe thead th {\n",
              "        text-align: right;\n",
              "    }\n",
              "</style>\n",
              "<table border=\"1\" class=\"dataframe\">\n",
              "  <thead>\n",
              "    <tr style=\"text-align: right;\">\n",
              "      <th></th>\n",
              "      <th>age</th>\n",
              "      <th>bmi</th>\n",
              "      <th>children</th>\n",
              "      <th>sex_female</th>\n",
              "      <th>sex_male</th>\n",
              "      <th>smoker_no</th>\n",
              "      <th>smoker_yes</th>\n",
              "      <th>region_northeast</th>\n",
              "      <th>region_northwest</th>\n",
              "      <th>region_southeast</th>\n",
              "      <th>region_southwest</th>\n",
              "    </tr>\n",
              "  </thead>\n",
              "  <tbody>\n",
              "    <tr>\n",
              "      <th>0</th>\n",
              "      <td>19</td>\n",
              "      <td>27.900</td>\n",
              "      <td>0</td>\n",
              "      <td>1</td>\n",
              "      <td>0</td>\n",
              "      <td>0</td>\n",
              "      <td>1</td>\n",
              "      <td>0</td>\n",
              "      <td>0</td>\n",
              "      <td>0</td>\n",
              "      <td>1</td>\n",
              "    </tr>\n",
              "    <tr>\n",
              "      <th>1</th>\n",
              "      <td>18</td>\n",
              "      <td>33.770</td>\n",
              "      <td>1</td>\n",
              "      <td>0</td>\n",
              "      <td>1</td>\n",
              "      <td>1</td>\n",
              "      <td>0</td>\n",
              "      <td>0</td>\n",
              "      <td>0</td>\n",
              "      <td>1</td>\n",
              "      <td>0</td>\n",
              "    </tr>\n",
              "    <tr>\n",
              "      <th>2</th>\n",
              "      <td>28</td>\n",
              "      <td>33.000</td>\n",
              "      <td>3</td>\n",
              "      <td>0</td>\n",
              "      <td>1</td>\n",
              "      <td>1</td>\n",
              "      <td>0</td>\n",
              "      <td>0</td>\n",
              "      <td>0</td>\n",
              "      <td>1</td>\n",
              "      <td>0</td>\n",
              "    </tr>\n",
              "    <tr>\n",
              "      <th>3</th>\n",
              "      <td>33</td>\n",
              "      <td>22.705</td>\n",
              "      <td>0</td>\n",
              "      <td>0</td>\n",
              "      <td>1</td>\n",
              "      <td>1</td>\n",
              "      <td>0</td>\n",
              "      <td>0</td>\n",
              "      <td>1</td>\n",
              "      <td>0</td>\n",
              "      <td>0</td>\n",
              "    </tr>\n",
              "    <tr>\n",
              "      <th>4</th>\n",
              "      <td>32</td>\n",
              "      <td>28.880</td>\n",
              "      <td>0</td>\n",
              "      <td>0</td>\n",
              "      <td>1</td>\n",
              "      <td>1</td>\n",
              "      <td>0</td>\n",
              "      <td>0</td>\n",
              "      <td>1</td>\n",
              "      <td>0</td>\n",
              "      <td>0</td>\n",
              "    </tr>\n",
              "    <tr>\n",
              "      <th>...</th>\n",
              "      <td>...</td>\n",
              "      <td>...</td>\n",
              "      <td>...</td>\n",
              "      <td>...</td>\n",
              "      <td>...</td>\n",
              "      <td>...</td>\n",
              "      <td>...</td>\n",
              "      <td>...</td>\n",
              "      <td>...</td>\n",
              "      <td>...</td>\n",
              "      <td>...</td>\n",
              "    </tr>\n",
              "    <tr>\n",
              "      <th>1333</th>\n",
              "      <td>50</td>\n",
              "      <td>30.970</td>\n",
              "      <td>3</td>\n",
              "      <td>0</td>\n",
              "      <td>1</td>\n",
              "      <td>1</td>\n",
              "      <td>0</td>\n",
              "      <td>0</td>\n",
              "      <td>1</td>\n",
              "      <td>0</td>\n",
              "      <td>0</td>\n",
              "    </tr>\n",
              "    <tr>\n",
              "      <th>1334</th>\n",
              "      <td>18</td>\n",
              "      <td>31.920</td>\n",
              "      <td>0</td>\n",
              "      <td>1</td>\n",
              "      <td>0</td>\n",
              "      <td>1</td>\n",
              "      <td>0</td>\n",
              "      <td>1</td>\n",
              "      <td>0</td>\n",
              "      <td>0</td>\n",
              "      <td>0</td>\n",
              "    </tr>\n",
              "    <tr>\n",
              "      <th>1335</th>\n",
              "      <td>18</td>\n",
              "      <td>36.850</td>\n",
              "      <td>0</td>\n",
              "      <td>1</td>\n",
              "      <td>0</td>\n",
              "      <td>1</td>\n",
              "      <td>0</td>\n",
              "      <td>0</td>\n",
              "      <td>0</td>\n",
              "      <td>1</td>\n",
              "      <td>0</td>\n",
              "    </tr>\n",
              "    <tr>\n",
              "      <th>1336</th>\n",
              "      <td>21</td>\n",
              "      <td>25.800</td>\n",
              "      <td>0</td>\n",
              "      <td>1</td>\n",
              "      <td>0</td>\n",
              "      <td>1</td>\n",
              "      <td>0</td>\n",
              "      <td>0</td>\n",
              "      <td>0</td>\n",
              "      <td>0</td>\n",
              "      <td>1</td>\n",
              "    </tr>\n",
              "    <tr>\n",
              "      <th>1337</th>\n",
              "      <td>61</td>\n",
              "      <td>29.070</td>\n",
              "      <td>0</td>\n",
              "      <td>1</td>\n",
              "      <td>0</td>\n",
              "      <td>0</td>\n",
              "      <td>1</td>\n",
              "      <td>0</td>\n",
              "      <td>1</td>\n",
              "      <td>0</td>\n",
              "      <td>0</td>\n",
              "    </tr>\n",
              "  </tbody>\n",
              "</table>\n",
              "<p>1338 rows × 11 columns</p>\n",
              "</div>"
            ],
            "text/plain": [
              "      age     bmi  ...  region_southeast  region_southwest\n",
              "0      19  27.900  ...                 0                 1\n",
              "1      18  33.770  ...                 1                 0\n",
              "2      28  33.000  ...                 1                 0\n",
              "3      33  22.705  ...                 0                 0\n",
              "4      32  28.880  ...                 0                 0\n",
              "...   ...     ...  ...               ...               ...\n",
              "1333   50  30.970  ...                 0                 0\n",
              "1334   18  31.920  ...                 0                 0\n",
              "1335   18  36.850  ...                 1                 0\n",
              "1336   21  25.800  ...                 0                 1\n",
              "1337   61  29.070  ...                 0                 0\n",
              "\n",
              "[1338 rows x 11 columns]"
            ]
          },
          "metadata": {
            "tags": []
          },
          "execution_count": 98
        }
      ]
    },
    {
      "cell_type": "code",
      "metadata": {
        "colab": {
          "base_uri": "https://localhost:8080/"
        },
        "id": "kQtHSG47ut7Y",
        "outputId": "d6be8963-0d04-404d-ac98-ea055bc1eb0e"
      },
      "source": [
        "# View y\n",
        "y"
      ],
      "execution_count": null,
      "outputs": [
        {
          "output_type": "execute_result",
          "data": {
            "text/plain": [
              "0       16884.92400\n",
              "1        1725.55230\n",
              "2        4449.46200\n",
              "3       21984.47061\n",
              "4        3866.85520\n",
              "           ...     \n",
              "1333    10600.54830\n",
              "1334     2205.98080\n",
              "1335     1629.83350\n",
              "1336     2007.94500\n",
              "1337    29141.36030\n",
              "Name: charges, Length: 1338, dtype: float64"
            ]
          },
          "metadata": {
            "tags": []
          },
          "execution_count": 99
        }
      ]
    },
    {
      "cell_type": "code",
      "metadata": {
        "colab": {
          "base_uri": "https://localhost:8080/"
        },
        "id": "aLgGSxwuuwRD",
        "outputId": "267a3e73-144d-4fa4-b612-910e732a2be7"
      },
      "source": [
        "# Create training and test sets\n",
        "\n",
        "from sklearn.model_selection import train_test_split\n",
        "X_train, X_test, y_train, y_test = train_test_split(X, y, test_size=0.2, random_state=42)\n",
        "len(X_train), len(X_test), len(y_train), len(y_test)"
      ],
      "execution_count": null,
      "outputs": [
        {
          "output_type": "execute_result",
          "data": {
            "text/plain": [
              "(1070, 268, 1070, 268)"
            ]
          },
          "metadata": {
            "tags": []
          },
          "execution_count": 100
        }
      ]
    },
    {
      "cell_type": "code",
      "metadata": {
        "colab": {
          "base_uri": "https://localhost:8080/",
          "height": 402
        },
        "id": "G6z8BhGFvSe6",
        "outputId": "fefd83bb-00df-46fc-9abf-0059d8342903"
      },
      "source": [
        "X_train"
      ],
      "execution_count": null,
      "outputs": [
        {
          "output_type": "execute_result",
          "data": {
            "text/html": [
              "<div>\n",
              "<style scoped>\n",
              "    .dataframe tbody tr th:only-of-type {\n",
              "        vertical-align: middle;\n",
              "    }\n",
              "\n",
              "    .dataframe tbody tr th {\n",
              "        vertical-align: top;\n",
              "    }\n",
              "\n",
              "    .dataframe thead th {\n",
              "        text-align: right;\n",
              "    }\n",
              "</style>\n",
              "<table border=\"1\" class=\"dataframe\">\n",
              "  <thead>\n",
              "    <tr style=\"text-align: right;\">\n",
              "      <th></th>\n",
              "      <th>age</th>\n",
              "      <th>bmi</th>\n",
              "      <th>children</th>\n",
              "      <th>sex_female</th>\n",
              "      <th>sex_male</th>\n",
              "      <th>smoker_no</th>\n",
              "      <th>smoker_yes</th>\n",
              "      <th>region_northeast</th>\n",
              "      <th>region_northwest</th>\n",
              "      <th>region_southeast</th>\n",
              "      <th>region_southwest</th>\n",
              "    </tr>\n",
              "  </thead>\n",
              "  <tbody>\n",
              "    <tr>\n",
              "      <th>560</th>\n",
              "      <td>46</td>\n",
              "      <td>19.950</td>\n",
              "      <td>2</td>\n",
              "      <td>1</td>\n",
              "      <td>0</td>\n",
              "      <td>1</td>\n",
              "      <td>0</td>\n",
              "      <td>0</td>\n",
              "      <td>1</td>\n",
              "      <td>0</td>\n",
              "      <td>0</td>\n",
              "    </tr>\n",
              "    <tr>\n",
              "      <th>1285</th>\n",
              "      <td>47</td>\n",
              "      <td>24.320</td>\n",
              "      <td>0</td>\n",
              "      <td>1</td>\n",
              "      <td>0</td>\n",
              "      <td>1</td>\n",
              "      <td>0</td>\n",
              "      <td>1</td>\n",
              "      <td>0</td>\n",
              "      <td>0</td>\n",
              "      <td>0</td>\n",
              "    </tr>\n",
              "    <tr>\n",
              "      <th>1142</th>\n",
              "      <td>52</td>\n",
              "      <td>24.860</td>\n",
              "      <td>0</td>\n",
              "      <td>1</td>\n",
              "      <td>0</td>\n",
              "      <td>1</td>\n",
              "      <td>0</td>\n",
              "      <td>0</td>\n",
              "      <td>0</td>\n",
              "      <td>1</td>\n",
              "      <td>0</td>\n",
              "    </tr>\n",
              "    <tr>\n",
              "      <th>969</th>\n",
              "      <td>39</td>\n",
              "      <td>34.320</td>\n",
              "      <td>5</td>\n",
              "      <td>1</td>\n",
              "      <td>0</td>\n",
              "      <td>1</td>\n",
              "      <td>0</td>\n",
              "      <td>0</td>\n",
              "      <td>0</td>\n",
              "      <td>1</td>\n",
              "      <td>0</td>\n",
              "    </tr>\n",
              "    <tr>\n",
              "      <th>486</th>\n",
              "      <td>54</td>\n",
              "      <td>21.470</td>\n",
              "      <td>3</td>\n",
              "      <td>1</td>\n",
              "      <td>0</td>\n",
              "      <td>1</td>\n",
              "      <td>0</td>\n",
              "      <td>0</td>\n",
              "      <td>1</td>\n",
              "      <td>0</td>\n",
              "      <td>0</td>\n",
              "    </tr>\n",
              "    <tr>\n",
              "      <th>...</th>\n",
              "      <td>...</td>\n",
              "      <td>...</td>\n",
              "      <td>...</td>\n",
              "      <td>...</td>\n",
              "      <td>...</td>\n",
              "      <td>...</td>\n",
              "      <td>...</td>\n",
              "      <td>...</td>\n",
              "      <td>...</td>\n",
              "      <td>...</td>\n",
              "      <td>...</td>\n",
              "    </tr>\n",
              "    <tr>\n",
              "      <th>1095</th>\n",
              "      <td>18</td>\n",
              "      <td>31.350</td>\n",
              "      <td>4</td>\n",
              "      <td>1</td>\n",
              "      <td>0</td>\n",
              "      <td>1</td>\n",
              "      <td>0</td>\n",
              "      <td>1</td>\n",
              "      <td>0</td>\n",
              "      <td>0</td>\n",
              "      <td>0</td>\n",
              "    </tr>\n",
              "    <tr>\n",
              "      <th>1130</th>\n",
              "      <td>39</td>\n",
              "      <td>23.870</td>\n",
              "      <td>5</td>\n",
              "      <td>1</td>\n",
              "      <td>0</td>\n",
              "      <td>1</td>\n",
              "      <td>0</td>\n",
              "      <td>0</td>\n",
              "      <td>0</td>\n",
              "      <td>1</td>\n",
              "      <td>0</td>\n",
              "    </tr>\n",
              "    <tr>\n",
              "      <th>1294</th>\n",
              "      <td>58</td>\n",
              "      <td>25.175</td>\n",
              "      <td>0</td>\n",
              "      <td>0</td>\n",
              "      <td>1</td>\n",
              "      <td>1</td>\n",
              "      <td>0</td>\n",
              "      <td>1</td>\n",
              "      <td>0</td>\n",
              "      <td>0</td>\n",
              "      <td>0</td>\n",
              "    </tr>\n",
              "    <tr>\n",
              "      <th>860</th>\n",
              "      <td>37</td>\n",
              "      <td>47.600</td>\n",
              "      <td>2</td>\n",
              "      <td>1</td>\n",
              "      <td>0</td>\n",
              "      <td>0</td>\n",
              "      <td>1</td>\n",
              "      <td>0</td>\n",
              "      <td>0</td>\n",
              "      <td>0</td>\n",
              "      <td>1</td>\n",
              "    </tr>\n",
              "    <tr>\n",
              "      <th>1126</th>\n",
              "      <td>55</td>\n",
              "      <td>29.900</td>\n",
              "      <td>0</td>\n",
              "      <td>0</td>\n",
              "      <td>1</td>\n",
              "      <td>1</td>\n",
              "      <td>0</td>\n",
              "      <td>0</td>\n",
              "      <td>0</td>\n",
              "      <td>0</td>\n",
              "      <td>1</td>\n",
              "    </tr>\n",
              "  </tbody>\n",
              "</table>\n",
              "<p>1070 rows × 11 columns</p>\n",
              "</div>"
            ],
            "text/plain": [
              "      age     bmi  ...  region_southeast  region_southwest\n",
              "560    46  19.950  ...                 0                 0\n",
              "1285   47  24.320  ...                 0                 0\n",
              "1142   52  24.860  ...                 1                 0\n",
              "969    39  34.320  ...                 1                 0\n",
              "486    54  21.470  ...                 0                 0\n",
              "...   ...     ...  ...               ...               ...\n",
              "1095   18  31.350  ...                 0                 0\n",
              "1130   39  23.870  ...                 1                 0\n",
              "1294   58  25.175  ...                 0                 0\n",
              "860    37  47.600  ...                 0                 1\n",
              "1126   55  29.900  ...                 0                 1\n",
              "\n",
              "[1070 rows x 11 columns]"
            ]
          },
          "metadata": {
            "tags": []
          },
          "execution_count": 101
        }
      ]
    },
    {
      "cell_type": "code",
      "metadata": {
        "colab": {
          "base_uri": "https://localhost:8080/"
        },
        "id": "l3sz6ezMvvtU",
        "outputId": "2bf3e9e2-28b7-4fb8-abc5-074f0987d75e"
      },
      "source": [
        "# Build a neural network for learning a regression pattern between features and labels\n",
        "\n",
        "\n",
        "# Set random seed\n",
        "tf.random.set_seed(42)\n",
        "\n",
        "# 1. Create a model\n",
        "insurance_model = tf.keras.Sequential([\n",
        "    tf.keras.layers.Dense(10),\n",
        "    tf.keras.layers.Dense(1)\n",
        "])\n",
        "\n",
        "# 2. Compile the model\n",
        "insurance_model.compile(loss=tf.keras.losses.mae,\n",
        "                        optimizer=tf.keras.optimizers.SGD(),\n",
        "                        metrics=[\"mse\"])\n",
        "\n",
        "# 3. Fit the model\n",
        "insurance_model.fit(X_train, y_train, epochs=100)"
      ],
      "execution_count": null,
      "outputs": [
        {
          "output_type": "stream",
          "text": [
            "Epoch 1/100\n",
            "34/34 [==============================] - 1s 1ms/step - loss: 10200.7270 - mse: 232906844.3429\n",
            "Epoch 2/100\n",
            "34/34 [==============================] - 0s 1ms/step - loss: 7718.1919 - mse: 166405438.1714\n",
            "Epoch 3/100\n",
            "34/34 [==============================] - 0s 1ms/step - loss: 6983.7824 - mse: 144605314.0571\n",
            "Epoch 4/100\n",
            "34/34 [==============================] - 0s 903us/step - loss: 8083.4829 - mse: 186700532.5714\n",
            "Epoch 5/100\n",
            "34/34 [==============================] - 0s 902us/step - loss: 7793.8446 - mse: 165165045.0286\n",
            "Epoch 6/100\n",
            "34/34 [==============================] - 0s 1ms/step - loss: 7618.4107 - mse: 167119768.6857\n",
            "Epoch 7/100\n",
            "34/34 [==============================] - 0s 1ms/step - loss: 7678.4977 - mse: 171115835.8857\n",
            "Epoch 8/100\n",
            "34/34 [==============================] - 0s 1ms/step - loss: 7780.4291 - mse: 162392114.7429\n",
            "Epoch 9/100\n",
            "34/34 [==============================] - 0s 945us/step - loss: 7588.8130 - mse: 166288482.7429\n",
            "Epoch 10/100\n",
            "34/34 [==============================] - 0s 965us/step - loss: 7520.6838 - mse: 177595233.3714\n",
            "Epoch 11/100\n",
            "34/34 [==============================] - 0s 984us/step - loss: 8309.7820 - mse: 171649806.1714\n",
            "Epoch 12/100\n",
            "34/34 [==============================] - 0s 880us/step - loss: 7748.0188 - mse: 167392474.0571\n",
            "Epoch 13/100\n",
            "34/34 [==============================] - 0s 1ms/step - loss: 7888.3563 - mse: 177067264.4571\n",
            "Epoch 14/100\n",
            "34/34 [==============================] - 0s 1ms/step - loss: 7731.1164 - mse: 161458607.5429\n",
            "Epoch 15/100\n",
            "34/34 [==============================] - 0s 1ms/step - loss: 7786.1045 - mse: 168941011.2000\n",
            "Epoch 16/100\n",
            "34/34 [==============================] - 0s 1ms/step - loss: 8343.8852 - mse: 184881883.4286\n",
            "Epoch 17/100\n",
            "34/34 [==============================] - 0s 1ms/step - loss: 7142.3603 - mse: 144202288.2286\n",
            "Epoch 18/100\n",
            "34/34 [==============================] - 0s 1ms/step - loss: 8070.0509 - mse: 167691172.1143\n",
            "Epoch 19/100\n",
            "34/34 [==============================] - 0s 1ms/step - loss: 7604.8297 - mse: 165816416.6857\n",
            "Epoch 20/100\n",
            "34/34 [==============================] - 0s 1ms/step - loss: 7945.1267 - mse: 157365638.1714\n",
            "Epoch 21/100\n",
            "34/34 [==============================] - 0s 1ms/step - loss: 6864.6824 - mse: 135038419.4286\n",
            "Epoch 22/100\n",
            "34/34 [==============================] - 0s 1ms/step - loss: 7505.7910 - mse: 142529205.9429\n",
            "Epoch 23/100\n",
            "34/34 [==============================] - 0s 1ms/step - loss: 7621.7374 - mse: 155257880.0000\n",
            "Epoch 24/100\n",
            "34/34 [==============================] - 0s 962us/step - loss: 7262.7539 - mse: 153455739.8857\n",
            "Epoch 25/100\n",
            "34/34 [==============================] - 0s 1ms/step - loss: 8156.1943 - mse: 166149192.0000\n",
            "Epoch 26/100\n",
            "34/34 [==============================] - 0s 977us/step - loss: 7246.2709 - mse: 144457536.9143\n",
            "Epoch 27/100\n",
            "34/34 [==============================] - 0s 968us/step - loss: 7562.7814 - mse: 148035521.3714\n",
            "Epoch 28/100\n",
            "34/34 [==============================] - 0s 1ms/step - loss: 7842.6213 - mse: 173809191.7714\n",
            "Epoch 29/100\n",
            "34/34 [==============================] - 0s 1ms/step - loss: 7153.8769 - mse: 153167100.3429\n",
            "Epoch 30/100\n",
            "34/34 [==============================] - 0s 1ms/step - loss: 7723.4945 - mse: 159386063.5429\n",
            "Epoch 31/100\n",
            "34/34 [==============================] - 0s 1ms/step - loss: 8310.0634 - mse: 184691171.2000\n",
            "Epoch 32/100\n",
            "34/34 [==============================] - 0s 998us/step - loss: 7734.9641 - mse: 149404051.6571\n",
            "Epoch 33/100\n",
            "34/34 [==============================] - 0s 1ms/step - loss: 7403.4651 - mse: 157618361.0286\n",
            "Epoch 34/100\n",
            "34/34 [==============================] - 0s 977us/step - loss: 7482.6278 - mse: 148039213.2571\n",
            "Epoch 35/100\n",
            "34/34 [==============================] - 0s 1ms/step - loss: 7198.8921 - mse: 150949184.2286\n",
            "Epoch 36/100\n",
            "34/34 [==============================] - 0s 1ms/step - loss: 7484.1010 - mse: 150062928.6857\n",
            "Epoch 37/100\n",
            "34/34 [==============================] - 0s 1ms/step - loss: 7701.6285 - mse: 156932510.6286\n",
            "Epoch 38/100\n",
            "34/34 [==============================] - 0s 1000us/step - loss: 6923.6144 - mse: 144762630.1714\n",
            "Epoch 39/100\n",
            "34/34 [==============================] - 0s 992us/step - loss: 7673.7911 - mse: 165720791.3143\n",
            "Epoch 40/100\n",
            "34/34 [==============================] - 0s 1ms/step - loss: 7670.9191 - mse: 164353221.4857\n",
            "Epoch 41/100\n",
            "34/34 [==============================] - 0s 1ms/step - loss: 7774.5872 - mse: 165611520.0000\n",
            "Epoch 42/100\n",
            "34/34 [==============================] - 0s 987us/step - loss: 7413.0886 - mse: 156373463.7714\n",
            "Epoch 43/100\n",
            "34/34 [==============================] - 0s 1ms/step - loss: 7793.8665 - mse: 156673048.9143\n",
            "Epoch 44/100\n",
            "34/34 [==============================] - 0s 1ms/step - loss: 7239.3577 - mse: 148966416.9143\n",
            "Epoch 45/100\n",
            "34/34 [==============================] - 0s 1ms/step - loss: 7402.6549 - mse: 144176969.3714\n",
            "Epoch 46/100\n",
            "34/34 [==============================] - 0s 982us/step - loss: 7167.7284 - mse: 145069128.6857\n",
            "Epoch 47/100\n",
            "34/34 [==============================] - 0s 1ms/step - loss: 7716.9022 - mse: 156590662.4000\n",
            "Epoch 48/100\n",
            "34/34 [==============================] - 0s 1ms/step - loss: 7509.9133 - mse: 151349780.1143\n",
            "Epoch 49/100\n",
            "34/34 [==============================] - 0s 1ms/step - loss: 7216.6765 - mse: 136967401.3714\n",
            "Epoch 50/100\n",
            "34/34 [==============================] - 0s 1ms/step - loss: 7354.2577 - mse: 154545495.0857\n",
            "Epoch 51/100\n",
            "34/34 [==============================] - 0s 974us/step - loss: 7587.3343 - mse: 154801866.5143\n",
            "Epoch 52/100\n",
            "34/34 [==============================] - 0s 1ms/step - loss: 7697.7618 - mse: 161879683.6571\n",
            "Epoch 53/100\n",
            "34/34 [==============================] - 0s 1ms/step - loss: 7084.7635 - mse: 145403143.3143\n",
            "Epoch 54/100\n",
            "34/34 [==============================] - 0s 965us/step - loss: 7366.1160 - mse: 152404707.6571\n",
            "Epoch 55/100\n",
            "34/34 [==============================] - 0s 930us/step - loss: 7354.5013 - mse: 137853451.2000\n",
            "Epoch 56/100\n",
            "34/34 [==============================] - 0s 1ms/step - loss: 7201.4705 - mse: 137785058.0571\n",
            "Epoch 57/100\n",
            "34/34 [==============================] - 0s 978us/step - loss: 7612.1701 - mse: 158276768.0000\n",
            "Epoch 58/100\n",
            "34/34 [==============================] - 0s 979us/step - loss: 7684.3347 - mse: 157625068.8000\n",
            "Epoch 59/100\n",
            "34/34 [==============================] - 0s 1ms/step - loss: 7315.3647 - mse: 144545498.7429\n",
            "Epoch 60/100\n",
            "34/34 [==============================] - 0s 1ms/step - loss: 7381.6661 - mse: 146249291.4286\n",
            "Epoch 61/100\n",
            "34/34 [==============================] - 0s 1ms/step - loss: 7842.5244 - mse: 155684506.9714\n",
            "Epoch 62/100\n",
            "34/34 [==============================] - 0s 1ms/step - loss: 7346.2639 - mse: 145350821.2571\n",
            "Epoch 63/100\n",
            "34/34 [==============================] - 0s 1ms/step - loss: 7634.5369 - mse: 148362233.6000\n",
            "Epoch 64/100\n",
            "34/34 [==============================] - 0s 1ms/step - loss: 6976.2133 - mse: 138817282.2857\n",
            "Epoch 65/100\n",
            "34/34 [==============================] - 0s 1ms/step - loss: 7608.7967 - mse: 153205061.9429\n",
            "Epoch 66/100\n",
            "34/34 [==============================] - 0s 1ms/step - loss: 7275.7896 - mse: 146349783.3143\n",
            "Epoch 67/100\n",
            "34/34 [==============================] - 0s 1ms/step - loss: 7244.1635 - mse: 146296791.7714\n",
            "Epoch 68/100\n",
            "34/34 [==============================] - 0s 1ms/step - loss: 7553.0939 - mse: 149718760.8000\n",
            "Epoch 69/100\n",
            "34/34 [==============================] - 0s 1ms/step - loss: 8028.1948 - mse: 153841096.2286\n",
            "Epoch 70/100\n",
            "34/34 [==============================] - 0s 988us/step - loss: 7150.7139 - mse: 136933880.9143\n",
            "Epoch 71/100\n",
            "34/34 [==============================] - 0s 954us/step - loss: 7137.5192 - mse: 144632701.0286\n",
            "Epoch 72/100\n",
            "34/34 [==============================] - 0s 1ms/step - loss: 6708.9293 - mse: 126306552.2286\n",
            "Epoch 73/100\n",
            "34/34 [==============================] - 0s 1ms/step - loss: 7554.2729 - mse: 148335062.6286\n",
            "Epoch 74/100\n",
            "34/34 [==============================] - 0s 1ms/step - loss: 7060.4082 - mse: 146470046.8571\n",
            "Epoch 75/100\n",
            "34/34 [==============================] - 0s 942us/step - loss: 7564.8154 - mse: 154816845.4857\n",
            "Epoch 76/100\n",
            "34/34 [==============================] - 0s 978us/step - loss: 7016.7828 - mse: 138378852.3429\n",
            "Epoch 77/100\n",
            "34/34 [==============================] - 0s 1ms/step - loss: 7936.9772 - mse: 158228814.1714\n",
            "Epoch 78/100\n",
            "34/34 [==============================] - 0s 1ms/step - loss: 6828.1390 - mse: 131837415.0857\n",
            "Epoch 79/100\n",
            "34/34 [==============================] - 0s 1ms/step - loss: 6875.0795 - mse: 115537477.2571\n",
            "Epoch 80/100\n",
            "34/34 [==============================] - 0s 1ms/step - loss: 6770.6307 - mse: 118854652.0000\n",
            "Epoch 81/100\n",
            "34/34 [==============================] - 0s 1ms/step - loss: 7216.2089 - mse: 143872929.1429\n",
            "Epoch 82/100\n",
            "34/34 [==============================] - 0s 1ms/step - loss: 7774.2735 - mse: 149552563.6571\n",
            "Epoch 83/100\n",
            "34/34 [==============================] - 0s 1ms/step - loss: 7156.2550 - mse: 149784936.4571\n",
            "Epoch 84/100\n",
            "34/34 [==============================] - 0s 1ms/step - loss: 7436.0035 - mse: 141612282.0571\n",
            "Epoch 85/100\n",
            "34/34 [==============================] - 0s 1ms/step - loss: 6855.7935 - mse: 129987553.3714\n",
            "Epoch 86/100\n",
            "34/34 [==============================] - 0s 966us/step - loss: 7768.8281 - mse: 153538502.4000\n",
            "Epoch 87/100\n",
            "34/34 [==============================] - 0s 1ms/step - loss: 7014.5800 - mse: 133041930.2857\n",
            "Epoch 88/100\n",
            "34/34 [==============================] - 0s 1ms/step - loss: 7525.7778 - mse: 148238441.1429\n",
            "Epoch 89/100\n",
            "34/34 [==============================] - 0s 1ms/step - loss: 6994.6077 - mse: 135675008.6857\n",
            "Epoch 90/100\n",
            "34/34 [==============================] - 0s 1ms/step - loss: 7677.9612 - mse: 149626756.3429\n",
            "Epoch 91/100\n",
            "34/34 [==============================] - 0s 1ms/step - loss: 7210.0508 - mse: 141118185.1429\n",
            "Epoch 92/100\n",
            "34/34 [==============================] - 0s 1ms/step - loss: 7335.2236 - mse: 140542576.4571\n",
            "Epoch 93/100\n",
            "34/34 [==============================] - 0s 963us/step - loss: 7235.0912 - mse: 135202912.9143\n",
            "Epoch 94/100\n",
            "34/34 [==============================] - 0s 1ms/step - loss: 6728.8874 - mse: 120388140.6857\n",
            "Epoch 95/100\n",
            "34/34 [==============================] - 0s 1ms/step - loss: 7811.5180 - mse: 141510572.8000\n",
            "Epoch 96/100\n",
            "34/34 [==============================] - 0s 996us/step - loss: 7430.2760 - mse: 135569171.2000\n",
            "Epoch 97/100\n",
            "34/34 [==============================] - 0s 1ms/step - loss: 6876.5969 - mse: 126666630.6286\n",
            "Epoch 98/100\n",
            "34/34 [==============================] - 0s 1ms/step - loss: 7070.8696 - mse: 131399634.2857\n",
            "Epoch 99/100\n",
            "34/34 [==============================] - 0s 1ms/step - loss: 7118.6875 - mse: 131338525.3714\n",
            "Epoch 100/100\n",
            "34/34 [==============================] - 0s 1ms/step - loss: 6880.6744 - mse: 129417086.8571\n"
          ],
          "name": "stdout"
        },
        {
          "output_type": "execute_result",
          "data": {
            "text/plain": [
              "<tensorflow.python.keras.callbacks.History at 0x7fc668598f90>"
            ]
          },
          "metadata": {
            "tags": []
          },
          "execution_count": 102
        }
      ]
    },
    {
      "cell_type": "code",
      "metadata": {
        "colab": {
          "base_uri": "https://localhost:8080/"
        },
        "id": "ImienWarw1Np",
        "outputId": "b493d792-c15a-45b7-9e7a-54d72467c6a0"
      },
      "source": [
        "# Check the results of the insurance model on test data\n",
        "\n",
        "insurance_model.evaluate(X_test, y_test)"
      ],
      "execution_count": null,
      "outputs": [
        {
          "output_type": "stream",
          "text": [
            "9/9 [==============================] - 0s 1ms/step - loss: 7023.3291 - mse: 111577840.0000\n"
          ],
          "name": "stdout"
        },
        {
          "output_type": "execute_result",
          "data": {
            "text/plain": [
              "[7023.3291015625, 111577840.0]"
            ]
          },
          "metadata": {
            "tags": []
          },
          "execution_count": 103
        }
      ]
    },
    {
      "cell_type": "markdown",
      "metadata": {
        "id": "LnPiZMh7xTYh"
      },
      "source": [
        "Our model seems to go off by around 7000\n",
        "Lets check what is the median of the data we have for y_train"
      ]
    },
    {
      "cell_type": "code",
      "metadata": {
        "colab": {
          "base_uri": "https://localhost:8080/"
        },
        "id": "wpMU7zy8xlqB",
        "outputId": "6540ad37-7798-4d89-c412-34c7fc005e78"
      },
      "source": [
        "y_train.median(), y_train.mean()"
      ],
      "execution_count": null,
      "outputs": [
        {
          "output_type": "execute_result",
          "data": {
            "text/plain": [
              "(9575.4421, 13346.089736364489)"
            ]
          },
          "metadata": {
            "tags": []
          },
          "execution_count": 104
        }
      ]
    },
    {
      "cell_type": "markdown",
      "metadata": {
        "id": "ig3acW_vxqCJ"
      },
      "source": [
        "The above mean and median shows that the model is quite off\n",
        "Let's try to improve it"
      ]
    },
    {
      "cell_type": "markdown",
      "metadata": {
        "id": "QtG1hS5mxnW-"
      },
      "source": [
        "To try to improve our model, let's run a few experiments:\n"
      ]
    },
    {
      "cell_type": "code",
      "metadata": {
        "colab": {
          "base_uri": "https://localhost:8080/"
        },
        "id": "y5C0AksGyPYr",
        "outputId": "0821869c-a094-4bf2-92f6-814c38b89538"
      },
      "source": [
        "# Set random seed\n",
        "tf.random.set_seed(42)\n",
        "\n",
        "# 1. Create the model\n",
        "\n",
        "insurance_model_1 = tf.keras.Sequential(\n",
        "    layers=[\n",
        "            tf.keras.layers.Dense(100),\n",
        "            tf.keras.layers.Dense(10),\n",
        "            tf.keras.layers.Dense(1)\n",
        "    ]\n",
        ")\n",
        "\n",
        "# 2. Compile the model\n",
        "insurance_model_1.compile(loss=tf.keras.losses.mae,\n",
        "                          optimizer=tf.keras.optimizers.SGD(),\n",
        "                          metrics=[\"mse\"])\n",
        "\n",
        "\n",
        "# 3. Fit the model\n",
        "insurance_model_1.fit(X_train, y_train, epochs=100)"
      ],
      "execution_count": null,
      "outputs": [
        {
          "output_type": "stream",
          "text": [
            "Epoch 1/100\n",
            "34/34 [==============================] - 0s 1ms/step - loss: nan - mse: nan              \n",
            "Epoch 2/100\n",
            "34/34 [==============================] - 0s 912us/step - loss: nan - mse: nan\n",
            "Epoch 3/100\n",
            "34/34 [==============================] - 0s 995us/step - loss: nan - mse: nan\n",
            "Epoch 4/100\n",
            "34/34 [==============================] - 0s 1ms/step - loss: nan - mse: nan\n",
            "Epoch 5/100\n",
            "34/34 [==============================] - 0s 1ms/step - loss: nan - mse: nan\n",
            "Epoch 6/100\n",
            "34/34 [==============================] - 0s 1ms/step - loss: nan - mse: nan\n",
            "Epoch 7/100\n",
            "34/34 [==============================] - 0s 991us/step - loss: nan - mse: nan\n",
            "Epoch 8/100\n",
            "34/34 [==============================] - 0s 1ms/step - loss: nan - mse: nan\n",
            "Epoch 9/100\n",
            "34/34 [==============================] - 0s 1ms/step - loss: nan - mse: nan\n",
            "Epoch 10/100\n",
            "34/34 [==============================] - 0s 963us/step - loss: nan - mse: nan\n",
            "Epoch 11/100\n",
            "34/34 [==============================] - 0s 983us/step - loss: nan - mse: nan\n",
            "Epoch 12/100\n",
            "34/34 [==============================] - 0s 1ms/step - loss: nan - mse: nan\n",
            "Epoch 13/100\n",
            "34/34 [==============================] - 0s 954us/step - loss: nan - mse: nan\n",
            "Epoch 14/100\n",
            "34/34 [==============================] - 0s 1ms/step - loss: nan - mse: nan\n",
            "Epoch 15/100\n",
            "34/34 [==============================] - 0s 1ms/step - loss: nan - mse: nan\n",
            "Epoch 16/100\n",
            "34/34 [==============================] - 0s 1ms/step - loss: nan - mse: nan\n",
            "Epoch 17/100\n",
            "34/34 [==============================] - 0s 946us/step - loss: nan - mse: nan\n",
            "Epoch 18/100\n",
            "34/34 [==============================] - 0s 1ms/step - loss: nan - mse: nan\n",
            "Epoch 19/100\n",
            "34/34 [==============================] - 0s 1ms/step - loss: nan - mse: nan\n",
            "Epoch 20/100\n",
            "34/34 [==============================] - 0s 1ms/step - loss: nan - mse: nan\n",
            "Epoch 21/100\n",
            "34/34 [==============================] - 0s 1ms/step - loss: nan - mse: nan\n",
            "Epoch 22/100\n",
            "34/34 [==============================] - 0s 1ms/step - loss: nan - mse: nan\n",
            "Epoch 23/100\n",
            "34/34 [==============================] - 0s 1ms/step - loss: nan - mse: nan\n",
            "Epoch 24/100\n",
            "34/34 [==============================] - 0s 1ms/step - loss: nan - mse: nan\n",
            "Epoch 25/100\n",
            "34/34 [==============================] - 0s 950us/step - loss: nan - mse: nan\n",
            "Epoch 26/100\n",
            "34/34 [==============================] - 0s 1ms/step - loss: nan - mse: nan\n",
            "Epoch 27/100\n",
            "34/34 [==============================] - 0s 1ms/step - loss: nan - mse: nan\n",
            "Epoch 28/100\n",
            "34/34 [==============================] - 0s 1ms/step - loss: nan - mse: nan\n",
            "Epoch 29/100\n",
            "34/34 [==============================] - 0s 1ms/step - loss: nan - mse: nan\n",
            "Epoch 30/100\n",
            "34/34 [==============================] - 0s 995us/step - loss: nan - mse: nan\n",
            "Epoch 31/100\n",
            "34/34 [==============================] - 0s 1ms/step - loss: nan - mse: nan\n",
            "Epoch 32/100\n",
            "34/34 [==============================] - 0s 1ms/step - loss: nan - mse: nan\n",
            "Epoch 33/100\n",
            "34/34 [==============================] - 0s 1ms/step - loss: nan - mse: nan\n",
            "Epoch 34/100\n",
            "34/34 [==============================] - 0s 1ms/step - loss: nan - mse: nan\n",
            "Epoch 35/100\n",
            "34/34 [==============================] - 0s 1ms/step - loss: nan - mse: nan\n",
            "Epoch 36/100\n",
            "34/34 [==============================] - 0s 1ms/step - loss: nan - mse: nan\n",
            "Epoch 37/100\n",
            "34/34 [==============================] - 0s 1ms/step - loss: nan - mse: nan\n",
            "Epoch 38/100\n",
            "34/34 [==============================] - 0s 1ms/step - loss: nan - mse: nan\n",
            "Epoch 39/100\n",
            "34/34 [==============================] - 0s 1ms/step - loss: nan - mse: nan\n",
            "Epoch 40/100\n",
            "34/34 [==============================] - 0s 1ms/step - loss: nan - mse: nan\n",
            "Epoch 41/100\n",
            "34/34 [==============================] - 0s 1ms/step - loss: nan - mse: nan\n",
            "Epoch 42/100\n",
            "34/34 [==============================] - 0s 1ms/step - loss: nan - mse: nan\n",
            "Epoch 43/100\n",
            "34/34 [==============================] - 0s 1ms/step - loss: nan - mse: nan\n",
            "Epoch 44/100\n",
            "34/34 [==============================] - 0s 1ms/step - loss: nan - mse: nan\n",
            "Epoch 45/100\n",
            "34/34 [==============================] - 0s 1ms/step - loss: nan - mse: nan\n",
            "Epoch 46/100\n",
            "34/34 [==============================] - 0s 1ms/step - loss: nan - mse: nan\n",
            "Epoch 47/100\n",
            "34/34 [==============================] - 0s 994us/step - loss: nan - mse: nan\n",
            "Epoch 48/100\n",
            "34/34 [==============================] - 0s 1ms/step - loss: nan - mse: nan\n",
            "Epoch 49/100\n",
            "34/34 [==============================] - 0s 983us/step - loss: nan - mse: nan\n",
            "Epoch 50/100\n",
            "34/34 [==============================] - 0s 1ms/step - loss: nan - mse: nan\n",
            "Epoch 51/100\n",
            "34/34 [==============================] - 0s 1ms/step - loss: nan - mse: nan\n",
            "Epoch 52/100\n",
            "34/34 [==============================] - 0s 1ms/step - loss: nan - mse: nan\n",
            "Epoch 53/100\n",
            "34/34 [==============================] - 0s 1ms/step - loss: nan - mse: nan\n",
            "Epoch 54/100\n",
            "34/34 [==============================] - 0s 1ms/step - loss: nan - mse: nan\n",
            "Epoch 55/100\n",
            "34/34 [==============================] - 0s 1ms/step - loss: nan - mse: nan\n",
            "Epoch 56/100\n",
            "34/34 [==============================] - 0s 1ms/step - loss: nan - mse: nan\n",
            "Epoch 57/100\n",
            "34/34 [==============================] - 0s 1ms/step - loss: nan - mse: nan\n",
            "Epoch 58/100\n",
            "34/34 [==============================] - 0s 1ms/step - loss: nan - mse: nan\n",
            "Epoch 59/100\n",
            "34/34 [==============================] - 0s 1ms/step - loss: nan - mse: nan\n",
            "Epoch 60/100\n",
            "34/34 [==============================] - 0s 1ms/step - loss: nan - mse: nan\n",
            "Epoch 61/100\n",
            "34/34 [==============================] - 0s 1ms/step - loss: nan - mse: nan\n",
            "Epoch 62/100\n",
            "34/34 [==============================] - 0s 1ms/step - loss: nan - mse: nan\n",
            "Epoch 63/100\n",
            "34/34 [==============================] - 0s 1ms/step - loss: nan - mse: nan\n",
            "Epoch 64/100\n",
            "34/34 [==============================] - 0s 1ms/step - loss: nan - mse: nan\n",
            "Epoch 65/100\n",
            "34/34 [==============================] - 0s 1ms/step - loss: nan - mse: nan\n",
            "Epoch 66/100\n",
            "34/34 [==============================] - 0s 1ms/step - loss: nan - mse: nan\n",
            "Epoch 67/100\n",
            "34/34 [==============================] - 0s 1ms/step - loss: nan - mse: nan\n",
            "Epoch 68/100\n",
            "34/34 [==============================] - 0s 1ms/step - loss: nan - mse: nan\n",
            "Epoch 69/100\n",
            "34/34 [==============================] - 0s 1ms/step - loss: nan - mse: nan\n",
            "Epoch 70/100\n",
            "34/34 [==============================] - 0s 1ms/step - loss: nan - mse: nan\n",
            "Epoch 71/100\n",
            "34/34 [==============================] - 0s 2ms/step - loss: nan - mse: nan\n",
            "Epoch 72/100\n",
            "34/34 [==============================] - 0s 1ms/step - loss: nan - mse: nan\n",
            "Epoch 73/100\n",
            "34/34 [==============================] - 0s 1ms/step - loss: nan - mse: nan\n",
            "Epoch 74/100\n",
            "34/34 [==============================] - 0s 1ms/step - loss: nan - mse: nan\n",
            "Epoch 75/100\n",
            "34/34 [==============================] - 0s 1ms/step - loss: nan - mse: nan\n",
            "Epoch 76/100\n",
            "34/34 [==============================] - 0s 1ms/step - loss: nan - mse: nan\n",
            "Epoch 77/100\n",
            "34/34 [==============================] - 0s 1ms/step - loss: nan - mse: nan\n",
            "Epoch 78/100\n",
            "34/34 [==============================] - 0s 1ms/step - loss: nan - mse: nan\n",
            "Epoch 79/100\n",
            "34/34 [==============================] - 0s 1ms/step - loss: nan - mse: nan\n",
            "Epoch 80/100\n",
            "34/34 [==============================] - 0s 1ms/step - loss: nan - mse: nan\n",
            "Epoch 81/100\n",
            "34/34 [==============================] - 0s 1ms/step - loss: nan - mse: nan\n",
            "Epoch 82/100\n",
            "34/34 [==============================] - 0s 1ms/step - loss: nan - mse: nan\n",
            "Epoch 83/100\n",
            "34/34 [==============================] - 0s 1ms/step - loss: nan - mse: nan\n",
            "Epoch 84/100\n",
            "34/34 [==============================] - 0s 1ms/step - loss: nan - mse: nan\n",
            "Epoch 85/100\n",
            "34/34 [==============================] - 0s 1ms/step - loss: nan - mse: nan\n",
            "Epoch 86/100\n",
            "34/34 [==============================] - 0s 1ms/step - loss: nan - mse: nan\n",
            "Epoch 87/100\n",
            "34/34 [==============================] - 0s 1ms/step - loss: nan - mse: nan\n",
            "Epoch 88/100\n",
            "34/34 [==============================] - 0s 1ms/step - loss: nan - mse: nan\n",
            "Epoch 89/100\n",
            "34/34 [==============================] - 0s 1ms/step - loss: nan - mse: nan\n",
            "Epoch 90/100\n",
            "34/34 [==============================] - 0s 1ms/step - loss: nan - mse: nan\n",
            "Epoch 91/100\n",
            "34/34 [==============================] - 0s 1ms/step - loss: nan - mse: nan\n",
            "Epoch 92/100\n",
            "34/34 [==============================] - 0s 1ms/step - loss: nan - mse: nan\n",
            "Epoch 93/100\n",
            "34/34 [==============================] - 0s 1ms/step - loss: nan - mse: nan\n",
            "Epoch 94/100\n",
            "34/34 [==============================] - 0s 1ms/step - loss: nan - mse: nan\n",
            "Epoch 95/100\n",
            "34/34 [==============================] - 0s 1ms/step - loss: nan - mse: nan\n",
            "Epoch 96/100\n",
            "34/34 [==============================] - 0s 1ms/step - loss: nan - mse: nan\n",
            "Epoch 97/100\n",
            "34/34 [==============================] - 0s 1ms/step - loss: nan - mse: nan\n",
            "Epoch 98/100\n",
            "34/34 [==============================] - 0s 1ms/step - loss: nan - mse: nan\n",
            "Epoch 99/100\n",
            "34/34 [==============================] - 0s 1ms/step - loss: nan - mse: nan\n",
            "Epoch 100/100\n",
            "34/34 [==============================] - 0s 1ms/step - loss: nan - mse: nan\n"
          ],
          "name": "stdout"
        },
        {
          "output_type": "execute_result",
          "data": {
            "text/plain": [
              "<tensorflow.python.keras.callbacks.History at 0x7fc669baa190>"
            ]
          },
          "metadata": {
            "tags": []
          },
          "execution_count": 105
        }
      ]
    },
    {
      "cell_type": "markdown",
      "metadata": {
        "id": "YceSf_z8zRgg"
      },
      "source": [
        "The above model shows nan for all losses and metrics. This may happen because we have built a model that is either very complex or very big for our training set."
      ]
    },
    {
      "cell_type": "markdown",
      "metadata": {
        "id": "I2B7F82Gz-Nx"
      },
      "source": [
        "**Experiment 1**\n",
        "\n",
        "Adding an extra layer and optimizer is now Adam"
      ]
    },
    {
      "cell_type": "code",
      "metadata": {
        "colab": {
          "base_uri": "https://localhost:8080/"
        },
        "id": "rimLXvi_zhjR",
        "outputId": "1252fefa-6cbe-4ff8-cc5b-22f7348a9f62"
      },
      "source": [
        "# Set random seed\n",
        "tf.random.set_seed(42)\n",
        "\n",
        "# 1. Create the model\n",
        "\n",
        "insurance_model_1 = tf.keras.Sequential(\n",
        "    layers=[\n",
        "            tf.keras.layers.Dense(100),\n",
        "            tf.keras.layers.Dense(10),\n",
        "            tf.keras.layers.Dense(1)\n",
        "    ]\n",
        ")\n",
        "\n",
        "# 2. Compile the model\n",
        "insurance_model_1.compile(loss=tf.keras.losses.mae,\n",
        "                          optimizer=tf.keras.optimizers.Adam(), ## Changed from SGD\n",
        "                          metrics=[\"mse\"])\n",
        "\n",
        "\n",
        "# 3. Fit the model\n",
        "insurance_model_1.fit(X_train, y_train, epochs=100)"
      ],
      "execution_count": null,
      "outputs": [
        {
          "output_type": "stream",
          "text": [
            "Epoch 1/100\n",
            "34/34 [==============================] - 0s 1ms/step - loss: 13251.7400 - mse: 317100113.3714\n",
            "Epoch 2/100\n",
            "34/34 [==============================] - 0s 1ms/step - loss: 12768.7726 - mse: 305327480.6857\n",
            "Epoch 3/100\n",
            "34/34 [==============================] - 0s 2ms/step - loss: 12248.2855 - mse: 283856073.6000\n",
            "Epoch 4/100\n",
            "34/34 [==============================] - 0s 1ms/step - loss: 12353.0242 - mse: 309174394.5143\n",
            "Epoch 5/100\n",
            "34/34 [==============================] - 0s 1ms/step - loss: 11243.3972 - mse: 268266330.5143\n",
            "Epoch 6/100\n",
            "34/34 [==============================] - 0s 1ms/step - loss: 9718.5255 - mse: 236235459.2000\n",
            "Epoch 7/100\n",
            "34/34 [==============================] - 0s 1ms/step - loss: 8354.8474 - mse: 194857083.4286\n",
            "Epoch 8/100\n",
            "34/34 [==============================] - 0s 1ms/step - loss: 7732.2964 - mse: 170648431.5429\n",
            "Epoch 9/100\n",
            "34/34 [==============================] - 0s 1ms/step - loss: 7537.6737 - mse: 155405644.8000\n",
            "Epoch 10/100\n",
            "34/34 [==============================] - 0s 1ms/step - loss: 7652.7184 - mse: 167161548.8000\n",
            "Epoch 11/100\n",
            "34/34 [==============================] - 0s 1ms/step - loss: 7802.4481 - mse: 162855516.3429\n",
            "Epoch 12/100\n",
            "34/34 [==============================] - 0s 1ms/step - loss: 7370.3458 - mse: 151054300.8000\n",
            "Epoch 13/100\n",
            "34/34 [==============================] - 0s 1ms/step - loss: 7651.9583 - mse: 161019982.6286\n",
            "Epoch 14/100\n",
            "34/34 [==============================] - 0s 1ms/step - loss: 7404.5587 - mse: 156730519.3143\n",
            "Epoch 15/100\n",
            "34/34 [==============================] - 0s 1ms/step - loss: 7639.0614 - mse: 161284138.9714\n",
            "Epoch 16/100\n",
            "34/34 [==============================] - 0s 1ms/step - loss: 7569.4714 - mse: 167623018.0571\n",
            "Epoch 17/100\n",
            "34/34 [==============================] - 0s 1ms/step - loss: 6946.3936 - mse: 144038388.1143\n",
            "Epoch 18/100\n",
            "34/34 [==============================] - 0s 1ms/step - loss: 7137.7241 - mse: 156536513.3714\n",
            "Epoch 19/100\n",
            "34/34 [==============================] - 0s 2ms/step - loss: 7165.3119 - mse: 153120123.4286\n",
            "Epoch 20/100\n",
            "34/34 [==============================] - 0s 2ms/step - loss: 7063.6223 - mse: 149366730.9714\n",
            "Epoch 21/100\n",
            "34/34 [==============================] - 0s 1ms/step - loss: 6472.3189 - mse: 131680630.8571\n",
            "Epoch 22/100\n",
            "34/34 [==============================] - 0s 2ms/step - loss: 6674.0546 - mse: 135314079.0857\n",
            "Epoch 23/100\n",
            "34/34 [==============================] - 0s 1ms/step - loss: 7112.2982 - mse: 154536150.4000\n",
            "Epoch 24/100\n",
            "34/34 [==============================] - 0s 1ms/step - loss: 6838.1526 - mse: 148440828.3429\n",
            "Epoch 25/100\n",
            "34/34 [==============================] - 0s 1ms/step - loss: 7496.9558 - mse: 163303657.1429\n",
            "Epoch 26/100\n",
            "34/34 [==============================] - 0s 1ms/step - loss: 6718.1682 - mse: 140699563.8857\n",
            "Epoch 27/100\n",
            "34/34 [==============================] - 0s 1ms/step - loss: 7107.2977 - mse: 148782785.3714\n",
            "Epoch 28/100\n",
            "34/34 [==============================] - 0s 1ms/step - loss: 7357.2010 - mse: 167130474.0571\n",
            "Epoch 29/100\n",
            "34/34 [==============================] - 0s 1ms/step - loss: 6668.5721 - mse: 147201274.5143\n",
            "Epoch 30/100\n",
            "34/34 [==============================] - 0s 1ms/step - loss: 7119.4991 - mse: 155134057.6000\n",
            "Epoch 31/100\n",
            "34/34 [==============================] - 0s 1ms/step - loss: 7360.1235 - mse: 168011623.3143\n",
            "Epoch 32/100\n",
            "34/34 [==============================] - 0s 2ms/step - loss: 6817.2566 - mse: 151235761.8286\n",
            "Epoch 33/100\n",
            "34/34 [==============================] - 0s 1ms/step - loss: 6991.0289 - mse: 160060952.4571\n",
            "Epoch 34/100\n",
            "34/34 [==============================] - 0s 1ms/step - loss: 6829.4905 - mse: 152652476.1143\n",
            "Epoch 35/100\n",
            "34/34 [==============================] - 0s 1ms/step - loss: 6895.2916 - mse: 154528416.9143\n",
            "Epoch 36/100\n",
            "34/34 [==============================] - 0s 1ms/step - loss: 6762.5129 - mse: 152603095.0857\n",
            "Epoch 37/100\n",
            "34/34 [==============================] - 0s 1ms/step - loss: 6910.4815 - mse: 160191474.7429\n",
            "Epoch 38/100\n",
            "34/34 [==============================] - 0s 2ms/step - loss: 6405.0325 - mse: 145538267.8857\n",
            "Epoch 39/100\n",
            "34/34 [==============================] - 0s 1ms/step - loss: 6799.7921 - mse: 163294721.8286\n",
            "Epoch 40/100\n",
            "34/34 [==============================] - 0s 1ms/step - loss: 6696.0544 - mse: 157182747.4286\n",
            "Epoch 41/100\n",
            "34/34 [==============================] - 0s 2ms/step - loss: 6632.0484 - mse: 162982326.4000\n",
            "Epoch 42/100\n",
            "34/34 [==============================] - 0s 1ms/step - loss: 6501.1589 - mse: 156330952.6857\n",
            "Epoch 43/100\n",
            "34/34 [==============================] - 0s 1ms/step - loss: 6518.8881 - mse: 156188785.9429\n",
            "Epoch 44/100\n",
            "34/34 [==============================] - 0s 1ms/step - loss: 6287.3744 - mse: 148971752.2286\n",
            "Epoch 45/100\n",
            "34/34 [==============================] - 0s 1ms/step - loss: 6331.2561 - mse: 150832710.1714\n",
            "Epoch 46/100\n",
            "34/34 [==============================] - 0s 1ms/step - loss: 6080.3169 - mse: 146593349.9429\n",
            "Epoch 47/100\n",
            "34/34 [==============================] - 0s 1ms/step - loss: 6665.8195 - mse: 161684775.3143\n",
            "Epoch 48/100\n",
            "34/34 [==============================] - 0s 1ms/step - loss: 6424.2352 - mse: 154601187.4286\n",
            "Epoch 49/100\n",
            "34/34 [==============================] - 0s 1ms/step - loss: 6154.8287 - mse: 140931644.5714\n",
            "Epoch 50/100\n",
            "34/34 [==============================] - 0s 1ms/step - loss: 6426.9840 - mse: 157838858.5143\n",
            "Epoch 51/100\n",
            "34/34 [==============================] - 0s 1ms/step - loss: 6338.3259 - mse: 153127196.5714\n",
            "Epoch 52/100\n",
            "34/34 [==============================] - 0s 2ms/step - loss: 6335.6011 - mse: 155901217.8286\n",
            "Epoch 53/100\n",
            "34/34 [==============================] - 0s 1ms/step - loss: 5995.7962 - mse: 145682170.0571\n",
            "Epoch 54/100\n",
            "34/34 [==============================] - 0s 1ms/step - loss: 6431.7972 - mse: 157363586.2857\n",
            "Epoch 55/100\n",
            "34/34 [==============================] - 0s 1ms/step - loss: 6224.0661 - mse: 143873072.0000\n",
            "Epoch 56/100\n",
            "34/34 [==============================] - 0s 1ms/step - loss: 6289.4112 - mse: 145436450.9714\n",
            "Epoch 57/100\n",
            "34/34 [==============================] - 0s 1ms/step - loss: 6578.3136 - mse: 160241959.3143\n",
            "Epoch 58/100\n",
            "34/34 [==============================] - 0s 2ms/step - loss: 6365.6013 - mse: 154529078.4000\n",
            "Epoch 59/100\n",
            "34/34 [==============================] - 0s 2ms/step - loss: 5914.7983 - mse: 143521904.9143\n",
            "Epoch 60/100\n",
            "34/34 [==============================] - 0s 1ms/step - loss: 6239.8723 - mse: 144464130.2857\n",
            "Epoch 61/100\n",
            "34/34 [==============================] - 0s 1ms/step - loss: 6751.6415 - mse: 163691528.6857\n",
            "Epoch 62/100\n",
            "34/34 [==============================] - 0s 1ms/step - loss: 6350.5861 - mse: 152248282.0571\n",
            "Epoch 63/100\n",
            "34/34 [==============================] - 0s 1ms/step - loss: 6374.7378 - mse: 156091024.0000\n",
            "Epoch 64/100\n",
            "34/34 [==============================] - 0s 1ms/step - loss: 5877.7617 - mse: 136631682.9714\n",
            "Epoch 65/100\n",
            "34/34 [==============================] - 0s 1ms/step - loss: 6260.5318 - mse: 147435557.7143\n",
            "Epoch 66/100\n",
            "34/34 [==============================] - 0s 1ms/step - loss: 6007.1747 - mse: 138480742.8571\n",
            "Epoch 67/100\n",
            "34/34 [==============================] - 0s 1ms/step - loss: 6106.7938 - mse: 144091101.9429\n",
            "Epoch 68/100\n",
            "34/34 [==============================] - 0s 1ms/step - loss: 6035.6668 - mse: 141245292.5714\n",
            "Epoch 69/100\n",
            "34/34 [==============================] - 0s 1ms/step - loss: 6523.5435 - mse: 155138192.0000\n",
            "Epoch 70/100\n",
            "34/34 [==============================] - 0s 1ms/step - loss: 5708.9528 - mse: 130607146.0571\n",
            "Epoch 71/100\n",
            "34/34 [==============================] - 0s 1ms/step - loss: 6110.2170 - mse: 140667129.8286\n",
            "Epoch 72/100\n",
            "34/34 [==============================] - 0s 1ms/step - loss: 5773.3151 - mse: 129635046.6286\n",
            "Epoch 73/100\n",
            "34/34 [==============================] - 0s 1ms/step - loss: 6297.5183 - mse: 148146647.5429\n",
            "Epoch 74/100\n",
            "34/34 [==============================] - 0s 1ms/step - loss: 6112.9393 - mse: 144955817.6000\n",
            "Epoch 75/100\n",
            "34/34 [==============================] - 0s 1ms/step - loss: 6449.7250 - mse: 152731357.2571\n",
            "Epoch 76/100\n",
            "34/34 [==============================] - 0s 1ms/step - loss: 5688.1448 - mse: 133541298.2857\n",
            "Epoch 77/100\n",
            "34/34 [==============================] - 0s 1ms/step - loss: 6402.3397 - mse: 150361456.0000\n",
            "Epoch 78/100\n",
            "34/34 [==============================] - 0s 2ms/step - loss: 5499.5553 - mse: 124061408.9143\n",
            "Epoch 79/100\n",
            "34/34 [==============================] - 0s 1ms/step - loss: 5108.3478 - mse: 107906818.9714\n",
            "Epoch 80/100\n",
            "34/34 [==============================] - 0s 1ms/step - loss: 5226.6397 - mse: 113212427.8857\n",
            "Epoch 81/100\n",
            "34/34 [==============================] - 0s 1ms/step - loss: 5817.3261 - mse: 134883492.3429\n",
            "Epoch 82/100\n",
            "34/34 [==============================] - 0s 1ms/step - loss: 6548.7323 - mse: 152429937.1429\n",
            "Epoch 83/100\n",
            "34/34 [==============================] - 0s 1ms/step - loss: 5722.6891 - mse: 132895429.0286\n",
            "Epoch 84/100\n",
            "34/34 [==============================] - 0s 1ms/step - loss: 5570.2336 - mse: 128900766.8571\n",
            "Epoch 85/100\n",
            "34/34 [==============================] - 0s 1ms/step - loss: 5121.8587 - mse: 113136184.5714\n",
            "Epoch 86/100\n",
            "34/34 [==============================] - 0s 1ms/step - loss: 5889.9362 - mse: 135596100.5714\n",
            "Epoch 87/100\n",
            "34/34 [==============================] - 0s 2ms/step - loss: 5472.2751 - mse: 121117968.6857\n",
            "Epoch 88/100\n",
            "34/34 [==============================] - 0s 1ms/step - loss: 5770.0215 - mse: 128259405.9429\n",
            "Epoch 89/100\n",
            "34/34 [==============================] - 0s 1ms/step - loss: 5392.7422 - mse: 120034489.3714\n",
            "Epoch 90/100\n",
            "34/34 [==============================] - 0s 1ms/step - loss: 5951.3922 - mse: 131844899.2000\n",
            "Epoch 91/100\n",
            "34/34 [==============================] - 0s 1ms/step - loss: 5577.1110 - mse: 124092331.8857\n",
            "Epoch 92/100\n",
            "34/34 [==============================] - 0s 1ms/step - loss: 5633.8429 - mse: 122228800.6857\n",
            "Epoch 93/100\n",
            "34/34 [==============================] - 0s 1ms/step - loss: 5209.0318 - mse: 107207966.6286\n",
            "Epoch 94/100\n",
            "34/34 [==============================] - 0s 1ms/step - loss: 5018.4434 - mse: 102379164.3429\n",
            "Epoch 95/100\n",
            "34/34 [==============================] - 0s 1ms/step - loss: 5419.2086 - mse: 114817718.8571\n",
            "Epoch 96/100\n",
            "34/34 [==============================] - 0s 2ms/step - loss: 5547.8981 - mse: 117909028.1143\n",
            "Epoch 97/100\n",
            "34/34 [==============================] - 0s 1ms/step - loss: 4931.7091 - mse: 101654473.8286\n",
            "Epoch 98/100\n",
            "34/34 [==============================] - 0s 1ms/step - loss: 4912.5433 - mse: 99627103.5429\n",
            "Epoch 99/100\n",
            "34/34 [==============================] - 0s 1ms/step - loss: 4650.0259 - mse: 92942404.8000\n",
            "Epoch 100/100\n",
            "34/34 [==============================] - 0s 1ms/step - loss: 4770.1368 - mse: 95357726.4000\n"
          ],
          "name": "stdout"
        },
        {
          "output_type": "execute_result",
          "data": {
            "text/plain": [
              "<tensorflow.python.keras.callbacks.History at 0x7fc66a487950>"
            ]
          },
          "metadata": {
            "tags": []
          },
          "execution_count": 106
        }
      ]
    },
    {
      "cell_type": "code",
      "metadata": {
        "colab": {
          "base_uri": "https://localhost:8080/"
        },
        "id": "NjwjDnyxzo3p",
        "outputId": "c14e5d9e-0393-4ce4-807c-d33dee4aa8e6"
      },
      "source": [
        "# Check the larger model\n",
        "insurance_model_1.evaluate(X_test, y_test)"
      ],
      "execution_count": null,
      "outputs": [
        {
          "output_type": "stream",
          "text": [
            "9/9 [==============================] - 0s 1ms/step - loss: 4924.3477 - mse: 100286856.0000\n"
          ],
          "name": "stdout"
        },
        {
          "output_type": "execute_result",
          "data": {
            "text/plain": [
              "[4924.34765625, 100286856.0]"
            ]
          },
          "metadata": {
            "tags": []
          },
          "execution_count": 107
        }
      ]
    },
    {
      "cell_type": "markdown",
      "metadata": {
        "id": "hvTRi46Jzv5V"
      },
      "source": [
        "**Experiment 2**\n",
        "\n",
        "Running for a longer time 200 epochs (same as original model)"
      ]
    },
    {
      "cell_type": "code",
      "metadata": {
        "colab": {
          "base_uri": "https://localhost:8080/"
        },
        "id": "WHKyZLh10C0o",
        "outputId": "4e542390-4431-47b3-ba09-88e369b27051"
      },
      "source": [
        "# Set random seed\n",
        "tf.random.set_seed(42)\n",
        "\n",
        "# 1. Create the model\n",
        "\n",
        "insurance_model_2 = tf.keras.Sequential(\n",
        "    layers=[\n",
        "            tf.keras.layers.Dense(10),\n",
        "            tf.keras.layers.Dense(1)\n",
        "    ]\n",
        ")\n",
        "\n",
        "# 2. Compile the model\n",
        "insurance_model_2.compile(loss=tf.keras.losses.mae,\n",
        "                          optimizer=tf.keras.optimizers.SGD(),\n",
        "                          metrics=[\"mse\"])\n",
        "\n",
        "\n",
        "# 3. Fit the model\n",
        "insurance_model_2.fit(X_train, y_train, epochs=200)"
      ],
      "execution_count": null,
      "outputs": [
        {
          "output_type": "stream",
          "text": [
            "Epoch 1/200\n",
            "34/34 [==============================] - 0s 1ms/step - loss: 10200.7270 - mse: 232906844.3429\n",
            "Epoch 2/200\n",
            "34/34 [==============================] - 0s 1ms/step - loss: 7718.1919 - mse: 166405438.1714\n",
            "Epoch 3/200\n",
            "34/34 [==============================] - 0s 959us/step - loss: 6983.7824 - mse: 144605314.0571\n",
            "Epoch 4/200\n",
            "34/34 [==============================] - 0s 959us/step - loss: 8083.4829 - mse: 186700532.5714\n",
            "Epoch 5/200\n",
            "34/34 [==============================] - 0s 1ms/step - loss: 7793.8446 - mse: 165165045.0286\n",
            "Epoch 6/200\n",
            "34/34 [==============================] - 0s 1ms/step - loss: 7618.4107 - mse: 167119768.6857\n",
            "Epoch 7/200\n",
            "34/34 [==============================] - 0s 987us/step - loss: 7678.4977 - mse: 171115835.8857\n",
            "Epoch 8/200\n",
            "34/34 [==============================] - 0s 1ms/step - loss: 7780.4291 - mse: 162392114.7429\n",
            "Epoch 9/200\n",
            "34/34 [==============================] - 0s 1ms/step - loss: 7588.8130 - mse: 166288482.7429\n",
            "Epoch 10/200\n",
            "34/34 [==============================] - 0s 934us/step - loss: 7520.6838 - mse: 177595233.3714\n",
            "Epoch 11/200\n",
            "34/34 [==============================] - 0s 1ms/step - loss: 8309.7820 - mse: 171649806.1714\n",
            "Epoch 12/200\n",
            "34/34 [==============================] - 0s 949us/step - loss: 7748.0188 - mse: 167392474.0571\n",
            "Epoch 13/200\n",
            "34/34 [==============================] - 0s 1ms/step - loss: 7888.3563 - mse: 177067264.4571\n",
            "Epoch 14/200\n",
            "34/34 [==============================] - 0s 852us/step - loss: 7731.1164 - mse: 161458607.5429\n",
            "Epoch 15/200\n",
            "34/34 [==============================] - 0s 968us/step - loss: 7786.1045 - mse: 168941011.2000\n",
            "Epoch 16/200\n",
            "34/34 [==============================] - 0s 1ms/step - loss: 8343.8852 - mse: 184881883.4286\n",
            "Epoch 17/200\n",
            "34/34 [==============================] - 0s 900us/step - loss: 7142.3603 - mse: 144202288.2286\n",
            "Epoch 18/200\n",
            "34/34 [==============================] - 0s 958us/step - loss: 8070.0509 - mse: 167691172.1143\n",
            "Epoch 19/200\n",
            "34/34 [==============================] - 0s 1ms/step - loss: 7604.8297 - mse: 165816416.6857\n",
            "Epoch 20/200\n",
            "34/34 [==============================] - 0s 1ms/step - loss: 7945.1267 - mse: 157365638.1714\n",
            "Epoch 21/200\n",
            "34/34 [==============================] - 0s 1ms/step - loss: 6864.6824 - mse: 135038419.4286\n",
            "Epoch 22/200\n",
            "34/34 [==============================] - 0s 976us/step - loss: 7505.7910 - mse: 142529205.9429\n",
            "Epoch 23/200\n",
            "34/34 [==============================] - 0s 1ms/step - loss: 7621.7374 - mse: 155257880.0000\n",
            "Epoch 24/200\n",
            "34/34 [==============================] - 0s 975us/step - loss: 7262.7539 - mse: 153455739.8857\n",
            "Epoch 25/200\n",
            "34/34 [==============================] - 0s 1ms/step - loss: 8156.1943 - mse: 166149192.0000\n",
            "Epoch 26/200\n",
            "34/34 [==============================] - 0s 952us/step - loss: 7246.2709 - mse: 144457536.9143\n",
            "Epoch 27/200\n",
            "34/34 [==============================] - 0s 957us/step - loss: 7562.7814 - mse: 148035521.3714\n",
            "Epoch 28/200\n",
            "34/34 [==============================] - 0s 931us/step - loss: 7842.6213 - mse: 173809191.7714\n",
            "Epoch 29/200\n",
            "34/34 [==============================] - 0s 901us/step - loss: 7153.8769 - mse: 153167100.3429\n",
            "Epoch 30/200\n",
            "34/34 [==============================] - 0s 1ms/step - loss: 7723.4945 - mse: 159386063.5429\n",
            "Epoch 31/200\n",
            "34/34 [==============================] - 0s 936us/step - loss: 8310.0634 - mse: 184691171.2000\n",
            "Epoch 32/200\n",
            "34/34 [==============================] - 0s 1ms/step - loss: 7734.9641 - mse: 149404051.6571\n",
            "Epoch 33/200\n",
            "34/34 [==============================] - 0s 974us/step - loss: 7403.4651 - mse: 157618361.0286\n",
            "Epoch 34/200\n",
            "34/34 [==============================] - 0s 1ms/step - loss: 7482.6278 - mse: 148039213.2571\n",
            "Epoch 35/200\n",
            "34/34 [==============================] - 0s 1ms/step - loss: 7198.8921 - mse: 150949184.2286\n",
            "Epoch 36/200\n",
            "34/34 [==============================] - 0s 1ms/step - loss: 7484.1010 - mse: 150062928.6857\n",
            "Epoch 37/200\n",
            "34/34 [==============================] - 0s 1ms/step - loss: 7701.6285 - mse: 156932510.6286\n",
            "Epoch 38/200\n",
            "34/34 [==============================] - 0s 946us/step - loss: 6923.6144 - mse: 144762630.1714\n",
            "Epoch 39/200\n",
            "34/34 [==============================] - 0s 1ms/step - loss: 7673.7911 - mse: 165720791.3143\n",
            "Epoch 40/200\n",
            "34/34 [==============================] - 0s 1ms/step - loss: 7670.9191 - mse: 164353221.4857\n",
            "Epoch 41/200\n",
            "34/34 [==============================] - 0s 1ms/step - loss: 7774.5872 - mse: 165611520.0000\n",
            "Epoch 42/200\n",
            "34/34 [==============================] - 0s 926us/step - loss: 7413.0886 - mse: 156373463.7714\n",
            "Epoch 43/200\n",
            "34/34 [==============================] - 0s 1ms/step - loss: 7793.8665 - mse: 156673048.9143\n",
            "Epoch 44/200\n",
            "34/34 [==============================] - 0s 1ms/step - loss: 7239.3577 - mse: 148966416.9143\n",
            "Epoch 45/200\n",
            "34/34 [==============================] - 0s 1ms/step - loss: 7402.6549 - mse: 144176969.3714\n",
            "Epoch 46/200\n",
            "34/34 [==============================] - 0s 1ms/step - loss: 7167.7284 - mse: 145069128.6857\n",
            "Epoch 47/200\n",
            "34/34 [==============================] - 0s 1ms/step - loss: 7716.9022 - mse: 156590662.4000\n",
            "Epoch 48/200\n",
            "34/34 [==============================] - 0s 1ms/step - loss: 7509.9133 - mse: 151349780.1143\n",
            "Epoch 49/200\n",
            "34/34 [==============================] - 0s 1ms/step - loss: 7216.6765 - mse: 136967401.3714\n",
            "Epoch 50/200\n",
            "34/34 [==============================] - 0s 1ms/step - loss: 7354.2577 - mse: 154545495.0857\n",
            "Epoch 51/200\n",
            "34/34 [==============================] - 0s 1ms/step - loss: 7587.3343 - mse: 154801866.5143\n",
            "Epoch 52/200\n",
            "34/34 [==============================] - 0s 1ms/step - loss: 7697.7618 - mse: 161879683.6571\n",
            "Epoch 53/200\n",
            "34/34 [==============================] - 0s 1ms/step - loss: 7084.7635 - mse: 145403143.3143\n",
            "Epoch 54/200\n",
            "34/34 [==============================] - 0s 1ms/step - loss: 7366.1160 - mse: 152404707.6571\n",
            "Epoch 55/200\n",
            "34/34 [==============================] - 0s 999us/step - loss: 7354.5013 - mse: 137853451.2000\n",
            "Epoch 56/200\n",
            "34/34 [==============================] - 0s 948us/step - loss: 7201.4705 - mse: 137785058.0571\n",
            "Epoch 57/200\n",
            "34/34 [==============================] - 0s 1ms/step - loss: 7612.1701 - mse: 158276768.0000\n",
            "Epoch 58/200\n",
            "34/34 [==============================] - 0s 1ms/step - loss: 7684.3347 - mse: 157625068.8000\n",
            "Epoch 59/200\n",
            "34/34 [==============================] - 0s 1ms/step - loss: 7315.3647 - mse: 144545498.7429\n",
            "Epoch 60/200\n",
            "34/34 [==============================] - 0s 1ms/step - loss: 7381.6661 - mse: 146249291.4286\n",
            "Epoch 61/200\n",
            "34/34 [==============================] - 0s 1ms/step - loss: 7842.5244 - mse: 155684506.9714\n",
            "Epoch 62/200\n",
            "34/34 [==============================] - 0s 1ms/step - loss: 7346.2639 - mse: 145350821.2571\n",
            "Epoch 63/200\n",
            "34/34 [==============================] - 0s 1ms/step - loss: 7634.5369 - mse: 148362233.6000\n",
            "Epoch 64/200\n",
            "34/34 [==============================] - 0s 1ms/step - loss: 6976.2133 - mse: 138817282.2857\n",
            "Epoch 65/200\n",
            "34/34 [==============================] - 0s 1ms/step - loss: 7608.7967 - mse: 153205061.9429\n",
            "Epoch 66/200\n",
            "34/34 [==============================] - 0s 1ms/step - loss: 7275.7896 - mse: 146349783.3143\n",
            "Epoch 67/200\n",
            "34/34 [==============================] - 0s 1ms/step - loss: 7244.1635 - mse: 146296791.7714\n",
            "Epoch 68/200\n",
            "34/34 [==============================] - 0s 1ms/step - loss: 7553.0939 - mse: 149718760.8000\n",
            "Epoch 69/200\n",
            "34/34 [==============================] - 0s 1ms/step - loss: 8028.1948 - mse: 153841096.2286\n",
            "Epoch 70/200\n",
            "34/34 [==============================] - 0s 1ms/step - loss: 7150.7139 - mse: 136933880.9143\n",
            "Epoch 71/200\n",
            "34/34 [==============================] - 0s 1ms/step - loss: 7137.5192 - mse: 144632701.0286\n",
            "Epoch 72/200\n",
            "34/34 [==============================] - 0s 1ms/step - loss: 6708.9293 - mse: 126306552.2286\n",
            "Epoch 73/200\n",
            "34/34 [==============================] - 0s 1ms/step - loss: 7554.2729 - mse: 148335062.6286\n",
            "Epoch 74/200\n",
            "34/34 [==============================] - 0s 1ms/step - loss: 7060.4082 - mse: 146470046.8571\n",
            "Epoch 75/200\n",
            "34/34 [==============================] - 0s 1ms/step - loss: 7564.8154 - mse: 154816845.4857\n",
            "Epoch 76/200\n",
            "34/34 [==============================] - 0s 1ms/step - loss: 7016.7828 - mse: 138378852.3429\n",
            "Epoch 77/200\n",
            "34/34 [==============================] - 0s 1ms/step - loss: 7936.9772 - mse: 158228814.1714\n",
            "Epoch 78/200\n",
            "34/34 [==============================] - 0s 1ms/step - loss: 6828.1390 - mse: 131837415.0857\n",
            "Epoch 79/200\n",
            "34/34 [==============================] - 0s 1ms/step - loss: 6875.0795 - mse: 115537477.2571\n",
            "Epoch 80/200\n",
            "34/34 [==============================] - 0s 1ms/step - loss: 6770.6307 - mse: 118854652.0000\n",
            "Epoch 81/200\n",
            "34/34 [==============================] - 0s 1ms/step - loss: 7216.2089 - mse: 143872929.1429\n",
            "Epoch 82/200\n",
            "34/34 [==============================] - 0s 1ms/step - loss: 7774.2735 - mse: 149552563.6571\n",
            "Epoch 83/200\n",
            "34/34 [==============================] - 0s 1ms/step - loss: 7156.2550 - mse: 149784936.4571\n",
            "Epoch 84/200\n",
            "34/34 [==============================] - 0s 1ms/step - loss: 7436.0035 - mse: 141612282.0571\n",
            "Epoch 85/200\n",
            "34/34 [==============================] - 0s 1ms/step - loss: 6855.7935 - mse: 129987553.3714\n",
            "Epoch 86/200\n",
            "34/34 [==============================] - 0s 1ms/step - loss: 7768.8281 - mse: 153538502.4000\n",
            "Epoch 87/200\n",
            "34/34 [==============================] - 0s 1ms/step - loss: 7014.5800 - mse: 133041930.2857\n",
            "Epoch 88/200\n",
            "34/34 [==============================] - 0s 1ms/step - loss: 7525.7778 - mse: 148238441.1429\n",
            "Epoch 89/200\n",
            "34/34 [==============================] - 0s 1ms/step - loss: 6994.6077 - mse: 135675008.6857\n",
            "Epoch 90/200\n",
            "34/34 [==============================] - 0s 1ms/step - loss: 7677.9612 - mse: 149626756.3429\n",
            "Epoch 91/200\n",
            "34/34 [==============================] - 0s 1ms/step - loss: 7210.0508 - mse: 141118185.1429\n",
            "Epoch 92/200\n",
            "34/34 [==============================] - 0s 1ms/step - loss: 7335.2236 - mse: 140542576.4571\n",
            "Epoch 93/200\n",
            "34/34 [==============================] - 0s 1ms/step - loss: 7235.0912 - mse: 135202912.9143\n",
            "Epoch 94/200\n",
            "34/34 [==============================] - 0s 1ms/step - loss: 6728.8874 - mse: 120388140.6857\n",
            "Epoch 95/200\n",
            "34/34 [==============================] - 0s 1ms/step - loss: 7811.5180 - mse: 141510572.8000\n",
            "Epoch 96/200\n",
            "34/34 [==============================] - 0s 1ms/step - loss: 7430.2760 - mse: 135569171.2000\n",
            "Epoch 97/200\n",
            "34/34 [==============================] - 0s 1ms/step - loss: 6876.5969 - mse: 126666630.6286\n",
            "Epoch 98/200\n",
            "34/34 [==============================] - 0s 959us/step - loss: 7070.8696 - mse: 131399634.2857\n",
            "Epoch 99/200\n",
            "34/34 [==============================] - 0s 1ms/step - loss: 7118.6875 - mse: 131338525.3714\n",
            "Epoch 100/200\n",
            "34/34 [==============================] - 0s 1ms/step - loss: 6880.6744 - mse: 129417086.8571\n",
            "Epoch 101/200\n",
            "34/34 [==============================] - 0s 1ms/step - loss: 7280.3453 - mse: 137477612.3429\n",
            "Epoch 102/200\n",
            "34/34 [==============================] - 0s 989us/step - loss: 6685.4453 - mse: 120801824.5714\n",
            "Epoch 103/200\n",
            "34/34 [==============================] - 0s 1ms/step - loss: 6884.3931 - mse: 125502179.6571\n",
            "Epoch 104/200\n",
            "34/34 [==============================] - 0s 1ms/step - loss: 7494.7125 - mse: 138834806.8571\n",
            "Epoch 105/200\n",
            "34/34 [==============================] - 0s 1ms/step - loss: 6797.0367 - mse: 121050450.9714\n",
            "Epoch 106/200\n",
            "34/34 [==============================] - 0s 1ms/step - loss: 7457.0123 - mse: 138752071.7714\n",
            "Epoch 107/200\n",
            "34/34 [==============================] - 0s 976us/step - loss: 7322.2221 - mse: 135565968.6857\n",
            "Epoch 108/200\n",
            "34/34 [==============================] - 0s 992us/step - loss: 7759.6430 - mse: 142724891.8857\n",
            "Epoch 109/200\n",
            "34/34 [==============================] - 0s 1ms/step - loss: 7248.3101 - mse: 149781836.8000\n",
            "Epoch 110/200\n",
            "34/34 [==============================] - 0s 1ms/step - loss: 7672.7430 - mse: 139433138.7429\n",
            "Epoch 111/200\n",
            "34/34 [==============================] - 0s 1ms/step - loss: 6884.7329 - mse: 136069627.2000\n",
            "Epoch 112/200\n",
            "34/34 [==============================] - 0s 1ms/step - loss: 7179.4794 - mse: 130866202.0571\n",
            "Epoch 113/200\n",
            "34/34 [==============================] - 0s 981us/step - loss: 7233.8293 - mse: 129400014.4000\n",
            "Epoch 114/200\n",
            "34/34 [==============================] - 0s 984us/step - loss: 7113.5745 - mse: 124804414.6286\n",
            "Epoch 115/200\n",
            "34/34 [==============================] - 0s 954us/step - loss: 6924.1982 - mse: 122557029.9429\n",
            "Epoch 116/200\n",
            "34/34 [==============================] - 0s 1ms/step - loss: 7794.3309 - mse: 132401870.6286\n",
            "Epoch 117/200\n",
            "34/34 [==============================] - 0s 1ms/step - loss: 7440.4544 - mse: 131712090.5143\n",
            "Epoch 118/200\n",
            "34/34 [==============================] - 0s 1ms/step - loss: 7085.2135 - mse: 128723279.3143\n",
            "Epoch 119/200\n",
            "34/34 [==============================] - 0s 1ms/step - loss: 7058.0670 - mse: 123193667.2000\n",
            "Epoch 120/200\n",
            "34/34 [==============================] - 0s 1ms/step - loss: 7524.3930 - mse: 142044878.8571\n",
            "Epoch 121/200\n",
            "34/34 [==============================] - 0s 1ms/step - loss: 7335.0110 - mse: 131859628.8000\n",
            "Epoch 122/200\n",
            "34/34 [==============================] - 0s 1ms/step - loss: 7169.4447 - mse: 132179403.6571\n",
            "Epoch 123/200\n",
            "34/34 [==============================] - 0s 1ms/step - loss: 6979.9272 - mse: 116489997.2571\n",
            "Epoch 124/200\n",
            "34/34 [==============================] - 0s 965us/step - loss: 7253.5195 - mse: 123856018.2857\n",
            "Epoch 125/200\n",
            "34/34 [==============================] - 0s 1ms/step - loss: 7424.0757 - mse: 139470422.6286\n",
            "Epoch 126/200\n",
            "34/34 [==============================] - 0s 1ms/step - loss: 6678.3946 - mse: 114414427.4286\n",
            "Epoch 127/200\n",
            "34/34 [==============================] - 0s 1ms/step - loss: 7487.8301 - mse: 129702590.4000\n",
            "Epoch 128/200\n",
            "34/34 [==============================] - 0s 1ms/step - loss: 6549.8573 - mse: 118595549.2571\n",
            "Epoch 129/200\n",
            "34/34 [==============================] - 0s 1ms/step - loss: 7730.7602 - mse: 144194855.3143\n",
            "Epoch 130/200\n",
            "34/34 [==============================] - 0s 1ms/step - loss: 7182.4624 - mse: 131654364.8000\n",
            "Epoch 131/200\n",
            "34/34 [==============================] - 0s 1ms/step - loss: 7190.5815 - mse: 127469157.2571\n",
            "Epoch 132/200\n",
            "34/34 [==============================] - 0s 1ms/step - loss: 7695.5703 - mse: 131403014.6286\n",
            "Epoch 133/200\n",
            "34/34 [==============================] - 0s 1ms/step - loss: 7229.5751 - mse: 126617049.6000\n",
            "Epoch 134/200\n",
            "34/34 [==============================] - 0s 915us/step - loss: 7289.2999 - mse: 133737317.0286\n",
            "Epoch 135/200\n",
            "34/34 [==============================] - 0s 978us/step - loss: 7210.6609 - mse: 135832045.2571\n",
            "Epoch 136/200\n",
            "34/34 [==============================] - 0s 1ms/step - loss: 7333.6264 - mse: 123439398.1714\n",
            "Epoch 137/200\n",
            "34/34 [==============================] - 0s 1ms/step - loss: 7277.8487 - mse: 122620289.1429\n",
            "Epoch 138/200\n",
            "34/34 [==============================] - 0s 1ms/step - loss: 7040.4511 - mse: 119630071.0857\n",
            "Epoch 139/200\n",
            "34/34 [==============================] - 0s 1ms/step - loss: 7275.2100 - mse: 123083562.7429\n",
            "Epoch 140/200\n",
            "34/34 [==============================] - 0s 1ms/step - loss: 7754.5044 - mse: 129861370.5143\n",
            "Epoch 141/200\n",
            "34/34 [==============================] - 0s 1ms/step - loss: 7305.0958 - mse: 128097935.0857\n",
            "Epoch 142/200\n",
            "34/34 [==============================] - 0s 1ms/step - loss: 6602.7088 - mse: 115381181.0286\n",
            "Epoch 143/200\n",
            "34/34 [==============================] - 0s 1ms/step - loss: 7128.8415 - mse: 129550227.2000\n",
            "Epoch 144/200\n",
            "34/34 [==============================] - 0s 1ms/step - loss: 7082.5382 - mse: 123038323.6571\n",
            "Epoch 145/200\n",
            "34/34 [==============================] - 0s 1ms/step - loss: 7178.3453 - mse: 122243470.4000\n",
            "Epoch 146/200\n",
            "34/34 [==============================] - 0s 1ms/step - loss: 7203.1736 - mse: 130205407.0857\n",
            "Epoch 147/200\n",
            "34/34 [==============================] - 0s 1ms/step - loss: 6876.0466 - mse: 114006143.3143\n",
            "Epoch 148/200\n",
            "34/34 [==============================] - 0s 1ms/step - loss: 6560.6001 - mse: 101485030.8000\n",
            "Epoch 149/200\n",
            "34/34 [==============================] - 0s 1ms/step - loss: 6743.0769 - mse: 108631968.9143\n",
            "Epoch 150/200\n",
            "34/34 [==============================] - 0s 1ms/step - loss: 7099.2849 - mse: 120696379.4286\n",
            "Epoch 151/200\n",
            "34/34 [==============================] - 0s 1ms/step - loss: 7281.8393 - mse: 125177649.3714\n",
            "Epoch 152/200\n",
            "34/34 [==============================] - 0s 1ms/step - loss: 6922.9918 - mse: 108826919.3143\n",
            "Epoch 153/200\n",
            "34/34 [==============================] - 0s 1ms/step - loss: 7132.6502 - mse: 115260629.0286\n",
            "Epoch 154/200\n",
            "34/34 [==============================] - 0s 980us/step - loss: 7230.9810 - mse: 129335821.2571\n",
            "Epoch 155/200\n",
            "34/34 [==============================] - 0s 1ms/step - loss: 6966.6840 - mse: 104694882.5143\n",
            "Epoch 156/200\n",
            "34/34 [==============================] - 0s 1ms/step - loss: 6714.6940 - mse: 104504855.0857\n",
            "Epoch 157/200\n",
            "34/34 [==============================] - 0s 1ms/step - loss: 7211.2312 - mse: 114476992.6857\n",
            "Epoch 158/200\n",
            "34/34 [==============================] - 0s 985us/step - loss: 7057.7755 - mse: 121857418.0571\n",
            "Epoch 159/200\n",
            "34/34 [==============================] - 0s 1ms/step - loss: 7231.4975 - mse: 117889170.2857\n",
            "Epoch 160/200\n",
            "34/34 [==============================] - 0s 1ms/step - loss: 7023.4952 - mse: 114683793.6000\n",
            "Epoch 161/200\n",
            "34/34 [==============================] - 0s 1ms/step - loss: 6963.7811 - mse: 117981657.8286\n",
            "Epoch 162/200\n",
            "34/34 [==============================] - 0s 1ms/step - loss: 7063.8729 - mse: 129962037.2571\n",
            "Epoch 163/200\n",
            "34/34 [==============================] - 0s 1ms/step - loss: 6516.5423 - mse: 99316450.1714\n",
            "Epoch 164/200\n",
            "34/34 [==============================] - 0s 1ms/step - loss: 6994.2133 - mse: 117293464.2286\n",
            "Epoch 165/200\n",
            "34/34 [==============================] - 0s 997us/step - loss: 7345.3472 - mse: 115661852.5714\n",
            "Epoch 166/200\n",
            "34/34 [==============================] - 0s 1ms/step - loss: 6720.2362 - mse: 117264829.2571\n",
            "Epoch 167/200\n",
            "34/34 [==============================] - 0s 1ms/step - loss: 7299.3513 - mse: 109682176.9143\n",
            "Epoch 168/200\n",
            "34/34 [==============================] - 0s 1ms/step - loss: 7315.5543 - mse: 120104721.8286\n",
            "Epoch 169/200\n",
            "34/34 [==============================] - 0s 1ms/step - loss: 7187.4697 - mse: 114375668.1143\n",
            "Epoch 170/200\n",
            "34/34 [==============================] - 0s 1ms/step - loss: 6634.9968 - mse: 111140373.9429\n",
            "Epoch 171/200\n",
            "34/34 [==============================] - 0s 1ms/step - loss: 6842.2332 - mse: 105952677.2571\n",
            "Epoch 172/200\n",
            "34/34 [==============================] - 0s 1ms/step - loss: 7000.9963 - mse: 106454000.6857\n",
            "Epoch 173/200\n",
            "34/34 [==============================] - 0s 1ms/step - loss: 6737.7039 - mse: 114582827.4286\n",
            "Epoch 174/200\n",
            "34/34 [==============================] - 0s 1ms/step - loss: 7142.7477 - mse: 123575584.9143\n",
            "Epoch 175/200\n",
            "34/34 [==============================] - 0s 1ms/step - loss: 6930.7139 - mse: 115232875.2000\n",
            "Epoch 176/200\n",
            "34/34 [==============================] - 0s 1ms/step - loss: 6772.9733 - mse: 114593577.3714\n",
            "Epoch 177/200\n",
            "34/34 [==============================] - 0s 993us/step - loss: 7087.8494 - mse: 114996277.2571\n",
            "Epoch 178/200\n",
            "34/34 [==============================] - 0s 1ms/step - loss: 6647.0457 - mse: 102715732.3429\n",
            "Epoch 179/200\n",
            "34/34 [==============================] - 0s 1ms/step - loss: 6485.9092 - mse: 97777915.0857\n",
            "Epoch 180/200\n",
            "34/34 [==============================] - 0s 1ms/step - loss: 7311.3874 - mse: 120632369.8286\n",
            "Epoch 181/200\n",
            "34/34 [==============================] - 0s 1ms/step - loss: 7209.2664 - mse: 115841604.5714\n",
            "Epoch 182/200\n",
            "34/34 [==============================] - 0s 1ms/step - loss: 6946.3663 - mse: 113961137.4857\n",
            "Epoch 183/200\n",
            "34/34 [==============================] - 0s 1ms/step - loss: 7011.1670 - mse: 105622104.6857\n",
            "Epoch 184/200\n",
            "34/34 [==============================] - 0s 1ms/step - loss: 7257.2165 - mse: 122208462.6286\n",
            "Epoch 185/200\n",
            "34/34 [==============================] - 0s 1ms/step - loss: 6360.4677 - mse: 101758940.0000\n",
            "Epoch 186/200\n",
            "34/34 [==============================] - 0s 1ms/step - loss: 6987.0522 - mse: 107652644.1143\n",
            "Epoch 187/200\n",
            "34/34 [==============================] - 0s 1ms/step - loss: 6850.4536 - mse: 105284451.6571\n",
            "Epoch 188/200\n",
            "34/34 [==============================] - 0s 1ms/step - loss: 7048.1804 - mse: 120668080.4571\n",
            "Epoch 189/200\n",
            "34/34 [==============================] - 0s 1ms/step - loss: 6073.3964 - mse: 95768139.4286\n",
            "Epoch 190/200\n",
            "34/34 [==============================] - 0s 1ms/step - loss: 6668.8080 - mse: 104278719.0857\n",
            "Epoch 191/200\n",
            "34/34 [==============================] - 0s 2ms/step - loss: 7265.1178 - mse: 116410824.2286\n",
            "Epoch 192/200\n",
            "34/34 [==============================] - 0s 1ms/step - loss: 7501.7803 - mse: 117964357.7143\n",
            "Epoch 193/200\n",
            "34/34 [==============================] - 0s 1ms/step - loss: 6890.7988 - mse: 110911453.0286\n",
            "Epoch 194/200\n",
            "34/34 [==============================] - 0s 1ms/step - loss: 7166.2983 - mse: 104930400.0000\n",
            "Epoch 195/200\n",
            "34/34 [==============================] - 0s 1ms/step - loss: 6305.9768 - mse: 102563715.2000\n",
            "Epoch 196/200\n",
            "34/34 [==============================] - 0s 1ms/step - loss: 7134.2037 - mse: 109574072.0000\n",
            "Epoch 197/200\n",
            "34/34 [==============================] - 0s 1ms/step - loss: 7387.5692 - mse: 117231951.0857\n",
            "Epoch 198/200\n",
            "34/34 [==============================] - 0s 1ms/step - loss: 7139.3227 - mse: 114757488.0000\n",
            "Epoch 199/200\n",
            "34/34 [==============================] - 0s 1ms/step - loss: 6511.3387 - mse: 94341538.6286\n",
            "Epoch 200/200\n",
            "34/34 [==============================] - 0s 1ms/step - loss: 7270.1455 - mse: 123651694.6286\n"
          ],
          "name": "stdout"
        },
        {
          "output_type": "execute_result",
          "data": {
            "text/plain": [
              "<tensorflow.python.keras.callbacks.History at 0x7fc6ab41dcd0>"
            ]
          },
          "metadata": {
            "tags": []
          },
          "execution_count": 108
        }
      ]
    },
    {
      "cell_type": "code",
      "metadata": {
        "colab": {
          "base_uri": "https://localhost:8080/"
        },
        "id": "yxuM2Qrz0gqw",
        "outputId": "1ae56c42-0f2b-4c27-95df-b1b5b03d75b3"
      },
      "source": [
        "insurance_model_2.evaluate(X_test, y_test)"
      ],
      "execution_count": null,
      "outputs": [
        {
          "output_type": "stream",
          "text": [
            "9/9 [==============================] - 0s 2ms/step - loss: 5498.5771 - mse: 83644504.0000\n"
          ],
          "name": "stdout"
        },
        {
          "output_type": "execute_result",
          "data": {
            "text/plain": [
              "[5498.5771484375, 83644504.0]"
            ]
          },
          "metadata": {
            "tags": []
          },
          "execution_count": 109
        }
      ]
    },
    {
      "cell_type": "markdown",
      "metadata": {
        "id": "aNg-mz_H0yBm"
      },
      "source": [
        "**Experiment 3**\n",
        "\n",
        "Combining experiment 1 and 2"
      ]
    },
    {
      "cell_type": "code",
      "metadata": {
        "colab": {
          "base_uri": "https://localhost:8080/"
        },
        "id": "ECnhI-YQ08wt",
        "outputId": "fd7d06b3-64bb-4e89-a41d-80b304d0652f"
      },
      "source": [
        "# Set random seed\n",
        "tf.random.set_seed(42)\n",
        "\n",
        "# 1. Create the model\n",
        "\n",
        "insurance_model_3 = tf.keras.Sequential(\n",
        "    layers=[\n",
        "            tf.keras.layers.Dense(100),\n",
        "            tf.keras.layers.Dense(10),\n",
        "            tf.keras.layers.Dense(1)\n",
        "    ]\n",
        ")\n",
        "\n",
        "# 2. Compile the model\n",
        "insurance_model_3.compile(loss=tf.keras.losses.mae,\n",
        "                          optimizer=tf.keras.optimizers.Adam(), ## Changed from SGD\n",
        "                          metrics=[\"mse\"])\n",
        "\n",
        "\n",
        "# 3. Fit the model\n",
        "history = insurance_model_3.fit(X_train, y_train, epochs=200)"
      ],
      "execution_count": null,
      "outputs": [
        {
          "output_type": "stream",
          "text": [
            "Epoch 1/200\n",
            "34/34 [==============================] - 0s 1ms/step - loss: 13251.7400 - mse: 317100113.3714\n",
            "Epoch 2/200\n",
            "34/34 [==============================] - 0s 1ms/step - loss: 12768.7726 - mse: 305327480.6857\n",
            "Epoch 3/200\n",
            "34/34 [==============================] - 0s 1ms/step - loss: 12248.2855 - mse: 283856073.6000\n",
            "Epoch 4/200\n",
            "34/34 [==============================] - 0s 1ms/step - loss: 12353.0242 - mse: 309174394.5143\n",
            "Epoch 5/200\n",
            "34/34 [==============================] - 0s 1ms/step - loss: 11243.3972 - mse: 268266330.5143\n",
            "Epoch 6/200\n",
            "34/34 [==============================] - 0s 1ms/step - loss: 9718.5255 - mse: 236235459.2000\n",
            "Epoch 7/200\n",
            "34/34 [==============================] - 0s 1ms/step - loss: 8354.8474 - mse: 194857083.4286\n",
            "Epoch 8/200\n",
            "34/34 [==============================] - 0s 1ms/step - loss: 7732.2964 - mse: 170648431.5429\n",
            "Epoch 9/200\n",
            "34/34 [==============================] - 0s 1ms/step - loss: 7537.6737 - mse: 155405644.8000\n",
            "Epoch 10/200\n",
            "34/34 [==============================] - 0s 1ms/step - loss: 7652.7184 - mse: 167161548.8000\n",
            "Epoch 11/200\n",
            "34/34 [==============================] - 0s 1ms/step - loss: 7802.4481 - mse: 162855516.3429\n",
            "Epoch 12/200\n",
            "34/34 [==============================] - 0s 1ms/step - loss: 7370.3458 - mse: 151054300.8000\n",
            "Epoch 13/200\n",
            "34/34 [==============================] - 0s 1ms/step - loss: 7651.9583 - mse: 161019982.6286\n",
            "Epoch 14/200\n",
            "34/34 [==============================] - 0s 1ms/step - loss: 7404.5587 - mse: 156730519.3143\n",
            "Epoch 15/200\n",
            "34/34 [==============================] - 0s 2ms/step - loss: 7639.0614 - mse: 161284138.9714\n",
            "Epoch 16/200\n",
            "34/34 [==============================] - 0s 1ms/step - loss: 7569.4714 - mse: 167623018.0571\n",
            "Epoch 17/200\n",
            "34/34 [==============================] - 0s 1ms/step - loss: 6946.3936 - mse: 144038388.1143\n",
            "Epoch 18/200\n",
            "34/34 [==============================] - 0s 1ms/step - loss: 7137.7241 - mse: 156536513.3714\n",
            "Epoch 19/200\n",
            "34/34 [==============================] - 0s 1ms/step - loss: 7165.3119 - mse: 153120123.4286\n",
            "Epoch 20/200\n",
            "34/34 [==============================] - 0s 1ms/step - loss: 7063.6223 - mse: 149366730.9714\n",
            "Epoch 21/200\n",
            "34/34 [==============================] - 0s 1ms/step - loss: 6472.3189 - mse: 131680630.8571\n",
            "Epoch 22/200\n",
            "34/34 [==============================] - 0s 1ms/step - loss: 6674.0546 - mse: 135314079.0857\n",
            "Epoch 23/200\n",
            "34/34 [==============================] - 0s 1ms/step - loss: 7112.2982 - mse: 154536150.4000\n",
            "Epoch 24/200\n",
            "34/34 [==============================] - 0s 1ms/step - loss: 6838.1526 - mse: 148440828.3429\n",
            "Epoch 25/200\n",
            "34/34 [==============================] - 0s 1ms/step - loss: 7496.9558 - mse: 163303657.1429\n",
            "Epoch 26/200\n",
            "34/34 [==============================] - 0s 1ms/step - loss: 6718.1682 - mse: 140699563.8857\n",
            "Epoch 27/200\n",
            "34/34 [==============================] - 0s 1ms/step - loss: 7107.2977 - mse: 148782785.3714\n",
            "Epoch 28/200\n",
            "34/34 [==============================] - 0s 1ms/step - loss: 7357.2010 - mse: 167130474.0571\n",
            "Epoch 29/200\n",
            "34/34 [==============================] - 0s 1ms/step - loss: 6668.5721 - mse: 147201274.5143\n",
            "Epoch 30/200\n",
            "34/34 [==============================] - 0s 1ms/step - loss: 7119.4991 - mse: 155134057.6000\n",
            "Epoch 31/200\n",
            "34/34 [==============================] - 0s 1ms/step - loss: 7360.1235 - mse: 168011623.3143\n",
            "Epoch 32/200\n",
            "34/34 [==============================] - 0s 2ms/step - loss: 6817.2566 - mse: 151235761.8286\n",
            "Epoch 33/200\n",
            "34/34 [==============================] - 0s 1ms/step - loss: 6991.0289 - mse: 160060952.4571\n",
            "Epoch 34/200\n",
            "34/34 [==============================] - 0s 1ms/step - loss: 6829.4905 - mse: 152652476.1143\n",
            "Epoch 35/200\n",
            "34/34 [==============================] - 0s 2ms/step - loss: 6895.2916 - mse: 154528416.9143\n",
            "Epoch 36/200\n",
            "34/34 [==============================] - 0s 1ms/step - loss: 6762.5129 - mse: 152603095.0857\n",
            "Epoch 37/200\n",
            "34/34 [==============================] - 0s 1ms/step - loss: 6910.4815 - mse: 160191474.7429\n",
            "Epoch 38/200\n",
            "34/34 [==============================] - 0s 1ms/step - loss: 6405.0325 - mse: 145538267.8857\n",
            "Epoch 39/200\n",
            "34/34 [==============================] - 0s 1ms/step - loss: 6799.7921 - mse: 163294721.8286\n",
            "Epoch 40/200\n",
            "34/34 [==============================] - 0s 1ms/step - loss: 6696.0544 - mse: 157182747.4286\n",
            "Epoch 41/200\n",
            "34/34 [==============================] - 0s 1ms/step - loss: 6632.0484 - mse: 162982326.4000\n",
            "Epoch 42/200\n",
            "34/34 [==============================] - 0s 1ms/step - loss: 6501.1589 - mse: 156330952.6857\n",
            "Epoch 43/200\n",
            "34/34 [==============================] - 0s 1ms/step - loss: 6518.8881 - mse: 156188785.9429\n",
            "Epoch 44/200\n",
            "34/34 [==============================] - 0s 1ms/step - loss: 6287.3744 - mse: 148971752.2286\n",
            "Epoch 45/200\n",
            "34/34 [==============================] - 0s 1ms/step - loss: 6331.2561 - mse: 150832710.1714\n",
            "Epoch 46/200\n",
            "34/34 [==============================] - 0s 1ms/step - loss: 6080.3169 - mse: 146593349.9429\n",
            "Epoch 47/200\n",
            "34/34 [==============================] - 0s 1ms/step - loss: 6665.8195 - mse: 161684775.3143\n",
            "Epoch 48/200\n",
            "34/34 [==============================] - 0s 1ms/step - loss: 6424.2352 - mse: 154601187.4286\n",
            "Epoch 49/200\n",
            "34/34 [==============================] - 0s 1ms/step - loss: 6154.8287 - mse: 140931644.5714\n",
            "Epoch 50/200\n",
            "34/34 [==============================] - 0s 1ms/step - loss: 6426.9840 - mse: 157838858.5143\n",
            "Epoch 51/200\n",
            "34/34 [==============================] - 0s 1ms/step - loss: 6338.3259 - mse: 153127196.5714\n",
            "Epoch 52/200\n",
            "34/34 [==============================] - 0s 1ms/step - loss: 6335.6011 - mse: 155901217.8286\n",
            "Epoch 53/200\n",
            "34/34 [==============================] - 0s 1ms/step - loss: 5995.7962 - mse: 145682170.0571\n",
            "Epoch 54/200\n",
            "34/34 [==============================] - 0s 2ms/step - loss: 6431.7972 - mse: 157363586.2857\n",
            "Epoch 55/200\n",
            "34/34 [==============================] - 0s 1ms/step - loss: 6224.0661 - mse: 143873072.0000\n",
            "Epoch 56/200\n",
            "34/34 [==============================] - 0s 1ms/step - loss: 6289.4112 - mse: 145436450.9714\n",
            "Epoch 57/200\n",
            "34/34 [==============================] - 0s 1ms/step - loss: 6578.3136 - mse: 160241959.3143\n",
            "Epoch 58/200\n",
            "34/34 [==============================] - 0s 1ms/step - loss: 6365.6013 - mse: 154529078.4000\n",
            "Epoch 59/200\n",
            "34/34 [==============================] - 0s 1ms/step - loss: 5914.7983 - mse: 143521904.9143\n",
            "Epoch 60/200\n",
            "34/34 [==============================] - 0s 1ms/step - loss: 6239.8723 - mse: 144464130.2857\n",
            "Epoch 61/200\n",
            "34/34 [==============================] - 0s 1ms/step - loss: 6751.6415 - mse: 163691528.6857\n",
            "Epoch 62/200\n",
            "34/34 [==============================] - 0s 1ms/step - loss: 6350.5861 - mse: 152248282.0571\n",
            "Epoch 63/200\n",
            "34/34 [==============================] - 0s 1ms/step - loss: 6374.7378 - mse: 156091024.0000\n",
            "Epoch 64/200\n",
            "34/34 [==============================] - 0s 1ms/step - loss: 5877.7617 - mse: 136631682.9714\n",
            "Epoch 65/200\n",
            "34/34 [==============================] - 0s 1ms/step - loss: 6260.5318 - mse: 147435557.7143\n",
            "Epoch 66/200\n",
            "34/34 [==============================] - 0s 1ms/step - loss: 6007.1747 - mse: 138480742.8571\n",
            "Epoch 67/200\n",
            "34/34 [==============================] - 0s 1ms/step - loss: 6106.7938 - mse: 144091101.9429\n",
            "Epoch 68/200\n",
            "34/34 [==============================] - 0s 2ms/step - loss: 6035.6668 - mse: 141245292.5714\n",
            "Epoch 69/200\n",
            "34/34 [==============================] - 0s 1ms/step - loss: 6523.5435 - mse: 155138192.0000\n",
            "Epoch 70/200\n",
            "34/34 [==============================] - 0s 1ms/step - loss: 5708.9528 - mse: 130607146.0571\n",
            "Epoch 71/200\n",
            "34/34 [==============================] - 0s 1ms/step - loss: 6110.2170 - mse: 140667129.8286\n",
            "Epoch 72/200\n",
            "34/34 [==============================] - 0s 1ms/step - loss: 5773.3151 - mse: 129635046.6286\n",
            "Epoch 73/200\n",
            "34/34 [==============================] - 0s 2ms/step - loss: 6297.5183 - mse: 148146647.5429\n",
            "Epoch 74/200\n",
            "34/34 [==============================] - 0s 1ms/step - loss: 6112.9393 - mse: 144955817.6000\n",
            "Epoch 75/200\n",
            "34/34 [==============================] - 0s 1ms/step - loss: 6449.7250 - mse: 152731357.2571\n",
            "Epoch 76/200\n",
            "34/34 [==============================] - 0s 1ms/step - loss: 5688.1448 - mse: 133541298.2857\n",
            "Epoch 77/200\n",
            "34/34 [==============================] - 0s 1ms/step - loss: 6402.3397 - mse: 150361456.0000\n",
            "Epoch 78/200\n",
            "34/34 [==============================] - 0s 1ms/step - loss: 5499.5553 - mse: 124061408.9143\n",
            "Epoch 79/200\n",
            "34/34 [==============================] - 0s 1ms/step - loss: 5108.3478 - mse: 107906818.9714\n",
            "Epoch 80/200\n",
            "34/34 [==============================] - 0s 2ms/step - loss: 5226.6397 - mse: 113212427.8857\n",
            "Epoch 81/200\n",
            "34/34 [==============================] - 0s 1ms/step - loss: 5817.3261 - mse: 134883492.3429\n",
            "Epoch 82/200\n",
            "34/34 [==============================] - 0s 1ms/step - loss: 6548.7323 - mse: 152429937.1429\n",
            "Epoch 83/200\n",
            "34/34 [==============================] - 0s 1ms/step - loss: 5722.6891 - mse: 132895429.0286\n",
            "Epoch 84/200\n",
            "34/34 [==============================] - 0s 1ms/step - loss: 5570.2336 - mse: 128900766.8571\n",
            "Epoch 85/200\n",
            "34/34 [==============================] - 0s 1ms/step - loss: 5121.8587 - mse: 113136184.5714\n",
            "Epoch 86/200\n",
            "34/34 [==============================] - 0s 1ms/step - loss: 5889.9362 - mse: 135596100.5714\n",
            "Epoch 87/200\n",
            "34/34 [==============================] - 0s 1ms/step - loss: 5472.2751 - mse: 121117968.6857\n",
            "Epoch 88/200\n",
            "34/34 [==============================] - 0s 2ms/step - loss: 5770.0215 - mse: 128259405.9429\n",
            "Epoch 89/200\n",
            "34/34 [==============================] - 0s 1ms/step - loss: 5392.7422 - mse: 120034489.3714\n",
            "Epoch 90/200\n",
            "34/34 [==============================] - 0s 1ms/step - loss: 5951.3922 - mse: 131844899.2000\n",
            "Epoch 91/200\n",
            "34/34 [==============================] - 0s 2ms/step - loss: 5577.1110 - mse: 124092331.8857\n",
            "Epoch 92/200\n",
            "34/34 [==============================] - 0s 1ms/step - loss: 5633.8429 - mse: 122228800.6857\n",
            "Epoch 93/200\n",
            "34/34 [==============================] - 0s 1ms/step - loss: 5209.0318 - mse: 107207966.6286\n",
            "Epoch 94/200\n",
            "34/34 [==============================] - 0s 1ms/step - loss: 5018.4434 - mse: 102379164.3429\n",
            "Epoch 95/200\n",
            "34/34 [==============================] - 0s 1ms/step - loss: 5419.2086 - mse: 114817718.8571\n",
            "Epoch 96/200\n",
            "34/34 [==============================] - 0s 1ms/step - loss: 5547.8981 - mse: 117909028.1143\n",
            "Epoch 97/200\n",
            "34/34 [==============================] - 0s 1ms/step - loss: 4931.7091 - mse: 101654473.8286\n",
            "Epoch 98/200\n",
            "34/34 [==============================] - 0s 1ms/step - loss: 4912.5433 - mse: 99627103.5429\n",
            "Epoch 99/200\n",
            "34/34 [==============================] - 0s 1ms/step - loss: 4650.0259 - mse: 92942404.8000\n",
            "Epoch 100/200\n",
            "34/34 [==============================] - 0s 2ms/step - loss: 4770.1368 - mse: 95357726.4000\n",
            "Epoch 101/200\n",
            "34/34 [==============================] - 0s 1ms/step - loss: 4909.3405 - mse: 100472641.3714\n",
            "Epoch 102/200\n",
            "34/34 [==============================] - 0s 1ms/step - loss: 4673.0495 - mse: 90668332.6857\n",
            "Epoch 103/200\n",
            "34/34 [==============================] - 0s 1ms/step - loss: 4396.5531 - mse: 85180471.5429\n",
            "Epoch 104/200\n",
            "34/34 [==============================] - 0s 1ms/step - loss: 4917.1084 - mse: 95579253.9429\n",
            "Epoch 105/200\n",
            "34/34 [==============================] - 0s 1ms/step - loss: 4314.7778 - mse: 80853281.1429\n",
            "Epoch 106/200\n",
            "34/34 [==============================] - 0s 1ms/step - loss: 4739.7995 - mse: 90050328.9143\n",
            "Epoch 107/200\n",
            "34/34 [==============================] - 0s 1ms/step - loss: 4745.8093 - mse: 88596064.4571\n",
            "Epoch 108/200\n",
            "34/34 [==============================] - 0s 1ms/step - loss: 4517.0400 - mse: 84188353.6000\n",
            "Epoch 109/200\n",
            "34/34 [==============================] - 0s 1ms/step - loss: 4803.4275 - mse: 89524346.2857\n",
            "Epoch 110/200\n",
            "34/34 [==============================] - 0s 2ms/step - loss: 4702.8919 - mse: 87620677.9429\n",
            "Epoch 111/200\n",
            "34/34 [==============================] - 0s 2ms/step - loss: 4289.6146 - mse: 79926660.3429\n",
            "Epoch 112/200\n",
            "34/34 [==============================] - 0s 2ms/step - loss: 4062.5322 - mse: 69204844.2286\n",
            "Epoch 113/200\n",
            "34/34 [==============================] - 0s 1ms/step - loss: 3978.4756 - mse: 68076043.6571\n",
            "Epoch 114/200\n",
            "34/34 [==============================] - 0s 1ms/step - loss: 4152.9214 - mse: 69796033.7143\n",
            "Epoch 115/200\n",
            "34/34 [==============================] - 0s 1ms/step - loss: 4003.9165 - mse: 66357545.1429\n",
            "Epoch 116/200\n",
            "34/34 [==============================] - 0s 1ms/step - loss: 4288.2785 - mse: 71452606.4000\n",
            "Epoch 117/200\n",
            "34/34 [==============================] - 0s 1ms/step - loss: 3860.9309 - mse: 61415406.6286\n",
            "Epoch 118/200\n",
            "34/34 [==============================] - 0s 1ms/step - loss: 3865.8638 - mse: 62424148.3429\n",
            "Epoch 119/200\n",
            "34/34 [==============================] - 0s 1ms/step - loss: 3953.7542 - mse: 61463834.4000\n",
            "Epoch 120/200\n",
            "34/34 [==============================] - 0s 1ms/step - loss: 4055.4669 - mse: 66737986.0571\n",
            "Epoch 121/200\n",
            "34/34 [==============================] - 0s 1ms/step - loss: 4136.1248 - mse: 64056860.0000\n",
            "Epoch 122/200\n",
            "34/34 [==============================] - 0s 1ms/step - loss: 3805.4186 - mse: 55947481.8286\n",
            "Epoch 123/200\n",
            "34/34 [==============================] - 0s 1ms/step - loss: 3729.5202 - mse: 56388951.4286\n",
            "Epoch 124/200\n",
            "34/34 [==============================] - 0s 1ms/step - loss: 3653.3789 - mse: 54782453.1429\n",
            "Epoch 125/200\n",
            "34/34 [==============================] - 0s 1ms/step - loss: 4047.0974 - mse: 60557888.9143\n",
            "Epoch 126/200\n",
            "34/34 [==============================] - 0s 1ms/step - loss: 3759.8391 - mse: 55600375.3143\n",
            "Epoch 127/200\n",
            "34/34 [==============================] - 0s 1ms/step - loss: 3898.7483 - mse: 55790089.6000\n",
            "Epoch 128/200\n",
            "34/34 [==============================] - 0s 1ms/step - loss: 3728.9218 - mse: 54208464.4571\n",
            "Epoch 129/200\n",
            "34/34 [==============================] - 0s 1ms/step - loss: 4054.4523 - mse: 61254759.4286\n",
            "Epoch 130/200\n",
            "34/34 [==============================] - 0s 1ms/step - loss: 3811.9230 - mse: 58391478.1714\n",
            "Epoch 131/200\n",
            "34/34 [==============================] - 0s 1ms/step - loss: 3840.0032 - mse: 56692836.6857\n",
            "Epoch 132/200\n",
            "34/34 [==============================] - 0s 1ms/step - loss: 4002.2322 - mse: 58658343.7714\n",
            "Epoch 133/200\n",
            "34/34 [==============================] - 0s 1ms/step - loss: 4039.5692 - mse: 57714718.2857\n",
            "Epoch 134/200\n",
            "34/34 [==============================] - 0s 1ms/step - loss: 3874.6315 - mse: 57431345.0286\n",
            "Epoch 135/200\n",
            "34/34 [==============================] - 0s 1ms/step - loss: 3851.9765 - mse: 56576702.4000\n",
            "Epoch 136/200\n",
            "34/34 [==============================] - 0s 1ms/step - loss: 3716.1255 - mse: 55256664.1143\n",
            "Epoch 137/200\n",
            "34/34 [==============================] - 0s 1ms/step - loss: 3771.7132 - mse: 56443514.2857\n",
            "Epoch 138/200\n",
            "34/34 [==============================] - 0s 1ms/step - loss: 4019.1487 - mse: 58929317.0286\n",
            "Epoch 139/200\n",
            "34/34 [==============================] - 0s 1ms/step - loss: 3714.7945 - mse: 53303432.6857\n",
            "Epoch 140/200\n",
            "34/34 [==============================] - 0s 1ms/step - loss: 3735.7563 - mse: 55587651.6000\n",
            "Epoch 141/200\n",
            "34/34 [==============================] - 0s 1ms/step - loss: 3858.8476 - mse: 57412665.6000\n",
            "Epoch 142/200\n",
            "34/34 [==============================] - 0s 2ms/step - loss: 3625.0085 - mse: 53153268.9143\n",
            "Epoch 143/200\n",
            "34/34 [==============================] - 0s 2ms/step - loss: 3835.1521 - mse: 55508050.0571\n",
            "Epoch 144/200\n",
            "34/34 [==============================] - 0s 1ms/step - loss: 3868.1936 - mse: 54807457.6000\n",
            "Epoch 145/200\n",
            "34/34 [==============================] - 0s 1ms/step - loss: 4044.2481 - mse: 60249863.3143\n",
            "Epoch 146/200\n",
            "34/34 [==============================] - 0s 2ms/step - loss: 3948.1645 - mse: 55634926.6286\n",
            "Epoch 147/200\n",
            "34/34 [==============================] - 0s 2ms/step - loss: 3696.6694 - mse: 50333888.3429\n",
            "Epoch 148/200\n",
            "34/34 [==============================] - 0s 1ms/step - loss: 3497.7141 - mse: 48437064.8571\n",
            "Epoch 149/200\n",
            "34/34 [==============================] - 0s 1ms/step - loss: 3636.5157 - mse: 52614881.9429\n",
            "Epoch 150/200\n",
            "34/34 [==============================] - 0s 1ms/step - loss: 3824.4876 - mse: 56467641.7143\n",
            "Epoch 151/200\n",
            "34/34 [==============================] - 0s 1ms/step - loss: 3805.8298 - mse: 54476410.1714\n",
            "Epoch 152/200\n",
            "34/34 [==============================] - 0s 1ms/step - loss: 3755.0754 - mse: 52614098.5143\n",
            "Epoch 153/200\n",
            "34/34 [==============================] - 0s 1ms/step - loss: 3716.7277 - mse: 52136942.7429\n",
            "Epoch 154/200\n",
            "34/34 [==============================] - 0s 1ms/step - loss: 3894.3153 - mse: 55749036.8000\n",
            "Epoch 155/200\n",
            "34/34 [==============================] - 0s 1ms/step - loss: 3651.1834 - mse: 51588501.1429\n",
            "Epoch 156/200\n",
            "34/34 [==============================] - 0s 2ms/step - loss: 3542.4872 - mse: 50031108.5714\n",
            "Epoch 157/200\n",
            "34/34 [==============================] - 0s 2ms/step - loss: 3542.7571 - mse: 49828217.0286\n",
            "Epoch 158/200\n",
            "34/34 [==============================] - 0s 1ms/step - loss: 3921.3213 - mse: 55043352.0000\n",
            "Epoch 159/200\n",
            "34/34 [==============================] - 0s 1ms/step - loss: 3773.9635 - mse: 53108134.6286\n",
            "Epoch 160/200\n",
            "34/34 [==============================] - 0s 1ms/step - loss: 3836.4512 - mse: 54112415.8857\n",
            "Epoch 161/200\n",
            "34/34 [==============================] - 0s 1ms/step - loss: 3695.3159 - mse: 51071029.8286\n",
            "Epoch 162/200\n",
            "34/34 [==============================] - 0s 1ms/step - loss: 3842.3962 - mse: 57268759.7714\n",
            "Epoch 163/200\n",
            "34/34 [==============================] - 0s 2ms/step - loss: 3436.4965 - mse: 45789623.3143\n",
            "Epoch 164/200\n",
            "34/34 [==============================] - 0s 2ms/step - loss: 3658.1668 - mse: 52923089.4857\n",
            "Epoch 165/200\n",
            "34/34 [==============================] - 0s 1ms/step - loss: 3724.9990 - mse: 50322709.4857\n",
            "Epoch 166/200\n",
            "34/34 [==============================] - 0s 2ms/step - loss: 3876.5262 - mse: 54903932.5714\n",
            "Epoch 167/200\n",
            "34/34 [==============================] - 0s 1ms/step - loss: 4017.7594 - mse: 57639211.8857\n",
            "Epoch 168/200\n",
            "34/34 [==============================] - 0s 1ms/step - loss: 3752.5265 - mse: 50175764.9143\n",
            "Epoch 169/200\n",
            "34/34 [==============================] - 0s 1ms/step - loss: 3595.9144 - mse: 48788845.0286\n",
            "Epoch 170/200\n",
            "34/34 [==============================] - 0s 1ms/step - loss: 3880.7918 - mse: 55473830.9714\n",
            "Epoch 171/200\n",
            "34/34 [==============================] - 0s 1ms/step - loss: 3588.6998 - mse: 46593675.5429\n",
            "Epoch 172/200\n",
            "34/34 [==============================] - 0s 1ms/step - loss: 3788.0718 - mse: 50393814.6286\n",
            "Epoch 173/200\n",
            "34/34 [==============================] - 0s 1ms/step - loss: 3816.2179 - mse: 54830458.8571\n",
            "Epoch 174/200\n",
            "34/34 [==============================] - 0s 1ms/step - loss: 3762.2578 - mse: 51340681.9429\n",
            "Epoch 175/200\n",
            "34/34 [==============================] - 0s 1ms/step - loss: 3877.9812 - mse: 53866216.5714\n",
            "Epoch 176/200\n",
            "34/34 [==============================] - 0s 1ms/step - loss: 3795.1465 - mse: 51696277.0286\n",
            "Epoch 177/200\n",
            "34/34 [==============================] - 0s 1ms/step - loss: 3768.2689 - mse: 51773773.2571\n",
            "Epoch 178/200\n",
            "34/34 [==============================] - 0s 1ms/step - loss: 3567.2376 - mse: 49072857.5714\n",
            "Epoch 179/200\n",
            "34/34 [==============================] - 0s 2ms/step - loss: 3471.1047 - mse: 43360284.0571\n",
            "Epoch 180/200\n",
            "34/34 [==============================] - 0s 1ms/step - loss: 4114.2342 - mse: 55860755.3143\n",
            "Epoch 181/200\n",
            "34/34 [==============================] - 0s 2ms/step - loss: 3853.8357 - mse: 51759369.8286\n",
            "Epoch 182/200\n",
            "34/34 [==============================] - 0s 2ms/step - loss: 3778.6590 - mse: 50482358.5714\n",
            "Epoch 183/200\n",
            "34/34 [==============================] - 0s 1ms/step - loss: 3474.2507 - mse: 44646389.7143\n",
            "Epoch 184/200\n",
            "34/34 [==============================] - 0s 2ms/step - loss: 3624.6951 - mse: 47547378.1714\n",
            "Epoch 185/200\n",
            "34/34 [==============================] - 0s 2ms/step - loss: 3491.3103 - mse: 43907011.2000\n",
            "Epoch 186/200\n",
            "34/34 [==============================] - 0s 2ms/step - loss: 3824.2027 - mse: 50826875.4286\n",
            "Epoch 187/200\n",
            "34/34 [==============================] - 0s 1ms/step - loss: 3889.5553 - mse: 50712561.8286\n",
            "Epoch 188/200\n",
            "34/34 [==============================] - 0s 2ms/step - loss: 3916.9766 - mse: 52474053.7143\n",
            "Epoch 189/200\n",
            "34/34 [==============================] - 0s 1ms/step - loss: 3449.6390 - mse: 45442892.4000\n",
            "Epoch 190/200\n",
            "34/34 [==============================] - 0s 1ms/step - loss: 3790.5261 - mse: 50679778.8571\n",
            "Epoch 191/200\n",
            "34/34 [==============================] - 0s 2ms/step - loss: 3899.9987 - mse: 51736382.7429\n",
            "Epoch 192/200\n",
            "34/34 [==============================] - 0s 1ms/step - loss: 3676.4644 - mse: 45730103.6571\n",
            "Epoch 193/200\n",
            "34/34 [==============================] - 0s 1ms/step - loss: 3766.0237 - mse: 48996272.3429\n",
            "Epoch 194/200\n",
            "34/34 [==============================] - 0s 1ms/step - loss: 3871.3434 - mse: 50339540.6857\n",
            "Epoch 195/200\n",
            "34/34 [==============================] - 0s 1ms/step - loss: 3423.9755 - mse: 41843066.9143\n",
            "Epoch 196/200\n",
            "34/34 [==============================] - 0s 1ms/step - loss: 3567.7101 - mse: 44011814.4571\n",
            "Epoch 197/200\n",
            "34/34 [==============================] - 0s 2ms/step - loss: 3950.4742 - mse: 52016635.3143\n",
            "Epoch 198/200\n",
            "34/34 [==============================] - 0s 1ms/step - loss: 3620.9258 - mse: 47697821.1429\n",
            "Epoch 199/200\n",
            "34/34 [==============================] - 0s 1ms/step - loss: 3628.1823 - mse: 44323112.5714\n",
            "Epoch 200/200\n",
            "34/34 [==============================] - 0s 1ms/step - loss: 3810.1321 - mse: 51053358.5143\n"
          ],
          "name": "stdout"
        }
      ]
    },
    {
      "cell_type": "code",
      "metadata": {
        "colab": {
          "base_uri": "https://localhost:8080/"
        },
        "id": "IbBrBihp1Ebo",
        "outputId": "c57139d8-0afd-41bb-9311-839bff1a054c"
      },
      "source": [
        "insurance_model_3.evaluate(X_test, y_test)"
      ],
      "execution_count": null,
      "outputs": [
        {
          "output_type": "stream",
          "text": [
            "9/9 [==============================] - 0s 2ms/step - loss: 3491.2961 - mse: 42306288.0000\n"
          ],
          "name": "stdout"
        },
        {
          "output_type": "execute_result",
          "data": {
            "text/plain": [
              "[3491.296142578125, 42306288.0]"
            ]
          },
          "metadata": {
            "tags": []
          },
          "execution_count": 111
        }
      ]
    },
    {
      "cell_type": "code",
      "metadata": {
        "colab": {
          "base_uri": "https://localhost:8080/",
          "height": 307
        },
        "id": "cLAf6uY81MgG",
        "outputId": "dba29539-6fab-4ee3-ca68-ce48af0f3197"
      },
      "source": [
        "# Let's also plot the history \n",
        "# We used history to store the results from the insurance_model_3.fit()\n",
        "# This plot is also called the loss curve or a training curve\n",
        "\n",
        "pd.DataFrame(history.history).plot()\n",
        "plt.ylabel(\"loss\")\n",
        "plt.xlabel(\"epochs\")\n"
      ],
      "execution_count": null,
      "outputs": [
        {
          "output_type": "execute_result",
          "data": {
            "text/plain": [
              "Text(0.5, 0, 'epochs')"
            ]
          },
          "metadata": {
            "tags": []
          },
          "execution_count": 112
        },
        {
          "output_type": "display_data",
          "data": {
            "image/png": "[encoded data removed]",
            "text/plain": [
              "<Figure size 432x288 with 1 Axes>"
            ]
          },
          "metadata": {
            "tags": [],
            "needs_background": "light"
          }
        }
      ]
    },
    {
      "cell_type": "markdown",
      "metadata": {
        "id": "9uZ6EVl71_Ji"
      },
      "source": [
        "#### **Question:** \n",
        "\n",
        "How long should you train for?\n",
        "It depends. Find a sweet spot between underfitting and overfitting\n",
        "\n",
        "Tensorflow has something called as **early stopping callback** which is a tensorflow component which can be added to the model so that ot can stop the training once a certain metrics stops improving"
      ]
    },
    {
      "cell_type": "markdown",
      "metadata": {
        "id": "qbrEfsIc3b5-"
      },
      "source": [
        "**Experiment 4**\n",
        "\n",
        "(on own)\n",
        "\n",
        "Adding more layers and adding activation ffunctions to experiment 3"
      ]
    },
    {
      "cell_type": "code",
      "metadata": {
        "colab": {
          "base_uri": "https://localhost:8080/"
        },
        "id": "1FSX9dz23r24",
        "outputId": "9487eec0-7e31-45b8-9310-f08b78b55caa"
      },
      "source": [
        "# Set random seed\n",
        "tf.random.set_seed(42)\n",
        "\n",
        "# 1. create a model\n",
        "insurance_model_4 = tf.keras.Sequential(\n",
        "    layers=[\n",
        "            tf.keras.layers.Dense(100, activation='relu'),\n",
        "            tf.keras.layers.Dense(50, activation='relu'),\n",
        "             tf.keras.layers.Dense(25),\n",
        "            tf.keras.layers.Dense(10, activation='relu'),\n",
        "            tf.keras.layers.Dense(1),\n",
        "    ]\n",
        ")\n",
        "\n",
        "# 2. Compile a model\n",
        "insurance_model_4.compile(loss=tf.keras.losses.mae,\n",
        "                          optimizer=tf.keras.optimizers.Adam(),\n",
        "                          metrics=[\"mse\"])\n",
        "\n",
        "\n",
        "# 3. Fit the model\n",
        "history_4 = insurance_model_4.fit(X_train, y_train, epochs=200)"
      ],
      "execution_count": null,
      "outputs": [
        {
          "output_type": "stream",
          "text": [
            "Epoch 1/200\n",
            "34/34 [==============================] - 1s 1ms/step - loss: 13279.9161 - mse: 317905977.6000\n",
            "Epoch 2/200\n",
            "34/34 [==============================] - 0s 1ms/step - loss: 12734.6937 - mse: 304364598.8571\n",
            "Epoch 3/200\n",
            "34/34 [==============================] - 0s 1ms/step - loss: 11093.4193 - mse: 253929218.7429\n",
            "Epoch 4/200\n",
            "34/34 [==============================] - 0s 1ms/step - loss: 7993.9337 - mse: 186616121.1429\n",
            "Epoch 5/200\n",
            "34/34 [==============================] - 0s 1ms/step - loss: 7540.9741 - mse: 153190385.3714\n",
            "Epoch 6/200\n",
            "34/34 [==============================] - 0s 2ms/step - loss: 7445.6670 - mse: 163167815.3143\n",
            "Epoch 7/200\n",
            "34/34 [==============================] - 0s 1ms/step - loss: 7277.1000 - mse: 153426549.0286\n",
            "Epoch 8/200\n",
            "34/34 [==============================] - 0s 1ms/step - loss: 7314.5222 - mse: 157857962.5143\n",
            "Epoch 9/200\n",
            "34/34 [==============================] - 0s 2ms/step - loss: 7242.3714 - mse: 153944317.0286\n",
            "Epoch 10/200\n",
            "34/34 [==============================] - 0s 2ms/step - loss: 7289.2834 - mse: 168017769.1429\n",
            "Epoch 11/200\n",
            "34/34 [==============================] - 0s 1ms/step - loss: 7410.1449 - mse: 165378730.5143\n",
            "Epoch 12/200\n",
            "34/34 [==============================] - 0s 2ms/step - loss: 6885.7257 - mse: 154705012.1143\n",
            "Epoch 13/200\n",
            "34/34 [==============================] - 0s 2ms/step - loss: 7116.6090 - mse: 164943216.0000\n",
            "Epoch 14/200\n",
            "34/34 [==============================] - 0s 2ms/step - loss: 6789.2078 - mse: 161131681.3714\n",
            "Epoch 15/200\n",
            "34/34 [==============================] - 0s 2ms/step - loss: 7025.9102 - mse: 167987078.4000\n",
            "Epoch 16/200\n",
            "34/34 [==============================] - 0s 1ms/step - loss: 6893.5892 - mse: 173915832.6857\n",
            "Epoch 17/200\n",
            "34/34 [==============================] - 0s 1ms/step - loss: 6141.7488 - mse: 146042001.1429\n",
            "Epoch 18/200\n",
            "34/34 [==============================] - 0s 1ms/step - loss: 6384.1111 - mse: 161288560.0000\n",
            "Epoch 19/200\n",
            "34/34 [==============================] - 0s 2ms/step - loss: 6320.9151 - mse: 152759487.5429\n",
            "Epoch 20/200\n",
            "34/34 [==============================] - 0s 1ms/step - loss: 6336.7534 - mse: 154572953.1429\n",
            "Epoch 21/200\n",
            "34/34 [==============================] - 0s 1ms/step - loss: 5645.9465 - mse: 131007196.5714\n",
            "Epoch 22/200\n",
            "34/34 [==============================] - 0s 1ms/step - loss: 5825.6054 - mse: 135715198.6286\n",
            "Epoch 23/200\n",
            "34/34 [==============================] - 0s 2ms/step - loss: 6274.3991 - mse: 154341361.3714\n",
            "Epoch 24/200\n",
            "34/34 [==============================] - 0s 1ms/step - loss: 5985.6124 - mse: 146429730.2857\n",
            "Epoch 25/200\n",
            "34/34 [==============================] - 0s 2ms/step - loss: 6706.5075 - mse: 159975327.5429\n",
            "Epoch 26/200\n",
            "34/34 [==============================] - 0s 2ms/step - loss: 5842.2932 - mse: 135845189.9429\n",
            "Epoch 27/200\n",
            "34/34 [==============================] - 0s 1ms/step - loss: 6180.1373 - mse: 141762877.0286\n",
            "Epoch 28/200\n",
            "34/34 [==============================] - 0s 2ms/step - loss: 6433.6326 - mse: 157370532.5714\n",
            "Epoch 29/200\n",
            "34/34 [==============================] - 0s 1ms/step - loss: 5657.3130 - mse: 133398414.8571\n",
            "Epoch 30/200\n",
            "34/34 [==============================] - 0s 2ms/step - loss: 6081.0285 - mse: 138540358.6286\n",
            "Epoch 31/200\n",
            "34/34 [==============================] - 0s 1ms/step - loss: 6289.8927 - mse: 150418202.9714\n",
            "Epoch 32/200\n",
            "34/34 [==============================] - 0s 1ms/step - loss: 5667.6884 - mse: 129138640.2286\n",
            "Epoch 33/200\n",
            "34/34 [==============================] - 0s 2ms/step - loss: 5640.3618 - mse: 130623610.7429\n",
            "Epoch 34/200\n",
            "34/34 [==============================] - 0s 1ms/step - loss: 5394.2871 - mse: 116732576.0000\n",
            "Epoch 35/200\n",
            "34/34 [==============================] - 0s 1ms/step - loss: 5274.4343 - mse: 112041986.7429\n",
            "Epoch 36/200\n",
            "34/34 [==============================] - 0s 2ms/step - loss: 4889.4843 - mse: 98991759.3143\n",
            "Epoch 37/200\n",
            "34/34 [==============================] - 0s 2ms/step - loss: 4735.8122 - mse: 94029165.7143\n",
            "Epoch 38/200\n",
            "34/34 [==============================] - 0s 1ms/step - loss: 3951.0656 - mse: 73706295.2000\n",
            "Epoch 39/200\n",
            "34/34 [==============================] - 0s 1ms/step - loss: 4028.0604 - mse: 71852308.5714\n",
            "Epoch 40/200\n",
            "34/34 [==============================] - 0s 2ms/step - loss: 3725.0954 - mse: 59732524.9143\n",
            "Epoch 41/200\n",
            "34/34 [==============================] - 0s 1ms/step - loss: 3658.0327 - mse: 59171862.2857\n",
            "Epoch 42/200\n",
            "34/34 [==============================] - 0s 1ms/step - loss: 3682.0603 - mse: 57680630.1714\n",
            "Epoch 43/200\n",
            "34/34 [==============================] - 0s 2ms/step - loss: 3560.5141 - mse: 53020872.6857\n",
            "Epoch 44/200\n",
            "34/34 [==============================] - 0s 2ms/step - loss: 3378.4865 - mse: 49073961.9429\n",
            "Epoch 45/200\n",
            "34/34 [==============================] - 0s 1ms/step - loss: 3310.8594 - mse: 47450544.9143\n",
            "Epoch 46/200\n",
            "34/34 [==============================] - 0s 1ms/step - loss: 3277.2705 - mse: 47814418.0000\n",
            "Epoch 47/200\n",
            "34/34 [==============================] - 0s 2ms/step - loss: 3645.2333 - mse: 51073134.2857\n",
            "Epoch 48/200\n",
            "34/34 [==============================] - 0s 2ms/step - loss: 3335.2651 - mse: 43965605.0857\n",
            "Epoch 49/200\n",
            "34/34 [==============================] - 0s 1ms/step - loss: 3369.6964 - mse: 43488372.9143\n",
            "Epoch 50/200\n",
            "34/34 [==============================] - 0s 2ms/step - loss: 3305.7950 - mse: 40996059.7714\n",
            "Epoch 51/200\n",
            "34/34 [==============================] - 0s 2ms/step - loss: 3293.2316 - mse: 40833421.3714\n",
            "Epoch 52/200\n",
            "34/34 [==============================] - 0s 1ms/step - loss: 3256.6426 - mse: 40407026.1714\n",
            "Epoch 53/200\n",
            "34/34 [==============================] - 0s 2ms/step - loss: 3134.6598 - mse: 38918438.8571\n",
            "Epoch 54/200\n",
            "34/34 [==============================] - 0s 1ms/step - loss: 3296.9149 - mse: 38042072.2286\n",
            "Epoch 55/200\n",
            "34/34 [==============================] - 0s 1ms/step - loss: 3223.8770 - mse: 36262167.6857\n",
            "Epoch 56/200\n",
            "34/34 [==============================] - 0s 1ms/step - loss: 3217.7128 - mse: 35927410.6857\n",
            "Epoch 57/200\n",
            "34/34 [==============================] - 0s 2ms/step - loss: 3338.2706 - mse: 40612045.8286\n",
            "Epoch 58/200\n",
            "34/34 [==============================] - 0s 1ms/step - loss: 3135.5458 - mse: 36699966.2286\n",
            "Epoch 59/200\n",
            "34/34 [==============================] - 0s 2ms/step - loss: 2747.6258 - mse: 32547654.3429\n",
            "Epoch 60/200\n",
            "34/34 [==============================] - 0s 1ms/step - loss: 3138.9473 - mse: 39272250.4571\n",
            "Epoch 61/200\n",
            "34/34 [==============================] - 0s 1ms/step - loss: 2980.7801 - mse: 38784633.0286\n",
            "Epoch 62/200\n",
            "34/34 [==============================] - 0s 1ms/step - loss: 3147.5440 - mse: 41981585.8286\n",
            "Epoch 63/200\n",
            "34/34 [==============================] - 0s 1ms/step - loss: 2955.7626 - mse: 38967685.6571\n",
            "Epoch 64/200\n",
            "34/34 [==============================] - 0s 2ms/step - loss: 2942.6345 - mse: 40047743.7143\n",
            "Epoch 65/200\n",
            "34/34 [==============================] - 0s 2ms/step - loss: 2905.2942 - mse: 37988319.8286\n",
            "Epoch 66/200\n",
            "34/34 [==============================] - 0s 2ms/step - loss: 2762.5830 - mse: 35305367.0286\n",
            "Epoch 67/200\n",
            "34/34 [==============================] - 0s 1ms/step - loss: 2965.7988 - mse: 40014942.8571\n",
            "Epoch 68/200\n",
            "34/34 [==============================] - 0s 1ms/step - loss: 2913.2022 - mse: 37598251.3143\n",
            "Epoch 69/200\n",
            "34/34 [==============================] - 0s 1ms/step - loss: 2856.5424 - mse: 34298345.8857\n",
            "Epoch 70/200\n",
            "34/34 [==============================] - 0s 2ms/step - loss: 2730.3264 - mse: 34410399.3714\n",
            "Epoch 71/200\n",
            "34/34 [==============================] - 0s 2ms/step - loss: 2835.0873 - mse: 35470077.0857\n",
            "Epoch 72/200\n",
            "34/34 [==============================] - 0s 2ms/step - loss: 2792.8465 - mse: 34684159.0571\n",
            "Epoch 73/200\n",
            "34/34 [==============================] - 0s 2ms/step - loss: 3043.6324 - mse: 39487241.2571\n",
            "Epoch 74/200\n",
            "34/34 [==============================] - 0s 1ms/step - loss: 2874.8766 - mse: 37026401.8286\n",
            "Epoch 75/200\n",
            "34/34 [==============================] - 0s 2ms/step - loss: 2897.8176 - mse: 37457983.1429\n",
            "Epoch 76/200\n",
            "34/34 [==============================] - 0s 2ms/step - loss: 2687.3765 - mse: 33747881.5714\n",
            "Epoch 77/200\n",
            "34/34 [==============================] - 0s 2ms/step - loss: 2952.2656 - mse: 34741693.9429\n",
            "Epoch 78/200\n",
            "34/34 [==============================] - 0s 2ms/step - loss: 2934.8375 - mse: 38080160.8571\n",
            "Epoch 79/200\n",
            "34/34 [==============================] - 0s 2ms/step - loss: 2780.2291 - mse: 33911676.9714\n",
            "Epoch 80/200\n",
            "34/34 [==============================] - 0s 2ms/step - loss: 2713.2867 - mse: 32622841.8857\n",
            "Epoch 81/200\n",
            "34/34 [==============================] - 0s 1ms/step - loss: 2568.4090 - mse: 32190438.4571\n",
            "Epoch 82/200\n",
            "34/34 [==============================] - 0s 2ms/step - loss: 2980.0734 - mse: 38628119.0857\n",
            "Epoch 83/200\n",
            "34/34 [==============================] - 0s 2ms/step - loss: 2744.2683 - mse: 34722613.5429\n",
            "Epoch 84/200\n",
            "34/34 [==============================] - 0s 1ms/step - loss: 2482.6092 - mse: 29365526.6857\n",
            "Epoch 85/200\n",
            "34/34 [==============================] - 0s 1ms/step - loss: 2368.9191 - mse: 26894552.9714\n",
            "Epoch 86/200\n",
            "34/34 [==============================] - 0s 1ms/step - loss: 2699.5122 - mse: 33308363.0286\n",
            "Epoch 87/200\n",
            "34/34 [==============================] - 0s 2ms/step - loss: 2773.7023 - mse: 34703926.2286\n",
            "Epoch 88/200\n",
            "34/34 [==============================] - 0s 2ms/step - loss: 2734.9909 - mse: 33934865.4286\n",
            "Epoch 89/200\n",
            "34/34 [==============================] - 0s 2ms/step - loss: 2465.3396 - mse: 28122153.8857\n",
            "Epoch 90/200\n",
            "34/34 [==============================] - 0s 2ms/step - loss: 2770.1191 - mse: 33793542.9714\n",
            "Epoch 91/200\n",
            "34/34 [==============================] - 0s 2ms/step - loss: 2659.9609 - mse: 31298743.2000\n",
            "Epoch 92/200\n",
            "34/34 [==============================] - 0s 2ms/step - loss: 2739.4186 - mse: 32184774.7429\n",
            "Epoch 93/200\n",
            "34/34 [==============================] - 0s 2ms/step - loss: 2808.7614 - mse: 33915038.4571\n",
            "Epoch 94/200\n",
            "34/34 [==============================] - 0s 2ms/step - loss: 2597.8224 - mse: 30266421.8857\n",
            "Epoch 95/200\n",
            "34/34 [==============================] - 0s 2ms/step - loss: 2571.6994 - mse: 29672028.0000\n",
            "Epoch 96/200\n",
            "34/34 [==============================] - 0s 2ms/step - loss: 2566.0713 - mse: 31123028.0571\n",
            "Epoch 97/200\n",
            "34/34 [==============================] - 0s 1ms/step - loss: 2434.1740 - mse: 29368969.6000\n",
            "Epoch 98/200\n",
            "34/34 [==============================] - 0s 2ms/step - loss: 2647.6759 - mse: 31164055.0000\n",
            "Epoch 99/200\n",
            "34/34 [==============================] - 0s 1ms/step - loss: 2345.2080 - mse: 28091790.3714\n",
            "Epoch 100/200\n",
            "34/34 [==============================] - 0s 1ms/step - loss: 2437.5912 - mse: 29776347.4286\n",
            "Epoch 101/200\n",
            "34/34 [==============================] - 0s 2ms/step - loss: 2450.2474 - mse: 30277617.2857\n",
            "Epoch 102/200\n",
            "34/34 [==============================] - 0s 2ms/step - loss: 2526.8617 - mse: 30335102.9714\n",
            "Epoch 103/200\n",
            "34/34 [==============================] - 0s 2ms/step - loss: 2319.9454 - mse: 27295339.0286\n",
            "Epoch 104/200\n",
            "34/34 [==============================] - 0s 2ms/step - loss: 2653.2661 - mse: 32765773.9429\n",
            "Epoch 105/200\n",
            "34/34 [==============================] - 0s 2ms/step - loss: 2561.4320 - mse: 31464819.3714\n",
            "Epoch 106/200\n",
            "34/34 [==============================] - 0s 2ms/step - loss: 2546.8763 - mse: 31641862.2286\n",
            "Epoch 107/200\n",
            "34/34 [==============================] - 0s 2ms/step - loss: 2597.9183 - mse: 31338513.7714\n",
            "Epoch 108/200\n",
            "34/34 [==============================] - 0s 1ms/step - loss: 2588.5152 - mse: 30857725.4286\n",
            "Epoch 109/200\n",
            "34/34 [==============================] - 0s 2ms/step - loss: 2533.0660 - mse: 30665860.5714\n",
            "Epoch 110/200\n",
            "34/34 [==============================] - 0s 2ms/step - loss: 2861.9385 - mse: 37452862.1714\n",
            "Epoch 111/200\n",
            "34/34 [==============================] - 0s 2ms/step - loss: 2717.2791 - mse: 34461350.6286\n",
            "Epoch 112/200\n",
            "34/34 [==============================] - 0s 2ms/step - loss: 2476.9604 - mse: 28988985.6571\n",
            "Epoch 113/200\n",
            "34/34 [==============================] - 0s 1ms/step - loss: 2491.4275 - mse: 30220730.6857\n",
            "Epoch 114/200\n",
            "34/34 [==============================] - 0s 2ms/step - loss: 2597.6489 - mse: 31004131.2000\n",
            "Epoch 115/200\n",
            "34/34 [==============================] - 0s 2ms/step - loss: 2514.7477 - mse: 30460306.9143\n",
            "Epoch 116/200\n",
            "34/34 [==============================] - 0s 2ms/step - loss: 2661.1125 - mse: 33451504.8571\n",
            "Epoch 117/200\n",
            "34/34 [==============================] - 0s 2ms/step - loss: 2439.8287 - mse: 30819880.2857\n",
            "Epoch 118/200\n",
            "34/34 [==============================] - 0s 2ms/step - loss: 2433.2855 - mse: 29955356.9143\n",
            "Epoch 119/200\n",
            "34/34 [==============================] - 0s 2ms/step - loss: 2524.0736 - mse: 31498212.9714\n",
            "Epoch 120/200\n",
            "34/34 [==============================] - 0s 1ms/step - loss: 2737.7072 - mse: 35542448.9714\n",
            "Epoch 121/200\n",
            "34/34 [==============================] - 0s 1ms/step - loss: 2682.2055 - mse: 33566852.8000\n",
            "Epoch 122/200\n",
            "34/34 [==============================] - 0s 2ms/step - loss: 2464.2087 - mse: 29719084.6857\n",
            "Epoch 123/200\n",
            "34/34 [==============================] - 0s 2ms/step - loss: 2432.6884 - mse: 30591362.0571\n",
            "Epoch 124/200\n",
            "34/34 [==============================] - 0s 2ms/step - loss: 2298.7292 - mse: 27448669.4857\n",
            "Epoch 125/200\n",
            "34/34 [==============================] - 0s 2ms/step - loss: 2507.9398 - mse: 29887494.1429\n",
            "Epoch 126/200\n",
            "34/34 [==============================] - 0s 1ms/step - loss: 2626.8713 - mse: 32884254.4000\n",
            "Epoch 127/200\n",
            "34/34 [==============================] - 0s 2ms/step - loss: 2411.3160 - mse: 28639153.8857\n",
            "Epoch 128/200\n",
            "34/34 [==============================] - 0s 2ms/step - loss: 2485.4016 - mse: 31025010.6286\n",
            "Epoch 129/200\n",
            "34/34 [==============================] - 0s 2ms/step - loss: 2551.8181 - mse: 32746530.5143\n",
            "Epoch 130/200\n",
            "34/34 [==============================] - 0s 2ms/step - loss: 2416.8365 - mse: 29301963.8857\n",
            "Epoch 131/200\n",
            "34/34 [==============================] - 0s 2ms/step - loss: 2285.1247 - mse: 28065056.1714\n",
            "Epoch 132/200\n",
            "34/34 [==============================] - 0s 2ms/step - loss: 2791.1969 - mse: 35544180.2286\n",
            "Epoch 133/200\n",
            "34/34 [==============================] - 0s 2ms/step - loss: 2394.0472 - mse: 28268497.9143\n",
            "Epoch 134/200\n",
            "34/34 [==============================] - 0s 2ms/step - loss: 2476.2285 - mse: 30914220.9143\n",
            "Epoch 135/200\n",
            "34/34 [==============================] - 0s 2ms/step - loss: 2273.2686 - mse: 26708506.8571\n",
            "Epoch 136/200\n",
            "34/34 [==============================] - 0s 2ms/step - loss: 2415.3895 - mse: 30440602.0000\n",
            "Epoch 137/200\n",
            "34/34 [==============================] - 0s 2ms/step - loss: 2169.2291 - mse: 26650642.2286\n",
            "Epoch 138/200\n",
            "34/34 [==============================] - 0s 2ms/step - loss: 2620.4620 - mse: 32384755.0857\n",
            "Epoch 139/200\n",
            "34/34 [==============================] - 0s 2ms/step - loss: 2249.5913 - mse: 27448465.3714\n",
            "Epoch 140/200\n",
            "34/34 [==============================] - 0s 2ms/step - loss: 2439.3679 - mse: 30345899.1571\n",
            "Epoch 141/200\n",
            "34/34 [==============================] - 0s 2ms/step - loss: 2657.7840 - mse: 33819366.8571\n",
            "Epoch 142/200\n",
            "34/34 [==============================] - 0s 2ms/step - loss: 2352.7979 - mse: 29202952.0000\n",
            "Epoch 143/200\n",
            "34/34 [==============================] - 0s 2ms/step - loss: 2259.3842 - mse: 26487174.9143\n",
            "Epoch 144/200\n",
            "34/34 [==============================] - 0s 2ms/step - loss: 2333.3545 - mse: 26818029.3429\n",
            "Epoch 145/200\n",
            "34/34 [==============================] - 0s 2ms/step - loss: 2525.9341 - mse: 32697248.0571\n",
            "Epoch 146/200\n",
            "34/34 [==============================] - 0s 2ms/step - loss: 2505.3475 - mse: 31247514.3429\n",
            "Epoch 147/200\n",
            "34/34 [==============================] - 0s 1ms/step - loss: 2473.1301 - mse: 30690937.3143\n",
            "Epoch 148/200\n",
            "34/34 [==============================] - 0s 2ms/step - loss: 2394.6754 - mse: 29913543.8857\n",
            "Epoch 149/200\n",
            "34/34 [==============================] - 0s 2ms/step - loss: 2186.2411 - mse: 28169726.4000\n",
            "Epoch 150/200\n",
            "34/34 [==============================] - 0s 2ms/step - loss: 2506.3594 - mse: 31615217.2000\n",
            "Epoch 151/200\n",
            "34/34 [==============================] - 0s 2ms/step - loss: 2293.1055 - mse: 27775285.4286\n",
            "Epoch 152/200\n",
            "34/34 [==============================] - 0s 2ms/step - loss: 2340.6259 - mse: 29448416.0571\n",
            "Epoch 153/200\n",
            "34/34 [==============================] - 0s 2ms/step - loss: 2416.0917 - mse: 30045470.3429\n",
            "Epoch 154/200\n",
            "34/34 [==============================] - 0s 2ms/step - loss: 2345.6158 - mse: 28977923.2571\n",
            "Epoch 155/200\n",
            "34/34 [==============================] - 0s 2ms/step - loss: 2147.1307 - mse: 26073762.8000\n",
            "Epoch 156/200\n",
            "34/34 [==============================] - 0s 2ms/step - loss: 2113.5760 - mse: 25979209.7786\n",
            "Epoch 157/200\n",
            "34/34 [==============================] - 0s 1ms/step - loss: 2001.6438 - mse: 24058914.5714\n",
            "Epoch 158/200\n",
            "34/34 [==============================] - 0s 2ms/step - loss: 2366.6255 - mse: 29880078.6857\n",
            "Epoch 159/200\n",
            "34/34 [==============================] - 0s 2ms/step - loss: 2259.9065 - mse: 27769899.2571\n",
            "Epoch 160/200\n",
            "34/34 [==============================] - 0s 2ms/step - loss: 2392.5203 - mse: 30673974.2857\n",
            "Epoch 161/200\n",
            "34/34 [==============================] - 0s 2ms/step - loss: 2345.8043 - mse: 30048265.5429\n",
            "Epoch 162/200\n",
            "34/34 [==============================] - 0s 2ms/step - loss: 2247.5928 - mse: 29810352.0571\n",
            "Epoch 163/200\n",
            "34/34 [==============================] - 0s 2ms/step - loss: 2093.3210 - mse: 24727829.8857\n",
            "Epoch 164/200\n",
            "34/34 [==============================] - 0s 2ms/step - loss: 2132.4413 - mse: 27045695.4286\n",
            "Epoch 165/200\n",
            "34/34 [==============================] - 0s 2ms/step - loss: 2140.4426 - mse: 24943438.8571\n",
            "Epoch 166/200\n",
            "34/34 [==============================] - 0s 2ms/step - loss: 2299.7141 - mse: 28733525.6000\n",
            "Epoch 167/200\n",
            "34/34 [==============================] - 0s 1ms/step - loss: 2361.7417 - mse: 31635682.9714\n",
            "Epoch 168/200\n",
            "34/34 [==============================] - 0s 1ms/step - loss: 2336.0446 - mse: 29238048.0571\n",
            "Epoch 169/200\n",
            "34/34 [==============================] - 0s 2ms/step - loss: 2041.0688 - mse: 24702190.1143\n",
            "Epoch 170/200\n",
            "34/34 [==============================] - 0s 2ms/step - loss: 2291.3820 - mse: 29629974.3429\n",
            "Epoch 171/200\n",
            "34/34 [==============================] - 0s 2ms/step - loss: 2128.5765 - mse: 24406432.4571\n",
            "Epoch 172/200\n",
            "34/34 [==============================] - 0s 2ms/step - loss: 2300.0423 - mse: 28357969.8857\n",
            "Epoch 173/200\n",
            "34/34 [==============================] - 0s 2ms/step - loss: 2361.3169 - mse: 32110624.0571\n",
            "Epoch 174/200\n",
            "34/34 [==============================] - 0s 2ms/step - loss: 2192.9528 - mse: 27150278.2857\n",
            "Epoch 175/200\n",
            "34/34 [==============================] - 0s 2ms/step - loss: 2253.3374 - mse: 26552845.7714\n",
            "Epoch 176/200\n",
            "34/34 [==============================] - 0s 2ms/step - loss: 2121.5718 - mse: 26438569.3143\n",
            "Epoch 177/200\n",
            "34/34 [==============================] - 0s 2ms/step - loss: 2257.4838 - mse: 28239048.9143\n",
            "Epoch 178/200\n",
            "34/34 [==============================] - 0s 2ms/step - loss: 2283.4931 - mse: 29973970.8571\n",
            "Epoch 179/200\n",
            "34/34 [==============================] - 0s 2ms/step - loss: 2079.1413 - mse: 25211322.4571\n",
            "Epoch 180/200\n",
            "34/34 [==============================] - 0s 2ms/step - loss: 2423.8542 - mse: 30416135.2571\n",
            "Epoch 181/200\n",
            "34/34 [==============================] - 0s 2ms/step - loss: 2285.4126 - mse: 28925730.3429\n",
            "Epoch 182/200\n",
            "34/34 [==============================] - 0s 2ms/step - loss: 2198.8788 - mse: 26629001.9429\n",
            "Epoch 183/200\n",
            "34/34 [==============================] - 0s 2ms/step - loss: 2083.5936 - mse: 25464337.2571\n",
            "Epoch 184/200\n",
            "34/34 [==============================] - 0s 2ms/step - loss: 1991.3162 - mse: 24212712.4571\n",
            "Epoch 185/200\n",
            "34/34 [==============================] - 0s 1ms/step - loss: 2028.1024 - mse: 24383158.4000\n",
            "Epoch 186/200\n",
            "34/34 [==============================] - 0s 2ms/step - loss: 2218.6805 - mse: 27434744.2857\n",
            "Epoch 187/200\n",
            "34/34 [==============================] - 0s 1ms/step - loss: 2333.0275 - mse: 29682530.4571\n",
            "Epoch 188/200\n",
            "34/34 [==============================] - 0s 2ms/step - loss: 2145.9820 - mse: 26421904.4000\n",
            "Epoch 189/200\n",
            "34/34 [==============================] - 0s 2ms/step - loss: 2041.6397 - mse: 26688922.8571\n",
            "Epoch 190/200\n",
            "34/34 [==============================] - 0s 2ms/step - loss: 2178.8993 - mse: 26980263.7143\n",
            "Epoch 191/200\n",
            "34/34 [==============================] - 0s 2ms/step - loss: 2114.7244 - mse: 26570660.6571\n",
            "Epoch 192/200\n",
            "34/34 [==============================] - 0s 2ms/step - loss: 2040.1124 - mse: 24621036.2857\n",
            "Epoch 193/200\n",
            "34/34 [==============================] - 0s 2ms/step - loss: 2086.1348 - mse: 25330750.2857\n",
            "Epoch 194/200\n",
            "34/34 [==============================] - 0s 2ms/step - loss: 2188.6091 - mse: 27805108.2286\n",
            "Epoch 195/200\n",
            "34/34 [==============================] - 0s 2ms/step - loss: 1825.4188 - mse: 21495883.5000\n",
            "Epoch 196/200\n",
            "34/34 [==============================] - 0s 2ms/step - loss: 2089.2205 - mse: 25825741.8286\n",
            "Epoch 197/200\n",
            "34/34 [==============================] - 0s 2ms/step - loss: 2316.0608 - mse: 30130895.7714\n",
            "Epoch 198/200\n",
            "34/34 [==============================] - 0s 2ms/step - loss: 2082.7679 - mse: 27016934.2286\n",
            "Epoch 199/200\n",
            "34/34 [==============================] - 0s 1ms/step - loss: 2070.0801 - mse: 25938503.4857\n",
            "Epoch 200/200\n",
            "34/34 [==============================] - 0s 2ms/step - loss: 2320.1956 - mse: 31340673.9429\n"
          ],
          "name": "stdout"
        }
      ]
    },
    {
      "cell_type": "code",
      "metadata": {
        "colab": {
          "base_uri": "https://localhost:8080/"
        },
        "id": "_8QaOp7R407r",
        "outputId": "0ff86f05-8753-4e27-f9c4-1dbb8cc87b92"
      },
      "source": [
        "insurance_model_4.evaluate(X_test, y_test)"
      ],
      "execution_count": null,
      "outputs": [
        {
          "output_type": "stream",
          "text": [
            "9/9 [==============================] - 0s 2ms/step - loss: 1902.2141 - mse: 22221974.0000\n"
          ],
          "name": "stdout"
        },
        {
          "output_type": "execute_result",
          "data": {
            "text/plain": [
              "[1902.214111328125, 22221974.0]"
            ]
          },
          "metadata": {
            "tags": []
          },
          "execution_count": 114
        }
      ]
    },
    {
      "cell_type": "code",
      "metadata": {
        "colab": {
          "base_uri": "https://localhost:8080/",
          "height": 307
        },
        "id": "0zFx9hrS5aaR",
        "outputId": "0c986a47-6858-457f-c2c6-f28d0624cc3d"
      },
      "source": [
        "pd.DataFrame(history_4.history).plot()\n",
        "plt.ylabel(\"loss\")\n",
        "plt.xlabel(\"epochs\")"
      ],
      "execution_count": null,
      "outputs": [
        {
          "output_type": "execute_result",
          "data": {
            "text/plain": [
              "Text(0.5, 0, 'epochs')"
            ]
          },
          "metadata": {
            "tags": []
          },
          "execution_count": 115
        },
        {
          "output_type": "display_data",
          "data": {
            "image/png": "[encoded data removed]",
            "text/plain": [
              "<Figure size 432x288 with 1 Axes>"
            ]
          },
          "metadata": {
            "tags": [],
            "needs_background": "light"
          }
        }
      ]
    },
    {
      "cell_type": "markdown",
      "metadata": {
        "id": "WF3ndWt672hV"
      },
      "source": [
        "## Preprocessing data (Normalization and standardization)\n",
        "\n",
        "In terms of scaling values, neural networks tend to prefer normalization\n",
        "\n",
        "If in doubt, perform both and choose the better one."
      ]
    },
    {
      "cell_type": "code",
      "metadata": {
        "id": "3p24nSo76oFC",
        "colab": {
          "base_uri": "https://localhost:8080/",
          "height": 422
        },
        "outputId": "9a7ec339-6c1a-4df8-bd50-c75cdc311a12"
      },
      "source": [
        "X"
      ],
      "execution_count": null,
      "outputs": [
        {
          "output_type": "execute_result",
          "data": {
            "text/html": [
              "<div>\n",
              "<style scoped>\n",
              "    .dataframe tbody tr th:only-of-type {\n",
              "        vertical-align: middle;\n",
              "    }\n",
              "\n",
              "    .dataframe tbody tr th {\n",
              "        vertical-align: top;\n",
              "    }\n",
              "\n",
              "    .dataframe thead th {\n",
              "        text-align: right;\n",
              "    }\n",
              "</style>\n",
              "<table border=\"1\" class=\"dataframe\">\n",
              "  <thead>\n",
              "    <tr style=\"text-align: right;\">\n",
              "      <th></th>\n",
              "      <th>age</th>\n",
              "      <th>bmi</th>\n",
              "      <th>children</th>\n",
              "      <th>sex_female</th>\n",
              "      <th>sex_male</th>\n",
              "      <th>smoker_no</th>\n",
              "      <th>smoker_yes</th>\n",
              "      <th>region_northeast</th>\n",
              "      <th>region_northwest</th>\n",
              "      <th>region_southeast</th>\n",
              "      <th>region_southwest</th>\n",
              "    </tr>\n",
              "  </thead>\n",
              "  <tbody>\n",
              "    <tr>\n",
              "      <th>0</th>\n",
              "      <td>19</td>\n",
              "      <td>27.900</td>\n",
              "      <td>0</td>\n",
              "      <td>1</td>\n",
              "      <td>0</td>\n",
              "      <td>0</td>\n",
              "      <td>1</td>\n",
              "      <td>0</td>\n",
              "      <td>0</td>\n",
              "      <td>0</td>\n",
              "      <td>1</td>\n",
              "    </tr>\n",
              "    <tr>\n",
              "      <th>1</th>\n",
              "      <td>18</td>\n",
              "      <td>33.770</td>\n",
              "      <td>1</td>\n",
              "      <td>0</td>\n",
              "      <td>1</td>\n",
              "      <td>1</td>\n",
              "      <td>0</td>\n",
              "      <td>0</td>\n",
              "      <td>0</td>\n",
              "      <td>1</td>\n",
              "      <td>0</td>\n",
              "    </tr>\n",
              "    <tr>\n",
              "      <th>2</th>\n",
              "      <td>28</td>\n",
              "      <td>33.000</td>\n",
              "      <td>3</td>\n",
              "      <td>0</td>\n",
              "      <td>1</td>\n",
              "      <td>1</td>\n",
              "      <td>0</td>\n",
              "      <td>0</td>\n",
              "      <td>0</td>\n",
              "      <td>1</td>\n",
              "      <td>0</td>\n",
              "    </tr>\n",
              "    <tr>\n",
              "      <th>3</th>\n",
              "      <td>33</td>\n",
              "      <td>22.705</td>\n",
              "      <td>0</td>\n",
              "      <td>0</td>\n",
              "      <td>1</td>\n",
              "      <td>1</td>\n",
              "      <td>0</td>\n",
              "      <td>0</td>\n",
              "      <td>1</td>\n",
              "      <td>0</td>\n",
              "      <td>0</td>\n",
              "    </tr>\n",
              "    <tr>\n",
              "      <th>4</th>\n",
              "      <td>32</td>\n",
              "      <td>28.880</td>\n",
              "      <td>0</td>\n",
              "      <td>0</td>\n",
              "      <td>1</td>\n",
              "      <td>1</td>\n",
              "      <td>0</td>\n",
              "      <td>0</td>\n",
              "      <td>1</td>\n",
              "      <td>0</td>\n",
              "      <td>0</td>\n",
              "    </tr>\n",
              "    <tr>\n",
              "      <th>...</th>\n",
              "      <td>...</td>\n",
              "      <td>...</td>\n",
              "      <td>...</td>\n",
              "      <td>...</td>\n",
              "      <td>...</td>\n",
              "      <td>...</td>\n",
              "      <td>...</td>\n",
              "      <td>...</td>\n",
              "      <td>...</td>\n",
              "      <td>...</td>\n",
              "      <td>...</td>\n",
              "    </tr>\n",
              "    <tr>\n",
              "      <th>1333</th>\n",
              "      <td>50</td>\n",
              "      <td>30.970</td>\n",
              "      <td>3</td>\n",
              "      <td>0</td>\n",
              "      <td>1</td>\n",
              "      <td>1</td>\n",
              "      <td>0</td>\n",
              "      <td>0</td>\n",
              "      <td>1</td>\n",
              "      <td>0</td>\n",
              "      <td>0</td>\n",
              "    </tr>\n",
              "    <tr>\n",
              "      <th>1334</th>\n",
              "      <td>18</td>\n",
              "      <td>31.920</td>\n",
              "      <td>0</td>\n",
              "      <td>1</td>\n",
              "      <td>0</td>\n",
              "      <td>1</td>\n",
              "      <td>0</td>\n",
              "      <td>1</td>\n",
              "      <td>0</td>\n",
              "      <td>0</td>\n",
              "      <td>0</td>\n",
              "    </tr>\n",
              "    <tr>\n",
              "      <th>1335</th>\n",
              "      <td>18</td>\n",
              "      <td>36.850</td>\n",
              "      <td>0</td>\n",
              "      <td>1</td>\n",
              "      <td>0</td>\n",
              "      <td>1</td>\n",
              "      <td>0</td>\n",
              "      <td>0</td>\n",
              "      <td>0</td>\n",
              "      <td>1</td>\n",
              "      <td>0</td>\n",
              "    </tr>\n",
              "    <tr>\n",
              "      <th>1336</th>\n",
              "      <td>21</td>\n",
              "      <td>25.800</td>\n",
              "      <td>0</td>\n",
              "      <td>1</td>\n",
              "      <td>0</td>\n",
              "      <td>1</td>\n",
              "      <td>0</td>\n",
              "      <td>0</td>\n",
              "      <td>0</td>\n",
              "      <td>0</td>\n",
              "      <td>1</td>\n",
              "    </tr>\n",
              "    <tr>\n",
              "      <th>1337</th>\n",
              "      <td>61</td>\n",
              "      <td>29.070</td>\n",
              "      <td>0</td>\n",
              "      <td>1</td>\n",
              "      <td>0</td>\n",
              "      <td>0</td>\n",
              "      <td>1</td>\n",
              "      <td>0</td>\n",
              "      <td>1</td>\n",
              "      <td>0</td>\n",
              "      <td>0</td>\n",
              "    </tr>\n",
              "  </tbody>\n",
              "</table>\n",
              "<p>1338 rows × 11 columns</p>\n",
              "</div>"
            ],
            "text/plain": [
              "      age     bmi  ...  region_southeast  region_southwest\n",
              "0      19  27.900  ...                 0                 1\n",
              "1      18  33.770  ...                 1                 0\n",
              "2      28  33.000  ...                 1                 0\n",
              "3      33  22.705  ...                 0                 0\n",
              "4      32  28.880  ...                 0                 0\n",
              "...   ...     ...  ...               ...               ...\n",
              "1333   50  30.970  ...                 0                 0\n",
              "1334   18  31.920  ...                 0                 0\n",
              "1335   18  36.850  ...                 1                 0\n",
              "1336   21  25.800  ...                 0                 1\n",
              "1337   61  29.070  ...                 0                 0\n",
              "\n",
              "[1338 rows x 11 columns]"
            ]
          },
          "metadata": {
            "tags": []
          },
          "execution_count": 116
        }
      ]
    },
    {
      "cell_type": "code",
      "metadata": {
        "colab": {
          "base_uri": "https://localhost:8080/",
          "height": 282
        },
        "id": "1t8lgs0e8jOV",
        "outputId": "9510fc00-f9ea-43f2-fb60-f76ce2cb869c"
      },
      "source": [
        "X[\"age\"].plot(kind=\"hist\")"
      ],
      "execution_count": null,
      "outputs": [
        {
          "output_type": "execute_result",
          "data": {
            "text/plain": [
              "<matplotlib.axes._subplots.AxesSubplot at 0x7fc6680dcf50>"
            ]
          },
          "metadata": {
            "tags": []
          },
          "execution_count": 117
        },
        {
          "output_type": "display_data",
          "data": {
            "image/png": "[encoded data removed]",
            "text/plain": [
              "<Figure size 432x288 with 1 Axes>"
            ]
          },
          "metadata": {
            "tags": [],
            "needs_background": "light"
          }
        }
      ]
    },
    {
      "cell_type": "code",
      "metadata": {
        "colab": {
          "base_uri": "https://localhost:8080/",
          "height": 282
        },
        "id": "SqGxDJpQ8siK",
        "outputId": "1c66bf09-7cf0-4b51-9bea-29f3e92b8e73"
      },
      "source": [
        "X[\"bmi\"].plot(kind=\"hist\")"
      ],
      "execution_count": null,
      "outputs": [
        {
          "output_type": "execute_result",
          "data": {
            "text/plain": [
              "<matplotlib.axes._subplots.AxesSubplot at 0x7fc667f7b4d0>"
            ]
          },
          "metadata": {
            "tags": []
          },
          "execution_count": 118
        },
        {
          "output_type": "display_data",
          "data": {
            "image/png": "[encoded data removed]",
            "text/plain": [
              "<Figure size 432x288 with 1 Axes>"
            ]
          },
          "metadata": {
            "tags": [],
            "needs_background": "light"
          }
        }
      ]
    },
    {
      "cell_type": "code",
      "metadata": {
        "colab": {
          "base_uri": "https://localhost:8080/"
        },
        "id": "khXLDL5V82oP",
        "outputId": "0a1bf459-caab-43bb-e840-d4ace6ba600d"
      },
      "source": [
        "X[\"children\"].value_counts()"
      ],
      "execution_count": null,
      "outputs": [
        {
          "output_type": "execute_result",
          "data": {
            "text/plain": [
              "0    574\n",
              "1    324\n",
              "2    240\n",
              "3    157\n",
              "4     25\n",
              "5     18\n",
              "Name: children, dtype: int64"
            ]
          },
          "metadata": {
            "tags": []
          },
          "execution_count": 119
        }
      ]
    },
    {
      "cell_type": "markdown",
      "metadata": {
        "id": "vqVJ-SSn-QgN"
      },
      "source": [
        "Lets do normalization of numerical features"
      ]
    },
    {
      "cell_type": "code",
      "metadata": {
        "colab": {
          "base_uri": "https://localhost:8080/",
          "height": 402
        },
        "id": "_X6mjwfk872d",
        "outputId": "f04bfe67-aa6f-4893-8da6-37216c1f99d9"
      },
      "source": [
        "import pandas as pd\n",
        "import matplotlib.pyplot as plt\n",
        "import tensorflow as tf\n",
        "\n",
        "# Get the insurance dataset\n",
        "\n",
        "insurance = pd.read_csv(\"https://raw.githubusercontent.com/stedy/Machine-Learning-with-R-datasets/master/insurance.csv\")\n",
        "insurance"
      ],
      "execution_count": null,
      "outputs": [
        {
          "output_type": "execute_result",
          "data": {
            "text/html": [
              "<div>\n",
              "<style scoped>\n",
              "    .dataframe tbody tr th:only-of-type {\n",
              "        vertical-align: middle;\n",
              "    }\n",
              "\n",
              "    .dataframe tbody tr th {\n",
              "        vertical-align: top;\n",
              "    }\n",
              "\n",
              "    .dataframe thead th {\n",
              "        text-align: right;\n",
              "    }\n",
              "</style>\n",
              "<table border=\"1\" class=\"dataframe\">\n",
              "  <thead>\n",
              "    <tr style=\"text-align: right;\">\n",
              "      <th></th>\n",
              "      <th>age</th>\n",
              "      <th>sex</th>\n",
              "      <th>bmi</th>\n",
              "      <th>children</th>\n",
              "      <th>smoker</th>\n",
              "      <th>region</th>\n",
              "      <th>charges</th>\n",
              "    </tr>\n",
              "  </thead>\n",
              "  <tbody>\n",
              "    <tr>\n",
              "      <th>0</th>\n",
              "      <td>19</td>\n",
              "      <td>female</td>\n",
              "      <td>27.900</td>\n",
              "      <td>0</td>\n",
              "      <td>yes</td>\n",
              "      <td>southwest</td>\n",
              "      <td>16884.92400</td>\n",
              "    </tr>\n",
              "    <tr>\n",
              "      <th>1</th>\n",
              "      <td>18</td>\n",
              "      <td>male</td>\n",
              "      <td>33.770</td>\n",
              "      <td>1</td>\n",
              "      <td>no</td>\n",
              "      <td>southeast</td>\n",
              "      <td>1725.55230</td>\n",
              "    </tr>\n",
              "    <tr>\n",
              "      <th>2</th>\n",
              "      <td>28</td>\n",
              "      <td>male</td>\n",
              "      <td>33.000</td>\n",
              "      <td>3</td>\n",
              "      <td>no</td>\n",
              "      <td>southeast</td>\n",
              "      <td>4449.46200</td>\n",
              "    </tr>\n",
              "    <tr>\n",
              "      <th>3</th>\n",
              "      <td>33</td>\n",
              "      <td>male</td>\n",
              "      <td>22.705</td>\n",
              "      <td>0</td>\n",
              "      <td>no</td>\n",
              "      <td>northwest</td>\n",
              "      <td>21984.47061</td>\n",
              "    </tr>\n",
              "    <tr>\n",
              "      <th>4</th>\n",
              "      <td>32</td>\n",
              "      <td>male</td>\n",
              "      <td>28.880</td>\n",
              "      <td>0</td>\n",
              "      <td>no</td>\n",
              "      <td>northwest</td>\n",
              "      <td>3866.85520</td>\n",
              "    </tr>\n",
              "    <tr>\n",
              "      <th>...</th>\n",
              "      <td>...</td>\n",
              "      <td>...</td>\n",
              "      <td>...</td>\n",
              "      <td>...</td>\n",
              "      <td>...</td>\n",
              "      <td>...</td>\n",
              "      <td>...</td>\n",
              "    </tr>\n",
              "    <tr>\n",
              "      <th>1333</th>\n",
              "      <td>50</td>\n",
              "      <td>male</td>\n",
              "      <td>30.970</td>\n",
              "      <td>3</td>\n",
              "      <td>no</td>\n",
              "      <td>northwest</td>\n",
              "      <td>10600.54830</td>\n",
              "    </tr>\n",
              "    <tr>\n",
              "      <th>1334</th>\n",
              "      <td>18</td>\n",
              "      <td>female</td>\n",
              "      <td>31.920</td>\n",
              "      <td>0</td>\n",
              "      <td>no</td>\n",
              "      <td>northeast</td>\n",
              "      <td>2205.98080</td>\n",
              "    </tr>\n",
              "    <tr>\n",
              "      <th>1335</th>\n",
              "      <td>18</td>\n",
              "      <td>female</td>\n",
              "      <td>36.850</td>\n",
              "      <td>0</td>\n",
              "      <td>no</td>\n",
              "      <td>southeast</td>\n",
              "      <td>1629.83350</td>\n",
              "    </tr>\n",
              "    <tr>\n",
              "      <th>1336</th>\n",
              "      <td>21</td>\n",
              "      <td>female</td>\n",
              "      <td>25.800</td>\n",
              "      <td>0</td>\n",
              "      <td>no</td>\n",
              "      <td>southwest</td>\n",
              "      <td>2007.94500</td>\n",
              "    </tr>\n",
              "    <tr>\n",
              "      <th>1337</th>\n",
              "      <td>61</td>\n",
              "      <td>female</td>\n",
              "      <td>29.070</td>\n",
              "      <td>0</td>\n",
              "      <td>yes</td>\n",
              "      <td>northwest</td>\n",
              "      <td>29141.36030</td>\n",
              "    </tr>\n",
              "  </tbody>\n",
              "</table>\n",
              "<p>1338 rows × 7 columns</p>\n",
              "</div>"
            ],
            "text/plain": [
              "      age     sex     bmi  children smoker     region      charges\n",
              "0      19  female  27.900         0    yes  southwest  16884.92400\n",
              "1      18    male  33.770         1     no  southeast   1725.55230\n",
              "2      28    male  33.000         3     no  southeast   4449.46200\n",
              "3      33    male  22.705         0     no  northwest  21984.47061\n",
              "4      32    male  28.880         0     no  northwest   3866.85520\n",
              "...   ...     ...     ...       ...    ...        ...          ...\n",
              "1333   50    male  30.970         3     no  northwest  10600.54830\n",
              "1334   18  female  31.920         0     no  northeast   2205.98080\n",
              "1335   18  female  36.850         0     no  southeast   1629.83350\n",
              "1336   21  female  25.800         0     no  southwest   2007.94500\n",
              "1337   61  female  29.070         0    yes  northwest  29141.36030\n",
              "\n",
              "[1338 rows x 7 columns]"
            ]
          },
          "metadata": {
            "tags": []
          },
          "execution_count": 120
        }
      ]
    },
    {
      "cell_type": "markdown",
      "metadata": {
        "id": "N7YdDCba-56A"
      },
      "source": [
        "To prepare our data we need to use some classes from sci-kit learn"
      ]
    },
    {
      "cell_type": "code",
      "metadata": {
        "id": "Xx8y-D9K-N_S"
      },
      "source": [
        " from sklearn.compose import make_column_transformer\n",
        " from sklearn.preprocessing import MinMaxScaler, OneHotEncoder\n",
        " from sklearn.model_selection import train_test_split"
      ],
      "execution_count": null,
      "outputs": []
    },
    {
      "cell_type": "code",
      "metadata": {
        "id": "T1rHJIud_LIw"
      },
      "source": [
        "# Create a column transformer\n",
        "ct = make_column_transformer(\n",
        "    (MinMaxScaler(), [\"age\", \"bmi\", \"children\"]), # Turn all values in these columns between 0 and 1\n",
        "    (OneHotEncoder(handle_unknown=\"ignore\"), [\"sex\", \"smoker\", \"region\"]) # One hot encode these values and ignore the columns unkown to the OneHotEncoder\n",
        ")\n",
        "\n",
        "\n",
        "# Create X and y values\n",
        "X = insurance.drop(\"charges\", axis=1)\n",
        "y = insurance[\"charges\"]\n",
        "\n",
        "\n",
        "#Build our train and test sets\n",
        "X_train, X_test, y_train, y_test = train_test_split(X, y, test_size=0.2, random_state=42)\n",
        "\n",
        "\n",
        "# Fit the column transformer to only training data\n",
        "ct.fit(X_train)\n",
        "\n",
        "\n",
        "# Transorm training and test data with normalizations (MinMaxScaler) and OneHotEncoder\n",
        "X_train_normal = ct.transform(X_train)\n",
        "X_test_normal = ct.transform(X_test)"
      ],
      "execution_count": null,
      "outputs": []
    },
    {
      "cell_type": "code",
      "metadata": {
        "colab": {
          "base_uri": "https://localhost:8080/"
        },
        "id": "yaguLxLTBO3S",
        "outputId": "3e923748-c2b9-43ed-93db-26aa1264ee83"
      },
      "source": [
        "# What does our data look like now\n",
        "X_train.loc[0]"
      ],
      "execution_count": null,
      "outputs": [
        {
          "output_type": "execute_result",
          "data": {
            "text/plain": [
              "age                19\n",
              "sex            female\n",
              "bmi              27.9\n",
              "children            0\n",
              "smoker            yes\n",
              "region      southwest\n",
              "Name: 0, dtype: object"
            ]
          },
          "metadata": {
            "tags": []
          },
          "execution_count": 123
        }
      ]
    },
    {
      "cell_type": "code",
      "metadata": {
        "colab": {
          "base_uri": "https://localhost:8080/"
        },
        "id": "ckPgYd1SBV-A",
        "outputId": "224c8214-b4fa-44e7-888a-e1ffe55bb395"
      },
      "source": [
        "X_train_normal[0]"
      ],
      "execution_count": null,
      "outputs": [
        {
          "output_type": "execute_result",
          "data": {
            "text/plain": [
              "array([0.60869565, 0.10734463, 0.4       , 1.        , 0.        ,\n",
              "       1.        , 0.        , 0.        , 1.        , 0.        ,\n",
              "       0.        ])"
            ]
          },
          "metadata": {
            "tags": []
          },
          "execution_count": 124
        }
      ]
    },
    {
      "cell_type": "code",
      "metadata": {
        "colab": {
          "base_uri": "https://localhost:8080/"
        },
        "id": "3OrifYUKBXqQ",
        "outputId": "5cf752cf-bc0a-439c-d237-5332e1a15b74"
      },
      "source": [
        "X_train.shape, X_train_normal.shape"
      ],
      "execution_count": null,
      "outputs": [
        {
          "output_type": "execute_result",
          "data": {
            "text/plain": [
              "((1070, 6), (1070, 11))"
            ]
          },
          "metadata": {
            "tags": []
          },
          "execution_count": 125
        }
      ]
    },
    {
      "cell_type": "markdown",
      "metadata": {
        "id": "rNkifUErB1FX"
      },
      "source": [
        "Our data has been normalized and oneHotEncoded\n",
        "\n",
        "So now let's build a neural network to see how it goes"
      ]
    },
    {
      "cell_type": "code",
      "metadata": {
        "id": "XYldVooIB0N9",
        "colab": {
          "base_uri": "https://localhost:8080/"
        },
        "outputId": "f45c491c-0d91-4362-a00f-cb2408d7520c"
      },
      "source": [
        "# set random seed\n",
        "tf.random.set_seed(42)\n",
        "\n",
        "# 1. Create the model\n",
        "insurance_model_5 = tf.keras.Sequential(\n",
        "    [\n",
        "     tf.keras.layers.Dense(100),\n",
        "     tf.keras.layers.Dense(10),\n",
        "     tf.keras.layers.Dense(1)\n",
        "    ]\n",
        ")   ## same as insurance_model_2\n",
        "\n",
        "\n",
        "# 2. Compile the model \n",
        "insurance_model_5.compile(loss=tf.keras.losses.mae,\n",
        "                          optimizer=tf.keras.optimizers.Adam(),\n",
        "                          metrics=[\"mse\"])\n",
        "\n",
        "\n",
        "# 3. Fit the model\n",
        "history_5 = insurance_model_5.fit(X_train_normal, y_train, epochs=100)"
      ],
      "execution_count": null,
      "outputs": [
        {
          "output_type": "stream",
          "text": [
            "Epoch 1/100\n",
            "34/34 [==============================] - 0s 1ms/step - loss: 13296.4671 - mse: 318380876.8000\n",
            "Epoch 2/100\n",
            "34/34 [==============================] - 0s 1ms/step - loss: 12948.4245 - mse: 310344590.6286\n",
            "Epoch 3/100\n",
            "34/34 [==============================] - 0s 1ms/step - loss: 12705.2201 - mse: 296305667.6571\n",
            "Epoch 4/100\n",
            "34/34 [==============================] - 0s 1ms/step - loss: 13369.7395 - mse: 337248675.6571\n",
            "Epoch 5/100\n",
            "34/34 [==============================] - 0s 1ms/step - loss: 13230.8567 - mse: 320948216.6857\n",
            "Epoch 6/100\n",
            "34/34 [==============================] - 0s 1ms/step - loss: 12995.1999 - mse: 320583041.8286\n",
            "Epoch 7/100\n",
            "34/34 [==============================] - 0s 1ms/step - loss: 12876.1059 - mse: 311903779.6571\n",
            "Epoch 8/100\n",
            "34/34 [==============================] - 0s 1ms/step - loss: 13004.0395 - mse: 314339615.0857\n",
            "Epoch 9/100\n",
            "34/34 [==============================] - 0s 2ms/step - loss: 12508.0465 - mse: 296599862.8571\n",
            "Epoch 10/100\n",
            "34/34 [==============================] - 0s 1ms/step - loss: 12304.9941 - mse: 306452384.0000\n",
            "Epoch 11/100\n",
            "34/34 [==============================] - 0s 1ms/step - loss: 12190.6080 - mse: 296710720.9143\n",
            "Epoch 12/100\n",
            "34/34 [==============================] - 0s 1ms/step - loss: 10948.1238 - mse: 260030324.5714\n",
            "Epoch 13/100\n",
            "34/34 [==============================] - 0s 1ms/step - loss: 11033.2710 - mse: 264390430.6286\n",
            "Epoch 14/100\n",
            "34/34 [==============================] - 0s 1ms/step - loss: 10209.3786 - mse: 244286441.6000\n",
            "Epoch 15/100\n",
            "34/34 [==============================] - 0s 1ms/step - loss: 9943.5374 - mse: 233752290.7429\n",
            "Epoch 16/100\n",
            "34/34 [==============================] - 0s 1ms/step - loss: 9393.3773 - mse: 226281433.6000\n",
            "Epoch 17/100\n",
            "34/34 [==============================] - 0s 1ms/step - loss: 8554.0274 - mse: 189788279.7714\n",
            "Epoch 18/100\n",
            "34/34 [==============================] - 0s 1ms/step - loss: 8463.0888 - mse: 191593793.3714\n",
            "Epoch 19/100\n",
            "34/34 [==============================] - 0s 1ms/step - loss: 8238.9919 - mse: 181117698.7429\n",
            "Epoch 20/100\n",
            "34/34 [==============================] - 0s 1ms/step - loss: 7992.1423 - mse: 164709611.4286\n",
            "Epoch 21/100\n",
            "34/34 [==============================] - 0s 1ms/step - loss: 7246.4891 - mse: 141062529.8286\n",
            "Epoch 22/100\n",
            "34/34 [==============================] - 0s 1ms/step - loss: 7520.6745 - mse: 144056744.2286\n",
            "Epoch 23/100\n",
            "34/34 [==============================] - 0s 1ms/step - loss: 7862.2013 - mse: 160466648.2286\n",
            "Epoch 24/100\n",
            "34/34 [==============================] - 0s 1ms/step - loss: 7617.0075 - mse: 150182194.7429\n",
            "Epoch 25/100\n",
            "34/34 [==============================] - 0s 1ms/step - loss: 8118.1869 - mse: 160497839.3143\n",
            "Epoch 26/100\n",
            "34/34 [==============================] - 0s 1ms/step - loss: 7381.5776 - mse: 133454088.0000\n",
            "Epoch 27/100\n",
            "34/34 [==============================] - 0s 2ms/step - loss: 7759.2990 - mse: 143147430.6286\n",
            "Epoch 28/100\n",
            "34/34 [==============================] - 0s 2ms/step - loss: 7961.3148 - mse: 157902253.2571\n",
            "Epoch 29/100\n",
            "34/34 [==============================] - 0s 2ms/step - loss: 7357.1594 - mse: 138128992.9143\n",
            "Epoch 30/100\n",
            "34/34 [==============================] - 0s 1ms/step - loss: 7670.5824 - mse: 142255632.0000\n",
            "Epoch 31/100\n",
            "34/34 [==============================] - 0s 1ms/step - loss: 7833.2158 - mse: 150623848.6857\n",
            "Epoch 32/100\n",
            "34/34 [==============================] - 0s 1ms/step - loss: 7408.4353 - mse: 135470066.2857\n",
            "Epoch 33/100\n",
            "34/34 [==============================] - 0s 1ms/step - loss: 7603.6621 - mse: 141003318.0571\n",
            "Epoch 34/100\n",
            "34/34 [==============================] - 0s 2ms/step - loss: 7385.2734 - mse: 134538534.6286\n",
            "Epoch 35/100\n",
            "34/34 [==============================] - 0s 1ms/step - loss: 7340.4551 - mse: 130734085.0286\n",
            "Epoch 36/100\n",
            "34/34 [==============================] - 0s 1ms/step - loss: 7276.7009 - mse: 130975337.3714\n",
            "Epoch 37/100\n",
            "34/34 [==============================] - 0s 1ms/step - loss: 7342.1807 - mse: 131419861.4857\n",
            "Epoch 38/100\n",
            "34/34 [==============================] - 0s 1ms/step - loss: 6918.2718 - mse: 120257911.7714\n",
            "Epoch 39/100\n",
            "34/34 [==============================] - 0s 1ms/step - loss: 7252.1240 - mse: 131797252.8000\n",
            "Epoch 40/100\n",
            "34/34 [==============================] - 0s 1ms/step - loss: 7029.9498 - mse: 123855642.7429\n",
            "Epoch 41/100\n",
            "34/34 [==============================] - 0s 1ms/step - loss: 6984.8112 - mse: 124917524.5714\n",
            "Epoch 42/100\n",
            "34/34 [==============================] - 0s 1ms/step - loss: 6884.6928 - mse: 120585330.7429\n",
            "Epoch 43/100\n",
            "34/34 [==============================] - 0s 1ms/step - loss: 6755.5828 - mse: 116432128.3429\n",
            "Epoch 44/100\n",
            "34/34 [==============================] - 0s 1ms/step - loss: 6608.4541 - mse: 106924757.2571\n",
            "Epoch 45/100\n",
            "34/34 [==============================] - 0s 1ms/step - loss: 6537.6250 - mse: 108555236.1143\n",
            "Epoch 46/100\n",
            "34/34 [==============================] - 0s 1ms/step - loss: 6454.2749 - mse: 105066895.4286\n",
            "Epoch 47/100\n",
            "34/34 [==============================] - 0s 2ms/step - loss: 6729.0266 - mse: 113820782.8571\n",
            "Epoch 48/100\n",
            "34/34 [==============================] - 0s 1ms/step - loss: 6517.0466 - mse: 106873076.1143\n",
            "Epoch 49/100\n",
            "34/34 [==============================] - 0s 1ms/step - loss: 6209.9380 - mse: 95522760.8000\n",
            "Epoch 50/100\n",
            "34/34 [==============================] - 0s 1ms/step - loss: 6433.2527 - mse: 106050618.5143\n",
            "Epoch 51/100\n",
            "34/34 [==============================] - 0s 1ms/step - loss: 6253.4749 - mse: 101628418.2857\n",
            "Epoch 52/100\n",
            "34/34 [==============================] - 0s 1ms/step - loss: 6122.7599 - mse: 100585695.3143\n",
            "Epoch 53/100\n",
            "34/34 [==============================] - 0s 1ms/step - loss: 5797.8437 - mse: 92608116.8000\n",
            "Epoch 54/100\n",
            "34/34 [==============================] - 0s 1ms/step - loss: 6036.6884 - mse: 97956565.0286\n",
            "Epoch 55/100\n",
            "34/34 [==============================] - 0s 1ms/step - loss: 5688.6436 - mse: 84318271.3143\n",
            "Epoch 56/100\n",
            "34/34 [==============================] - 0s 1ms/step - loss: 5664.2595 - mse: 83792805.9429\n",
            "Epoch 57/100\n",
            "34/34 [==============================] - 0s 1ms/step - loss: 5857.4061 - mse: 93163428.8000\n",
            "Epoch 58/100\n",
            "34/34 [==============================] - 0s 1ms/step - loss: 5509.3852 - mse: 87020738.5143\n",
            "Epoch 59/100\n",
            "34/34 [==============================] - 0s 1ms/step - loss: 5316.6016 - mse: 80165247.8857\n",
            "Epoch 60/100\n",
            "34/34 [==============================] - 0s 1ms/step - loss: 5322.8677 - mse: 78049434.2857\n",
            "Epoch 61/100\n",
            "34/34 [==============================] - 0s 1ms/step - loss: 5458.1975 - mse: 83566045.4857\n",
            "Epoch 62/100\n",
            "34/34 [==============================] - 0s 1ms/step - loss: 5230.6231 - mse: 79763842.7429\n",
            "Epoch 63/100\n",
            "34/34 [==============================] - 0s 1ms/step - loss: 5084.5996 - mse: 78710583.7714\n",
            "Epoch 64/100\n",
            "34/34 [==============================] - 0s 1ms/step - loss: 4677.8217 - mse: 67187149.4857\n",
            "Epoch 65/100\n",
            "34/34 [==============================] - 0s 1ms/step - loss: 4707.1110 - mse: 68871914.1714\n",
            "Epoch 66/100\n",
            "34/34 [==============================] - 0s 2ms/step - loss: 4361.7458 - mse: 62435979.8857\n",
            "Epoch 67/100\n",
            "34/34 [==============================] - 0s 1ms/step - loss: 4333.7879 - mse: 64771604.5714\n",
            "Epoch 68/100\n",
            "34/34 [==============================] - 0s 1ms/step - loss: 4294.6888 - mse: 63879054.0000\n",
            "Epoch 69/100\n",
            "34/34 [==============================] - 0s 1ms/step - loss: 4365.7155 - mse: 64359850.1714\n",
            "Epoch 70/100\n",
            "34/34 [==============================] - 0s 1ms/step - loss: 3931.4924 - mse: 55907516.4571\n",
            "Epoch 71/100\n",
            "34/34 [==============================] - 0s 2ms/step - loss: 4040.8881 - mse: 57658622.7429\n",
            "Epoch 72/100\n",
            "34/34 [==============================] - 0s 1ms/step - loss: 3725.7781 - mse: 52373850.1143\n",
            "Epoch 73/100\n",
            "34/34 [==============================] - 0s 1ms/step - loss: 4041.0183 - mse: 59394313.8286\n",
            "Epoch 74/100\n",
            "34/34 [==============================] - 0s 1ms/step - loss: 3849.4077 - mse: 57345567.7714\n",
            "Epoch 75/100\n",
            "34/34 [==============================] - 0s 1ms/step - loss: 4063.8180 - mse: 59525585.2571\n",
            "Epoch 76/100\n",
            "34/34 [==============================] - 0s 1ms/step - loss: 3594.6083 - mse: 52375666.1714\n",
            "Epoch 77/100\n",
            "34/34 [==============================] - 0s 1ms/step - loss: 3877.1156 - mse: 54338468.3429\n",
            "Epoch 78/100\n",
            "34/34 [==============================] - 0s 1ms/step - loss: 3571.6357 - mse: 51912858.9714\n",
            "Epoch 79/100\n",
            "34/34 [==============================] - 0s 1ms/step - loss: 3272.2002 - mse: 42655153.7714\n",
            "Epoch 80/100\n",
            "34/34 [==============================] - 0s 1ms/step - loss: 3333.3793 - mse: 43306639.5143\n",
            "Epoch 81/100\n",
            "34/34 [==============================] - 0s 1ms/step - loss: 3560.1417 - mse: 48089014.9714\n",
            "Epoch 82/100\n",
            "34/34 [==============================] - 0s 2ms/step - loss: 4082.1635 - mse: 57601600.5714\n",
            "Epoch 83/100\n",
            "34/34 [==============================] - 0s 1ms/step - loss: 3690.6050 - mse: 51258282.8571\n",
            "Epoch 84/100\n",
            "34/34 [==============================] - 0s 2ms/step - loss: 3491.1416 - mse: 46433316.1143\n",
            "Epoch 85/100\n",
            "34/34 [==============================] - 0s 1ms/step - loss: 3196.7644 - mse: 40342121.6857\n",
            "Epoch 86/100\n",
            "34/34 [==============================] - 0s 1ms/step - loss: 3696.4115 - mse: 49422869.1429\n",
            "Epoch 87/100\n",
            "34/34 [==============================] - 0s 1ms/step - loss: 3584.8877 - mse: 48111046.1714\n",
            "Epoch 88/100\n",
            "34/34 [==============================] - 0s 2ms/step - loss: 3717.8066 - mse: 48995893.2571\n",
            "Epoch 89/100\n",
            "34/34 [==============================] - 0s 1ms/step - loss: 3437.4367 - mse: 43132408.6000\n",
            "Epoch 90/100\n",
            "34/34 [==============================] - 0s 1ms/step - loss: 3799.4690 - mse: 48618328.5714\n",
            "Epoch 91/100\n",
            "34/34 [==============================] - 0s 2ms/step - loss: 3660.1360 - mse: 47126048.1143\n",
            "Epoch 92/100\n",
            "34/34 [==============================] - 0s 2ms/step - loss: 3743.4218 - mse: 47458478.1714\n",
            "Epoch 93/100\n",
            "34/34 [==============================] - 0s 1ms/step - loss: 3536.3569 - mse: 44260840.1143\n",
            "Epoch 94/100\n",
            "34/34 [==============================] - 0s 2ms/step - loss: 3439.5847 - mse: 41445688.4571\n",
            "Epoch 95/100\n",
            "34/34 [==============================] - 0s 1ms/step - loss: 3570.7316 - mse: 43474812.2286\n",
            "Epoch 96/100\n",
            "34/34 [==============================] - 0s 1ms/step - loss: 3734.5113 - mse: 47224139.5429\n",
            "Epoch 97/100\n",
            "34/34 [==============================] - 0s 1ms/step - loss: 3444.5726 - mse: 43376364.8000\n",
            "Epoch 98/100\n",
            "34/34 [==============================] - 0s 1ms/step - loss: 3465.0855 - mse: 42104485.8857\n",
            "Epoch 99/100\n",
            "34/34 [==============================] - 0s 1ms/step - loss: 3225.0306 - mse: 38359814.4000\n",
            "Epoch 100/100\n",
            "34/34 [==============================] - 0s 1ms/step - loss: 3421.0633 - mse: 42345848.2857\n"
          ],
          "name": "stdout"
        }
      ]
    },
    {
      "cell_type": "code",
      "metadata": {
        "id": "iPnVVRETBqf3",
        "colab": {
          "base_uri": "https://localhost:8080/"
        },
        "outputId": "29de93f4-1a5b-46da-f40d-069bb9025d7c"
      },
      "source": [
        "# Evaluate our model trained on normalised data\n",
        "\n",
        "insurance_model_5.evaluate(X_test_normal, y_test)"
      ],
      "execution_count": null,
      "outputs": [
        {
          "output_type": "stream",
          "text": [
            "9/9 [==============================] - 0s 1ms/step - loss: 3438.7844 - mse: 41750900.0000\n"
          ],
          "name": "stdout"
        },
        {
          "output_type": "execute_result",
          "data": {
            "text/plain": [
              "[3438.784423828125, 41750900.0]"
            ]
          },
          "metadata": {
            "tags": []
          },
          "execution_count": 131
        }
      ]
    },
    {
      "cell_type": "markdown",
      "metadata": {
        "id": "4tIfLkfT8yeC"
      },
      "source": [
        "#### The insurance model 2 resuts were:\n",
        "\n",
        "loss: 5498.5771 - mse: 83644504.0000\n",
        "\n",
        "\n",
        "#### The insurance model 5 results were:\n",
        "\n",
        "loss: 3438.7844 - mse: 41750900.0000\n",
        "\n",
        "\n",
        "**Hence normalization helps a neural network lean and perform better (our model tends to cenverge faster, though this may not always be true)**\n"
      ]
    },
    {
      "cell_type": "markdown",
      "metadata": {
        "id": "KwBczIX79tnz"
      },
      "source": [
        "### On Own"
      ]
    },
    {
      "cell_type": "markdown",
      "metadata": {
        "id": "hHNhWW4I83vZ"
      },
      "source": [
        "**Experiment 6**"
      ]
    },
    {
      "cell_type": "markdown",
      "metadata": {
        "id": "QsvMKo3F9qi-"
      },
      "source": [
        "pd.DataFrame(history_5.history).plot()\n",
        "plt.ylabel(\"Loss and MSE\")\n",
        "plt.xlabel(\"Epochs\")"
      ]
    },
    {
      "cell_type": "markdown",
      "metadata": {
        "id": "GCMJ7TLz-Zax"
      },
      "source": [
        "Traing for longer (200 epochs)"
      ]
    },
    {
      "cell_type": "code",
      "metadata": {
        "colab": {
          "base_uri": "https://localhost:8080/"
        },
        "id": "2aQJQmqP-ESR",
        "outputId": "d58f92c9-6186-43fe-bdca-005af5ce292a"
      },
      "source": [
        "# set random seed\n",
        "tf.random.set_seed(42)\n",
        "\n",
        "# 1. Create the model\n",
        "insurance_model_6 = tf.keras.Sequential(\n",
        "    [\n",
        "     tf.keras.layers.Dense(100),\n",
        "     tf.keras.layers.Dense(10),\n",
        "     tf.keras.layers.Dense(1)\n",
        "    ]\n",
        ")   ## same as insurance_model_2\n",
        "\n",
        "\n",
        "# 2. Compile the model \n",
        "insurance_model_6.compile(loss=tf.keras.losses.mae,\n",
        "                          optimizer=tf.keras.optimizers.Adam(),\n",
        "                          metrics=[\"mse\"])\n",
        "\n",
        "\n",
        "# 3. Fit the model\n",
        "history_6 = insurance_model_6.fit(X_train_normal, y_train, epochs=200)\n"
      ],
      "execution_count": null,
      "outputs": [
        {
          "output_type": "stream",
          "text": [
            "Epoch 1/200\n",
            "34/34 [==============================] - 0s 1ms/step - loss: 13296.4671 - mse: 318380876.8000\n",
            "Epoch 2/200\n",
            "34/34 [==============================] - 0s 1ms/step - loss: 12948.4245 - mse: 310344590.6286\n",
            "Epoch 3/200\n",
            "34/34 [==============================] - 0s 1ms/step - loss: 12705.2201 - mse: 296305667.6571\n",
            "Epoch 4/200\n",
            "34/34 [==============================] - 0s 1ms/step - loss: 13369.7395 - mse: 337248675.6571\n",
            "Epoch 5/200\n",
            "34/34 [==============================] - 0s 1ms/step - loss: 13230.8567 - mse: 320948216.6857\n",
            "Epoch 6/200\n",
            "34/34 [==============================] - 0s 1ms/step - loss: 12995.1999 - mse: 320583041.8286\n",
            "Epoch 7/200\n",
            "34/34 [==============================] - 0s 1ms/step - loss: 12876.1059 - mse: 311903779.6571\n",
            "Epoch 8/200\n",
            "34/34 [==============================] - 0s 1ms/step - loss: 13004.0395 - mse: 314339615.0857\n",
            "Epoch 9/200\n",
            "34/34 [==============================] - 0s 1ms/step - loss: 12508.0465 - mse: 296599862.8571\n",
            "Epoch 10/200\n",
            "34/34 [==============================] - 0s 1ms/step - loss: 12304.9941 - mse: 306452384.0000\n",
            "Epoch 11/200\n",
            "34/34 [==============================] - 0s 1ms/step - loss: 12190.6080 - mse: 296710720.9143\n",
            "Epoch 12/200\n",
            "34/34 [==============================] - 0s 1ms/step - loss: 10948.1238 - mse: 260030324.5714\n",
            "Epoch 13/200\n",
            "34/34 [==============================] - 0s 1ms/step - loss: 11033.2710 - mse: 264390430.6286\n",
            "Epoch 14/200\n",
            "34/34 [==============================] - 0s 1ms/step - loss: 10209.3786 - mse: 244286441.6000\n",
            "Epoch 15/200\n",
            "34/34 [==============================] - 0s 1ms/step - loss: 9943.5374 - mse: 233752290.7429\n",
            "Epoch 16/200\n",
            "34/34 [==============================] - 0s 1ms/step - loss: 9393.3773 - mse: 226281433.6000\n",
            "Epoch 17/200\n",
            "34/34 [==============================] - 0s 1ms/step - loss: 8554.0274 - mse: 189788279.7714\n",
            "Epoch 18/200\n",
            "34/34 [==============================] - 0s 1ms/step - loss: 8463.0888 - mse: 191593793.3714\n",
            "Epoch 19/200\n",
            "34/34 [==============================] - 0s 1ms/step - loss: 8238.9919 - mse: 181117698.7429\n",
            "Epoch 20/200\n",
            "34/34 [==============================] - 0s 1ms/step - loss: 7992.1423 - mse: 164709611.4286\n",
            "Epoch 21/200\n",
            "34/34 [==============================] - 0s 1ms/step - loss: 7246.4891 - mse: 141062529.8286\n",
            "Epoch 22/200\n",
            "34/34 [==============================] - 0s 1ms/step - loss: 7520.6745 - mse: 144056744.2286\n",
            "Epoch 23/200\n",
            "34/34 [==============================] - 0s 2ms/step - loss: 7862.2013 - mse: 160466648.2286\n",
            "Epoch 24/200\n",
            "34/34 [==============================] - 0s 1ms/step - loss: 7617.0075 - mse: 150182194.7429\n",
            "Epoch 25/200\n",
            "34/34 [==============================] - 0s 1ms/step - loss: 8118.1869 - mse: 160497839.3143\n",
            "Epoch 26/200\n",
            "34/34 [==============================] - 0s 1ms/step - loss: 7381.5776 - mse: 133454088.0000\n",
            "Epoch 27/200\n",
            "34/34 [==============================] - 0s 1ms/step - loss: 7759.2990 - mse: 143147430.6286\n",
            "Epoch 28/200\n",
            "34/34 [==============================] - 0s 2ms/step - loss: 7961.3148 - mse: 157902253.2571\n",
            "Epoch 29/200\n",
            "34/34 [==============================] - 0s 1ms/step - loss: 7357.1594 - mse: 138128992.9143\n",
            "Epoch 30/200\n",
            "34/34 [==============================] - 0s 1ms/step - loss: 7670.5824 - mse: 142255632.0000\n",
            "Epoch 31/200\n",
            "34/34 [==============================] - 0s 1ms/step - loss: 7833.2158 - mse: 150623848.6857\n",
            "Epoch 32/200\n",
            "34/34 [==============================] - 0s 1ms/step - loss: 7408.4353 - mse: 135470066.2857\n",
            "Epoch 33/200\n",
            "34/34 [==============================] - 0s 1ms/step - loss: 7603.6621 - mse: 141003318.0571\n",
            "Epoch 34/200\n",
            "34/34 [==============================] - 0s 1ms/step - loss: 7385.2734 - mse: 134538534.6286\n",
            "Epoch 35/200\n",
            "34/34 [==============================] - 0s 1ms/step - loss: 7340.4551 - mse: 130734085.0286\n",
            "Epoch 36/200\n",
            "34/34 [==============================] - 0s 1ms/step - loss: 7276.7009 - mse: 130975337.3714\n",
            "Epoch 37/200\n",
            "34/34 [==============================] - 0s 1ms/step - loss: 7342.1807 - mse: 131419861.4857\n",
            "Epoch 38/200\n",
            "34/34 [==============================] - 0s 1ms/step - loss: 6918.2718 - mse: 120257911.7714\n",
            "Epoch 39/200\n",
            "34/34 [==============================] - 0s 1ms/step - loss: 7252.1240 - mse: 131797252.8000\n",
            "Epoch 40/200\n",
            "34/34 [==============================] - 0s 1ms/step - loss: 7029.9498 - mse: 123855642.7429\n",
            "Epoch 41/200\n",
            "34/34 [==============================] - 0s 1ms/step - loss: 6984.8112 - mse: 124917524.5714\n",
            "Epoch 42/200\n",
            "34/34 [==============================] - 0s 1ms/step - loss: 6884.6928 - mse: 120585330.7429\n",
            "Epoch 43/200\n",
            "34/34 [==============================] - 0s 1ms/step - loss: 6755.5828 - mse: 116432128.3429\n",
            "Epoch 44/200\n",
            "34/34 [==============================] - 0s 1ms/step - loss: 6608.4541 - mse: 106924757.2571\n",
            "Epoch 45/200\n",
            "34/34 [==============================] - 0s 1ms/step - loss: 6537.6250 - mse: 108555236.1143\n",
            "Epoch 46/200\n",
            "34/34 [==============================] - 0s 2ms/step - loss: 6454.2749 - mse: 105066895.4286\n",
            "Epoch 47/200\n",
            "34/34 [==============================] - 0s 2ms/step - loss: 6729.0266 - mse: 113820782.8571\n",
            "Epoch 48/200\n",
            "34/34 [==============================] - 0s 2ms/step - loss: 6517.0466 - mse: 106873076.1143\n",
            "Epoch 49/200\n",
            "34/34 [==============================] - 0s 1ms/step - loss: 6209.9380 - mse: 95522760.8000\n",
            "Epoch 50/200\n",
            "34/34 [==============================] - 0s 1ms/step - loss: 6433.2527 - mse: 106050618.5143\n",
            "Epoch 51/200\n",
            "34/34 [==============================] - 0s 1ms/step - loss: 6253.4749 - mse: 101628418.2857\n",
            "Epoch 52/200\n",
            "34/34 [==============================] - 0s 1ms/step - loss: 6122.7599 - mse: 100585695.3143\n",
            "Epoch 53/200\n",
            "34/34 [==============================] - 0s 1ms/step - loss: 5797.8437 - mse: 92608116.8000\n",
            "Epoch 54/200\n",
            "34/34 [==============================] - 0s 1ms/step - loss: 6036.6884 - mse: 97956565.0286\n",
            "Epoch 55/200\n",
            "34/34 [==============================] - 0s 1ms/step - loss: 5688.6436 - mse: 84318271.3143\n",
            "Epoch 56/200\n",
            "34/34 [==============================] - 0s 1ms/step - loss: 5664.2595 - mse: 83792805.9429\n",
            "Epoch 57/200\n",
            "34/34 [==============================] - 0s 1ms/step - loss: 5857.4061 - mse: 93163428.8000\n",
            "Epoch 58/200\n",
            "34/34 [==============================] - 0s 1ms/step - loss: 5509.3852 - mse: 87020738.5143\n",
            "Epoch 59/200\n",
            "34/34 [==============================] - 0s 1ms/step - loss: 5316.6016 - mse: 80165247.8857\n",
            "Epoch 60/200\n",
            "34/34 [==============================] - 0s 1ms/step - loss: 5322.8677 - mse: 78049434.2857\n",
            "Epoch 61/200\n",
            "34/34 [==============================] - 0s 1ms/step - loss: 5458.1975 - mse: 83566045.4857\n",
            "Epoch 62/200\n",
            "34/34 [==============================] - 0s 1ms/step - loss: 5230.6231 - mse: 79763842.7429\n",
            "Epoch 63/200\n",
            "34/34 [==============================] - 0s 1ms/step - loss: 5084.5996 - mse: 78710583.7714\n",
            "Epoch 64/200\n",
            "34/34 [==============================] - 0s 1ms/step - loss: 4677.8217 - mse: 67187149.4857\n",
            "Epoch 65/200\n",
            "34/34 [==============================] - 0s 1ms/step - loss: 4707.1110 - mse: 68871914.1714\n",
            "Epoch 66/200\n",
            "34/34 [==============================] - 0s 2ms/step - loss: 4361.7458 - mse: 62435979.8857\n",
            "Epoch 67/200\n",
            "34/34 [==============================] - 0s 1ms/step - loss: 4333.7879 - mse: 64771604.5714\n",
            "Epoch 68/200\n",
            "34/34 [==============================] - 0s 1ms/step - loss: 4294.6888 - mse: 63879054.0000\n",
            "Epoch 69/200\n",
            "34/34 [==============================] - 0s 1ms/step - loss: 4365.7155 - mse: 64359850.1714\n",
            "Epoch 70/200\n",
            "34/34 [==============================] - 0s 1ms/step - loss: 3931.4924 - mse: 55907516.4571\n",
            "Epoch 71/200\n",
            "34/34 [==============================] - 0s 1ms/step - loss: 4040.8881 - mse: 57658622.7429\n",
            "Epoch 72/200\n",
            "34/34 [==============================] - 0s 1ms/step - loss: 3725.7781 - mse: 52373850.1143\n",
            "Epoch 73/200\n",
            "34/34 [==============================] - 0s 1ms/step - loss: 4041.0183 - mse: 59394313.8286\n",
            "Epoch 74/200\n",
            "34/34 [==============================] - 0s 1ms/step - loss: 3849.4077 - mse: 57345567.7714\n",
            "Epoch 75/200\n",
            "34/34 [==============================] - 0s 1ms/step - loss: 4063.8180 - mse: 59525585.2571\n",
            "Epoch 76/200\n",
            "34/34 [==============================] - 0s 1ms/step - loss: 3594.6083 - mse: 52375666.1714\n",
            "Epoch 77/200\n",
            "34/34 [==============================] - 0s 1ms/step - loss: 3877.1156 - mse: 54338468.3429\n",
            "Epoch 78/200\n",
            "34/34 [==============================] - 0s 1ms/step - loss: 3571.6357 - mse: 51912858.9714\n",
            "Epoch 79/200\n",
            "34/34 [==============================] - 0s 1ms/step - loss: 3272.2002 - mse: 42655153.7714\n",
            "Epoch 80/200\n",
            "34/34 [==============================] - 0s 1ms/step - loss: 3333.3793 - mse: 43306639.5143\n",
            "Epoch 81/200\n",
            "34/34 [==============================] - 0s 1ms/step - loss: 3560.1417 - mse: 48089014.9714\n",
            "Epoch 82/200\n",
            "34/34 [==============================] - 0s 1ms/step - loss: 4082.1635 - mse: 57601600.5714\n",
            "Epoch 83/200\n",
            "34/34 [==============================] - 0s 1ms/step - loss: 3690.6050 - mse: 51258282.8571\n",
            "Epoch 84/200\n",
            "34/34 [==============================] - 0s 1ms/step - loss: 3491.1416 - mse: 46433316.1143\n",
            "Epoch 85/200\n",
            "34/34 [==============================] - 0s 2ms/step - loss: 3196.7644 - mse: 40342121.6857\n",
            "Epoch 86/200\n",
            "34/34 [==============================] - 0s 1ms/step - loss: 3696.4115 - mse: 49422869.1429\n",
            "Epoch 87/200\n",
            "34/34 [==============================] - 0s 1ms/step - loss: 3584.8877 - mse: 48111046.1714\n",
            "Epoch 88/200\n",
            "34/34 [==============================] - 0s 1ms/step - loss: 3717.8066 - mse: 48995893.2571\n",
            "Epoch 89/200\n",
            "34/34 [==============================] - 0s 1ms/step - loss: 3437.4367 - mse: 43132408.6000\n",
            "Epoch 90/200\n",
            "34/34 [==============================] - 0s 1ms/step - loss: 3799.4690 - mse: 48618328.5714\n",
            "Epoch 91/200\n",
            "34/34 [==============================] - 0s 1ms/step - loss: 3660.1360 - mse: 47126048.1143\n",
            "Epoch 92/200\n",
            "34/34 [==============================] - 0s 1ms/step - loss: 3743.4218 - mse: 47458478.1714\n",
            "Epoch 93/200\n",
            "34/34 [==============================] - 0s 1ms/step - loss: 3536.3569 - mse: 44260840.1143\n",
            "Epoch 94/200\n",
            "34/34 [==============================] - 0s 1ms/step - loss: 3439.5847 - mse: 41445688.4571\n",
            "Epoch 95/200\n",
            "34/34 [==============================] - 0s 1ms/step - loss: 3570.7316 - mse: 43474812.2286\n",
            "Epoch 96/200\n",
            "34/34 [==============================] - 0s 1ms/step - loss: 3734.5113 - mse: 47224139.5429\n",
            "Epoch 97/200\n",
            "34/34 [==============================] - 0s 1ms/step - loss: 3444.5726 - mse: 43376364.8000\n",
            "Epoch 98/200\n",
            "34/34 [==============================] - 0s 1ms/step - loss: 3465.0855 - mse: 42104485.8857\n",
            "Epoch 99/200\n",
            "34/34 [==============================] - 0s 1ms/step - loss: 3225.0306 - mse: 38359814.4000\n",
            "Epoch 100/200\n",
            "34/34 [==============================] - 0s 1ms/step - loss: 3421.0633 - mse: 42345848.2857\n",
            "Epoch 101/200\n",
            "34/34 [==============================] - 0s 1ms/step - loss: 3517.1330 - mse: 43867268.8000\n",
            "Epoch 102/200\n",
            "34/34 [==============================] - 0s 1ms/step - loss: 3469.4836 - mse: 42353523.2571\n",
            "Epoch 103/200\n",
            "34/34 [==============================] - 0s 1ms/step - loss: 3250.2655 - mse: 38279333.4857\n",
            "Epoch 104/200\n",
            "34/34 [==============================] - 0s 1ms/step - loss: 3700.7695 - mse: 45766326.5143\n",
            "Epoch 105/200\n",
            "34/34 [==============================] - 0s 1ms/step - loss: 3445.0967 - mse: 42238511.3143\n",
            "Epoch 106/200\n",
            "34/34 [==============================] - 0s 1ms/step - loss: 3625.0304 - mse: 44467051.4286\n",
            "Epoch 107/200\n",
            "34/34 [==============================] - 0s 1ms/step - loss: 3781.3223 - mse: 45856984.4571\n",
            "Epoch 108/200\n",
            "34/34 [==============================] - 0s 1ms/step - loss: 3602.7861 - mse: 43737532.4571\n",
            "Epoch 109/200\n",
            "34/34 [==============================] - 0s 1ms/step - loss: 3813.4994 - mse: 46430691.5429\n",
            "Epoch 110/200\n",
            "34/34 [==============================] - 0s 1ms/step - loss: 3938.7635 - mse: 52367454.2857\n",
            "Epoch 111/200\n",
            "34/34 [==============================] - 0s 1ms/step - loss: 3809.7050 - mse: 48836537.4857\n",
            "Epoch 112/200\n",
            "34/34 [==============================] - 0s 1ms/step - loss: 3549.6470 - mse: 41645689.3714\n",
            "Epoch 113/200\n",
            "34/34 [==============================] - 0s 1ms/step - loss: 3577.8367 - mse: 43423490.9143\n",
            "Epoch 114/200\n",
            "34/34 [==============================] - 0s 1ms/step - loss: 3748.3028 - mse: 44683664.0000\n",
            "Epoch 115/200\n",
            "34/34 [==============================] - 0s 1ms/step - loss: 3593.5401 - mse: 43391098.5143\n",
            "Epoch 116/200\n",
            "34/34 [==============================] - 0s 1ms/step - loss: 3820.6377 - mse: 46710607.6571\n",
            "Epoch 117/200\n",
            "34/34 [==============================] - 0s 1ms/step - loss: 3539.3738 - mse: 43230493.9429\n",
            "Epoch 118/200\n",
            "34/34 [==============================] - 0s 1ms/step - loss: 3555.8816 - mse: 42619556.6857\n",
            "Epoch 119/200\n",
            "34/34 [==============================] - 0s 1ms/step - loss: 3674.5828 - mse: 44195043.2000\n",
            "Epoch 120/200\n",
            "34/34 [==============================] - 0s 1ms/step - loss: 3811.3651 - mse: 48649445.7143\n",
            "Epoch 121/200\n",
            "34/34 [==============================] - 0s 1ms/step - loss: 3819.3294 - mse: 45747241.6000\n",
            "Epoch 122/200\n",
            "34/34 [==============================] - 0s 1ms/step - loss: 3608.0817 - mse: 42147429.1429\n",
            "Epoch 123/200\n",
            "34/34 [==============================] - 0s 2ms/step - loss: 3486.8072 - mse: 41785900.1143\n",
            "Epoch 124/200\n",
            "34/34 [==============================] - 0s 1ms/step - loss: 3441.4100 - mse: 39692989.6000\n",
            "Epoch 125/200\n",
            "34/34 [==============================] - 0s 1ms/step - loss: 3706.9875 - mse: 43073600.3429\n",
            "Epoch 126/200\n",
            "34/34 [==============================] - 0s 1ms/step - loss: 3593.7843 - mse: 42810254.6286\n",
            "Epoch 127/200\n",
            "34/34 [==============================] - 0s 1ms/step - loss: 3648.6152 - mse: 41603139.3143\n",
            "Epoch 128/200\n",
            "34/34 [==============================] - 0s 1ms/step - loss: 3572.3610 - mse: 42687564.8000\n",
            "Epoch 129/200\n",
            "34/34 [==============================] - 0s 1ms/step - loss: 3729.5496 - mse: 45877343.6571\n",
            "Epoch 130/200\n",
            "34/34 [==============================] - 0s 1ms/step - loss: 3588.1818 - mse: 42357784.9143\n",
            "Epoch 131/200\n",
            "34/34 [==============================] - 0s 1ms/step - loss: 3475.3162 - mse: 40357950.2857\n",
            "Epoch 132/200\n",
            "34/34 [==============================] - 0s 1ms/step - loss: 3823.5051 - mse: 45617702.4000\n",
            "Epoch 133/200\n",
            "34/34 [==============================] - 0s 1ms/step - loss: 3732.0922 - mse: 42210710.2857\n",
            "Epoch 134/200\n",
            "34/34 [==============================] - 0s 1ms/step - loss: 3716.7578 - mse: 44610544.0571\n",
            "Epoch 135/200\n",
            "34/34 [==============================] - 0s 1ms/step - loss: 3573.0931 - mse: 40853547.7714\n",
            "Epoch 136/200\n",
            "34/34 [==============================] - 0s 2ms/step - loss: 3544.5514 - mse: 42126896.1143\n",
            "Epoch 137/200\n",
            "34/34 [==============================] - 0s 1ms/step - loss: 3437.4868 - mse: 40322714.8000\n",
            "Epoch 138/200\n",
            "34/34 [==============================] - 0s 1ms/step - loss: 3784.2825 - mse: 44836328.3429\n",
            "Epoch 139/200\n",
            "34/34 [==============================] - 0s 1ms/step - loss: 3460.7203 - mse: 39857968.4000\n",
            "Epoch 140/200\n",
            "34/34 [==============================] - 0s 1ms/step - loss: 3598.6389 - mse: 42648214.9143\n",
            "Epoch 141/200\n",
            "34/34 [==============================] - 0s 2ms/step - loss: 3864.1043 - mse: 46446240.4571\n",
            "Epoch 142/200\n",
            "34/34 [==============================] - 0s 1ms/step - loss: 3498.1294 - mse: 41151350.8571\n",
            "Epoch 143/200\n",
            "34/34 [==============================] - 0s 2ms/step - loss: 3564.5137 - mse: 41595026.0571\n",
            "Epoch 144/200\n",
            "34/34 [==============================] - 0s 2ms/step - loss: 3703.2495 - mse: 41722926.2857\n",
            "Epoch 145/200\n",
            "34/34 [==============================] - 0s 1ms/step - loss: 3854.3524 - mse: 47460328.3429\n",
            "Epoch 146/200\n",
            "34/34 [==============================] - 0s 1ms/step - loss: 3622.4136 - mse: 42179055.6571\n",
            "Epoch 147/200\n",
            "34/34 [==============================] - 0s 1ms/step - loss: 3641.0513 - mse: 42606212.9143\n",
            "Epoch 148/200\n",
            "34/34 [==============================] - 0s 1ms/step - loss: 3532.8311 - mse: 42231991.2571\n",
            "Epoch 149/200\n",
            "34/34 [==============================] - 0s 1ms/step - loss: 3385.0244 - mse: 40421563.8857\n",
            "Epoch 150/200\n",
            "34/34 [==============================] - 0s 1ms/step - loss: 3696.7608 - mse: 44437343.3143\n",
            "Epoch 151/200\n",
            "34/34 [==============================] - 0s 1ms/step - loss: 3627.8620 - mse: 42719651.5429\n",
            "Epoch 152/200\n",
            "34/34 [==============================] - 0s 1ms/step - loss: 3510.4276 - mse: 41873134.8571\n",
            "Epoch 153/200\n",
            "34/34 [==============================] - 0s 1ms/step - loss: 3455.5456 - mse: 40009519.8857\n",
            "Epoch 154/200\n",
            "34/34 [==============================] - 0s 2ms/step - loss: 3713.6941 - mse: 45130830.9714\n",
            "Epoch 155/200\n",
            "34/34 [==============================] - 0s 2ms/step - loss: 3461.3574 - mse: 41073119.2000\n",
            "Epoch 156/200\n",
            "34/34 [==============================] - 0s 1ms/step - loss: 3421.8293 - mse: 40843408.7714\n",
            "Epoch 157/200\n",
            "34/34 [==============================] - 0s 1ms/step - loss: 3363.8608 - mse: 38756664.1143\n",
            "Epoch 158/200\n",
            "34/34 [==============================] - 0s 2ms/step - loss: 3645.1772 - mse: 43662641.2571\n",
            "Epoch 159/200\n",
            "34/34 [==============================] - 0s 2ms/step - loss: 3499.4921 - mse: 41235681.0286\n",
            "Epoch 160/200\n",
            "34/34 [==============================] - 0s 1ms/step - loss: 3570.0786 - mse: 43347927.3143\n",
            "Epoch 161/200\n",
            "34/34 [==============================] - 0s 1ms/step - loss: 3474.6564 - mse: 41680476.2857\n",
            "Epoch 162/200\n",
            "34/34 [==============================] - 0s 1ms/step - loss: 3583.9840 - mse: 44911946.6286\n",
            "Epoch 163/200\n",
            "34/34 [==============================] - 0s 1ms/step - loss: 3390.4246 - mse: 39990964.2286\n",
            "Epoch 164/200\n",
            "34/34 [==============================] - 0s 1ms/step - loss: 3523.7625 - mse: 42930899.7714\n",
            "Epoch 165/200\n",
            "34/34 [==============================] - 0s 1ms/step - loss: 3437.2412 - mse: 39571552.3429\n",
            "Epoch 166/200\n",
            "34/34 [==============================] - 0s 1ms/step - loss: 3674.9150 - mse: 44706644.0000\n",
            "Epoch 167/200\n",
            "34/34 [==============================] - 0s 2ms/step - loss: 3747.5737 - mse: 47046420.3429\n",
            "Epoch 168/200\n",
            "34/34 [==============================] - 0s 2ms/step - loss: 3649.0250 - mse: 44110287.8286\n",
            "Epoch 169/200\n",
            "34/34 [==============================] - 0s 2ms/step - loss: 3444.5445 - mse: 41155928.9714\n",
            "Epoch 170/200\n",
            "34/34 [==============================] - 0s 1ms/step - loss: 3792.1792 - mse: 48528764.2286\n",
            "Epoch 171/200\n",
            "34/34 [==============================] - 0s 2ms/step - loss: 3566.9012 - mse: 42513042.8571\n",
            "Epoch 172/200\n",
            "34/34 [==============================] - 0s 1ms/step - loss: 3626.4796 - mse: 44618677.8286\n",
            "Epoch 173/200\n",
            "34/34 [==============================] - 0s 1ms/step - loss: 3667.2072 - mse: 47709941.0286\n",
            "Epoch 174/200\n",
            "34/34 [==============================] - 0s 1ms/step - loss: 3446.7307 - mse: 42278311.3143\n",
            "Epoch 175/200\n",
            "34/34 [==============================] - 0s 1ms/step - loss: 3701.3114 - mse: 46844388.4571\n",
            "Epoch 176/200\n",
            "34/34 [==============================] - 0s 2ms/step - loss: 3674.0581 - mse: 46340821.7143\n",
            "Epoch 177/200\n",
            "34/34 [==============================] - 0s 1ms/step - loss: 3545.1567 - mse: 44123643.7714\n",
            "Epoch 178/200\n",
            "34/34 [==============================] - 0s 1ms/step - loss: 3716.4467 - mse: 48094017.1429\n",
            "Epoch 179/200\n",
            "34/34 [==============================] - 0s 1ms/step - loss: 3275.6703 - mse: 40301159.7714\n",
            "Epoch 180/200\n",
            "34/34 [==============================] - 0s 1ms/step - loss: 3729.8278 - mse: 48132265.9429\n",
            "Epoch 181/200\n",
            "34/34 [==============================] - 0s 1ms/step - loss: 3744.1501 - mse: 48596768.3429\n",
            "Epoch 182/200\n",
            "34/34 [==============================] - 0s 1ms/step - loss: 3588.6823 - mse: 45251771.4286\n",
            "Epoch 183/200\n",
            "34/34 [==============================] - 0s 1ms/step - loss: 3335.0692 - mse: 42014073.7714\n",
            "Epoch 184/200\n",
            "34/34 [==============================] - 0s 1ms/step - loss: 3391.9103 - mse: 42913157.3714\n",
            "Epoch 185/200\n",
            "34/34 [==============================] - 0s 1ms/step - loss: 3315.4241 - mse: 41194895.3143\n",
            "Epoch 186/200\n",
            "34/34 [==============================] - 0s 1ms/step - loss: 3637.4945 - mse: 47018404.8000\n",
            "Epoch 187/200\n",
            "34/34 [==============================] - 0s 1ms/step - loss: 3639.0855 - mse: 47608582.5143\n",
            "Epoch 188/200\n",
            "34/34 [==============================] - 0s 1ms/step - loss: 3529.6314 - mse: 45611357.0286\n",
            "Epoch 189/200\n",
            "34/34 [==============================] - 0s 2ms/step - loss: 3285.8571 - mse: 42368632.4000\n",
            "Epoch 190/200\n",
            "34/34 [==============================] - 0s 2ms/step - loss: 3579.1661 - mse: 46990814.6286\n",
            "Epoch 191/200\n",
            "34/34 [==============================] - 0s 1ms/step - loss: 3425.1023 - mse: 44782787.0857\n",
            "Epoch 192/200\n",
            "34/34 [==============================] - 0s 1ms/step - loss: 3375.7011 - mse: 43549353.2571\n",
            "Epoch 193/200\n",
            "34/34 [==============================] - 0s 1ms/step - loss: 3411.6138 - mse: 44875929.4857\n",
            "Epoch 194/200\n",
            "34/34 [==============================] - 0s 1ms/step - loss: 3680.5513 - mse: 49241569.4857\n",
            "Epoch 195/200\n",
            "34/34 [==============================] - 0s 2ms/step - loss: 3362.7700 - mse: 44839688.2286\n",
            "Epoch 196/200\n",
            "34/34 [==============================] - 0s 1ms/step - loss: 3333.7771 - mse: 43555099.2000\n",
            "Epoch 197/200\n",
            "34/34 [==============================] - 0s 1ms/step - loss: 3654.9051 - mse: 50207570.6286\n",
            "Epoch 198/200\n",
            "34/34 [==============================] - 0s 1ms/step - loss: 3230.2733 - mse: 43266037.4857\n",
            "Epoch 199/200\n",
            "34/34 [==============================] - 0s 1ms/step - loss: 3548.0952 - mse: 48548251.8857\n",
            "Epoch 200/200\n",
            "34/34 [==============================] - 0s 1ms/step - loss: 3667.0548 - mse: 52120389.6000\n"
          ],
          "name": "stdout"
        }
      ]
    },
    {
      "cell_type": "code",
      "metadata": {
        "colab": {
          "base_uri": "https://localhost:8080/"
        },
        "id": "q5Zn65rZ-dcs",
        "outputId": "2361e110-65b9-45ff-b292-2f0ce3add4ab"
      },
      "source": [
        "insurance_model_6.evaluate(X_test_normal, y_test)"
      ],
      "execution_count": null,
      "outputs": [
        {
          "output_type": "stream",
          "text": [
            "9/9 [==============================] - 0s 2ms/step - loss: 3171.7632 - mse: 41703396.0000\n"
          ],
          "name": "stdout"
        },
        {
          "output_type": "execute_result",
          "data": {
            "text/plain": [
              "[3171.76318359375, 41703396.0]"
            ]
          },
          "metadata": {
            "tags": []
          },
          "execution_count": 135
        }
      ]
    },
    {
      "cell_type": "code",
      "metadata": {
        "colab": {
          "base_uri": "https://localhost:8080/",
          "height": 307
        },
        "id": "4x6cdHT--nvD",
        "outputId": "308ac847-d958-4dd9-d993-ac8557db3b64"
      },
      "source": [
        "pd.DataFrame(history_6.history).plot()\n",
        "plt.ylabel(\"Loss and MSE\")\n",
        "plt.xlabel(\"Epochs\")"
      ],
      "execution_count": null,
      "outputs": [
        {
          "output_type": "execute_result",
          "data": {
            "text/plain": [
              "Text(0.5, 0, 'Epochs')"
            ]
          },
          "metadata": {
            "tags": []
          },
          "execution_count": 136
        },
        {
          "output_type": "display_data",
          "data": {
            "image/png": "[encoded data removed]",
            "text/plain": [
              "<Figure size 432x288 with 1 Axes>"
            ]
          },
          "metadata": {
            "tags": [],
            "needs_background": "light"
          }
        }
      ]
    },
    {
      "cell_type": "markdown",
      "metadata": {
        "id": "h9NeFktZ-y6O"
      },
      "source": [
        "**Experiment 7**\n",
        "\n",
        "Training on normal data for experiment 4"
      ]
    },
    {
      "cell_type": "code",
      "metadata": {
        "colab": {
          "base_uri": "https://localhost:8080/"
        },
        "id": "V81Remqu-xKX",
        "outputId": "7d9c3b60-8308-45a7-da92-1c5dbaa25e90"
      },
      "source": [
        "# Set random seed\n",
        "tf.random.set_seed(42)\n",
        "\n",
        "# 1. create a model\n",
        "insurance_model_7 = tf.keras.Sequential(\n",
        "    layers=[\n",
        "            tf.keras.layers.Dense(100, activation='relu'),\n",
        "            tf.keras.layers.Dense(50, activation='relu'),\n",
        "            tf.keras.layers.Dense(25),\n",
        "            tf.keras.layers.Dense(10, activation='relu'),\n",
        "            tf.keras.layers.Dense(1),\n",
        "    ]\n",
        ")\n",
        "\n",
        "# 2. Compile a model\n",
        "insurance_model_7.compile(loss=tf.keras.losses.mae,\n",
        "                          optimizer=tf.keras.optimizers.Adam(),\n",
        "                          metrics=[\"mse\"])\n",
        "\n",
        "\n",
        "# 3. Fit the model\n",
        "history_7 = insurance_model_7.fit(X_train_normal, y_train, epochs=200)"
      ],
      "execution_count": null,
      "outputs": [
        {
          "output_type": "stream",
          "text": [
            "Epoch 1/200\n",
            "34/34 [==============================] - 1s 2ms/step - loss: 13297.9118 - mse: 318415827.2000\n",
            "Epoch 2/200\n",
            "34/34 [==============================] - 0s 1ms/step - loss: 12943.8145 - mse: 310205125.4857\n",
            "Epoch 3/200\n",
            "34/34 [==============================] - 0s 1ms/step - loss: 12568.4287 - mse: 292597121.3714\n",
            "Epoch 4/200\n",
            "34/34 [==============================] - 0s 2ms/step - loss: 12279.3642 - mse: 308886042.5143\n",
            "Epoch 5/200\n",
            "34/34 [==============================] - 0s 2ms/step - loss: 9362.6399 - mse: 214942236.8000\n",
            "Epoch 6/200\n",
            "34/34 [==============================] - 0s 2ms/step - loss: 8020.8592 - mse: 156386234.9714\n",
            "Epoch 7/200\n",
            "34/34 [==============================] - 0s 2ms/step - loss: 7691.3889 - mse: 144957630.6286\n",
            "Epoch 8/200\n",
            "34/34 [==============================] - 0s 1ms/step - loss: 7526.1201 - mse: 138278185.1429\n",
            "Epoch 9/200\n",
            "34/34 [==============================] - 0s 2ms/step - loss: 7169.2090 - mse: 123828205.2571\n",
            "Epoch 10/200\n",
            "34/34 [==============================] - 0s 1ms/step - loss: 7046.8453 - mse: 124767151.0857\n",
            "Epoch 11/200\n",
            "34/34 [==============================] - 0s 1ms/step - loss: 6729.1116 - mse: 109601804.3429\n",
            "Epoch 12/200\n",
            "34/34 [==============================] - 0s 1ms/step - loss: 5896.8958 - mse: 89767609.6000\n",
            "Epoch 13/200\n",
            "34/34 [==============================] - 0s 1ms/step - loss: 5264.3871 - mse: 76442151.7714\n",
            "Epoch 14/200\n",
            "34/34 [==============================] - 0s 1ms/step - loss: 4511.7135 - mse: 63085787.3143\n",
            "Epoch 15/200\n",
            "34/34 [==============================] - 0s 2ms/step - loss: 4158.0972 - mse: 55102030.9714\n",
            "Epoch 16/200\n",
            "34/34 [==============================] - 0s 1ms/step - loss: 3798.2233 - mse: 50088806.6286\n",
            "Epoch 17/200\n",
            "34/34 [==============================] - 0s 1ms/step - loss: 3328.5367 - mse: 40969478.4000\n",
            "Epoch 18/200\n",
            "34/34 [==============================] - 0s 1ms/step - loss: 3238.9183 - mse: 41481177.2571\n",
            "Epoch 19/200\n",
            "34/34 [==============================] - 0s 2ms/step - loss: 3302.2352 - mse: 39553152.4000\n",
            "Epoch 20/200\n",
            "34/34 [==============================] - 0s 2ms/step - loss: 3329.8282 - mse: 44096251.6571\n",
            "Epoch 21/200\n",
            "34/34 [==============================] - 0s 1ms/step - loss: 3064.5265 - mse: 41042784.7429\n",
            "Epoch 22/200\n",
            "34/34 [==============================] - 0s 1ms/step - loss: 3062.9484 - mse: 41408087.7714\n",
            "Epoch 23/200\n",
            "34/34 [==============================] - 0s 1ms/step - loss: 3119.3514 - mse: 45464722.9143\n",
            "Epoch 24/200\n",
            "34/34 [==============================] - 0s 1ms/step - loss: 2941.5442 - mse: 43496027.1143\n",
            "Epoch 25/200\n",
            "34/34 [==============================] - 0s 2ms/step - loss: 3558.0706 - mse: 52317778.6286\n",
            "Epoch 26/200\n",
            "34/34 [==============================] - 0s 2ms/step - loss: 3201.7057 - mse: 46926371.4286\n",
            "Epoch 27/200\n",
            "34/34 [==============================] - 0s 2ms/step - loss: 3437.7165 - mse: 52007799.3143\n",
            "Epoch 28/200\n",
            "34/34 [==============================] - 0s 1ms/step - loss: 3258.6553 - mse: 47579627.0857\n",
            "Epoch 29/200\n",
            "34/34 [==============================] - 0s 1ms/step - loss: 3020.7290 - mse: 43968441.7714\n",
            "Epoch 30/200\n",
            "34/34 [==============================] - 0s 2ms/step - loss: 3395.0834 - mse: 50845334.8571\n",
            "Epoch 31/200\n",
            "34/34 [==============================] - 0s 1ms/step - loss: 3171.8122 - mse: 46670730.6286\n",
            "Epoch 32/200\n",
            "34/34 [==============================] - 0s 2ms/step - loss: 3181.5225 - mse: 46926115.6571\n",
            "Epoch 33/200\n",
            "34/34 [==============================] - 0s 2ms/step - loss: 3276.4374 - mse: 49397980.4571\n",
            "Epoch 34/200\n",
            "34/34 [==============================] - 0s 1ms/step - loss: 3067.7509 - mse: 44595720.6857\n",
            "Epoch 35/200\n",
            "34/34 [==============================] - 0s 1ms/step - loss: 3234.7719 - mse: 46921977.4857\n",
            "Epoch 36/200\n",
            "34/34 [==============================] - 0s 1ms/step - loss: 3199.7784 - mse: 46039486.5143\n",
            "Epoch 37/200\n",
            "34/34 [==============================] - 0s 2ms/step - loss: 3301.4151 - mse: 49092272.0000\n",
            "Epoch 38/200\n",
            "34/34 [==============================] - 0s 1ms/step - loss: 3212.6998 - mse: 49095670.5143\n",
            "Epoch 39/200\n",
            "34/34 [==============================] - 0s 1ms/step - loss: 3259.7166 - mse: 48003341.6000\n",
            "Epoch 40/200\n",
            "34/34 [==============================] - 0s 2ms/step - loss: 3204.4395 - mse: 46437567.4286\n",
            "Epoch 41/200\n",
            "34/34 [==============================] - 0s 2ms/step - loss: 2926.5217 - mse: 43060328.9714\n",
            "Epoch 42/200\n",
            "34/34 [==============================] - 0s 2ms/step - loss: 3152.3836 - mse: 46366371.0857\n",
            "Epoch 43/200\n",
            "34/34 [==============================] - 0s 2ms/step - loss: 3221.5887 - mse: 46724937.8286\n",
            "Epoch 44/200\n",
            "34/34 [==============================] - 0s 2ms/step - loss: 2989.8047 - mse: 43928783.6571\n",
            "Epoch 45/200\n",
            "34/34 [==============================] - 0s 2ms/step - loss: 3064.9225 - mse: 44210479.8857\n",
            "Epoch 46/200\n",
            "34/34 [==============================] - 0s 2ms/step - loss: 2924.3715 - mse: 43960036.0286\n",
            "Epoch 47/200\n",
            "34/34 [==============================] - 0s 2ms/step - loss: 3204.3025 - mse: 48600782.6286\n",
            "Epoch 48/200\n",
            "34/34 [==============================] - 0s 2ms/step - loss: 3077.1259 - mse: 44764365.9429\n",
            "Epoch 49/200\n",
            "34/34 [==============================] - 0s 1ms/step - loss: 3407.8999 - mse: 50376001.8286\n",
            "Epoch 50/200\n",
            "34/34 [==============================] - 0s 1ms/step - loss: 2941.8133 - mse: 42586521.8857\n",
            "Epoch 51/200\n",
            "34/34 [==============================] - 0s 1ms/step - loss: 2956.8271 - mse: 42965092.1714\n",
            "Epoch 52/200\n",
            "34/34 [==============================] - 0s 2ms/step - loss: 2971.1573 - mse: 43192893.7714\n",
            "Epoch 53/200\n",
            "34/34 [==============================] - 0s 1ms/step - loss: 3027.5065 - mse: 44930994.2857\n",
            "Epoch 54/200\n",
            "34/34 [==============================] - 0s 2ms/step - loss: 3054.4432 - mse: 45099350.8000\n",
            "Epoch 55/200\n",
            "34/34 [==============================] - 0s 2ms/step - loss: 3110.8088 - mse: 44020104.5714\n",
            "Epoch 56/200\n",
            "34/34 [==============================] - 0s 2ms/step - loss: 3146.9477 - mse: 45077942.7429\n",
            "Epoch 57/200\n",
            "34/34 [==============================] - 0s 1ms/step - loss: 3198.4169 - mse: 47514358.4000\n",
            "Epoch 58/200\n",
            "34/34 [==============================] - 0s 2ms/step - loss: 3035.8459 - mse: 43238900.9143\n",
            "Epoch 59/200\n",
            "34/34 [==============================] - 0s 2ms/step - loss: 2643.3862 - mse: 37149933.0857\n",
            "Epoch 60/200\n",
            "34/34 [==============================] - 0s 2ms/step - loss: 3080.3469 - mse: 44634074.9714\n",
            "Epoch 61/200\n",
            "34/34 [==============================] - 0s 1ms/step - loss: 2992.4028 - mse: 41665270.7429\n",
            "Epoch 62/200\n",
            "34/34 [==============================] - 0s 1ms/step - loss: 3163.6136 - mse: 45883774.0571\n",
            "Epoch 63/200\n",
            "34/34 [==============================] - 0s 2ms/step - loss: 2999.9022 - mse: 43210605.3714\n",
            "Epoch 64/200\n",
            "34/34 [==============================] - 0s 2ms/step - loss: 3067.5292 - mse: 44635390.5714\n",
            "Epoch 65/200\n",
            "34/34 [==============================] - 0s 2ms/step - loss: 2990.8112 - mse: 42452843.3714\n",
            "Epoch 66/200\n",
            "34/34 [==============================] - 0s 1ms/step - loss: 2839.8190 - mse: 38617048.9143\n",
            "Epoch 67/200\n",
            "34/34 [==============================] - 0s 1ms/step - loss: 3119.9284 - mse: 44765134.0571\n",
            "Epoch 68/200\n",
            "34/34 [==============================] - 0s 1ms/step - loss: 3107.0376 - mse: 44911661.8286\n",
            "Epoch 69/200\n",
            "34/34 [==============================] - 0s 1ms/step - loss: 2953.4788 - mse: 39793726.6286\n",
            "Epoch 70/200\n",
            "34/34 [==============================] - 0s 2ms/step - loss: 2781.7522 - mse: 38783775.0857\n",
            "Epoch 71/200\n",
            "34/34 [==============================] - 0s 1ms/step - loss: 2942.4982 - mse: 39784669.9429\n",
            "Epoch 72/200\n",
            "34/34 [==============================] - 0s 2ms/step - loss: 2945.6847 - mse: 41007702.1143\n",
            "Epoch 73/200\n",
            "34/34 [==============================] - 0s 2ms/step - loss: 3152.1800 - mse: 44399776.9143\n",
            "Epoch 74/200\n",
            "34/34 [==============================] - 0s 2ms/step - loss: 2969.4635 - mse: 41352339.5429\n",
            "Epoch 75/200\n",
            "34/34 [==============================] - 0s 1ms/step - loss: 3032.7159 - mse: 42142984.5714\n",
            "Epoch 76/200\n",
            "34/34 [==============================] - 0s 1ms/step - loss: 2811.2127 - mse: 38672920.4571\n",
            "Epoch 77/200\n",
            "34/34 [==============================] - 0s 2ms/step - loss: 3004.1864 - mse: 40191752.3429\n",
            "Epoch 78/200\n",
            "34/34 [==============================] - 0s 2ms/step - loss: 3015.7557 - mse: 43675345.1429\n",
            "Epoch 79/200\n",
            "34/34 [==============================] - 0s 2ms/step - loss: 2920.5096 - mse: 40158327.3143\n",
            "Epoch 80/200\n",
            "34/34 [==============================] - 0s 2ms/step - loss: 2759.6306 - mse: 37603480.6286\n",
            "Epoch 81/200\n",
            "34/34 [==============================] - 0s 2ms/step - loss: 2761.7816 - mse: 37612440.8571\n",
            "Epoch 82/200\n",
            "34/34 [==============================] - 0s 2ms/step - loss: 3156.5291 - mse: 44016960.9143\n",
            "Epoch 83/200\n",
            "34/34 [==============================] - 0s 2ms/step - loss: 2801.6267 - mse: 38171176.5143\n",
            "Epoch 84/200\n",
            "34/34 [==============================] - 0s 1ms/step - loss: 2545.0553 - mse: 33588101.5143\n",
            "Epoch 85/200\n",
            "34/34 [==============================] - 0s 1ms/step - loss: 2565.3111 - mse: 32719325.0857\n",
            "Epoch 86/200\n",
            "34/34 [==============================] - 0s 2ms/step - loss: 2860.1021 - mse: 38115426.8000\n",
            "Epoch 87/200\n",
            "34/34 [==============================] - 0s 2ms/step - loss: 2836.5886 - mse: 38563595.4857\n",
            "Epoch 88/200\n",
            "34/34 [==============================] - 0s 2ms/step - loss: 2919.3123 - mse: 39077151.2000\n",
            "Epoch 89/200\n",
            "34/34 [==============================] - 0s 1ms/step - loss: 2611.9206 - mse: 34016481.0286\n",
            "Epoch 90/200\n",
            "34/34 [==============================] - 0s 1ms/step - loss: 2914.9739 - mse: 38093697.0286\n",
            "Epoch 91/200\n",
            "34/34 [==============================] - 0s 2ms/step - loss: 2849.4877 - mse: 37369401.7143\n",
            "Epoch 92/200\n",
            "34/34 [==============================] - 0s 2ms/step - loss: 2902.0388 - mse: 37225587.3714\n",
            "Epoch 93/200\n",
            "34/34 [==============================] - 0s 1ms/step - loss: 2884.1051 - mse: 37258355.8857\n",
            "Epoch 94/200\n",
            "34/34 [==============================] - 0s 1ms/step - loss: 2648.4554 - mse: 33826482.0571\n",
            "Epoch 95/200\n",
            "34/34 [==============================] - 0s 2ms/step - loss: 2608.1728 - mse: 33009084.2286\n",
            "Epoch 96/200\n",
            "34/34 [==============================] - 0s 2ms/step - loss: 2597.7571 - mse: 34237368.9714\n",
            "Epoch 97/200\n",
            "34/34 [==============================] - 0s 1ms/step - loss: 2557.8267 - mse: 33191205.1429\n",
            "Epoch 98/200\n",
            "34/34 [==============================] - 0s 2ms/step - loss: 2731.2609 - mse: 35199285.5429\n",
            "Epoch 99/200\n",
            "34/34 [==============================] - 0s 2ms/step - loss: 2442.9779 - mse: 31706872.2000\n",
            "Epoch 100/200\n",
            "34/34 [==============================] - 0s 1ms/step - loss: 2514.2803 - mse: 32869448.2857\n",
            "Epoch 101/200\n",
            "34/34 [==============================] - 0s 2ms/step - loss: 2541.2741 - mse: 33567412.4571\n",
            "Epoch 102/200\n",
            "34/34 [==============================] - 0s 1ms/step - loss: 2663.8485 - mse: 35479033.8286\n",
            "Epoch 103/200\n",
            "34/34 [==============================] - 0s 2ms/step - loss: 2357.7257 - mse: 29743901.1429\n",
            "Epoch 104/200\n",
            "34/34 [==============================] - 0s 2ms/step - loss: 2689.8387 - mse: 36194026.1714\n",
            "Epoch 105/200\n",
            "34/34 [==============================] - 0s 2ms/step - loss: 2683.4502 - mse: 35468458.8571\n",
            "Epoch 106/200\n",
            "34/34 [==============================] - 0s 2ms/step - loss: 2576.6623 - mse: 33897206.1143\n",
            "Epoch 107/200\n",
            "34/34 [==============================] - 0s 2ms/step - loss: 2758.2748 - mse: 35901483.2571\n",
            "Epoch 108/200\n",
            "34/34 [==============================] - 0s 1ms/step - loss: 2601.4417 - mse: 33484415.8286\n",
            "Epoch 109/200\n",
            "34/34 [==============================] - 0s 2ms/step - loss: 2574.1714 - mse: 33603301.1429\n",
            "Epoch 110/200\n",
            "34/34 [==============================] - 0s 1ms/step - loss: 2861.8283 - mse: 40390885.7143\n",
            "Epoch 111/200\n",
            "34/34 [==============================] - 0s 2ms/step - loss: 2837.6508 - mse: 38798567.8857\n",
            "Epoch 112/200\n",
            "34/34 [==============================] - 0s 2ms/step - loss: 2485.7113 - mse: 30686061.7714\n",
            "Epoch 113/200\n",
            "34/34 [==============================] - 0s 2ms/step - loss: 2478.2484 - mse: 32959839.9429\n",
            "Epoch 114/200\n",
            "34/34 [==============================] - 0s 2ms/step - loss: 2638.6831 - mse: 33705325.3714\n",
            "Epoch 115/200\n",
            "34/34 [==============================] - 0s 2ms/step - loss: 2380.5743 - mse: 30527207.6571\n",
            "Epoch 116/200\n",
            "34/34 [==============================] - 0s 1ms/step - loss: 2673.5191 - mse: 35731230.2857\n",
            "Epoch 117/200\n",
            "34/34 [==============================] - 0s 1ms/step - loss: 2400.1436 - mse: 33435883.8286\n",
            "Epoch 118/200\n",
            "34/34 [==============================] - 0s 2ms/step - loss: 2324.6656 - mse: 30678540.4571\n",
            "Epoch 119/200\n",
            "34/34 [==============================] - 0s 2ms/step - loss: 2515.7655 - mse: 33079230.5714\n",
            "Epoch 120/200\n",
            "34/34 [==============================] - 0s 2ms/step - loss: 2718.7325 - mse: 38471693.7714\n",
            "Epoch 121/200\n",
            "34/34 [==============================] - 0s 2ms/step - loss: 2625.6094 - mse: 35639298.4000\n",
            "Epoch 122/200\n",
            "34/34 [==============================] - 0s 2ms/step - loss: 2368.6329 - mse: 30549843.9429\n",
            "Epoch 123/200\n",
            "34/34 [==============================] - 0s 2ms/step - loss: 2340.2690 - mse: 31725353.9429\n",
            "Epoch 124/200\n",
            "34/34 [==============================] - 0s 2ms/step - loss: 2214.1143 - mse: 29050706.8000\n",
            "Epoch 125/200\n",
            "34/34 [==============================] - 0s 2ms/step - loss: 2391.9525 - mse: 31455955.7429\n",
            "Epoch 126/200\n",
            "34/34 [==============================] - 0s 2ms/step - loss: 2505.0403 - mse: 34294524.3429\n",
            "Epoch 127/200\n",
            "34/34 [==============================] - 0s 1ms/step - loss: 2333.6566 - mse: 30666419.2571\n",
            "Epoch 128/200\n",
            "34/34 [==============================] - 0s 1ms/step - loss: 2426.8543 - mse: 33034547.2571\n",
            "Epoch 129/200\n",
            "34/34 [==============================] - 0s 2ms/step - loss: 2510.4817 - mse: 35289617.4286\n",
            "Epoch 130/200\n",
            "34/34 [==============================] - 0s 2ms/step - loss: 2396.2787 - mse: 32478772.0571\n",
            "Epoch 131/200\n",
            "34/34 [==============================] - 0s 2ms/step - loss: 2205.3492 - mse: 29775154.2857\n",
            "Epoch 132/200\n",
            "34/34 [==============================] - 0s 2ms/step - loss: 2635.3708 - mse: 35907799.5429\n",
            "Epoch 133/200\n",
            "34/34 [==============================] - 0s 2ms/step - loss: 2283.5473 - mse: 29114662.1429\n",
            "Epoch 134/200\n",
            "34/34 [==============================] - 0s 2ms/step - loss: 2360.9426 - mse: 32049769.8857\n",
            "Epoch 135/200\n",
            "34/34 [==============================] - 0s 2ms/step - loss: 2140.2401 - mse: 27730991.2571\n",
            "Epoch 136/200\n",
            "34/34 [==============================] - 0s 2ms/step - loss: 2392.1210 - mse: 32411758.8571\n",
            "Epoch 137/200\n",
            "34/34 [==============================] - 0s 2ms/step - loss: 2133.7714 - mse: 28927168.8571\n",
            "Epoch 138/200\n",
            "34/34 [==============================] - 0s 2ms/step - loss: 2458.4764 - mse: 33854455.4857\n",
            "Epoch 139/200\n",
            "34/34 [==============================] - 0s 1ms/step - loss: 2173.4144 - mse: 28714741.8286\n",
            "Epoch 140/200\n",
            "34/34 [==============================] - 0s 1ms/step - loss: 2373.5213 - mse: 31871305.1714\n",
            "Epoch 141/200\n",
            "34/34 [==============================] - 0s 1ms/step - loss: 2503.1055 - mse: 33956472.8000\n",
            "Epoch 142/200\n",
            "34/34 [==============================] - 0s 2ms/step - loss: 2225.6704 - mse: 29201589.9429\n",
            "Epoch 143/200\n",
            "34/34 [==============================] - 0s 2ms/step - loss: 2068.9097 - mse: 26885760.3429\n",
            "Epoch 144/200\n",
            "34/34 [==============================] - 0s 1ms/step - loss: 2231.0129 - mse: 26825288.0000\n",
            "Epoch 145/200\n",
            "34/34 [==============================] - 0s 2ms/step - loss: 2439.8979 - mse: 33496652.4000\n",
            "Epoch 146/200\n",
            "34/34 [==============================] - 0s 2ms/step - loss: 2437.6033 - mse: 31900875.2571\n",
            "Epoch 147/200\n",
            "34/34 [==============================] - 0s 2ms/step - loss: 2328.7375 - mse: 30852438.2857\n",
            "Epoch 148/200\n",
            "34/34 [==============================] - 0s 2ms/step - loss: 2249.4524 - mse: 29731103.8857\n",
            "Epoch 149/200\n",
            "34/34 [==============================] - 0s 2ms/step - loss: 2085.2410 - mse: 27924359.7143\n",
            "Epoch 150/200\n",
            "34/34 [==============================] - 0s 2ms/step - loss: 2354.2838 - mse: 31191528.8286\n",
            "Epoch 151/200\n",
            "34/34 [==============================] - 0s 1ms/step - loss: 2149.9250 - mse: 27568537.1429\n",
            "Epoch 152/200\n",
            "34/34 [==============================] - 0s 1ms/step - loss: 2240.6784 - mse: 29389115.2000\n",
            "Epoch 153/200\n",
            "34/34 [==============================] - 0s 1ms/step - loss: 2194.8978 - mse: 28570594.6857\n",
            "Epoch 154/200\n",
            "34/34 [==============================] - 0s 2ms/step - loss: 2206.2945 - mse: 28888968.4571\n",
            "Epoch 155/200\n",
            "34/34 [==============================] - 0s 1ms/step - loss: 2011.8226 - mse: 25720550.0571\n",
            "Epoch 156/200\n",
            "34/34 [==============================] - 0s 1ms/step - loss: 1943.2278 - mse: 24959580.1571\n",
            "Epoch 157/200\n",
            "34/34 [==============================] - 0s 2ms/step - loss: 1932.1009 - mse: 23836046.6000\n",
            "Epoch 158/200\n",
            "34/34 [==============================] - 0s 2ms/step - loss: 2300.1751 - mse: 29544614.4000\n",
            "Epoch 159/200\n",
            "34/34 [==============================] - 0s 2ms/step - loss: 2136.9134 - mse: 27103983.7143\n",
            "Epoch 160/200\n",
            "34/34 [==============================] - 0s 2ms/step - loss: 2234.0927 - mse: 29663884.8000\n",
            "Epoch 161/200\n",
            "34/34 [==============================] - 0s 2ms/step - loss: 2224.1857 - mse: 28917816.8571\n",
            "Epoch 162/200\n",
            "34/34 [==============================] - 0s 2ms/step - loss: 2101.5984 - mse: 28360493.2571\n",
            "Epoch 163/200\n",
            "34/34 [==============================] - 0s 2ms/step - loss: 1947.0428 - mse: 24007961.9429\n",
            "Epoch 164/200\n",
            "34/34 [==============================] - 0s 2ms/step - loss: 2069.6734 - mse: 26914776.8000\n",
            "Epoch 165/200\n",
            "34/34 [==============================] - 0s 1ms/step - loss: 1966.0156 - mse: 23729386.3071\n",
            "Epoch 166/200\n",
            "34/34 [==============================] - 0s 2ms/step - loss: 2129.1492 - mse: 27097433.8857\n",
            "Epoch 167/200\n",
            "34/34 [==============================] - 0s 2ms/step - loss: 2263.9295 - mse: 30673966.7429\n",
            "Epoch 168/200\n",
            "34/34 [==============================] - 0s 1ms/step - loss: 2197.9692 - mse: 27808357.2571\n",
            "Epoch 169/200\n",
            "34/34 [==============================] - 0s 2ms/step - loss: 1932.3379 - mse: 23764487.3429\n",
            "Epoch 170/200\n",
            "34/34 [==============================] - 0s 2ms/step - loss: 2186.6045 - mse: 29289206.3429\n",
            "Epoch 171/200\n",
            "34/34 [==============================] - 0s 2ms/step - loss: 1979.0122 - mse: 23041829.6571\n",
            "Epoch 172/200\n",
            "34/34 [==============================] - 0s 1ms/step - loss: 2164.3786 - mse: 27073705.3143\n",
            "Epoch 173/200\n",
            "34/34 [==============================] - 0s 1ms/step - loss: 2202.9835 - mse: 30217929.6000\n",
            "Epoch 174/200\n",
            "34/34 [==============================] - 0s 1ms/step - loss: 2062.3465 - mse: 25750239.1429\n",
            "Epoch 175/200\n",
            "34/34 [==============================] - 0s 2ms/step - loss: 2069.7397 - mse: 25567946.2857\n",
            "Epoch 176/200\n",
            "34/34 [==============================] - 0s 2ms/step - loss: 1964.2357 - mse: 25290996.9714\n",
            "Epoch 177/200\n",
            "34/34 [==============================] - 0s 2ms/step - loss: 2081.0336 - mse: 26385873.9143\n",
            "Epoch 178/200\n",
            "34/34 [==============================] - 0s 1ms/step - loss: 2043.9726 - mse: 26447040.7714\n",
            "Epoch 179/200\n",
            "34/34 [==============================] - 0s 2ms/step - loss: 1927.1392 - mse: 24159539.2000\n",
            "Epoch 180/200\n",
            "34/34 [==============================] - 0s 2ms/step - loss: 2236.5716 - mse: 28749781.9429\n",
            "Epoch 181/200\n",
            "34/34 [==============================] - 0s 2ms/step - loss: 2133.1579 - mse: 27142272.5143\n",
            "Epoch 182/200\n",
            "34/34 [==============================] - 0s 2ms/step - loss: 2058.9193 - mse: 25593114.9857\n",
            "Epoch 183/200\n",
            "34/34 [==============================] - 0s 2ms/step - loss: 1940.2442 - mse: 24200855.0286\n",
            "Epoch 184/200\n",
            "34/34 [==============================] - 0s 1ms/step - loss: 1881.7832 - mse: 23568192.2286\n",
            "Epoch 185/200\n",
            "34/34 [==============================] - 0s 2ms/step - loss: 1915.0069 - mse: 23461367.4571\n",
            "Epoch 186/200\n",
            "34/34 [==============================] - 0s 2ms/step - loss: 2095.2688 - mse: 25726351.4857\n",
            "Epoch 187/200\n",
            "34/34 [==============================] - 0s 2ms/step - loss: 2172.6456 - mse: 27885064.4000\n",
            "Epoch 188/200\n",
            "34/34 [==============================] - 0s 2ms/step - loss: 2010.1692 - mse: 25135550.6857\n",
            "Epoch 189/200\n",
            "34/34 [==============================] - 0s 2ms/step - loss: 1889.9716 - mse: 24883286.6000\n",
            "Epoch 190/200\n",
            "34/34 [==============================] - 0s 2ms/step - loss: 2034.2194 - mse: 25483207.6000\n",
            "Epoch 191/200\n",
            "34/34 [==============================] - 0s 2ms/step - loss: 2038.2195 - mse: 26066533.0857\n",
            "Epoch 192/200\n",
            "34/34 [==============================] - 0s 2ms/step - loss: 1910.9712 - mse: 23717997.7714\n",
            "Epoch 193/200\n",
            "34/34 [==============================] - 0s 2ms/step - loss: 1937.6139 - mse: 24352115.0286\n",
            "Epoch 194/200\n",
            "34/34 [==============================] - 0s 2ms/step - loss: 2110.2145 - mse: 26943879.2000\n",
            "Epoch 195/200\n",
            "34/34 [==============================] - 0s 2ms/step - loss: 1675.5362 - mse: 20763714.6143\n",
            "Epoch 196/200\n",
            "34/34 [==============================] - 0s 2ms/step - loss: 1985.2189 - mse: 24922885.6857\n",
            "Epoch 197/200\n",
            "34/34 [==============================] - 0s 1ms/step - loss: 2184.6579 - mse: 28827740.6286\n",
            "Epoch 198/200\n",
            "34/34 [==============================] - 0s 2ms/step - loss: 1970.7167 - mse: 25766163.8286\n",
            "Epoch 199/200\n",
            "34/34 [==============================] - 0s 2ms/step - loss: 1958.3352 - mse: 24999848.9714\n",
            "Epoch 200/200\n",
            "34/34 [==============================] - 0s 2ms/step - loss: 2203.0183 - mse: 30020081.8286\n"
          ],
          "name": "stdout"
        }
      ]
    },
    {
      "cell_type": "code",
      "metadata": {
        "colab": {
          "base_uri": "https://localhost:8080/",
          "height": 580
        },
        "id": "R-cYrkR2_Was",
        "outputId": "3570ceb5-e2f6-495a-c3f7-bb7f3a210392"
      },
      "source": [
        "pd.DataFrame(history_7.history).plot()\n",
        "plt.ylabel(\"Loss and MSE\")\n",
        "plt.xlabel(\"Epochs Experiment 7\")\n",
        "pd.DataFrame(history_4.history).plot()\n",
        "plt.ylabel(\"Loss and MSE\")\n",
        "plt.xlabel(\"Epochs  Experiment 4\")"
      ],
      "execution_count": null,
      "outputs": [
        {
          "output_type": "execute_result",
          "data": {
            "text/plain": [
              "Text(0.5, 0, 'Epochs  Experiment 4')"
            ]
          },
          "metadata": {
            "tags": []
          },
          "execution_count": 140
        },
        {
          "output_type": "display_data",
          "data": {
            "image/png": "[encoded data removed]",
            "text/plain": [
              "<Figure size 432x288 with 1 Axes>"
            ]
          },
          "metadata": {
            "tags": [],
            "needs_background": "light"
          }
        },
        {
          "output_type": "display_data",
          "data": {
            "image/png": "[encoded data removed]",
            "text/plain": [
              "<Figure size 432x288 with 1 Axes>"
            ]
          },
          "metadata": {
            "tags": [],
            "needs_background": "light"
          }
        }
      ]
    },
    {
      "cell_type": "code",
      "metadata": {
        "colab": {
          "base_uri": "https://localhost:8080/"
        },
        "id": "7j5nP02I_f7w",
        "outputId": "147bf183-67b7-4839-cb52-a502c0832b80"
      },
      "source": [
        "eval_model_7 = insurance_model_7.evaluate(X_test_normal, y_test)\n",
        "eval_model_7[0], eval_model_7[1]"
      ],
      "execution_count": null,
      "outputs": [
        {
          "output_type": "stream",
          "text": [
            "9/9 [==============================] - 0s 2ms/step - loss: 1776.2266 - mse: 21049296.0000\n"
          ],
          "name": "stdout"
        },
        {
          "output_type": "execute_result",
          "data": {
            "text/plain": [
              "(1776.2265625, 21049296.0)"
            ]
          },
          "metadata": {
            "tags": []
          },
          "execution_count": 152
        }
      ]
    },
    {
      "cell_type": "markdown",
      "metadata": {
        "id": "vhC451Gw_0M_"
      },
      "source": [
        "The above 2 plots show that using normalization the model converged faster"
      ]
    },
    {
      "cell_type": "markdown",
      "metadata": {
        "id": "mS8RACiSILBR"
      },
      "source": [
        "<br>\n",
        "<br>\n",
        "<br>\n",
        "<br>\n",
        "<br>\n",
        "<br>\n",
        "<br>\n",
        "<br>\n",
        "\n",
        "\n",
        "#### **On own experimentation**"
      ]
    },
    {
      "cell_type": "code",
      "metadata": {
        "colab": {
          "base_uri": "https://localhost:8080/",
          "height": 402
        },
        "id": "RovAEeu8E9Gj",
        "outputId": "75bea0ee-f4c5-4b58-afb7-219a50af0ed2"
      },
      "source": [
        "X"
      ],
      "execution_count": null,
      "outputs": [
        {
          "output_type": "execute_result",
          "data": {
            "text/html": [
              "<div>\n",
              "<style scoped>\n",
              "    .dataframe tbody tr th:only-of-type {\n",
              "        vertical-align: middle;\n",
              "    }\n",
              "\n",
              "    .dataframe tbody tr th {\n",
              "        vertical-align: top;\n",
              "    }\n",
              "\n",
              "    .dataframe thead th {\n",
              "        text-align: right;\n",
              "    }\n",
              "</style>\n",
              "<table border=\"1\" class=\"dataframe\">\n",
              "  <thead>\n",
              "    <tr style=\"text-align: right;\">\n",
              "      <th></th>\n",
              "      <th>age</th>\n",
              "      <th>sex</th>\n",
              "      <th>bmi</th>\n",
              "      <th>children</th>\n",
              "      <th>smoker</th>\n",
              "      <th>region</th>\n",
              "    </tr>\n",
              "  </thead>\n",
              "  <tbody>\n",
              "    <tr>\n",
              "      <th>0</th>\n",
              "      <td>19</td>\n",
              "      <td>female</td>\n",
              "      <td>27.900</td>\n",
              "      <td>0</td>\n",
              "      <td>yes</td>\n",
              "      <td>southwest</td>\n",
              "    </tr>\n",
              "    <tr>\n",
              "      <th>1</th>\n",
              "      <td>18</td>\n",
              "      <td>male</td>\n",
              "      <td>33.770</td>\n",
              "      <td>1</td>\n",
              "      <td>no</td>\n",
              "      <td>southeast</td>\n",
              "    </tr>\n",
              "    <tr>\n",
              "      <th>2</th>\n",
              "      <td>28</td>\n",
              "      <td>male</td>\n",
              "      <td>33.000</td>\n",
              "      <td>3</td>\n",
              "      <td>no</td>\n",
              "      <td>southeast</td>\n",
              "    </tr>\n",
              "    <tr>\n",
              "      <th>3</th>\n",
              "      <td>33</td>\n",
              "      <td>male</td>\n",
              "      <td>22.705</td>\n",
              "      <td>0</td>\n",
              "      <td>no</td>\n",
              "      <td>northwest</td>\n",
              "    </tr>\n",
              "    <tr>\n",
              "      <th>4</th>\n",
              "      <td>32</td>\n",
              "      <td>male</td>\n",
              "      <td>28.880</td>\n",
              "      <td>0</td>\n",
              "      <td>no</td>\n",
              "      <td>northwest</td>\n",
              "    </tr>\n",
              "    <tr>\n",
              "      <th>...</th>\n",
              "      <td>...</td>\n",
              "      <td>...</td>\n",
              "      <td>...</td>\n",
              "      <td>...</td>\n",
              "      <td>...</td>\n",
              "      <td>...</td>\n",
              "    </tr>\n",
              "    <tr>\n",
              "      <th>1333</th>\n",
              "      <td>50</td>\n",
              "      <td>male</td>\n",
              "      <td>30.970</td>\n",
              "      <td>3</td>\n",
              "      <td>no</td>\n",
              "      <td>northwest</td>\n",
              "    </tr>\n",
              "    <tr>\n",
              "      <th>1334</th>\n",
              "      <td>18</td>\n",
              "      <td>female</td>\n",
              "      <td>31.920</td>\n",
              "      <td>0</td>\n",
              "      <td>no</td>\n",
              "      <td>northeast</td>\n",
              "    </tr>\n",
              "    <tr>\n",
              "      <th>1335</th>\n",
              "      <td>18</td>\n",
              "      <td>female</td>\n",
              "      <td>36.850</td>\n",
              "      <td>0</td>\n",
              "      <td>no</td>\n",
              "      <td>southeast</td>\n",
              "    </tr>\n",
              "    <tr>\n",
              "      <th>1336</th>\n",
              "      <td>21</td>\n",
              "      <td>female</td>\n",
              "      <td>25.800</td>\n",
              "      <td>0</td>\n",
              "      <td>no</td>\n",
              "      <td>southwest</td>\n",
              "    </tr>\n",
              "    <tr>\n",
              "      <th>1337</th>\n",
              "      <td>61</td>\n",
              "      <td>female</td>\n",
              "      <td>29.070</td>\n",
              "      <td>0</td>\n",
              "      <td>yes</td>\n",
              "      <td>northwest</td>\n",
              "    </tr>\n",
              "  </tbody>\n",
              "</table>\n",
              "<p>1338 rows × 6 columns</p>\n",
              "</div>"
            ],
            "text/plain": [
              "      age     sex     bmi  children smoker     region\n",
              "0      19  female  27.900         0    yes  southwest\n",
              "1      18    male  33.770         1     no  southeast\n",
              "2      28    male  33.000         3     no  southeast\n",
              "3      33    male  22.705         0     no  northwest\n",
              "4      32    male  28.880         0     no  northwest\n",
              "...   ...     ...     ...       ...    ...        ...\n",
              "1333   50    male  30.970         3     no  northwest\n",
              "1334   18  female  31.920         0     no  northeast\n",
              "1335   18  female  36.850         0     no  southeast\n",
              "1336   21  female  25.800         0     no  southwest\n",
              "1337   61  female  29.070         0    yes  northwest\n",
              "\n",
              "[1338 rows x 6 columns]"
            ]
          },
          "metadata": {
            "tags": []
          },
          "execution_count": 153
        }
      ]
    },
    {
      "cell_type": "code",
      "metadata": {
        "id": "W-gbAo46E9_f"
      },
      "source": [
        "from sklearn.compose import make_column_transformer\n",
        "from sklearn.preprocessing import MinMaxScaler, OneHotEncoder\n",
        "from sklearn.model_selection import train_test_split"
      ],
      "execution_count": null,
      "outputs": []
    },
    {
      "cell_type": "code",
      "metadata": {
        "id": "wHvw9Cr-FW0w"
      },
      "source": [
        "col_tran = make_column_transformer(\n",
        "    (MinMaxScaler(), [\"age\", \"bmi\", \"children\"]),\n",
        "    (OneHotEncoder(handle_unknown='error', drop='first'), [\"sex\", \"smoker\", \"region\"])\n",
        ")"
      ],
      "execution_count": null,
      "outputs": []
    },
    {
      "cell_type": "code",
      "metadata": {
        "id": "DqOqNFRJGopX"
      },
      "source": [
        "xtrain, xtest, ytrain, ytest = train_test_split(X,y,test_size=0.2, random_state=42)"
      ],
      "execution_count": null,
      "outputs": []
    },
    {
      "cell_type": "code",
      "metadata": {
        "colab": {
          "base_uri": "https://localhost:8080/",
          "height": 402
        },
        "id": "csEBbmEoGpgM",
        "outputId": "6b37ae13-2207-4a93-9331-d8e8f90f6bf8"
      },
      "source": [
        "xtrain"
      ],
      "execution_count": null,
      "outputs": [
        {
          "output_type": "execute_result",
          "data": {
            "text/html": [
              "<div>\n",
              "<style scoped>\n",
              "    .dataframe tbody tr th:only-of-type {\n",
              "        vertical-align: middle;\n",
              "    }\n",
              "\n",
              "    .dataframe tbody tr th {\n",
              "        vertical-align: top;\n",
              "    }\n",
              "\n",
              "    .dataframe thead th {\n",
              "        text-align: right;\n",
              "    }\n",
              "</style>\n",
              "<table border=\"1\" class=\"dataframe\">\n",
              "  <thead>\n",
              "    <tr style=\"text-align: right;\">\n",
              "      <th></th>\n",
              "      <th>age</th>\n",
              "      <th>sex</th>\n",
              "      <th>bmi</th>\n",
              "      <th>children</th>\n",
              "      <th>smoker</th>\n",
              "      <th>region</th>\n",
              "    </tr>\n",
              "  </thead>\n",
              "  <tbody>\n",
              "    <tr>\n",
              "      <th>560</th>\n",
              "      <td>46</td>\n",
              "      <td>female</td>\n",
              "      <td>19.950</td>\n",
              "      <td>2</td>\n",
              "      <td>no</td>\n",
              "      <td>northwest</td>\n",
              "    </tr>\n",
              "    <tr>\n",
              "      <th>1285</th>\n",
              "      <td>47</td>\n",
              "      <td>female</td>\n",
              "      <td>24.320</td>\n",
              "      <td>0</td>\n",
              "      <td>no</td>\n",
              "      <td>northeast</td>\n",
              "    </tr>\n",
              "    <tr>\n",
              "      <th>1142</th>\n",
              "      <td>52</td>\n",
              "      <td>female</td>\n",
              "      <td>24.860</td>\n",
              "      <td>0</td>\n",
              "      <td>no</td>\n",
              "      <td>southeast</td>\n",
              "    </tr>\n",
              "    <tr>\n",
              "      <th>969</th>\n",
              "      <td>39</td>\n",
              "      <td>female</td>\n",
              "      <td>34.320</td>\n",
              "      <td>5</td>\n",
              "      <td>no</td>\n",
              "      <td>southeast</td>\n",
              "    </tr>\n",
              "    <tr>\n",
              "      <th>486</th>\n",
              "      <td>54</td>\n",
              "      <td>female</td>\n",
              "      <td>21.470</td>\n",
              "      <td>3</td>\n",
              "      <td>no</td>\n",
              "      <td>northwest</td>\n",
              "    </tr>\n",
              "    <tr>\n",
              "      <th>...</th>\n",
              "      <td>...</td>\n",
              "      <td>...</td>\n",
              "      <td>...</td>\n",
              "      <td>...</td>\n",
              "      <td>...</td>\n",
              "      <td>...</td>\n",
              "    </tr>\n",
              "    <tr>\n",
              "      <th>1095</th>\n",
              "      <td>18</td>\n",
              "      <td>female</td>\n",
              "      <td>31.350</td>\n",
              "      <td>4</td>\n",
              "      <td>no</td>\n",
              "      <td>northeast</td>\n",
              "    </tr>\n",
              "    <tr>\n",
              "      <th>1130</th>\n",
              "      <td>39</td>\n",
              "      <td>female</td>\n",
              "      <td>23.870</td>\n",
              "      <td>5</td>\n",
              "      <td>no</td>\n",
              "      <td>southeast</td>\n",
              "    </tr>\n",
              "    <tr>\n",
              "      <th>1294</th>\n",
              "      <td>58</td>\n",
              "      <td>male</td>\n",
              "      <td>25.175</td>\n",
              "      <td>0</td>\n",
              "      <td>no</td>\n",
              "      <td>northeast</td>\n",
              "    </tr>\n",
              "    <tr>\n",
              "      <th>860</th>\n",
              "      <td>37</td>\n",
              "      <td>female</td>\n",
              "      <td>47.600</td>\n",
              "      <td>2</td>\n",
              "      <td>yes</td>\n",
              "      <td>southwest</td>\n",
              "    </tr>\n",
              "    <tr>\n",
              "      <th>1126</th>\n",
              "      <td>55</td>\n",
              "      <td>male</td>\n",
              "      <td>29.900</td>\n",
              "      <td>0</td>\n",
              "      <td>no</td>\n",
              "      <td>southwest</td>\n",
              "    </tr>\n",
              "  </tbody>\n",
              "</table>\n",
              "<p>1070 rows × 6 columns</p>\n",
              "</div>"
            ],
            "text/plain": [
              "      age     sex     bmi  children smoker     region\n",
              "560    46  female  19.950         2     no  northwest\n",
              "1285   47  female  24.320         0     no  northeast\n",
              "1142   52  female  24.860         0     no  southeast\n",
              "969    39  female  34.320         5     no  southeast\n",
              "486    54  female  21.470         3     no  northwest\n",
              "...   ...     ...     ...       ...    ...        ...\n",
              "1095   18  female  31.350         4     no  northeast\n",
              "1130   39  female  23.870         5     no  southeast\n",
              "1294   58    male  25.175         0     no  northeast\n",
              "860    37  female  47.600         2    yes  southwest\n",
              "1126   55    male  29.900         0     no  southwest\n",
              "\n",
              "[1070 rows x 6 columns]"
            ]
          },
          "metadata": {
            "tags": []
          },
          "execution_count": 158
        }
      ]
    },
    {
      "cell_type": "code",
      "metadata": {
        "colab": {
          "base_uri": "https://localhost:8080/"
        },
        "id": "GEMIsySWG5Y_",
        "outputId": "245c5e50-2555-4a67-da5d-ad0045c8e2e9"
      },
      "source": [
        "col_tran.fit(xtrain)"
      ],
      "execution_count": null,
      "outputs": [
        {
          "output_type": "execute_result",
          "data": {
            "text/plain": [
              "ColumnTransformer(n_jobs=None, remainder='drop', sparse_threshold=0.3,\n",
              "                  transformer_weights=None,\n",
              "                  transformers=[('minmaxscaler',\n",
              "                                 MinMaxScaler(copy=True, feature_range=(0, 1)),\n",
              "                                 ['age', 'bmi', 'children']),\n",
              "                                ('onehotencoder',\n",
              "                                 OneHotEncoder(categories='auto', drop='first',\n",
              "                                               dtype=<class 'numpy.float64'>,\n",
              "                                               handle_unknown='error',\n",
              "                                               sparse=True),\n",
              "                                 ['sex', 'smoker', 'region'])],\n",
              "                  verbose=False)"
            ]
          },
          "metadata": {
            "tags": []
          },
          "execution_count": 161
        }
      ]
    },
    {
      "cell_type": "code",
      "metadata": {
        "id": "_HxPa3v7G_xe"
      },
      "source": [
        "xtrain_n = col_tran.transform(xtrain)\n",
        "xtest_n = col_tran.transform(xtest)"
      ],
      "execution_count": null,
      "outputs": []
    },
    {
      "cell_type": "code",
      "metadata": {
        "colab": {
          "base_uri": "https://localhost:8080/"
        },
        "id": "Vm9bRoWhHOIR",
        "outputId": "9fcd0f1a-2eca-49cf-cbe3-e8e83a9bc5ca"
      },
      "source": [
        "xtrain_n"
      ],
      "execution_count": null,
      "outputs": [
        {
          "output_type": "execute_result",
          "data": {
            "text/plain": [
              "array([[0.60869565, 0.10734463, 0.4       , ..., 1.        , 0.        ,\n",
              "        0.        ],\n",
              "       [0.63043478, 0.22491256, 0.        , ..., 0.        , 0.        ,\n",
              "        0.        ],\n",
              "       [0.73913043, 0.23944041, 0.        , ..., 0.        , 1.        ,\n",
              "        0.        ],\n",
              "       ...,\n",
              "       [0.86956522, 0.24791499, 0.        , ..., 0.        , 0.        ,\n",
              "        0.        ],\n",
              "       [0.41304348, 0.85122411, 0.4       , ..., 0.        , 0.        ,\n",
              "        1.        ],\n",
              "       [0.80434783, 0.37503363, 0.        , ..., 0.        , 0.        ,\n",
              "        1.        ]])"
            ]
          },
          "metadata": {
            "tags": []
          },
          "execution_count": 163
        }
      ]
    },
    {
      "cell_type": "code",
      "metadata": {
        "colab": {
          "base_uri": "https://localhost:8080/"
        },
        "id": "IQsUWoktHPtd",
        "outputId": "3bcdd724-9c89-4ae6-bf41-d817cba3f702"
      },
      "source": [
        "xtrain_n.shape, xtrain.shape"
      ],
      "execution_count": null,
      "outputs": [
        {
          "output_type": "execute_result",
          "data": {
            "text/plain": [
              "((1070, 8), (1070, 6))"
            ]
          },
          "metadata": {
            "tags": []
          },
          "execution_count": 164
        }
      ]
    },
    {
      "cell_type": "code",
      "metadata": {
        "colab": {
          "base_uri": "https://localhost:8080/"
        },
        "id": "VE_WcvO3HWBD",
        "outputId": "4efcd655-ed1d-41b6-acf2-5f9c5ca168bf"
      },
      "source": [
        "# Set random seed\n",
        "tf.random.set_seed(42)\n",
        "\n",
        "# 1. create a model\n",
        "insurance_model_8 = tf.keras.Sequential(\n",
        "    layers=[\n",
        "            tf.keras.layers.Dense(100, activation='relu'),\n",
        "            tf.keras.layers.Dense(50, activation='relu'),\n",
        "            tf.keras.layers.Dense(25),\n",
        "            tf.keras.layers.Dense(10, activation='relu'),\n",
        "            tf.keras.layers.Dense(1),\n",
        "    ]\n",
        ")\n",
        "\n",
        "# 2. Compile a model\n",
        "insurance_model_8.compile(loss=tf.keras.losses.mae,\n",
        "                          optimizer=tf.keras.optimizers.Adam(),\n",
        "                          metrics=[\"mse\"])\n",
        "\n",
        "\n",
        "# 3. Fit the model\n",
        "history_8 = insurance_model_8.fit(xtrain_n, ytrain, epochs=200)"
      ],
      "execution_count": null,
      "outputs": [
        {
          "output_type": "stream",
          "text": [
            "Epoch 1/200\n",
            "34/34 [==============================] - 0s 2ms/step - loss: 13297.9833 - mse: 318417888.0000\n",
            "Epoch 2/200\n",
            "34/34 [==============================] - 0s 2ms/step - loss: 12946.9012 - mse: 310273526.8571\n",
            "Epoch 3/200\n",
            "34/34 [==============================] - 0s 1ms/step - loss: 12617.2978 - mse: 293676115.2000\n",
            "Epoch 4/200\n",
            "34/34 [==============================] - 0s 2ms/step - loss: 12666.6932 - mse: 316863756.8000\n",
            "Epoch 5/200\n",
            "34/34 [==============================] - 0s 1ms/step - loss: 10315.0109 - mse: 238641473.8286\n",
            "Epoch 6/200\n",
            "34/34 [==============================] - 0s 1ms/step - loss: 7705.3198 - mse: 151958202.9714\n",
            "Epoch 7/200\n",
            "34/34 [==============================] - 0s 1ms/step - loss: 7355.6788 - mse: 121840457.8286\n",
            "Epoch 8/200\n",
            "34/34 [==============================] - 0s 2ms/step - loss: 7149.6325 - mse: 121451494.6286\n",
            "Epoch 9/200\n",
            "34/34 [==============================] - 0s 1ms/step - loss: 6848.7847 - mse: 109093255.7714\n",
            "Epoch 10/200\n",
            "34/34 [==============================] - 0s 2ms/step - loss: 6728.4059 - mse: 111434436.3429\n",
            "Epoch 11/200\n",
            "34/34 [==============================] - 0s 2ms/step - loss: 6455.7464 - mse: 101416339.6571\n",
            "Epoch 12/200\n",
            "34/34 [==============================] - 0s 2ms/step - loss: 5770.0695 - mse: 86448480.4571\n",
            "Epoch 13/200\n",
            "34/34 [==============================] - 0s 1ms/step - loss: 5388.2621 - mse: 79394236.3429\n",
            "Epoch 14/200\n",
            "34/34 [==============================] - 0s 1ms/step - loss: 4733.2921 - mse: 68077029.9429\n",
            "Epoch 15/200\n",
            "34/34 [==============================] - 0s 1ms/step - loss: 4427.6466 - mse: 64690312.4571\n",
            "Epoch 16/200\n",
            "34/34 [==============================] - 0s 2ms/step - loss: 4039.6329 - mse: 61407360.8000\n",
            "Epoch 17/200\n",
            "34/34 [==============================] - 0s 1ms/step - loss: 3458.0726 - mse: 49339000.1143\n",
            "Epoch 18/200\n",
            "34/34 [==============================] - 0s 1ms/step - loss: 3441.8340 - mse: 50955845.1429\n",
            "Epoch 19/200\n",
            "34/34 [==============================] - 0s 2ms/step - loss: 3518.7011 - mse: 47002088.3429\n",
            "Epoch 20/200\n",
            "34/34 [==============================] - 0s 1ms/step - loss: 3501.1526 - mse: 48893282.7429\n",
            "Epoch 21/200\n",
            "34/34 [==============================] - 0s 2ms/step - loss: 3243.7840 - mse: 42116361.3714\n",
            "Epoch 22/200\n",
            "34/34 [==============================] - 0s 1ms/step - loss: 3269.4796 - mse: 40452954.4000\n",
            "Epoch 23/200\n",
            "34/34 [==============================] - 0s 1ms/step - loss: 3473.3905 - mse: 44911582.2286\n",
            "Epoch 24/200\n",
            "34/34 [==============================] - 0s 1ms/step - loss: 3254.0383 - mse: 42261217.1429\n",
            "Epoch 25/200\n",
            "34/34 [==============================] - 0s 1ms/step - loss: 3762.5501 - mse: 47064239.2000\n",
            "Epoch 26/200\n",
            "34/34 [==============================] - 0s 1ms/step - loss: 3332.8285 - mse: 41374995.0286\n",
            "Epoch 27/200\n",
            "34/34 [==============================] - 0s 2ms/step - loss: 3601.1529 - mse: 46941665.4857\n",
            "Epoch 28/200\n",
            "34/34 [==============================] - 0s 2ms/step - loss: 3459.6486 - mse: 43979938.9714\n",
            "Epoch 29/200\n",
            "34/34 [==============================] - 0s 1ms/step - loss: 3188.3664 - mse: 40688667.1429\n",
            "Epoch 30/200\n",
            "34/34 [==============================] - 0s 2ms/step - loss: 3527.2970 - mse: 46449472.3429\n",
            "Epoch 31/200\n",
            "34/34 [==============================] - 0s 2ms/step - loss: 3350.4623 - mse: 44370648.4571\n",
            "Epoch 32/200\n",
            "34/34 [==============================] - 0s 2ms/step - loss: 3307.3401 - mse: 45664621.9429\n",
            "Epoch 33/200\n",
            "34/34 [==============================] - 0s 1ms/step - loss: 3408.9037 - mse: 49742945.1429\n",
            "Epoch 34/200\n",
            "34/34 [==============================] - 0s 2ms/step - loss: 3198.0356 - mse: 45987003.6571\n",
            "Epoch 35/200\n",
            "34/34 [==============================] - 0s 1ms/step - loss: 3351.0263 - mse: 49208000.0000\n",
            "Epoch 36/200\n",
            "34/34 [==============================] - 0s 1ms/step - loss: 3309.3035 - mse: 48568589.0286\n",
            "Epoch 37/200\n",
            "34/34 [==============================] - 0s 1ms/step - loss: 3405.4075 - mse: 51817970.9714\n",
            "Epoch 38/200\n",
            "34/34 [==============================] - 0s 1ms/step - loss: 3333.5470 - mse: 51879063.4286\n",
            "Epoch 39/200\n",
            "34/34 [==============================] - 0s 1ms/step - loss: 3375.8411 - mse: 50379122.4000\n",
            "Epoch 40/200\n",
            "34/34 [==============================] - 0s 1ms/step - loss: 3334.3145 - mse: 48954440.2286\n",
            "Epoch 41/200\n",
            "34/34 [==============================] - 0s 1ms/step - loss: 3031.3829 - mse: 45259917.6000\n",
            "Epoch 42/200\n",
            "34/34 [==============================] - 0s 2ms/step - loss: 3237.8725 - mse: 49099034.6286\n",
            "Epoch 43/200\n",
            "34/34 [==============================] - 0s 1ms/step - loss: 3332.1312 - mse: 50045803.5429\n",
            "Epoch 44/200\n",
            "34/34 [==============================] - 0s 2ms/step - loss: 3091.5608 - mse: 46127695.0857\n",
            "Epoch 45/200\n",
            "34/34 [==============================] - 0s 2ms/step - loss: 3160.1035 - mse: 46657661.9429\n",
            "Epoch 46/200\n",
            "34/34 [==============================] - 0s 2ms/step - loss: 3022.9864 - mse: 46590376.4000\n",
            "Epoch 47/200\n",
            "34/34 [==============================] - 0s 2ms/step - loss: 3328.3823 - mse: 50876519.3143\n",
            "Epoch 48/200\n",
            "34/34 [==============================] - 0s 1ms/step - loss: 3225.4354 - mse: 48474386.9714\n",
            "Epoch 49/200\n",
            "34/34 [==============================] - 0s 1ms/step - loss: 3545.5452 - mse: 53991657.7143\n",
            "Epoch 50/200\n",
            "34/34 [==============================] - 0s 2ms/step - loss: 3086.0784 - mse: 46549359.2000\n",
            "Epoch 51/200\n",
            "34/34 [==============================] - 0s 1ms/step - loss: 3074.0035 - mse: 46096924.6286\n",
            "Epoch 52/200\n",
            "34/34 [==============================] - 0s 1ms/step - loss: 3091.1573 - mse: 46857628.8000\n",
            "Epoch 53/200\n",
            "34/34 [==============================] - 0s 1ms/step - loss: 3186.8025 - mse: 48688669.2571\n",
            "Epoch 54/200\n",
            "34/34 [==============================] - 0s 2ms/step - loss: 3173.2186 - mse: 48763242.2000\n",
            "Epoch 55/200\n",
            "34/34 [==============================] - 0s 2ms/step - loss: 3279.4287 - mse: 48569447.6571\n",
            "Epoch 56/200\n",
            "34/34 [==============================] - 0s 2ms/step - loss: 3326.9126 - mse: 49942241.2571\n",
            "Epoch 57/200\n",
            "34/34 [==============================] - 0s 1ms/step - loss: 3329.3453 - mse: 51396460.1143\n",
            "Epoch 58/200\n",
            "34/34 [==============================] - 0s 1ms/step - loss: 3217.5735 - mse: 47803470.5143\n",
            "Epoch 59/200\n",
            "34/34 [==============================] - 0s 2ms/step - loss: 2758.6473 - mse: 40039558.6286\n",
            "Epoch 60/200\n",
            "34/34 [==============================] - 0s 2ms/step - loss: 3235.8448 - mse: 48996492.0000\n",
            "Epoch 61/200\n",
            "34/34 [==============================] - 0s 1ms/step - loss: 3138.3512 - mse: 46404565.3714\n",
            "Epoch 62/200\n",
            "34/34 [==============================] - 0s 1ms/step - loss: 3301.3021 - mse: 50033129.1429\n",
            "Epoch 63/200\n",
            "34/34 [==============================] - 0s 2ms/step - loss: 3131.7430 - mse: 47339872.2286\n",
            "Epoch 64/200\n",
            "34/34 [==============================] - 0s 1ms/step - loss: 3247.2727 - mse: 50192729.8286\n",
            "Epoch 65/200\n",
            "34/34 [==============================] - 0s 2ms/step - loss: 3185.0898 - mse: 47629328.0000\n",
            "Epoch 66/200\n",
            "34/34 [==============================] - 0s 2ms/step - loss: 3052.1426 - mse: 44915858.5143\n",
            "Epoch 67/200\n",
            "34/34 [==============================] - 0s 2ms/step - loss: 3263.9669 - mse: 50113625.8857\n",
            "Epoch 68/200\n",
            "34/34 [==============================] - 0s 1ms/step - loss: 3270.4992 - mse: 50112155.8857\n",
            "Epoch 69/200\n",
            "34/34 [==============================] - 0s 1ms/step - loss: 3139.0144 - mse: 46148043.5429\n",
            "Epoch 70/200\n",
            "34/34 [==============================] - 0s 2ms/step - loss: 2968.1623 - mse: 45142901.3714\n",
            "Epoch 71/200\n",
            "34/34 [==============================] - 0s 2ms/step - loss: 3177.8268 - mse: 46729819.2000\n",
            "Epoch 72/200\n",
            "34/34 [==============================] - 0s 1ms/step - loss: 3154.6323 - mse: 46921897.6571\n",
            "Epoch 73/200\n",
            "34/34 [==============================] - 0s 1ms/step - loss: 3407.9326 - mse: 51658712.9143\n",
            "Epoch 74/200\n",
            "34/34 [==============================] - 0s 1ms/step - loss: 3205.4432 - mse: 48175282.3429\n",
            "Epoch 75/200\n",
            "34/34 [==============================] - 0s 1ms/step - loss: 3270.7750 - mse: 48932638.1714\n",
            "Epoch 76/200\n",
            "34/34 [==============================] - 0s 2ms/step - loss: 2996.7292 - mse: 44895850.1143\n",
            "Epoch 77/200\n",
            "34/34 [==============================] - 0s 1ms/step - loss: 3269.6813 - mse: 48187974.2857\n",
            "Epoch 78/200\n",
            "34/34 [==============================] - 0s 2ms/step - loss: 3269.9088 - mse: 51006846.2857\n",
            "Epoch 79/200\n",
            "34/34 [==============================] - 0s 2ms/step - loss: 3248.3751 - mse: 49618712.4571\n",
            "Epoch 80/200\n",
            "34/34 [==============================] - 0s 1ms/step - loss: 2999.9135 - mse: 44823098.9714\n",
            "Epoch 81/200\n",
            "34/34 [==============================] - 0s 2ms/step - loss: 2981.7175 - mse: 44827445.3714\n",
            "Epoch 82/200\n",
            "34/34 [==============================] - 0s 2ms/step - loss: 3391.1828 - mse: 52407559.0857\n",
            "Epoch 83/200\n",
            "34/34 [==============================] - 0s 1ms/step - loss: 3073.9729 - mse: 46381370.5143\n",
            "Epoch 84/200\n",
            "34/34 [==============================] - 0s 2ms/step - loss: 2805.9623 - mse: 41138207.6571\n",
            "Epoch 85/200\n",
            "34/34 [==============================] - 0s 2ms/step - loss: 2912.4499 - mse: 42708259.8857\n",
            "Epoch 86/200\n",
            "34/34 [==============================] - 0s 1ms/step - loss: 3204.2489 - mse: 48159502.4000\n",
            "Epoch 87/200\n",
            "34/34 [==============================] - 0s 1ms/step - loss: 3092.4727 - mse: 45907457.2000\n",
            "Epoch 88/200\n",
            "34/34 [==============================] - 0s 1ms/step - loss: 3209.6793 - mse: 49018584.0000\n",
            "Epoch 89/200\n",
            "34/34 [==============================] - 0s 2ms/step - loss: 2978.2889 - mse: 44314439.5429\n",
            "Epoch 90/200\n",
            "34/34 [==============================] - 0s 2ms/step - loss: 3224.7699 - mse: 47222940.2286\n",
            "Epoch 91/200\n",
            "34/34 [==============================] - 0s 2ms/step - loss: 3196.9815 - mse: 47757314.6286\n",
            "Epoch 92/200\n",
            "34/34 [==============================] - 0s 1ms/step - loss: 3338.1188 - mse: 48968181.9429\n",
            "Epoch 93/200\n",
            "34/34 [==============================] - 0s 2ms/step - loss: 3295.3313 - mse: 48401936.6857\n",
            "Epoch 94/200\n",
            "34/34 [==============================] - 0s 2ms/step - loss: 3044.9057 - mse: 45419557.2571\n",
            "Epoch 95/200\n",
            "34/34 [==============================] - 0s 2ms/step - loss: 2964.7131 - mse: 42491523.3143\n",
            "Epoch 96/200\n",
            "34/34 [==============================] - 0s 2ms/step - loss: 2887.2877 - mse: 43049417.8286\n",
            "Epoch 97/200\n",
            "34/34 [==============================] - 0s 2ms/step - loss: 2945.5905 - mse: 43596727.6000\n",
            "Epoch 98/200\n",
            "34/34 [==============================] - 0s 2ms/step - loss: 3159.0705 - mse: 45993626.8571\n",
            "Epoch 99/200\n",
            "34/34 [==============================] - 0s 2ms/step - loss: 2823.4783 - mse: 41540808.9143\n",
            "Epoch 100/200\n",
            "34/34 [==============================] - 0s 2ms/step - loss: 2905.3476 - mse: 43164029.5429\n",
            "Epoch 101/200\n",
            "34/34 [==============================] - 0s 2ms/step - loss: 2865.3793 - mse: 42490740.5714\n",
            "Epoch 102/200\n",
            "34/34 [==============================] - 0s 1ms/step - loss: 3076.2472 - mse: 44986787.3143\n",
            "Epoch 103/200\n",
            "34/34 [==============================] - 0s 2ms/step - loss: 2769.3074 - mse: 39853109.2571\n",
            "Epoch 104/200\n",
            "34/34 [==============================] - 0s 1ms/step - loss: 3092.5951 - mse: 45925397.1429\n",
            "Epoch 105/200\n",
            "34/34 [==============================] - 0s 2ms/step - loss: 3126.1908 - mse: 46057680.1143\n",
            "Epoch 106/200\n",
            "34/34 [==============================] - 0s 2ms/step - loss: 3013.0256 - mse: 44663322.0571\n",
            "Epoch 107/200\n",
            "34/34 [==============================] - 0s 2ms/step - loss: 3226.8640 - mse: 48065603.8857\n",
            "Epoch 108/200\n",
            "34/34 [==============================] - 0s 1ms/step - loss: 3051.2815 - mse: 44469646.8000\n",
            "Epoch 109/200\n",
            "34/34 [==============================] - 0s 1ms/step - loss: 3036.1207 - mse: 44731954.2286\n",
            "Epoch 110/200\n",
            "34/34 [==============================] - 0s 2ms/step - loss: 3289.8003 - mse: 50263769.9429\n",
            "Epoch 111/200\n",
            "34/34 [==============================] - 0s 2ms/step - loss: 3410.2657 - mse: 51175680.1143\n",
            "Epoch 112/200\n",
            "34/34 [==============================] - 0s 2ms/step - loss: 2974.4709 - mse: 42710183.4857\n",
            "Epoch 113/200\n",
            "34/34 [==============================] - 0s 2ms/step - loss: 3070.4592 - mse: 45996022.9714\n",
            "Epoch 114/200\n",
            "34/34 [==============================] - 0s 1ms/step - loss: 3200.7545 - mse: 46983966.0571\n",
            "Epoch 115/200\n",
            "34/34 [==============================] - 0s 2ms/step - loss: 2951.5590 - mse: 42447878.2857\n",
            "Epoch 116/200\n",
            "34/34 [==============================] - 0s 1ms/step - loss: 3156.3874 - mse: 46552954.0571\n",
            "Epoch 117/200\n",
            "34/34 [==============================] - 0s 1ms/step - loss: 2986.2412 - mse: 44737278.0571\n",
            "Epoch 118/200\n",
            "34/34 [==============================] - 0s 1ms/step - loss: 2987.0514 - mse: 43270826.2857\n",
            "Epoch 119/200\n",
            "34/34 [==============================] - 0s 1ms/step - loss: 3116.6626 - mse: 45886154.2857\n",
            "Epoch 120/200\n",
            "34/34 [==============================] - 0s 2ms/step - loss: 3299.2511 - mse: 49491019.4286\n",
            "Epoch 121/200\n",
            "34/34 [==============================] - 0s 2ms/step - loss: 3203.7789 - mse: 46441723.0857\n",
            "Epoch 122/200\n",
            "34/34 [==============================] - 0s 2ms/step - loss: 3059.1251 - mse: 44138791.6571\n",
            "Epoch 123/200\n",
            "34/34 [==============================] - 0s 1ms/step - loss: 2949.3265 - mse: 43247394.1714\n",
            "Epoch 124/200\n",
            "34/34 [==============================] - 0s 2ms/step - loss: 2904.2624 - mse: 42025608.0000\n",
            "Epoch 125/200\n",
            "34/34 [==============================] - 0s 2ms/step - loss: 2978.0243 - mse: 42599785.6571\n",
            "Epoch 126/200\n",
            "34/34 [==============================] - 0s 1ms/step - loss: 3072.5258 - mse: 44563309.1429\n",
            "Epoch 127/200\n",
            "34/34 [==============================] - 0s 2ms/step - loss: 3015.4831 - mse: 43123282.6286\n",
            "Epoch 128/200\n",
            "34/34 [==============================] - 0s 2ms/step - loss: 3072.5512 - mse: 44906664.9143\n",
            "Epoch 129/200\n",
            "34/34 [==============================] - 0s 2ms/step - loss: 3049.3774 - mse: 44801592.3429\n",
            "Epoch 130/200\n",
            "34/34 [==============================] - 0s 1ms/step - loss: 3007.2821 - mse: 43759437.1429\n",
            "Epoch 131/200\n",
            "34/34 [==============================] - 0s 2ms/step - loss: 2723.2641 - mse: 39407972.6857\n",
            "Epoch 132/200\n",
            "34/34 [==============================] - 0s 2ms/step - loss: 3240.4970 - mse: 47796669.4857\n",
            "Epoch 133/200\n",
            "34/34 [==============================] - 0s 2ms/step - loss: 3027.6388 - mse: 42141363.5429\n",
            "Epoch 134/200\n",
            "34/34 [==============================] - 0s 1ms/step - loss: 3144.3242 - mse: 45166165.7714\n",
            "Epoch 135/200\n",
            "34/34 [==============================] - 0s 1ms/step - loss: 2876.2794 - mse: 40100952.8000\n",
            "Epoch 136/200\n",
            "34/34 [==============================] - 0s 2ms/step - loss: 3016.4716 - mse: 42816337.7143\n",
            "Epoch 137/200\n",
            "34/34 [==============================] - 0s 2ms/step - loss: 2764.6287 - mse: 39963555.2571\n",
            "Epoch 138/200\n",
            "34/34 [==============================] - 0s 2ms/step - loss: 3188.2698 - mse: 44529094.4000\n",
            "Epoch 139/200\n",
            "34/34 [==============================] - 0s 2ms/step - loss: 2782.2206 - mse: 39342484.9714\n",
            "Epoch 140/200\n",
            "34/34 [==============================] - 0s 2ms/step - loss: 3092.5211 - mse: 43668724.8000\n",
            "Epoch 141/200\n",
            "34/34 [==============================] - 0s 1ms/step - loss: 3330.7219 - mse: 47657371.4286\n",
            "Epoch 142/200\n",
            "34/34 [==============================] - 0s 2ms/step - loss: 2909.2380 - mse: 41306336.0000\n",
            "Epoch 143/200\n",
            "34/34 [==============================] - 0s 2ms/step - loss: 2790.7284 - mse: 39144548.6857\n",
            "Epoch 144/200\n",
            "34/34 [==============================] - 0s 2ms/step - loss: 3035.5487 - mse: 41045088.8000\n",
            "Epoch 145/200\n",
            "34/34 [==============================] - 0s 2ms/step - loss: 3178.0717 - mse: 46628724.3429\n",
            "Epoch 146/200\n",
            "34/34 [==============================] - 0s 2ms/step - loss: 2969.1603 - mse: 41500701.4857\n",
            "Epoch 147/200\n",
            "34/34 [==============================] - 0s 2ms/step - loss: 3078.4113 - mse: 42889400.5714\n",
            "Epoch 148/200\n",
            "34/34 [==============================] - 0s 2ms/step - loss: 2996.8028 - mse: 42626472.8000\n",
            "Epoch 149/200\n",
            "34/34 [==============================] - 0s 2ms/step - loss: 2688.7427 - mse: 38467743.8857\n",
            "Epoch 150/200\n",
            "34/34 [==============================] - 0s 1ms/step - loss: 3037.1042 - mse: 42420309.2571\n",
            "Epoch 151/200\n",
            "34/34 [==============================] - 0s 2ms/step - loss: 2896.8129 - mse: 40679805.7143\n",
            "Epoch 152/200\n",
            "34/34 [==============================] - 0s 2ms/step - loss: 2828.3652 - mse: 39755939.5429\n",
            "Epoch 153/200\n",
            "34/34 [==============================] - 0s 2ms/step - loss: 2744.8584 - mse: 37765827.3143\n",
            "Epoch 154/200\n",
            "34/34 [==============================] - 0s 2ms/step - loss: 2968.9944 - mse: 42036363.3143\n",
            "Epoch 155/200\n",
            "34/34 [==============================] - 0s 2ms/step - loss: 2756.2682 - mse: 37857346.0571\n",
            "Epoch 156/200\n",
            "34/34 [==============================] - 0s 1ms/step - loss: 2707.8928 - mse: 37734564.3143\n",
            "Epoch 157/200\n",
            "34/34 [==============================] - 0s 2ms/step - loss: 2606.1357 - mse: 35914888.9143\n",
            "Epoch 158/200\n",
            "34/34 [==============================] - 0s 2ms/step - loss: 2881.8750 - mse: 40187054.1714\n",
            "Epoch 159/200\n",
            "34/34 [==============================] - 0s 2ms/step - loss: 2701.3741 - mse: 37409712.9143\n",
            "Epoch 160/200\n",
            "34/34 [==============================] - 0s 2ms/step - loss: 2794.1941 - mse: 38927712.3429\n",
            "Epoch 161/200\n",
            "34/34 [==============================] - 0s 2ms/step - loss: 2726.9317 - mse: 37675559.8286\n",
            "Epoch 162/200\n",
            "34/34 [==============================] - 0s 2ms/step - loss: 2740.6403 - mse: 38888931.5429\n",
            "Epoch 163/200\n",
            "34/34 [==============================] - 0s 2ms/step - loss: 2651.0702 - mse: 35210249.0857\n",
            "Epoch 164/200\n",
            "34/34 [==============================] - 0s 2ms/step - loss: 2702.7975 - mse: 36613257.4286\n",
            "Epoch 165/200\n",
            "34/34 [==============================] - 0s 2ms/step - loss: 2528.0797 - mse: 33433524.6857\n",
            "Epoch 166/200\n",
            "34/34 [==============================] - 0s 2ms/step - loss: 2794.7434 - mse: 37136766.4000\n",
            "Epoch 167/200\n",
            "34/34 [==============================] - 0s 2ms/step - loss: 2854.0950 - mse: 40004254.0571\n",
            "Epoch 168/200\n",
            "34/34 [==============================] - 0s 2ms/step - loss: 2857.2138 - mse: 37762141.7714\n",
            "Epoch 169/200\n",
            "34/34 [==============================] - 0s 2ms/step - loss: 2597.2298 - mse: 34281214.1714\n",
            "Epoch 170/200\n",
            "34/34 [==============================] - 0s 2ms/step - loss: 2847.1845 - mse: 39494243.7714\n",
            "Epoch 171/200\n",
            "34/34 [==============================] - 0s 2ms/step - loss: 2636.4803 - mse: 34521272.2286\n",
            "Epoch 172/200\n",
            "34/34 [==============================] - 0s 2ms/step - loss: 2744.6341 - mse: 37347668.4571\n",
            "Epoch 173/200\n",
            "34/34 [==============================] - 0s 2ms/step - loss: 2770.5554 - mse: 39100724.6857\n",
            "Epoch 174/200\n",
            "34/34 [==============================] - 0s 2ms/step - loss: 2534.9857 - mse: 33970625.5429\n",
            "Epoch 175/200\n",
            "34/34 [==============================] - 0s 2ms/step - loss: 2712.8147 - mse: 35165152.4000\n",
            "Epoch 176/200\n",
            "34/34 [==============================] - 0s 2ms/step - loss: 2632.5622 - mse: 34936994.8571\n",
            "Epoch 177/200\n",
            "34/34 [==============================] - 0s 1ms/step - loss: 2618.9866 - mse: 34610703.9429\n",
            "Epoch 178/200\n",
            "34/34 [==============================] - 0s 2ms/step - loss: 2732.2324 - mse: 35862158.1143\n",
            "Epoch 179/200\n",
            "34/34 [==============================] - 0s 2ms/step - loss: 2414.7673 - mse: 31443263.2000\n",
            "Epoch 180/200\n",
            "34/34 [==============================] - 0s 2ms/step - loss: 2756.1481 - mse: 37033774.1143\n",
            "Epoch 181/200\n",
            "34/34 [==============================] - 0s 2ms/step - loss: 2749.2495 - mse: 35558036.6286\n",
            "Epoch 182/200\n",
            "34/34 [==============================] - 0s 2ms/step - loss: 2576.0044 - mse: 33406250.6857\n",
            "Epoch 183/200\n",
            "34/34 [==============================] - 0s 2ms/step - loss: 2395.2501 - mse: 30808013.4857\n",
            "Epoch 184/200\n",
            "34/34 [==============================] - 0s 1ms/step - loss: 2316.5762 - mse: 29548188.0571\n",
            "Epoch 185/200\n",
            "34/34 [==============================] - 0s 2ms/step - loss: 2346.0441 - mse: 29474833.6571\n",
            "Epoch 186/200\n",
            "34/34 [==============================] - 0s 2ms/step - loss: 2589.3689 - mse: 32184101.4857\n",
            "Epoch 187/200\n",
            "34/34 [==============================] - 0s 2ms/step - loss: 2639.7426 - mse: 34579663.2000\n",
            "Epoch 188/200\n",
            "34/34 [==============================] - 0s 2ms/step - loss: 2479.5990 - mse: 30741704.7429\n",
            "Epoch 189/200\n",
            "34/34 [==============================] - 0s 2ms/step - loss: 2276.3291 - mse: 29409422.7714\n",
            "Epoch 190/200\n",
            "34/34 [==============================] - 0s 2ms/step - loss: 2476.0638 - mse: 31798215.3143\n",
            "Epoch 191/200\n",
            "34/34 [==============================] - 0s 2ms/step - loss: 2343.3500 - mse: 30165419.7000\n",
            "Epoch 192/200\n",
            "34/34 [==============================] - 0s 1ms/step - loss: 2311.1678 - mse: 28475909.6000\n",
            "Epoch 193/200\n",
            "34/34 [==============================] - 0s 1ms/step - loss: 2278.2470 - mse: 28057676.6857\n",
            "Epoch 194/200\n",
            "34/34 [==============================] - 0s 2ms/step - loss: 2511.7893 - mse: 31371852.2286\n",
            "Epoch 195/200\n",
            "34/34 [==============================] - 0s 2ms/step - loss: 2142.2153 - mse: 25374856.8857\n",
            "Epoch 196/200\n",
            "34/34 [==============================] - 0s 2ms/step - loss: 2301.5916 - mse: 28362711.3143\n",
            "Epoch 197/200\n",
            "34/34 [==============================] - 0s 1ms/step - loss: 2581.2024 - mse: 32560835.6000\n",
            "Epoch 198/200\n",
            "34/34 [==============================] - 0s 2ms/step - loss: 2239.9941 - mse: 29017822.5143\n",
            "Epoch 199/200\n",
            "34/34 [==============================] - 0s 2ms/step - loss: 2390.1423 - mse: 29638800.4000\n",
            "Epoch 200/200\n",
            "34/34 [==============================] - 0s 1ms/step - loss: 2568.2091 - mse: 33827722.2857\n"
          ],
          "name": "stdout"
        }
      ]
    },
    {
      "cell_type": "code",
      "metadata": {
        "colab": {
          "base_uri": "https://localhost:8080/",
          "height": 580
        },
        "id": "Mc0rKM7iHri2",
        "outputId": "14c4df5a-84d2-4671-d609-22554a30834e"
      },
      "source": [
        "pd.DataFrame(history_7.history).plot()\n",
        "plt.ylabel(\"Loss and MSE\")\n",
        "plt.xlabel(\"Epochs Experiment 7\")\n",
        "pd.DataFrame(history_8.history).plot()\n",
        "plt.ylabel(\"Loss and MSE\")\n",
        "plt.xlabel(\"Epochs  Experiment 8\")"
      ],
      "execution_count": null,
      "outputs": [
        {
          "output_type": "execute_result",
          "data": {
            "text/plain": [
              "Text(0.5, 0, 'Epochs  Experiment 8')"
            ]
          },
          "metadata": {
            "tags": []
          },
          "execution_count": 166
        },
        {
          "output_type": "display_data",
          "data": {
            "image/png": "[encoded data removed]",
            "text/plain": [
              "<Figure size 432x288 with 1 Axes>"
            ]
          },
          "metadata": {
            "tags": [],
            "needs_background": "light"
          }
        },
        {
          "output_type": "display_data",
          "data": {
            "image/png": "[encoded data removed]",
            "text/plain": [
              "<Figure size 432x288 with 1 Axes>"
            ]
          },
          "metadata": {
            "tags": [],
            "needs_background": "light"
          }
        }
      ]
    },
    {
      "cell_type": "code",
      "metadata": {
        "colab": {
          "base_uri": "https://localhost:8080/"
        },
        "id": "KRt-DMmmH0vS",
        "outputId": "7923a91b-fc04-48f6-e4c9-b1e9300902ba"
      },
      "source": [
        "insurance_model_7.evaluate(X_test_normal, y_test)"
      ],
      "execution_count": null,
      "outputs": [
        {
          "output_type": "stream",
          "text": [
            "9/9 [==============================] - 0s 2ms/step - loss: 1776.2266 - mse: 21049296.0000\n"
          ],
          "name": "stdout"
        },
        {
          "output_type": "execute_result",
          "data": {
            "text/plain": [
              "[1776.2265625, 21049296.0]"
            ]
          },
          "metadata": {
            "tags": []
          },
          "execution_count": 167
        }
      ]
    },
    {
      "cell_type": "code",
      "metadata": {
        "colab": {
          "base_uri": "https://localhost:8080/"
        },
        "id": "2yT4TtelH8oZ",
        "outputId": "8b81d3ef-1406-4c36-9cab-5f187f690e6d"
      },
      "source": [
        "insurance_model_8.evaluate(xtest_n, ytest)"
      ],
      "execution_count": null,
      "outputs": [
        {
          "output_type": "stream",
          "text": [
            "9/9 [==============================] - 0s 2ms/step - loss: 2124.8059 - mse: 24359710.0000\n"
          ],
          "name": "stdout"
        },
        {
          "output_type": "execute_result",
          "data": {
            "text/plain": [
              "[2124.805908203125, 24359710.0]"
            ]
          },
          "metadata": {
            "tags": []
          },
          "execution_count": 168
        }
      ]
    }
  ]
}